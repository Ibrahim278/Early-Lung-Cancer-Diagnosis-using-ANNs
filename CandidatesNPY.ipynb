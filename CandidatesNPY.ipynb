{
 "cells": [
  {
   "cell_type": "code",
   "execution_count": 1,
   "id": "82c2e9be",
   "metadata": {},
   "outputs": [],
   "source": [
    "from __future__ import print_function, division\n",
    "import SimpleITK as sitk\n",
    "import numpy as np\n",
    "import os\n",
    "from glob import glob\n",
    "import pandas as pd\n",
    "from tqdm import tqdm\n",
    "import numpy as np\n",
    "from load_tools import get_cube_from_img, load_itk_version2"
   ]
  },
  {
   "cell_type": "code",
   "execution_count": 19,
   "id": "872e58ad",
   "metadata": {},
   "outputs": [
    {
     "name": "stdout",
     "output_type": "stream",
     "text": [
      "Loaded CSV with 754975 entries.\n",
      "Sample seriesuid from CSV: 0    1.3.6.1.4.1.14519.5.2.1.6279.6001.100225287222...\n",
      "1    1.3.6.1.4.1.14519.5.2.1.6279.6001.100225287222...\n",
      "2    1.3.6.1.4.1.14519.5.2.1.6279.6001.100225287222...\n",
      "3    1.3.6.1.4.1.14519.5.2.1.6279.6001.100225287222...\n",
      "4    1.3.6.1.4.1.14519.5.2.1.6279.6001.100225287222...\n",
      "Name: seriesuid, dtype: object\n",
      "Total .mhd files found: 888\n",
      "Sample file paths: ['LUNA16/Dataset/subset0/1.3.6.1.4.1.14519.5.2.1.6279.6001.430109407146633213496148200410.mhd', 'LUNA16/Dataset/subset0/1.3.6.1.4.1.14519.5.2.1.6279.6001.621916089407825046337959219998.mhd', 'LUNA16/Dataset/subset0/1.3.6.1.4.1.14519.5.2.1.6279.6001.238522526736091851696274044574.mhd', 'LUNA16/Dataset/subset0/1.3.6.1.4.1.14519.5.2.1.6279.6001.194440094986948071643661798326.mhd', 'LUNA16/Dataset/subset0/1.3.6.1.4.1.14519.5.2.1.6279.6001.219909753224298157409438012179.mhd']\n"
     ]
    },
    {
     "name": "stderr",
     "output_type": "stream",
     "text": [
      "\r",
      "  0%|                                                   | 0/888 [00:00<?, ?it/s]"
     ]
    },
    {
     "name": "stdout",
     "output_type": "stream",
     "text": [
      "\n",
      "Processing file: LUNA16/Dataset/subset0/1.3.6.1.4.1.14519.5.2.1.6279.6001.430109407146633213496148200410.mhd\n",
      "SeriesUID for current file: 1.3.6.1.4.1.14519.5.2.1.6279.6001.430109407146633213496148200410\n",
      "Found 1055 nodes for seriesuid: 1.3.6.1.4.1.14519.5.2.1.6279.6001.430109407146633213496148200410\n",
      "Image array shape: (733, 512, 512)\n",
      "Output path for .npy file: LUNA16/Luna Output/subset0/1.3.6.1.4.1.14519.5.2.1.6279.6001.430109407146633213496148200410.npy\n"
     ]
    },
    {
     "name": "stderr",
     "output_type": "stream",
     "text": [
      "  0%|                                           | 2/888 [00:01<07:39,  1.93it/s]"
     ]
    },
    {
     "name": "stdout",
     "output_type": "stream",
     "text": [
      "Saved: LUNA16/Luna Output/subset0/1.3.6.1.4.1.14519.5.2.1.6279.6001.430109407146633213496148200410.npy\n",
      "\n",
      "Processing file: LUNA16/Dataset/subset0/1.3.6.1.4.1.14519.5.2.1.6279.6001.621916089407825046337959219998.mhd\n",
      "SeriesUID for current file: 1.3.6.1.4.1.14519.5.2.1.6279.6001.621916089407825046337959219998\n",
      "Found 1033 nodes for seriesuid: 1.3.6.1.4.1.14519.5.2.1.6279.6001.621916089407825046337959219998\n",
      "Image array shape: (133, 512, 512)\n",
      "Output path for .npy file: LUNA16/Luna Output/subset0/1.3.6.1.4.1.14519.5.2.1.6279.6001.621916089407825046337959219998.npy\n",
      "Saved: LUNA16/Luna Output/subset0/1.3.6.1.4.1.14519.5.2.1.6279.6001.621916089407825046337959219998.npy\n",
      "\n",
      "Processing file: LUNA16/Dataset/subset0/1.3.6.1.4.1.14519.5.2.1.6279.6001.238522526736091851696274044574.mhd\n",
      "SeriesUID for current file: 1.3.6.1.4.1.14519.5.2.1.6279.6001.238522526736091851696274044574\n",
      "Found 352 nodes for seriesuid: 1.3.6.1.4.1.14519.5.2.1.6279.6001.238522526736091851696274044574\n"
     ]
    },
    {
     "name": "stderr",
     "output_type": "stream",
     "text": [
      "\r",
      "  0%|▏                                          | 3/888 [00:01<05:15,  2.81it/s]"
     ]
    },
    {
     "name": "stdout",
     "output_type": "stream",
     "text": [
      "Image array shape: (183, 512, 512)\n",
      "Output path for .npy file: LUNA16/Luna Output/subset0/1.3.6.1.4.1.14519.5.2.1.6279.6001.238522526736091851696274044574.npy\n",
      "Saved: LUNA16/Luna Output/subset0/1.3.6.1.4.1.14519.5.2.1.6279.6001.238522526736091851696274044574.npy\n",
      "\n",
      "Processing file: LUNA16/Dataset/subset0/1.3.6.1.4.1.14519.5.2.1.6279.6001.194440094986948071643661798326.mhd\n",
      "SeriesUID for current file: 1.3.6.1.4.1.14519.5.2.1.6279.6001.194440094986948071643661798326\n",
      "Found 837 nodes for seriesuid: 1.3.6.1.4.1.14519.5.2.1.6279.6001.194440094986948071643661798326\n",
      "Image array shape: (195, 512, 512)\n",
      "Output path for .npy file: LUNA16/Luna Output/subset0/1.3.6.1.4.1.14519.5.2.1.6279.6001.194440094986948071643661798326.npy\n"
     ]
    },
    {
     "name": "stderr",
     "output_type": "stream",
     "text": [
      "  1%|▏                                          | 5/888 [00:01<03:17,  4.47it/s]"
     ]
    },
    {
     "name": "stdout",
     "output_type": "stream",
     "text": [
      "Saved: LUNA16/Luna Output/subset0/1.3.6.1.4.1.14519.5.2.1.6279.6001.194440094986948071643661798326.npy\n",
      "\n",
      "Processing file: LUNA16/Dataset/subset0/1.3.6.1.4.1.14519.5.2.1.6279.6001.219909753224298157409438012179.mhd\n",
      "SeriesUID for current file: 1.3.6.1.4.1.14519.5.2.1.6279.6001.219909753224298157409438012179\n",
      "Found 1094 nodes for seriesuid: 1.3.6.1.4.1.14519.5.2.1.6279.6001.219909753224298157409438012179\n",
      "Image array shape: (141, 512, 512)\n",
      "Output path for .npy file: LUNA16/Luna Output/subset0/1.3.6.1.4.1.14519.5.2.1.6279.6001.219909753224298157409438012179.npy\n",
      "Saved: LUNA16/Luna Output/subset0/1.3.6.1.4.1.14519.5.2.1.6279.6001.219909753224298157409438012179.npy\n",
      "\n",
      "Processing file: LUNA16/Dataset/subset0/1.3.6.1.4.1.14519.5.2.1.6279.6001.313334055029671473836954456733.mhd\n",
      "SeriesUID for current file: 1.3.6.1.4.1.14519.5.2.1.6279.6001.313334055029671473836954456733\n",
      "Found 1095 nodes for seriesuid: 1.3.6.1.4.1.14519.5.2.1.6279.6001.313334055029671473836954456733\n",
      "Image array shape: (123, 512, 512)\n",
      "Output path for .npy file: LUNA16/Luna Output/subset0/1.3.6.1.4.1.14519.5.2.1.6279.6001.313334055029671473836954456733.npy\n"
     ]
    },
    {
     "name": "stderr",
     "output_type": "stream",
     "text": [
      "  1%|▎                                          | 7/888 [00:01<02:26,  6.01it/s]"
     ]
    },
    {
     "name": "stdout",
     "output_type": "stream",
     "text": [
      "Saved: LUNA16/Luna Output/subset0/1.3.6.1.4.1.14519.5.2.1.6279.6001.313334055029671473836954456733.npy\n",
      "\n",
      "Processing file: LUNA16/Dataset/subset0/1.3.6.1.4.1.14519.5.2.1.6279.6001.323302986710576400812869264321.mhd\n",
      "SeriesUID for current file: 1.3.6.1.4.1.14519.5.2.1.6279.6001.323302986710576400812869264321\n",
      "Found 883 nodes for seriesuid: 1.3.6.1.4.1.14519.5.2.1.6279.6001.323302986710576400812869264321\n",
      "Image array shape: (157, 512, 512)\n",
      "Output path for .npy file: LUNA16/Luna Output/subset0/1.3.6.1.4.1.14519.5.2.1.6279.6001.323302986710576400812869264321.npy\n",
      "Saved: LUNA16/Luna Output/subset0/1.3.6.1.4.1.14519.5.2.1.6279.6001.323302986710576400812869264321.npy\n",
      "\n",
      "Processing file: LUNA16/Dataset/subset0/1.3.6.1.4.1.14519.5.2.1.6279.6001.868211851413924881662621747734.mhd\n",
      "SeriesUID for current file: 1.3.6.1.4.1.14519.5.2.1.6279.6001.868211851413924881662621747734\n",
      "Found 978 nodes for seriesuid: 1.3.6.1.4.1.14519.5.2.1.6279.6001.868211851413924881662621747734\n"
     ]
    },
    {
     "name": "stderr",
     "output_type": "stream",
     "text": [
      "\r",
      "  1%|▍                                          | 8/888 [00:02<02:58,  4.93it/s]"
     ]
    },
    {
     "name": "stdout",
     "output_type": "stream",
     "text": [
      "Image array shape: (246, 512, 512)\n",
      "Output path for .npy file: LUNA16/Luna Output/subset0/1.3.6.1.4.1.14519.5.2.1.6279.6001.868211851413924881662621747734.npy\n",
      "Saved: LUNA16/Luna Output/subset0/1.3.6.1.4.1.14519.5.2.1.6279.6001.868211851413924881662621747734.npy\n",
      "\n",
      "Processing file: LUNA16/Dataset/subset0/1.3.6.1.4.1.14519.5.2.1.6279.6001.129055977637338639741695800950.mhd\n",
      "SeriesUID for current file: 1.3.6.1.4.1.14519.5.2.1.6279.6001.129055977637338639741695800950\n",
      "Found 961 nodes for seriesuid: 1.3.6.1.4.1.14519.5.2.1.6279.6001.129055977637338639741695800950\n",
      "Image array shape: (483, 512, 512)\n",
      "Output path for .npy file: LUNA16/Luna Output/subset0/1.3.6.1.4.1.14519.5.2.1.6279.6001.129055977637338639741695800950.npy\n"
     ]
    },
    {
     "name": "stderr",
     "output_type": "stream",
     "text": [
      "  1%|▍                                         | 10/888 [00:02<04:08,  3.54it/s]"
     ]
    },
    {
     "name": "stdout",
     "output_type": "stream",
     "text": [
      "Saved: LUNA16/Luna Output/subset0/1.3.6.1.4.1.14519.5.2.1.6279.6001.129055977637338639741695800950.npy\n",
      "\n",
      "Processing file: LUNA16/Dataset/subset0/1.3.6.1.4.1.14519.5.2.1.6279.6001.295420274214095686326263147663.mhd\n",
      "SeriesUID for current file: 1.3.6.1.4.1.14519.5.2.1.6279.6001.295420274214095686326263147663\n",
      "Found 1252 nodes for seriesuid: 1.3.6.1.4.1.14519.5.2.1.6279.6001.295420274214095686326263147663\n",
      "Image array shape: (244, 512, 512)\n",
      "Output path for .npy file: LUNA16/Luna Output/subset0/1.3.6.1.4.1.14519.5.2.1.6279.6001.295420274214095686326263147663.npy\n",
      "Saved: LUNA16/Luna Output/subset0/1.3.6.1.4.1.14519.5.2.1.6279.6001.295420274214095686326263147663.npy\n",
      "\n",
      "Processing file: LUNA16/Dataset/subset0/1.3.6.1.4.1.14519.5.2.1.6279.6001.525937963993475482158828421281.mhd\n",
      "SeriesUID for current file: 1.3.6.1.4.1.14519.5.2.1.6279.6001.525937963993475482158828421281\n",
      "Found 1204 nodes for seriesuid: 1.3.6.1.4.1.14519.5.2.1.6279.6001.525937963993475482158828421281\n"
     ]
    },
    {
     "name": "stderr",
     "output_type": "stream",
     "text": [
      "\r",
      "  1%|▌                                         | 11/888 [00:03<04:59,  2.93it/s]"
     ]
    },
    {
     "name": "stdout",
     "output_type": "stream",
     "text": [
      "Image array shape: (516, 512, 512)\n",
      "Output path for .npy file: LUNA16/Luna Output/subset0/1.3.6.1.4.1.14519.5.2.1.6279.6001.525937963993475482158828421281.npy\n",
      "Saved: LUNA16/Luna Output/subset0/1.3.6.1.4.1.14519.5.2.1.6279.6001.525937963993475482158828421281.npy\n",
      "\n",
      "Processing file: LUNA16/Dataset/subset0/1.3.6.1.4.1.14519.5.2.1.6279.6001.137763212752154081977261297097.mhd\n",
      "SeriesUID for current file: 1.3.6.1.4.1.14519.5.2.1.6279.6001.137763212752154081977261297097\n"
     ]
    },
    {
     "name": "stderr",
     "output_type": "stream",
     "text": [
      "\r",
      "  1%|▌                                         | 12/888 [00:03<04:17,  3.40it/s]"
     ]
    },
    {
     "name": "stdout",
     "output_type": "stream",
     "text": [
      "Found 705 nodes for seriesuid: 1.3.6.1.4.1.14519.5.2.1.6279.6001.137763212752154081977261297097\n",
      "Image array shape: (246, 512, 512)\n",
      "Output path for .npy file: LUNA16/Luna Output/subset0/1.3.6.1.4.1.14519.5.2.1.6279.6001.137763212752154081977261297097.npy\n",
      "Saved: LUNA16/Luna Output/subset0/1.3.6.1.4.1.14519.5.2.1.6279.6001.137763212752154081977261297097.npy\n",
      "\n",
      "Processing file: LUNA16/Dataset/subset0/1.3.6.1.4.1.14519.5.2.1.6279.6001.311981398931043315779172047718.mhd\n",
      "SeriesUID for current file: 1.3.6.1.4.1.14519.5.2.1.6279.6001.311981398931043315779172047718\n",
      "Found 983 nodes for seriesuid: 1.3.6.1.4.1.14519.5.2.1.6279.6001.311981398931043315779172047718\n"
     ]
    },
    {
     "name": "stderr",
     "output_type": "stream",
     "text": [
      "\r",
      "  1%|▌                                         | 13/888 [00:03<03:38,  4.00it/s]"
     ]
    },
    {
     "name": "stdout",
     "output_type": "stream",
     "text": [
      "Image array shape: (151, 512, 512)\n",
      "Output path for .npy file: LUNA16/Luna Output/subset0/1.3.6.1.4.1.14519.5.2.1.6279.6001.311981398931043315779172047718.npy\n",
      "Saved: LUNA16/Luna Output/subset0/1.3.6.1.4.1.14519.5.2.1.6279.6001.311981398931043315779172047718.npy\n",
      "\n",
      "Processing file: LUNA16/Dataset/subset0/1.3.6.1.4.1.14519.5.2.1.6279.6001.826812708000318290301835871780.mhd\n",
      "SeriesUID for current file: 1.3.6.1.4.1.14519.5.2.1.6279.6001.826812708000318290301835871780\n",
      "Found 816 nodes for seriesuid: 1.3.6.1.4.1.14519.5.2.1.6279.6001.826812708000318290301835871780\n"
     ]
    },
    {
     "name": "stderr",
     "output_type": "stream",
     "text": [
      "\r",
      "  2%|▋                                         | 14/888 [00:04<04:10,  3.48it/s]"
     ]
    },
    {
     "name": "stdout",
     "output_type": "stream",
     "text": [
      "Image array shape: (404, 512, 512)\n",
      "Output path for .npy file: LUNA16/Luna Output/subset0/1.3.6.1.4.1.14519.5.2.1.6279.6001.826812708000318290301835871780.npy\n",
      "Saved: LUNA16/Luna Output/subset0/1.3.6.1.4.1.14519.5.2.1.6279.6001.826812708000318290301835871780.npy\n",
      "\n",
      "Processing file: LUNA16/Dataset/subset0/1.3.6.1.4.1.14519.5.2.1.6279.6001.188376349804761988217597754952.mhd\n",
      "SeriesUID for current file: 1.3.6.1.4.1.14519.5.2.1.6279.6001.188376349804761988217597754952\n",
      "Found 859 nodes for seriesuid: 1.3.6.1.4.1.14519.5.2.1.6279.6001.188376349804761988217597754952\n"
     ]
    },
    {
     "name": "stderr",
     "output_type": "stream",
     "text": [
      "  2%|▊                                         | 16/888 [00:04<03:04,  4.74it/s]"
     ]
    },
    {
     "name": "stdout",
     "output_type": "stream",
     "text": [
      "Image array shape: (245, 512, 512)\n",
      "Output path for .npy file: LUNA16/Luna Output/subset0/1.3.6.1.4.1.14519.5.2.1.6279.6001.188376349804761988217597754952.npy\n",
      "Saved: LUNA16/Luna Output/subset0/1.3.6.1.4.1.14519.5.2.1.6279.6001.188376349804761988217597754952.npy\n",
      "\n",
      "Processing file: LUNA16/Dataset/subset0/1.3.6.1.4.1.14519.5.2.1.6279.6001.752756872840730509471096155114.mhd\n",
      "SeriesUID for current file: 1.3.6.1.4.1.14519.5.2.1.6279.6001.752756872840730509471096155114\n",
      "Found 1087 nodes for seriesuid: 1.3.6.1.4.1.14519.5.2.1.6279.6001.752756872840730509471096155114\n",
      "Image array shape: (127, 512, 512)\n",
      "Output path for .npy file: LUNA16/Luna Output/subset0/1.3.6.1.4.1.14519.5.2.1.6279.6001.752756872840730509471096155114.npy\n",
      "Saved: LUNA16/Luna Output/subset0/1.3.6.1.4.1.14519.5.2.1.6279.6001.752756872840730509471096155114.npy\n",
      "\n",
      "Processing file: LUNA16/Dataset/subset0/1.3.6.1.4.1.14519.5.2.1.6279.6001.294188507421106424248264912111.mhd\n",
      "SeriesUID for current file: 1.3.6.1.4.1.14519.5.2.1.6279.6001.294188507421106424248264912111\n"
     ]
    },
    {
     "name": "stderr",
     "output_type": "stream",
     "text": [
      "\r",
      "  2%|▊                                         | 17/888 [00:04<03:02,  4.77it/s]"
     ]
    },
    {
     "name": "stdout",
     "output_type": "stream",
     "text": [
      "Found 958 nodes for seriesuid: 1.3.6.1.4.1.14519.5.2.1.6279.6001.294188507421106424248264912111\n",
      "Image array shape: (250, 512, 512)\n",
      "Output path for .npy file: LUNA16/Luna Output/subset0/1.3.6.1.4.1.14519.5.2.1.6279.6001.294188507421106424248264912111.npy\n",
      "Saved: LUNA16/Luna Output/subset0/1.3.6.1.4.1.14519.5.2.1.6279.6001.294188507421106424248264912111.npy\n",
      "\n",
      "Processing file: LUNA16/Dataset/subset0/1.3.6.1.4.1.14519.5.2.1.6279.6001.417815314896088956784723476543.mhd\n",
      "SeriesUID for current file: 1.3.6.1.4.1.14519.5.2.1.6279.6001.417815314896088956784723476543\n",
      "Found 1254 nodes for seriesuid: 1.3.6.1.4.1.14519.5.2.1.6279.6001.417815314896088956784723476543\n",
      "Image array shape: (280, 512, 512)\n",
      "Output path for .npy file: LUNA16/Luna Output/subset0/1.3.6.1.4.1.14519.5.2.1.6279.6001.417815314896088956784723476543.npy\n"
     ]
    },
    {
     "name": "stderr",
     "output_type": "stream",
     "text": [
      "\r",
      "  2%|▊                                         | 18/888 [00:05<04:03,  3.58it/s]"
     ]
    },
    {
     "name": "stdout",
     "output_type": "stream",
     "text": [
      "Saved: LUNA16/Luna Output/subset0/1.3.6.1.4.1.14519.5.2.1.6279.6001.417815314896088956784723476543.npy\n",
      "\n",
      "Processing file: LUNA16/Dataset/subset0/1.3.6.1.4.1.14519.5.2.1.6279.6001.898642529028521482602829374444.mhd\n",
      "SeriesUID for current file: 1.3.6.1.4.1.14519.5.2.1.6279.6001.898642529028521482602829374444\n",
      "Found 766 nodes for seriesuid: 1.3.6.1.4.1.14519.5.2.1.6279.6001.898642529028521482602829374444\n",
      "Image array shape: (200, 512, 512)\n",
      "Output path for .npy file: LUNA16/Luna Output/subset0/1.3.6.1.4.1.14519.5.2.1.6279.6001.898642529028521482602829374444.npy\n"
     ]
    },
    {
     "name": "stderr",
     "output_type": "stream",
     "text": [
      "\r",
      "  2%|▉                                         | 19/888 [00:05<03:46,  3.84it/s]"
     ]
    },
    {
     "name": "stdout",
     "output_type": "stream",
     "text": [
      "Saved: LUNA16/Luna Output/subset0/1.3.6.1.4.1.14519.5.2.1.6279.6001.898642529028521482602829374444.npy\n",
      "\n",
      "Processing file: LUNA16/Dataset/subset0/1.3.6.1.4.1.14519.5.2.1.6279.6001.317087518531899043292346860596.mhd\n",
      "SeriesUID for current file: 1.3.6.1.4.1.14519.5.2.1.6279.6001.317087518531899043292346860596\n",
      "Found 918 nodes for seriesuid: 1.3.6.1.4.1.14519.5.2.1.6279.6001.317087518531899043292346860596\n"
     ]
    },
    {
     "name": "stderr",
     "output_type": "stream",
     "text": [
      "\r",
      "  2%|▉                                         | 20/888 [00:05<04:33,  3.18it/s]"
     ]
    },
    {
     "name": "stdout",
     "output_type": "stream",
     "text": [
      "Image array shape: (474, 512, 512)\n",
      "Output path for .npy file: LUNA16/Luna Output/subset0/1.3.6.1.4.1.14519.5.2.1.6279.6001.317087518531899043292346860596.npy\n",
      "Saved: LUNA16/Luna Output/subset0/1.3.6.1.4.1.14519.5.2.1.6279.6001.317087518531899043292346860596.npy\n",
      "\n",
      "Processing file: LUNA16/Dataset/subset0/1.3.6.1.4.1.14519.5.2.1.6279.6001.716498695101447665580610403574.mhd\n",
      "SeriesUID for current file: 1.3.6.1.4.1.14519.5.2.1.6279.6001.716498695101447665580610403574\n",
      "Found 880 nodes for seriesuid: 1.3.6.1.4.1.14519.5.2.1.6279.6001.716498695101447665580610403574\n"
     ]
    },
    {
     "name": "stderr",
     "output_type": "stream",
     "text": [
      "\r",
      "  2%|▉                                         | 21/888 [00:06<05:02,  2.87it/s]"
     ]
    },
    {
     "name": "stdout",
     "output_type": "stream",
     "text": [
      "Image array shape: (429, 512, 512)\n",
      "Output path for .npy file: LUNA16/Luna Output/subset0/1.3.6.1.4.1.14519.5.2.1.6279.6001.716498695101447665580610403574.npy\n",
      "Saved: LUNA16/Luna Output/subset0/1.3.6.1.4.1.14519.5.2.1.6279.6001.716498695101447665580610403574.npy\n",
      "\n",
      "Processing file: LUNA16/Dataset/subset0/1.3.6.1.4.1.14519.5.2.1.6279.6001.194465340552956447447896167830.mhd\n",
      "SeriesUID for current file: 1.3.6.1.4.1.14519.5.2.1.6279.6001.194465340552956447447896167830\n",
      "Found 561 nodes for seriesuid: 1.3.6.1.4.1.14519.5.2.1.6279.6001.194465340552956447447896167830\n"
     ]
    },
    {
     "name": "stderr",
     "output_type": "stream",
     "text": [
      "  3%|█                                         | 23/888 [00:06<03:28,  4.16it/s]"
     ]
    },
    {
     "name": "stdout",
     "output_type": "stream",
     "text": [
      "Image array shape: (129, 512, 512)\n",
      "Output path for .npy file: LUNA16/Luna Output/subset0/1.3.6.1.4.1.14519.5.2.1.6279.6001.194465340552956447447896167830.npy\n",
      "Saved: LUNA16/Luna Output/subset0/1.3.6.1.4.1.14519.5.2.1.6279.6001.194465340552956447447896167830.npy\n",
      "\n",
      "Processing file: LUNA16/Dataset/subset0/1.3.6.1.4.1.14519.5.2.1.6279.6001.310626494937915759224334597176.mhd\n",
      "SeriesUID for current file: 1.3.6.1.4.1.14519.5.2.1.6279.6001.310626494937915759224334597176\n",
      "Found 520 nodes for seriesuid: 1.3.6.1.4.1.14519.5.2.1.6279.6001.310626494937915759224334597176\n",
      "Image array shape: (127, 512, 512)\n",
      "Output path for .npy file: LUNA16/Luna Output/subset0/1.3.6.1.4.1.14519.5.2.1.6279.6001.310626494937915759224334597176.npy\n",
      "Saved: LUNA16/Luna Output/subset0/1.3.6.1.4.1.14519.5.2.1.6279.6001.310626494937915759224334597176.npy\n",
      "\n",
      "Processing file: LUNA16/Dataset/subset0/1.3.6.1.4.1.14519.5.2.1.6279.6001.139258777898746693365877042411.mhd\n",
      "SeriesUID for current file: 1.3.6.1.4.1.14519.5.2.1.6279.6001.139258777898746693365877042411\n",
      "Found 869 nodes for seriesuid: 1.3.6.1.4.1.14519.5.2.1.6279.6001.139258777898746693365877042411\n",
      "Image array shape: (588, 512, 512)\n",
      "Output path for .npy file: LUNA16/Luna Output/subset0/1.3.6.1.4.1.14519.5.2.1.6279.6001.139258777898746693365877042411.npy\n"
     ]
    },
    {
     "name": "stderr",
     "output_type": "stream",
     "text": [
      "\r",
      "  3%|█▏                                        | 24/888 [00:07<05:04,  2.83it/s]"
     ]
    },
    {
     "name": "stdout",
     "output_type": "stream",
     "text": [
      "Saved: LUNA16/Luna Output/subset0/1.3.6.1.4.1.14519.5.2.1.6279.6001.139258777898746693365877042411.npy\n",
      "\n",
      "Processing file: LUNA16/Dataset/subset0/1.3.6.1.4.1.14519.5.2.1.6279.6001.323859712968543712594665815359.mhd\n",
      "SeriesUID for current file: 1.3.6.1.4.1.14519.5.2.1.6279.6001.323859712968543712594665815359\n",
      "Found 785 nodes for seriesuid: 1.3.6.1.4.1.14519.5.2.1.6279.6001.323859712968543712594665815359\n"
     ]
    },
    {
     "name": "stderr",
     "output_type": "stream",
     "text": [
      "\r",
      "  3%|█▏                                        | 25/888 [00:07<04:42,  3.05it/s]"
     ]
    },
    {
     "name": "stdout",
     "output_type": "stream",
     "text": [
      "Image array shape: (267, 512, 512)\n",
      "Output path for .npy file: LUNA16/Luna Output/subset0/1.3.6.1.4.1.14519.5.2.1.6279.6001.323859712968543712594665815359.npy\n",
      "Saved: LUNA16/Luna Output/subset0/1.3.6.1.4.1.14519.5.2.1.6279.6001.323859712968543712594665815359.npy\n",
      "\n",
      "Processing file: LUNA16/Dataset/subset0/1.3.6.1.4.1.14519.5.2.1.6279.6001.640729228179368154416184318668.mhd\n",
      "SeriesUID for current file: 1.3.6.1.4.1.14519.5.2.1.6279.6001.640729228179368154416184318668\n",
      "Found 1024 nodes for seriesuid: 1.3.6.1.4.1.14519.5.2.1.6279.6001.640729228179368154416184318668\n"
     ]
    },
    {
     "name": "stderr",
     "output_type": "stream",
     "text": [
      "\r",
      "  3%|█▏                                        | 26/888 [00:07<04:50,  2.97it/s]"
     ]
    },
    {
     "name": "stdout",
     "output_type": "stream",
     "text": [
      "Image array shape: (483, 512, 512)\n",
      "Output path for .npy file: LUNA16/Luna Output/subset0/1.3.6.1.4.1.14519.5.2.1.6279.6001.640729228179368154416184318668.npy\n",
      "Saved: LUNA16/Luna Output/subset0/1.3.6.1.4.1.14519.5.2.1.6279.6001.640729228179368154416184318668.npy\n",
      "\n",
      "Processing file: LUNA16/Dataset/subset0/1.3.6.1.4.1.14519.5.2.1.6279.6001.280972147860943609388015648430.mhd\n",
      "SeriesUID for current file: 1.3.6.1.4.1.14519.5.2.1.6279.6001.280972147860943609388015648430\n",
      "Found 725 nodes for seriesuid: 1.3.6.1.4.1.14519.5.2.1.6279.6001.280972147860943609388015648430\n"
     ]
    },
    {
     "name": "stderr",
     "output_type": "stream",
     "text": [
      "\r",
      "  3%|█▎                                        | 27/888 [00:07<03:58,  3.62it/s]"
     ]
    },
    {
     "name": "stdout",
     "output_type": "stream",
     "text": [
      "Image array shape: (139, 512, 512)\n",
      "Output path for .npy file: LUNA16/Luna Output/subset0/1.3.6.1.4.1.14519.5.2.1.6279.6001.280972147860943609388015648430.npy\n",
      "Saved: LUNA16/Luna Output/subset0/1.3.6.1.4.1.14519.5.2.1.6279.6001.280972147860943609388015648430.npy\n",
      "\n",
      "Processing file: LUNA16/Dataset/subset0/1.3.6.1.4.1.14519.5.2.1.6279.6001.138080888843357047811238713686.mhd\n",
      "SeriesUID for current file: 1.3.6.1.4.1.14519.5.2.1.6279.6001.138080888843357047811238713686\n",
      "Found 1066 nodes for seriesuid: 1.3.6.1.4.1.14519.5.2.1.6279.6001.138080888843357047811238713686\n",
      "Image array shape: (295, 512, 512)\n",
      "Output path for .npy file: LUNA16/Luna Output/subset0/1.3.6.1.4.1.14519.5.2.1.6279.6001.138080888843357047811238713686.npy\n"
     ]
    },
    {
     "name": "stderr",
     "output_type": "stream",
     "text": [
      "\r",
      "  3%|█▎                                        | 28/888 [00:08<04:06,  3.49it/s]"
     ]
    },
    {
     "name": "stdout",
     "output_type": "stream",
     "text": [
      "Saved: LUNA16/Luna Output/subset0/1.3.6.1.4.1.14519.5.2.1.6279.6001.138080888843357047811238713686.npy\n",
      "\n",
      "Processing file: LUNA16/Dataset/subset0/1.3.6.1.4.1.14519.5.2.1.6279.6001.334517907433161353885866806005.mhd\n",
      "SeriesUID for current file: 1.3.6.1.4.1.14519.5.2.1.6279.6001.334517907433161353885866806005\n",
      "Found 1222 nodes for seriesuid: 1.3.6.1.4.1.14519.5.2.1.6279.6001.334517907433161353885866806005\n"
     ]
    },
    {
     "name": "stderr",
     "output_type": "stream",
     "text": [
      "\r",
      "  3%|█▎                                        | 29/888 [00:08<04:10,  3.43it/s]"
     ]
    },
    {
     "name": "stdout",
     "output_type": "stream",
     "text": [
      "Image array shape: (280, 512, 512)\n",
      "Output path for .npy file: LUNA16/Luna Output/subset0/1.3.6.1.4.1.14519.5.2.1.6279.6001.334517907433161353885866806005.npy\n",
      "Saved: LUNA16/Luna Output/subset0/1.3.6.1.4.1.14519.5.2.1.6279.6001.334517907433161353885866806005.npy\n",
      "\n",
      "Processing file: LUNA16/Dataset/subset0/1.3.6.1.4.1.14519.5.2.1.6279.6001.146429221666426688999739595820.mhd\n",
      "SeriesUID for current file: 1.3.6.1.4.1.14519.5.2.1.6279.6001.146429221666426688999739595820\n",
      "Found 322 nodes for seriesuid: 1.3.6.1.4.1.14519.5.2.1.6279.6001.146429221666426688999739595820\n",
      "Image array shape: (730, 512, 512)\n",
      "Output path for .npy file: LUNA16/Luna Output/subset0/1.3.6.1.4.1.14519.5.2.1.6279.6001.146429221666426688999739595820.npy\n"
     ]
    },
    {
     "name": "stderr",
     "output_type": "stream",
     "text": [
      "  3%|█▍                                        | 31/888 [00:09<04:56,  2.89it/s]"
     ]
    },
    {
     "name": "stdout",
     "output_type": "stream",
     "text": [
      "Saved: LUNA16/Luna Output/subset0/1.3.6.1.4.1.14519.5.2.1.6279.6001.146429221666426688999739595820.npy\n",
      "\n",
      "Processing file: LUNA16/Dataset/subset0/1.3.6.1.4.1.14519.5.2.1.6279.6001.187451715205085403623595258748.mhd\n",
      "SeriesUID for current file: 1.3.6.1.4.1.14519.5.2.1.6279.6001.187451715205085403623595258748\n",
      "Found 711 nodes for seriesuid: 1.3.6.1.4.1.14519.5.2.1.6279.6001.187451715205085403623595258748\n",
      "Image array shape: (125, 512, 512)\n",
      "Output path for .npy file: LUNA16/Luna Output/subset0/1.3.6.1.4.1.14519.5.2.1.6279.6001.187451715205085403623595258748.npy\n",
      "Saved: LUNA16/Luna Output/subset0/1.3.6.1.4.1.14519.5.2.1.6279.6001.187451715205085403623595258748.npy\n",
      "\n",
      "Processing file: LUNA16/Dataset/subset0/1.3.6.1.4.1.14519.5.2.1.6279.6001.250438451287314206124484591986.mhd\n",
      "SeriesUID for current file: 1.3.6.1.4.1.14519.5.2.1.6279.6001.250438451287314206124484591986\n",
      "Found 390 nodes for seriesuid: 1.3.6.1.4.1.14519.5.2.1.6279.6001.250438451287314206124484591986\n"
     ]
    },
    {
     "name": "stderr",
     "output_type": "stream",
     "text": [
      "\r",
      "  4%|█▌                                        | 32/888 [00:09<04:21,  3.27it/s]"
     ]
    },
    {
     "name": "stdout",
     "output_type": "stream",
     "text": [
      "Image array shape: (221, 512, 512)\n",
      "Output path for .npy file: LUNA16/Luna Output/subset0/1.3.6.1.4.1.14519.5.2.1.6279.6001.250438451287314206124484591986.npy\n",
      "Saved: LUNA16/Luna Output/subset0/1.3.6.1.4.1.14519.5.2.1.6279.6001.250438451287314206124484591986.npy\n",
      "\n",
      "Processing file: LUNA16/Dataset/subset0/1.3.6.1.4.1.14519.5.2.1.6279.6001.250863365157630276148828903732.mhd\n",
      "SeriesUID for current file: 1.3.6.1.4.1.14519.5.2.1.6279.6001.250863365157630276148828903732\n",
      "Found 1331 nodes for seriesuid: 1.3.6.1.4.1.14519.5.2.1.6279.6001.250863365157630276148828903732\n"
     ]
    },
    {
     "name": "stderr",
     "output_type": "stream",
     "text": [
      "\r",
      "  4%|█▌                                        | 33/888 [00:09<04:04,  3.49it/s]"
     ]
    },
    {
     "name": "stdout",
     "output_type": "stream",
     "text": [
      "Image array shape: (297, 512, 512)\n",
      "Output path for .npy file: LUNA16/Luna Output/subset0/1.3.6.1.4.1.14519.5.2.1.6279.6001.250863365157630276148828903732.npy\n",
      "Saved: LUNA16/Luna Output/subset0/1.3.6.1.4.1.14519.5.2.1.6279.6001.250863365157630276148828903732.npy\n",
      "\n",
      "Processing file: LUNA16/Dataset/subset0/1.3.6.1.4.1.14519.5.2.1.6279.6001.295298571102631191572192562523.mhd\n",
      "SeriesUID for current file: 1.3.6.1.4.1.14519.5.2.1.6279.6001.295298571102631191572192562523\n",
      "Found 780 nodes for seriesuid: 1.3.6.1.4.1.14519.5.2.1.6279.6001.295298571102631191572192562523\n",
      "Image array shape: (232, 512, 512)\n",
      "Output path for .npy file: LUNA16/Luna Output/subset0/1.3.6.1.4.1.14519.5.2.1.6279.6001.295298571102631191572192562523.npy\n"
     ]
    },
    {
     "name": "stderr",
     "output_type": "stream",
     "text": [
      "  4%|█▋                                        | 35/888 [00:10<03:17,  4.33it/s]"
     ]
    },
    {
     "name": "stdout",
     "output_type": "stream",
     "text": [
      "Saved: LUNA16/Luna Output/subset0/1.3.6.1.4.1.14519.5.2.1.6279.6001.295298571102631191572192562523.npy\n",
      "\n",
      "Processing file: LUNA16/Dataset/subset0/1.3.6.1.4.1.14519.5.2.1.6279.6001.124154461048929153767743874565.mhd\n",
      "SeriesUID for current file: 1.3.6.1.4.1.14519.5.2.1.6279.6001.124154461048929153767743874565\n",
      "Found 1333 nodes for seriesuid: 1.3.6.1.4.1.14519.5.2.1.6279.6001.124154461048929153767743874565\n",
      "Image array shape: (195, 512, 512)\n",
      "Output path for .npy file: LUNA16/Luna Output/subset0/1.3.6.1.4.1.14519.5.2.1.6279.6001.124154461048929153767743874565.npy\n",
      "Saved: LUNA16/Luna Output/subset0/1.3.6.1.4.1.14519.5.2.1.6279.6001.124154461048929153767743874565.npy\n",
      "\n",
      "Processing file: LUNA16/Dataset/subset0/1.3.6.1.4.1.14519.5.2.1.6279.6001.313605260055394498989743099991.mhd\n",
      "SeriesUID for current file: 1.3.6.1.4.1.14519.5.2.1.6279.6001.313605260055394498989743099991\n"
     ]
    },
    {
     "name": "stderr",
     "output_type": "stream",
     "text": [
      "\r",
      "  4%|█▋                                        | 36/888 [00:10<02:43,  5.21it/s]"
     ]
    },
    {
     "name": "stdout",
     "output_type": "stream",
     "text": [
      "Found 890 nodes for seriesuid: 1.3.6.1.4.1.14519.5.2.1.6279.6001.313605260055394498989743099991\n",
      "Image array shape: (129, 512, 512)\n",
      "Output path for .npy file: LUNA16/Luna Output/subset0/1.3.6.1.4.1.14519.5.2.1.6279.6001.313605260055394498989743099991.npy\n",
      "Saved: LUNA16/Luna Output/subset0/1.3.6.1.4.1.14519.5.2.1.6279.6001.313605260055394498989743099991.npy\n",
      "\n",
      "Processing file: LUNA16/Dataset/subset0/1.3.6.1.4.1.14519.5.2.1.6279.6001.241570579760883349458693655367.mhd\n",
      "SeriesUID for current file: 1.3.6.1.4.1.14519.5.2.1.6279.6001.241570579760883349458693655367\n",
      "Found 1275 nodes for seriesuid: 1.3.6.1.4.1.14519.5.2.1.6279.6001.241570579760883349458693655367\n"
     ]
    },
    {
     "name": "stderr",
     "output_type": "stream",
     "text": [
      "\r",
      "  4%|█▊                                        | 37/888 [00:10<03:35,  3.94it/s]"
     ]
    },
    {
     "name": "stdout",
     "output_type": "stream",
     "text": [
      "Image array shape: (325, 512, 512)\n",
      "Output path for .npy file: LUNA16/Luna Output/subset0/1.3.6.1.4.1.14519.5.2.1.6279.6001.241570579760883349458693655367.npy\n",
      "Saved: LUNA16/Luna Output/subset0/1.3.6.1.4.1.14519.5.2.1.6279.6001.241570579760883349458693655367.npy\n",
      "\n",
      "Processing file: LUNA16/Dataset/subset0/1.3.6.1.4.1.14519.5.2.1.6279.6001.313835996725364342034830119490.mhd\n",
      "SeriesUID for current file: 1.3.6.1.4.1.14519.5.2.1.6279.6001.313835996725364342034830119490\n",
      "Found 1019 nodes for seriesuid: 1.3.6.1.4.1.14519.5.2.1.6279.6001.313835996725364342034830119490\n"
     ]
    },
    {
     "name": "stderr",
     "output_type": "stream",
     "text": [
      "\r",
      "  4%|█▊                                        | 38/888 [00:11<04:57,  2.86it/s]"
     ]
    },
    {
     "name": "stdout",
     "output_type": "stream",
     "text": [
      "Image array shape: (465, 512, 512)\n",
      "Output path for .npy file: LUNA16/Luna Output/subset0/1.3.6.1.4.1.14519.5.2.1.6279.6001.313835996725364342034830119490.npy\n",
      "Saved: LUNA16/Luna Output/subset0/1.3.6.1.4.1.14519.5.2.1.6279.6001.313835996725364342034830119490.npy\n",
      "\n",
      "Processing file: LUNA16/Dataset/subset0/1.3.6.1.4.1.14519.5.2.1.6279.6001.126264578931778258890371755354.mhd\n",
      "SeriesUID for current file: 1.3.6.1.4.1.14519.5.2.1.6279.6001.126264578931778258890371755354\n",
      "Found 1129 nodes for seriesuid: 1.3.6.1.4.1.14519.5.2.1.6279.6001.126264578931778258890371755354\n",
      "Image array shape: (672, 512, 512)\n",
      "Output path for .npy file: LUNA16/Luna Output/subset0/1.3.6.1.4.1.14519.5.2.1.6279.6001.126264578931778258890371755354.npy\n"
     ]
    },
    {
     "name": "stderr",
     "output_type": "stream",
     "text": [
      "  5%|█▉                                        | 40/888 [00:12<05:51,  2.41it/s]"
     ]
    },
    {
     "name": "stdout",
     "output_type": "stream",
     "text": [
      "Saved: LUNA16/Luna Output/subset0/1.3.6.1.4.1.14519.5.2.1.6279.6001.126264578931778258890371755354.npy\n",
      "\n",
      "Processing file: LUNA16/Dataset/subset0/1.3.6.1.4.1.14519.5.2.1.6279.6001.832260670372728970918746541371.mhd\n",
      "SeriesUID for current file: 1.3.6.1.4.1.14519.5.2.1.6279.6001.832260670372728970918746541371\n",
      "Found 964 nodes for seriesuid: 1.3.6.1.4.1.14519.5.2.1.6279.6001.832260670372728970918746541371\n",
      "Image array shape: (133, 512, 512)\n",
      "Output path for .npy file: LUNA16/Luna Output/subset0/1.3.6.1.4.1.14519.5.2.1.6279.6001.832260670372728970918746541371.npy\n",
      "Saved: LUNA16/Luna Output/subset0/1.3.6.1.4.1.14519.5.2.1.6279.6001.832260670372728970918746541371.npy\n",
      "\n",
      "Processing file: LUNA16/Dataset/subset0/1.3.6.1.4.1.14519.5.2.1.6279.6001.724251104254976962355686318345.mhd\n",
      "SeriesUID for current file: 1.3.6.1.4.1.14519.5.2.1.6279.6001.724251104254976962355686318345\n",
      "Found 1004 nodes for seriesuid: 1.3.6.1.4.1.14519.5.2.1.6279.6001.724251104254976962355686318345\n",
      "Image array shape: (392, 512, 512)\n",
      "Output path for .npy file: LUNA16/Luna Output/subset0/1.3.6.1.4.1.14519.5.2.1.6279.6001.724251104254976962355686318345.npy\n"
     ]
    },
    {
     "name": "stderr",
     "output_type": "stream",
     "text": [
      "\r",
      "  5%|█▉                                        | 41/888 [00:12<05:45,  2.45it/s]"
     ]
    },
    {
     "name": "stdout",
     "output_type": "stream",
     "text": [
      "Saved: LUNA16/Luna Output/subset0/1.3.6.1.4.1.14519.5.2.1.6279.6001.724251104254976962355686318345.npy\n",
      "\n",
      "Processing file: LUNA16/Dataset/subset0/1.3.6.1.4.1.14519.5.2.1.6279.6001.302134342469412607966016057827.mhd\n",
      "SeriesUID for current file: 1.3.6.1.4.1.14519.5.2.1.6279.6001.302134342469412607966016057827\n",
      "Found 547 nodes for seriesuid: 1.3.6.1.4.1.14519.5.2.1.6279.6001.302134342469412607966016057827\n",
      "Image array shape: (369, 512, 512)\n",
      "Output path for .npy file: LUNA16/Luna Output/subset0/1.3.6.1.4.1.14519.5.2.1.6279.6001.302134342469412607966016057827.npy\n"
     ]
    },
    {
     "name": "stderr",
     "output_type": "stream",
     "text": [
      "\r",
      "  5%|█▉                                        | 42/888 [00:13<06:30,  2.16it/s]"
     ]
    },
    {
     "name": "stdout",
     "output_type": "stream",
     "text": [
      "Saved: LUNA16/Luna Output/subset0/1.3.6.1.4.1.14519.5.2.1.6279.6001.302134342469412607966016057827.npy\n",
      "\n",
      "Processing file: LUNA16/Dataset/subset0/1.3.6.1.4.1.14519.5.2.1.6279.6001.303421828981831854739626597495.mhd\n",
      "SeriesUID for current file: 1.3.6.1.4.1.14519.5.2.1.6279.6001.303421828981831854739626597495\n",
      "Found 447 nodes for seriesuid: 1.3.6.1.4.1.14519.5.2.1.6279.6001.303421828981831854739626597495\n"
     ]
    },
    {
     "name": "stderr",
     "output_type": "stream",
     "text": [
      "\r",
      "  5%|██                                        | 43/888 [00:13<06:03,  2.33it/s]"
     ]
    },
    {
     "name": "stdout",
     "output_type": "stream",
     "text": [
      "Image array shape: (300, 512, 512)\n",
      "Output path for .npy file: LUNA16/Luna Output/subset0/1.3.6.1.4.1.14519.5.2.1.6279.6001.303421828981831854739626597495.npy\n",
      "Saved: LUNA16/Luna Output/subset0/1.3.6.1.4.1.14519.5.2.1.6279.6001.303421828981831854739626597495.npy\n",
      "\n",
      "Processing file: LUNA16/Dataset/subset0/1.3.6.1.4.1.14519.5.2.1.6279.6001.333145094436144085379032922488.mhd\n",
      "SeriesUID for current file: 1.3.6.1.4.1.14519.5.2.1.6279.6001.333145094436144085379032922488\n",
      "Found 1136 nodes for seriesuid: 1.3.6.1.4.1.14519.5.2.1.6279.6001.333145094436144085379032922488\n"
     ]
    },
    {
     "name": "stderr",
     "output_type": "stream",
     "text": [
      "\r",
      "  5%|██                                        | 44/888 [00:13<05:07,  2.74it/s]"
     ]
    },
    {
     "name": "stdout",
     "output_type": "stream",
     "text": [
      "Image array shape: (139, 512, 512)\n",
      "Output path for .npy file: LUNA16/Luna Output/subset0/1.3.6.1.4.1.14519.5.2.1.6279.6001.333145094436144085379032922488.npy\n",
      "Saved: LUNA16/Luna Output/subset0/1.3.6.1.4.1.14519.5.2.1.6279.6001.333145094436144085379032922488.npy\n",
      "\n",
      "Processing file: LUNA16/Dataset/subset0/1.3.6.1.4.1.14519.5.2.1.6279.6001.395623571499047043765181005112.mhd\n",
      "SeriesUID for current file: 1.3.6.1.4.1.14519.5.2.1.6279.6001.395623571499047043765181005112\n",
      "Found 986 nodes for seriesuid: 1.3.6.1.4.1.14519.5.2.1.6279.6001.395623571499047043765181005112\n",
      "Image array shape: (109, 512, 512)\n",
      "Output path for .npy file: LUNA16/Luna Output/subset0/1.3.6.1.4.1.14519.5.2.1.6279.6001.395623571499047043765181005112.npy\n",
      "Saved: LUNA16/Luna Output/subset0/1.3.6.1.4.1.14519.5.2.1.6279.6001.395623571499047043765181005112.npy\n",
      "\n",
      "Processing file: LUNA16/Dataset/subset0/1.3.6.1.4.1.14519.5.2.1.6279.6001.272042302501586336192628818865.mhd\n",
      "SeriesUID for current file: 1.3.6.1.4.1.14519.5.2.1.6279.6001.272042302501586336192628818865\n",
      "Found 734 nodes for seriesuid: 1.3.6.1.4.1.14519.5.2.1.6279.6001.272042302501586336192628818865\n",
      "Image array shape: (280, 512, 512)\n",
      "Output path for .npy file: LUNA16/Luna Output/subset0/1.3.6.1.4.1.14519.5.2.1.6279.6001.272042302501586336192628818865.npy\n"
     ]
    },
    {
     "name": "stderr",
     "output_type": "stream",
     "text": [
      "\r",
      "  5%|██▏                                       | 46/888 [00:14<04:00,  3.50it/s]"
     ]
    },
    {
     "name": "stdout",
     "output_type": "stream",
     "text": [
      "Saved: LUNA16/Luna Output/subset0/1.3.6.1.4.1.14519.5.2.1.6279.6001.272042302501586336192628818865.npy\n",
      "\n",
      "Processing file: LUNA16/Dataset/subset0/1.3.6.1.4.1.14519.5.2.1.6279.6001.154677396354641150280013275227.mhd\n",
      "SeriesUID for current file: 1.3.6.1.4.1.14519.5.2.1.6279.6001.154677396354641150280013275227\n",
      "Found 587 nodes for seriesuid: 1.3.6.1.4.1.14519.5.2.1.6279.6001.154677396354641150280013275227\n"
     ]
    },
    {
     "name": "stderr",
     "output_type": "stream",
     "text": [
      "\r",
      "  5%|██▏                                       | 47/888 [00:14<04:03,  3.45it/s]"
     ]
    },
    {
     "name": "stdout",
     "output_type": "stream",
     "text": [
      "Image array shape: (275, 512, 512)\n",
      "Output path for .npy file: LUNA16/Luna Output/subset0/1.3.6.1.4.1.14519.5.2.1.6279.6001.154677396354641150280013275227.npy\n",
      "Saved: LUNA16/Luna Output/subset0/1.3.6.1.4.1.14519.5.2.1.6279.6001.154677396354641150280013275227.npy\n",
      "\n",
      "Processing file: LUNA16/Dataset/subset0/1.3.6.1.4.1.14519.5.2.1.6279.6001.108197895896446896160048741492.mhd\n",
      "SeriesUID for current file: 1.3.6.1.4.1.14519.5.2.1.6279.6001.108197895896446896160048741492\n",
      "Found 1291 nodes for seriesuid: 1.3.6.1.4.1.14519.5.2.1.6279.6001.108197895896446896160048741492\n",
      "Image array shape: (119, 512, 512)\n",
      "Output path for .npy file: LUNA16/Luna Output/subset0/1.3.6.1.4.1.14519.5.2.1.6279.6001.108197895896446896160048741492.npy\n"
     ]
    },
    {
     "name": "stderr",
     "output_type": "stream",
     "text": [
      "  6%|██▎                                       | 49/888 [00:14<03:11,  4.37it/s]"
     ]
    },
    {
     "name": "stdout",
     "output_type": "stream",
     "text": [
      "Saved: LUNA16/Luna Output/subset0/1.3.6.1.4.1.14519.5.2.1.6279.6001.108197895896446896160048741492.npy\n",
      "\n",
      "Processing file: LUNA16/Dataset/subset0/1.3.6.1.4.1.14519.5.2.1.6279.6001.905371958588660410240398317235.mhd\n",
      "SeriesUID for current file: 1.3.6.1.4.1.14519.5.2.1.6279.6001.905371958588660410240398317235\n",
      "Found 1362 nodes for seriesuid: 1.3.6.1.4.1.14519.5.2.1.6279.6001.905371958588660410240398317235\n",
      "Image array shape: (152, 512, 512)\n",
      "Output path for .npy file: LUNA16/Luna Output/subset0/1.3.6.1.4.1.14519.5.2.1.6279.6001.905371958588660410240398317235.npy\n",
      "Saved: LUNA16/Luna Output/subset0/1.3.6.1.4.1.14519.5.2.1.6279.6001.905371958588660410240398317235.npy\n",
      "\n",
      "Processing file: LUNA16/Dataset/subset0/1.3.6.1.4.1.14519.5.2.1.6279.6001.397062004302272014259317520874.mhd\n",
      "SeriesUID for current file: 1.3.6.1.4.1.14519.5.2.1.6279.6001.397062004302272014259317520874\n",
      "Found 543 nodes for seriesuid: 1.3.6.1.4.1.14519.5.2.1.6279.6001.397062004302272014259317520874\n",
      "Image array shape: (325, 512, 512)\n",
      "Output path for .npy file: LUNA16/Luna Output/subset0/1.3.6.1.4.1.14519.5.2.1.6279.6001.397062004302272014259317520874.npy\n"
     ]
    },
    {
     "name": "stderr",
     "output_type": "stream",
     "text": [
      "\r",
      "  6%|██▎                                       | 50/888 [00:15<04:04,  3.43it/s]"
     ]
    },
    {
     "name": "stdout",
     "output_type": "stream",
     "text": [
      "Saved: LUNA16/Luna Output/subset0/1.3.6.1.4.1.14519.5.2.1.6279.6001.397062004302272014259317520874.npy\n",
      "\n",
      "Processing file: LUNA16/Dataset/subset0/1.3.6.1.4.1.14519.5.2.1.6279.6001.227962600322799211676960828223.mhd\n",
      "SeriesUID for current file: 1.3.6.1.4.1.14519.5.2.1.6279.6001.227962600322799211676960828223\n",
      "Found 472 nodes for seriesuid: 1.3.6.1.4.1.14519.5.2.1.6279.6001.227962600322799211676960828223\n",
      "Image array shape: (209, 512, 512)\n",
      "Output path for .npy file: LUNA16/Luna Output/subset0/1.3.6.1.4.1.14519.5.2.1.6279.6001.227962600322799211676960828223.npy\n"
     ]
    },
    {
     "name": "stderr",
     "output_type": "stream",
     "text": [
      "\r",
      "  6%|██▍                                       | 51/888 [00:15<03:58,  3.51it/s]"
     ]
    },
    {
     "name": "stdout",
     "output_type": "stream",
     "text": [
      "Saved: LUNA16/Luna Output/subset0/1.3.6.1.4.1.14519.5.2.1.6279.6001.227962600322799211676960828223.npy\n",
      "\n",
      "Processing file: LUNA16/Dataset/subset0/1.3.6.1.4.1.14519.5.2.1.6279.6001.293757615532132808762625441831.mhd\n",
      "SeriesUID for current file: 1.3.6.1.4.1.14519.5.2.1.6279.6001.293757615532132808762625441831\n",
      "Found 898 nodes for seriesuid: 1.3.6.1.4.1.14519.5.2.1.6279.6001.293757615532132808762625441831\n",
      "Image array shape: (477, 512, 512)\n",
      "Output path for .npy file: LUNA16/Luna Output/subset0/1.3.6.1.4.1.14519.5.2.1.6279.6001.293757615532132808762625441831.npy\n"
     ]
    },
    {
     "name": "stderr",
     "output_type": "stream",
     "text": [
      "  6%|██▌                                       | 53/888 [00:16<04:22,  3.18it/s]"
     ]
    },
    {
     "name": "stdout",
     "output_type": "stream",
     "text": [
      "Saved: LUNA16/Luna Output/subset0/1.3.6.1.4.1.14519.5.2.1.6279.6001.293757615532132808762625441831.npy\n",
      "\n",
      "Processing file: LUNA16/Dataset/subset0/1.3.6.1.4.1.14519.5.2.1.6279.6001.109002525524522225658609808059.mhd\n",
      "SeriesUID for current file: 1.3.6.1.4.1.14519.5.2.1.6279.6001.109002525524522225658609808059\n",
      "Found 804 nodes for seriesuid: 1.3.6.1.4.1.14519.5.2.1.6279.6001.109002525524522225658609808059\n",
      "Image array shape: (161, 512, 512)\n",
      "Output path for .npy file: LUNA16/Luna Output/subset0/1.3.6.1.4.1.14519.5.2.1.6279.6001.109002525524522225658609808059.npy\n",
      "Saved: LUNA16/Luna Output/subset0/1.3.6.1.4.1.14519.5.2.1.6279.6001.109002525524522225658609808059.npy\n",
      "\n",
      "Processing file: LUNA16/Dataset/subset0/1.3.6.1.4.1.14519.5.2.1.6279.6001.404364125369979066736354549484.mhd\n",
      "SeriesUID for current file: 1.3.6.1.4.1.14519.5.2.1.6279.6001.404364125369979066736354549484\n"
     ]
    },
    {
     "name": "stderr",
     "output_type": "stream",
     "text": [
      "\r",
      "  6%|██▌                                       | 54/888 [00:16<03:45,  3.70it/s]"
     ]
    },
    {
     "name": "stdout",
     "output_type": "stream",
     "text": [
      "Found 737 nodes for seriesuid: 1.3.6.1.4.1.14519.5.2.1.6279.6001.404364125369979066736354549484\n",
      "Image array shape: (176, 512, 512)\n",
      "Output path for .npy file: LUNA16/Luna Output/subset0/1.3.6.1.4.1.14519.5.2.1.6279.6001.404364125369979066736354549484.npy\n",
      "Saved: LUNA16/Luna Output/subset0/1.3.6.1.4.1.14519.5.2.1.6279.6001.404364125369979066736354549484.npy\n",
      "\n",
      "Processing file: LUNA16/Dataset/subset0/1.3.6.1.4.1.14519.5.2.1.6279.6001.332453873575389860371315979768.mhd\n",
      "SeriesUID for current file: 1.3.6.1.4.1.14519.5.2.1.6279.6001.332453873575389860371315979768\n",
      "Found 719 nodes for seriesuid: 1.3.6.1.4.1.14519.5.2.1.6279.6001.332453873575389860371315979768\n"
     ]
    },
    {
     "name": "stderr",
     "output_type": "stream",
     "text": [
      "\r",
      "  6%|██▌                                       | 55/888 [00:16<03:18,  4.20it/s]"
     ]
    },
    {
     "name": "stdout",
     "output_type": "stream",
     "text": [
      "Image array shape: (204, 512, 512)\n",
      "Output path for .npy file: LUNA16/Luna Output/subset0/1.3.6.1.4.1.14519.5.2.1.6279.6001.332453873575389860371315979768.npy\n",
      "Saved: LUNA16/Luna Output/subset0/1.3.6.1.4.1.14519.5.2.1.6279.6001.332453873575389860371315979768.npy\n",
      "\n",
      "Processing file: LUNA16/Dataset/subset0/1.3.6.1.4.1.14519.5.2.1.6279.6001.122763913896761494371822656720.mhd\n",
      "SeriesUID for current file: 1.3.6.1.4.1.14519.5.2.1.6279.6001.122763913896761494371822656720\n",
      "Found 821 nodes for seriesuid: 1.3.6.1.4.1.14519.5.2.1.6279.6001.122763913896761494371822656720\n",
      "Image array shape: (124, 512, 512)\n",
      "Output path for .npy file: LUNA16/Luna Output/subset0/1.3.6.1.4.1.14519.5.2.1.6279.6001.122763913896761494371822656720.npy\n"
     ]
    },
    {
     "name": "stderr",
     "output_type": "stream",
     "text": [
      "\r",
      "  6%|██▋                                       | 56/888 [00:16<02:51,  4.84it/s]"
     ]
    },
    {
     "name": "stdout",
     "output_type": "stream",
     "text": [
      "Saved: LUNA16/Luna Output/subset0/1.3.6.1.4.1.14519.5.2.1.6279.6001.122763913896761494371822656720.npy\n",
      "\n",
      "Processing file: LUNA16/Dataset/subset0/1.3.6.1.4.1.14519.5.2.1.6279.6001.564534197011295112247542153557.mhd\n",
      "SeriesUID for current file: 1.3.6.1.4.1.14519.5.2.1.6279.6001.564534197011295112247542153557\n",
      "Found 753 nodes for seriesuid: 1.3.6.1.4.1.14519.5.2.1.6279.6001.564534197011295112247542153557\n",
      "Image array shape: (265, 512, 512)\n",
      "Output path for .npy file: LUNA16/Luna Output/subset0/1.3.6.1.4.1.14519.5.2.1.6279.6001.564534197011295112247542153557.npy\n"
     ]
    },
    {
     "name": "stderr",
     "output_type": "stream",
     "text": [
      "  7%|██▋                                       | 58/888 [00:17<02:46,  5.00it/s]"
     ]
    },
    {
     "name": "stdout",
     "output_type": "stream",
     "text": [
      "Saved: LUNA16/Luna Output/subset0/1.3.6.1.4.1.14519.5.2.1.6279.6001.564534197011295112247542153557.npy\n",
      "\n",
      "Processing file: LUNA16/Dataset/subset0/1.3.6.1.4.1.14519.5.2.1.6279.6001.105756658031515062000744821260.mhd\n",
      "SeriesUID for current file: 1.3.6.1.4.1.14519.5.2.1.6279.6001.105756658031515062000744821260\n",
      "Found 707 nodes for seriesuid: 1.3.6.1.4.1.14519.5.2.1.6279.6001.105756658031515062000744821260\n",
      "Image array shape: (121, 512, 512)\n",
      "Output path for .npy file: LUNA16/Luna Output/subset0/1.3.6.1.4.1.14519.5.2.1.6279.6001.105756658031515062000744821260.npy\n",
      "Saved: LUNA16/Luna Output/subset0/1.3.6.1.4.1.14519.5.2.1.6279.6001.105756658031515062000744821260.npy\n",
      "\n",
      "Processing file: LUNA16/Dataset/subset0/1.3.6.1.4.1.14519.5.2.1.6279.6001.805925269324902055566754756843.mhd\n",
      "SeriesUID for current file: 1.3.6.1.4.1.14519.5.2.1.6279.6001.805925269324902055566754756843\n",
      "Found 1135 nodes for seriesuid: 1.3.6.1.4.1.14519.5.2.1.6279.6001.805925269324902055566754756843\n"
     ]
    },
    {
     "name": "stderr",
     "output_type": "stream",
     "text": [
      "\r",
      "  7%|██▊                                       | 59/888 [00:17<02:29,  5.56it/s]"
     ]
    },
    {
     "name": "stdout",
     "output_type": "stream",
     "text": [
      "Image array shape: (141, 512, 512)\n",
      "Output path for .npy file: LUNA16/Luna Output/subset0/1.3.6.1.4.1.14519.5.2.1.6279.6001.805925269324902055566754756843.npy\n",
      "Saved: LUNA16/Luna Output/subset0/1.3.6.1.4.1.14519.5.2.1.6279.6001.805925269324902055566754756843.npy\n",
      "\n",
      "Processing file: LUNA16/Dataset/subset0/1.3.6.1.4.1.14519.5.2.1.6279.6001.126121460017257137098781143514.mhd\n",
      "SeriesUID for current file: 1.3.6.1.4.1.14519.5.2.1.6279.6001.126121460017257137098781143514\n",
      "Found 615 nodes for seriesuid: 1.3.6.1.4.1.14519.5.2.1.6279.6001.126121460017257137098781143514\n",
      "Image array shape: (133, 512, 512)\n",
      "Output path for .npy file: LUNA16/Luna Output/subset0/1.3.6.1.4.1.14519.5.2.1.6279.6001.126121460017257137098781143514.npy\n"
     ]
    },
    {
     "name": "stderr",
     "output_type": "stream",
     "text": [
      "\r",
      "  7%|██▊                                       | 60/888 [00:17<02:32,  5.43it/s]"
     ]
    },
    {
     "name": "stdout",
     "output_type": "stream",
     "text": [
      "Saved: LUNA16/Luna Output/subset0/1.3.6.1.4.1.14519.5.2.1.6279.6001.126121460017257137098781143514.npy\n",
      "\n",
      "Processing file: LUNA16/Dataset/subset0/1.3.6.1.4.1.14519.5.2.1.6279.6001.305858704835252413616501469037.mhd\n",
      "SeriesUID for current file: 1.3.6.1.4.1.14519.5.2.1.6279.6001.305858704835252413616501469037\n",
      "Found 1228 nodes for seriesuid: 1.3.6.1.4.1.14519.5.2.1.6279.6001.305858704835252413616501469037\n"
     ]
    },
    {
     "name": "stderr",
     "output_type": "stream",
     "text": [
      "\r",
      "  7%|██▉                                       | 61/888 [00:18<03:53,  3.55it/s]"
     ]
    },
    {
     "name": "stdout",
     "output_type": "stream",
     "text": [
      "Image array shape: (290, 512, 512)\n",
      "Output path for .npy file: LUNA16/Luna Output/subset0/1.3.6.1.4.1.14519.5.2.1.6279.6001.305858704835252413616501469037.npy\n",
      "Saved: LUNA16/Luna Output/subset0/1.3.6.1.4.1.14519.5.2.1.6279.6001.305858704835252413616501469037.npy\n",
      "\n",
      "Processing file: LUNA16/Dataset/subset0/1.3.6.1.4.1.14519.5.2.1.6279.6001.277445975068759205899107114231.mhd\n",
      "SeriesUID for current file: 1.3.6.1.4.1.14519.5.2.1.6279.6001.277445975068759205899107114231\n",
      "Found 666 nodes for seriesuid: 1.3.6.1.4.1.14519.5.2.1.6279.6001.277445975068759205899107114231\n",
      "Image array shape: (177, 512, 512)\n",
      "Output path for .npy file: LUNA16/Luna Output/subset0/1.3.6.1.4.1.14519.5.2.1.6279.6001.277445975068759205899107114231.npy\n"
     ]
    },
    {
     "name": "stderr",
     "output_type": "stream",
     "text": [
      "\r",
      "  7%|██▉                                       | 62/888 [00:18<03:43,  3.70it/s]"
     ]
    },
    {
     "name": "stdout",
     "output_type": "stream",
     "text": [
      "Saved: LUNA16/Luna Output/subset0/1.3.6.1.4.1.14519.5.2.1.6279.6001.277445975068759205899107114231.npy\n",
      "\n",
      "Processing file: LUNA16/Dataset/subset0/1.3.6.1.4.1.14519.5.2.1.6279.6001.219087313261026510628926082729.mhd\n",
      "SeriesUID for current file: 1.3.6.1.4.1.14519.5.2.1.6279.6001.219087313261026510628926082729\n",
      "Found 991 nodes for seriesuid: 1.3.6.1.4.1.14519.5.2.1.6279.6001.219087313261026510628926082729\n",
      "Image array shape: (280, 512, 512)\n",
      "Output path for .npy file: LUNA16/Luna Output/subset0/1.3.6.1.4.1.14519.5.2.1.6279.6001.219087313261026510628926082729.npy\n"
     ]
    },
    {
     "name": "stderr",
     "output_type": "stream",
     "text": [
      "  7%|███                                       | 64/888 [00:18<03:24,  4.02it/s]"
     ]
    },
    {
     "name": "stdout",
     "output_type": "stream",
     "text": [
      "Saved: LUNA16/Luna Output/subset0/1.3.6.1.4.1.14519.5.2.1.6279.6001.219087313261026510628926082729.npy\n",
      "\n",
      "Processing file: LUNA16/Dataset/subset0/1.3.6.1.4.1.14519.5.2.1.6279.6001.975254950136384517744116790879.mhd\n",
      "SeriesUID for current file: 1.3.6.1.4.1.14519.5.2.1.6279.6001.975254950136384517744116790879\n",
      "Found 962 nodes for seriesuid: 1.3.6.1.4.1.14519.5.2.1.6279.6001.975254950136384517744116790879\n",
      "Image array shape: (124, 512, 512)\n",
      "Output path for .npy file: LUNA16/Luna Output/subset0/1.3.6.1.4.1.14519.5.2.1.6279.6001.975254950136384517744116790879.npy\n",
      "Saved: LUNA16/Luna Output/subset0/1.3.6.1.4.1.14519.5.2.1.6279.6001.975254950136384517744116790879.npy\n",
      "\n",
      "Processing file: LUNA16/Dataset/subset0/1.3.6.1.4.1.14519.5.2.1.6279.6001.310548927038333190233889983845.mhd\n",
      "SeriesUID for current file: 1.3.6.1.4.1.14519.5.2.1.6279.6001.310548927038333190233889983845\n",
      "Found 927 nodes for seriesuid: 1.3.6.1.4.1.14519.5.2.1.6279.6001.310548927038333190233889983845\n"
     ]
    },
    {
     "name": "stderr",
     "output_type": "stream",
     "text": [
      "\r",
      "  7%|███                                       | 65/888 [00:18<03:01,  4.54it/s]"
     ]
    },
    {
     "name": "stdout",
     "output_type": "stream",
     "text": [
      "Image array shape: (127, 512, 512)\n",
      "Output path for .npy file: LUNA16/Luna Output/subset0/1.3.6.1.4.1.14519.5.2.1.6279.6001.310548927038333190233889983845.npy\n",
      "Saved: LUNA16/Luna Output/subset0/1.3.6.1.4.1.14519.5.2.1.6279.6001.310548927038333190233889983845.npy\n",
      "\n",
      "Processing file: LUNA16/Dataset/subset0/1.3.6.1.4.1.14519.5.2.1.6279.6001.141069661700670042960678408762.mhd\n",
      "SeriesUID for current file: 1.3.6.1.4.1.14519.5.2.1.6279.6001.141069661700670042960678408762\n",
      "Found 1096 nodes for seriesuid: 1.3.6.1.4.1.14519.5.2.1.6279.6001.141069661700670042960678408762\n"
     ]
    },
    {
     "name": "stderr",
     "output_type": "stream",
     "text": [
      "\r",
      "  7%|███                                       | 66/888 [00:19<03:22,  4.07it/s]"
     ]
    },
    {
     "name": "stdout",
     "output_type": "stream",
     "text": [
      "Image array shape: (280, 512, 512)\n",
      "Output path for .npy file: LUNA16/Luna Output/subset0/1.3.6.1.4.1.14519.5.2.1.6279.6001.141069661700670042960678408762.npy\n",
      "Saved: LUNA16/Luna Output/subset0/1.3.6.1.4.1.14519.5.2.1.6279.6001.141069661700670042960678408762.npy\n",
      "\n",
      "Processing file: LUNA16/Dataset/subset0/1.3.6.1.4.1.14519.5.2.1.6279.6001.511347030803753100045216493273.mhd\n",
      "SeriesUID for current file: 1.3.6.1.4.1.14519.5.2.1.6279.6001.511347030803753100045216493273\n",
      "Found 1166 nodes for seriesuid: 1.3.6.1.4.1.14519.5.2.1.6279.6001.511347030803753100045216493273\n"
     ]
    },
    {
     "name": "stderr",
     "output_type": "stream",
     "text": [
      "\r",
      "  8%|███▏                                      | 67/888 [00:19<02:57,  4.63it/s]"
     ]
    },
    {
     "name": "stdout",
     "output_type": "stream",
     "text": [
      "Image array shape: (147, 512, 512)\n",
      "Output path for .npy file: LUNA16/Luna Output/subset0/1.3.6.1.4.1.14519.5.2.1.6279.6001.511347030803753100045216493273.npy\n",
      "Saved: LUNA16/Luna Output/subset0/1.3.6.1.4.1.14519.5.2.1.6279.6001.511347030803753100045216493273.npy\n",
      "\n",
      "Processing file: LUNA16/Dataset/subset0/1.3.6.1.4.1.14519.5.2.1.6279.6001.249530219848512542668813996730.mhd\n",
      "SeriesUID for current file: 1.3.6.1.4.1.14519.5.2.1.6279.6001.249530219848512542668813996730\n",
      "Found 713 nodes for seriesuid: 1.3.6.1.4.1.14519.5.2.1.6279.6001.249530219848512542668813996730\n",
      "Image array shape: (481, 512, 512)\n",
      "Output path for .npy file: LUNA16/Luna Output/subset0/1.3.6.1.4.1.14519.5.2.1.6279.6001.249530219848512542668813996730.npy\n"
     ]
    },
    {
     "name": "stderr",
     "output_type": "stream",
     "text": [
      "\r",
      "  8%|███▏                                      | 68/888 [00:20<05:30,  2.48it/s]"
     ]
    },
    {
     "name": "stdout",
     "output_type": "stream",
     "text": [
      "Saved: LUNA16/Luna Output/subset0/1.3.6.1.4.1.14519.5.2.1.6279.6001.249530219848512542668813996730.npy\n",
      "\n",
      "Processing file: LUNA16/Dataset/subset0/1.3.6.1.4.1.14519.5.2.1.6279.6001.216882370221919561230873289517.mhd\n",
      "SeriesUID for current file: 1.3.6.1.4.1.14519.5.2.1.6279.6001.216882370221919561230873289517\n",
      "Found 742 nodes for seriesuid: 1.3.6.1.4.1.14519.5.2.1.6279.6001.216882370221919561230873289517\n"
     ]
    },
    {
     "name": "stderr",
     "output_type": "stream",
     "text": [
      "\r",
      "  8%|███▎                                      | 69/888 [00:20<05:17,  2.58it/s]"
     ]
    },
    {
     "name": "stdout",
     "output_type": "stream",
     "text": [
      "Image array shape: (250, 512, 512)\n",
      "Output path for .npy file: LUNA16/Luna Output/subset0/1.3.6.1.4.1.14519.5.2.1.6279.6001.216882370221919561230873289517.npy\n",
      "Saved: LUNA16/Luna Output/subset0/1.3.6.1.4.1.14519.5.2.1.6279.6001.216882370221919561230873289517.npy\n",
      "\n",
      "Processing file: LUNA16/Dataset/subset0/1.3.6.1.4.1.14519.5.2.1.6279.6001.111172165674661221381920536987.mhd\n",
      "SeriesUID for current file: 1.3.6.1.4.1.14519.5.2.1.6279.6001.111172165674661221381920536987\n",
      "Found 730 nodes for seriesuid: 1.3.6.1.4.1.14519.5.2.1.6279.6001.111172165674661221381920536987\n"
     ]
    },
    {
     "name": "stderr",
     "output_type": "stream",
     "text": [
      "\r",
      "  8%|███▎                                      | 70/888 [00:21<05:37,  2.42it/s]"
     ]
    },
    {
     "name": "stdout",
     "output_type": "stream",
     "text": [
      "Image array shape: (538, 512, 512)\n",
      "Output path for .npy file: LUNA16/Luna Output/subset0/1.3.6.1.4.1.14519.5.2.1.6279.6001.111172165674661221381920536987.npy\n",
      "Saved: LUNA16/Luna Output/subset0/1.3.6.1.4.1.14519.5.2.1.6279.6001.111172165674661221381920536987.npy\n",
      "\n",
      "Processing file: LUNA16/Dataset/subset0/1.3.6.1.4.1.14519.5.2.1.6279.6001.134996872583497382954024478441.mhd\n",
      "SeriesUID for current file: 1.3.6.1.4.1.14519.5.2.1.6279.6001.134996872583497382954024478441\n",
      "Found 969 nodes for seriesuid: 1.3.6.1.4.1.14519.5.2.1.6279.6001.134996872583497382954024478441\n",
      "Image array shape: (197, 512, 512)\n",
      "Output path for .npy file: LUNA16/Luna Output/subset0/1.3.6.1.4.1.14519.5.2.1.6279.6001.134996872583497382954024478441.npy\n"
     ]
    },
    {
     "name": "stderr",
     "output_type": "stream",
     "text": [
      "  8%|███▍                                      | 72/888 [00:21<04:15,  3.19it/s]"
     ]
    },
    {
     "name": "stdout",
     "output_type": "stream",
     "text": [
      "Saved: LUNA16/Luna Output/subset0/1.3.6.1.4.1.14519.5.2.1.6279.6001.134996872583497382954024478441.npy\n",
      "\n",
      "Processing file: LUNA16/Dataset/subset0/1.3.6.1.4.1.14519.5.2.1.6279.6001.210837812047373739447725050963.mhd\n",
      "SeriesUID for current file: 1.3.6.1.4.1.14519.5.2.1.6279.6001.210837812047373739447725050963\n",
      "Found 550 nodes for seriesuid: 1.3.6.1.4.1.14519.5.2.1.6279.6001.210837812047373739447725050963\n",
      "Image array shape: (194, 512, 512)\n",
      "Output path for .npy file: LUNA16/Luna Output/subset0/1.3.6.1.4.1.14519.5.2.1.6279.6001.210837812047373739447725050963.npy\n",
      "Saved: LUNA16/Luna Output/subset0/1.3.6.1.4.1.14519.5.2.1.6279.6001.210837812047373739447725050963.npy\n",
      "\n",
      "Processing file: LUNA16/Dataset/subset0/1.3.6.1.4.1.14519.5.2.1.6279.6001.130438550890816550994739120843.mhd\n",
      "SeriesUID for current file: 1.3.6.1.4.1.14519.5.2.1.6279.6001.130438550890816550994739120843\n",
      "Found 1262 nodes for seriesuid: 1.3.6.1.4.1.14519.5.2.1.6279.6001.130438550890816550994739120843\n",
      "Image array shape: (274, 512, 512)\n",
      "Output path for .npy file: LUNA16/Luna Output/subset0/1.3.6.1.4.1.14519.5.2.1.6279.6001.130438550890816550994739120843.npy\n"
     ]
    },
    {
     "name": "stderr",
     "output_type": "stream",
     "text": [
      "  8%|███▌                                      | 74/888 [00:21<03:41,  3.68it/s]"
     ]
    },
    {
     "name": "stdout",
     "output_type": "stream",
     "text": [
      "Saved: LUNA16/Luna Output/subset0/1.3.6.1.4.1.14519.5.2.1.6279.6001.130438550890816550994739120843.npy\n",
      "\n",
      "Processing file: LUNA16/Dataset/subset0/1.3.6.1.4.1.14519.5.2.1.6279.6001.269689294231892620436462818860.mhd\n",
      "SeriesUID for current file: 1.3.6.1.4.1.14519.5.2.1.6279.6001.269689294231892620436462818860\n",
      "Found 612 nodes for seriesuid: 1.3.6.1.4.1.14519.5.2.1.6279.6001.269689294231892620436462818860\n",
      "Image array shape: (123, 512, 512)\n",
      "Output path for .npy file: LUNA16/Luna Output/subset0/1.3.6.1.4.1.14519.5.2.1.6279.6001.269689294231892620436462818860.npy\n",
      "Saved: LUNA16/Luna Output/subset0/1.3.6.1.4.1.14519.5.2.1.6279.6001.269689294231892620436462818860.npy\n",
      "\n",
      "Processing file: LUNA16/Dataset/subset0/1.3.6.1.4.1.14519.5.2.1.6279.6001.128023902651233986592378348912.mhd\n",
      "SeriesUID for current file: 1.3.6.1.4.1.14519.5.2.1.6279.6001.128023902651233986592378348912\n"
     ]
    },
    {
     "name": "stderr",
     "output_type": "stream",
     "text": [
      "\r",
      "  8%|███▌                                      | 75/888 [00:22<03:09,  4.30it/s]"
     ]
    },
    {
     "name": "stdout",
     "output_type": "stream",
     "text": [
      "Found 1083 nodes for seriesuid: 1.3.6.1.4.1.14519.5.2.1.6279.6001.128023902651233986592378348912\n",
      "Image array shape: (133, 512, 512)\n",
      "Output path for .npy file: LUNA16/Luna Output/subset0/1.3.6.1.4.1.14519.5.2.1.6279.6001.128023902651233986592378348912.npy\n",
      "Saved: LUNA16/Luna Output/subset0/1.3.6.1.4.1.14519.5.2.1.6279.6001.128023902651233986592378348912.npy\n",
      "\n",
      "Processing file: LUNA16/Dataset/subset0/1.3.6.1.4.1.14519.5.2.1.6279.6001.450501966058662668272378865145.mhd\n",
      "SeriesUID for current file: 1.3.6.1.4.1.14519.5.2.1.6279.6001.450501966058662668272378865145\n",
      "Found 1108 nodes for seriesuid: 1.3.6.1.4.1.14519.5.2.1.6279.6001.450501966058662668272378865145\n",
      "Image array shape: (129, 512, 512)\n",
      "Output path for .npy file: LUNA16/Luna Output/subset0/1.3.6.1.4.1.14519.5.2.1.6279.6001.450501966058662668272378865145.npy\n"
     ]
    },
    {
     "name": "stderr",
     "output_type": "stream",
     "text": [
      "\r",
      "  9%|███▌                                      | 76/888 [00:22<02:44,  4.94it/s]"
     ]
    },
    {
     "name": "stdout",
     "output_type": "stream",
     "text": [
      "Saved: LUNA16/Luna Output/subset0/1.3.6.1.4.1.14519.5.2.1.6279.6001.450501966058662668272378865145.npy\n",
      "\n",
      "Processing file: LUNA16/Dataset/subset0/1.3.6.1.4.1.14519.5.2.1.6279.6001.281489753704424911132261151767.mhd\n",
      "SeriesUID for current file: 1.3.6.1.4.1.14519.5.2.1.6279.6001.281489753704424911132261151767\n",
      "Found 883 nodes for seriesuid: 1.3.6.1.4.1.14519.5.2.1.6279.6001.281489753704424911132261151767\n",
      "Image array shape: (471, 512, 512)\n",
      "Output path for .npy file: LUNA16/Luna Output/subset0/1.3.6.1.4.1.14519.5.2.1.6279.6001.281489753704424911132261151767.npy\n"
     ]
    },
    {
     "name": "stderr",
     "output_type": "stream",
     "text": [
      "  9%|███▋                                      | 78/888 [00:22<03:30,  3.85it/s]"
     ]
    },
    {
     "name": "stdout",
     "output_type": "stream",
     "text": [
      "Saved: LUNA16/Luna Output/subset0/1.3.6.1.4.1.14519.5.2.1.6279.6001.281489753704424911132261151767.npy\n",
      "\n",
      "Processing file: LUNA16/Dataset/subset0/1.3.6.1.4.1.14519.5.2.1.6279.6001.566816709786169715745131047975.mhd\n",
      "SeriesUID for current file: 1.3.6.1.4.1.14519.5.2.1.6279.6001.566816709786169715745131047975\n",
      "Found 1091 nodes for seriesuid: 1.3.6.1.4.1.14519.5.2.1.6279.6001.566816709786169715745131047975\n",
      "Image array shape: (133, 512, 512)\n",
      "Output path for .npy file: LUNA16/Luna Output/subset0/1.3.6.1.4.1.14519.5.2.1.6279.6001.566816709786169715745131047975.npy\n",
      "Saved: LUNA16/Luna Output/subset0/1.3.6.1.4.1.14519.5.2.1.6279.6001.566816709786169715745131047975.npy\n",
      "\n",
      "Processing file: LUNA16/Dataset/subset0/1.3.6.1.4.1.14519.5.2.1.6279.6001.139713436241461669335487719526.mhd\n",
      "SeriesUID for current file: 1.3.6.1.4.1.14519.5.2.1.6279.6001.139713436241461669335487719526\n",
      "Found 1068 nodes for seriesuid: 1.3.6.1.4.1.14519.5.2.1.6279.6001.139713436241461669335487719526\n"
     ]
    },
    {
     "name": "stderr",
     "output_type": "stream",
     "text": [
      "\r",
      "  9%|███▋                                      | 79/888 [00:23<03:02,  4.42it/s]"
     ]
    },
    {
     "name": "stdout",
     "output_type": "stream",
     "text": [
      "Image array shape: (140, 512, 512)\n",
      "Output path for .npy file: LUNA16/Luna Output/subset0/1.3.6.1.4.1.14519.5.2.1.6279.6001.139713436241461669335487719526.npy\n",
      "Saved: LUNA16/Luna Output/subset0/1.3.6.1.4.1.14519.5.2.1.6279.6001.139713436241461669335487719526.npy\n",
      "\n",
      "Processing file: LUNA16/Dataset/subset0/1.3.6.1.4.1.14519.5.2.1.6279.6001.231645134739451754302647733304.mhd\n",
      "SeriesUID for current file: 1.3.6.1.4.1.14519.5.2.1.6279.6001.231645134739451754302647733304\n",
      "Found 552 nodes for seriesuid: 1.3.6.1.4.1.14519.5.2.1.6279.6001.231645134739451754302647733304\n",
      "Image array shape: (255, 512, 512)\n",
      "Output path for .npy file: LUNA16/Luna Output/subset0/1.3.6.1.4.1.14519.5.2.1.6279.6001.231645134739451754302647733304.npy\n"
     ]
    },
    {
     "name": "stderr",
     "output_type": "stream",
     "text": [
      "  9%|███▊                                      | 81/888 [00:23<02:40,  5.04it/s]"
     ]
    },
    {
     "name": "stdout",
     "output_type": "stream",
     "text": [
      "Saved: LUNA16/Luna Output/subset0/1.3.6.1.4.1.14519.5.2.1.6279.6001.231645134739451754302647733304.npy\n",
      "\n",
      "Processing file: LUNA16/Dataset/subset0/1.3.6.1.4.1.14519.5.2.1.6279.6001.657775098760536289051744981056.mhd\n",
      "SeriesUID for current file: 1.3.6.1.4.1.14519.5.2.1.6279.6001.657775098760536289051744981056\n",
      "Found 676 nodes for seriesuid: 1.3.6.1.4.1.14519.5.2.1.6279.6001.657775098760536289051744981056\n",
      "Image array shape: (120, 512, 512)\n",
      "Output path for .npy file: LUNA16/Luna Output/subset0/1.3.6.1.4.1.14519.5.2.1.6279.6001.657775098760536289051744981056.npy\n",
      "Saved: LUNA16/Luna Output/subset0/1.3.6.1.4.1.14519.5.2.1.6279.6001.657775098760536289051744981056.npy\n",
      "\n",
      "Processing file: LUNA16/Dataset/subset0/1.3.6.1.4.1.14519.5.2.1.6279.6001.534083630500464995109143618896.mhd\n",
      "SeriesUID for current file: 1.3.6.1.4.1.14519.5.2.1.6279.6001.534083630500464995109143618896\n",
      "Found 711 nodes for seriesuid: 1.3.6.1.4.1.14519.5.2.1.6279.6001.534083630500464995109143618896\n"
     ]
    },
    {
     "name": "stderr",
     "output_type": "stream",
     "text": [
      "\r",
      "  9%|███▉                                      | 82/888 [00:23<02:45,  4.88it/s]"
     ]
    },
    {
     "name": "stdout",
     "output_type": "stream",
     "text": [
      "Image array shape: (229, 512, 512)\n",
      "Output path for .npy file: LUNA16/Luna Output/subset0/1.3.6.1.4.1.14519.5.2.1.6279.6001.534083630500464995109143618896.npy\n",
      "Saved: LUNA16/Luna Output/subset0/1.3.6.1.4.1.14519.5.2.1.6279.6001.534083630500464995109143618896.npy\n",
      "\n",
      "Processing file: LUNA16/Dataset/subset0/1.3.6.1.4.1.14519.5.2.1.6279.6001.534006575256943390479252771547.mhd\n",
      "SeriesUID for current file: 1.3.6.1.4.1.14519.5.2.1.6279.6001.534006575256943390479252771547\n",
      "Found 1156 nodes for seriesuid: 1.3.6.1.4.1.14519.5.2.1.6279.6001.534006575256943390479252771547\n",
      "Image array shape: (545, 512, 512)\n",
      "Output path for .npy file: LUNA16/Luna Output/subset0/1.3.6.1.4.1.14519.5.2.1.6279.6001.534006575256943390479252771547.npy\n"
     ]
    },
    {
     "name": "stderr",
     "output_type": "stream",
     "text": [
      "  9%|███▉                                      | 84/888 [00:24<04:26,  3.02it/s]"
     ]
    },
    {
     "name": "stdout",
     "output_type": "stream",
     "text": [
      "Saved: LUNA16/Luna Output/subset0/1.3.6.1.4.1.14519.5.2.1.6279.6001.534006575256943390479252771547.npy\n",
      "\n",
      "Processing file: LUNA16/Dataset/subset0/1.3.6.1.4.1.14519.5.2.1.6279.6001.979083010707182900091062408058.mhd\n",
      "SeriesUID for current file: 1.3.6.1.4.1.14519.5.2.1.6279.6001.979083010707182900091062408058\n",
      "Found 1024 nodes for seriesuid: 1.3.6.1.4.1.14519.5.2.1.6279.6001.979083010707182900091062408058\n",
      "Image array shape: (140, 512, 512)\n",
      "Output path for .npy file: LUNA16/Luna Output/subset0/1.3.6.1.4.1.14519.5.2.1.6279.6001.979083010707182900091062408058.npy\n",
      "Saved: LUNA16/Luna Output/subset0/1.3.6.1.4.1.14519.5.2.1.6279.6001.979083010707182900091062408058.npy\n",
      "\n",
      "Processing file: LUNA16/Dataset/subset0/1.3.6.1.4.1.14519.5.2.1.6279.6001.144438612068946916340281098509.mhd\n",
      "SeriesUID for current file: 1.3.6.1.4.1.14519.5.2.1.6279.6001.144438612068946916340281098509\n"
     ]
    },
    {
     "name": "stderr",
     "output_type": "stream",
     "text": [
      "\r",
      " 10%|████                                      | 85/888 [00:24<03:44,  3.57it/s]"
     ]
    },
    {
     "name": "stdout",
     "output_type": "stream",
     "text": [
      "Found 673 nodes for seriesuid: 1.3.6.1.4.1.14519.5.2.1.6279.6001.144438612068946916340281098509\n",
      "Image array shape: (157, 512, 512)\n",
      "Output path for .npy file: LUNA16/Luna Output/subset0/1.3.6.1.4.1.14519.5.2.1.6279.6001.144438612068946916340281098509.npy\n",
      "Saved: LUNA16/Luna Output/subset0/1.3.6.1.4.1.14519.5.2.1.6279.6001.144438612068946916340281098509.npy\n",
      "\n",
      "Processing file: LUNA16/Dataset/subset0/1.3.6.1.4.1.14519.5.2.1.6279.6001.278660284797073139172446973682.mhd\n",
      "SeriesUID for current file: 1.3.6.1.4.1.14519.5.2.1.6279.6001.278660284797073139172446973682\n",
      "Found 459 nodes for seriesuid: 1.3.6.1.4.1.14519.5.2.1.6279.6001.278660284797073139172446973682\n",
      "Image array shape: (117, 512, 512)\n",
      "Output path for .npy file: LUNA16/Luna Output/subset0/1.3.6.1.4.1.14519.5.2.1.6279.6001.278660284797073139172446973682.npy\n"
     ]
    },
    {
     "name": "stderr",
     "output_type": "stream",
     "text": [
      "\r",
      " 10%|████                                      | 86/888 [00:24<03:05,  4.33it/s]"
     ]
    },
    {
     "name": "stdout",
     "output_type": "stream",
     "text": [
      "Saved: LUNA16/Luna Output/subset0/1.3.6.1.4.1.14519.5.2.1.6279.6001.278660284797073139172446973682.npy\n",
      "\n",
      "Processing file: LUNA16/Dataset/subset0/1.3.6.1.4.1.14519.5.2.1.6279.6001.213140617640021803112060161074.mhd\n",
      "SeriesUID for current file: 1.3.6.1.4.1.14519.5.2.1.6279.6001.213140617640021803112060161074\n",
      "Found 912 nodes for seriesuid: 1.3.6.1.4.1.14519.5.2.1.6279.6001.213140617640021803112060161074\n",
      "Image array shape: (276, 512, 512)\n",
      "Output path for .npy file: LUNA16/Luna Output/subset0/1.3.6.1.4.1.14519.5.2.1.6279.6001.213140617640021803112060161074.npy\n"
     ]
    },
    {
     "name": "stderr",
     "output_type": "stream",
     "text": [
      " 10%|████▏                                     | 88/888 [00:25<02:49,  4.71it/s]"
     ]
    },
    {
     "name": "stdout",
     "output_type": "stream",
     "text": [
      "Saved: LUNA16/Luna Output/subset0/1.3.6.1.4.1.14519.5.2.1.6279.6001.213140617640021803112060161074.npy\n",
      "\n",
      "Processing file: LUNA16/Dataset/subset0/1.3.6.1.4.1.14519.5.2.1.6279.6001.202811684116768680758082619196.mhd\n",
      "SeriesUID for current file: 1.3.6.1.4.1.14519.5.2.1.6279.6001.202811684116768680758082619196\n",
      "Found 1060 nodes for seriesuid: 1.3.6.1.4.1.14519.5.2.1.6279.6001.202811684116768680758082619196\n",
      "Image array shape: (133, 512, 512)\n",
      "Output path for .npy file: LUNA16/Luna Output/subset0/1.3.6.1.4.1.14519.5.2.1.6279.6001.202811684116768680758082619196.npy\n",
      "Saved: LUNA16/Luna Output/subset0/1.3.6.1.4.1.14519.5.2.1.6279.6001.202811684116768680758082619196.npy\n",
      "\n",
      "Processing file: LUNA16/Dataset/subset0/1.3.6.1.4.1.14519.5.2.1.6279.6001.188209889686363159853715266493.mhd\n",
      "SeriesUID for current file: 1.3.6.1.4.1.14519.5.2.1.6279.6001.188209889686363159853715266493\n",
      "Found 881 nodes for seriesuid: 1.3.6.1.4.1.14519.5.2.1.6279.6001.188209889686363159853715266493\n"
     ]
    },
    {
     "name": "stderr",
     "output_type": "stream",
     "text": [
      "\r",
      " 10%|████▏                                     | 89/888 [00:25<02:30,  5.31it/s]"
     ]
    },
    {
     "name": "stdout",
     "output_type": "stream",
     "text": [
      "Image array shape: (147, 512, 512)\n",
      "Output path for .npy file: LUNA16/Luna Output/subset0/1.3.6.1.4.1.14519.5.2.1.6279.6001.188209889686363159853715266493.npy\n",
      "Saved: LUNA16/Luna Output/subset0/1.3.6.1.4.1.14519.5.2.1.6279.6001.188209889686363159853715266493.npy\n",
      "\n",
      "Processing file: LUNA16/Dataset/subset1/1.3.6.1.4.1.14519.5.2.1.6279.6001.168037818448885856452592057286.mhd\n",
      "SeriesUID for current file: 1.3.6.1.4.1.14519.5.2.1.6279.6001.168037818448885856452592057286\n",
      "Found 743 nodes for seriesuid: 1.3.6.1.4.1.14519.5.2.1.6279.6001.168037818448885856452592057286\n",
      "Image array shape: (636, 512, 512)\n",
      "Output path for .npy file: LUNA16/Luna Output/subset1/1.3.6.1.4.1.14519.5.2.1.6279.6001.168037818448885856452592057286.npy\n"
     ]
    },
    {
     "name": "stderr",
     "output_type": "stream",
     "text": [
      " 10%|████▎                                     | 91/888 [00:26<04:12,  3.16it/s]"
     ]
    },
    {
     "name": "stdout",
     "output_type": "stream",
     "text": [
      "Saved: LUNA16/Luna Output/subset1/1.3.6.1.4.1.14519.5.2.1.6279.6001.168037818448885856452592057286.npy\n",
      "\n",
      "Processing file: LUNA16/Dataset/subset1/1.3.6.1.4.1.14519.5.2.1.6279.6001.314789075871001236641548593165.mhd\n",
      "SeriesUID for current file: 1.3.6.1.4.1.14519.5.2.1.6279.6001.314789075871001236641548593165\n",
      "Found 947 nodes for seriesuid: 1.3.6.1.4.1.14519.5.2.1.6279.6001.314789075871001236641548593165\n",
      "Image array shape: (181, 512, 512)\n",
      "Output path for .npy file: LUNA16/Luna Output/subset1/1.3.6.1.4.1.14519.5.2.1.6279.6001.314789075871001236641548593165.npy\n",
      "Saved: LUNA16/Luna Output/subset1/1.3.6.1.4.1.14519.5.2.1.6279.6001.314789075871001236641548593165.npy\n",
      "\n",
      "Processing file: LUNA16/Dataset/subset1/1.3.6.1.4.1.14519.5.2.1.6279.6001.193808128386712859512130599234.mhd\n",
      "SeriesUID for current file: 1.3.6.1.4.1.14519.5.2.1.6279.6001.193808128386712859512130599234\n",
      "Found 689 nodes for seriesuid: 1.3.6.1.4.1.14519.5.2.1.6279.6001.193808128386712859512130599234\n"
     ]
    },
    {
     "name": "stderr",
     "output_type": "stream",
     "text": [
      "\r",
      " 10%|████▎                                     | 92/888 [00:26<03:34,  3.71it/s]"
     ]
    },
    {
     "name": "stdout",
     "output_type": "stream",
     "text": [
      "Image array shape: (128, 512, 512)\n",
      "Output path for .npy file: LUNA16/Luna Output/subset1/1.3.6.1.4.1.14519.5.2.1.6279.6001.193808128386712859512130599234.npy\n",
      "Saved: LUNA16/Luna Output/subset1/1.3.6.1.4.1.14519.5.2.1.6279.6001.193808128386712859512130599234.npy\n",
      "\n",
      "Processing file: LUNA16/Dataset/subset1/1.3.6.1.4.1.14519.5.2.1.6279.6001.134370886216012873213579659366.mhd\n",
      "SeriesUID for current file: 1.3.6.1.4.1.14519.5.2.1.6279.6001.134370886216012873213579659366\n",
      "Found 875 nodes for seriesuid: 1.3.6.1.4.1.14519.5.2.1.6279.6001.134370886216012873213579659366\n"
     ]
    },
    {
     "name": "stderr",
     "output_type": "stream",
     "text": [
      "\r",
      " 10%|████▍                                     | 93/888 [00:26<03:23,  3.92it/s]"
     ]
    },
    {
     "name": "stdout",
     "output_type": "stream",
     "text": [
      "Image array shape: (202, 512, 512)\n",
      "Output path for .npy file: LUNA16/Luna Output/subset1/1.3.6.1.4.1.14519.5.2.1.6279.6001.134370886216012873213579659366.npy\n",
      "Saved: LUNA16/Luna Output/subset1/1.3.6.1.4.1.14519.5.2.1.6279.6001.134370886216012873213579659366.npy\n",
      "\n",
      "Processing file: LUNA16/Dataset/subset1/1.3.6.1.4.1.14519.5.2.1.6279.6001.970264865033574190975654369557.mhd\n",
      "SeriesUID for current file: 1.3.6.1.4.1.14519.5.2.1.6279.6001.970264865033574190975654369557\n",
      "Found 966 nodes for seriesuid: 1.3.6.1.4.1.14519.5.2.1.6279.6001.970264865033574190975654369557\n",
      "Image array shape: (433, 512, 512)\n",
      "Output path for .npy file: LUNA16/Luna Output/subset1/1.3.6.1.4.1.14519.5.2.1.6279.6001.970264865033574190975654369557.npy\n"
     ]
    },
    {
     "name": "stderr",
     "output_type": "stream",
     "text": [
      " 11%|████▍                                     | 95/888 [00:27<03:43,  3.54it/s]"
     ]
    },
    {
     "name": "stdout",
     "output_type": "stream",
     "text": [
      "Saved: LUNA16/Luna Output/subset1/1.3.6.1.4.1.14519.5.2.1.6279.6001.970264865033574190975654369557.npy\n",
      "\n",
      "Processing file: LUNA16/Dataset/subset1/1.3.6.1.4.1.14519.5.2.1.6279.6001.139595277234735528205899724196.mhd\n",
      "SeriesUID for current file: 1.3.6.1.4.1.14519.5.2.1.6279.6001.139595277234735528205899724196\n",
      "Found 390 nodes for seriesuid: 1.3.6.1.4.1.14519.5.2.1.6279.6001.139595277234735528205899724196\n",
      "Image array shape: (172, 512, 512)\n",
      "Output path for .npy file: LUNA16/Luna Output/subset1/1.3.6.1.4.1.14519.5.2.1.6279.6001.139595277234735528205899724196.npy\n",
      "Saved: LUNA16/Luna Output/subset1/1.3.6.1.4.1.14519.5.2.1.6279.6001.139595277234735528205899724196.npy\n",
      "\n",
      "Processing file: LUNA16/Dataset/subset1/1.3.6.1.4.1.14519.5.2.1.6279.6001.247769845138587733933485039556.mhd\n",
      "SeriesUID for current file: 1.3.6.1.4.1.14519.5.2.1.6279.6001.247769845138587733933485039556\n",
      "Found 589 nodes for seriesuid: 1.3.6.1.4.1.14519.5.2.1.6279.6001.247769845138587733933485039556\n",
      "Image array shape: (436, 512, 512)\n",
      "Output path for .npy file: LUNA16/Luna Output/subset1/1.3.6.1.4.1.14519.5.2.1.6279.6001.247769845138587733933485039556.npy\n"
     ]
    },
    {
     "name": "stderr",
     "output_type": "stream",
     "text": [
      "\r",
      " 11%|████▌                                     | 96/888 [00:28<04:35,  2.87it/s]"
     ]
    },
    {
     "name": "stdout",
     "output_type": "stream",
     "text": [
      "Saved: LUNA16/Luna Output/subset1/1.3.6.1.4.1.14519.5.2.1.6279.6001.247769845138587733933485039556.npy\n",
      "\n",
      "Processing file: LUNA16/Dataset/subset1/1.3.6.1.4.1.14519.5.2.1.6279.6001.336894364358709782463716339027.mhd\n",
      "SeriesUID for current file: 1.3.6.1.4.1.14519.5.2.1.6279.6001.336894364358709782463716339027\n",
      "Found 622 nodes for seriesuid: 1.3.6.1.4.1.14519.5.2.1.6279.6001.336894364358709782463716339027\n"
     ]
    },
    {
     "name": "stderr",
     "output_type": "stream",
     "text": [
      "\r",
      " 11%|████▌                                     | 97/888 [00:28<05:29,  2.40it/s]"
     ]
    },
    {
     "name": "stdout",
     "output_type": "stream",
     "text": [
      "Image array shape: (519, 512, 512)\n",
      "Output path for .npy file: LUNA16/Luna Output/subset1/1.3.6.1.4.1.14519.5.2.1.6279.6001.336894364358709782463716339027.npy\n",
      "Saved: LUNA16/Luna Output/subset1/1.3.6.1.4.1.14519.5.2.1.6279.6001.336894364358709782463716339027.npy\n",
      "\n",
      "Processing file: LUNA16/Dataset/subset1/1.3.6.1.4.1.14519.5.2.1.6279.6001.861997885565255340442123234170.mhd\n",
      "SeriesUID for current file: 1.3.6.1.4.1.14519.5.2.1.6279.6001.861997885565255340442123234170\n"
     ]
    },
    {
     "name": "stderr",
     "output_type": "stream",
     "text": [
      "\r",
      " 11%|████▋                                     | 98/888 [00:28<04:32,  2.90it/s]"
     ]
    },
    {
     "name": "stdout",
     "output_type": "stream",
     "text": [
      "Found 1131 nodes for seriesuid: 1.3.6.1.4.1.14519.5.2.1.6279.6001.861997885565255340442123234170\n",
      "Image array shape: (119, 512, 512)\n",
      "Output path for .npy file: LUNA16/Luna Output/subset1/1.3.6.1.4.1.14519.5.2.1.6279.6001.861997885565255340442123234170.npy\n",
      "Saved: LUNA16/Luna Output/subset1/1.3.6.1.4.1.14519.5.2.1.6279.6001.861997885565255340442123234170.npy\n",
      "\n",
      "Processing file: LUNA16/Dataset/subset1/1.3.6.1.4.1.14519.5.2.1.6279.6001.655242448149322898770987310561.mhd\n",
      "SeriesUID for current file: 1.3.6.1.4.1.14519.5.2.1.6279.6001.655242448149322898770987310561\n",
      "Found 969 nodes for seriesuid: 1.3.6.1.4.1.14519.5.2.1.6279.6001.655242448149322898770987310561\n"
     ]
    },
    {
     "name": "stderr",
     "output_type": "stream",
     "text": [
      "\r",
      " 11%|████▋                                     | 99/888 [00:28<03:55,  3.35it/s]"
     ]
    },
    {
     "name": "stdout",
     "output_type": "stream",
     "text": [
      "Image array shape: (141, 512, 512)\n",
      "Output path for .npy file: LUNA16/Luna Output/subset1/1.3.6.1.4.1.14519.5.2.1.6279.6001.655242448149322898770987310561.npy\n",
      "Saved: LUNA16/Luna Output/subset1/1.3.6.1.4.1.14519.5.2.1.6279.6001.655242448149322898770987310561.npy\n",
      "\n",
      "Processing file: LUNA16/Dataset/subset1/1.3.6.1.4.1.14519.5.2.1.6279.6001.162718361851587451505896742103.mhd\n",
      "SeriesUID for current file: 1.3.6.1.4.1.14519.5.2.1.6279.6001.162718361851587451505896742103\n",
      "Found 1249 nodes for seriesuid: 1.3.6.1.4.1.14519.5.2.1.6279.6001.162718361851587451505896742103\n",
      "Image array shape: (139, 512, 512)\n",
      "Output path for .npy file: LUNA16/Luna Output/subset1/1.3.6.1.4.1.14519.5.2.1.6279.6001.162718361851587451505896742103.npy\n"
     ]
    },
    {
     "name": "stderr",
     "output_type": "stream",
     "text": [
      " 11%|████▋                                    | 101/888 [00:29<02:53,  4.53it/s]"
     ]
    },
    {
     "name": "stdout",
     "output_type": "stream",
     "text": [
      "Saved: LUNA16/Luna Output/subset1/1.3.6.1.4.1.14519.5.2.1.6279.6001.162718361851587451505896742103.npy\n",
      "\n",
      "Processing file: LUNA16/Dataset/subset1/1.3.6.1.4.1.14519.5.2.1.6279.6001.100684836163890911914061745866.mhd\n",
      "SeriesUID for current file: 1.3.6.1.4.1.14519.5.2.1.6279.6001.100684836163890911914061745866\n",
      "Found 806 nodes for seriesuid: 1.3.6.1.4.1.14519.5.2.1.6279.6001.100684836163890911914061745866\n",
      "Image array shape: (171, 512, 512)\n",
      "Output path for .npy file: LUNA16/Luna Output/subset1/1.3.6.1.4.1.14519.5.2.1.6279.6001.100684836163890911914061745866.npy\n",
      "Saved: LUNA16/Luna Output/subset1/1.3.6.1.4.1.14519.5.2.1.6279.6001.100684836163890911914061745866.npy\n",
      "\n",
      "Processing file: LUNA16/Dataset/subset1/1.3.6.1.4.1.14519.5.2.1.6279.6001.222087811960706096424718056430.mhd\n",
      "SeriesUID for current file: 1.3.6.1.4.1.14519.5.2.1.6279.6001.222087811960706096424718056430\n",
      "Found 613 nodes for seriesuid: 1.3.6.1.4.1.14519.5.2.1.6279.6001.222087811960706096424718056430\n"
     ]
    },
    {
     "name": "stderr",
     "output_type": "stream",
     "text": [
      "\r",
      " 11%|████▋                                    | 102/888 [00:29<04:20,  3.02it/s]"
     ]
    },
    {
     "name": "stdout",
     "output_type": "stream",
     "text": [
      "Image array shape: (484, 512, 512)\n",
      "Output path for .npy file: LUNA16/Luna Output/subset1/1.3.6.1.4.1.14519.5.2.1.6279.6001.222087811960706096424718056430.npy\n",
      "Saved: LUNA16/Luna Output/subset1/1.3.6.1.4.1.14519.5.2.1.6279.6001.222087811960706096424718056430.npy\n",
      "\n",
      "Processing file: LUNA16/Dataset/subset1/1.3.6.1.4.1.14519.5.2.1.6279.6001.768276876111112560631432843476.mhd\n",
      "SeriesUID for current file: 1.3.6.1.4.1.14519.5.2.1.6279.6001.768276876111112560631432843476\n",
      "Found 1120 nodes for seriesuid: 1.3.6.1.4.1.14519.5.2.1.6279.6001.768276876111112560631432843476\n"
     ]
    },
    {
     "name": "stderr",
     "output_type": "stream",
     "text": [
      "\r",
      " 12%|████▊                                    | 103/888 [00:30<04:56,  2.65it/s]"
     ]
    },
    {
     "name": "stdout",
     "output_type": "stream",
     "text": [
      "Image array shape: (423, 512, 512)\n",
      "Output path for .npy file: LUNA16/Luna Output/subset1/1.3.6.1.4.1.14519.5.2.1.6279.6001.768276876111112560631432843476.npy\n",
      "Saved: LUNA16/Luna Output/subset1/1.3.6.1.4.1.14519.5.2.1.6279.6001.768276876111112560631432843476.npy\n",
      "\n",
      "Processing file: LUNA16/Dataset/subset1/1.3.6.1.4.1.14519.5.2.1.6279.6001.910607280658963002048724648683.mhd\n",
      "SeriesUID for current file: 1.3.6.1.4.1.14519.5.2.1.6279.6001.910607280658963002048724648683\n",
      "Found 712 nodes for seriesuid: 1.3.6.1.4.1.14519.5.2.1.6279.6001.910607280658963002048724648683\n"
     ]
    },
    {
     "name": "stderr",
     "output_type": "stream",
     "text": [
      "\r",
      " 12%|████▊                                    | 104/888 [00:30<04:25,  2.95it/s]"
     ]
    },
    {
     "name": "stdout",
     "output_type": "stream",
     "text": [
      "Image array shape: (220, 512, 512)\n",
      "Output path for .npy file: LUNA16/Luna Output/subset1/1.3.6.1.4.1.14519.5.2.1.6279.6001.910607280658963002048724648683.npy\n",
      "Saved: LUNA16/Luna Output/subset1/1.3.6.1.4.1.14519.5.2.1.6279.6001.910607280658963002048724648683.npy\n",
      "\n",
      "Processing file: LUNA16/Dataset/subset1/1.3.6.1.4.1.14519.5.2.1.6279.6001.335866409407244673864352309754.mhd\n",
      "SeriesUID for current file: 1.3.6.1.4.1.14519.5.2.1.6279.6001.335866409407244673864352309754\n",
      "Found 627 nodes for seriesuid: 1.3.6.1.4.1.14519.5.2.1.6279.6001.335866409407244673864352309754\n"
     ]
    },
    {
     "name": "stderr",
     "output_type": "stream",
     "text": [
      "\r",
      " 12%|████▊                                    | 105/888 [00:30<04:00,  3.26it/s]"
     ]
    },
    {
     "name": "stdout",
     "output_type": "stream",
     "text": [
      "Image array shape: (260, 512, 512)\n",
      "Output path for .npy file: LUNA16/Luna Output/subset1/1.3.6.1.4.1.14519.5.2.1.6279.6001.335866409407244673864352309754.npy\n",
      "Saved: LUNA16/Luna Output/subset1/1.3.6.1.4.1.14519.5.2.1.6279.6001.335866409407244673864352309754.npy\n",
      "\n",
      "Processing file: LUNA16/Dataset/subset1/1.3.6.1.4.1.14519.5.2.1.6279.6001.113697708991260454310623082679.mhd\n",
      "SeriesUID for current file: 1.3.6.1.4.1.14519.5.2.1.6279.6001.113697708991260454310623082679\n",
      "Found 1427 nodes for seriesuid: 1.3.6.1.4.1.14519.5.2.1.6279.6001.113697708991260454310623082679\n",
      "Image array shape: (111, 512, 512)\n",
      "Output path for .npy file: LUNA16/Luna Output/subset1/1.3.6.1.4.1.14519.5.2.1.6279.6001.113697708991260454310623082679.npy\n"
     ]
    },
    {
     "name": "stderr",
     "output_type": "stream",
     "text": [
      "\r",
      " 12%|████▉                                    | 106/888 [00:31<03:25,  3.81it/s]"
     ]
    },
    {
     "name": "stdout",
     "output_type": "stream",
     "text": [
      "Saved: LUNA16/Luna Output/subset1/1.3.6.1.4.1.14519.5.2.1.6279.6001.113697708991260454310623082679.npy\n",
      "\n",
      "Processing file: LUNA16/Dataset/subset1/1.3.6.1.4.1.14519.5.2.1.6279.6001.104562737760173137525888934217.mhd\n",
      "SeriesUID for current file: 1.3.6.1.4.1.14519.5.2.1.6279.6001.104562737760173137525888934217\n",
      "Found 1129 nodes for seriesuid: 1.3.6.1.4.1.14519.5.2.1.6279.6001.104562737760173137525888934217\n"
     ]
    },
    {
     "name": "stderr",
     "output_type": "stream",
     "text": [
      "\r",
      " 12%|████▉                                    | 107/888 [00:31<03:24,  3.82it/s]"
     ]
    },
    {
     "name": "stdout",
     "output_type": "stream",
     "text": [
      "Image array shape: (280, 512, 512)\n",
      "Output path for .npy file: LUNA16/Luna Output/subset1/1.3.6.1.4.1.14519.5.2.1.6279.6001.104562737760173137525888934217.npy\n",
      "Saved: LUNA16/Luna Output/subset1/1.3.6.1.4.1.14519.5.2.1.6279.6001.104562737760173137525888934217.npy\n",
      "\n",
      "Processing file: LUNA16/Dataset/subset1/1.3.6.1.4.1.14519.5.2.1.6279.6001.286647622786041008124419915089.mhd\n",
      "SeriesUID for current file: 1.3.6.1.4.1.14519.5.2.1.6279.6001.286647622786041008124419915089\n",
      "Found 367 nodes for seriesuid: 1.3.6.1.4.1.14519.5.2.1.6279.6001.286647622786041008124419915089\n"
     ]
    },
    {
     "name": "stderr",
     "output_type": "stream",
     "text": [
      "\r",
      " 12%|████▉                                    | 108/888 [00:31<03:26,  3.77it/s]"
     ]
    },
    {
     "name": "stdout",
     "output_type": "stream",
     "text": [
      "Image array shape: (248, 512, 512)\n",
      "Output path for .npy file: LUNA16/Luna Output/subset1/1.3.6.1.4.1.14519.5.2.1.6279.6001.286647622786041008124419915089.npy\n",
      "Saved: LUNA16/Luna Output/subset1/1.3.6.1.4.1.14519.5.2.1.6279.6001.286647622786041008124419915089.npy\n",
      "\n",
      "Processing file: LUNA16/Dataset/subset1/1.3.6.1.4.1.14519.5.2.1.6279.6001.128881800399702510818644205032.mhd\n",
      "SeriesUID for current file: 1.3.6.1.4.1.14519.5.2.1.6279.6001.128881800399702510818644205032\n",
      "Found 716 nodes for seriesuid: 1.3.6.1.4.1.14519.5.2.1.6279.6001.128881800399702510818644205032\n",
      "Image array shape: (131, 512, 512)\n",
      "Output path for .npy file: LUNA16/Luna Output/subset1/1.3.6.1.4.1.14519.5.2.1.6279.6001.128881800399702510818644205032.npy\n"
     ]
    },
    {
     "name": "stderr",
     "output_type": "stream",
     "text": [
      " 12%|█████                                    | 110/888 [00:31<02:43,  4.75it/s]"
     ]
    },
    {
     "name": "stdout",
     "output_type": "stream",
     "text": [
      "Saved: LUNA16/Luna Output/subset1/1.3.6.1.4.1.14519.5.2.1.6279.6001.128881800399702510818644205032.npy\n",
      "\n",
      "Processing file: LUNA16/Dataset/subset1/1.3.6.1.4.1.14519.5.2.1.6279.6001.161073793312426102774780216551.mhd\n",
      "SeriesUID for current file: 1.3.6.1.4.1.14519.5.2.1.6279.6001.161073793312426102774780216551\n",
      "Found 462 nodes for seriesuid: 1.3.6.1.4.1.14519.5.2.1.6279.6001.161073793312426102774780216551\n",
      "Image array shape: (133, 512, 512)\n",
      "Output path for .npy file: LUNA16/Luna Output/subset1/1.3.6.1.4.1.14519.5.2.1.6279.6001.161073793312426102774780216551.npy\n",
      "Saved: LUNA16/Luna Output/subset1/1.3.6.1.4.1.14519.5.2.1.6279.6001.161073793312426102774780216551.npy\n",
      "\n",
      "Processing file: LUNA16/Dataset/subset1/1.3.6.1.4.1.14519.5.2.1.6279.6001.458525794434429386945463560826.mhd\n",
      "SeriesUID for current file: 1.3.6.1.4.1.14519.5.2.1.6279.6001.458525794434429386945463560826\n",
      "Found 1056 nodes for seriesuid: 1.3.6.1.4.1.14519.5.2.1.6279.6001.458525794434429386945463560826\n",
      "Image array shape: (513, 512, 512)\n",
      "Output path for .npy file: LUNA16/Luna Output/subset1/1.3.6.1.4.1.14519.5.2.1.6279.6001.458525794434429386945463560826.npy\n"
     ]
    },
    {
     "name": "stderr",
     "output_type": "stream",
     "text": [
      " 13%|█████▏                                   | 112/888 [00:32<03:58,  3.26it/s]"
     ]
    },
    {
     "name": "stdout",
     "output_type": "stream",
     "text": [
      "Saved: LUNA16/Luna Output/subset1/1.3.6.1.4.1.14519.5.2.1.6279.6001.458525794434429386945463560826.npy\n",
      "\n",
      "Processing file: LUNA16/Dataset/subset1/1.3.6.1.4.1.14519.5.2.1.6279.6001.310395752124284049604069960014.mhd\n",
      "SeriesUID for current file: 1.3.6.1.4.1.14519.5.2.1.6279.6001.310395752124284049604069960014\n",
      "Found 751 nodes for seriesuid: 1.3.6.1.4.1.14519.5.2.1.6279.6001.310395752124284049604069960014\n",
      "Image array shape: (109, 512, 512)\n",
      "Output path for .npy file: LUNA16/Luna Output/subset1/1.3.6.1.4.1.14519.5.2.1.6279.6001.310395752124284049604069960014.npy\n",
      "Saved: LUNA16/Luna Output/subset1/1.3.6.1.4.1.14519.5.2.1.6279.6001.310395752124284049604069960014.npy\n",
      "\n",
      "Processing file: LUNA16/Dataset/subset1/1.3.6.1.4.1.14519.5.2.1.6279.6001.250397690690072950000431855143.mhd\n",
      "SeriesUID for current file: 1.3.6.1.4.1.14519.5.2.1.6279.6001.250397690690072950000431855143\n",
      "Found 657 nodes for seriesuid: 1.3.6.1.4.1.14519.5.2.1.6279.6001.250397690690072950000431855143\n"
     ]
    },
    {
     "name": "stderr",
     "output_type": "stream",
     "text": [
      "\r",
      " 13%|█████▏                                   | 113/888 [00:33<03:45,  3.43it/s]"
     ]
    },
    {
     "name": "stdout",
     "output_type": "stream",
     "text": [
      "Image array shape: (246, 512, 512)\n",
      "Output path for .npy file: LUNA16/Luna Output/subset1/1.3.6.1.4.1.14519.5.2.1.6279.6001.250397690690072950000431855143.npy\n",
      "Saved: LUNA16/Luna Output/subset1/1.3.6.1.4.1.14519.5.2.1.6279.6001.250397690690072950000431855143.npy\n",
      "\n",
      "Processing file: LUNA16/Dataset/subset1/1.3.6.1.4.1.14519.5.2.1.6279.6001.200558451375970945040979397866.mhd\n",
      "SeriesUID for current file: 1.3.6.1.4.1.14519.5.2.1.6279.6001.200558451375970945040979397866\n",
      "Found 746 nodes for seriesuid: 1.3.6.1.4.1.14519.5.2.1.6279.6001.200558451375970945040979397866\n"
     ]
    },
    {
     "name": "stderr",
     "output_type": "stream",
     "text": [
      "\r",
      " 13%|█████▎                                   | 114/888 [00:33<03:38,  3.55it/s]"
     ]
    },
    {
     "name": "stdout",
     "output_type": "stream",
     "text": [
      "Image array shape: (256, 512, 512)\n",
      "Output path for .npy file: LUNA16/Luna Output/subset1/1.3.6.1.4.1.14519.5.2.1.6279.6001.200558451375970945040979397866.npy\n",
      "Saved: LUNA16/Luna Output/subset1/1.3.6.1.4.1.14519.5.2.1.6279.6001.200558451375970945040979397866.npy\n",
      "\n",
      "Processing file: LUNA16/Dataset/subset1/1.3.6.1.4.1.14519.5.2.1.6279.6001.503980049263254396021509831276.mhd\n",
      "SeriesUID for current file: 1.3.6.1.4.1.14519.5.2.1.6279.6001.503980049263254396021509831276\n",
      "Found 615 nodes for seriesuid: 1.3.6.1.4.1.14519.5.2.1.6279.6001.503980049263254396021509831276\n",
      "Image array shape: (113, 512, 512)\n",
      "Output path for .npy file: LUNA16/Luna Output/subset1/1.3.6.1.4.1.14519.5.2.1.6279.6001.503980049263254396021509831276.npy\n"
     ]
    },
    {
     "name": "stderr",
     "output_type": "stream",
     "text": [
      " 13%|█████▎                                   | 116/888 [00:33<02:31,  5.11it/s]"
     ]
    },
    {
     "name": "stdout",
     "output_type": "stream",
     "text": [
      "Saved: LUNA16/Luna Output/subset1/1.3.6.1.4.1.14519.5.2.1.6279.6001.503980049263254396021509831276.npy\n",
      "\n",
      "Processing file: LUNA16/Dataset/subset1/1.3.6.1.4.1.14519.5.2.1.6279.6001.184019785706727365023450012318.mhd\n",
      "SeriesUID for current file: 1.3.6.1.4.1.14519.5.2.1.6279.6001.184019785706727365023450012318\n",
      "Found 544 nodes for seriesuid: 1.3.6.1.4.1.14519.5.2.1.6279.6001.184019785706727365023450012318\n",
      "Image array shape: (116, 512, 512)\n",
      "Output path for .npy file: LUNA16/Luna Output/subset1/1.3.6.1.4.1.14519.5.2.1.6279.6001.184019785706727365023450012318.npy\n",
      "Saved: LUNA16/Luna Output/subset1/1.3.6.1.4.1.14519.5.2.1.6279.6001.184019785706727365023450012318.npy\n",
      "\n",
      "Processing file: LUNA16/Dataset/subset1/1.3.6.1.4.1.14519.5.2.1.6279.6001.179049373636438705059720603192.mhd\n",
      "SeriesUID for current file: 1.3.6.1.4.1.14519.5.2.1.6279.6001.179049373636438705059720603192\n",
      "Found 616 nodes for seriesuid: 1.3.6.1.4.1.14519.5.2.1.6279.6001.179049373636438705059720603192\n",
      "Image array shape: (133, 512, 512)\n",
      "Output path for .npy file: LUNA16/Luna Output/subset1/1.3.6.1.4.1.14519.5.2.1.6279.6001.179049373636438705059720603192.npy\n"
     ]
    },
    {
     "name": "stderr",
     "output_type": "stream",
     "text": [
      "\r",
      " 13%|█████▍                                   | 117/888 [00:33<02:15,  5.68it/s]"
     ]
    },
    {
     "name": "stdout",
     "output_type": "stream",
     "text": [
      "Saved: LUNA16/Luna Output/subset1/1.3.6.1.4.1.14519.5.2.1.6279.6001.179049373636438705059720603192.npy\n",
      "\n",
      "Processing file: LUNA16/Dataset/subset1/1.3.6.1.4.1.14519.5.2.1.6279.6001.206539885154775002929031534291.mhd\n",
      "SeriesUID for current file: 1.3.6.1.4.1.14519.5.2.1.6279.6001.206539885154775002929031534291\n",
      "Found 1011 nodes for seriesuid: 1.3.6.1.4.1.14519.5.2.1.6279.6001.206539885154775002929031534291\n",
      "Image array shape: (198, 512, 512)\n",
      "Output path for .npy file: LUNA16/Luna Output/subset1/1.3.6.1.4.1.14519.5.2.1.6279.6001.206539885154775002929031534291.npy\n"
     ]
    },
    {
     "name": "stderr",
     "output_type": "stream",
     "text": [
      " 13%|█████▍                                   | 119/888 [00:34<02:25,  5.29it/s]"
     ]
    },
    {
     "name": "stdout",
     "output_type": "stream",
     "text": [
      "Saved: LUNA16/Luna Output/subset1/1.3.6.1.4.1.14519.5.2.1.6279.6001.206539885154775002929031534291.npy\n",
      "\n",
      "Processing file: LUNA16/Dataset/subset1/1.3.6.1.4.1.14519.5.2.1.6279.6001.243094273518213382155770295147.mhd\n",
      "SeriesUID for current file: 1.3.6.1.4.1.14519.5.2.1.6279.6001.243094273518213382155770295147\n",
      "Found 617 nodes for seriesuid: 1.3.6.1.4.1.14519.5.2.1.6279.6001.243094273518213382155770295147\n",
      "Image array shape: (150, 512, 512)\n",
      "Output path for .npy file: LUNA16/Luna Output/subset1/1.3.6.1.4.1.14519.5.2.1.6279.6001.243094273518213382155770295147.npy\n",
      "Saved: LUNA16/Luna Output/subset1/1.3.6.1.4.1.14519.5.2.1.6279.6001.243094273518213382155770295147.npy\n",
      "\n",
      "Processing file: LUNA16/Dataset/subset1/1.3.6.1.4.1.14519.5.2.1.6279.6001.801945620899034889998809817499.mhd\n",
      "SeriesUID for current file: 1.3.6.1.4.1.14519.5.2.1.6279.6001.801945620899034889998809817499\n",
      "Found 288 nodes for seriesuid: 1.3.6.1.4.1.14519.5.2.1.6279.6001.801945620899034889998809817499\n"
     ]
    },
    {
     "name": "stderr",
     "output_type": "stream",
     "text": [
      "\r",
      " 14%|█████▌                                   | 120/888 [00:34<03:18,  3.86it/s]"
     ]
    },
    {
     "name": "stdout",
     "output_type": "stream",
     "text": [
      "Image array shape: (262, 512, 512)\n",
      "Output path for .npy file: LUNA16/Luna Output/subset1/1.3.6.1.4.1.14519.5.2.1.6279.6001.801945620899034889998809817499.npy\n",
      "Saved: LUNA16/Luna Output/subset1/1.3.6.1.4.1.14519.5.2.1.6279.6001.801945620899034889998809817499.npy\n",
      "\n",
      "Processing file: LUNA16/Dataset/subset1/1.3.6.1.4.1.14519.5.2.1.6279.6001.561458563853929400124470098603.mhd\n",
      "SeriesUID for current file: 1.3.6.1.4.1.14519.5.2.1.6279.6001.561458563853929400124470098603\n",
      "Found 753 nodes for seriesuid: 1.3.6.1.4.1.14519.5.2.1.6279.6001.561458563853929400124470098603\n"
     ]
    },
    {
     "name": "stderr",
     "output_type": "stream",
     "text": [
      "\r",
      " 14%|█████▌                                   | 121/888 [00:34<03:01,  4.22it/s]"
     ]
    },
    {
     "name": "stdout",
     "output_type": "stream",
     "text": [
      "Image array shape: (163, 512, 512)\n",
      "Output path for .npy file: LUNA16/Luna Output/subset1/1.3.6.1.4.1.14519.5.2.1.6279.6001.561458563853929400124470098603.npy\n",
      "Saved: LUNA16/Luna Output/subset1/1.3.6.1.4.1.14519.5.2.1.6279.6001.561458563853929400124470098603.npy\n",
      "\n",
      "Processing file: LUNA16/Dataset/subset1/1.3.6.1.4.1.14519.5.2.1.6279.6001.144943344795414353192059796098.mhd\n",
      "SeriesUID for current file: 1.3.6.1.4.1.14519.5.2.1.6279.6001.144943344795414353192059796098\n",
      "Found 518 nodes for seriesuid: 1.3.6.1.4.1.14519.5.2.1.6279.6001.144943344795414353192059796098\n",
      "Image array shape: (225, 512, 512)\n",
      "Output path for .npy file: LUNA16/Luna Output/subset1/1.3.6.1.4.1.14519.5.2.1.6279.6001.144943344795414353192059796098.npy\n"
     ]
    },
    {
     "name": "stderr",
     "output_type": "stream",
     "text": [
      " 14%|█████▋                                   | 123/888 [00:34<02:31,  5.05it/s]"
     ]
    },
    {
     "name": "stdout",
     "output_type": "stream",
     "text": [
      "Saved: LUNA16/Luna Output/subset1/1.3.6.1.4.1.14519.5.2.1.6279.6001.144943344795414353192059796098.npy\n",
      "\n",
      "Processing file: LUNA16/Dataset/subset1/1.3.6.1.4.1.14519.5.2.1.6279.6001.308183340111270052562662456038.mhd\n",
      "SeriesUID for current file: 1.3.6.1.4.1.14519.5.2.1.6279.6001.308183340111270052562662456038\n",
      "Found 491 nodes for seriesuid: 1.3.6.1.4.1.14519.5.2.1.6279.6001.308183340111270052562662456038\n",
      "Image array shape: (115, 512, 512)\n",
      "Output path for .npy file: LUNA16/Luna Output/subset1/1.3.6.1.4.1.14519.5.2.1.6279.6001.308183340111270052562662456038.npy\n",
      "Saved: LUNA16/Luna Output/subset1/1.3.6.1.4.1.14519.5.2.1.6279.6001.308183340111270052562662456038.npy\n",
      "\n",
      "Processing file: LUNA16/Dataset/subset1/1.3.6.1.4.1.14519.5.2.1.6279.6001.161002239822118346732951898613.mhd\n",
      "SeriesUID for current file: 1.3.6.1.4.1.14519.5.2.1.6279.6001.161002239822118346732951898613\n",
      "Found 807 nodes for seriesuid: 1.3.6.1.4.1.14519.5.2.1.6279.6001.161002239822118346732951898613\n"
     ]
    },
    {
     "name": "stderr",
     "output_type": "stream",
     "text": [
      "\r",
      " 14%|█████▋                                   | 124/888 [00:35<02:18,  5.52it/s]"
     ]
    },
    {
     "name": "stdout",
     "output_type": "stream",
     "text": [
      "Image array shape: (133, 512, 512)\n",
      "Output path for .npy file: LUNA16/Luna Output/subset1/1.3.6.1.4.1.14519.5.2.1.6279.6001.161002239822118346732951898613.npy\n",
      "Saved: LUNA16/Luna Output/subset1/1.3.6.1.4.1.14519.5.2.1.6279.6001.161002239822118346732951898613.npy\n",
      "\n",
      "Processing file: LUNA16/Dataset/subset1/1.3.6.1.4.1.14519.5.2.1.6279.6001.309672797925724868457151381131.mhd\n",
      "SeriesUID for current file: 1.3.6.1.4.1.14519.5.2.1.6279.6001.309672797925724868457151381131\n",
      "Found 949 nodes for seriesuid: 1.3.6.1.4.1.14519.5.2.1.6279.6001.309672797925724868457151381131\n"
     ]
    },
    {
     "name": "stderr",
     "output_type": "stream",
     "text": [
      "\r",
      " 14%|█████▊                                   | 125/888 [00:35<03:09,  4.03it/s]"
     ]
    },
    {
     "name": "stdout",
     "output_type": "stream",
     "text": [
      "Image array shape: (301, 512, 512)\n",
      "Output path for .npy file: LUNA16/Luna Output/subset1/1.3.6.1.4.1.14519.5.2.1.6279.6001.309672797925724868457151381131.npy\n",
      "Saved: LUNA16/Luna Output/subset1/1.3.6.1.4.1.14519.5.2.1.6279.6001.309672797925724868457151381131.npy\n",
      "\n",
      "Processing file: LUNA16/Dataset/subset1/1.3.6.1.4.1.14519.5.2.1.6279.6001.186021279664749879526003668137.mhd\n",
      "SeriesUID for current file: 1.3.6.1.4.1.14519.5.2.1.6279.6001.186021279664749879526003668137\n",
      "Found 472 nodes for seriesuid: 1.3.6.1.4.1.14519.5.2.1.6279.6001.186021279664749879526003668137\n"
     ]
    },
    {
     "name": "stderr",
     "output_type": "stream",
     "text": [
      "\r",
      " 14%|█████▊                                   | 126/888 [00:35<02:40,  4.76it/s]"
     ]
    },
    {
     "name": "stdout",
     "output_type": "stream",
     "text": [
      "Image array shape: (141, 512, 512)\n",
      "Output path for .npy file: LUNA16/Luna Output/subset1/1.3.6.1.4.1.14519.5.2.1.6279.6001.186021279664749879526003668137.npy\n",
      "Saved: LUNA16/Luna Output/subset1/1.3.6.1.4.1.14519.5.2.1.6279.6001.186021279664749879526003668137.npy\n",
      "\n",
      "Processing file: LUNA16/Dataset/subset1/1.3.6.1.4.1.14519.5.2.1.6279.6001.259543921154154401875872845498.mhd\n",
      "SeriesUID for current file: 1.3.6.1.4.1.14519.5.2.1.6279.6001.259543921154154401875872845498\n",
      "Found 1435 nodes for seriesuid: 1.3.6.1.4.1.14519.5.2.1.6279.6001.259543921154154401875872845498\n"
     ]
    },
    {
     "name": "stderr",
     "output_type": "stream",
     "text": [
      "\r",
      " 14%|█████▊                                   | 127/888 [00:36<03:48,  3.32it/s]"
     ]
    },
    {
     "name": "stdout",
     "output_type": "stream",
     "text": [
      "Image array shape: (506, 512, 512)\n",
      "Output path for .npy file: LUNA16/Luna Output/subset1/1.3.6.1.4.1.14519.5.2.1.6279.6001.259543921154154401875872845498.npy\n",
      "Saved: LUNA16/Luna Output/subset1/1.3.6.1.4.1.14519.5.2.1.6279.6001.259543921154154401875872845498.npy\n",
      "\n",
      "Processing file: LUNA16/Dataset/subset1/1.3.6.1.4.1.14519.5.2.1.6279.6001.197987940182806628828566429132.mhd\n",
      "SeriesUID for current file: 1.3.6.1.4.1.14519.5.2.1.6279.6001.197987940182806628828566429132\n",
      "Found 653 nodes for seriesuid: 1.3.6.1.4.1.14519.5.2.1.6279.6001.197987940182806628828566429132\n"
     ]
    },
    {
     "name": "stderr",
     "output_type": "stream",
     "text": [
      "\r",
      " 14%|█████▉                                   | 128/888 [00:36<04:32,  2.79it/s]"
     ]
    },
    {
     "name": "stdout",
     "output_type": "stream",
     "text": [
      "Image array shape: (326, 512, 512)\n",
      "Output path for .npy file: LUNA16/Luna Output/subset1/1.3.6.1.4.1.14519.5.2.1.6279.6001.197987940182806628828566429132.npy\n",
      "Saved: LUNA16/Luna Output/subset1/1.3.6.1.4.1.14519.5.2.1.6279.6001.197987940182806628828566429132.npy\n",
      "\n",
      "Processing file: LUNA16/Dataset/subset1/1.3.6.1.4.1.14519.5.2.1.6279.6001.892375496445736188832556446335.mhd\n",
      "SeriesUID for current file: 1.3.6.1.4.1.14519.5.2.1.6279.6001.892375496445736188832556446335\n",
      "Found 663 nodes for seriesuid: 1.3.6.1.4.1.14519.5.2.1.6279.6001.892375496445736188832556446335\n",
      "Image array shape: (245, 512, 512)\n",
      "Output path for .npy file: LUNA16/Luna Output/subset1/1.3.6.1.4.1.14519.5.2.1.6279.6001.892375496445736188832556446335.npy\n"
     ]
    },
    {
     "name": "stderr",
     "output_type": "stream",
     "text": [
      " 15%|██████                                   | 130/888 [00:37<03:44,  3.37it/s]"
     ]
    },
    {
     "name": "stdout",
     "output_type": "stream",
     "text": [
      "Saved: LUNA16/Luna Output/subset1/1.3.6.1.4.1.14519.5.2.1.6279.6001.892375496445736188832556446335.npy\n",
      "\n",
      "Processing file: LUNA16/Dataset/subset1/1.3.6.1.4.1.14519.5.2.1.6279.6001.145759169833745025756371695397.mhd\n",
      "SeriesUID for current file: 1.3.6.1.4.1.14519.5.2.1.6279.6001.145759169833745025756371695397\n",
      "Found 663 nodes for seriesuid: 1.3.6.1.4.1.14519.5.2.1.6279.6001.145759169833745025756371695397\n",
      "Image array shape: (144, 512, 512)\n",
      "Output path for .npy file: LUNA16/Luna Output/subset1/1.3.6.1.4.1.14519.5.2.1.6279.6001.145759169833745025756371695397.npy\n",
      "Saved: LUNA16/Luna Output/subset1/1.3.6.1.4.1.14519.5.2.1.6279.6001.145759169833745025756371695397.npy\n",
      "\n",
      "Processing file: LUNA16/Dataset/subset1/1.3.6.1.4.1.14519.5.2.1.6279.6001.287966244644280690737019247886.mhd\n",
      "SeriesUID for current file: 1.3.6.1.4.1.14519.5.2.1.6279.6001.287966244644280690737019247886\n"
     ]
    },
    {
     "name": "stderr",
     "output_type": "stream",
     "text": [
      "\r",
      " 15%|██████                                   | 131/888 [00:37<03:16,  3.85it/s]"
     ]
    },
    {
     "name": "stdout",
     "output_type": "stream",
     "text": [
      "Found 1318 nodes for seriesuid: 1.3.6.1.4.1.14519.5.2.1.6279.6001.287966244644280690737019247886\n",
      "Image array shape: (123, 512, 512)\n",
      "Output path for .npy file: LUNA16/Luna Output/subset1/1.3.6.1.4.1.14519.5.2.1.6279.6001.287966244644280690737019247886.npy\n",
      "Saved: LUNA16/Luna Output/subset1/1.3.6.1.4.1.14519.5.2.1.6279.6001.287966244644280690737019247886.npy\n",
      "\n",
      "Processing file: LUNA16/Dataset/subset1/1.3.6.1.4.1.14519.5.2.1.6279.6001.168605638657404145360275453085.mhd\n",
      "SeriesUID for current file: 1.3.6.1.4.1.14519.5.2.1.6279.6001.168605638657404145360275453085\n",
      "Found 1284 nodes for seriesuid: 1.3.6.1.4.1.14519.5.2.1.6279.6001.168605638657404145360275453085\n",
      "Image array shape: (605, 512, 512)\n",
      "Output path for .npy file: LUNA16/Luna Output/subset1/1.3.6.1.4.1.14519.5.2.1.6279.6001.168605638657404145360275453085.npy\n"
     ]
    },
    {
     "name": "stderr",
     "output_type": "stream",
     "text": [
      "\r",
      " 15%|██████                                   | 132/888 [00:38<05:33,  2.27it/s]"
     ]
    },
    {
     "name": "stdout",
     "output_type": "stream",
     "text": [
      "Saved: LUNA16/Luna Output/subset1/1.3.6.1.4.1.14519.5.2.1.6279.6001.168605638657404145360275453085.npy\n",
      "\n",
      "Processing file: LUNA16/Dataset/subset1/1.3.6.1.4.1.14519.5.2.1.6279.6001.193408384740507320589857096592.mhd\n",
      "SeriesUID for current file: 1.3.6.1.4.1.14519.5.2.1.6279.6001.193408384740507320589857096592\n",
      "Found 452 nodes for seriesuid: 1.3.6.1.4.1.14519.5.2.1.6279.6001.193408384740507320589857096592\n",
      "Image array shape: (208, 512, 512)\n",
      "Output path for .npy file: LUNA16/Luna Output/subset1/1.3.6.1.4.1.14519.5.2.1.6279.6001.193408384740507320589857096592.npy\n"
     ]
    },
    {
     "name": "stderr",
     "output_type": "stream",
     "text": [
      " 15%|██████▏                                  | 134/888 [00:38<03:48,  3.30it/s]"
     ]
    },
    {
     "name": "stdout",
     "output_type": "stream",
     "text": [
      "Saved: LUNA16/Luna Output/subset1/1.3.6.1.4.1.14519.5.2.1.6279.6001.193408384740507320589857096592.npy\n",
      "\n",
      "Processing file: LUNA16/Dataset/subset1/1.3.6.1.4.1.14519.5.2.1.6279.6001.802595762867498341201607992711.mhd\n",
      "SeriesUID for current file: 1.3.6.1.4.1.14519.5.2.1.6279.6001.802595762867498341201607992711\n",
      "Found 729 nodes for seriesuid: 1.3.6.1.4.1.14519.5.2.1.6279.6001.802595762867498341201607992711\n",
      "Image array shape: (124, 512, 512)\n",
      "Output path for .npy file: LUNA16/Luna Output/subset1/1.3.6.1.4.1.14519.5.2.1.6279.6001.802595762867498341201607992711.npy\n",
      "Saved: LUNA16/Luna Output/subset1/1.3.6.1.4.1.14519.5.2.1.6279.6001.802595762867498341201607992711.npy\n",
      "\n",
      "Processing file: LUNA16/Dataset/subset1/1.3.6.1.4.1.14519.5.2.1.6279.6001.162901839201654862079549658100.mhd\n",
      "SeriesUID for current file: 1.3.6.1.4.1.14519.5.2.1.6279.6001.162901839201654862079549658100\n",
      "Found 776 nodes for seriesuid: 1.3.6.1.4.1.14519.5.2.1.6279.6001.162901839201654862079549658100\n"
     ]
    },
    {
     "name": "stderr",
     "output_type": "stream",
     "text": [
      "\r",
      " 15%|██████▏                                  | 135/888 [00:38<03:31,  3.56it/s]"
     ]
    },
    {
     "name": "stdout",
     "output_type": "stream",
     "text": [
      "Image array shape: (193, 512, 512)\n",
      "Output path for .npy file: LUNA16/Luna Output/subset1/1.3.6.1.4.1.14519.5.2.1.6279.6001.162901839201654862079549658100.npy\n",
      "Saved: LUNA16/Luna Output/subset1/1.3.6.1.4.1.14519.5.2.1.6279.6001.162901839201654862079549658100.npy\n",
      "\n",
      "Processing file: LUNA16/Dataset/subset1/1.3.6.1.4.1.14519.5.2.1.6279.6001.183843376225716802567192412456.mhd\n",
      "SeriesUID for current file: 1.3.6.1.4.1.14519.5.2.1.6279.6001.183843376225716802567192412456\n",
      "Found 636 nodes for seriesuid: 1.3.6.1.4.1.14519.5.2.1.6279.6001.183843376225716802567192412456\n",
      "Image array shape: (133, 512, 512)\n",
      "Output path for .npy file: LUNA16/Luna Output/subset1/1.3.6.1.4.1.14519.5.2.1.6279.6001.183843376225716802567192412456.npy\n"
     ]
    },
    {
     "name": "stderr",
     "output_type": "stream",
     "text": [
      "\r",
      " 15%|██████▎                                  | 136/888 [00:38<02:52,  4.35it/s]"
     ]
    },
    {
     "name": "stdout",
     "output_type": "stream",
     "text": [
      "Saved: LUNA16/Luna Output/subset1/1.3.6.1.4.1.14519.5.2.1.6279.6001.183843376225716802567192412456.npy\n",
      "\n",
      "Processing file: LUNA16/Dataset/subset1/1.3.6.1.4.1.14519.5.2.1.6279.6001.479402560265137632920333093071.mhd\n",
      "SeriesUID for current file: 1.3.6.1.4.1.14519.5.2.1.6279.6001.479402560265137632920333093071\n",
      "Found 813 nodes for seriesuid: 1.3.6.1.4.1.14519.5.2.1.6279.6001.479402560265137632920333093071\n",
      "Image array shape: (297, 512, 512)\n",
      "Output path for .npy file: LUNA16/Luna Output/subset1/1.3.6.1.4.1.14519.5.2.1.6279.6001.479402560265137632920333093071.npy\n"
     ]
    },
    {
     "name": "stderr",
     "output_type": "stream",
     "text": [
      "\r",
      " 15%|██████▎                                  | 137/888 [00:39<03:03,  4.09it/s]"
     ]
    },
    {
     "name": "stdout",
     "output_type": "stream",
     "text": [
      "Saved: LUNA16/Luna Output/subset1/1.3.6.1.4.1.14519.5.2.1.6279.6001.479402560265137632920333093071.npy\n",
      "\n",
      "Processing file: LUNA16/Dataset/subset1/1.3.6.1.4.1.14519.5.2.1.6279.6001.183184435049555024219115904825.mhd\n",
      "SeriesUID for current file: 1.3.6.1.4.1.14519.5.2.1.6279.6001.183184435049555024219115904825\n",
      "Found 908 nodes for seriesuid: 1.3.6.1.4.1.14519.5.2.1.6279.6001.183184435049555024219115904825\n",
      "Image array shape: (240, 512, 512)\n",
      "Output path for .npy file: LUNA16/Luna Output/subset1/1.3.6.1.4.1.14519.5.2.1.6279.6001.183184435049555024219115904825.npy\n"
     ]
    },
    {
     "name": "stderr",
     "output_type": "stream",
     "text": [
      "\r",
      " 16%|██████▎                                  | 138/888 [00:39<02:54,  4.29it/s]"
     ]
    },
    {
     "name": "stdout",
     "output_type": "stream",
     "text": [
      "Saved: LUNA16/Luna Output/subset1/1.3.6.1.4.1.14519.5.2.1.6279.6001.183184435049555024219115904825.npy\n",
      "\n",
      "Processing file: LUNA16/Dataset/subset1/1.3.6.1.4.1.14519.5.2.1.6279.6001.106719103982792863757268101375.mhd\n",
      "SeriesUID for current file: 1.3.6.1.4.1.14519.5.2.1.6279.6001.106719103982792863757268101375\n",
      "Found 1144 nodes for seriesuid: 1.3.6.1.4.1.14519.5.2.1.6279.6001.106719103982792863757268101375\n",
      "Image array shape: (328, 512, 512)\n",
      "Output path for .npy file: LUNA16/Luna Output/subset1/1.3.6.1.4.1.14519.5.2.1.6279.6001.106719103982792863757268101375.npy\n"
     ]
    },
    {
     "name": "stderr",
     "output_type": "stream",
     "text": [
      "\r",
      " 16%|██████▍                                  | 139/888 [00:39<03:06,  4.02it/s]"
     ]
    },
    {
     "name": "stdout",
     "output_type": "stream",
     "text": [
      "Saved: LUNA16/Luna Output/subset1/1.3.6.1.4.1.14519.5.2.1.6279.6001.106719103982792863757268101375.npy\n",
      "\n",
      "Processing file: LUNA16/Dataset/subset1/1.3.6.1.4.1.14519.5.2.1.6279.6001.231834776365874788440767645596.mhd\n",
      "SeriesUID for current file: 1.3.6.1.4.1.14519.5.2.1.6279.6001.231834776365874788440767645596\n",
      "Found 630 nodes for seriesuid: 1.3.6.1.4.1.14519.5.2.1.6279.6001.231834776365874788440767645596\n"
     ]
    },
    {
     "name": "stderr",
     "output_type": "stream",
     "text": [
      "\r",
      " 16%|██████▍                                  | 140/888 [00:40<04:32,  2.74it/s]"
     ]
    },
    {
     "name": "stdout",
     "output_type": "stream",
     "text": [
      "Image array shape: (519, 512, 512)\n",
      "Output path for .npy file: LUNA16/Luna Output/subset1/1.3.6.1.4.1.14519.5.2.1.6279.6001.231834776365874788440767645596.npy\n",
      "Saved: LUNA16/Luna Output/subset1/1.3.6.1.4.1.14519.5.2.1.6279.6001.231834776365874788440767645596.npy\n",
      "\n",
      "Processing file: LUNA16/Dataset/subset1/1.3.6.1.4.1.14519.5.2.1.6279.6001.272961322147784625028175033640.mhd\n",
      "SeriesUID for current file: 1.3.6.1.4.1.14519.5.2.1.6279.6001.272961322147784625028175033640\n"
     ]
    },
    {
     "name": "stderr",
     "output_type": "stream",
     "text": [
      "\r",
      " 16%|██████▌                                  | 141/888 [00:40<03:54,  3.19it/s]"
     ]
    },
    {
     "name": "stdout",
     "output_type": "stream",
     "text": [
      "Found 1065 nodes for seriesuid: 1.3.6.1.4.1.14519.5.2.1.6279.6001.272961322147784625028175033640\n",
      "Image array shape: (121, 512, 512)\n",
      "Output path for .npy file: LUNA16/Luna Output/subset1/1.3.6.1.4.1.14519.5.2.1.6279.6001.272961322147784625028175033640.npy\n",
      "Saved: LUNA16/Luna Output/subset1/1.3.6.1.4.1.14519.5.2.1.6279.6001.272961322147784625028175033640.npy\n",
      "\n",
      "Processing file: LUNA16/Dataset/subset1/1.3.6.1.4.1.14519.5.2.1.6279.6001.114218724025049818743426522343.mhd\n",
      "SeriesUID for current file: 1.3.6.1.4.1.14519.5.2.1.6279.6001.114218724025049818743426522343\n",
      "Found 858 nodes for seriesuid: 1.3.6.1.4.1.14519.5.2.1.6279.6001.114218724025049818743426522343\n"
     ]
    },
    {
     "name": "stderr",
     "output_type": "stream",
     "text": [
      "\r",
      " 16%|██████▌                                  | 142/888 [00:40<04:18,  2.89it/s]"
     ]
    },
    {
     "name": "stdout",
     "output_type": "stream",
     "text": [
      "Image array shape: (509, 512, 512)\n",
      "Output path for .npy file: LUNA16/Luna Output/subset1/1.3.6.1.4.1.14519.5.2.1.6279.6001.114218724025049818743426522343.npy\n",
      "Saved: LUNA16/Luna Output/subset1/1.3.6.1.4.1.14519.5.2.1.6279.6001.114218724025049818743426522343.npy\n",
      "\n",
      "Processing file: LUNA16/Dataset/subset1/1.3.6.1.4.1.14519.5.2.1.6279.6001.216652640878960522552873394709.mhd\n",
      "SeriesUID for current file: 1.3.6.1.4.1.14519.5.2.1.6279.6001.216652640878960522552873394709\n"
     ]
    },
    {
     "name": "stderr",
     "output_type": "stream",
     "text": [
      "\r",
      " 16%|██████▌                                  | 143/888 [00:41<03:31,  3.52it/s]"
     ]
    },
    {
     "name": "stdout",
     "output_type": "stream",
     "text": [
      "Found 775 nodes for seriesuid: 1.3.6.1.4.1.14519.5.2.1.6279.6001.216652640878960522552873394709\n",
      "Image array shape: (103, 512, 512)\n",
      "Output path for .npy file: LUNA16/Luna Output/subset1/1.3.6.1.4.1.14519.5.2.1.6279.6001.216652640878960522552873394709.npy\n",
      "Saved: LUNA16/Luna Output/subset1/1.3.6.1.4.1.14519.5.2.1.6279.6001.216652640878960522552873394709.npy\n",
      "\n",
      "Processing file: LUNA16/Dataset/subset1/1.3.6.1.4.1.14519.5.2.1.6279.6001.331211682377519763144559212009.mhd\n",
      "SeriesUID for current file: 1.3.6.1.4.1.14519.5.2.1.6279.6001.331211682377519763144559212009\n",
      "Found 781 nodes for seriesuid: 1.3.6.1.4.1.14519.5.2.1.6279.6001.331211682377519763144559212009\n",
      "Image array shape: (133, 512, 512)\n",
      "Output path for .npy file: LUNA16/Luna Output/subset1/1.3.6.1.4.1.14519.5.2.1.6279.6001.331211682377519763144559212009.npy\n"
     ]
    },
    {
     "name": "stderr",
     "output_type": "stream",
     "text": [
      " 16%|██████▋                                  | 145/888 [00:41<02:38,  4.70it/s]"
     ]
    },
    {
     "name": "stdout",
     "output_type": "stream",
     "text": [
      "Saved: LUNA16/Luna Output/subset1/1.3.6.1.4.1.14519.5.2.1.6279.6001.331211682377519763144559212009.npy\n",
      "\n",
      "Processing file: LUNA16/Dataset/subset1/1.3.6.1.4.1.14519.5.2.1.6279.6001.306948744223170422945185006551.mhd\n",
      "SeriesUID for current file: 1.3.6.1.4.1.14519.5.2.1.6279.6001.306948744223170422945185006551\n",
      "Found 983 nodes for seriesuid: 1.3.6.1.4.1.14519.5.2.1.6279.6001.306948744223170422945185006551\n",
      "Image array shape: (127, 512, 512)\n",
      "Output path for .npy file: LUNA16/Luna Output/subset1/1.3.6.1.4.1.14519.5.2.1.6279.6001.306948744223170422945185006551.npy\n",
      "Saved: LUNA16/Luna Output/subset1/1.3.6.1.4.1.14519.5.2.1.6279.6001.306948744223170422945185006551.npy\n",
      "\n",
      "Processing file: LUNA16/Dataset/subset1/1.3.6.1.4.1.14519.5.2.1.6279.6001.888291896309937415860209787179.mhd\n",
      "SeriesUID for current file: 1.3.6.1.4.1.14519.5.2.1.6279.6001.888291896309937415860209787179\n",
      "Found 269 nodes for seriesuid: 1.3.6.1.4.1.14519.5.2.1.6279.6001.888291896309937415860209787179\n"
     ]
    },
    {
     "name": "stderr",
     "output_type": "stream",
     "text": [
      "\r",
      " 16%|██████▋                                  | 146/888 [00:41<02:43,  4.53it/s]"
     ]
    },
    {
     "name": "stdout",
     "output_type": "stream",
     "text": [
      "Image array shape: (273, 512, 512)\n",
      "Output path for .npy file: LUNA16/Luna Output/subset1/1.3.6.1.4.1.14519.5.2.1.6279.6001.888291896309937415860209787179.npy\n",
      "Saved: LUNA16/Luna Output/subset1/1.3.6.1.4.1.14519.5.2.1.6279.6001.888291896309937415860209787179.npy\n",
      "\n",
      "Processing file: LUNA16/Dataset/subset1/1.3.6.1.4.1.14519.5.2.1.6279.6001.334105754605642100456249422350.mhd\n",
      "SeriesUID for current file: 1.3.6.1.4.1.14519.5.2.1.6279.6001.334105754605642100456249422350\n",
      "Found 945 nodes for seriesuid: 1.3.6.1.4.1.14519.5.2.1.6279.6001.334105754605642100456249422350\n"
     ]
    },
    {
     "name": "stderr",
     "output_type": "stream",
     "text": [
      "\r",
      " 17%|██████▊                                  | 147/888 [00:41<03:03,  4.03it/s]"
     ]
    },
    {
     "name": "stdout",
     "output_type": "stream",
     "text": [
      "Image array shape: (261, 512, 512)\n",
      "Output path for .npy file: LUNA16/Luna Output/subset1/1.3.6.1.4.1.14519.5.2.1.6279.6001.334105754605642100456249422350.npy\n",
      "Saved: LUNA16/Luna Output/subset1/1.3.6.1.4.1.14519.5.2.1.6279.6001.334105754605642100456249422350.npy\n",
      "\n",
      "Processing file: LUNA16/Dataset/subset1/1.3.6.1.4.1.14519.5.2.1.6279.6001.663019255629770796363333877035.mhd\n",
      "SeriesUID for current file: 1.3.6.1.4.1.14519.5.2.1.6279.6001.663019255629770796363333877035\n",
      "Found 1007 nodes for seriesuid: 1.3.6.1.4.1.14519.5.2.1.6279.6001.663019255629770796363333877035\n"
     ]
    },
    {
     "name": "stderr",
     "output_type": "stream",
     "text": [
      "\r",
      " 17%|██████▊                                  | 148/888 [00:42<03:13,  3.82it/s]"
     ]
    },
    {
     "name": "stdout",
     "output_type": "stream",
     "text": [
      "Image array shape: (260, 512, 512)\n",
      "Output path for .npy file: LUNA16/Luna Output/subset1/1.3.6.1.4.1.14519.5.2.1.6279.6001.663019255629770796363333877035.npy\n",
      "Saved: LUNA16/Luna Output/subset1/1.3.6.1.4.1.14519.5.2.1.6279.6001.663019255629770796363333877035.npy\n",
      "\n",
      "Processing file: LUNA16/Dataset/subset1/1.3.6.1.4.1.14519.5.2.1.6279.6001.616033753016904899083676284739.mhd\n",
      "SeriesUID for current file: 1.3.6.1.4.1.14519.5.2.1.6279.6001.616033753016904899083676284739\n",
      "Found 734 nodes for seriesuid: 1.3.6.1.4.1.14519.5.2.1.6279.6001.616033753016904899083676284739\n",
      "Image array shape: (113, 512, 512)\n"
     ]
    },
    {
     "name": "stderr",
     "output_type": "stream",
     "text": [
      " 17%|██████▉                                  | 150/888 [00:42<02:33,  4.80it/s]"
     ]
    },
    {
     "name": "stdout",
     "output_type": "stream",
     "text": [
      "Output path for .npy file: LUNA16/Luna Output/subset1/1.3.6.1.4.1.14519.5.2.1.6279.6001.616033753016904899083676284739.npy\n",
      "Saved: LUNA16/Luna Output/subset1/1.3.6.1.4.1.14519.5.2.1.6279.6001.616033753016904899083676284739.npy\n",
      "\n",
      "Processing file: LUNA16/Dataset/subset1/1.3.6.1.4.1.14519.5.2.1.6279.6001.300271604576987336866436407488.mhd\n",
      "SeriesUID for current file: 1.3.6.1.4.1.14519.5.2.1.6279.6001.300271604576987336866436407488\n",
      "Found 381 nodes for seriesuid: 1.3.6.1.4.1.14519.5.2.1.6279.6001.300271604576987336866436407488\n",
      "Image array shape: (171, 512, 512)\n",
      "Output path for .npy file: LUNA16/Luna Output/subset1/1.3.6.1.4.1.14519.5.2.1.6279.6001.300271604576987336866436407488.npy\n",
      "Saved: LUNA16/Luna Output/subset1/1.3.6.1.4.1.14519.5.2.1.6279.6001.300271604576987336866436407488.npy\n"
     ]
    },
    {
     "name": "stderr",
     "output_type": "stream",
     "text": [
      "\r",
      " 17%|██████▉                                  | 151/888 [00:42<02:34,  4.76it/s]"
     ]
    },
    {
     "name": "stdout",
     "output_type": "stream",
     "text": [
      "\n",
      "Processing file: LUNA16/Dataset/subset1/1.3.6.1.4.1.14519.5.2.1.6279.6001.121824995088859376862458155637.mhd\n",
      "SeriesUID for current file: 1.3.6.1.4.1.14519.5.2.1.6279.6001.121824995088859376862458155637\n",
      "Found 1132 nodes for seriesuid: 1.3.6.1.4.1.14519.5.2.1.6279.6001.121824995088859376862458155637\n",
      "Image array shape: (197, 512, 512)\n",
      "Output path for .npy file: LUNA16/Luna Output/subset1/1.3.6.1.4.1.14519.5.2.1.6279.6001.121824995088859376862458155637.npy\n",
      "Saved: LUNA16/Luna Output/subset1/1.3.6.1.4.1.14519.5.2.1.6279.6001.121824995088859376862458155637.npy\n",
      "\n",
      "Processing file: LUNA16/Dataset/subset1/1.3.6.1.4.1.14519.5.2.1.6279.6001.108231420525711026834210228428.mhd\n",
      "SeriesUID for current file: 1.3.6.1.4.1.14519.5.2.1.6279.6001.108231420525711026834210228428\n",
      "Found 936 nodes for seriesuid: 1.3.6.1.4.1.14519.5.2.1.6279.6001.108231420525711026834210228428\n",
      "Image array shape: (238, 512, 512)\n",
      "Output path for .npy file: LUNA16/Luna Output/subset1/1.3.6.1.4.1.14519.5.2.1.6279.6001.108231420525711026834210228428.npy\n"
     ]
    },
    {
     "name": "stderr",
     "output_type": "stream",
     "text": [
      " 17%|███████                                  | 153/888 [00:43<02:17,  5.35it/s]"
     ]
    },
    {
     "name": "stdout",
     "output_type": "stream",
     "text": [
      "Saved: LUNA16/Luna Output/subset1/1.3.6.1.4.1.14519.5.2.1.6279.6001.108231420525711026834210228428.npy\n",
      "\n",
      "Processing file: LUNA16/Dataset/subset1/1.3.6.1.4.1.14519.5.2.1.6279.6001.171919524048654494439256263785.mhd\n",
      "SeriesUID for current file: 1.3.6.1.4.1.14519.5.2.1.6279.6001.171919524048654494439256263785\n",
      "Found 795 nodes for seriesuid: 1.3.6.1.4.1.14519.5.2.1.6279.6001.171919524048654494439256263785\n",
      "Image array shape: (122, 512, 512)\n",
      "Output path for .npy file: LUNA16/Luna Output/subset1/1.3.6.1.4.1.14519.5.2.1.6279.6001.171919524048654494439256263785.npy\n",
      "Saved: LUNA16/Luna Output/subset1/1.3.6.1.4.1.14519.5.2.1.6279.6001.171919524048654494439256263785.npy\n",
      "\n",
      "Processing file: LUNA16/Dataset/subset1/1.3.6.1.4.1.14519.5.2.1.6279.6001.275766318636944297772360944907.mhd\n",
      "SeriesUID for current file: 1.3.6.1.4.1.14519.5.2.1.6279.6001.275766318636944297772360944907\n",
      "Found 965 nodes for seriesuid: 1.3.6.1.4.1.14519.5.2.1.6279.6001.275766318636944297772360944907\n"
     ]
    },
    {
     "name": "stderr",
     "output_type": "stream",
     "text": [
      "\r",
      " 17%|███████                                  | 154/888 [00:43<03:40,  3.33it/s]"
     ]
    },
    {
     "name": "stdout",
     "output_type": "stream",
     "text": [
      "Image array shape: (477, 512, 512)\n",
      "Output path for .npy file: LUNA16/Luna Output/subset1/1.3.6.1.4.1.14519.5.2.1.6279.6001.275766318636944297772360944907.npy\n",
      "Saved: LUNA16/Luna Output/subset1/1.3.6.1.4.1.14519.5.2.1.6279.6001.275766318636944297772360944907.npy\n",
      "\n",
      "Processing file: LUNA16/Dataset/subset1/1.3.6.1.4.1.14519.5.2.1.6279.6001.674809958213117379592437424616.mhd\n",
      "SeriesUID for current file: 1.3.6.1.4.1.14519.5.2.1.6279.6001.674809958213117379592437424616\n"
     ]
    },
    {
     "name": "stderr",
     "output_type": "stream",
     "text": [
      "\r",
      " 17%|███████▏                                 | 155/888 [00:43<03:13,  3.79it/s]"
     ]
    },
    {
     "name": "stdout",
     "output_type": "stream",
     "text": [
      "Found 1029 nodes for seriesuid: 1.3.6.1.4.1.14519.5.2.1.6279.6001.674809958213117379592437424616\n",
      "Image array shape: (139, 512, 512)\n",
      "Output path for .npy file: LUNA16/Luna Output/subset1/1.3.6.1.4.1.14519.5.2.1.6279.6001.674809958213117379592437424616.npy\n",
      "Saved: LUNA16/Luna Output/subset1/1.3.6.1.4.1.14519.5.2.1.6279.6001.674809958213117379592437424616.npy\n",
      "\n",
      "Processing file: LUNA16/Dataset/subset1/1.3.6.1.4.1.14519.5.2.1.6279.6001.952265563663939823135367733681.mhd\n",
      "SeriesUID for current file: 1.3.6.1.4.1.14519.5.2.1.6279.6001.952265563663939823135367733681\n",
      "Found 852 nodes for seriesuid: 1.3.6.1.4.1.14519.5.2.1.6279.6001.952265563663939823135367733681\n"
     ]
    },
    {
     "name": "stderr",
     "output_type": "stream",
     "text": [
      "\r",
      " 18%|███████▏                                 | 156/888 [00:44<03:16,  3.73it/s]"
     ]
    },
    {
     "name": "stdout",
     "output_type": "stream",
     "text": [
      "Image array shape: (331, 512, 512)\n",
      "Output path for .npy file: LUNA16/Luna Output/subset1/1.3.6.1.4.1.14519.5.2.1.6279.6001.952265563663939823135367733681.npy\n",
      "Saved: LUNA16/Luna Output/subset1/1.3.6.1.4.1.14519.5.2.1.6279.6001.952265563663939823135367733681.npy\n",
      "\n",
      "Processing file: LUNA16/Dataset/subset1/1.3.6.1.4.1.14519.5.2.1.6279.6001.162207236104936931957809623059.mhd\n",
      "SeriesUID for current file: 1.3.6.1.4.1.14519.5.2.1.6279.6001.162207236104936931957809623059\n",
      "Found 511 nodes for seriesuid: 1.3.6.1.4.1.14519.5.2.1.6279.6001.162207236104936931957809623059\n",
      "Image array shape: (477, 512, 512)\n",
      "Output path for .npy file: LUNA16/Luna Output/subset1/1.3.6.1.4.1.14519.5.2.1.6279.6001.162207236104936931957809623059.npy\n"
     ]
    },
    {
     "name": "stderr",
     "output_type": "stream",
     "text": [
      "\r",
      " 18%|███████▏                                 | 157/888 [00:44<05:08,  2.37it/s]"
     ]
    },
    {
     "name": "stdout",
     "output_type": "stream",
     "text": [
      "Saved: LUNA16/Luna Output/subset1/1.3.6.1.4.1.14519.5.2.1.6279.6001.162207236104936931957809623059.npy\n",
      "\n",
      "Processing file: LUNA16/Dataset/subset1/1.3.6.1.4.1.14519.5.2.1.6279.6001.756684168227383088294595834066.mhd\n",
      "SeriesUID for current file: 1.3.6.1.4.1.14519.5.2.1.6279.6001.756684168227383088294595834066\n",
      "Found 595 nodes for seriesuid: 1.3.6.1.4.1.14519.5.2.1.6279.6001.756684168227383088294595834066\n",
      "Image array shape: (250, 512, 512)\n",
      "Output path for .npy file: LUNA16/Luna Output/subset1/1.3.6.1.4.1.14519.5.2.1.6279.6001.756684168227383088294595834066.npy\n"
     ]
    },
    {
     "name": "stderr",
     "output_type": "stream",
     "text": [
      "\r",
      " 18%|███████▎                                 | 158/888 [00:45<04:48,  2.53it/s]"
     ]
    },
    {
     "name": "stdout",
     "output_type": "stream",
     "text": [
      "Saved: LUNA16/Luna Output/subset1/1.3.6.1.4.1.14519.5.2.1.6279.6001.756684168227383088294595834066.npy\n",
      "\n",
      "Processing file: LUNA16/Dataset/subset1/1.3.6.1.4.1.14519.5.2.1.6279.6001.169128136262002764211589185953.mhd\n",
      "SeriesUID for current file: 1.3.6.1.4.1.14519.5.2.1.6279.6001.169128136262002764211589185953\n",
      "Found 952 nodes for seriesuid: 1.3.6.1.4.1.14519.5.2.1.6279.6001.169128136262002764211589185953\n",
      "Image array shape: (268, 512, 512)\n",
      "Output path for .npy file: LUNA16/Luna Output/subset1/1.3.6.1.4.1.14519.5.2.1.6279.6001.169128136262002764211589185953.npy\n"
     ]
    },
    {
     "name": "stderr",
     "output_type": "stream",
     "text": [
      "\r",
      " 18%|███████▎                                 | 159/888 [00:45<04:39,  2.61it/s]"
     ]
    },
    {
     "name": "stdout",
     "output_type": "stream",
     "text": [
      "Saved: LUNA16/Luna Output/subset1/1.3.6.1.4.1.14519.5.2.1.6279.6001.169128136262002764211589185953.npy\n",
      "\n",
      "Processing file: LUNA16/Dataset/subset1/1.3.6.1.4.1.14519.5.2.1.6279.6001.152684536713461901635595118048.mhd\n",
      "SeriesUID for current file: 1.3.6.1.4.1.14519.5.2.1.6279.6001.152684536713461901635595118048\n",
      "Found 696 nodes for seriesuid: 1.3.6.1.4.1.14519.5.2.1.6279.6001.152684536713461901635595118048\n",
      "Image array shape: (179, 512, 512)\n",
      "Output path for .npy file: LUNA16/Luna Output/subset1/1.3.6.1.4.1.14519.5.2.1.6279.6001.152684536713461901635595118048.npy\n"
     ]
    },
    {
     "name": "stderr",
     "output_type": "stream",
     "text": [
      "\r",
      " 18%|███████▍                                 | 160/888 [00:45<04:04,  2.98it/s]"
     ]
    },
    {
     "name": "stdout",
     "output_type": "stream",
     "text": [
      "Saved: LUNA16/Luna Output/subset1/1.3.6.1.4.1.14519.5.2.1.6279.6001.152684536713461901635595118048.npy\n",
      "\n",
      "Processing file: LUNA16/Dataset/subset1/1.3.6.1.4.1.14519.5.2.1.6279.6001.326057189095429101398977448288.mhd\n",
      "SeriesUID for current file: 1.3.6.1.4.1.14519.5.2.1.6279.6001.326057189095429101398977448288\n",
      "Found 880 nodes for seriesuid: 1.3.6.1.4.1.14519.5.2.1.6279.6001.326057189095429101398977448288\n"
     ]
    },
    {
     "name": "stderr",
     "output_type": "stream",
     "text": [
      "\r",
      " 18%|███████▍                                 | 161/888 [00:46<04:19,  2.80it/s]"
     ]
    },
    {
     "name": "stdout",
     "output_type": "stream",
     "text": [
      "Image array shape: (326, 512, 512)\n",
      "Output path for .npy file: LUNA16/Luna Output/subset1/1.3.6.1.4.1.14519.5.2.1.6279.6001.326057189095429101398977448288.npy\n",
      "Saved: LUNA16/Luna Output/subset1/1.3.6.1.4.1.14519.5.2.1.6279.6001.326057189095429101398977448288.npy\n",
      "\n",
      "Processing file: LUNA16/Dataset/subset1/1.3.6.1.4.1.14519.5.2.1.6279.6001.226456162308124493341905600418.mhd\n",
      "SeriesUID for current file: 1.3.6.1.4.1.14519.5.2.1.6279.6001.226456162308124493341905600418\n",
      "Found 1017 nodes for seriesuid: 1.3.6.1.4.1.14519.5.2.1.6279.6001.226456162308124493341905600418\n",
      "Image array shape: (241, 512, 512)\n",
      "Output path for .npy file: LUNA16/Luna Output/subset1/1.3.6.1.4.1.14519.5.2.1.6279.6001.226456162308124493341905600418.npy\n"
     ]
    },
    {
     "name": "stderr",
     "output_type": "stream",
     "text": [
      " 18%|███████▌                                 | 163/888 [00:46<03:17,  3.67it/s]"
     ]
    },
    {
     "name": "stdout",
     "output_type": "stream",
     "text": [
      "Saved: LUNA16/Luna Output/subset1/1.3.6.1.4.1.14519.5.2.1.6279.6001.226456162308124493341905600418.npy\n",
      "\n",
      "Processing file: LUNA16/Dataset/subset1/1.3.6.1.4.1.14519.5.2.1.6279.6001.173106154739244262091404659845.mhd\n",
      "SeriesUID for current file: 1.3.6.1.4.1.14519.5.2.1.6279.6001.173106154739244262091404659845\n",
      "Found 640 nodes for seriesuid: 1.3.6.1.4.1.14519.5.2.1.6279.6001.173106154739244262091404659845\n",
      "Image array shape: (141, 512, 512)\n",
      "Output path for .npy file: LUNA16/Luna Output/subset1/1.3.6.1.4.1.14519.5.2.1.6279.6001.173106154739244262091404659845.npy\n",
      "Saved: LUNA16/Luna Output/subset1/1.3.6.1.4.1.14519.5.2.1.6279.6001.173106154739244262091404659845.npy\n",
      "\n",
      "Processing file: LUNA16/Dataset/subset1/1.3.6.1.4.1.14519.5.2.1.6279.6001.146603910507557786636779705509.mhd\n",
      "SeriesUID for current file: 1.3.6.1.4.1.14519.5.2.1.6279.6001.146603910507557786636779705509\n",
      "Found 953 nodes for seriesuid: 1.3.6.1.4.1.14519.5.2.1.6279.6001.146603910507557786636779705509\n"
     ]
    },
    {
     "name": "stderr",
     "output_type": "stream",
     "text": [
      "\r",
      " 18%|███████▌                                 | 164/888 [00:46<02:48,  4.30it/s]"
     ]
    },
    {
     "name": "stdout",
     "output_type": "stream",
     "text": [
      "Image array shape: (132, 512, 512)\n",
      "Output path for .npy file: LUNA16/Luna Output/subset1/1.3.6.1.4.1.14519.5.2.1.6279.6001.146603910507557786636779705509.npy\n",
      "Saved: LUNA16/Luna Output/subset1/1.3.6.1.4.1.14519.5.2.1.6279.6001.146603910507557786636779705509.npy\n",
      "\n",
      "Processing file: LUNA16/Dataset/subset1/1.3.6.1.4.1.14519.5.2.1.6279.6001.231002159523969307155990628066.mhd\n",
      "SeriesUID for current file: 1.3.6.1.4.1.14519.5.2.1.6279.6001.231002159523969307155990628066\n",
      "Found 841 nodes for seriesuid: 1.3.6.1.4.1.14519.5.2.1.6279.6001.231002159523969307155990628066\n"
     ]
    },
    {
     "name": "stderr",
     "output_type": "stream",
     "text": [
      "\r",
      " 19%|███████▌                                 | 165/888 [00:47<03:10,  3.79it/s]"
     ]
    },
    {
     "name": "stdout",
     "output_type": "stream",
     "text": [
      "Image array shape: (265, 512, 512)\n",
      "Output path for .npy file: LUNA16/Luna Output/subset1/1.3.6.1.4.1.14519.5.2.1.6279.6001.231002159523969307155990628066.npy\n",
      "Saved: LUNA16/Luna Output/subset1/1.3.6.1.4.1.14519.5.2.1.6279.6001.231002159523969307155990628066.npy\n",
      "\n",
      "Processing file: LUNA16/Dataset/subset1/1.3.6.1.4.1.14519.5.2.1.6279.6001.935683764293840351008008793409.mhd\n",
      "SeriesUID for current file: 1.3.6.1.4.1.14519.5.2.1.6279.6001.935683764293840351008008793409\n",
      "Found 345 nodes for seriesuid: 1.3.6.1.4.1.14519.5.2.1.6279.6001.935683764293840351008008793409\n"
     ]
    },
    {
     "name": "stderr",
     "output_type": "stream",
     "text": [
      "\r",
      " 19%|███████▋                                 | 166/888 [00:47<03:07,  3.85it/s]"
     ]
    },
    {
     "name": "stdout",
     "output_type": "stream",
     "text": [
      "Image array shape: (238, 512, 512)\n",
      "Output path for .npy file: LUNA16/Luna Output/subset1/1.3.6.1.4.1.14519.5.2.1.6279.6001.935683764293840351008008793409.npy\n",
      "Saved: LUNA16/Luna Output/subset1/1.3.6.1.4.1.14519.5.2.1.6279.6001.935683764293840351008008793409.npy\n",
      "\n",
      "Processing file: LUNA16/Dataset/subset1/1.3.6.1.4.1.14519.5.2.1.6279.6001.208737629504245244513001631764.mhd\n",
      "SeriesUID for current file: 1.3.6.1.4.1.14519.5.2.1.6279.6001.208737629504245244513001631764\n",
      "Found 1096 nodes for seriesuid: 1.3.6.1.4.1.14519.5.2.1.6279.6001.208737629504245244513001631764\n"
     ]
    },
    {
     "name": "stderr",
     "output_type": "stream",
     "text": [
      "\r",
      " 19%|███████▋                                 | 167/888 [00:47<02:58,  4.04it/s]"
     ]
    },
    {
     "name": "stdout",
     "output_type": "stream",
     "text": [
      "Image array shape: (232, 512, 512)\n",
      "Output path for .npy file: LUNA16/Luna Output/subset1/1.3.6.1.4.1.14519.5.2.1.6279.6001.208737629504245244513001631764.npy\n",
      "Saved: LUNA16/Luna Output/subset1/1.3.6.1.4.1.14519.5.2.1.6279.6001.208737629504245244513001631764.npy\n",
      "\n",
      "Processing file: LUNA16/Dataset/subset1/1.3.6.1.4.1.14519.5.2.1.6279.6001.163994693532965040247348251579.mhd\n",
      "SeriesUID for current file: 1.3.6.1.4.1.14519.5.2.1.6279.6001.163994693532965040247348251579\n",
      "Found 914 nodes for seriesuid: 1.3.6.1.4.1.14519.5.2.1.6279.6001.163994693532965040247348251579\n"
     ]
    },
    {
     "name": "stderr",
     "output_type": "stream",
     "text": [
      "\r",
      " 19%|███████▊                                 | 168/888 [00:47<03:18,  3.63it/s]"
     ]
    },
    {
     "name": "stdout",
     "output_type": "stream",
     "text": [
      "Image array shape: (260, 512, 512)\n",
      "Output path for .npy file: LUNA16/Luna Output/subset1/1.3.6.1.4.1.14519.5.2.1.6279.6001.163994693532965040247348251579.npy\n",
      "Saved: LUNA16/Luna Output/subset1/1.3.6.1.4.1.14519.5.2.1.6279.6001.163994693532965040247348251579.npy\n",
      "\n",
      "Processing file: LUNA16/Dataset/subset1/1.3.6.1.4.1.14519.5.2.1.6279.6001.111017101339429664883879536171.mhd\n",
      "SeriesUID for current file: 1.3.6.1.4.1.14519.5.2.1.6279.6001.111017101339429664883879536171\n",
      "Found 833 nodes for seriesuid: 1.3.6.1.4.1.14519.5.2.1.6279.6001.111017101339429664883879536171\n"
     ]
    },
    {
     "name": "stderr",
     "output_type": "stream",
     "text": [
      "\r",
      " 19%|███████▊                                 | 169/888 [00:48<03:02,  3.93it/s]"
     ]
    },
    {
     "name": "stdout",
     "output_type": "stream",
     "text": [
      "Image array shape: (196, 512, 512)\n",
      "Output path for .npy file: LUNA16/Luna Output/subset1/1.3.6.1.4.1.14519.5.2.1.6279.6001.111017101339429664883879536171.npy\n",
      "Saved: LUNA16/Luna Output/subset1/1.3.6.1.4.1.14519.5.2.1.6279.6001.111017101339429664883879536171.npy\n",
      "\n",
      "Processing file: LUNA16/Dataset/subset1/1.3.6.1.4.1.14519.5.2.1.6279.6001.259018373683540453277752706262.mhd\n",
      "SeriesUID for current file: 1.3.6.1.4.1.14519.5.2.1.6279.6001.259018373683540453277752706262\n",
      "Found 505 nodes for seriesuid: 1.3.6.1.4.1.14519.5.2.1.6279.6001.259018373683540453277752706262\n",
      "Image array shape: (130, 512, 512)\n",
      "Output path for .npy file: LUNA16/Luna Output/subset1/1.3.6.1.4.1.14519.5.2.1.6279.6001.259018373683540453277752706262.npy\n"
     ]
    },
    {
     "name": "stderr",
     "output_type": "stream",
     "text": [
      " 19%|███████▉                                 | 171/888 [00:48<02:18,  5.17it/s]"
     ]
    },
    {
     "name": "stdout",
     "output_type": "stream",
     "text": [
      "Saved: LUNA16/Luna Output/subset1/1.3.6.1.4.1.14519.5.2.1.6279.6001.259018373683540453277752706262.npy\n",
      "\n",
      "Processing file: LUNA16/Dataset/subset1/1.3.6.1.4.1.14519.5.2.1.6279.6001.140527383975300992150799777603.mhd\n",
      "SeriesUID for current file: 1.3.6.1.4.1.14519.5.2.1.6279.6001.140527383975300992150799777603\n",
      "Found 610 nodes for seriesuid: 1.3.6.1.4.1.14519.5.2.1.6279.6001.140527383975300992150799777603\n",
      "Image array shape: (125, 512, 512)\n",
      "Output path for .npy file: LUNA16/Luna Output/subset1/1.3.6.1.4.1.14519.5.2.1.6279.6001.140527383975300992150799777603.npy\n",
      "Saved: LUNA16/Luna Output/subset1/1.3.6.1.4.1.14519.5.2.1.6279.6001.140527383975300992150799777603.npy\n",
      "\n",
      "Processing file: LUNA16/Dataset/subset1/1.3.6.1.4.1.14519.5.2.1.6279.6001.315214756157389122376518747372.mhd\n",
      "SeriesUID for current file: 1.3.6.1.4.1.14519.5.2.1.6279.6001.315214756157389122376518747372\n",
      "Found 565 nodes for seriesuid: 1.3.6.1.4.1.14519.5.2.1.6279.6001.315214756157389122376518747372\n"
     ]
    },
    {
     "name": "stderr",
     "output_type": "stream",
     "text": [
      "\r",
      " 19%|███████▉                                 | 172/888 [00:48<02:12,  5.41it/s]"
     ]
    },
    {
     "name": "stdout",
     "output_type": "stream",
     "text": [
      "Image array shape: (225, 512, 512)\n",
      "Output path for .npy file: LUNA16/Luna Output/subset1/1.3.6.1.4.1.14519.5.2.1.6279.6001.315214756157389122376518747372.npy\n",
      "Saved: LUNA16/Luna Output/subset1/1.3.6.1.4.1.14519.5.2.1.6279.6001.315214756157389122376518747372.npy\n",
      "\n",
      "Processing file: LUNA16/Dataset/subset1/1.3.6.1.4.1.14519.5.2.1.6279.6001.690929968028676628605553365896.mhd\n",
      "SeriesUID for current file: 1.3.6.1.4.1.14519.5.2.1.6279.6001.690929968028676628605553365896\n",
      "Found 735 nodes for seriesuid: 1.3.6.1.4.1.14519.5.2.1.6279.6001.690929968028676628605553365896\n",
      "Image array shape: (158, 512, 512)\n",
      "Output path for .npy file: LUNA16/Luna Output/subset1/1.3.6.1.4.1.14519.5.2.1.6279.6001.690929968028676628605553365896.npy\n"
     ]
    },
    {
     "name": "stderr",
     "output_type": "stream",
     "text": [
      " 20%|████████                                 | 174/888 [00:48<02:05,  5.70it/s]"
     ]
    },
    {
     "name": "stdout",
     "output_type": "stream",
     "text": [
      "Saved: LUNA16/Luna Output/subset1/1.3.6.1.4.1.14519.5.2.1.6279.6001.690929968028676628605553365896.npy\n",
      "\n",
      "Processing file: LUNA16/Dataset/subset1/1.3.6.1.4.1.14519.5.2.1.6279.6001.270390050141765094612147226290.mhd\n",
      "SeriesUID for current file: 1.3.6.1.4.1.14519.5.2.1.6279.6001.270390050141765094612147226290\n",
      "Found 1212 nodes for seriesuid: 1.3.6.1.4.1.14519.5.2.1.6279.6001.270390050141765094612147226290\n",
      "Image array shape: (144, 512, 512)\n",
      "Output path for .npy file: LUNA16/Luna Output/subset1/1.3.6.1.4.1.14519.5.2.1.6279.6001.270390050141765094612147226290.npy\n",
      "Saved: LUNA16/Luna Output/subset1/1.3.6.1.4.1.14519.5.2.1.6279.6001.270390050141765094612147226290.npy\n",
      "\n",
      "Processing file: LUNA16/Dataset/subset1/1.3.6.1.4.1.14519.5.2.1.6279.6001.325164338773720548739146851679.mhd\n",
      "SeriesUID for current file: 1.3.6.1.4.1.14519.5.2.1.6279.6001.325164338773720548739146851679\n",
      "Found 1111 nodes for seriesuid: 1.3.6.1.4.1.14519.5.2.1.6279.6001.325164338773720548739146851679\n",
      "Image array shape: (490, 512, 512)\n",
      "Output path for .npy file: LUNA16/Luna Output/subset1/1.3.6.1.4.1.14519.5.2.1.6279.6001.325164338773720548739146851679.npy\n"
     ]
    },
    {
     "name": "stderr",
     "output_type": "stream",
     "text": [
      "\r",
      " 20%|████████                                 | 175/888 [00:49<03:56,  3.02it/s]"
     ]
    },
    {
     "name": "stdout",
     "output_type": "stream",
     "text": [
      "Saved: LUNA16/Luna Output/subset1/1.3.6.1.4.1.14519.5.2.1.6279.6001.325164338773720548739146851679.npy\n",
      "\n",
      "Processing file: LUNA16/Dataset/subset1/1.3.6.1.4.1.14519.5.2.1.6279.6001.282512043257574309474415322775.mhd\n",
      "SeriesUID for current file: 1.3.6.1.4.1.14519.5.2.1.6279.6001.282512043257574309474415322775\n",
      "Found 326 nodes for seriesuid: 1.3.6.1.4.1.14519.5.2.1.6279.6001.282512043257574309474415322775\n"
     ]
    },
    {
     "name": "stderr",
     "output_type": "stream",
     "text": [
      "\r",
      " 20%|████████▏                                | 176/888 [00:49<04:09,  2.85it/s]"
     ]
    },
    {
     "name": "stdout",
     "output_type": "stream",
     "text": [
      "Image array shape: (283, 512, 512)\n",
      "Output path for .npy file: LUNA16/Luna Output/subset1/1.3.6.1.4.1.14519.5.2.1.6279.6001.282512043257574309474415322775.npy\n",
      "Saved: LUNA16/Luna Output/subset1/1.3.6.1.4.1.14519.5.2.1.6279.6001.282512043257574309474415322775.npy\n",
      "\n",
      "Processing file: LUNA16/Dataset/subset1/1.3.6.1.4.1.14519.5.2.1.6279.6001.179162671133894061547290922949.mhd\n",
      "SeriesUID for current file: 1.3.6.1.4.1.14519.5.2.1.6279.6001.179162671133894061547290922949\n",
      "Found 1210 nodes for seriesuid: 1.3.6.1.4.1.14519.5.2.1.6279.6001.179162671133894061547290922949\n",
      "Image array shape: (445, 512, 512)\n",
      "Output path for .npy file: LUNA16/Luna Output/subset1/1.3.6.1.4.1.14519.5.2.1.6279.6001.179162671133894061547290922949.npy\n"
     ]
    },
    {
     "name": "stderr",
     "output_type": "stream",
     "text": [
      " 20%|████████▏                                | 178/888 [00:50<03:56,  3.00it/s]"
     ]
    },
    {
     "name": "stdout",
     "output_type": "stream",
     "text": [
      "Saved: LUNA16/Luna Output/subset1/1.3.6.1.4.1.14519.5.2.1.6279.6001.179162671133894061547290922949.npy\n",
      "\n",
      "Processing file: LUNA16/Dataset/subset1/1.3.6.1.4.1.14519.5.2.1.6279.6001.128059192202504367870633619224.mhd\n",
      "SeriesUID for current file: 1.3.6.1.4.1.14519.5.2.1.6279.6001.128059192202504367870633619224\n",
      "Found 814 nodes for seriesuid: 1.3.6.1.4.1.14519.5.2.1.6279.6001.128059192202504367870633619224\n",
      "Image array shape: (140, 512, 512)\n",
      "Output path for .npy file: LUNA16/Luna Output/subset1/1.3.6.1.4.1.14519.5.2.1.6279.6001.128059192202504367870633619224.npy\n",
      "Saved: LUNA16/Luna Output/subset1/1.3.6.1.4.1.14519.5.2.1.6279.6001.128059192202504367870633619224.npy\n",
      "\n",
      "Processing file: LUNA16/Dataset/subset2/1.3.6.1.4.1.14519.5.2.1.6279.6001.217697417596902141600884006982.mhd\n",
      "SeriesUID for current file: 1.3.6.1.4.1.14519.5.2.1.6279.6001.217697417596902141600884006982\n",
      "Found 1217 nodes for seriesuid: 1.3.6.1.4.1.14519.5.2.1.6279.6001.217697417596902141600884006982\n",
      "Image array shape: (429, 512, 512)\n",
      "Output path for .npy file: LUNA16/Luna Output/subset2/1.3.6.1.4.1.14519.5.2.1.6279.6001.217697417596902141600884006982.npy\n"
     ]
    },
    {
     "name": "stderr",
     "output_type": "stream",
     "text": [
      "\r",
      " 20%|████████▎                                | 179/888 [00:51<04:22,  2.70it/s]"
     ]
    },
    {
     "name": "stdout",
     "output_type": "stream",
     "text": [
      "Saved: LUNA16/Luna Output/subset2/1.3.6.1.4.1.14519.5.2.1.6279.6001.217697417596902141600884006982.npy\n",
      "\n",
      "Processing file: LUNA16/Dataset/subset2/1.3.6.1.4.1.14519.5.2.1.6279.6001.117383608379722740629083782428.mhd\n",
      "SeriesUID for current file: 1.3.6.1.4.1.14519.5.2.1.6279.6001.117383608379722740629083782428\n",
      "Found 855 nodes for seriesuid: 1.3.6.1.4.1.14519.5.2.1.6279.6001.117383608379722740629083782428\n",
      "Image array shape: (133, 512, 512)\n",
      "Output path for .npy file: LUNA16/Luna Output/subset2/1.3.6.1.4.1.14519.5.2.1.6279.6001.117383608379722740629083782428.npy\n"
     ]
    },
    {
     "name": "stderr",
     "output_type": "stream",
     "text": [
      " 20%|████████▎                                | 181/888 [00:51<03:10,  3.70it/s]"
     ]
    },
    {
     "name": "stdout",
     "output_type": "stream",
     "text": [
      "Saved: LUNA16/Luna Output/subset2/1.3.6.1.4.1.14519.5.2.1.6279.6001.117383608379722740629083782428.npy\n",
      "\n",
      "Processing file: LUNA16/Dataset/subset2/1.3.6.1.4.1.14519.5.2.1.6279.6001.504324996863016748259361352296.mhd\n",
      "SeriesUID for current file: 1.3.6.1.4.1.14519.5.2.1.6279.6001.504324996863016748259361352296\n",
      "Found 718 nodes for seriesuid: 1.3.6.1.4.1.14519.5.2.1.6279.6001.504324996863016748259361352296\n",
      "Image array shape: (120, 512, 512)\n",
      "Output path for .npy file: LUNA16/Luna Output/subset2/1.3.6.1.4.1.14519.5.2.1.6279.6001.504324996863016748259361352296.npy\n",
      "Saved: LUNA16/Luna Output/subset2/1.3.6.1.4.1.14519.5.2.1.6279.6001.504324996863016748259361352296.npy\n",
      "\n",
      "Processing file: LUNA16/Dataset/subset2/1.3.6.1.4.1.14519.5.2.1.6279.6001.159521777966998275980367008904.mhd\n",
      "SeriesUID for current file: 1.3.6.1.4.1.14519.5.2.1.6279.6001.159521777966998275980367008904\n",
      "Found 693 nodes for seriesuid: 1.3.6.1.4.1.14519.5.2.1.6279.6001.159521777966998275980367008904\n"
     ]
    },
    {
     "name": "stderr",
     "output_type": "stream",
     "text": [
      "\r",
      " 20%|████████▍                                | 182/888 [00:51<02:44,  4.30it/s]"
     ]
    },
    {
     "name": "stdout",
     "output_type": "stream",
     "text": [
      "Image array shape: (127, 512, 512)\n",
      "Output path for .npy file: LUNA16/Luna Output/subset2/1.3.6.1.4.1.14519.5.2.1.6279.6001.159521777966998275980367008904.npy\n",
      "Saved: LUNA16/Luna Output/subset2/1.3.6.1.4.1.14519.5.2.1.6279.6001.159521777966998275980367008904.npy\n",
      "\n",
      "Processing file: LUNA16/Dataset/subset2/1.3.6.1.4.1.14519.5.2.1.6279.6001.253322967203074795232627653819.mhd\n",
      "SeriesUID for current file: 1.3.6.1.4.1.14519.5.2.1.6279.6001.253322967203074795232627653819\n",
      "Found 786 nodes for seriesuid: 1.3.6.1.4.1.14519.5.2.1.6279.6001.253322967203074795232627653819\n"
     ]
    },
    {
     "name": "stderr",
     "output_type": "stream",
     "text": [
      "\r",
      " 21%|████████▍                                | 183/888 [00:52<03:43,  3.16it/s]"
     ]
    },
    {
     "name": "stdout",
     "output_type": "stream",
     "text": [
      "Image array shape: (461, 512, 512)\n",
      "Output path for .npy file: LUNA16/Luna Output/subset2/1.3.6.1.4.1.14519.5.2.1.6279.6001.253322967203074795232627653819.npy\n",
      "Saved: LUNA16/Luna Output/subset2/1.3.6.1.4.1.14519.5.2.1.6279.6001.253322967203074795232627653819.npy\n",
      "\n",
      "Processing file: LUNA16/Dataset/subset2/1.3.6.1.4.1.14519.5.2.1.6279.6001.235364978775280910367690540811.mhd\n",
      "SeriesUID for current file: 1.3.6.1.4.1.14519.5.2.1.6279.6001.235364978775280910367690540811\n",
      "Found 771 nodes for seriesuid: 1.3.6.1.4.1.14519.5.2.1.6279.6001.235364978775280910367690540811\n",
      "Image array shape: (246, 512, 512)\n",
      "Output path for .npy file: LUNA16/Luna Output/subset2/1.3.6.1.4.1.14519.5.2.1.6279.6001.235364978775280910367690540811.npy\n"
     ]
    },
    {
     "name": "stderr",
     "output_type": "stream",
     "text": [
      " 21%|████████▌                                | 185/888 [00:52<02:55,  4.01it/s]"
     ]
    },
    {
     "name": "stdout",
     "output_type": "stream",
     "text": [
      "Saved: LUNA16/Luna Output/subset2/1.3.6.1.4.1.14519.5.2.1.6279.6001.235364978775280910367690540811.npy\n",
      "\n",
      "Processing file: LUNA16/Dataset/subset2/1.3.6.1.4.1.14519.5.2.1.6279.6001.212346425055214308006918165305.mhd\n",
      "SeriesUID for current file: 1.3.6.1.4.1.14519.5.2.1.6279.6001.212346425055214308006918165305\n",
      "Found 975 nodes for seriesuid: 1.3.6.1.4.1.14519.5.2.1.6279.6001.212346425055214308006918165305\n",
      "Image array shape: (133, 512, 512)\n",
      "Output path for .npy file: LUNA16/Luna Output/subset2/1.3.6.1.4.1.14519.5.2.1.6279.6001.212346425055214308006918165305.npy\n",
      "Saved: LUNA16/Luna Output/subset2/1.3.6.1.4.1.14519.5.2.1.6279.6001.212346425055214308006918165305.npy\n",
      "\n",
      "Processing file: LUNA16/Dataset/subset2/1.3.6.1.4.1.14519.5.2.1.6279.6001.707218743153927597786179232739.mhd\n",
      "SeriesUID for current file: 1.3.6.1.4.1.14519.5.2.1.6279.6001.707218743153927597786179232739\n",
      "Found 857 nodes for seriesuid: 1.3.6.1.4.1.14519.5.2.1.6279.6001.707218743153927597786179232739\n",
      "Image array shape: (110, 512, 512)\n",
      "Output path for .npy file: LUNA16/Luna Output/subset2/1.3.6.1.4.1.14519.5.2.1.6279.6001.707218743153927597786179232739.npy\n"
     ]
    },
    {
     "name": "stderr",
     "output_type": "stream",
     "text": [
      "\r",
      " 21%|████████▌                                | 186/888 [00:52<02:24,  4.85it/s]"
     ]
    },
    {
     "name": "stdout",
     "output_type": "stream",
     "text": [
      "Saved: LUNA16/Luna Output/subset2/1.3.6.1.4.1.14519.5.2.1.6279.6001.707218743153927597786179232739.npy\n",
      "\n",
      "Processing file: LUNA16/Dataset/subset2/1.3.6.1.4.1.14519.5.2.1.6279.6001.126704785377921920210612476953.mhd\n",
      "SeriesUID for current file: 1.3.6.1.4.1.14519.5.2.1.6279.6001.126704785377921920210612476953\n",
      "Found 755 nodes for seriesuid: 1.3.6.1.4.1.14519.5.2.1.6279.6001.126704785377921920210612476953\n",
      "Image array shape: (257, 512, 512)\n",
      "Output path for .npy file: LUNA16/Luna Output/subset2/1.3.6.1.4.1.14519.5.2.1.6279.6001.126704785377921920210612476953.npy\n"
     ]
    },
    {
     "name": "stderr",
     "output_type": "stream",
     "text": [
      " 21%|████████▋                                | 188/888 [00:52<02:10,  5.35it/s]"
     ]
    },
    {
     "name": "stdout",
     "output_type": "stream",
     "text": [
      "Saved: LUNA16/Luna Output/subset2/1.3.6.1.4.1.14519.5.2.1.6279.6001.126704785377921920210612476953.npy\n",
      "\n",
      "Processing file: LUNA16/Dataset/subset2/1.3.6.1.4.1.14519.5.2.1.6279.6001.281967919138248195763602360723.mhd\n",
      "SeriesUID for current file: 1.3.6.1.4.1.14519.5.2.1.6279.6001.281967919138248195763602360723\n",
      "Found 365 nodes for seriesuid: 1.3.6.1.4.1.14519.5.2.1.6279.6001.281967919138248195763602360723\n",
      "Image array shape: (125, 512, 512)\n",
      "Output path for .npy file: LUNA16/Luna Output/subset2/1.3.6.1.4.1.14519.5.2.1.6279.6001.281967919138248195763602360723.npy\n",
      "Saved: LUNA16/Luna Output/subset2/1.3.6.1.4.1.14519.5.2.1.6279.6001.281967919138248195763602360723.npy\n",
      "\n",
      "Processing file: LUNA16/Dataset/subset2/1.3.6.1.4.1.14519.5.2.1.6279.6001.323753921818102744511069914832.mhd\n",
      "SeriesUID for current file: 1.3.6.1.4.1.14519.5.2.1.6279.6001.323753921818102744511069914832\n",
      "Found 788 nodes for seriesuid: 1.3.6.1.4.1.14519.5.2.1.6279.6001.323753921818102744511069914832\n"
     ]
    },
    {
     "name": "stderr",
     "output_type": "stream",
     "text": [
      "\r",
      " 21%|████████▋                                | 189/888 [00:53<03:08,  3.70it/s]"
     ]
    },
    {
     "name": "stdout",
     "output_type": "stream",
     "text": [
      "Image array shape: (421, 512, 512)\n",
      "Output path for .npy file: LUNA16/Luna Output/subset2/1.3.6.1.4.1.14519.5.2.1.6279.6001.323753921818102744511069914832.npy\n",
      "Saved: LUNA16/Luna Output/subset2/1.3.6.1.4.1.14519.5.2.1.6279.6001.323753921818102744511069914832.npy\n",
      "\n",
      "Processing file: LUNA16/Dataset/subset2/1.3.6.1.4.1.14519.5.2.1.6279.6001.199220738144407033276946096708.mhd\n",
      "SeriesUID for current file: 1.3.6.1.4.1.14519.5.2.1.6279.6001.199220738144407033276946096708\n",
      "Found 1073 nodes for seriesuid: 1.3.6.1.4.1.14519.5.2.1.6279.6001.199220738144407033276946096708\n"
     ]
    },
    {
     "name": "stderr",
     "output_type": "stream",
     "text": [
      "\r",
      " 21%|████████▊                                | 190/888 [00:53<03:29,  3.33it/s]"
     ]
    },
    {
     "name": "stdout",
     "output_type": "stream",
     "text": [
      "Image array shape: (285, 512, 512)\n",
      "Output path for .npy file: LUNA16/Luna Output/subset2/1.3.6.1.4.1.14519.5.2.1.6279.6001.199220738144407033276946096708.npy\n",
      "Saved: LUNA16/Luna Output/subset2/1.3.6.1.4.1.14519.5.2.1.6279.6001.199220738144407033276946096708.npy\n",
      "\n",
      "Processing file: LUNA16/Dataset/subset2/1.3.6.1.4.1.14519.5.2.1.6279.6001.265453131727473342790950829556.mhd\n",
      "SeriesUID for current file: 1.3.6.1.4.1.14519.5.2.1.6279.6001.265453131727473342790950829556\n",
      "Found 1160 nodes for seriesuid: 1.3.6.1.4.1.14519.5.2.1.6279.6001.265453131727473342790950829556\n"
     ]
    },
    {
     "name": "stderr",
     "output_type": "stream",
     "text": [
      "\r",
      " 22%|████████▊                                | 191/888 [00:54<03:20,  3.48it/s]"
     ]
    },
    {
     "name": "stdout",
     "output_type": "stream",
     "text": [
      "Image array shape: (347, 512, 512)\n",
      "Output path for .npy file: LUNA16/Luna Output/subset2/1.3.6.1.4.1.14519.5.2.1.6279.6001.265453131727473342790950829556.npy\n",
      "Saved: LUNA16/Luna Output/subset2/1.3.6.1.4.1.14519.5.2.1.6279.6001.265453131727473342790950829556.npy\n",
      "\n",
      "Processing file: LUNA16/Dataset/subset2/1.3.6.1.4.1.14519.5.2.1.6279.6001.461155505515403114280165935891.mhd\n",
      "SeriesUID for current file: 1.3.6.1.4.1.14519.5.2.1.6279.6001.461155505515403114280165935891\n",
      "Found 1594 nodes for seriesuid: 1.3.6.1.4.1.14519.5.2.1.6279.6001.461155505515403114280165935891\n"
     ]
    },
    {
     "name": "stderr",
     "output_type": "stream",
     "text": [
      "\r",
      " 22%|████████▊                                | 192/888 [00:54<03:15,  3.56it/s]"
     ]
    },
    {
     "name": "stdout",
     "output_type": "stream",
     "text": [
      "Image array shape: (245, 512, 512)\n",
      "Output path for .npy file: LUNA16/Luna Output/subset2/1.3.6.1.4.1.14519.5.2.1.6279.6001.461155505515403114280165935891.npy\n",
      "Saved: LUNA16/Luna Output/subset2/1.3.6.1.4.1.14519.5.2.1.6279.6001.461155505515403114280165935891.npy\n",
      "\n",
      "Processing file: LUNA16/Dataset/subset2/1.3.6.1.4.1.14519.5.2.1.6279.6001.137375498893536422914241295628.mhd\n",
      "SeriesUID for current file: 1.3.6.1.4.1.14519.5.2.1.6279.6001.137375498893536422914241295628\n",
      "Found 1186 nodes for seriesuid: 1.3.6.1.4.1.14519.5.2.1.6279.6001.137375498893536422914241295628\n"
     ]
    },
    {
     "name": "stderr",
     "output_type": "stream",
     "text": [
      " 22%|████████▉                                | 194/888 [00:54<02:37,  4.42it/s]"
     ]
    },
    {
     "name": "stdout",
     "output_type": "stream",
     "text": [
      "Image array shape: (181, 512, 512)\n",
      "Output path for .npy file: LUNA16/Luna Output/subset2/1.3.6.1.4.1.14519.5.2.1.6279.6001.137375498893536422914241295628.npy\n",
      "Saved: LUNA16/Luna Output/subset2/1.3.6.1.4.1.14519.5.2.1.6279.6001.137375498893536422914241295628.npy\n",
      "\n",
      "Processing file: LUNA16/Dataset/subset2/1.3.6.1.4.1.14519.5.2.1.6279.6001.259227883564429312164962953756.mhd\n",
      "SeriesUID for current file: 1.3.6.1.4.1.14519.5.2.1.6279.6001.259227883564429312164962953756\n",
      "Found 916 nodes for seriesuid: 1.3.6.1.4.1.14519.5.2.1.6279.6001.259227883564429312164962953756\n",
      "Image array shape: (245, 512, 512)\n",
      "Output path for .npy file: LUNA16/Luna Output/subset2/1.3.6.1.4.1.14519.5.2.1.6279.6001.259227883564429312164962953756.npy\n",
      "Saved: LUNA16/Luna Output/subset2/1.3.6.1.4.1.14519.5.2.1.6279.6001.259227883564429312164962953756.npy\n",
      "\n",
      "Processing file: LUNA16/Dataset/subset2/1.3.6.1.4.1.14519.5.2.1.6279.6001.296863826932699509516219450076.mhd\n",
      "SeriesUID for current file: 1.3.6.1.4.1.14519.5.2.1.6279.6001.296863826932699509516219450076\n"
     ]
    },
    {
     "name": "stderr",
     "output_type": "stream",
     "text": [
      "\r",
      " 22%|█████████                                | 195/888 [00:54<02:28,  4.66it/s]"
     ]
    },
    {
     "name": "stdout",
     "output_type": "stream",
     "text": [
      "Found 703 nodes for seriesuid: 1.3.6.1.4.1.14519.5.2.1.6279.6001.296863826932699509516219450076\n",
      "Image array shape: (133, 512, 512)\n",
      "Output path for .npy file: LUNA16/Luna Output/subset2/1.3.6.1.4.1.14519.5.2.1.6279.6001.296863826932699509516219450076.npy\n",
      "Saved: LUNA16/Luna Output/subset2/1.3.6.1.4.1.14519.5.2.1.6279.6001.296863826932699509516219450076.npy\n",
      "\n",
      "Processing file: LUNA16/Dataset/subset2/1.3.6.1.4.1.14519.5.2.1.6279.6001.100621383016233746780170740405.mhd\n",
      "SeriesUID for current file: 1.3.6.1.4.1.14519.5.2.1.6279.6001.100621383016233746780170740405\n",
      "Found 854 nodes for seriesuid: 1.3.6.1.4.1.14519.5.2.1.6279.6001.100621383016233746780170740405\n"
     ]
    },
    {
     "name": "stderr",
     "output_type": "stream",
     "text": [
      "\r",
      " 22%|█████████                                | 196/888 [00:55<03:09,  3.65it/s]"
     ]
    },
    {
     "name": "stdout",
     "output_type": "stream",
     "text": [
      "Image array shape: (321, 512, 512)\n",
      "Output path for .npy file: LUNA16/Luna Output/subset2/1.3.6.1.4.1.14519.5.2.1.6279.6001.100621383016233746780170740405.npy\n",
      "Saved: LUNA16/Luna Output/subset2/1.3.6.1.4.1.14519.5.2.1.6279.6001.100621383016233746780170740405.npy\n",
      "\n",
      "Processing file: LUNA16/Dataset/subset2/1.3.6.1.4.1.14519.5.2.1.6279.6001.943403138251347598519939390311.mhd\n",
      "SeriesUID for current file: 1.3.6.1.4.1.14519.5.2.1.6279.6001.943403138251347598519939390311\n",
      "Found 899 nodes for seriesuid: 1.3.6.1.4.1.14519.5.2.1.6279.6001.943403138251347598519939390311\n"
     ]
    },
    {
     "name": "stderr",
     "output_type": "stream",
     "text": [
      "\r",
      " 22%|█████████                                | 197/888 [00:55<02:56,  3.91it/s]"
     ]
    },
    {
     "name": "stdout",
     "output_type": "stream",
     "text": [
      "Image array shape: (210, 512, 512)\n",
      "Output path for .npy file: LUNA16/Luna Output/subset2/1.3.6.1.4.1.14519.5.2.1.6279.6001.943403138251347598519939390311.npy\n",
      "Saved: LUNA16/Luna Output/subset2/1.3.6.1.4.1.14519.5.2.1.6279.6001.943403138251347598519939390311.npy\n",
      "\n",
      "Processing file: LUNA16/Dataset/subset2/1.3.6.1.4.1.14519.5.2.1.6279.6001.272259794130271010519952623746.mhd\n",
      "SeriesUID for current file: 1.3.6.1.4.1.14519.5.2.1.6279.6001.272259794130271010519952623746\n",
      "Found 240 nodes for seriesuid: 1.3.6.1.4.1.14519.5.2.1.6279.6001.272259794130271010519952623746\n"
     ]
    },
    {
     "name": "stderr",
     "output_type": "stream",
     "text": [
      "\r",
      " 22%|█████████▏                               | 198/888 [00:55<03:39,  3.15it/s]"
     ]
    },
    {
     "name": "stdout",
     "output_type": "stream",
     "text": [
      "Image array shape: (477, 512, 512)\n",
      "Output path for .npy file: LUNA16/Luna Output/subset2/1.3.6.1.4.1.14519.5.2.1.6279.6001.272259794130271010519952623746.npy\n",
      "Saved: LUNA16/Luna Output/subset2/1.3.6.1.4.1.14519.5.2.1.6279.6001.272259794130271010519952623746.npy\n",
      "\n",
      "Processing file: LUNA16/Dataset/subset2/1.3.6.1.4.1.14519.5.2.1.6279.6001.624425075947752229712087113746.mhd\n",
      "SeriesUID for current file: 1.3.6.1.4.1.14519.5.2.1.6279.6001.624425075947752229712087113746\n",
      "Found 1033 nodes for seriesuid: 1.3.6.1.4.1.14519.5.2.1.6279.6001.624425075947752229712087113746\n"
     ]
    },
    {
     "name": "stderr",
     "output_type": "stream",
     "text": [
      "\r",
      " 22%|█████████▏                               | 199/888 [00:56<03:44,  3.07it/s]"
     ]
    },
    {
     "name": "stdout",
     "output_type": "stream",
     "text": [
      "Image array shape: (255, 512, 512)\n",
      "Output path for .npy file: LUNA16/Luna Output/subset2/1.3.6.1.4.1.14519.5.2.1.6279.6001.624425075947752229712087113746.npy\n",
      "Saved: LUNA16/Luna Output/subset2/1.3.6.1.4.1.14519.5.2.1.6279.6001.624425075947752229712087113746.npy\n",
      "\n",
      "Processing file: LUNA16/Dataset/subset2/1.3.6.1.4.1.14519.5.2.1.6279.6001.466284753932369813717081722101.mhd\n",
      "SeriesUID for current file: 1.3.6.1.4.1.14519.5.2.1.6279.6001.466284753932369813717081722101\n",
      "Found 789 nodes for seriesuid: 1.3.6.1.4.1.14519.5.2.1.6279.6001.466284753932369813717081722101\n"
     ]
    },
    {
     "name": "stderr",
     "output_type": "stream",
     "text": [
      "\r",
      " 23%|█████████▏                               | 200/888 [00:56<03:28,  3.30it/s]"
     ]
    },
    {
     "name": "stdout",
     "output_type": "stream",
     "text": [
      "Image array shape: (278, 512, 512)\n",
      "Output path for .npy file: LUNA16/Luna Output/subset2/1.3.6.1.4.1.14519.5.2.1.6279.6001.466284753932369813717081722101.npy\n",
      "Saved: LUNA16/Luna Output/subset2/1.3.6.1.4.1.14519.5.2.1.6279.6001.466284753932369813717081722101.npy\n",
      "\n",
      "Processing file: LUNA16/Dataset/subset2/1.3.6.1.4.1.14519.5.2.1.6279.6001.226383054119800793308721198594.mhd\n",
      "SeriesUID for current file: 1.3.6.1.4.1.14519.5.2.1.6279.6001.226383054119800793308721198594\n",
      "Found 859 nodes for seriesuid: 1.3.6.1.4.1.14519.5.2.1.6279.6001.226383054119800793308721198594\n"
     ]
    },
    {
     "name": "stderr",
     "output_type": "stream",
     "text": [
      "\r",
      " 23%|█████████▎                               | 201/888 [00:56<03:23,  3.37it/s]"
     ]
    },
    {
     "name": "stdout",
     "output_type": "stream",
     "text": [
      "Image array shape: (290, 512, 512)\n",
      "Output path for .npy file: LUNA16/Luna Output/subset2/1.3.6.1.4.1.14519.5.2.1.6279.6001.226383054119800793308721198594.npy\n",
      "Saved: LUNA16/Luna Output/subset2/1.3.6.1.4.1.14519.5.2.1.6279.6001.226383054119800793308721198594.npy\n",
      "\n",
      "Processing file: LUNA16/Dataset/subset2/1.3.6.1.4.1.14519.5.2.1.6279.6001.221945191226273284587353530424.mhd\n",
      "SeriesUID for current file: 1.3.6.1.4.1.14519.5.2.1.6279.6001.221945191226273284587353530424\n",
      "Found 953 nodes for seriesuid: 1.3.6.1.4.1.14519.5.2.1.6279.6001.221945191226273284587353530424\n",
      "Image array shape: (682, 512, 512)\n",
      "Output path for .npy file: LUNA16/Luna Output/subset2/1.3.6.1.4.1.14519.5.2.1.6279.6001.221945191226273284587353530424.npy\n"
     ]
    },
    {
     "name": "stderr",
     "output_type": "stream",
     "text": [
      " 23%|█████████▎                               | 203/888 [00:57<04:34,  2.50it/s]"
     ]
    },
    {
     "name": "stdout",
     "output_type": "stream",
     "text": [
      "Saved: LUNA16/Luna Output/subset2/1.3.6.1.4.1.14519.5.2.1.6279.6001.221945191226273284587353530424.npy\n",
      "\n",
      "Processing file: LUNA16/Dataset/subset2/1.3.6.1.4.1.14519.5.2.1.6279.6001.240969450540588211676803094518.mhd\n",
      "SeriesUID for current file: 1.3.6.1.4.1.14519.5.2.1.6279.6001.240969450540588211676803094518\n",
      "Found 829 nodes for seriesuid: 1.3.6.1.4.1.14519.5.2.1.6279.6001.240969450540588211676803094518\n",
      "Image array shape: (133, 512, 512)\n",
      "Output path for .npy file: LUNA16/Luna Output/subset2/1.3.6.1.4.1.14519.5.2.1.6279.6001.240969450540588211676803094518.npy\n",
      "Saved: LUNA16/Luna Output/subset2/1.3.6.1.4.1.14519.5.2.1.6279.6001.240969450540588211676803094518.npy\n",
      "\n",
      "Processing file: LUNA16/Dataset/subset2/1.3.6.1.4.1.14519.5.2.1.6279.6001.306788423710427765311352901943.mhd\n",
      "SeriesUID for current file: 1.3.6.1.4.1.14519.5.2.1.6279.6001.306788423710427765311352901943\n",
      "Found 394 nodes for seriesuid: 1.3.6.1.4.1.14519.5.2.1.6279.6001.306788423710427765311352901943\n",
      "Image array shape: (300, 512, 512)\n",
      "Output path for .npy file: LUNA16/Luna Output/subset2/1.3.6.1.4.1.14519.5.2.1.6279.6001.306788423710427765311352901943.npy\n"
     ]
    },
    {
     "name": "stderr",
     "output_type": "stream",
     "text": [
      "\r",
      " 23%|█████████▍                               | 204/888 [00:58<04:13,  2.70it/s]"
     ]
    },
    {
     "name": "stdout",
     "output_type": "stream",
     "text": [
      "Saved: LUNA16/Luna Output/subset2/1.3.6.1.4.1.14519.5.2.1.6279.6001.306788423710427765311352901943.npy\n",
      "\n",
      "Processing file: LUNA16/Dataset/subset2/1.3.6.1.4.1.14519.5.2.1.6279.6001.187108608022306504546286626125.mhd\n",
      "SeriesUID for current file: 1.3.6.1.4.1.14519.5.2.1.6279.6001.187108608022306504546286626125\n",
      "Found 772 nodes for seriesuid: 1.3.6.1.4.1.14519.5.2.1.6279.6001.187108608022306504546286626125\n",
      "Image array shape: (261, 512, 512)\n",
      "Output path for .npy file: LUNA16/Luna Output/subset2/1.3.6.1.4.1.14519.5.2.1.6279.6001.187108608022306504546286626125.npy\n"
     ]
    },
    {
     "name": "stderr",
     "output_type": "stream",
     "text": [
      "\r",
      " 23%|█████████▍                               | 205/888 [00:58<03:56,  2.88it/s]"
     ]
    },
    {
     "name": "stdout",
     "output_type": "stream",
     "text": [
      "Saved: LUNA16/Luna Output/subset2/1.3.6.1.4.1.14519.5.2.1.6279.6001.187108608022306504546286626125.npy\n",
      "\n",
      "Processing file: LUNA16/Dataset/subset2/1.3.6.1.4.1.14519.5.2.1.6279.6001.133378195429627807109985347209.mhd\n",
      "SeriesUID for current file: 1.3.6.1.4.1.14519.5.2.1.6279.6001.133378195429627807109985347209\n",
      "Found 1137 nodes for seriesuid: 1.3.6.1.4.1.14519.5.2.1.6279.6001.133378195429627807109985347209\n",
      "Image array shape: (238, 512, 512)\n",
      "Output path for .npy file: LUNA16/Luna Output/subset2/1.3.6.1.4.1.14519.5.2.1.6279.6001.133378195429627807109985347209.npy\n"
     ]
    },
    {
     "name": "stderr",
     "output_type": "stream",
     "text": [
      "\r",
      " 23%|█████████▌                               | 206/888 [00:58<03:28,  3.28it/s]"
     ]
    },
    {
     "name": "stdout",
     "output_type": "stream",
     "text": [
      "Saved: LUNA16/Luna Output/subset2/1.3.6.1.4.1.14519.5.2.1.6279.6001.133378195429627807109985347209.npy\n",
      "\n",
      "Processing file: LUNA16/Dataset/subset2/1.3.6.1.4.1.14519.5.2.1.6279.6001.143412474064515942785157561636.mhd\n",
      "SeriesUID for current file: 1.3.6.1.4.1.14519.5.2.1.6279.6001.143412474064515942785157561636\n",
      "Found 927 nodes for seriesuid: 1.3.6.1.4.1.14519.5.2.1.6279.6001.143412474064515942785157561636\n"
     ]
    },
    {
     "name": "stderr",
     "output_type": "stream",
     "text": [
      "\r",
      " 23%|█████████▌                               | 207/888 [00:59<04:16,  2.66it/s]"
     ]
    },
    {
     "name": "stdout",
     "output_type": "stream",
     "text": [
      "Image array shape: (449, 512, 512)\n",
      "Output path for .npy file: LUNA16/Luna Output/subset2/1.3.6.1.4.1.14519.5.2.1.6279.6001.143412474064515942785157561636.npy\n",
      "Saved: LUNA16/Luna Output/subset2/1.3.6.1.4.1.14519.5.2.1.6279.6001.143412474064515942785157561636.npy\n",
      "\n",
      "Processing file: LUNA16/Dataset/subset2/1.3.6.1.4.1.14519.5.2.1.6279.6001.199975006921901879512837687266.mhd\n",
      "SeriesUID for current file: 1.3.6.1.4.1.14519.5.2.1.6279.6001.199975006921901879512837687266\n",
      "Found 957 nodes for seriesuid: 1.3.6.1.4.1.14519.5.2.1.6279.6001.199975006921901879512837687266\n"
     ]
    },
    {
     "name": "stderr",
     "output_type": "stream",
     "text": [
      "\r",
      " 23%|█████████▌                               | 208/888 [00:59<04:02,  2.80it/s]"
     ]
    },
    {
     "name": "stdout",
     "output_type": "stream",
     "text": [
      "Image array shape: (250, 512, 512)\n",
      "Output path for .npy file: LUNA16/Luna Output/subset2/1.3.6.1.4.1.14519.5.2.1.6279.6001.199975006921901879512837687266.npy\n",
      "Saved: LUNA16/Luna Output/subset2/1.3.6.1.4.1.14519.5.2.1.6279.6001.199975006921901879512837687266.npy\n",
      "\n",
      "Processing file: LUNA16/Dataset/subset2/1.3.6.1.4.1.14519.5.2.1.6279.6001.743969234977916254223533321294.mhd\n",
      "SeriesUID for current file: 1.3.6.1.4.1.14519.5.2.1.6279.6001.743969234977916254223533321294\n",
      "Found 831 nodes for seriesuid: 1.3.6.1.4.1.14519.5.2.1.6279.6001.743969234977916254223533321294\n"
     ]
    },
    {
     "name": "stderr",
     "output_type": "stream",
     "text": [
      "\r",
      " 24%|█████████▋                               | 209/888 [00:59<03:54,  2.89it/s]"
     ]
    },
    {
     "name": "stdout",
     "output_type": "stream",
     "text": [
      "Image array shape: (362, 512, 512)\n",
      "Output path for .npy file: LUNA16/Luna Output/subset2/1.3.6.1.4.1.14519.5.2.1.6279.6001.743969234977916254223533321294.npy\n",
      "Saved: LUNA16/Luna Output/subset2/1.3.6.1.4.1.14519.5.2.1.6279.6001.743969234977916254223533321294.npy\n",
      "\n",
      "Processing file: LUNA16/Dataset/subset2/1.3.6.1.4.1.14519.5.2.1.6279.6001.803808126682275425758092691689.mhd\n",
      "SeriesUID for current file: 1.3.6.1.4.1.14519.5.2.1.6279.6001.803808126682275425758092691689\n",
      "Found 550 nodes for seriesuid: 1.3.6.1.4.1.14519.5.2.1.6279.6001.803808126682275425758092691689\n"
     ]
    },
    {
     "name": "stderr",
     "output_type": "stream",
     "text": [
      "\r",
      " 24%|█████████▋                               | 210/888 [01:00<03:34,  3.16it/s]"
     ]
    },
    {
     "name": "stdout",
     "output_type": "stream",
     "text": [
      "Image array shape: (249, 512, 512)\n",
      "Output path for .npy file: LUNA16/Luna Output/subset2/1.3.6.1.4.1.14519.5.2.1.6279.6001.803808126682275425758092691689.npy\n",
      "Saved: LUNA16/Luna Output/subset2/1.3.6.1.4.1.14519.5.2.1.6279.6001.803808126682275425758092691689.npy\n",
      "\n",
      "Processing file: LUNA16/Dataset/subset2/1.3.6.1.4.1.14519.5.2.1.6279.6001.270152671889301412052226973069.mhd\n",
      "SeriesUID for current file: 1.3.6.1.4.1.14519.5.2.1.6279.6001.270152671889301412052226973069\n",
      "Found 873 nodes for seriesuid: 1.3.6.1.4.1.14519.5.2.1.6279.6001.270152671889301412052226973069\n",
      "Image array shape: (135, 512, 512)\n",
      "Output path for .npy file: LUNA16/Luna Output/subset2/1.3.6.1.4.1.14519.5.2.1.6279.6001.270152671889301412052226973069.npy\n"
     ]
    },
    {
     "name": "stderr",
     "output_type": "stream",
     "text": [
      "\r",
      " 24%|█████████▋                               | 211/888 [01:00<03:04,  3.66it/s]"
     ]
    },
    {
     "name": "stdout",
     "output_type": "stream",
     "text": [
      "Saved: LUNA16/Luna Output/subset2/1.3.6.1.4.1.14519.5.2.1.6279.6001.270152671889301412052226973069.npy\n",
      "\n",
      "Processing file: LUNA16/Dataset/subset2/1.3.6.1.4.1.14519.5.2.1.6279.6001.885292267869246639232975687131.mhd\n",
      "SeriesUID for current file: 1.3.6.1.4.1.14519.5.2.1.6279.6001.885292267869246639232975687131\n",
      "Found 511 nodes for seriesuid: 1.3.6.1.4.1.14519.5.2.1.6279.6001.885292267869246639232975687131\n",
      "Image array shape: (263, 512, 512)\n",
      "Output path for .npy file: LUNA16/Luna Output/subset2/1.3.6.1.4.1.14519.5.2.1.6279.6001.885292267869246639232975687131.npy\n"
     ]
    },
    {
     "name": "stderr",
     "output_type": "stream",
     "text": [
      "\r",
      " 24%|█████████▊                               | 212/888 [01:00<03:10,  3.55it/s]"
     ]
    },
    {
     "name": "stdout",
     "output_type": "stream",
     "text": [
      "Saved: LUNA16/Luna Output/subset2/1.3.6.1.4.1.14519.5.2.1.6279.6001.885292267869246639232975687131.npy\n",
      "\n",
      "Processing file: LUNA16/Dataset/subset2/1.3.6.1.4.1.14519.5.2.1.6279.6001.190298296009658115773239776160.mhd\n",
      "SeriesUID for current file: 1.3.6.1.4.1.14519.5.2.1.6279.6001.190298296009658115773239776160\n",
      "Found 818 nodes for seriesuid: 1.3.6.1.4.1.14519.5.2.1.6279.6001.190298296009658115773239776160\n"
     ]
    },
    {
     "name": "stderr",
     "output_type": "stream",
     "text": [
      "\r",
      " 24%|█████████▊                               | 213/888 [01:01<03:19,  3.38it/s]"
     ]
    },
    {
     "name": "stdout",
     "output_type": "stream",
     "text": [
      "Image array shape: (261, 512, 512)\n",
      "Output path for .npy file: LUNA16/Luna Output/subset2/1.3.6.1.4.1.14519.5.2.1.6279.6001.190298296009658115773239776160.npy\n",
      "Saved: LUNA16/Luna Output/subset2/1.3.6.1.4.1.14519.5.2.1.6279.6001.190298296009658115773239776160.npy\n",
      "\n",
      "Processing file: LUNA16/Dataset/subset2/1.3.6.1.4.1.14519.5.2.1.6279.6001.265133389948279331857097127422.mhd\n",
      "SeriesUID for current file: 1.3.6.1.4.1.14519.5.2.1.6279.6001.265133389948279331857097127422\n",
      "Found 602 nodes for seriesuid: 1.3.6.1.4.1.14519.5.2.1.6279.6001.265133389948279331857097127422\n"
     ]
    },
    {
     "name": "stderr",
     "output_type": "stream",
     "text": [
      "\r",
      " 24%|█████████▉                               | 214/888 [01:01<03:52,  2.90it/s]"
     ]
    },
    {
     "name": "stdout",
     "output_type": "stream",
     "text": [
      "Image array shape: (413, 512, 512)\n",
      "Output path for .npy file: LUNA16/Luna Output/subset2/1.3.6.1.4.1.14519.5.2.1.6279.6001.265133389948279331857097127422.npy\n",
      "Saved: LUNA16/Luna Output/subset2/1.3.6.1.4.1.14519.5.2.1.6279.6001.265133389948279331857097127422.npy\n",
      "\n",
      "Processing file: LUNA16/Dataset/subset2/1.3.6.1.4.1.14519.5.2.1.6279.6001.159996104466052855396410079250.mhd\n",
      "SeriesUID for current file: 1.3.6.1.4.1.14519.5.2.1.6279.6001.159996104466052855396410079250\n",
      "Found 916 nodes for seriesuid: 1.3.6.1.4.1.14519.5.2.1.6279.6001.159996104466052855396410079250\n"
     ]
    },
    {
     "name": "stderr",
     "output_type": "stream",
     "text": [
      "\r",
      " 24%|█████████▉                               | 215/888 [01:01<03:59,  2.81it/s]"
     ]
    },
    {
     "name": "stdout",
     "output_type": "stream",
     "text": [
      "Image array shape: (292, 512, 512)\n",
      "Output path for .npy file: LUNA16/Luna Output/subset2/1.3.6.1.4.1.14519.5.2.1.6279.6001.159996104466052855396410079250.npy\n",
      "Saved: LUNA16/Luna Output/subset2/1.3.6.1.4.1.14519.5.2.1.6279.6001.159996104466052855396410079250.npy\n",
      "\n",
      "Processing file: LUNA16/Dataset/subset2/1.3.6.1.4.1.14519.5.2.1.6279.6001.964952370561266624992539111877.mhd\n",
      "SeriesUID for current file: 1.3.6.1.4.1.14519.5.2.1.6279.6001.964952370561266624992539111877\n",
      "Found 334 nodes for seriesuid: 1.3.6.1.4.1.14519.5.2.1.6279.6001.964952370561266624992539111877\n"
     ]
    },
    {
     "name": "stderr",
     "output_type": "stream",
     "text": [
      "\r",
      " 24%|█████████▉                               | 216/888 [01:02<03:40,  3.05it/s]"
     ]
    },
    {
     "name": "stdout",
     "output_type": "stream",
     "text": [
      "Image array shape: (251, 512, 512)\n",
      "Output path for .npy file: LUNA16/Luna Output/subset2/1.3.6.1.4.1.14519.5.2.1.6279.6001.964952370561266624992539111877.npy\n",
      "Saved: LUNA16/Luna Output/subset2/1.3.6.1.4.1.14519.5.2.1.6279.6001.964952370561266624992539111877.npy\n",
      "\n",
      "Processing file: LUNA16/Dataset/subset2/1.3.6.1.4.1.14519.5.2.1.6279.6001.144883090372691745980459537053.mhd\n",
      "SeriesUID for current file: 1.3.6.1.4.1.14519.5.2.1.6279.6001.144883090372691745980459537053\n",
      "Found 456 nodes for seriesuid: 1.3.6.1.4.1.14519.5.2.1.6279.6001.144883090372691745980459537053\n"
     ]
    },
    {
     "name": "stderr",
     "output_type": "stream",
     "text": [
      "\r",
      " 24%|██████████                               | 217/888 [01:02<03:24,  3.29it/s]"
     ]
    },
    {
     "name": "stdout",
     "output_type": "stream",
     "text": [
      "Image array shape: (240, 512, 512)\n",
      "Output path for .npy file: LUNA16/Luna Output/subset2/1.3.6.1.4.1.14519.5.2.1.6279.6001.144883090372691745980459537053.npy\n",
      "Saved: LUNA16/Luna Output/subset2/1.3.6.1.4.1.14519.5.2.1.6279.6001.144883090372691745980459537053.npy\n",
      "\n",
      "Processing file: LUNA16/Dataset/subset2/1.3.6.1.4.1.14519.5.2.1.6279.6001.230078008964732806419498631442.mhd\n",
      "SeriesUID for current file: 1.3.6.1.4.1.14519.5.2.1.6279.6001.230078008964732806419498631442\n",
      "Found 514 nodes for seriesuid: 1.3.6.1.4.1.14519.5.2.1.6279.6001.230078008964732806419498631442\n",
      "Image array shape: (120, 512, 512)\n",
      "Output path for .npy file: LUNA16/Luna Output/subset2/1.3.6.1.4.1.14519.5.2.1.6279.6001.230078008964732806419498631442.npy\n"
     ]
    },
    {
     "name": "stderr",
     "output_type": "stream",
     "text": [
      " 25%|██████████                               | 219/888 [01:02<02:31,  4.42it/s]"
     ]
    },
    {
     "name": "stdout",
     "output_type": "stream",
     "text": [
      "Saved: LUNA16/Luna Output/subset2/1.3.6.1.4.1.14519.5.2.1.6279.6001.230078008964732806419498631442.npy\n",
      "\n",
      "Processing file: LUNA16/Dataset/subset2/1.3.6.1.4.1.14519.5.2.1.6279.6001.939152384493874708850321969356.mhd\n",
      "SeriesUID for current file: 1.3.6.1.4.1.14519.5.2.1.6279.6001.939152384493874708850321969356\n",
      "Found 1298 nodes for seriesuid: 1.3.6.1.4.1.14519.5.2.1.6279.6001.939152384493874708850321969356\n",
      "Image array shape: (172, 512, 512)\n",
      "Output path for .npy file: LUNA16/Luna Output/subset2/1.3.6.1.4.1.14519.5.2.1.6279.6001.939152384493874708850321969356.npy\n",
      "Saved: LUNA16/Luna Output/subset2/1.3.6.1.4.1.14519.5.2.1.6279.6001.939152384493874708850321969356.npy\n",
      "\n",
      "Processing file: LUNA16/Dataset/subset2/1.3.6.1.4.1.14519.5.2.1.6279.6001.113586291551175790743673929831.mhd\n",
      "SeriesUID for current file: 1.3.6.1.4.1.14519.5.2.1.6279.6001.113586291551175790743673929831\n",
      "Found 723 nodes for seriesuid: 1.3.6.1.4.1.14519.5.2.1.6279.6001.113586291551175790743673929831\n"
     ]
    },
    {
     "name": "stderr",
     "output_type": "stream",
     "text": [
      "\r",
      " 25%|██████████▏                              | 220/888 [01:03<03:33,  3.12it/s]"
     ]
    },
    {
     "name": "stdout",
     "output_type": "stream",
     "text": [
      "Image array shape: (413, 512, 512)\n",
      "Output path for .npy file: LUNA16/Luna Output/subset2/1.3.6.1.4.1.14519.5.2.1.6279.6001.113586291551175790743673929831.npy\n",
      "Saved: LUNA16/Luna Output/subset2/1.3.6.1.4.1.14519.5.2.1.6279.6001.113586291551175790743673929831.npy\n",
      "\n",
      "Processing file: LUNA16/Dataset/subset2/1.3.6.1.4.1.14519.5.2.1.6279.6001.183924380327950237519832859527.mhd\n",
      "SeriesUID for current file: 1.3.6.1.4.1.14519.5.2.1.6279.6001.183924380327950237519832859527\n",
      "Found 1147 nodes for seriesuid: 1.3.6.1.4.1.14519.5.2.1.6279.6001.183924380327950237519832859527\n"
     ]
    },
    {
     "name": "stderr",
     "output_type": "stream",
     "text": [
      " 25%|██████████▎                              | 222/888 [01:03<02:33,  4.33it/s]"
     ]
    },
    {
     "name": "stdout",
     "output_type": "stream",
     "text": [
      "Image array shape: (139, 512, 512)\n",
      "Output path for .npy file: LUNA16/Luna Output/subset2/1.3.6.1.4.1.14519.5.2.1.6279.6001.183924380327950237519832859527.npy\n",
      "Saved: LUNA16/Luna Output/subset2/1.3.6.1.4.1.14519.5.2.1.6279.6001.183924380327950237519832859527.npy\n",
      "\n",
      "Processing file: LUNA16/Dataset/subset2/1.3.6.1.4.1.14519.5.2.1.6279.6001.191301539558980174217770205256.mhd\n",
      "SeriesUID for current file: 1.3.6.1.4.1.14519.5.2.1.6279.6001.191301539558980174217770205256\n",
      "Found 736 nodes for seriesuid: 1.3.6.1.4.1.14519.5.2.1.6279.6001.191301539558980174217770205256\n",
      "Image array shape: (128, 512, 512)\n",
      "Output path for .npy file: LUNA16/Luna Output/subset2/1.3.6.1.4.1.14519.5.2.1.6279.6001.191301539558980174217770205256.npy\n",
      "Saved: LUNA16/Luna Output/subset2/1.3.6.1.4.1.14519.5.2.1.6279.6001.191301539558980174217770205256.npy\n",
      "\n",
      "Processing file: LUNA16/Dataset/subset2/1.3.6.1.4.1.14519.5.2.1.6279.6001.776429308535398795601496131524.mhd\n",
      "SeriesUID for current file: 1.3.6.1.4.1.14519.5.2.1.6279.6001.776429308535398795601496131524\n",
      "Found 614 nodes for seriesuid: 1.3.6.1.4.1.14519.5.2.1.6279.6001.776429308535398795601496131524\n"
     ]
    },
    {
     "name": "stderr",
     "output_type": "stream",
     "text": [
      "\r",
      " 25%|██████████▎                              | 223/888 [01:03<03:16,  3.38it/s]"
     ]
    },
    {
     "name": "stdout",
     "output_type": "stream",
     "text": [
      "Image array shape: (463, 512, 512)\n",
      "Output path for .npy file: LUNA16/Luna Output/subset2/1.3.6.1.4.1.14519.5.2.1.6279.6001.776429308535398795601496131524.npy\n",
      "Saved: LUNA16/Luna Output/subset2/1.3.6.1.4.1.14519.5.2.1.6279.6001.776429308535398795601496131524.npy\n",
      "\n",
      "Processing file: LUNA16/Dataset/subset2/1.3.6.1.4.1.14519.5.2.1.6279.6001.124663713663969377020085460568.mhd\n",
      "SeriesUID for current file: 1.3.6.1.4.1.14519.5.2.1.6279.6001.124663713663969377020085460568\n"
     ]
    },
    {
     "name": "stderr",
     "output_type": "stream",
     "text": [
      "\r",
      " 25%|██████████▎                              | 224/888 [01:04<02:52,  3.85it/s]"
     ]
    },
    {
     "name": "stdout",
     "output_type": "stream",
     "text": [
      "Found 1052 nodes for seriesuid: 1.3.6.1.4.1.14519.5.2.1.6279.6001.124663713663969377020085460568\n",
      "Image array shape: (133, 512, 512)\n",
      "Output path for .npy file: LUNA16/Luna Output/subset2/1.3.6.1.4.1.14519.5.2.1.6279.6001.124663713663969377020085460568.npy\n",
      "Saved: LUNA16/Luna Output/subset2/1.3.6.1.4.1.14519.5.2.1.6279.6001.124663713663969377020085460568.npy\n",
      "\n",
      "Processing file: LUNA16/Dataset/subset2/1.3.6.1.4.1.14519.5.2.1.6279.6001.156322145453198768801776721493.mhd\n",
      "SeriesUID for current file: 1.3.6.1.4.1.14519.5.2.1.6279.6001.156322145453198768801776721493\n",
      "Found 578 nodes for seriesuid: 1.3.6.1.4.1.14519.5.2.1.6279.6001.156322145453198768801776721493\n",
      "Image array shape: (484, 512, 512)\n",
      "Output path for .npy file: LUNA16/Luna Output/subset2/1.3.6.1.4.1.14519.5.2.1.6279.6001.156322145453198768801776721493.npy\n"
     ]
    },
    {
     "name": "stderr",
     "output_type": "stream",
     "text": [
      "\r",
      " 25%|██████████▍                              | 225/888 [01:04<03:36,  3.06it/s]"
     ]
    },
    {
     "name": "stdout",
     "output_type": "stream",
     "text": [
      "Saved: LUNA16/Luna Output/subset2/1.3.6.1.4.1.14519.5.2.1.6279.6001.156322145453198768801776721493.npy\n",
      "\n",
      "Processing file: LUNA16/Dataset/subset2/1.3.6.1.4.1.14519.5.2.1.6279.6001.172845185165807139298420209778.mhd\n",
      "SeriesUID for current file: 1.3.6.1.4.1.14519.5.2.1.6279.6001.172845185165807139298420209778\n",
      "Found 805 nodes for seriesuid: 1.3.6.1.4.1.14519.5.2.1.6279.6001.172845185165807139298420209778\n",
      "Image array shape: (217, 512, 512)\n",
      "Output path for .npy file: LUNA16/Luna Output/subset2/1.3.6.1.4.1.14519.5.2.1.6279.6001.172845185165807139298420209778.npy\n"
     ]
    },
    {
     "name": "stderr",
     "output_type": "stream",
     "text": [
      "\r",
      " 25%|██████████▍                              | 226/888 [01:04<03:17,  3.34it/s]"
     ]
    },
    {
     "name": "stdout",
     "output_type": "stream",
     "text": [
      "Saved: LUNA16/Luna Output/subset2/1.3.6.1.4.1.14519.5.2.1.6279.6001.172845185165807139298420209778.npy\n",
      "\n",
      "Processing file: LUNA16/Dataset/subset2/1.3.6.1.4.1.14519.5.2.1.6279.6001.213022585153512920098588556742.mhd\n",
      "SeriesUID for current file: 1.3.6.1.4.1.14519.5.2.1.6279.6001.213022585153512920098588556742\n",
      "Found 335 nodes for seriesuid: 1.3.6.1.4.1.14519.5.2.1.6279.6001.213022585153512920098588556742\n",
      "Image array shape: (477, 512, 512)\n",
      "Output path for .npy file: LUNA16/Luna Output/subset2/1.3.6.1.4.1.14519.5.2.1.6279.6001.213022585153512920098588556742.npy\n"
     ]
    },
    {
     "name": "stderr",
     "output_type": "stream",
     "text": [
      " 26%|██████████▌                              | 228/888 [01:05<03:20,  3.30it/s]"
     ]
    },
    {
     "name": "stdout",
     "output_type": "stream",
     "text": [
      "Saved: LUNA16/Luna Output/subset2/1.3.6.1.4.1.14519.5.2.1.6279.6001.213022585153512920098588556742.npy\n",
      "\n",
      "Processing file: LUNA16/Dataset/subset2/1.3.6.1.4.1.14519.5.2.1.6279.6001.217955041973656886482758642958.mhd\n",
      "SeriesUID for current file: 1.3.6.1.4.1.14519.5.2.1.6279.6001.217955041973656886482758642958\n",
      "Found 1075 nodes for seriesuid: 1.3.6.1.4.1.14519.5.2.1.6279.6001.217955041973656886482758642958\n",
      "Image array shape: (133, 512, 512)\n",
      "Output path for .npy file: LUNA16/Luna Output/subset2/1.3.6.1.4.1.14519.5.2.1.6279.6001.217955041973656886482758642958.npy\n",
      "Saved: LUNA16/Luna Output/subset2/1.3.6.1.4.1.14519.5.2.1.6279.6001.217955041973656886482758642958.npy\n",
      "\n",
      "Processing file: LUNA16/Dataset/subset2/1.3.6.1.4.1.14519.5.2.1.6279.6001.187966156856911682643615997798.mhd\n",
      "SeriesUID for current file: 1.3.6.1.4.1.14519.5.2.1.6279.6001.187966156856911682643615997798\n",
      "Found 1202 nodes for seriesuid: 1.3.6.1.4.1.14519.5.2.1.6279.6001.187966156856911682643615997798\n",
      "Image array shape: (535, 512, 512)\n",
      "Output path for .npy file: LUNA16/Luna Output/subset2/1.3.6.1.4.1.14519.5.2.1.6279.6001.187966156856911682643615997798.npy\n"
     ]
    },
    {
     "name": "stderr",
     "output_type": "stream",
     "text": [
      "\r",
      " 26%|██████████▌                              | 229/888 [01:06<04:28,  2.46it/s]"
     ]
    },
    {
     "name": "stdout",
     "output_type": "stream",
     "text": [
      "Saved: LUNA16/Luna Output/subset2/1.3.6.1.4.1.14519.5.2.1.6279.6001.187966156856911682643615997798.npy\n",
      "\n",
      "Processing file: LUNA16/Dataset/subset2/1.3.6.1.4.1.14519.5.2.1.6279.6001.232071262560365924176679652948.mhd\n",
      "SeriesUID for current file: 1.3.6.1.4.1.14519.5.2.1.6279.6001.232071262560365924176679652948\n",
      "Found 943 nodes for seriesuid: 1.3.6.1.4.1.14519.5.2.1.6279.6001.232071262560365924176679652948\n",
      "Image array shape: (263, 512, 512)\n",
      "Output path for .npy file: LUNA16/Luna Output/subset2/1.3.6.1.4.1.14519.5.2.1.6279.6001.232071262560365924176679652948.npy\n"
     ]
    },
    {
     "name": "stderr",
     "output_type": "stream",
     "text": [
      " 26%|██████████▋                              | 231/888 [01:06<03:24,  3.21it/s]"
     ]
    },
    {
     "name": "stdout",
     "output_type": "stream",
     "text": [
      "Saved: LUNA16/Luna Output/subset2/1.3.6.1.4.1.14519.5.2.1.6279.6001.232071262560365924176679652948.npy\n",
      "\n",
      "Processing file: LUNA16/Dataset/subset2/1.3.6.1.4.1.14519.5.2.1.6279.6001.299767339686526858593516834230.mhd\n",
      "SeriesUID for current file: 1.3.6.1.4.1.14519.5.2.1.6279.6001.299767339686526858593516834230\n",
      "Found 1229 nodes for seriesuid: 1.3.6.1.4.1.14519.5.2.1.6279.6001.299767339686526858593516834230\n",
      "Image array shape: (156, 512, 512)\n",
      "Output path for .npy file: LUNA16/Luna Output/subset2/1.3.6.1.4.1.14519.5.2.1.6279.6001.299767339686526858593516834230.npy\n",
      "Saved: LUNA16/Luna Output/subset2/1.3.6.1.4.1.14519.5.2.1.6279.6001.299767339686526858593516834230.npy\n",
      "\n",
      "Processing file: LUNA16/Dataset/subset2/1.3.6.1.4.1.14519.5.2.1.6279.6001.227885601428639043345478571594.mhd\n",
      "SeriesUID for current file: 1.3.6.1.4.1.14519.5.2.1.6279.6001.227885601428639043345478571594\n",
      "Found 931 nodes for seriesuid: 1.3.6.1.4.1.14519.5.2.1.6279.6001.227885601428639043345478571594\n",
      "Image array shape: (519, 512, 512)\n",
      "Output path for .npy file: LUNA16/Luna Output/subset2/1.3.6.1.4.1.14519.5.2.1.6279.6001.227885601428639043345478571594.npy\n"
     ]
    },
    {
     "name": "stderr",
     "output_type": "stream",
     "text": [
      "\r",
      " 26%|██████████▋                              | 232/888 [01:07<04:15,  2.57it/s]"
     ]
    },
    {
     "name": "stdout",
     "output_type": "stream",
     "text": [
      "Saved: LUNA16/Luna Output/subset2/1.3.6.1.4.1.14519.5.2.1.6279.6001.227885601428639043345478571594.npy\n",
      "\n",
      "Processing file: LUNA16/Dataset/subset2/1.3.6.1.4.1.14519.5.2.1.6279.6001.156579001330474859527530187095.mhd\n",
      "SeriesUID for current file: 1.3.6.1.4.1.14519.5.2.1.6279.6001.156579001330474859527530187095\n",
      "Found 541 nodes for seriesuid: 1.3.6.1.4.1.14519.5.2.1.6279.6001.156579001330474859527530187095\n",
      "Image array shape: (449, 512, 512)\n",
      "Output path for .npy file: LUNA16/Luna Output/subset2/1.3.6.1.4.1.14519.5.2.1.6279.6001.156579001330474859527530187095.npy\n"
     ]
    },
    {
     "name": "stderr",
     "output_type": "stream",
     "text": [
      "\r",
      " 26%|██████████▊                              | 233/888 [01:07<04:59,  2.19it/s]"
     ]
    },
    {
     "name": "stdout",
     "output_type": "stream",
     "text": [
      "Saved: LUNA16/Luna Output/subset2/1.3.6.1.4.1.14519.5.2.1.6279.6001.156579001330474859527530187095.npy\n",
      "\n",
      "Processing file: LUNA16/Dataset/subset2/1.3.6.1.4.1.14519.5.2.1.6279.6001.192256506776434538421891524301.mhd\n",
      "SeriesUID for current file: 1.3.6.1.4.1.14519.5.2.1.6279.6001.192256506776434538421891524301\n",
      "Found 696 nodes for seriesuid: 1.3.6.1.4.1.14519.5.2.1.6279.6001.192256506776434538421891524301\n",
      "Image array shape: (187, 512, 512)\n",
      "Output path for .npy file: LUNA16/Luna Output/subset2/1.3.6.1.4.1.14519.5.2.1.6279.6001.192256506776434538421891524301.npy\n"
     ]
    },
    {
     "name": "stderr",
     "output_type": "stream",
     "text": [
      "\r",
      " 26%|██████████▊                              | 234/888 [01:08<04:24,  2.47it/s]"
     ]
    },
    {
     "name": "stdout",
     "output_type": "stream",
     "text": [
      "Saved: LUNA16/Luna Output/subset2/1.3.6.1.4.1.14519.5.2.1.6279.6001.192256506776434538421891524301.npy\n",
      "\n",
      "Processing file: LUNA16/Dataset/subset2/1.3.6.1.4.1.14519.5.2.1.6279.6001.227796349777753378641347819780.mhd\n",
      "SeriesUID for current file: 1.3.6.1.4.1.14519.5.2.1.6279.6001.227796349777753378641347819780\n",
      "Found 1074 nodes for seriesuid: 1.3.6.1.4.1.14519.5.2.1.6279.6001.227796349777753378641347819780\n",
      "Image array shape: (506, 512, 512)\n",
      "Output path for .npy file: LUNA16/Luna Output/subset2/1.3.6.1.4.1.14519.5.2.1.6279.6001.227796349777753378641347819780.npy\n"
     ]
    },
    {
     "name": "stderr",
     "output_type": "stream",
     "text": [
      "\r",
      " 26%|██████████▊                              | 235/888 [01:08<05:02,  2.16it/s]"
     ]
    },
    {
     "name": "stdout",
     "output_type": "stream",
     "text": [
      "Saved: LUNA16/Luna Output/subset2/1.3.6.1.4.1.14519.5.2.1.6279.6001.227796349777753378641347819780.npy\n",
      "\n",
      "Processing file: LUNA16/Dataset/subset2/1.3.6.1.4.1.14519.5.2.1.6279.6001.184412674007117333405073397832.mhd\n",
      "SeriesUID for current file: 1.3.6.1.4.1.14519.5.2.1.6279.6001.184412674007117333405073397832\n",
      "Found 877 nodes for seriesuid: 1.3.6.1.4.1.14519.5.2.1.6279.6001.184412674007117333405073397832\n"
     ]
    },
    {
     "name": "stderr",
     "output_type": "stream",
     "text": [
      "\r",
      " 27%|██████████▉                              | 236/888 [01:09<04:44,  2.30it/s]"
     ]
    },
    {
     "name": "stdout",
     "output_type": "stream",
     "text": [
      "Image array shape: (270, 512, 512)\n",
      "Output path for .npy file: LUNA16/Luna Output/subset2/1.3.6.1.4.1.14519.5.2.1.6279.6001.184412674007117333405073397832.npy\n",
      "Saved: LUNA16/Luna Output/subset2/1.3.6.1.4.1.14519.5.2.1.6279.6001.184412674007117333405073397832.npy\n",
      "\n",
      "Processing file: LUNA16/Dataset/subset2/1.3.6.1.4.1.14519.5.2.1.6279.6001.267957701183569638795986183786.mhd\n",
      "SeriesUID for current file: 1.3.6.1.4.1.14519.5.2.1.6279.6001.267957701183569638795986183786\n",
      "Found 973 nodes for seriesuid: 1.3.6.1.4.1.14519.5.2.1.6279.6001.267957701183569638795986183786\n"
     ]
    },
    {
     "name": "stderr",
     "output_type": "stream",
     "text": [
      "\r",
      " 27%|██████████▉                              | 237/888 [01:09<04:21,  2.48it/s]"
     ]
    },
    {
     "name": "stdout",
     "output_type": "stream",
     "text": [
      "Image array shape: (368, 512, 512)\n",
      "Output path for .npy file: LUNA16/Luna Output/subset2/1.3.6.1.4.1.14519.5.2.1.6279.6001.267957701183569638795986183786.npy\n",
      "Saved: LUNA16/Luna Output/subset2/1.3.6.1.4.1.14519.5.2.1.6279.6001.267957701183569638795986183786.npy\n",
      "\n",
      "Processing file: LUNA16/Dataset/subset2/1.3.6.1.4.1.14519.5.2.1.6279.6001.557875302364105947813979213632.mhd\n",
      "SeriesUID for current file: 1.3.6.1.4.1.14519.5.2.1.6279.6001.557875302364105947813979213632\n",
      "Found 1578 nodes for seriesuid: 1.3.6.1.4.1.14519.5.2.1.6279.6001.557875302364105947813979213632\n",
      "Image array shape: (557, 512, 512)\n",
      "Output path for .npy file: LUNA16/Luna Output/subset2/1.3.6.1.4.1.14519.5.2.1.6279.6001.557875302364105947813979213632.npy\n"
     ]
    },
    {
     "name": "stderr",
     "output_type": "stream",
     "text": [
      "\r",
      " 27%|██████████▉                              | 238/888 [01:10<05:18,  2.04it/s]"
     ]
    },
    {
     "name": "stdout",
     "output_type": "stream",
     "text": [
      "Saved: LUNA16/Luna Output/subset2/1.3.6.1.4.1.14519.5.2.1.6279.6001.557875302364105947813979213632.npy\n",
      "\n",
      "Processing file: LUNA16/Dataset/subset2/1.3.6.1.4.1.14519.5.2.1.6279.6001.223098610241551815995595311693.mhd\n",
      "SeriesUID for current file: 1.3.6.1.4.1.14519.5.2.1.6279.6001.223098610241551815995595311693\n",
      "Found 236 nodes for seriesuid: 1.3.6.1.4.1.14519.5.2.1.6279.6001.223098610241551815995595311693\n"
     ]
    },
    {
     "name": "stderr",
     "output_type": "stream",
     "text": [
      "\r",
      " 27%|███████████                              | 239/888 [01:10<05:11,  2.08it/s]"
     ]
    },
    {
     "name": "stdout",
     "output_type": "stream",
     "text": [
      "Image array shape: (416, 512, 512)\n",
      "Output path for .npy file: LUNA16/Luna Output/subset2/1.3.6.1.4.1.14519.5.2.1.6279.6001.223098610241551815995595311693.npy\n",
      "Saved: LUNA16/Luna Output/subset2/1.3.6.1.4.1.14519.5.2.1.6279.6001.223098610241551815995595311693.npy\n",
      "\n",
      "Processing file: LUNA16/Dataset/subset2/1.3.6.1.4.1.14519.5.2.1.6279.6001.252634638822000832774167856951.mhd\n",
      "SeriesUID for current file: 1.3.6.1.4.1.14519.5.2.1.6279.6001.252634638822000832774167856951\n",
      "Found 564 nodes for seriesuid: 1.3.6.1.4.1.14519.5.2.1.6279.6001.252634638822000832774167856951\n"
     ]
    },
    {
     "name": "stderr",
     "output_type": "stream",
     "text": [
      "\r",
      " 27%|███████████                              | 240/888 [01:10<04:28,  2.41it/s]"
     ]
    },
    {
     "name": "stdout",
     "output_type": "stream",
     "text": [
      "Image array shape: (245, 512, 512)\n",
      "Output path for .npy file: LUNA16/Luna Output/subset2/1.3.6.1.4.1.14519.5.2.1.6279.6001.252634638822000832774167856951.npy\n",
      "Saved: LUNA16/Luna Output/subset2/1.3.6.1.4.1.14519.5.2.1.6279.6001.252634638822000832774167856951.npy\n",
      "\n",
      "Processing file: LUNA16/Dataset/subset2/1.3.6.1.4.1.14519.5.2.1.6279.6001.102133688497886810253331438797.mhd\n",
      "SeriesUID for current file: 1.3.6.1.4.1.14519.5.2.1.6279.6001.102133688497886810253331438797\n",
      "Found 886 nodes for seriesuid: 1.3.6.1.4.1.14519.5.2.1.6279.6001.102133688497886810253331438797\n"
     ]
    },
    {
     "name": "stderr",
     "output_type": "stream",
     "text": [
      "\r",
      " 27%|███████████▏                             | 241/888 [01:11<04:08,  2.60it/s]"
     ]
    },
    {
     "name": "stdout",
     "output_type": "stream",
     "text": [
      "Image array shape: (280, 512, 512)\n",
      "Output path for .npy file: LUNA16/Luna Output/subset2/1.3.6.1.4.1.14519.5.2.1.6279.6001.102133688497886810253331438797.npy\n",
      "Saved: LUNA16/Luna Output/subset2/1.3.6.1.4.1.14519.5.2.1.6279.6001.102133688497886810253331438797.npy\n",
      "\n",
      "Processing file: LUNA16/Dataset/subset2/1.3.6.1.4.1.14519.5.2.1.6279.6001.283569726884265181140892667131.mhd\n",
      "SeriesUID for current file: 1.3.6.1.4.1.14519.5.2.1.6279.6001.283569726884265181140892667131\n",
      "Found 682 nodes for seriesuid: 1.3.6.1.4.1.14519.5.2.1.6279.6001.283569726884265181140892667131\n"
     ]
    },
    {
     "name": "stderr",
     "output_type": "stream",
     "text": [
      "\r",
      " 27%|███████████▏                             | 242/888 [01:11<03:18,  3.25it/s]"
     ]
    },
    {
     "name": "stdout",
     "output_type": "stream",
     "text": [
      "Image array shape: (95, 512, 512)\n",
      "Output path for .npy file: LUNA16/Luna Output/subset2/1.3.6.1.4.1.14519.5.2.1.6279.6001.283569726884265181140892667131.npy\n",
      "Saved: LUNA16/Luna Output/subset2/1.3.6.1.4.1.14519.5.2.1.6279.6001.283569726884265181140892667131.npy\n",
      "\n",
      "Processing file: LUNA16/Dataset/subset2/1.3.6.1.4.1.14519.5.2.1.6279.6001.142485715518010940961688015191.mhd\n",
      "SeriesUID for current file: 1.3.6.1.4.1.14519.5.2.1.6279.6001.142485715518010940961688015191\n",
      "Found 889 nodes for seriesuid: 1.3.6.1.4.1.14519.5.2.1.6279.6001.142485715518010940961688015191\n",
      "Image array shape: (312, 512, 512)\n",
      "Output path for .npy file: LUNA16/Luna Output/subset2/1.3.6.1.4.1.14519.5.2.1.6279.6001.142485715518010940961688015191.npy\n"
     ]
    },
    {
     "name": "stderr",
     "output_type": "stream",
     "text": [
      " 27%|███████████▎                             | 244/888 [01:11<02:41,  3.99it/s]"
     ]
    },
    {
     "name": "stdout",
     "output_type": "stream",
     "text": [
      "Saved: LUNA16/Luna Output/subset2/1.3.6.1.4.1.14519.5.2.1.6279.6001.142485715518010940961688015191.npy\n",
      "\n",
      "Processing file: LUNA16/Dataset/subset2/1.3.6.1.4.1.14519.5.2.1.6279.6001.253283426904813468115158375647.mhd\n",
      "SeriesUID for current file: 1.3.6.1.4.1.14519.5.2.1.6279.6001.253283426904813468115158375647\n",
      "Found 450 nodes for seriesuid: 1.3.6.1.4.1.14519.5.2.1.6279.6001.253283426904813468115158375647\n",
      "Image array shape: (128, 512, 512)\n",
      "Output path for .npy file: LUNA16/Luna Output/subset2/1.3.6.1.4.1.14519.5.2.1.6279.6001.253283426904813468115158375647.npy\n",
      "Saved: LUNA16/Luna Output/subset2/1.3.6.1.4.1.14519.5.2.1.6279.6001.253283426904813468115158375647.npy\n",
      "\n",
      "Processing file: LUNA16/Dataset/subset2/1.3.6.1.4.1.14519.5.2.1.6279.6001.163901773171373940247829492387.mhd\n",
      "SeriesUID for current file: 1.3.6.1.4.1.14519.5.2.1.6279.6001.163901773171373940247829492387\n",
      "Found 900 nodes for seriesuid: 1.3.6.1.4.1.14519.5.2.1.6279.6001.163901773171373940247829492387\n"
     ]
    },
    {
     "name": "stderr",
     "output_type": "stream",
     "text": [
      "\r",
      " 28%|███████████▎                             | 245/888 [01:11<02:44,  3.90it/s]"
     ]
    },
    {
     "name": "stdout",
     "output_type": "stream",
     "text": [
      "Image array shape: (280, 512, 512)\n",
      "Output path for .npy file: LUNA16/Luna Output/subset2/1.3.6.1.4.1.14519.5.2.1.6279.6001.163901773171373940247829492387.npy\n",
      "Saved: LUNA16/Luna Output/subset2/1.3.6.1.4.1.14519.5.2.1.6279.6001.163901773171373940247829492387.npy\n",
      "\n",
      "Processing file: LUNA16/Dataset/subset2/1.3.6.1.4.1.14519.5.2.1.6279.6001.669518152156802508672627785405.mhd\n",
      "SeriesUID for current file: 1.3.6.1.4.1.14519.5.2.1.6279.6001.669518152156802508672627785405\n",
      "Found 547 nodes for seriesuid: 1.3.6.1.4.1.14519.5.2.1.6279.6001.669518152156802508672627785405\n",
      "Image array shape: (129, 512, 512)\n",
      "Output path for .npy file: LUNA16/Luna Output/subset2/1.3.6.1.4.1.14519.5.2.1.6279.6001.669518152156802508672627785405.npy\n"
     ]
    },
    {
     "name": "stderr",
     "output_type": "stream",
     "text": [
      "\r",
      " 28%|███████████▎                             | 246/888 [01:12<02:21,  4.54it/s]"
     ]
    },
    {
     "name": "stdout",
     "output_type": "stream",
     "text": [
      "Saved: LUNA16/Luna Output/subset2/1.3.6.1.4.1.14519.5.2.1.6279.6001.669518152156802508672627785405.npy\n",
      "\n",
      "Processing file: LUNA16/Dataset/subset2/1.3.6.1.4.1.14519.5.2.1.6279.6001.470912100568074901744259213968.mhd\n",
      "SeriesUID for current file: 1.3.6.1.4.1.14519.5.2.1.6279.6001.470912100568074901744259213968\n",
      "Found 555 nodes for seriesuid: 1.3.6.1.4.1.14519.5.2.1.6279.6001.470912100568074901744259213968\n",
      "Image array shape: (238, 512, 512)\n",
      "Output path for .npy file: LUNA16/Luna Output/subset2/1.3.6.1.4.1.14519.5.2.1.6279.6001.470912100568074901744259213968.npy\n"
     ]
    },
    {
     "name": "stderr",
     "output_type": "stream",
     "text": [
      " 28%|███████████▍                             | 248/888 [01:12<02:12,  4.84it/s]"
     ]
    },
    {
     "name": "stdout",
     "output_type": "stream",
     "text": [
      "Saved: LUNA16/Luna Output/subset2/1.3.6.1.4.1.14519.5.2.1.6279.6001.470912100568074901744259213968.npy\n",
      "\n",
      "Processing file: LUNA16/Dataset/subset2/1.3.6.1.4.1.14519.5.2.1.6279.6001.116492508532884962903000261147.mhd\n",
      "SeriesUID for current file: 1.3.6.1.4.1.14519.5.2.1.6279.6001.116492508532884962903000261147\n",
      "Found 911 nodes for seriesuid: 1.3.6.1.4.1.14519.5.2.1.6279.6001.116492508532884962903000261147\n",
      "Image array shape: (139, 512, 512)\n",
      "Output path for .npy file: LUNA16/Luna Output/subset2/1.3.6.1.4.1.14519.5.2.1.6279.6001.116492508532884962903000261147.npy\n",
      "Saved: LUNA16/Luna Output/subset2/1.3.6.1.4.1.14519.5.2.1.6279.6001.116492508532884962903000261147.npy\n",
      "\n",
      "Processing file: LUNA16/Dataset/subset2/1.3.6.1.4.1.14519.5.2.1.6279.6001.311236942972970815890902714604.mhd\n",
      "SeriesUID for current file: 1.3.6.1.4.1.14519.5.2.1.6279.6001.311236942972970815890902714604\n",
      "Found 653 nodes for seriesuid: 1.3.6.1.4.1.14519.5.2.1.6279.6001.311236942972970815890902714604\n",
      "Image array shape: (461, 512, 512)\n",
      "Output path for .npy file: LUNA16/Luna Output/subset2/1.3.6.1.4.1.14519.5.2.1.6279.6001.311236942972970815890902714604.npy\n"
     ]
    },
    {
     "name": "stderr",
     "output_type": "stream",
     "text": [
      "\r",
      " 28%|███████████▍                             | 249/888 [01:13<03:36,  2.95it/s]"
     ]
    },
    {
     "name": "stdout",
     "output_type": "stream",
     "text": [
      "Saved: LUNA16/Luna Output/subset2/1.3.6.1.4.1.14519.5.2.1.6279.6001.311236942972970815890902714604.npy\n",
      "\n",
      "Processing file: LUNA16/Dataset/subset2/1.3.6.1.4.1.14519.5.2.1.6279.6001.147250707071097813243473865421.mhd\n",
      "SeriesUID for current file: 1.3.6.1.4.1.14519.5.2.1.6279.6001.147250707071097813243473865421\n",
      "Found 909 nodes for seriesuid: 1.3.6.1.4.1.14519.5.2.1.6279.6001.147250707071097813243473865421\n",
      "Image array shape: (474, 512, 512)\n",
      "Output path for .npy file: LUNA16/Luna Output/subset2/1.3.6.1.4.1.14519.5.2.1.6279.6001.147250707071097813243473865421.npy\n"
     ]
    },
    {
     "name": "stderr",
     "output_type": "stream",
     "text": [
      "\r",
      " 28%|███████████▌                             | 250/888 [01:13<04:46,  2.23it/s]"
     ]
    },
    {
     "name": "stdout",
     "output_type": "stream",
     "text": [
      "Saved: LUNA16/Luna Output/subset2/1.3.6.1.4.1.14519.5.2.1.6279.6001.147250707071097813243473865421.npy\n",
      "\n",
      "Processing file: LUNA16/Dataset/subset2/1.3.6.1.4.1.14519.5.2.1.6279.6001.217589936421986638139451480826.mhd\n",
      "SeriesUID for current file: 1.3.6.1.4.1.14519.5.2.1.6279.6001.217589936421986638139451480826\n",
      "Found 1041 nodes for seriesuid: 1.3.6.1.4.1.14519.5.2.1.6279.6001.217589936421986638139451480826\n",
      "Image array shape: (241, 512, 512)\n",
      "Output path for .npy file: LUNA16/Luna Output/subset2/1.3.6.1.4.1.14519.5.2.1.6279.6001.217589936421986638139451480826.npy\n"
     ]
    },
    {
     "name": "stderr",
     "output_type": "stream",
     "text": [
      "\r",
      " 28%|███████████▌                             | 251/888 [01:14<04:18,  2.47it/s]"
     ]
    },
    {
     "name": "stdout",
     "output_type": "stream",
     "text": [
      "Saved: LUNA16/Luna Output/subset2/1.3.6.1.4.1.14519.5.2.1.6279.6001.217589936421986638139451480826.npy\n",
      "\n",
      "Processing file: LUNA16/Dataset/subset2/1.3.6.1.4.1.14519.5.2.1.6279.6001.280072876841890439628529365478.mhd\n",
      "SeriesUID for current file: 1.3.6.1.4.1.14519.5.2.1.6279.6001.280072876841890439628529365478\n",
      "Found 784 nodes for seriesuid: 1.3.6.1.4.1.14519.5.2.1.6279.6001.280072876841890439628529365478\n",
      "Image array shape: (334, 512, 512)\n",
      "Output path for .npy file: LUNA16/Luna Output/subset2/1.3.6.1.4.1.14519.5.2.1.6279.6001.280072876841890439628529365478.npy\n"
     ]
    },
    {
     "name": "stderr",
     "output_type": "stream",
     "text": [
      "\r",
      " 28%|███████████▋                             | 252/888 [01:14<04:14,  2.50it/s]"
     ]
    },
    {
     "name": "stdout",
     "output_type": "stream",
     "text": [
      "Saved: LUNA16/Luna Output/subset2/1.3.6.1.4.1.14519.5.2.1.6279.6001.280072876841890439628529365478.npy\n",
      "\n",
      "Processing file: LUNA16/Dataset/subset2/1.3.6.1.4.1.14519.5.2.1.6279.6001.139444426690868429919252698606.mhd\n",
      "SeriesUID for current file: 1.3.6.1.4.1.14519.5.2.1.6279.6001.139444426690868429919252698606\n",
      "Found 718 nodes for seriesuid: 1.3.6.1.4.1.14519.5.2.1.6279.6001.139444426690868429919252698606\n",
      "Image array shape: (456, 512, 512)\n",
      "Output path for .npy file: LUNA16/Luna Output/subset2/1.3.6.1.4.1.14519.5.2.1.6279.6001.139444426690868429919252698606.npy\n"
     ]
    },
    {
     "name": "stderr",
     "output_type": "stream",
     "text": [
      "\r",
      " 28%|███████████▋                             | 253/888 [01:15<05:10,  2.05it/s]"
     ]
    },
    {
     "name": "stdout",
     "output_type": "stream",
     "text": [
      "Saved: LUNA16/Luna Output/subset2/1.3.6.1.4.1.14519.5.2.1.6279.6001.139444426690868429919252698606.npy\n",
      "\n",
      "Processing file: LUNA16/Dataset/subset2/1.3.6.1.4.1.14519.5.2.1.6279.6001.267519732763035023633235877753.mhd\n",
      "SeriesUID for current file: 1.3.6.1.4.1.14519.5.2.1.6279.6001.267519732763035023633235877753\n",
      "Found 961 nodes for seriesuid: 1.3.6.1.4.1.14519.5.2.1.6279.6001.267519732763035023633235877753\n"
     ]
    },
    {
     "name": "stderr",
     "output_type": "stream",
     "text": [
      "\r",
      " 29%|███████████▋                             | 254/888 [01:15<05:03,  2.09it/s]"
     ]
    },
    {
     "name": "stdout",
     "output_type": "stream",
     "text": [
      "Image array shape: (426, 512, 512)\n",
      "Output path for .npy file: LUNA16/Luna Output/subset2/1.3.6.1.4.1.14519.5.2.1.6279.6001.267519732763035023633235877753.npy\n",
      "Saved: LUNA16/Luna Output/subset2/1.3.6.1.4.1.14519.5.2.1.6279.6001.267519732763035023633235877753.npy\n",
      "\n",
      "Processing file: LUNA16/Dataset/subset2/1.3.6.1.4.1.14519.5.2.1.6279.6001.153536305742006952753134773630.mhd\n",
      "SeriesUID for current file: 1.3.6.1.4.1.14519.5.2.1.6279.6001.153536305742006952753134773630\n"
     ]
    },
    {
     "name": "stderr",
     "output_type": "stream",
     "text": [
      "\r",
      " 29%|███████████▊                             | 255/888 [01:15<04:11,  2.52it/s]"
     ]
    },
    {
     "name": "stdout",
     "output_type": "stream",
     "text": [
      "Found 207 nodes for seriesuid: 1.3.6.1.4.1.14519.5.2.1.6279.6001.153536305742006952753134773630\n",
      "Image array shape: (141, 512, 512)\n",
      "Output path for .npy file: LUNA16/Luna Output/subset2/1.3.6.1.4.1.14519.5.2.1.6279.6001.153536305742006952753134773630.npy\n",
      "Saved: LUNA16/Luna Output/subset2/1.3.6.1.4.1.14519.5.2.1.6279.6001.153536305742006952753134773630.npy\n",
      "\n",
      "Processing file: LUNA16/Dataset/subset2/1.3.6.1.4.1.14519.5.2.1.6279.6001.692598144815688523679745963696.mhd\n",
      "SeriesUID for current file: 1.3.6.1.4.1.14519.5.2.1.6279.6001.692598144815688523679745963696\n"
     ]
    },
    {
     "name": "stderr",
     "output_type": "stream",
     "text": [
      "\r",
      " 29%|███████████▊                             | 256/888 [01:16<03:30,  3.00it/s]"
     ]
    },
    {
     "name": "stdout",
     "output_type": "stream",
     "text": [
      "Found 882 nodes for seriesuid: 1.3.6.1.4.1.14519.5.2.1.6279.6001.692598144815688523679745963696\n",
      "Image array shape: (136, 512, 512)\n",
      "Output path for .npy file: LUNA16/Luna Output/subset2/1.3.6.1.4.1.14519.5.2.1.6279.6001.692598144815688523679745963696.npy\n",
      "Saved: LUNA16/Luna Output/subset2/1.3.6.1.4.1.14519.5.2.1.6279.6001.692598144815688523679745963696.npy\n",
      "\n",
      "Processing file: LUNA16/Dataset/subset2/1.3.6.1.4.1.14519.5.2.1.6279.6001.443400977949406454649939526179.mhd\n",
      "SeriesUID for current file: 1.3.6.1.4.1.14519.5.2.1.6279.6001.443400977949406454649939526179\n",
      "Found 1541 nodes for seriesuid: 1.3.6.1.4.1.14519.5.2.1.6279.6001.443400977949406454649939526179\n"
     ]
    },
    {
     "name": "stderr",
     "output_type": "stream",
     "text": [
      "\r",
      " 29%|███████████▊                             | 257/888 [01:16<03:34,  2.94it/s]"
     ]
    },
    {
     "name": "stdout",
     "output_type": "stream",
     "text": [
      "Image array shape: (310, 512, 512)\n",
      "Output path for .npy file: LUNA16/Luna Output/subset2/1.3.6.1.4.1.14519.5.2.1.6279.6001.443400977949406454649939526179.npy\n",
      "Saved: LUNA16/Luna Output/subset2/1.3.6.1.4.1.14519.5.2.1.6279.6001.443400977949406454649939526179.npy\n",
      "\n",
      "Processing file: LUNA16/Dataset/subset2/1.3.6.1.4.1.14519.5.2.1.6279.6001.283733738239331719775105586296.mhd\n",
      "SeriesUID for current file: 1.3.6.1.4.1.14519.5.2.1.6279.6001.283733738239331719775105586296\n",
      "Found 820 nodes for seriesuid: 1.3.6.1.4.1.14519.5.2.1.6279.6001.283733738239331719775105586296\n",
      "Image array shape: (253, 512, 512)\n",
      "Output path for .npy file: LUNA16/Luna Output/subset2/1.3.6.1.4.1.14519.5.2.1.6279.6001.283733738239331719775105586296.npy\n"
     ]
    },
    {
     "name": "stderr",
     "output_type": "stream",
     "text": [
      " 29%|███████████▉                             | 259/888 [01:16<02:46,  3.78it/s]"
     ]
    },
    {
     "name": "stdout",
     "output_type": "stream",
     "text": [
      "Saved: LUNA16/Luna Output/subset2/1.3.6.1.4.1.14519.5.2.1.6279.6001.283733738239331719775105586296.npy\n",
      "\n",
      "Processing file: LUNA16/Dataset/subset2/1.3.6.1.4.1.14519.5.2.1.6279.6001.325580698241281352835338693869.mhd\n",
      "SeriesUID for current file: 1.3.6.1.4.1.14519.5.2.1.6279.6001.325580698241281352835338693869\n",
      "Found 951 nodes for seriesuid: 1.3.6.1.4.1.14519.5.2.1.6279.6001.325580698241281352835338693869\n",
      "Image array shape: (145, 512, 512)\n",
      "Output path for .npy file: LUNA16/Luna Output/subset2/1.3.6.1.4.1.14519.5.2.1.6279.6001.325580698241281352835338693869.npy\n",
      "Saved: LUNA16/Luna Output/subset2/1.3.6.1.4.1.14519.5.2.1.6279.6001.325580698241281352835338693869.npy\n",
      "\n",
      "Processing file: LUNA16/Dataset/subset2/1.3.6.1.4.1.14519.5.2.1.6279.6001.199171741859530285887752432478.mhd\n",
      "SeriesUID for current file: 1.3.6.1.4.1.14519.5.2.1.6279.6001.199171741859530285887752432478\n",
      "Found 1041 nodes for seriesuid: 1.3.6.1.4.1.14519.5.2.1.6279.6001.199171741859530285887752432478\n"
     ]
    },
    {
     "name": "stderr",
     "output_type": "stream",
     "text": [
      "\r",
      " 29%|████████████                             | 260/888 [01:17<03:00,  3.48it/s]"
     ]
    },
    {
     "name": "stdout",
     "output_type": "stream",
     "text": [
      "Image array shape: (290, 512, 512)\n",
      "Output path for .npy file: LUNA16/Luna Output/subset2/1.3.6.1.4.1.14519.5.2.1.6279.6001.199171741859530285887752432478.npy\n",
      "Saved: LUNA16/Luna Output/subset2/1.3.6.1.4.1.14519.5.2.1.6279.6001.199171741859530285887752432478.npy\n",
      "\n",
      "Processing file: LUNA16/Dataset/subset2/1.3.6.1.4.1.14519.5.2.1.6279.6001.922852847124879997825997808179.mhd\n",
      "SeriesUID for current file: 1.3.6.1.4.1.14519.5.2.1.6279.6001.922852847124879997825997808179\n",
      "Found 909 nodes for seriesuid: 1.3.6.1.4.1.14519.5.2.1.6279.6001.922852847124879997825997808179\n",
      "Image array shape: (557, 512, 512)\n",
      "Output path for .npy file: LUNA16/Luna Output/subset2/1.3.6.1.4.1.14519.5.2.1.6279.6001.922852847124879997825997808179.npy\n"
     ]
    },
    {
     "name": "stderr",
     "output_type": "stream",
     "text": [
      " 30%|████████████                             | 262/888 [01:18<03:26,  3.04it/s]"
     ]
    },
    {
     "name": "stdout",
     "output_type": "stream",
     "text": [
      "Saved: LUNA16/Luna Output/subset2/1.3.6.1.4.1.14519.5.2.1.6279.6001.922852847124879997825997808179.npy\n",
      "\n",
      "Processing file: LUNA16/Dataset/subset2/1.3.6.1.4.1.14519.5.2.1.6279.6001.216526102138308489357443843021.mhd\n",
      "SeriesUID for current file: 1.3.6.1.4.1.14519.5.2.1.6279.6001.216526102138308489357443843021\n",
      "Found 501 nodes for seriesuid: 1.3.6.1.4.1.14519.5.2.1.6279.6001.216526102138308489357443843021\n",
      "Image array shape: (195, 512, 512)\n",
      "Output path for .npy file: LUNA16/Luna Output/subset2/1.3.6.1.4.1.14519.5.2.1.6279.6001.216526102138308489357443843021.npy\n",
      "Saved: LUNA16/Luna Output/subset2/1.3.6.1.4.1.14519.5.2.1.6279.6001.216526102138308489357443843021.npy\n",
      "\n",
      "Processing file: LUNA16/Dataset/subset2/1.3.6.1.4.1.14519.5.2.1.6279.6001.302557165094691896097534021075.mhd\n",
      "SeriesUID for current file: 1.3.6.1.4.1.14519.5.2.1.6279.6001.302557165094691896097534021075\n",
      "Found 775 nodes for seriesuid: 1.3.6.1.4.1.14519.5.2.1.6279.6001.302557165094691896097534021075\n",
      "Image array shape: (233, 512, 512)\n",
      "Output path for .npy file: LUNA16/Luna Output/subset2/1.3.6.1.4.1.14519.5.2.1.6279.6001.302557165094691896097534021075.npy\n"
     ]
    },
    {
     "name": "stderr",
     "output_type": "stream",
     "text": [
      " 30%|████████████▏                            | 264/888 [01:18<02:41,  3.87it/s]"
     ]
    },
    {
     "name": "stdout",
     "output_type": "stream",
     "text": [
      "Saved: LUNA16/Luna Output/subset2/1.3.6.1.4.1.14519.5.2.1.6279.6001.302557165094691896097534021075.npy\n",
      "\n",
      "Processing file: LUNA16/Dataset/subset2/1.3.6.1.4.1.14519.5.2.1.6279.6001.220205300714852483483213840572.mhd\n",
      "SeriesUID for current file: 1.3.6.1.4.1.14519.5.2.1.6279.6001.220205300714852483483213840572\n",
      "Found 862 nodes for seriesuid: 1.3.6.1.4.1.14519.5.2.1.6279.6001.220205300714852483483213840572\n",
      "Image array shape: (132, 512, 512)\n",
      "Output path for .npy file: LUNA16/Luna Output/subset2/1.3.6.1.4.1.14519.5.2.1.6279.6001.220205300714852483483213840572.npy\n",
      "Saved: LUNA16/Luna Output/subset2/1.3.6.1.4.1.14519.5.2.1.6279.6001.220205300714852483483213840572.npy\n",
      "\n",
      "Processing file: LUNA16/Dataset/subset2/1.3.6.1.4.1.14519.5.2.1.6279.6001.225154811831720426832024114593.mhd\n",
      "SeriesUID for current file: 1.3.6.1.4.1.14519.5.2.1.6279.6001.225154811831720426832024114593\n",
      "Found 1251 nodes for seriesuid: 1.3.6.1.4.1.14519.5.2.1.6279.6001.225154811831720426832024114593\n"
     ]
    },
    {
     "name": "stderr",
     "output_type": "stream",
     "text": [
      "\r",
      " 30%|████████████▏                            | 265/888 [01:18<02:18,  4.49it/s]"
     ]
    },
    {
     "name": "stdout",
     "output_type": "stream",
     "text": [
      "Image array shape: (143, 512, 512)\n",
      "Output path for .npy file: LUNA16/Luna Output/subset2/1.3.6.1.4.1.14519.5.2.1.6279.6001.225154811831720426832024114593.npy\n",
      "Saved: LUNA16/Luna Output/subset2/1.3.6.1.4.1.14519.5.2.1.6279.6001.225154811831720426832024114593.npy\n",
      "\n",
      "Processing file: LUNA16/Dataset/subset2/1.3.6.1.4.1.14519.5.2.1.6279.6001.176362912420491262783064585333.mhd\n",
      "SeriesUID for current file: 1.3.6.1.4.1.14519.5.2.1.6279.6001.176362912420491262783064585333\n",
      "Found 961 nodes for seriesuid: 1.3.6.1.4.1.14519.5.2.1.6279.6001.176362912420491262783064585333\n",
      "Image array shape: (127, 512, 512)\n",
      "Output path for .npy file: LUNA16/Luna Output/subset2/1.3.6.1.4.1.14519.5.2.1.6279.6001.176362912420491262783064585333.npy\n"
     ]
    },
    {
     "name": "stderr",
     "output_type": "stream",
     "text": [
      " 30%|████████████▎                            | 267/888 [01:18<01:54,  5.41it/s]"
     ]
    },
    {
     "name": "stdout",
     "output_type": "stream",
     "text": [
      "Saved: LUNA16/Luna Output/subset2/1.3.6.1.4.1.14519.5.2.1.6279.6001.176362912420491262783064585333.npy\n",
      "\n",
      "Processing file: LUNA16/Dataset/subset2/1.3.6.1.4.1.14519.5.2.1.6279.6001.121993590721161347818774929286.mhd\n",
      "SeriesUID for current file: 1.3.6.1.4.1.14519.5.2.1.6279.6001.121993590721161347818774929286\n",
      "Found 1204 nodes for seriesuid: 1.3.6.1.4.1.14519.5.2.1.6279.6001.121993590721161347818774929286\n",
      "Image array shape: (144, 512, 512)\n",
      "Output path for .npy file: LUNA16/Luna Output/subset2/1.3.6.1.4.1.14519.5.2.1.6279.6001.121993590721161347818774929286.npy\n",
      "Saved: LUNA16/Luna Output/subset2/1.3.6.1.4.1.14519.5.2.1.6279.6001.121993590721161347818774929286.npy\n",
      "\n",
      "Processing file: LUNA16/Dataset/subset3/1.3.6.1.4.1.14519.5.2.1.6279.6001.244204120220889433826451158706.mhd\n",
      "SeriesUID for current file: 1.3.6.1.4.1.14519.5.2.1.6279.6001.244204120220889433826451158706\n",
      "Found 891 nodes for seriesuid: 1.3.6.1.4.1.14519.5.2.1.6279.6001.244204120220889433826451158706\n"
     ]
    },
    {
     "name": "stderr",
     "output_type": "stream",
     "text": [
      "\r",
      " 30%|████████████▎                            | 268/888 [01:19<02:08,  4.81it/s]"
     ]
    },
    {
     "name": "stdout",
     "output_type": "stream",
     "text": [
      "Image array shape: (251, 512, 512)\n",
      "Output path for .npy file: LUNA16/Luna Output/subset3/1.3.6.1.4.1.14519.5.2.1.6279.6001.244204120220889433826451158706.npy\n",
      "Saved: LUNA16/Luna Output/subset3/1.3.6.1.4.1.14519.5.2.1.6279.6001.244204120220889433826451158706.npy\n",
      "\n",
      "Processing file: LUNA16/Dataset/subset3/1.3.6.1.4.1.14519.5.2.1.6279.6001.850739282072340578344345230132.mhd\n",
      "SeriesUID for current file: 1.3.6.1.4.1.14519.5.2.1.6279.6001.850739282072340578344345230132\n",
      "Found 741 nodes for seriesuid: 1.3.6.1.4.1.14519.5.2.1.6279.6001.850739282072340578344345230132\n",
      "Image array shape: (426, 512, 512)\n",
      "Output path for .npy file: LUNA16/Luna Output/subset3/1.3.6.1.4.1.14519.5.2.1.6279.6001.850739282072340578344345230132.npy\n"
     ]
    },
    {
     "name": "stderr",
     "output_type": "stream",
     "text": [
      " 30%|████████████▍                            | 270/888 [01:19<03:00,  3.42it/s]"
     ]
    },
    {
     "name": "stdout",
     "output_type": "stream",
     "text": [
      "Saved: LUNA16/Luna Output/subset3/1.3.6.1.4.1.14519.5.2.1.6279.6001.850739282072340578344345230132.npy\n",
      "\n",
      "Processing file: LUNA16/Dataset/subset3/1.3.6.1.4.1.14519.5.2.1.6279.6001.135657246677982059395844827629.mhd\n",
      "SeriesUID for current file: 1.3.6.1.4.1.14519.5.2.1.6279.6001.135657246677982059395844827629\n",
      "Found 882 nodes for seriesuid: 1.3.6.1.4.1.14519.5.2.1.6279.6001.135657246677982059395844827629\n",
      "Image array shape: (161, 512, 512)\n",
      "Output path for .npy file: LUNA16/Luna Output/subset3/1.3.6.1.4.1.14519.5.2.1.6279.6001.135657246677982059395844827629.npy\n",
      "Saved: LUNA16/Luna Output/subset3/1.3.6.1.4.1.14519.5.2.1.6279.6001.135657246677982059395844827629.npy\n",
      "\n",
      "Processing file: LUNA16/Dataset/subset3/1.3.6.1.4.1.14519.5.2.1.6279.6001.970428941353693253759289796610.mhd\n",
      "SeriesUID for current file: 1.3.6.1.4.1.14519.5.2.1.6279.6001.970428941353693253759289796610\n"
     ]
    },
    {
     "name": "stderr",
     "output_type": "stream",
     "text": [
      "\r",
      " 31%|████████████▌                            | 271/888 [01:20<02:34,  3.99it/s]"
     ]
    },
    {
     "name": "stdout",
     "output_type": "stream",
     "text": [
      "Found 1221 nodes for seriesuid: 1.3.6.1.4.1.14519.5.2.1.6279.6001.970428941353693253759289796610\n",
      "Image array shape: (145, 512, 512)\n",
      "Output path for .npy file: LUNA16/Luna Output/subset3/1.3.6.1.4.1.14519.5.2.1.6279.6001.970428941353693253759289796610.npy\n",
      "Saved: LUNA16/Luna Output/subset3/1.3.6.1.4.1.14519.5.2.1.6279.6001.970428941353693253759289796610.npy\n",
      "\n",
      "Processing file: LUNA16/Dataset/subset3/1.3.6.1.4.1.14519.5.2.1.6279.6001.268589491017129166376960414534.mhd\n",
      "SeriesUID for current file: 1.3.6.1.4.1.14519.5.2.1.6279.6001.268589491017129166376960414534\n",
      "Found 509 nodes for seriesuid: 1.3.6.1.4.1.14519.5.2.1.6279.6001.268589491017129166376960414534\n",
      "Image array shape: (127, 512, 512)\n",
      "Output path for .npy file: LUNA16/Luna Output/subset3/1.3.6.1.4.1.14519.5.2.1.6279.6001.268589491017129166376960414534.npy\n"
     ]
    },
    {
     "name": "stderr",
     "output_type": "stream",
     "text": [
      "\r",
      " 31%|████████████▌                            | 272/888 [01:20<02:10,  4.71it/s]"
     ]
    },
    {
     "name": "stdout",
     "output_type": "stream",
     "text": [
      "Saved: LUNA16/Luna Output/subset3/1.3.6.1.4.1.14519.5.2.1.6279.6001.268589491017129166376960414534.npy\n",
      "\n",
      "Processing file: LUNA16/Dataset/subset3/1.3.6.1.4.1.14519.5.2.1.6279.6001.334022941831199910030220864961.mhd\n",
      "SeriesUID for current file: 1.3.6.1.4.1.14519.5.2.1.6279.6001.334022941831199910030220864961\n",
      "Found 548 nodes for seriesuid: 1.3.6.1.4.1.14519.5.2.1.6279.6001.334022941831199910030220864961\n",
      "Image array shape: (199, 512, 512)\n",
      "Output path for .npy file: LUNA16/Luna Output/subset3/1.3.6.1.4.1.14519.5.2.1.6279.6001.334022941831199910030220864961.npy\n"
     ]
    },
    {
     "name": "stderr",
     "output_type": "stream",
     "text": [
      " 31%|████████████▋                            | 274/888 [01:20<02:06,  4.84it/s]"
     ]
    },
    {
     "name": "stdout",
     "output_type": "stream",
     "text": [
      "Saved: LUNA16/Luna Output/subset3/1.3.6.1.4.1.14519.5.2.1.6279.6001.334022941831199910030220864961.npy\n",
      "\n",
      "Processing file: LUNA16/Dataset/subset3/1.3.6.1.4.1.14519.5.2.1.6279.6001.244681063194071446501270815660.mhd\n",
      "SeriesUID for current file: 1.3.6.1.4.1.14519.5.2.1.6279.6001.244681063194071446501270815660\n",
      "Found 1088 nodes for seriesuid: 1.3.6.1.4.1.14519.5.2.1.6279.6001.244681063194071446501270815660\n",
      "Image array shape: (167, 512, 512)\n",
      "Output path for .npy file: LUNA16/Luna Output/subset3/1.3.6.1.4.1.14519.5.2.1.6279.6001.244681063194071446501270815660.npy\n",
      "Saved: LUNA16/Luna Output/subset3/1.3.6.1.4.1.14519.5.2.1.6279.6001.244681063194071446501270815660.npy\n",
      "\n",
      "Processing file: LUNA16/Dataset/subset3/1.3.6.1.4.1.14519.5.2.1.6279.6001.336225579776978874775723463327.mhd\n",
      "SeriesUID for current file: 1.3.6.1.4.1.14519.5.2.1.6279.6001.336225579776978874775723463327\n"
     ]
    },
    {
     "name": "stderr",
     "output_type": "stream",
     "text": [
      "\r",
      " 31%|████████████▋                            | 275/888 [01:20<01:50,  5.57it/s]"
     ]
    },
    {
     "name": "stdout",
     "output_type": "stream",
     "text": [
      "Found 894 nodes for seriesuid: 1.3.6.1.4.1.14519.5.2.1.6279.6001.336225579776978874775723463327\n",
      "Image array shape: (145, 512, 512)\n",
      "Output path for .npy file: LUNA16/Luna Output/subset3/1.3.6.1.4.1.14519.5.2.1.6279.6001.336225579776978874775723463327.npy\n",
      "Saved: LUNA16/Luna Output/subset3/1.3.6.1.4.1.14519.5.2.1.6279.6001.336225579776978874775723463327.npy\n",
      "\n",
      "Processing file: LUNA16/Dataset/subset3/1.3.6.1.4.1.14519.5.2.1.6279.6001.127965161564033605177803085629.mhd\n",
      "SeriesUID for current file: 1.3.6.1.4.1.14519.5.2.1.6279.6001.127965161564033605177803085629\n",
      "Found 541 nodes for seriesuid: 1.3.6.1.4.1.14519.5.2.1.6279.6001.127965161564033605177803085629\n",
      "Image array shape: (197, 512, 512)\n",
      "Output path for .npy file: LUNA16/Luna Output/subset3/1.3.6.1.4.1.14519.5.2.1.6279.6001.127965161564033605177803085629.npy\n"
     ]
    },
    {
     "name": "stderr",
     "output_type": "stream",
     "text": [
      "\r",
      " 31%|████████████▋                            | 276/888 [01:20<01:44,  5.83it/s]"
     ]
    },
    {
     "name": "stdout",
     "output_type": "stream",
     "text": [
      "Saved: LUNA16/Luna Output/subset3/1.3.6.1.4.1.14519.5.2.1.6279.6001.127965161564033605177803085629.npy\n",
      "\n",
      "Processing file: LUNA16/Dataset/subset3/1.3.6.1.4.1.14519.5.2.1.6279.6001.264090899378396711987322794314.mhd\n",
      "SeriesUID for current file: 1.3.6.1.4.1.14519.5.2.1.6279.6001.264090899378396711987322794314\n",
      "Found 587 nodes for seriesuid: 1.3.6.1.4.1.14519.5.2.1.6279.6001.264090899378396711987322794314\n",
      "Image array shape: (273, 512, 512)\n",
      "Output path for .npy file: LUNA16/Luna Output/subset3/1.3.6.1.4.1.14519.5.2.1.6279.6001.264090899378396711987322794314.npy\n"
     ]
    },
    {
     "name": "stderr",
     "output_type": "stream",
     "text": [
      " 31%|████████████▊                            | 278/888 [01:21<01:58,  5.15it/s]"
     ]
    },
    {
     "name": "stdout",
     "output_type": "stream",
     "text": [
      "Saved: LUNA16/Luna Output/subset3/1.3.6.1.4.1.14519.5.2.1.6279.6001.264090899378396711987322794314.npy\n",
      "\n",
      "Processing file: LUNA16/Dataset/subset3/1.3.6.1.4.1.14519.5.2.1.6279.6001.614147706162329660656328811671.mhd\n",
      "SeriesUID for current file: 1.3.6.1.4.1.14519.5.2.1.6279.6001.614147706162329660656328811671\n",
      "Found 1061 nodes for seriesuid: 1.3.6.1.4.1.14519.5.2.1.6279.6001.614147706162329660656328811671\n",
      "Image array shape: (133, 512, 512)\n",
      "Output path for .npy file: LUNA16/Luna Output/subset3/1.3.6.1.4.1.14519.5.2.1.6279.6001.614147706162329660656328811671.npy\n",
      "Saved: LUNA16/Luna Output/subset3/1.3.6.1.4.1.14519.5.2.1.6279.6001.614147706162329660656328811671.npy\n",
      "\n",
      "Processing file: LUNA16/Dataset/subset3/1.3.6.1.4.1.14519.5.2.1.6279.6001.292057261351416339496913597985.mhd\n",
      "SeriesUID for current file: 1.3.6.1.4.1.14519.5.2.1.6279.6001.292057261351416339496913597985\n",
      "Found 836 nodes for seriesuid: 1.3.6.1.4.1.14519.5.2.1.6279.6001.292057261351416339496913597985\n"
     ]
    },
    {
     "name": "stderr",
     "output_type": "stream",
     "text": [
      "\r",
      " 31%|████████████▉                            | 279/888 [01:21<01:57,  5.19it/s]"
     ]
    },
    {
     "name": "stdout",
     "output_type": "stream",
     "text": [
      "Image array shape: (191, 512, 512)\n",
      "Output path for .npy file: LUNA16/Luna Output/subset3/1.3.6.1.4.1.14519.5.2.1.6279.6001.292057261351416339496913597985.npy\n",
      "Saved: LUNA16/Luna Output/subset3/1.3.6.1.4.1.14519.5.2.1.6279.6001.292057261351416339496913597985.npy\n",
      "\n",
      "Processing file: LUNA16/Dataset/subset3/1.3.6.1.4.1.14519.5.2.1.6279.6001.319009811633846643966578282371.mhd\n",
      "SeriesUID for current file: 1.3.6.1.4.1.14519.5.2.1.6279.6001.319009811633846643966578282371\n",
      "Found 570 nodes for seriesuid: 1.3.6.1.4.1.14519.5.2.1.6279.6001.319009811633846643966578282371\n",
      "Image array shape: (125, 512, 512)\n",
      "Output path for .npy file: LUNA16/Luna Output/subset3/1.3.6.1.4.1.14519.5.2.1.6279.6001.319009811633846643966578282371.npy\n"
     ]
    },
    {
     "name": "stderr",
     "output_type": "stream",
     "text": [
      "\r",
      " 32%|████████████▉                            | 280/888 [01:21<01:46,  5.71it/s]"
     ]
    },
    {
     "name": "stdout",
     "output_type": "stream",
     "text": [
      "Saved: LUNA16/Luna Output/subset3/1.3.6.1.4.1.14519.5.2.1.6279.6001.319009811633846643966578282371.npy\n",
      "\n",
      "Processing file: LUNA16/Dataset/subset3/1.3.6.1.4.1.14519.5.2.1.6279.6001.269075535958871753309238331179.mhd\n",
      "SeriesUID for current file: 1.3.6.1.4.1.14519.5.2.1.6279.6001.269075535958871753309238331179\n",
      "Found 688 nodes for seriesuid: 1.3.6.1.4.1.14519.5.2.1.6279.6001.269075535958871753309238331179\n",
      "Image array shape: (183, 512, 512)\n",
      "Output path for .npy file: LUNA16/Luna Output/subset3/1.3.6.1.4.1.14519.5.2.1.6279.6001.269075535958871753309238331179.npy\n"
     ]
    },
    {
     "name": "stderr",
     "output_type": "stream",
     "text": [
      "\r",
      " 32%|████████████▉                            | 281/888 [01:21<01:51,  5.45it/s]"
     ]
    },
    {
     "name": "stdout",
     "output_type": "stream",
     "text": [
      "Saved: LUNA16/Luna Output/subset3/1.3.6.1.4.1.14519.5.2.1.6279.6001.269075535958871753309238331179.npy\n",
      "\n",
      "Processing file: LUNA16/Dataset/subset3/1.3.6.1.4.1.14519.5.2.1.6279.6001.215086589927307766627151367533.mhd\n",
      "SeriesUID for current file: 1.3.6.1.4.1.14519.5.2.1.6279.6001.215086589927307766627151367533\n",
      "Found 411 nodes for seriesuid: 1.3.6.1.4.1.14519.5.2.1.6279.6001.215086589927307766627151367533\n",
      "Image array shape: (602, 512, 512)\n",
      "Output path for .npy file: LUNA16/Luna Output/subset3/1.3.6.1.4.1.14519.5.2.1.6279.6001.215086589927307766627151367533.npy\n"
     ]
    },
    {
     "name": "stderr",
     "output_type": "stream",
     "text": [
      "\r",
      " 32%|█████████████                            | 282/888 [01:22<04:05,  2.47it/s]"
     ]
    },
    {
     "name": "stdout",
     "output_type": "stream",
     "text": [
      "Saved: LUNA16/Luna Output/subset3/1.3.6.1.4.1.14519.5.2.1.6279.6001.215086589927307766627151367533.npy\n",
      "\n",
      "Processing file: LUNA16/Dataset/subset3/1.3.6.1.4.1.14519.5.2.1.6279.6001.177785764461425908755977367558.mhd\n",
      "SeriesUID for current file: 1.3.6.1.4.1.14519.5.2.1.6279.6001.177785764461425908755977367558\n",
      "Found 988 nodes for seriesuid: 1.3.6.1.4.1.14519.5.2.1.6279.6001.177785764461425908755977367558\n",
      "Image array shape: (481, 512, 512)\n",
      "Output path for .npy file: LUNA16/Luna Output/subset3/1.3.6.1.4.1.14519.5.2.1.6279.6001.177785764461425908755977367558.npy\n"
     ]
    },
    {
     "name": "stderr",
     "output_type": "stream",
     "text": [
      "\r",
      " 32%|█████████████                            | 283/888 [01:23<04:45,  2.12it/s]"
     ]
    },
    {
     "name": "stdout",
     "output_type": "stream",
     "text": [
      "Saved: LUNA16/Luna Output/subset3/1.3.6.1.4.1.14519.5.2.1.6279.6001.177785764461425908755977367558.npy\n",
      "\n",
      "Processing file: LUNA16/Dataset/subset3/1.3.6.1.4.1.14519.5.2.1.6279.6001.191266041369462391833537519639.mhd\n",
      "SeriesUID for current file: 1.3.6.1.4.1.14519.5.2.1.6279.6001.191266041369462391833537519639\n",
      "Found 969 nodes for seriesuid: 1.3.6.1.4.1.14519.5.2.1.6279.6001.191266041369462391833537519639\n",
      "Image array shape: (455, 512, 512)\n",
      "Output path for .npy file: LUNA16/Luna Output/subset3/1.3.6.1.4.1.14519.5.2.1.6279.6001.191266041369462391833537519639.npy\n"
     ]
    },
    {
     "name": "stderr",
     "output_type": "stream",
     "text": [
      "\r",
      " 32%|█████████████                            | 284/888 [01:23<04:48,  2.09it/s]"
     ]
    },
    {
     "name": "stdout",
     "output_type": "stream",
     "text": [
      "Saved: LUNA16/Luna Output/subset3/1.3.6.1.4.1.14519.5.2.1.6279.6001.191266041369462391833537519639.npy\n",
      "\n",
      "Processing file: LUNA16/Dataset/subset3/1.3.6.1.4.1.14519.5.2.1.6279.6001.204303454658845815034433453512.mhd\n",
      "SeriesUID for current file: 1.3.6.1.4.1.14519.5.2.1.6279.6001.204303454658845815034433453512\n",
      "Found 1123 nodes for seriesuid: 1.3.6.1.4.1.14519.5.2.1.6279.6001.204303454658845815034433453512\n",
      "Image array shape: (558, 512, 512)\n",
      "Output path for .npy file: LUNA16/Luna Output/subset3/1.3.6.1.4.1.14519.5.2.1.6279.6001.204303454658845815034433453512.npy\n"
     ]
    },
    {
     "name": "stderr",
     "output_type": "stream",
     "text": [
      " 32%|█████████████▏                           | 286/888 [01:24<04:25,  2.26it/s]"
     ]
    },
    {
     "name": "stdout",
     "output_type": "stream",
     "text": [
      "Saved: LUNA16/Luna Output/subset3/1.3.6.1.4.1.14519.5.2.1.6279.6001.204303454658845815034433453512.npy\n",
      "\n",
      "Processing file: LUNA16/Dataset/subset3/1.3.6.1.4.1.14519.5.2.1.6279.6001.272190966764020277652079081128.mhd\n",
      "SeriesUID for current file: 1.3.6.1.4.1.14519.5.2.1.6279.6001.272190966764020277652079081128\n",
      "Found 759 nodes for seriesuid: 1.3.6.1.4.1.14519.5.2.1.6279.6001.272190966764020277652079081128\n",
      "Image array shape: (133, 512, 512)\n",
      "Output path for .npy file: LUNA16/Luna Output/subset3/1.3.6.1.4.1.14519.5.2.1.6279.6001.272190966764020277652079081128.npy\n",
      "Saved: LUNA16/Luna Output/subset3/1.3.6.1.4.1.14519.5.2.1.6279.6001.272190966764020277652079081128.npy\n",
      "\n",
      "Processing file: LUNA16/Dataset/subset3/1.3.6.1.4.1.14519.5.2.1.6279.6001.314519596680450457855054746285.mhd\n",
      "SeriesUID for current file: 1.3.6.1.4.1.14519.5.2.1.6279.6001.314519596680450457855054746285\n",
      "Found 488 nodes for seriesuid: 1.3.6.1.4.1.14519.5.2.1.6279.6001.314519596680450457855054746285\n",
      "Image array shape: (190, 512, 512)\n",
      "Output path for .npy file: LUNA16/Luna Output/subset3/1.3.6.1.4.1.14519.5.2.1.6279.6001.314519596680450457855054746285.npy\n"
     ]
    },
    {
     "name": "stderr",
     "output_type": "stream",
     "text": [
      "\r",
      " 32%|█████████████▎                           | 287/888 [01:25<03:52,  2.58it/s]"
     ]
    },
    {
     "name": "stdout",
     "output_type": "stream",
     "text": [
      "Saved: LUNA16/Luna Output/subset3/1.3.6.1.4.1.14519.5.2.1.6279.6001.314519596680450457855054746285.npy\n",
      "\n",
      "Processing file: LUNA16/Dataset/subset3/1.3.6.1.4.1.14519.5.2.1.6279.6001.339142594937666268384335506819.mhd\n",
      "SeriesUID for current file: 1.3.6.1.4.1.14519.5.2.1.6279.6001.339142594937666268384335506819\n",
      "Found 1671 nodes for seriesuid: 1.3.6.1.4.1.14519.5.2.1.6279.6001.339142594937666268384335506819\n",
      "Image array shape: (131, 512, 512)\n",
      "Output path for .npy file: LUNA16/Luna Output/subset3/1.3.6.1.4.1.14519.5.2.1.6279.6001.339142594937666268384335506819.npy\n"
     ]
    },
    {
     "name": "stderr",
     "output_type": "stream",
     "text": [
      "\r",
      " 32%|█████████████▎                           | 288/888 [01:25<03:20,  2.99it/s]"
     ]
    },
    {
     "name": "stdout",
     "output_type": "stream",
     "text": [
      "Saved: LUNA16/Luna Output/subset3/1.3.6.1.4.1.14519.5.2.1.6279.6001.339142594937666268384335506819.npy\n",
      "\n",
      "Processing file: LUNA16/Dataset/subset3/1.3.6.1.4.1.14519.5.2.1.6279.6001.274052674198758621258447180130.mhd\n",
      "SeriesUID for current file: 1.3.6.1.4.1.14519.5.2.1.6279.6001.274052674198758621258447180130\n",
      "Found 1116 nodes for seriesuid: 1.3.6.1.4.1.14519.5.2.1.6279.6001.274052674198758621258447180130\n",
      "Image array shape: (300, 512, 512)\n",
      "Output path for .npy file: LUNA16/Luna Output/subset3/1.3.6.1.4.1.14519.5.2.1.6279.6001.274052674198758621258447180130.npy\n"
     ]
    },
    {
     "name": "stderr",
     "output_type": "stream",
     "text": [
      "\r",
      " 33%|█████████████▎                           | 289/888 [01:25<03:42,  2.69it/s]"
     ]
    },
    {
     "name": "stdout",
     "output_type": "stream",
     "text": [
      "Saved: LUNA16/Luna Output/subset3/1.3.6.1.4.1.14519.5.2.1.6279.6001.274052674198758621258447180130.npy\n",
      "\n",
      "Processing file: LUNA16/Dataset/subset3/1.3.6.1.4.1.14519.5.2.1.6279.6001.160216916075817913953530562493.mhd\n",
      "SeriesUID for current file: 1.3.6.1.4.1.14519.5.2.1.6279.6001.160216916075817913953530562493\n",
      "Found 413 nodes for seriesuid: 1.3.6.1.4.1.14519.5.2.1.6279.6001.160216916075817913953530562493\n",
      "Image array shape: (201, 512, 512)\n",
      "Output path for .npy file: LUNA16/Luna Output/subset3/1.3.6.1.4.1.14519.5.2.1.6279.6001.160216916075817913953530562493.npy\n"
     ]
    },
    {
     "name": "stderr",
     "output_type": "stream",
     "text": [
      " 33%|█████████████▍                           | 291/888 [01:26<03:00,  3.30it/s]"
     ]
    },
    {
     "name": "stdout",
     "output_type": "stream",
     "text": [
      "Saved: LUNA16/Luna Output/subset3/1.3.6.1.4.1.14519.5.2.1.6279.6001.160216916075817913953530562493.npy\n",
      "\n",
      "Processing file: LUNA16/Dataset/subset3/1.3.6.1.4.1.14519.5.2.1.6279.6001.106164978370116976238911317774.mhd\n",
      "SeriesUID for current file: 1.3.6.1.4.1.14519.5.2.1.6279.6001.106164978370116976238911317774\n",
      "Found 955 nodes for seriesuid: 1.3.6.1.4.1.14519.5.2.1.6279.6001.106164978370116976238911317774\n",
      "Image array shape: (133, 512, 512)\n",
      "Output path for .npy file: LUNA16/Luna Output/subset3/1.3.6.1.4.1.14519.5.2.1.6279.6001.106164978370116976238911317774.npy\n",
      "Saved: LUNA16/Luna Output/subset3/1.3.6.1.4.1.14519.5.2.1.6279.6001.106164978370116976238911317774.npy\n",
      "\n",
      "Processing file: LUNA16/Dataset/subset3/1.3.6.1.4.1.14519.5.2.1.6279.6001.367204840301639918160517361062.mhd\n",
      "SeriesUID for current file: 1.3.6.1.4.1.14519.5.2.1.6279.6001.367204840301639918160517361062\n"
     ]
    },
    {
     "name": "stderr",
     "output_type": "stream",
     "text": [
      "\r",
      " 33%|█████████████▍                           | 292/888 [01:26<02:42,  3.66it/s]"
     ]
    },
    {
     "name": "stdout",
     "output_type": "stream",
     "text": [
      "Found 722 nodes for seriesuid: 1.3.6.1.4.1.14519.5.2.1.6279.6001.367204840301639918160517361062\n",
      "Image array shape: (133, 512, 512)\n",
      "Output path for .npy file: LUNA16/Luna Output/subset3/1.3.6.1.4.1.14519.5.2.1.6279.6001.367204840301639918160517361062.npy\n",
      "Saved: LUNA16/Luna Output/subset3/1.3.6.1.4.1.14519.5.2.1.6279.6001.367204840301639918160517361062.npy\n",
      "\n",
      "Processing file: LUNA16/Dataset/subset3/1.3.6.1.4.1.14519.5.2.1.6279.6001.229664630348267553620068691756.mhd\n",
      "SeriesUID for current file: 1.3.6.1.4.1.14519.5.2.1.6279.6001.229664630348267553620068691756\n",
      "Found 603 nodes for seriesuid: 1.3.6.1.4.1.14519.5.2.1.6279.6001.229664630348267553620068691756\n",
      "Image array shape: (509, 512, 512)\n",
      "Output path for .npy file: LUNA16/Luna Output/subset3/1.3.6.1.4.1.14519.5.2.1.6279.6001.229664630348267553620068691756.npy\n"
     ]
    },
    {
     "name": "stderr",
     "output_type": "stream",
     "text": [
      "\r",
      " 33%|█████████████▌                           | 293/888 [01:27<03:59,  2.49it/s]"
     ]
    },
    {
     "name": "stdout",
     "output_type": "stream",
     "text": [
      "Saved: LUNA16/Luna Output/subset3/1.3.6.1.4.1.14519.5.2.1.6279.6001.229664630348267553620068691756.npy\n",
      "\n",
      "Processing file: LUNA16/Dataset/subset3/1.3.6.1.4.1.14519.5.2.1.6279.6001.278010349511857248000260557753.mhd\n",
      "SeriesUID for current file: 1.3.6.1.4.1.14519.5.2.1.6279.6001.278010349511857248000260557753\n",
      "Found 1244 nodes for seriesuid: 1.3.6.1.4.1.14519.5.2.1.6279.6001.278010349511857248000260557753\n",
      "Image array shape: (545, 512, 512)\n",
      "Output path for .npy file: LUNA16/Luna Output/subset3/1.3.6.1.4.1.14519.5.2.1.6279.6001.278010349511857248000260557753.npy\n"
     ]
    },
    {
     "name": "stderr",
     "output_type": "stream",
     "text": [
      "\r",
      " 33%|█████████████▌                           | 294/888 [01:27<04:45,  2.08it/s]"
     ]
    },
    {
     "name": "stdout",
     "output_type": "stream",
     "text": [
      "Saved: LUNA16/Luna Output/subset3/1.3.6.1.4.1.14519.5.2.1.6279.6001.278010349511857248000260557753.npy\n",
      "\n",
      "Processing file: LUNA16/Dataset/subset3/1.3.6.1.4.1.14519.5.2.1.6279.6001.268838889380981659524993261082.mhd\n",
      "SeriesUID for current file: 1.3.6.1.4.1.14519.5.2.1.6279.6001.268838889380981659524993261082\n",
      "Found 914 nodes for seriesuid: 1.3.6.1.4.1.14519.5.2.1.6279.6001.268838889380981659524993261082\n",
      "Image array shape: (133, 512, 512)\n",
      "Output path for .npy file: LUNA16/Luna Output/subset3/1.3.6.1.4.1.14519.5.2.1.6279.6001.268838889380981659524993261082.npy\n"
     ]
    },
    {
     "name": "stderr",
     "output_type": "stream",
     "text": [
      "\r",
      " 33%|█████████████▌                           | 295/888 [01:28<03:57,  2.50it/s]"
     ]
    },
    {
     "name": "stdout",
     "output_type": "stream",
     "text": [
      "Saved: LUNA16/Luna Output/subset3/1.3.6.1.4.1.14519.5.2.1.6279.6001.268838889380981659524993261082.npy\n",
      "\n",
      "Processing file: LUNA16/Dataset/subset3/1.3.6.1.4.1.14519.5.2.1.6279.6001.199670099218798685977406484591.mhd\n",
      "SeriesUID for current file: 1.3.6.1.4.1.14519.5.2.1.6279.6001.199670099218798685977406484591\n",
      "Found 849 nodes for seriesuid: 1.3.6.1.4.1.14519.5.2.1.6279.6001.199670099218798685977406484591\n",
      "Image array shape: (240, 512, 512)\n",
      "Output path for .npy file: LUNA16/Luna Output/subset3/1.3.6.1.4.1.14519.5.2.1.6279.6001.199670099218798685977406484591.npy\n"
     ]
    },
    {
     "name": "stderr",
     "output_type": "stream",
     "text": [
      "\r",
      " 33%|█████████████▋                           | 296/888 [01:28<03:37,  2.72it/s]"
     ]
    },
    {
     "name": "stdout",
     "output_type": "stream",
     "text": [
      "Saved: LUNA16/Luna Output/subset3/1.3.6.1.4.1.14519.5.2.1.6279.6001.199670099218798685977406484591.npy\n",
      "\n",
      "Processing file: LUNA16/Dataset/subset3/1.3.6.1.4.1.14519.5.2.1.6279.6001.275007193025729362844652516689.mhd\n",
      "SeriesUID for current file: 1.3.6.1.4.1.14519.5.2.1.6279.6001.275007193025729362844652516689\n",
      "Found 606 nodes for seriesuid: 1.3.6.1.4.1.14519.5.2.1.6279.6001.275007193025729362844652516689\n",
      "Image array shape: (209, 512, 512)\n",
      "Output path for .npy file: LUNA16/Luna Output/subset3/1.3.6.1.4.1.14519.5.2.1.6279.6001.275007193025729362844652516689.npy\n"
     ]
    },
    {
     "name": "stderr",
     "output_type": "stream",
     "text": [
      "\r",
      " 33%|█████████████▋                           | 297/888 [01:28<03:16,  3.01it/s]"
     ]
    },
    {
     "name": "stdout",
     "output_type": "stream",
     "text": [
      "Saved: LUNA16/Luna Output/subset3/1.3.6.1.4.1.14519.5.2.1.6279.6001.275007193025729362844652516689.npy\n",
      "\n",
      "Processing file: LUNA16/Dataset/subset3/1.3.6.1.4.1.14519.5.2.1.6279.6001.319066480138812986026181758474.mhd\n",
      "SeriesUID for current file: 1.3.6.1.4.1.14519.5.2.1.6279.6001.319066480138812986026181758474\n",
      "Found 1072 nodes for seriesuid: 1.3.6.1.4.1.14519.5.2.1.6279.6001.319066480138812986026181758474\n",
      "Image array shape: (220, 512, 512)\n",
      "Output path for .npy file: LUNA16/Luna Output/subset3/1.3.6.1.4.1.14519.5.2.1.6279.6001.319066480138812986026181758474.npy\n"
     ]
    },
    {
     "name": "stderr",
     "output_type": "stream",
     "text": [
      "\r",
      " 34%|█████████████▊                           | 298/888 [01:28<02:58,  3.31it/s]"
     ]
    },
    {
     "name": "stdout",
     "output_type": "stream",
     "text": [
      "Saved: LUNA16/Luna Output/subset3/1.3.6.1.4.1.14519.5.2.1.6279.6001.319066480138812986026181758474.npy\n",
      "\n",
      "Processing file: LUNA16/Dataset/subset3/1.3.6.1.4.1.14519.5.2.1.6279.6001.842317928015463083368074520378.mhd\n",
      "SeriesUID for current file: 1.3.6.1.4.1.14519.5.2.1.6279.6001.842317928015463083368074520378\n",
      "Found 1475 nodes for seriesuid: 1.3.6.1.4.1.14519.5.2.1.6279.6001.842317928015463083368074520378\n",
      "Image array shape: (408, 512, 512)\n",
      "Output path for .npy file: LUNA16/Luna Output/subset3/1.3.6.1.4.1.14519.5.2.1.6279.6001.842317928015463083368074520378.npy\n"
     ]
    },
    {
     "name": "stderr",
     "output_type": "stream",
     "text": [
      "\r",
      " 34%|█████████████▊                           | 299/888 [01:29<03:43,  2.64it/s]"
     ]
    },
    {
     "name": "stdout",
     "output_type": "stream",
     "text": [
      "Saved: LUNA16/Luna Output/subset3/1.3.6.1.4.1.14519.5.2.1.6279.6001.842317928015463083368074520378.npy\n",
      "\n",
      "Processing file: LUNA16/Dataset/subset3/1.3.6.1.4.1.14519.5.2.1.6279.6001.965620538050807352935663552285.mhd\n",
      "SeriesUID for current file: 1.3.6.1.4.1.14519.5.2.1.6279.6001.965620538050807352935663552285\n",
      "Found 622 nodes for seriesuid: 1.3.6.1.4.1.14519.5.2.1.6279.6001.965620538050807352935663552285\n",
      "Image array shape: (481, 512, 512)\n",
      "Output path for .npy file: LUNA16/Luna Output/subset3/1.3.6.1.4.1.14519.5.2.1.6279.6001.965620538050807352935663552285.npy\n"
     ]
    },
    {
     "name": "stderr",
     "output_type": "stream",
     "text": [
      " 34%|█████████████▉                           | 301/888 [01:30<03:35,  2.72it/s]"
     ]
    },
    {
     "name": "stdout",
     "output_type": "stream",
     "text": [
      "Saved: LUNA16/Luna Output/subset3/1.3.6.1.4.1.14519.5.2.1.6279.6001.965620538050807352935663552285.npy\n",
      "\n",
      "Processing file: LUNA16/Dataset/subset3/1.3.6.1.4.1.14519.5.2.1.6279.6001.210426531621179400035178209430.mhd\n",
      "SeriesUID for current file: 1.3.6.1.4.1.14519.5.2.1.6279.6001.210426531621179400035178209430\n",
      "Found 512 nodes for seriesuid: 1.3.6.1.4.1.14519.5.2.1.6279.6001.210426531621179400035178209430\n",
      "Image array shape: (117, 512, 512)\n",
      "Output path for .npy file: LUNA16/Luna Output/subset3/1.3.6.1.4.1.14519.5.2.1.6279.6001.210426531621179400035178209430.npy\n",
      "Saved: LUNA16/Luna Output/subset3/1.3.6.1.4.1.14519.5.2.1.6279.6001.210426531621179400035178209430.npy\n",
      "\n",
      "Processing file: LUNA16/Dataset/subset3/1.3.6.1.4.1.14519.5.2.1.6279.6001.194488534645348916700259325236.mhd\n",
      "SeriesUID for current file: 1.3.6.1.4.1.14519.5.2.1.6279.6001.194488534645348916700259325236\n",
      "Found 712 nodes for seriesuid: 1.3.6.1.4.1.14519.5.2.1.6279.6001.194488534645348916700259325236\n",
      "Image array shape: (458, 512, 512)\n",
      "Output path for .npy file: LUNA16/Luna Output/subset3/1.3.6.1.4.1.14519.5.2.1.6279.6001.194488534645348916700259325236.npy\n"
     ]
    },
    {
     "name": "stderr",
     "output_type": "stream",
     "text": [
      "\r",
      " 34%|█████████████▉                           | 302/888 [01:30<04:04,  2.40it/s]"
     ]
    },
    {
     "name": "stdout",
     "output_type": "stream",
     "text": [
      "Saved: LUNA16/Luna Output/subset3/1.3.6.1.4.1.14519.5.2.1.6279.6001.194488534645348916700259325236.npy\n",
      "\n",
      "Processing file: LUNA16/Dataset/subset3/1.3.6.1.4.1.14519.5.2.1.6279.6001.191617711875409989053242965150.mhd\n",
      "SeriesUID for current file: 1.3.6.1.4.1.14519.5.2.1.6279.6001.191617711875409989053242965150\n",
      "Found 530 nodes for seriesuid: 1.3.6.1.4.1.14519.5.2.1.6279.6001.191617711875409989053242965150\n",
      "Image array shape: (241, 512, 512)\n",
      "Output path for .npy file: LUNA16/Luna Output/subset3/1.3.6.1.4.1.14519.5.2.1.6279.6001.191617711875409989053242965150.npy\n"
     ]
    },
    {
     "name": "stderr",
     "output_type": "stream",
     "text": [
      " 34%|██████████████                           | 304/888 [01:31<02:55,  3.32it/s]"
     ]
    },
    {
     "name": "stdout",
     "output_type": "stream",
     "text": [
      "Saved: LUNA16/Luna Output/subset3/1.3.6.1.4.1.14519.5.2.1.6279.6001.191617711875409989053242965150.npy\n",
      "\n",
      "Processing file: LUNA16/Dataset/subset3/1.3.6.1.4.1.14519.5.2.1.6279.6001.975426625618184773401026809852.mhd\n",
      "SeriesUID for current file: 1.3.6.1.4.1.14519.5.2.1.6279.6001.975426625618184773401026809852\n",
      "Found 989 nodes for seriesuid: 1.3.6.1.4.1.14519.5.2.1.6279.6001.975426625618184773401026809852\n",
      "Image array shape: (197, 512, 512)\n",
      "Output path for .npy file: LUNA16/Luna Output/subset3/1.3.6.1.4.1.14519.5.2.1.6279.6001.975426625618184773401026809852.npy\n",
      "Saved: LUNA16/Luna Output/subset3/1.3.6.1.4.1.14519.5.2.1.6279.6001.975426625618184773401026809852.npy\n",
      "\n",
      "Processing file: LUNA16/Dataset/subset3/1.3.6.1.4.1.14519.5.2.1.6279.6001.154703816225841204080664115280.mhd\n",
      "SeriesUID for current file: 1.3.6.1.4.1.14519.5.2.1.6279.6001.154703816225841204080664115280\n",
      "Found 757 nodes for seriesuid: 1.3.6.1.4.1.14519.5.2.1.6279.6001.154703816225841204080664115280\n"
     ]
    },
    {
     "name": "stderr",
     "output_type": "stream",
     "text": [
      "\r",
      " 34%|██████████████                           | 305/888 [01:31<02:55,  3.32it/s]"
     ]
    },
    {
     "name": "stdout",
     "output_type": "stream",
     "text": [
      "Image array shape: (301, 512, 512)\n",
      "Output path for .npy file: LUNA16/Luna Output/subset3/1.3.6.1.4.1.14519.5.2.1.6279.6001.154703816225841204080664115280.npy\n",
      "Saved: LUNA16/Luna Output/subset3/1.3.6.1.4.1.14519.5.2.1.6279.6001.154703816225841204080664115280.npy\n",
      "\n",
      "Processing file: LUNA16/Dataset/subset3/1.3.6.1.4.1.14519.5.2.1.6279.6001.177685820605315926524514718990.mhd\n",
      "SeriesUID for current file: 1.3.6.1.4.1.14519.5.2.1.6279.6001.177685820605315926524514718990\n",
      "Found 1446 nodes for seriesuid: 1.3.6.1.4.1.14519.5.2.1.6279.6001.177685820605315926524514718990\n"
     ]
    },
    {
     "name": "stderr",
     "output_type": "stream",
     "text": [
      "\r",
      " 34%|██████████████▏                          | 306/888 [01:31<03:04,  3.16it/s]"
     ]
    },
    {
     "name": "stdout",
     "output_type": "stream",
     "text": [
      "Image array shape: (273, 512, 512)\n",
      "Output path for .npy file: LUNA16/Luna Output/subset3/1.3.6.1.4.1.14519.5.2.1.6279.6001.177685820605315926524514718990.npy\n",
      "Saved: LUNA16/Luna Output/subset3/1.3.6.1.4.1.14519.5.2.1.6279.6001.177685820605315926524514718990.npy\n",
      "\n",
      "Processing file: LUNA16/Dataset/subset3/1.3.6.1.4.1.14519.5.2.1.6279.6001.398955972049286139436103068984.mhd\n",
      "SeriesUID for current file: 1.3.6.1.4.1.14519.5.2.1.6279.6001.398955972049286139436103068984\n",
      "Found 743 nodes for seriesuid: 1.3.6.1.4.1.14519.5.2.1.6279.6001.398955972049286139436103068984\n"
     ]
    },
    {
     "name": "stderr",
     "output_type": "stream",
     "text": [
      "\r",
      " 35%|██████████████▏                          | 307/888 [01:31<02:44,  3.54it/s]"
     ]
    },
    {
     "name": "stdout",
     "output_type": "stream",
     "text": [
      "Image array shape: (107, 512, 512)\n",
      "Output path for .npy file: LUNA16/Luna Output/subset3/1.3.6.1.4.1.14519.5.2.1.6279.6001.398955972049286139436103068984.npy\n",
      "Saved: LUNA16/Luna Output/subset3/1.3.6.1.4.1.14519.5.2.1.6279.6001.398955972049286139436103068984.npy\n",
      "\n",
      "Processing file: LUNA16/Dataset/subset3/1.3.6.1.4.1.14519.5.2.1.6279.6001.121391737347333465796214915391.mhd\n",
      "SeriesUID for current file: 1.3.6.1.4.1.14519.5.2.1.6279.6001.121391737347333465796214915391\n",
      "Found 1089 nodes for seriesuid: 1.3.6.1.4.1.14519.5.2.1.6279.6001.121391737347333465796214915391\n",
      "Image array shape: (244, 512, 512)\n",
      "Output path for .npy file: LUNA16/Luna Output/subset3/1.3.6.1.4.1.14519.5.2.1.6279.6001.121391737347333465796214915391.npy\n"
     ]
    },
    {
     "name": "stderr",
     "output_type": "stream",
     "text": [
      " 35%|██████████████▎                          | 309/888 [01:32<02:19,  4.16it/s]"
     ]
    },
    {
     "name": "stdout",
     "output_type": "stream",
     "text": [
      "Saved: LUNA16/Luna Output/subset3/1.3.6.1.4.1.14519.5.2.1.6279.6001.121391737347333465796214915391.npy\n",
      "\n",
      "Processing file: LUNA16/Dataset/subset3/1.3.6.1.4.1.14519.5.2.1.6279.6001.203741923654363010377298352671.mhd\n",
      "SeriesUID for current file: 1.3.6.1.4.1.14519.5.2.1.6279.6001.203741923654363010377298352671\n",
      "Found 499 nodes for seriesuid: 1.3.6.1.4.1.14519.5.2.1.6279.6001.203741923654363010377298352671\n",
      "Image array shape: (141, 512, 512)\n",
      "Output path for .npy file: LUNA16/Luna Output/subset3/1.3.6.1.4.1.14519.5.2.1.6279.6001.203741923654363010377298352671.npy\n",
      "Saved: LUNA16/Luna Output/subset3/1.3.6.1.4.1.14519.5.2.1.6279.6001.203741923654363010377298352671.npy\n",
      "\n",
      "Processing file: LUNA16/Dataset/subset3/1.3.6.1.4.1.14519.5.2.1.6279.6001.619372068417051974713149104919.mhd\n",
      "SeriesUID for current file: 1.3.6.1.4.1.14519.5.2.1.6279.6001.619372068417051974713149104919\n",
      "Found 480 nodes for seriesuid: 1.3.6.1.4.1.14519.5.2.1.6279.6001.619372068417051974713149104919\n",
      "Image array shape: (261, 512, 512)\n",
      "Output path for .npy file: LUNA16/Luna Output/subset3/1.3.6.1.4.1.14519.5.2.1.6279.6001.619372068417051974713149104919.npy\n"
     ]
    },
    {
     "name": "stderr",
     "output_type": "stream",
     "text": [
      "\r",
      " 35%|██████████████▎                          | 310/888 [01:32<02:29,  3.86it/s]"
     ]
    },
    {
     "name": "stdout",
     "output_type": "stream",
     "text": [
      "Saved: LUNA16/Luna Output/subset3/1.3.6.1.4.1.14519.5.2.1.6279.6001.619372068417051974713149104919.npy\n",
      "\n",
      "Processing file: LUNA16/Dataset/subset3/1.3.6.1.4.1.14519.5.2.1.6279.6001.252697338970999211181671881792.mhd\n",
      "SeriesUID for current file: 1.3.6.1.4.1.14519.5.2.1.6279.6001.252697338970999211181671881792\n",
      "Found 772 nodes for seriesuid: 1.3.6.1.4.1.14519.5.2.1.6279.6001.252697338970999211181671881792\n",
      "Image array shape: (213, 512, 512)\n",
      "Output path for .npy file: LUNA16/Luna Output/subset3/1.3.6.1.4.1.14519.5.2.1.6279.6001.252697338970999211181671881792.npy\n"
     ]
    },
    {
     "name": "stderr",
     "output_type": "stream",
     "text": [
      "\r",
      " 35%|██████████████▎                          | 311/888 [01:32<02:23,  4.02it/s]"
     ]
    },
    {
     "name": "stdout",
     "output_type": "stream",
     "text": [
      "Saved: LUNA16/Luna Output/subset3/1.3.6.1.4.1.14519.5.2.1.6279.6001.252697338970999211181671881792.npy\n",
      "\n",
      "Processing file: LUNA16/Dataset/subset3/1.3.6.1.4.1.14519.5.2.1.6279.6001.603166427542096384265514998412.mhd\n",
      "SeriesUID for current file: 1.3.6.1.4.1.14519.5.2.1.6279.6001.603166427542096384265514998412\n",
      "Found 778 nodes for seriesuid: 1.3.6.1.4.1.14519.5.2.1.6279.6001.603166427542096384265514998412\n",
      "Image array shape: (487, 512, 512)\n",
      "Output path for .npy file: LUNA16/Luna Output/subset3/1.3.6.1.4.1.14519.5.2.1.6279.6001.603166427542096384265514998412.npy\n"
     ]
    },
    {
     "name": "stderr",
     "output_type": "stream",
     "text": [
      "\r",
      " 35%|██████████████▍                          | 312/888 [01:33<03:25,  2.80it/s]"
     ]
    },
    {
     "name": "stdout",
     "output_type": "stream",
     "text": [
      "Saved: LUNA16/Luna Output/subset3/1.3.6.1.4.1.14519.5.2.1.6279.6001.603166427542096384265514998412.npy\n",
      "\n",
      "Processing file: LUNA16/Dataset/subset3/1.3.6.1.4.1.14519.5.2.1.6279.6001.149463915556499304732434215056.mhd\n",
      "SeriesUID for current file: 1.3.6.1.4.1.14519.5.2.1.6279.6001.149463915556499304732434215056\n",
      "Found 859 nodes for seriesuid: 1.3.6.1.4.1.14519.5.2.1.6279.6001.149463915556499304732434215056\n",
      "Image array shape: (161, 512, 512)\n",
      "Output path for .npy file: LUNA16/Luna Output/subset3/1.3.6.1.4.1.14519.5.2.1.6279.6001.149463915556499304732434215056.npy\n"
     ]
    },
    {
     "name": "stderr",
     "output_type": "stream",
     "text": [
      " 35%|██████████████▍                          | 314/888 [01:33<02:35,  3.69it/s]"
     ]
    },
    {
     "name": "stdout",
     "output_type": "stream",
     "text": [
      "Saved: LUNA16/Luna Output/subset3/1.3.6.1.4.1.14519.5.2.1.6279.6001.149463915556499304732434215056.npy\n",
      "\n",
      "Processing file: LUNA16/Dataset/subset3/1.3.6.1.4.1.14519.5.2.1.6279.6001.300246184547502297539521283806.mhd\n",
      "SeriesUID for current file: 1.3.6.1.4.1.14519.5.2.1.6279.6001.300246184547502297539521283806\n",
      "Found 1186 nodes for seriesuid: 1.3.6.1.4.1.14519.5.2.1.6279.6001.300246184547502297539521283806\n",
      "Image array shape: (154, 512, 512)\n",
      "Output path for .npy file: LUNA16/Luna Output/subset3/1.3.6.1.4.1.14519.5.2.1.6279.6001.300246184547502297539521283806.npy\n",
      "Saved: LUNA16/Luna Output/subset3/1.3.6.1.4.1.14519.5.2.1.6279.6001.300246184547502297539521283806.npy\n",
      "\n",
      "Processing file: LUNA16/Dataset/subset3/1.3.6.1.4.1.14519.5.2.1.6279.6001.125356649712550043958727288500.mhd\n",
      "SeriesUID for current file: 1.3.6.1.4.1.14519.5.2.1.6279.6001.125356649712550043958727288500\n",
      "Found 836 nodes for seriesuid: 1.3.6.1.4.1.14519.5.2.1.6279.6001.125356649712550043958727288500\n"
     ]
    },
    {
     "name": "stderr",
     "output_type": "stream",
     "text": [
      "\r",
      " 35%|██████████████▌                          | 315/888 [01:34<02:20,  4.07it/s]"
     ]
    },
    {
     "name": "stdout",
     "output_type": "stream",
     "text": [
      "Image array shape: (241, 512, 512)\n",
      "Output path for .npy file: LUNA16/Luna Output/subset3/1.3.6.1.4.1.14519.5.2.1.6279.6001.125356649712550043958727288500.npy\n",
      "Saved: LUNA16/Luna Output/subset3/1.3.6.1.4.1.14519.5.2.1.6279.6001.125356649712550043958727288500.npy\n",
      "\n",
      "Processing file: LUNA16/Dataset/subset3/1.3.6.1.4.1.14519.5.2.1.6279.6001.313283554967554803238484128406.mhd\n",
      "SeriesUID for current file: 1.3.6.1.4.1.14519.5.2.1.6279.6001.313283554967554803238484128406\n",
      "Found 1576 nodes for seriesuid: 1.3.6.1.4.1.14519.5.2.1.6279.6001.313283554967554803238484128406\n",
      "Image array shape: (135, 512, 512)\n",
      "Output path for .npy file: LUNA16/Luna Output/subset3/1.3.6.1.4.1.14519.5.2.1.6279.6001.313283554967554803238484128406.npy\n"
     ]
    },
    {
     "name": "stderr",
     "output_type": "stream",
     "text": [
      " 36%|██████████████▋                          | 317/888 [01:34<01:54,  5.00it/s]"
     ]
    },
    {
     "name": "stdout",
     "output_type": "stream",
     "text": [
      "Saved: LUNA16/Luna Output/subset3/1.3.6.1.4.1.14519.5.2.1.6279.6001.313283554967554803238484128406.npy\n",
      "\n",
      "Processing file: LUNA16/Dataset/subset3/1.3.6.1.4.1.14519.5.2.1.6279.6001.192419869605596446455526220766.mhd\n",
      "SeriesUID for current file: 1.3.6.1.4.1.14519.5.2.1.6279.6001.192419869605596446455526220766\n",
      "Found 1016 nodes for seriesuid: 1.3.6.1.4.1.14519.5.2.1.6279.6001.192419869605596446455526220766\n",
      "Image array shape: (231, 512, 512)\n",
      "Output path for .npy file: LUNA16/Luna Output/subset3/1.3.6.1.4.1.14519.5.2.1.6279.6001.192419869605596446455526220766.npy\n",
      "Saved: LUNA16/Luna Output/subset3/1.3.6.1.4.1.14519.5.2.1.6279.6001.192419869605596446455526220766.npy\n",
      "\n",
      "Processing file: LUNA16/Dataset/subset3/1.3.6.1.4.1.14519.5.2.1.6279.6001.172573195301625265149778785969.mhd\n",
      "SeriesUID for current file: 1.3.6.1.4.1.14519.5.2.1.6279.6001.172573195301625265149778785969\n",
      "Found 855 nodes for seriesuid: 1.3.6.1.4.1.14519.5.2.1.6279.6001.172573195301625265149778785969\n",
      "Image array shape: (529, 512, 512)\n",
      "Output path for .npy file: LUNA16/Luna Output/subset3/1.3.6.1.4.1.14519.5.2.1.6279.6001.172573195301625265149778785969.npy\n"
     ]
    },
    {
     "name": "stderr",
     "output_type": "stream",
     "text": [
      " 36%|██████████████▋                          | 319/888 [01:35<02:54,  3.26it/s]"
     ]
    },
    {
     "name": "stdout",
     "output_type": "stream",
     "text": [
      "Saved: LUNA16/Luna Output/subset3/1.3.6.1.4.1.14519.5.2.1.6279.6001.172573195301625265149778785969.npy\n",
      "\n",
      "Processing file: LUNA16/Dataset/subset3/1.3.6.1.4.1.14519.5.2.1.6279.6001.100953483028192176989979435275.mhd\n",
      "SeriesUID for current file: 1.3.6.1.4.1.14519.5.2.1.6279.6001.100953483028192176989979435275\n",
      "Found 910 nodes for seriesuid: 1.3.6.1.4.1.14519.5.2.1.6279.6001.100953483028192176989979435275\n",
      "Image array shape: (133, 512, 512)\n",
      "Output path for .npy file: LUNA16/Luna Output/subset3/1.3.6.1.4.1.14519.5.2.1.6279.6001.100953483028192176989979435275.npy\n",
      "Saved: LUNA16/Luna Output/subset3/1.3.6.1.4.1.14519.5.2.1.6279.6001.100953483028192176989979435275.npy\n",
      "\n",
      "Processing file: LUNA16/Dataset/subset3/1.3.6.1.4.1.14519.5.2.1.6279.6001.100620385482151095585000946543.mhd\n",
      "SeriesUID for current file: 1.3.6.1.4.1.14519.5.2.1.6279.6001.100620385482151095585000946543\n"
     ]
    },
    {
     "name": "stderr",
     "output_type": "stream",
     "text": [
      "\r",
      " 36%|██████████████▊                          | 320/888 [01:35<02:24,  3.93it/s]"
     ]
    },
    {
     "name": "stdout",
     "output_type": "stream",
     "text": [
      "Found 434 nodes for seriesuid: 1.3.6.1.4.1.14519.5.2.1.6279.6001.100620385482151095585000946543\n",
      "Image array shape: (126, 512, 512)\n",
      "Output path for .npy file: LUNA16/Luna Output/subset3/1.3.6.1.4.1.14519.5.2.1.6279.6001.100620385482151095585000946543.npy\n",
      "Saved: LUNA16/Luna Output/subset3/1.3.6.1.4.1.14519.5.2.1.6279.6001.100620385482151095585000946543.npy\n",
      "\n",
      "Processing file: LUNA16/Dataset/subset3/1.3.6.1.4.1.14519.5.2.1.6279.6001.202476538079060560282495099956.mhd\n",
      "SeriesUID for current file: 1.3.6.1.4.1.14519.5.2.1.6279.6001.202476538079060560282495099956\n",
      "Found 475 nodes for seriesuid: 1.3.6.1.4.1.14519.5.2.1.6279.6001.202476538079060560282495099956\n",
      "Image array shape: (122, 512, 512)\n",
      "Output path for .npy file: LUNA16/Luna Output/subset3/1.3.6.1.4.1.14519.5.2.1.6279.6001.202476538079060560282495099956.npy\n"
     ]
    },
    {
     "name": "stderr",
     "output_type": "stream",
     "text": [
      "\r",
      " 36%|██████████████▊                          | 321/888 [01:35<02:02,  4.63it/s]"
     ]
    },
    {
     "name": "stdout",
     "output_type": "stream",
     "text": [
      "Saved: LUNA16/Luna Output/subset3/1.3.6.1.4.1.14519.5.2.1.6279.6001.202476538079060560282495099956.npy\n",
      "\n",
      "Processing file: LUNA16/Dataset/subset3/1.3.6.1.4.1.14519.5.2.1.6279.6001.254254303842550572473665729969.mhd\n",
      "SeriesUID for current file: 1.3.6.1.4.1.14519.5.2.1.6279.6001.254254303842550572473665729969\n",
      "Found 1266 nodes for seriesuid: 1.3.6.1.4.1.14519.5.2.1.6279.6001.254254303842550572473665729969\n",
      "Image array shape: (183, 512, 512)\n",
      "Output path for .npy file: LUNA16/Luna Output/subset3/1.3.6.1.4.1.14519.5.2.1.6279.6001.254254303842550572473665729969.npy\n"
     ]
    },
    {
     "name": "stderr",
     "output_type": "stream",
     "text": [
      "\r",
      " 36%|██████████████▊                          | 322/888 [01:35<02:02,  4.61it/s]"
     ]
    },
    {
     "name": "stdout",
     "output_type": "stream",
     "text": [
      "Saved: LUNA16/Luna Output/subset3/1.3.6.1.4.1.14519.5.2.1.6279.6001.254254303842550572473665729969.npy\n",
      "\n",
      "Processing file: LUNA16/Dataset/subset3/1.3.6.1.4.1.14519.5.2.1.6279.6001.219349715895470349269596532320.mhd\n",
      "SeriesUID for current file: 1.3.6.1.4.1.14519.5.2.1.6279.6001.219349715895470349269596532320\n",
      "Found 215 nodes for seriesuid: 1.3.6.1.4.1.14519.5.2.1.6279.6001.219349715895470349269596532320\n",
      "Image array shape: (244, 512, 512)\n",
      "Output path for .npy file: LUNA16/Luna Output/subset3/1.3.6.1.4.1.14519.5.2.1.6279.6001.219349715895470349269596532320.npy\n"
     ]
    },
    {
     "name": "stderr",
     "output_type": "stream",
     "text": [
      "\r",
      " 36%|██████████████▉                          | 323/888 [01:36<02:07,  4.43it/s]"
     ]
    },
    {
     "name": "stdout",
     "output_type": "stream",
     "text": [
      "Saved: LUNA16/Luna Output/subset3/1.3.6.1.4.1.14519.5.2.1.6279.6001.219349715895470349269596532320.npy\n",
      "\n",
      "Processing file: LUNA16/Dataset/subset3/1.3.6.1.4.1.14519.5.2.1.6279.6001.123697637451437522065941162930.mhd\n",
      "SeriesUID for current file: 1.3.6.1.4.1.14519.5.2.1.6279.6001.123697637451437522065941162930\n",
      "Found 358 nodes for seriesuid: 1.3.6.1.4.1.14519.5.2.1.6279.6001.123697637451437522065941162930\n",
      "Image array shape: (244, 512, 512)\n",
      "Output path for .npy file: LUNA16/Luna Output/subset3/1.3.6.1.4.1.14519.5.2.1.6279.6001.123697637451437522065941162930.npy\n"
     ]
    },
    {
     "name": "stderr",
     "output_type": "stream",
     "text": [
      "\r",
      " 36%|██████████████▉                          | 324/888 [01:36<02:17,  4.09it/s]"
     ]
    },
    {
     "name": "stdout",
     "output_type": "stream",
     "text": [
      "Saved: LUNA16/Luna Output/subset3/1.3.6.1.4.1.14519.5.2.1.6279.6001.123697637451437522065941162930.npy\n",
      "\n",
      "Processing file: LUNA16/Dataset/subset3/1.3.6.1.4.1.14519.5.2.1.6279.6001.276556509002726404418399209377.mhd\n",
      "SeriesUID for current file: 1.3.6.1.4.1.14519.5.2.1.6279.6001.276556509002726404418399209377\n",
      "Found 889 nodes for seriesuid: 1.3.6.1.4.1.14519.5.2.1.6279.6001.276556509002726404418399209377\n",
      "Image array shape: (185, 512, 512)\n",
      "Output path for .npy file: LUNA16/Luna Output/subset3/1.3.6.1.4.1.14519.5.2.1.6279.6001.276556509002726404418399209377.npy\n"
     ]
    },
    {
     "name": "stderr",
     "output_type": "stream",
     "text": [
      "\r",
      " 37%|███████████████                          | 325/888 [01:36<02:15,  4.16it/s]"
     ]
    },
    {
     "name": "stdout",
     "output_type": "stream",
     "text": [
      "Saved: LUNA16/Luna Output/subset3/1.3.6.1.4.1.14519.5.2.1.6279.6001.276556509002726404418399209377.npy\n",
      "\n",
      "Processing file: LUNA16/Dataset/subset3/1.3.6.1.4.1.14519.5.2.1.6279.6001.205852555362702089950453265567.mhd\n",
      "SeriesUID for current file: 1.3.6.1.4.1.14519.5.2.1.6279.6001.205852555362702089950453265567\n",
      "Found 509 nodes for seriesuid: 1.3.6.1.4.1.14519.5.2.1.6279.6001.205852555362702089950453265567\n",
      "Image array shape: (490, 512, 512)\n",
      "Output path for .npy file: LUNA16/Luna Output/subset3/1.3.6.1.4.1.14519.5.2.1.6279.6001.205852555362702089950453265567.npy\n"
     ]
    },
    {
     "name": "stderr",
     "output_type": "stream",
     "text": [
      "\r",
      " 37%|███████████████                          | 326/888 [01:37<03:54,  2.40it/s]"
     ]
    },
    {
     "name": "stdout",
     "output_type": "stream",
     "text": [
      "Saved: LUNA16/Luna Output/subset3/1.3.6.1.4.1.14519.5.2.1.6279.6001.205852555362702089950453265567.npy\n",
      "\n",
      "Processing file: LUNA16/Dataset/subset3/1.3.6.1.4.1.14519.5.2.1.6279.6001.969607480572818589276327766720.mhd\n",
      "SeriesUID for current file: 1.3.6.1.4.1.14519.5.2.1.6279.6001.969607480572818589276327766720\n",
      "Found 541 nodes for seriesuid: 1.3.6.1.4.1.14519.5.2.1.6279.6001.969607480572818589276327766720\n",
      "Image array shape: (177, 512, 512)\n",
      "Output path for .npy file: LUNA16/Luna Output/subset3/1.3.6.1.4.1.14519.5.2.1.6279.6001.969607480572818589276327766720.npy\n"
     ]
    },
    {
     "name": "stderr",
     "output_type": "stream",
     "text": [
      "\r",
      " 37%|███████████████                          | 327/888 [01:37<03:21,  2.79it/s]"
     ]
    },
    {
     "name": "stdout",
     "output_type": "stream",
     "text": [
      "Saved: LUNA16/Luna Output/subset3/1.3.6.1.4.1.14519.5.2.1.6279.6001.969607480572818589276327766720.npy\n",
      "\n",
      "Processing file: LUNA16/Dataset/subset3/1.3.6.1.4.1.14519.5.2.1.6279.6001.625270601160880745954773142570.mhd\n",
      "SeriesUID for current file: 1.3.6.1.4.1.14519.5.2.1.6279.6001.625270601160880745954773142570\n",
      "Found 1091 nodes for seriesuid: 1.3.6.1.4.1.14519.5.2.1.6279.6001.625270601160880745954773142570\n",
      "Image array shape: (248, 512, 512)\n",
      "Output path for .npy file: LUNA16/Luna Output/subset3/1.3.6.1.4.1.14519.5.2.1.6279.6001.625270601160880745954773142570.npy\n"
     ]
    },
    {
     "name": "stderr",
     "output_type": "stream",
     "text": [
      "\r",
      " 37%|███████████████▏                         | 328/888 [01:37<03:01,  3.08it/s]"
     ]
    },
    {
     "name": "stdout",
     "output_type": "stream",
     "text": [
      "Saved: LUNA16/Luna Output/subset3/1.3.6.1.4.1.14519.5.2.1.6279.6001.625270601160880745954773142570.npy\n",
      "\n",
      "Processing file: LUNA16/Dataset/subset3/1.3.6.1.4.1.14519.5.2.1.6279.6001.293593766328917170359373773080.mhd\n",
      "SeriesUID for current file: 1.3.6.1.4.1.14519.5.2.1.6279.6001.293593766328917170359373773080\n",
      "Found 748 nodes for seriesuid: 1.3.6.1.4.1.14519.5.2.1.6279.6001.293593766328917170359373773080\n",
      "Image array shape: (413, 512, 512)\n",
      "Output path for .npy file: LUNA16/Luna Output/subset3/1.3.6.1.4.1.14519.5.2.1.6279.6001.293593766328917170359373773080.npy\n"
     ]
    },
    {
     "name": "stderr",
     "output_type": "stream",
     "text": [
      "\r",
      " 37%|███████████████▏                         | 329/888 [01:38<03:25,  2.73it/s]"
     ]
    },
    {
     "name": "stdout",
     "output_type": "stream",
     "text": [
      "Saved: LUNA16/Luna Output/subset3/1.3.6.1.4.1.14519.5.2.1.6279.6001.293593766328917170359373773080.npy\n",
      "\n",
      "Processing file: LUNA16/Dataset/subset3/1.3.6.1.4.1.14519.5.2.1.6279.6001.404768898286087278137462774930.mhd\n",
      "SeriesUID for current file: 1.3.6.1.4.1.14519.5.2.1.6279.6001.404768898286087278137462774930\n",
      "Found 955 nodes for seriesuid: 1.3.6.1.4.1.14519.5.2.1.6279.6001.404768898286087278137462774930\n",
      "Image array shape: (250, 512, 512)\n",
      "Output path for .npy file: LUNA16/Luna Output/subset3/1.3.6.1.4.1.14519.5.2.1.6279.6001.404768898286087278137462774930.npy\n"
     ]
    },
    {
     "name": "stderr",
     "output_type": "stream",
     "text": [
      " 37%|███████████████▎                         | 331/888 [01:38<02:30,  3.71it/s]"
     ]
    },
    {
     "name": "stdout",
     "output_type": "stream",
     "text": [
      "Saved: LUNA16/Luna Output/subset3/1.3.6.1.4.1.14519.5.2.1.6279.6001.404768898286087278137462774930.npy\n",
      "\n",
      "Processing file: LUNA16/Dataset/subset3/1.3.6.1.4.1.14519.5.2.1.6279.6001.822128649427327893802314908658.mhd\n",
      "SeriesUID for current file: 1.3.6.1.4.1.14519.5.2.1.6279.6001.822128649427327893802314908658\n",
      "Found 899 nodes for seriesuid: 1.3.6.1.4.1.14519.5.2.1.6279.6001.822128649427327893802314908658\n",
      "Image array shape: (131, 512, 512)\n",
      "Output path for .npy file: LUNA16/Luna Output/subset3/1.3.6.1.4.1.14519.5.2.1.6279.6001.822128649427327893802314908658.npy\n",
      "Saved: LUNA16/Luna Output/subset3/1.3.6.1.4.1.14519.5.2.1.6279.6001.822128649427327893802314908658.npy\n",
      "\n",
      "Processing file: LUNA16/Dataset/subset3/1.3.6.1.4.1.14519.5.2.1.6279.6001.202464973819273687476049035824.mhd\n",
      "SeriesUID for current file: 1.3.6.1.4.1.14519.5.2.1.6279.6001.202464973819273687476049035824\n",
      "Found 855 nodes for seriesuid: 1.3.6.1.4.1.14519.5.2.1.6279.6001.202464973819273687476049035824\n",
      "Image array shape: (513, 512, 512)\n",
      "Output path for .npy file: LUNA16/Luna Output/subset3/1.3.6.1.4.1.14519.5.2.1.6279.6001.202464973819273687476049035824.npy\n"
     ]
    },
    {
     "name": "stderr",
     "output_type": "stream",
     "text": [
      "\r",
      " 37%|███████████████▎                         | 332/888 [01:39<03:34,  2.59it/s]"
     ]
    },
    {
     "name": "stdout",
     "output_type": "stream",
     "text": [
      "Saved: LUNA16/Luna Output/subset3/1.3.6.1.4.1.14519.5.2.1.6279.6001.202464973819273687476049035824.npy\n",
      "\n",
      "Processing file: LUNA16/Dataset/subset3/1.3.6.1.4.1.14519.5.2.1.6279.6001.323541312620128092852212458228.mhd\n",
      "SeriesUID for current file: 1.3.6.1.4.1.14519.5.2.1.6279.6001.323541312620128092852212458228\n",
      "Found 1026 nodes for seriesuid: 1.3.6.1.4.1.14519.5.2.1.6279.6001.323541312620128092852212458228\n",
      "Image array shape: (241, 512, 512)\n",
      "Output path for .npy file: LUNA16/Luna Output/subset3/1.3.6.1.4.1.14519.5.2.1.6279.6001.323541312620128092852212458228.npy\n"
     ]
    },
    {
     "name": "stderr",
     "output_type": "stream",
     "text": [
      "\r",
      " 38%|███████████████▍                         | 333/888 [01:39<03:29,  2.64it/s]"
     ]
    },
    {
     "name": "stdout",
     "output_type": "stream",
     "text": [
      "Saved: LUNA16/Luna Output/subset3/1.3.6.1.4.1.14519.5.2.1.6279.6001.323541312620128092852212458228.npy\n",
      "\n",
      "Processing file: LUNA16/Dataset/subset3/1.3.6.1.4.1.14519.5.2.1.6279.6001.244447966386688625240438849169.mhd\n",
      "SeriesUID for current file: 1.3.6.1.4.1.14519.5.2.1.6279.6001.244447966386688625240438849169\n",
      "Found 1127 nodes for seriesuid: 1.3.6.1.4.1.14519.5.2.1.6279.6001.244447966386688625240438849169\n",
      "Image array shape: (272, 512, 512)\n",
      "Output path for .npy file: LUNA16/Luna Output/subset3/1.3.6.1.4.1.14519.5.2.1.6279.6001.244447966386688625240438849169.npy\n"
     ]
    },
    {
     "name": "stderr",
     "output_type": "stream",
     "text": [
      "\r",
      " 38%|███████████████▍                         | 334/888 [01:40<03:22,  2.73it/s]"
     ]
    },
    {
     "name": "stdout",
     "output_type": "stream",
     "text": [
      "Saved: LUNA16/Luna Output/subset3/1.3.6.1.4.1.14519.5.2.1.6279.6001.244447966386688625240438849169.npy\n",
      "\n",
      "Processing file: LUNA16/Dataset/subset3/1.3.6.1.4.1.14519.5.2.1.6279.6001.710845873679853791427022019413.mhd\n",
      "SeriesUID for current file: 1.3.6.1.4.1.14519.5.2.1.6279.6001.710845873679853791427022019413\n",
      "Found 240 nodes for seriesuid: 1.3.6.1.4.1.14519.5.2.1.6279.6001.710845873679853791427022019413\n",
      "Image array shape: (244, 512, 512)\n",
      "Output path for .npy file: LUNA16/Luna Output/subset3/1.3.6.1.4.1.14519.5.2.1.6279.6001.710845873679853791427022019413.npy\n"
     ]
    },
    {
     "name": "stderr",
     "output_type": "stream",
     "text": [
      " 38%|███████████████▌                         | 336/888 [01:40<02:34,  3.58it/s]"
     ]
    },
    {
     "name": "stdout",
     "output_type": "stream",
     "text": [
      "Saved: LUNA16/Luna Output/subset3/1.3.6.1.4.1.14519.5.2.1.6279.6001.710845873679853791427022019413.npy\n",
      "\n",
      "Processing file: LUNA16/Dataset/subset3/1.3.6.1.4.1.14519.5.2.1.6279.6001.487745546557477250336016826588.mhd\n",
      "SeriesUID for current file: 1.3.6.1.4.1.14519.5.2.1.6279.6001.487745546557477250336016826588\n",
      "Found 1134 nodes for seriesuid: 1.3.6.1.4.1.14519.5.2.1.6279.6001.487745546557477250336016826588\n",
      "Image array shape: (137, 512, 512)\n",
      "Output path for .npy file: LUNA16/Luna Output/subset3/1.3.6.1.4.1.14519.5.2.1.6279.6001.487745546557477250336016826588.npy\n",
      "Saved: LUNA16/Luna Output/subset3/1.3.6.1.4.1.14519.5.2.1.6279.6001.487745546557477250336016826588.npy\n",
      "\n",
      "Processing file: LUNA16/Dataset/subset3/1.3.6.1.4.1.14519.5.2.1.6279.6001.321465552859463184018938648244.mhd\n",
      "SeriesUID for current file: 1.3.6.1.4.1.14519.5.2.1.6279.6001.321465552859463184018938648244\n",
      "Found 713 nodes for seriesuid: 1.3.6.1.4.1.14519.5.2.1.6279.6001.321465552859463184018938648244\n"
     ]
    },
    {
     "name": "stderr",
     "output_type": "stream",
     "text": [
      "\r",
      " 38%|███████████████▌                         | 337/888 [01:40<02:18,  3.97it/s]"
     ]
    },
    {
     "name": "stdout",
     "output_type": "stream",
     "text": [
      "Image array shape: (180, 512, 512)\n",
      "Output path for .npy file: LUNA16/Luna Output/subset3/1.3.6.1.4.1.14519.5.2.1.6279.6001.321465552859463184018938648244.npy\n",
      "Saved: LUNA16/Luna Output/subset3/1.3.6.1.4.1.14519.5.2.1.6279.6001.321465552859463184018938648244.npy\n",
      "\n",
      "Processing file: LUNA16/Dataset/subset3/1.3.6.1.4.1.14519.5.2.1.6279.6001.145474881373882284343459153872.mhd\n",
      "SeriesUID for current file: 1.3.6.1.4.1.14519.5.2.1.6279.6001.145474881373882284343459153872\n",
      "Found 617 nodes for seriesuid: 1.3.6.1.4.1.14519.5.2.1.6279.6001.145474881373882284343459153872\n",
      "Image array shape: (123, 512, 512)\n",
      "Output path for .npy file: LUNA16/Luna Output/subset3/1.3.6.1.4.1.14519.5.2.1.6279.6001.145474881373882284343459153872.npy\n"
     ]
    },
    {
     "name": "stderr",
     "output_type": "stream",
     "text": [
      "\r",
      " 38%|███████████████▌                         | 338/888 [01:40<02:00,  4.58it/s]"
     ]
    },
    {
     "name": "stdout",
     "output_type": "stream",
     "text": [
      "Saved: LUNA16/Luna Output/subset3/1.3.6.1.4.1.14519.5.2.1.6279.6001.145474881373882284343459153872.npy\n",
      "\n",
      "Processing file: LUNA16/Dataset/subset3/1.3.6.1.4.1.14519.5.2.1.6279.6001.162845309248822193437735868939.mhd\n",
      "SeriesUID for current file: 1.3.6.1.4.1.14519.5.2.1.6279.6001.162845309248822193437735868939\n",
      "Found 775 nodes for seriesuid: 1.3.6.1.4.1.14519.5.2.1.6279.6001.162845309248822193437735868939\n",
      "Image array shape: (764, 512, 512)\n",
      "Output path for .npy file: LUNA16/Luna Output/subset3/1.3.6.1.4.1.14519.5.2.1.6279.6001.162845309248822193437735868939.npy\n"
     ]
    },
    {
     "name": "stderr",
     "output_type": "stream",
     "text": [
      "\r",
      " 38%|███████████████▋                         | 339/888 [01:41<04:01,  2.28it/s]"
     ]
    },
    {
     "name": "stdout",
     "output_type": "stream",
     "text": [
      "Saved: LUNA16/Luna Output/subset3/1.3.6.1.4.1.14519.5.2.1.6279.6001.162845309248822193437735868939.npy\n",
      "\n",
      "Processing file: LUNA16/Dataset/subset3/1.3.6.1.4.1.14519.5.2.1.6279.6001.324567010179873305471925391582.mhd\n",
      "SeriesUID for current file: 1.3.6.1.4.1.14519.5.2.1.6279.6001.324567010179873305471925391582\n",
      "Found 869 nodes for seriesuid: 1.3.6.1.4.1.14519.5.2.1.6279.6001.324567010179873305471925391582\n"
     ]
    },
    {
     "name": "stderr",
     "output_type": "stream",
     "text": [
      "\r",
      " 38%|███████████████▋                         | 340/888 [01:42<03:54,  2.34it/s]"
     ]
    },
    {
     "name": "stdout",
     "output_type": "stream",
     "text": [
      "Image array shape: (301, 512, 512)\n",
      "Output path for .npy file: LUNA16/Luna Output/subset3/1.3.6.1.4.1.14519.5.2.1.6279.6001.324567010179873305471925391582.npy\n",
      "Saved: LUNA16/Luna Output/subset3/1.3.6.1.4.1.14519.5.2.1.6279.6001.324567010179873305471925391582.npy\n",
      "\n",
      "Processing file: LUNA16/Dataset/subset3/1.3.6.1.4.1.14519.5.2.1.6279.6001.126631670596873065041988320084.mhd\n",
      "SeriesUID for current file: 1.3.6.1.4.1.14519.5.2.1.6279.6001.126631670596873065041988320084\n",
      "Found 1110 nodes for seriesuid: 1.3.6.1.4.1.14519.5.2.1.6279.6001.126631670596873065041988320084\n"
     ]
    },
    {
     "name": "stderr",
     "output_type": "stream",
     "text": [
      "\r",
      " 38%|███████████████▋                         | 341/888 [01:42<03:27,  2.63it/s]"
     ]
    },
    {
     "name": "stdout",
     "output_type": "stream",
     "text": [
      "Image array shape: (272, 512, 512)\n",
      "Output path for .npy file: LUNA16/Luna Output/subset3/1.3.6.1.4.1.14519.5.2.1.6279.6001.126631670596873065041988320084.npy\n",
      "Saved: LUNA16/Luna Output/subset3/1.3.6.1.4.1.14519.5.2.1.6279.6001.126631670596873065041988320084.npy\n",
      "\n",
      "Processing file: LUNA16/Dataset/subset3/1.3.6.1.4.1.14519.5.2.1.6279.6001.277662902666135640561346462196.mhd\n",
      "SeriesUID for current file: 1.3.6.1.4.1.14519.5.2.1.6279.6001.277662902666135640561346462196\n",
      "Found 714 nodes for seriesuid: 1.3.6.1.4.1.14519.5.2.1.6279.6001.277662902666135640561346462196\n",
      "Image array shape: (497, 512, 512)\n",
      "Output path for .npy file: LUNA16/Luna Output/subset3/1.3.6.1.4.1.14519.5.2.1.6279.6001.277662902666135640561346462196.npy\n"
     ]
    },
    {
     "name": "stderr",
     "output_type": "stream",
     "text": [
      "\r",
      " 39%|███████████████▊                         | 342/888 [01:42<03:47,  2.40it/s]"
     ]
    },
    {
     "name": "stdout",
     "output_type": "stream",
     "text": [
      "Saved: LUNA16/Luna Output/subset3/1.3.6.1.4.1.14519.5.2.1.6279.6001.277662902666135640561346462196.npy\n",
      "\n",
      "Processing file: LUNA16/Dataset/subset3/1.3.6.1.4.1.14519.5.2.1.6279.6001.961063442349005937536597225349.mhd\n",
      "SeriesUID for current file: 1.3.6.1.4.1.14519.5.2.1.6279.6001.961063442349005937536597225349\n",
      "Found 856 nodes for seriesuid: 1.3.6.1.4.1.14519.5.2.1.6279.6001.961063442349005937536597225349\n",
      "Image array shape: (452, 512, 512)\n",
      "Output path for .npy file: LUNA16/Luna Output/subset3/1.3.6.1.4.1.14519.5.2.1.6279.6001.961063442349005937536597225349.npy\n"
     ]
    },
    {
     "name": "stderr",
     "output_type": "stream",
     "text": [
      "\r",
      " 39%|███████████████▊                         | 343/888 [01:43<04:06,  2.21it/s]"
     ]
    },
    {
     "name": "stdout",
     "output_type": "stream",
     "text": [
      "Saved: LUNA16/Luna Output/subset3/1.3.6.1.4.1.14519.5.2.1.6279.6001.961063442349005937536597225349.npy\n",
      "\n",
      "Processing file: LUNA16/Dataset/subset3/1.3.6.1.4.1.14519.5.2.1.6279.6001.208511362832825683639135205368.mhd\n",
      "SeriesUID for current file: 1.3.6.1.4.1.14519.5.2.1.6279.6001.208511362832825683639135205368\n",
      "Found 774 nodes for seriesuid: 1.3.6.1.4.1.14519.5.2.1.6279.6001.208511362832825683639135205368\n",
      "Image array shape: (481, 512, 512)\n",
      "Output path for .npy file: LUNA16/Luna Output/subset3/1.3.6.1.4.1.14519.5.2.1.6279.6001.208511362832825683639135205368.npy\n"
     ]
    },
    {
     "name": "stderr",
     "output_type": "stream",
     "text": [
      "\r",
      " 39%|███████████████▉                         | 344/888 [01:44<04:29,  2.02it/s]"
     ]
    },
    {
     "name": "stdout",
     "output_type": "stream",
     "text": [
      "Saved: LUNA16/Luna Output/subset3/1.3.6.1.4.1.14519.5.2.1.6279.6001.208511362832825683639135205368.npy\n",
      "\n",
      "Processing file: LUNA16/Dataset/subset3/1.3.6.1.4.1.14519.5.2.1.6279.6001.171667800241622018839592854574.mhd\n",
      "SeriesUID for current file: 1.3.6.1.4.1.14519.5.2.1.6279.6001.171667800241622018839592854574\n",
      "Found 1057 nodes for seriesuid: 1.3.6.1.4.1.14519.5.2.1.6279.6001.171667800241622018839592854574\n",
      "Image array shape: (238, 512, 512)\n",
      "Output path for .npy file: LUNA16/Luna Output/subset3/1.3.6.1.4.1.14519.5.2.1.6279.6001.171667800241622018839592854574.npy\n"
     ]
    },
    {
     "name": "stderr",
     "output_type": "stream",
     "text": [
      "\r",
      " 39%|███████████████▉                         | 345/888 [01:44<03:51,  2.35it/s]"
     ]
    },
    {
     "name": "stdout",
     "output_type": "stream",
     "text": [
      "Saved: LUNA16/Luna Output/subset3/1.3.6.1.4.1.14519.5.2.1.6279.6001.171667800241622018839592854574.npy\n",
      "\n",
      "Processing file: LUNA16/Dataset/subset3/1.3.6.1.4.1.14519.5.2.1.6279.6001.324290109423920971676288828329.mhd\n",
      "SeriesUID for current file: 1.3.6.1.4.1.14519.5.2.1.6279.6001.324290109423920971676288828329\n",
      "Found 1274 nodes for seriesuid: 1.3.6.1.4.1.14519.5.2.1.6279.6001.324290109423920971676288828329\n",
      "Image array shape: (383, 512, 512)\n",
      "Output path for .npy file: LUNA16/Luna Output/subset3/1.3.6.1.4.1.14519.5.2.1.6279.6001.324290109423920971676288828329.npy\n"
     ]
    },
    {
     "name": "stderr",
     "output_type": "stream",
     "text": [
      "\r",
      " 39%|███████████████▉                         | 346/888 [01:44<03:52,  2.33it/s]"
     ]
    },
    {
     "name": "stdout",
     "output_type": "stream",
     "text": [
      "Saved: LUNA16/Luna Output/subset3/1.3.6.1.4.1.14519.5.2.1.6279.6001.324290109423920971676288828329.npy\n",
      "\n",
      "Processing file: LUNA16/Dataset/subset3/1.3.6.1.4.1.14519.5.2.1.6279.6001.237428977311365557972720635401.mhd\n",
      "SeriesUID for current file: 1.3.6.1.4.1.14519.5.2.1.6279.6001.237428977311365557972720635401\n",
      "Found 990 nodes for seriesuid: 1.3.6.1.4.1.14519.5.2.1.6279.6001.237428977311365557972720635401\n",
      "Image array shape: (238, 512, 512)\n",
      "Output path for .npy file: LUNA16/Luna Output/subset3/1.3.6.1.4.1.14519.5.2.1.6279.6001.237428977311365557972720635401.npy\n"
     ]
    },
    {
     "name": "stderr",
     "output_type": "stream",
     "text": [
      "\r",
      " 39%|████████████████                         | 347/888 [01:45<03:30,  2.57it/s]"
     ]
    },
    {
     "name": "stdout",
     "output_type": "stream",
     "text": [
      "Saved: LUNA16/Luna Output/subset3/1.3.6.1.4.1.14519.5.2.1.6279.6001.237428977311365557972720635401.npy\n",
      "\n",
      "Processing file: LUNA16/Dataset/subset3/1.3.6.1.4.1.14519.5.2.1.6279.6001.481278873893653517789960724156.mhd\n",
      "SeriesUID for current file: 1.3.6.1.4.1.14519.5.2.1.6279.6001.481278873893653517789960724156\n",
      "Found 1144 nodes for seriesuid: 1.3.6.1.4.1.14519.5.2.1.6279.6001.481278873893653517789960724156\n",
      "Image array shape: (114, 512, 512)\n",
      "Output path for .npy file: LUNA16/Luna Output/subset3/1.3.6.1.4.1.14519.5.2.1.6279.6001.481278873893653517789960724156.npy\n",
      "Saved: LUNA16/Luna Output/subset3/1.3.6.1.4.1.14519.5.2.1.6279.6001.481278873893653517789960724156.npy\n"
     ]
    },
    {
     "name": "stderr",
     "output_type": "stream",
     "text": [
      "\r",
      " 39%|████████████████                         | 348/888 [01:45<02:59,  3.01it/s]"
     ]
    },
    {
     "name": "stdout",
     "output_type": "stream",
     "text": [
      "\n",
      "Processing file: LUNA16/Dataset/subset3/1.3.6.1.4.1.14519.5.2.1.6279.6001.225227615446398900698431118292.mhd\n",
      "SeriesUID for current file: 1.3.6.1.4.1.14519.5.2.1.6279.6001.225227615446398900698431118292\n",
      "Found 1475 nodes for seriesuid: 1.3.6.1.4.1.14519.5.2.1.6279.6001.225227615446398900698431118292\n",
      "Image array shape: (484, 512, 512)\n",
      "Output path for .npy file: LUNA16/Luna Output/subset3/1.3.6.1.4.1.14519.5.2.1.6279.6001.225227615446398900698431118292.npy\n"
     ]
    },
    {
     "name": "stderr",
     "output_type": "stream",
     "text": [
      "\r",
      " 39%|████████████████                         | 349/888 [01:45<04:04,  2.21it/s]"
     ]
    },
    {
     "name": "stdout",
     "output_type": "stream",
     "text": [
      "Saved: LUNA16/Luna Output/subset3/1.3.6.1.4.1.14519.5.2.1.6279.6001.225227615446398900698431118292.npy\n",
      "\n",
      "Processing file: LUNA16/Dataset/subset3/1.3.6.1.4.1.14519.5.2.1.6279.6001.179730018513720561213088132029.mhd\n",
      "SeriesUID for current file: 1.3.6.1.4.1.14519.5.2.1.6279.6001.179730018513720561213088132029\n",
      "Found 1032 nodes for seriesuid: 1.3.6.1.4.1.14519.5.2.1.6279.6001.179730018513720561213088132029\n",
      "Image array shape: (259, 512, 512)\n",
      "Output path for .npy file: LUNA16/Luna Output/subset3/1.3.6.1.4.1.14519.5.2.1.6279.6001.179730018513720561213088132029.npy\n"
     ]
    },
    {
     "name": "stderr",
     "output_type": "stream",
     "text": [
      "\r",
      " 39%|████████████████▏                        | 350/888 [01:46<03:58,  2.26it/s]"
     ]
    },
    {
     "name": "stdout",
     "output_type": "stream",
     "text": [
      "Saved: LUNA16/Luna Output/subset3/1.3.6.1.4.1.14519.5.2.1.6279.6001.179730018513720561213088132029.npy\n",
      "\n",
      "Processing file: LUNA16/Dataset/subset3/1.3.6.1.4.1.14519.5.2.1.6279.6001.167919147233131417984739058859.mhd\n",
      "SeriesUID for current file: 1.3.6.1.4.1.14519.5.2.1.6279.6001.167919147233131417984739058859\n",
      "Found 1533 nodes for seriesuid: 1.3.6.1.4.1.14519.5.2.1.6279.6001.167919147233131417984739058859\n",
      "Image array shape: (269, 512, 512)\n",
      "Output path for .npy file: LUNA16/Luna Output/subset3/1.3.6.1.4.1.14519.5.2.1.6279.6001.167919147233131417984739058859.npy\n"
     ]
    },
    {
     "name": "stderr",
     "output_type": "stream",
     "text": [
      "\r",
      " 40%|████████████████▏                        | 351/888 [01:46<03:39,  2.45it/s]"
     ]
    },
    {
     "name": "stdout",
     "output_type": "stream",
     "text": [
      "Saved: LUNA16/Luna Output/subset3/1.3.6.1.4.1.14519.5.2.1.6279.6001.167919147233131417984739058859.npy\n",
      "\n",
      "Processing file: LUNA16/Dataset/subset3/1.3.6.1.4.1.14519.5.2.1.6279.6001.202187810895588720702176009630.mhd\n",
      "SeriesUID for current file: 1.3.6.1.4.1.14519.5.2.1.6279.6001.202187810895588720702176009630\n",
      "Found 1418 nodes for seriesuid: 1.3.6.1.4.1.14519.5.2.1.6279.6001.202187810895588720702176009630\n",
      "Image array shape: (264, 512, 512)\n",
      "Output path for .npy file: LUNA16/Luna Output/subset3/1.3.6.1.4.1.14519.5.2.1.6279.6001.202187810895588720702176009630.npy\n"
     ]
    },
    {
     "name": "stderr",
     "output_type": "stream",
     "text": [
      " 40%|████████████████▎                        | 353/888 [01:47<02:45,  3.23it/s]"
     ]
    },
    {
     "name": "stdout",
     "output_type": "stream",
     "text": [
      "Saved: LUNA16/Luna Output/subset3/1.3.6.1.4.1.14519.5.2.1.6279.6001.202187810895588720702176009630.npy\n",
      "\n",
      "Processing file: LUNA16/Dataset/subset3/1.3.6.1.4.1.14519.5.2.1.6279.6001.197063290812663596858124411210.mhd\n",
      "SeriesUID for current file: 1.3.6.1.4.1.14519.5.2.1.6279.6001.197063290812663596858124411210\n",
      "Found 765 nodes for seriesuid: 1.3.6.1.4.1.14519.5.2.1.6279.6001.197063290812663596858124411210\n",
      "Image array shape: (133, 512, 512)\n",
      "Output path for .npy file: LUNA16/Luna Output/subset3/1.3.6.1.4.1.14519.5.2.1.6279.6001.197063290812663596858124411210.npy\n",
      "Saved: LUNA16/Luna Output/subset3/1.3.6.1.4.1.14519.5.2.1.6279.6001.197063290812663596858124411210.npy\n",
      "\n",
      "Processing file: LUNA16/Dataset/subset3/1.3.6.1.4.1.14519.5.2.1.6279.6001.148447286464082095534651426689.mhd\n",
      "SeriesUID for current file: 1.3.6.1.4.1.14519.5.2.1.6279.6001.148447286464082095534651426689\n",
      "Found 646 nodes for seriesuid: 1.3.6.1.4.1.14519.5.2.1.6279.6001.148447286464082095534651426689\n"
     ]
    },
    {
     "name": "stderr",
     "output_type": "stream",
     "text": [
      "\r",
      " 40%|████████████████▎                        | 354/888 [01:47<02:34,  3.46it/s]"
     ]
    },
    {
     "name": "stdout",
     "output_type": "stream",
     "text": [
      "Image array shape: (220, 512, 512)\n",
      "Output path for .npy file: LUNA16/Luna Output/subset3/1.3.6.1.4.1.14519.5.2.1.6279.6001.148447286464082095534651426689.npy\n",
      "Saved: LUNA16/Luna Output/subset3/1.3.6.1.4.1.14519.5.2.1.6279.6001.148447286464082095534651426689.npy\n",
      "\n",
      "Processing file: LUNA16/Dataset/subset3/1.3.6.1.4.1.14519.5.2.1.6279.6001.177985905159808659201278495182.mhd\n",
      "SeriesUID for current file: 1.3.6.1.4.1.14519.5.2.1.6279.6001.177985905159808659201278495182\n",
      "Found 440 nodes for seriesuid: 1.3.6.1.4.1.14519.5.2.1.6279.6001.177985905159808659201278495182\n"
     ]
    },
    {
     "name": "stderr",
     "output_type": "stream",
     "text": [
      "\r",
      " 40%|████████████████▍                        | 355/888 [01:47<02:11,  4.05it/s]"
     ]
    },
    {
     "name": "stdout",
     "output_type": "stream",
     "text": [
      "Image array shape: (133, 512, 512)\n",
      "Output path for .npy file: LUNA16/Luna Output/subset3/1.3.6.1.4.1.14519.5.2.1.6279.6001.177985905159808659201278495182.npy\n",
      "Saved: LUNA16/Luna Output/subset3/1.3.6.1.4.1.14519.5.2.1.6279.6001.177985905159808659201278495182.npy\n",
      "\n",
      "Processing file: LUNA16/Dataset/subset3/1.3.6.1.4.1.14519.5.2.1.6279.6001.199069398344356765037879821616.mhd\n",
      "SeriesUID for current file: 1.3.6.1.4.1.14519.5.2.1.6279.6001.199069398344356765037879821616\n",
      "Found 384 nodes for seriesuid: 1.3.6.1.4.1.14519.5.2.1.6279.6001.199069398344356765037879821616\n",
      "Image array shape: (472, 512, 512)\n",
      "Output path for .npy file: LUNA16/Luna Output/subset3/1.3.6.1.4.1.14519.5.2.1.6279.6001.199069398344356765037879821616.npy\n"
     ]
    },
    {
     "name": "stderr",
     "output_type": "stream",
     "text": [
      "\r",
      " 40%|████████████████▍                        | 356/888 [01:48<03:15,  2.73it/s]"
     ]
    },
    {
     "name": "stdout",
     "output_type": "stream",
     "text": [
      "Saved: LUNA16/Luna Output/subset3/1.3.6.1.4.1.14519.5.2.1.6279.6001.199069398344356765037879821616.npy\n",
      "\n",
      "Processing file: LUNA16/Dataset/subset4/1.3.6.1.4.1.14519.5.2.1.6279.6001.103115201714075993579787468219.mhd\n",
      "SeriesUID for current file: 1.3.6.1.4.1.14519.5.2.1.6279.6001.103115201714075993579787468219\n",
      "Found 688 nodes for seriesuid: 1.3.6.1.4.1.14519.5.2.1.6279.6001.103115201714075993579787468219\n",
      "Image array shape: (219, 512, 512)\n",
      "Output path for .npy file: LUNA16/Luna Output/subset4/1.3.6.1.4.1.14519.5.2.1.6279.6001.103115201714075993579787468219.npy\n"
     ]
    },
    {
     "name": "stderr",
     "output_type": "stream",
     "text": [
      "\r",
      " 40%|████████████████▍                        | 357/888 [01:48<03:01,  2.92it/s]"
     ]
    },
    {
     "name": "stdout",
     "output_type": "stream",
     "text": [
      "Saved: LUNA16/Luna Output/subset4/1.3.6.1.4.1.14519.5.2.1.6279.6001.103115201714075993579787468219.npy\n",
      "\n",
      "Processing file: LUNA16/Dataset/subset4/1.3.6.1.4.1.14519.5.2.1.6279.6001.185226274332527104841463955058.mhd\n",
      "SeriesUID for current file: 1.3.6.1.4.1.14519.5.2.1.6279.6001.185226274332527104841463955058\n",
      "Found 1542 nodes for seriesuid: 1.3.6.1.4.1.14519.5.2.1.6279.6001.185226274332527104841463955058\n",
      "Image array shape: (240, 512, 512)\n",
      "Output path for .npy file: LUNA16/Luna Output/subset4/1.3.6.1.4.1.14519.5.2.1.6279.6001.185226274332527104841463955058.npy\n"
     ]
    },
    {
     "name": "stderr",
     "output_type": "stream",
     "text": [
      " 40%|████████████████▌                        | 359/888 [01:48<02:18,  3.82it/s]"
     ]
    },
    {
     "name": "stdout",
     "output_type": "stream",
     "text": [
      "Saved: LUNA16/Luna Output/subset4/1.3.6.1.4.1.14519.5.2.1.6279.6001.185226274332527104841463955058.npy\n",
      "\n",
      "Processing file: LUNA16/Dataset/subset4/1.3.6.1.4.1.14519.5.2.1.6279.6001.339546614783708685476232944897.mhd\n",
      "SeriesUID for current file: 1.3.6.1.4.1.14519.5.2.1.6279.6001.339546614783708685476232944897\n",
      "Found 870 nodes for seriesuid: 1.3.6.1.4.1.14519.5.2.1.6279.6001.339546614783708685476232944897\n",
      "Image array shape: (109, 512, 512)\n",
      "Output path for .npy file: LUNA16/Luna Output/subset4/1.3.6.1.4.1.14519.5.2.1.6279.6001.339546614783708685476232944897.npy\n",
      "Saved: LUNA16/Luna Output/subset4/1.3.6.1.4.1.14519.5.2.1.6279.6001.339546614783708685476232944897.npy\n",
      "\n",
      "Processing file: LUNA16/Dataset/subset4/1.3.6.1.4.1.14519.5.2.1.6279.6001.211956804948320236390242845468.mhd\n",
      "SeriesUID for current file: 1.3.6.1.4.1.14519.5.2.1.6279.6001.211956804948320236390242845468\n",
      "Found 1643 nodes for seriesuid: 1.3.6.1.4.1.14519.5.2.1.6279.6001.211956804948320236390242845468\n",
      "Image array shape: (350, 512, 512)\n",
      "Output path for .npy file: LUNA16/Luna Output/subset4/1.3.6.1.4.1.14519.5.2.1.6279.6001.211956804948320236390242845468.npy\n"
     ]
    },
    {
     "name": "stderr",
     "output_type": "stream",
     "text": [
      "\r",
      " 41%|████████████████▌                        | 360/888 [01:49<03:08,  2.80it/s]"
     ]
    },
    {
     "name": "stdout",
     "output_type": "stream",
     "text": [
      "Saved: LUNA16/Luna Output/subset4/1.3.6.1.4.1.14519.5.2.1.6279.6001.211956804948320236390242845468.npy\n",
      "\n",
      "Processing file: LUNA16/Dataset/subset4/1.3.6.1.4.1.14519.5.2.1.6279.6001.670107649586205629860363487713.mhd\n",
      "SeriesUID for current file: 1.3.6.1.4.1.14519.5.2.1.6279.6001.670107649586205629860363487713\n",
      "Found 700 nodes for seriesuid: 1.3.6.1.4.1.14519.5.2.1.6279.6001.670107649586205629860363487713\n",
      "Image array shape: (240, 512, 512)\n",
      "Output path for .npy file: LUNA16/Luna Output/subset4/1.3.6.1.4.1.14519.5.2.1.6279.6001.670107649586205629860363487713.npy\n"
     ]
    },
    {
     "name": "stderr",
     "output_type": "stream",
     "text": [
      "\r",
      " 41%|████████████████▋                        | 361/888 [01:49<03:03,  2.86it/s]"
     ]
    },
    {
     "name": "stdout",
     "output_type": "stream",
     "text": [
      "Saved: LUNA16/Luna Output/subset4/1.3.6.1.4.1.14519.5.2.1.6279.6001.670107649586205629860363487713.npy\n",
      "\n",
      "Processing file: LUNA16/Dataset/subset4/1.3.6.1.4.1.14519.5.2.1.6279.6001.897684031374557757145405000951.mhd\n",
      "SeriesUID for current file: 1.3.6.1.4.1.14519.5.2.1.6279.6001.897684031374557757145405000951\n",
      "Found 1655 nodes for seriesuid: 1.3.6.1.4.1.14519.5.2.1.6279.6001.897684031374557757145405000951\n",
      "Image array shape: (235, 512, 512)\n",
      "Output path for .npy file: LUNA16/Luna Output/subset4/1.3.6.1.4.1.14519.5.2.1.6279.6001.897684031374557757145405000951.npy\n"
     ]
    },
    {
     "name": "stderr",
     "output_type": "stream",
     "text": [
      " 41%|████████████████▊                        | 363/888 [01:50<02:23,  3.67it/s]"
     ]
    },
    {
     "name": "stdout",
     "output_type": "stream",
     "text": [
      "Saved: LUNA16/Luna Output/subset4/1.3.6.1.4.1.14519.5.2.1.6279.6001.897684031374557757145405000951.npy\n",
      "\n",
      "Processing file: LUNA16/Dataset/subset4/1.3.6.1.4.1.14519.5.2.1.6279.6001.248357157975955379661896491341.mhd\n",
      "SeriesUID for current file: 1.3.6.1.4.1.14519.5.2.1.6279.6001.248357157975955379661896491341\n",
      "Found 745 nodes for seriesuid: 1.3.6.1.4.1.14519.5.2.1.6279.6001.248357157975955379661896491341\n",
      "Image array shape: (117, 512, 512)\n",
      "Output path for .npy file: LUNA16/Luna Output/subset4/1.3.6.1.4.1.14519.5.2.1.6279.6001.248357157975955379661896491341.npy\n",
      "Saved: LUNA16/Luna Output/subset4/1.3.6.1.4.1.14519.5.2.1.6279.6001.248357157975955379661896491341.npy\n",
      "\n",
      "Processing file: LUNA16/Dataset/subset4/1.3.6.1.4.1.14519.5.2.1.6279.6001.438308540025607517017949816111.mhd\n",
      "SeriesUID for current file: 1.3.6.1.4.1.14519.5.2.1.6279.6001.438308540025607517017949816111\n",
      "Found 726 nodes for seriesuid: 1.3.6.1.4.1.14519.5.2.1.6279.6001.438308540025607517017949816111\n"
     ]
    },
    {
     "name": "stderr",
     "output_type": "stream",
     "text": [
      "\r",
      " 41%|████████████████▊                        | 364/888 [01:50<02:10,  4.01it/s]"
     ]
    },
    {
     "name": "stdout",
     "output_type": "stream",
     "text": [
      "Image array shape: (142, 512, 512)\n",
      "Output path for .npy file: LUNA16/Luna Output/subset4/1.3.6.1.4.1.14519.5.2.1.6279.6001.438308540025607517017949816111.npy\n",
      "Saved: LUNA16/Luna Output/subset4/1.3.6.1.4.1.14519.5.2.1.6279.6001.438308540025607517017949816111.npy\n",
      "\n",
      "Processing file: LUNA16/Dataset/subset4/1.3.6.1.4.1.14519.5.2.1.6279.6001.265775376735520890308424143898.mhd\n",
      "SeriesUID for current file: 1.3.6.1.4.1.14519.5.2.1.6279.6001.265775376735520890308424143898\n",
      "Found 950 nodes for seriesuid: 1.3.6.1.4.1.14519.5.2.1.6279.6001.265775376735520890308424143898\n",
      "Image array shape: (300, 512, 512)\n",
      "Output path for .npy file: LUNA16/Luna Output/subset4/1.3.6.1.4.1.14519.5.2.1.6279.6001.265775376735520890308424143898.npy\n"
     ]
    },
    {
     "name": "stderr",
     "output_type": "stream",
     "text": [
      " 41%|████████████████▉                        | 366/888 [01:51<02:19,  3.75it/s]"
     ]
    },
    {
     "name": "stdout",
     "output_type": "stream",
     "text": [
      "Saved: LUNA16/Luna Output/subset4/1.3.6.1.4.1.14519.5.2.1.6279.6001.265775376735520890308424143898.npy\n",
      "\n",
      "Processing file: LUNA16/Dataset/subset4/1.3.6.1.4.1.14519.5.2.1.6279.6001.329326052298830421573852261436.mhd\n",
      "SeriesUID for current file: 1.3.6.1.4.1.14519.5.2.1.6279.6001.329326052298830421573852261436\n",
      "Found 461 nodes for seriesuid: 1.3.6.1.4.1.14519.5.2.1.6279.6001.329326052298830421573852261436\n",
      "Image array shape: (116, 512, 512)\n",
      "Output path for .npy file: LUNA16/Luna Output/subset4/1.3.6.1.4.1.14519.5.2.1.6279.6001.329326052298830421573852261436.npy\n",
      "Saved: LUNA16/Luna Output/subset4/1.3.6.1.4.1.14519.5.2.1.6279.6001.329326052298830421573852261436.npy\n",
      "\n",
      "Processing file: LUNA16/Dataset/subset4/1.3.6.1.4.1.14519.5.2.1.6279.6001.204802250386343794613980417281.mhd\n",
      "SeriesUID for current file: 1.3.6.1.4.1.14519.5.2.1.6279.6001.204802250386343794613980417281\n",
      "Found 651 nodes for seriesuid: 1.3.6.1.4.1.14519.5.2.1.6279.6001.204802250386343794613980417281\n",
      "Image array shape: (348, 512, 512)\n",
      "Output path for .npy file: LUNA16/Luna Output/subset4/1.3.6.1.4.1.14519.5.2.1.6279.6001.204802250386343794613980417281.npy\n"
     ]
    },
    {
     "name": "stderr",
     "output_type": "stream",
     "text": [
      "\r",
      " 41%|████████████████▉                        | 367/888 [01:51<02:44,  3.17it/s]"
     ]
    },
    {
     "name": "stdout",
     "output_type": "stream",
     "text": [
      "Saved: LUNA16/Luna Output/subset4/1.3.6.1.4.1.14519.5.2.1.6279.6001.204802250386343794613980417281.npy\n",
      "\n",
      "Processing file: LUNA16/Dataset/subset4/1.3.6.1.4.1.14519.5.2.1.6279.6001.173101104804533997398137418032.mhd\n",
      "SeriesUID for current file: 1.3.6.1.4.1.14519.5.2.1.6279.6001.173101104804533997398137418032\n",
      "Found 1322 nodes for seriesuid: 1.3.6.1.4.1.14519.5.2.1.6279.6001.173101104804533997398137418032\n",
      "Image array shape: (538, 512, 512)\n",
      "Output path for .npy file: LUNA16/Luna Output/subset4/1.3.6.1.4.1.14519.5.2.1.6279.6001.173101104804533997398137418032.npy\n"
     ]
    },
    {
     "name": "stderr",
     "output_type": "stream",
     "text": [
      "\r",
      " 41%|████████████████▉                        | 368/888 [01:52<03:56,  2.20it/s]"
     ]
    },
    {
     "name": "stdout",
     "output_type": "stream",
     "text": [
      "Saved: LUNA16/Luna Output/subset4/1.3.6.1.4.1.14519.5.2.1.6279.6001.173101104804533997398137418032.npy\n",
      "\n",
      "Processing file: LUNA16/Dataset/subset4/1.3.6.1.4.1.14519.5.2.1.6279.6001.209269973797560820442292189762.mhd\n",
      "SeriesUID for current file: 1.3.6.1.4.1.14519.5.2.1.6279.6001.209269973797560820442292189762\n",
      "Found 893 nodes for seriesuid: 1.3.6.1.4.1.14519.5.2.1.6279.6001.209269973797560820442292189762\n",
      "Image array shape: (423, 512, 512)\n",
      "Output path for .npy file: LUNA16/Luna Output/subset4/1.3.6.1.4.1.14519.5.2.1.6279.6001.209269973797560820442292189762.npy\n"
     ]
    },
    {
     "name": "stderr",
     "output_type": "stream",
     "text": [
      " 42%|█████████████████                        | 370/888 [01:52<03:25,  2.52it/s]"
     ]
    },
    {
     "name": "stdout",
     "output_type": "stream",
     "text": [
      "Saved: LUNA16/Luna Output/subset4/1.3.6.1.4.1.14519.5.2.1.6279.6001.209269973797560820442292189762.npy\n",
      "\n",
      "Processing file: LUNA16/Dataset/subset4/1.3.6.1.4.1.14519.5.2.1.6279.6001.307835307280028057486413359377.mhd\n",
      "SeriesUID for current file: 1.3.6.1.4.1.14519.5.2.1.6279.6001.307835307280028057486413359377\n",
      "Found 1022 nodes for seriesuid: 1.3.6.1.4.1.14519.5.2.1.6279.6001.307835307280028057486413359377\n",
      "Image array shape: (133, 512, 512)\n",
      "Output path for .npy file: LUNA16/Luna Output/subset4/1.3.6.1.4.1.14519.5.2.1.6279.6001.307835307280028057486413359377.npy\n",
      "Saved: LUNA16/Luna Output/subset4/1.3.6.1.4.1.14519.5.2.1.6279.6001.307835307280028057486413359377.npy\n",
      "\n",
      "Processing file: LUNA16/Dataset/subset4/1.3.6.1.4.1.14519.5.2.1.6279.6001.161855583909753609742728521805.mhd\n",
      "SeriesUID for current file: 1.3.6.1.4.1.14519.5.2.1.6279.6001.161855583909753609742728521805\n",
      "Found 1119 nodes for seriesuid: 1.3.6.1.4.1.14519.5.2.1.6279.6001.161855583909753609742728521805\n",
      "Image array shape: (260, 512, 512)\n",
      "Output path for .npy file: LUNA16/Luna Output/subset4/1.3.6.1.4.1.14519.5.2.1.6279.6001.161855583909753609742728521805.npy\n"
     ]
    },
    {
     "name": "stderr",
     "output_type": "stream",
     "text": [
      "\r",
      " 42%|█████████████████▏                       | 371/888 [01:53<03:04,  2.81it/s]"
     ]
    },
    {
     "name": "stdout",
     "output_type": "stream",
     "text": [
      "Saved: LUNA16/Luna Output/subset4/1.3.6.1.4.1.14519.5.2.1.6279.6001.161855583909753609742728521805.npy\n",
      "\n",
      "Processing file: LUNA16/Dataset/subset4/1.3.6.1.4.1.14519.5.2.1.6279.6001.385151742584074711135621089321.mhd\n",
      "SeriesUID for current file: 1.3.6.1.4.1.14519.5.2.1.6279.6001.385151742584074711135621089321\n",
      "Found 975 nodes for seriesuid: 1.3.6.1.4.1.14519.5.2.1.6279.6001.385151742584074711135621089321\n",
      "Image array shape: (170, 512, 512)\n",
      "Output path for .npy file: LUNA16/Luna Output/subset4/1.3.6.1.4.1.14519.5.2.1.6279.6001.385151742584074711135621089321.npy\n"
     ]
    },
    {
     "name": "stderr",
     "output_type": "stream",
     "text": [
      "\r",
      " 42%|█████████████████▏                       | 372/888 [01:53<02:43,  3.16it/s]"
     ]
    },
    {
     "name": "stdout",
     "output_type": "stream",
     "text": [
      "Saved: LUNA16/Luna Output/subset4/1.3.6.1.4.1.14519.5.2.1.6279.6001.385151742584074711135621089321.npy\n",
      "\n",
      "Processing file: LUNA16/Dataset/subset4/1.3.6.1.4.1.14519.5.2.1.6279.6001.252358625003143649770119512644.mhd\n",
      "SeriesUID for current file: 1.3.6.1.4.1.14519.5.2.1.6279.6001.252358625003143649770119512644\n",
      "Found 860 nodes for seriesuid: 1.3.6.1.4.1.14519.5.2.1.6279.6001.252358625003143649770119512644\n",
      "Image array shape: (503, 512, 512)\n",
      "Output path for .npy file: LUNA16/Luna Output/subset4/1.3.6.1.4.1.14519.5.2.1.6279.6001.252358625003143649770119512644.npy\n"
     ]
    },
    {
     "name": "stderr",
     "output_type": "stream",
     "text": [
      "\r",
      " 42%|█████████████████▏                       | 373/888 [01:54<03:43,  2.30it/s]"
     ]
    },
    {
     "name": "stdout",
     "output_type": "stream",
     "text": [
      "Saved: LUNA16/Luna Output/subset4/1.3.6.1.4.1.14519.5.2.1.6279.6001.252358625003143649770119512644.npy\n",
      "\n",
      "Processing file: LUNA16/Dataset/subset4/1.3.6.1.4.1.14519.5.2.1.6279.6001.100530488926682752765845212286.mhd\n",
      "SeriesUID for current file: 1.3.6.1.4.1.14519.5.2.1.6279.6001.100530488926682752765845212286\n",
      "Found 472 nodes for seriesuid: 1.3.6.1.4.1.14519.5.2.1.6279.6001.100530488926682752765845212286\n",
      "Image array shape: (471, 512, 512)\n",
      "Output path for .npy file: LUNA16/Luna Output/subset4/1.3.6.1.4.1.14519.5.2.1.6279.6001.100530488926682752765845212286.npy\n"
     ]
    },
    {
     "name": "stderr",
     "output_type": "stream",
     "text": [
      "\r",
      " 42%|█████████████████▎                       | 374/888 [01:54<04:16,  2.01it/s]"
     ]
    },
    {
     "name": "stdout",
     "output_type": "stream",
     "text": [
      "Saved: LUNA16/Luna Output/subset4/1.3.6.1.4.1.14519.5.2.1.6279.6001.100530488926682752765845212286.npy\n",
      "\n",
      "Processing file: LUNA16/Dataset/subset4/1.3.6.1.4.1.14519.5.2.1.6279.6001.304676828064484590312919543151.mhd\n",
      "SeriesUID for current file: 1.3.6.1.4.1.14519.5.2.1.6279.6001.304676828064484590312919543151\n",
      "Found 447 nodes for seriesuid: 1.3.6.1.4.1.14519.5.2.1.6279.6001.304676828064484590312919543151\n",
      "Image array shape: (273, 512, 512)\n",
      "Output path for .npy file: LUNA16/Luna Output/subset4/1.3.6.1.4.1.14519.5.2.1.6279.6001.304676828064484590312919543151.npy\n"
     ]
    },
    {
     "name": "stderr",
     "output_type": "stream",
     "text": [
      "\r",
      " 42%|█████████████████▎                       | 375/888 [01:55<03:55,  2.18it/s]"
     ]
    },
    {
     "name": "stdout",
     "output_type": "stream",
     "text": [
      "Saved: LUNA16/Luna Output/subset4/1.3.6.1.4.1.14519.5.2.1.6279.6001.304676828064484590312919543151.npy\n",
      "\n",
      "Processing file: LUNA16/Dataset/subset4/1.3.6.1.4.1.14519.5.2.1.6279.6001.312704771348460502013249647868.mhd\n",
      "SeriesUID for current file: 1.3.6.1.4.1.14519.5.2.1.6279.6001.312704771348460502013249647868\n",
      "Found 1245 nodes for seriesuid: 1.3.6.1.4.1.14519.5.2.1.6279.6001.312704771348460502013249647868\n",
      "Image array shape: (249, 512, 512)\n",
      "Output path for .npy file: LUNA16/Luna Output/subset4/1.3.6.1.4.1.14519.5.2.1.6279.6001.312704771348460502013249647868.npy\n"
     ]
    },
    {
     "name": "stderr",
     "output_type": "stream",
     "text": [
      "\r",
      " 42%|█████████████████▎                       | 376/888 [01:55<03:34,  2.38it/s]"
     ]
    },
    {
     "name": "stdout",
     "output_type": "stream",
     "text": [
      "Saved: LUNA16/Luna Output/subset4/1.3.6.1.4.1.14519.5.2.1.6279.6001.312704771348460502013249647868.npy\n",
      "\n",
      "Processing file: LUNA16/Dataset/subset4/1.3.6.1.4.1.14519.5.2.1.6279.6001.265960756233787099041040311282.mhd\n",
      "SeriesUID for current file: 1.3.6.1.4.1.14519.5.2.1.6279.6001.265960756233787099041040311282\n",
      "Found 1051 nodes for seriesuid: 1.3.6.1.4.1.14519.5.2.1.6279.6001.265960756233787099041040311282\n",
      "Image array shape: (535, 512, 512)\n",
      "Output path for .npy file: LUNA16/Luna Output/subset4/1.3.6.1.4.1.14519.5.2.1.6279.6001.265960756233787099041040311282.npy\n"
     ]
    },
    {
     "name": "stderr",
     "output_type": "stream",
     "text": [
      "\r",
      " 42%|█████████████████▍                       | 377/888 [01:56<04:08,  2.06it/s]"
     ]
    },
    {
     "name": "stdout",
     "output_type": "stream",
     "text": [
      "Saved: LUNA16/Luna Output/subset4/1.3.6.1.4.1.14519.5.2.1.6279.6001.265960756233787099041040311282.npy\n",
      "\n",
      "Processing file: LUNA16/Dataset/subset4/1.3.6.1.4.1.14519.5.2.1.6279.6001.198698492013538481395497694975.mhd\n",
      "SeriesUID for current file: 1.3.6.1.4.1.14519.5.2.1.6279.6001.198698492013538481395497694975\n",
      "Found 748 nodes for seriesuid: 1.3.6.1.4.1.14519.5.2.1.6279.6001.198698492013538481395497694975\n",
      "Image array shape: (149, 512, 512)\n",
      "Output path for .npy file: LUNA16/Luna Output/subset4/1.3.6.1.4.1.14519.5.2.1.6279.6001.198698492013538481395497694975.npy\n"
     ]
    },
    {
     "name": "stderr",
     "output_type": "stream",
     "text": [
      " 43%|█████████████████▍                       | 379/888 [01:56<02:48,  3.02it/s]"
     ]
    },
    {
     "name": "stdout",
     "output_type": "stream",
     "text": [
      "Saved: LUNA16/Luna Output/subset4/1.3.6.1.4.1.14519.5.2.1.6279.6001.198698492013538481395497694975.npy\n",
      "\n",
      "Processing file: LUNA16/Dataset/subset4/1.3.6.1.4.1.14519.5.2.1.6279.6001.320967206808467952819309001585.mhd\n",
      "SeriesUID for current file: 1.3.6.1.4.1.14519.5.2.1.6279.6001.320967206808467952819309001585\n",
      "Found 792 nodes for seriesuid: 1.3.6.1.4.1.14519.5.2.1.6279.6001.320967206808467952819309001585\n",
      "Image array shape: (133, 512, 512)\n",
      "Output path for .npy file: LUNA16/Luna Output/subset4/1.3.6.1.4.1.14519.5.2.1.6279.6001.320967206808467952819309001585.npy\n",
      "Saved: LUNA16/Luna Output/subset4/1.3.6.1.4.1.14519.5.2.1.6279.6001.320967206808467952819309001585.npy\n",
      "\n",
      "Processing file: LUNA16/Dataset/subset4/1.3.6.1.4.1.14519.5.2.1.6279.6001.316393351033132458296975008261.mhd\n",
      "SeriesUID for current file: 1.3.6.1.4.1.14519.5.2.1.6279.6001.316393351033132458296975008261\n",
      "Found 367 nodes for seriesuid: 1.3.6.1.4.1.14519.5.2.1.6279.6001.316393351033132458296975008261\n"
     ]
    },
    {
     "name": "stderr",
     "output_type": "stream",
     "text": [
      "\r",
      " 43%|█████████████████▌                       | 380/888 [01:56<02:43,  3.10it/s]"
     ]
    },
    {
     "name": "stdout",
     "output_type": "stream",
     "text": [
      "Image array shape: (238, 512, 512)\n",
      "Output path for .npy file: LUNA16/Luna Output/subset4/1.3.6.1.4.1.14519.5.2.1.6279.6001.316393351033132458296975008261.npy\n",
      "Saved: LUNA16/Luna Output/subset4/1.3.6.1.4.1.14519.5.2.1.6279.6001.316393351033132458296975008261.npy\n",
      "\n",
      "Processing file: LUNA16/Dataset/subset4/1.3.6.1.4.1.14519.5.2.1.6279.6001.304700823314998198591652152637.mhd\n",
      "SeriesUID for current file: 1.3.6.1.4.1.14519.5.2.1.6279.6001.304700823314998198591652152637\n",
      "Found 710 nodes for seriesuid: 1.3.6.1.4.1.14519.5.2.1.6279.6001.304700823314998198591652152637\n"
     ]
    },
    {
     "name": "stderr",
     "output_type": "stream",
     "text": [
      "\r",
      " 43%|█████████████████▌                       | 381/888 [01:57<02:29,  3.40it/s]"
     ]
    },
    {
     "name": "stdout",
     "output_type": "stream",
     "text": [
      "Image array shape: (198, 512, 512)\n",
      "Output path for .npy file: LUNA16/Luna Output/subset4/1.3.6.1.4.1.14519.5.2.1.6279.6001.304700823314998198591652152637.npy\n",
      "Saved: LUNA16/Luna Output/subset4/1.3.6.1.4.1.14519.5.2.1.6279.6001.304700823314998198591652152637.npy\n",
      "\n",
      "Processing file: LUNA16/Dataset/subset4/1.3.6.1.4.1.14519.5.2.1.6279.6001.164988920331211858091402361989.mhd\n",
      "SeriesUID for current file: 1.3.6.1.4.1.14519.5.2.1.6279.6001.164988920331211858091402361989\n",
      "Found 1310 nodes for seriesuid: 1.3.6.1.4.1.14519.5.2.1.6279.6001.164988920331211858091402361989\n",
      "Image array shape: (478, 512, 512)\n",
      "Output path for .npy file: LUNA16/Luna Output/subset4/1.3.6.1.4.1.14519.5.2.1.6279.6001.164988920331211858091402361989.npy\n"
     ]
    },
    {
     "name": "stderr",
     "output_type": "stream",
     "text": [
      "\r",
      " 43%|█████████████████▋                       | 382/888 [01:57<03:37,  2.33it/s]"
     ]
    },
    {
     "name": "stdout",
     "output_type": "stream",
     "text": [
      "Saved: LUNA16/Luna Output/subset4/1.3.6.1.4.1.14519.5.2.1.6279.6001.164988920331211858091402361989.npy\n",
      "\n",
      "Processing file: LUNA16/Dataset/subset4/1.3.6.1.4.1.14519.5.2.1.6279.6001.333319057944372470283038483725.mhd\n",
      "SeriesUID for current file: 1.3.6.1.4.1.14519.5.2.1.6279.6001.333319057944372470283038483725\n",
      "Found 208 nodes for seriesuid: 1.3.6.1.4.1.14519.5.2.1.6279.6001.333319057944372470283038483725\n",
      "Image array shape: (242, 512, 512)\n",
      "Output path for .npy file: LUNA16/Luna Output/subset4/1.3.6.1.4.1.14519.5.2.1.6279.6001.333319057944372470283038483725.npy\n"
     ]
    },
    {
     "name": "stderr",
     "output_type": "stream",
     "text": [
      "\r",
      " 43%|█████████████████▋                       | 383/888 [01:58<03:21,  2.51it/s]"
     ]
    },
    {
     "name": "stdout",
     "output_type": "stream",
     "text": [
      "Saved: LUNA16/Luna Output/subset4/1.3.6.1.4.1.14519.5.2.1.6279.6001.333319057944372470283038483725.npy\n",
      "\n",
      "Processing file: LUNA16/Dataset/subset4/1.3.6.1.4.1.14519.5.2.1.6279.6001.390009458146468860187238398197.mhd\n",
      "SeriesUID for current file: 1.3.6.1.4.1.14519.5.2.1.6279.6001.390009458146468860187238398197\n",
      "Found 410 nodes for seriesuid: 1.3.6.1.4.1.14519.5.2.1.6279.6001.390009458146468860187238398197\n",
      "Image array shape: (264, 512, 512)\n",
      "Output path for .npy file: LUNA16/Luna Output/subset4/1.3.6.1.4.1.14519.5.2.1.6279.6001.390009458146468860187238398197.npy\n"
     ]
    },
    {
     "name": "stderr",
     "output_type": "stream",
     "text": [
      "\r",
      " 43%|█████████████████▋                       | 384/888 [01:58<03:10,  2.64it/s]"
     ]
    },
    {
     "name": "stdout",
     "output_type": "stream",
     "text": [
      "Saved: LUNA16/Luna Output/subset4/1.3.6.1.4.1.14519.5.2.1.6279.6001.390009458146468860187238398197.npy\n",
      "\n",
      "Processing file: LUNA16/Dataset/subset4/1.3.6.1.4.1.14519.5.2.1.6279.6001.631047517458234322522264161877.mhd\n",
      "SeriesUID for current file: 1.3.6.1.4.1.14519.5.2.1.6279.6001.631047517458234322522264161877\n",
      "Found 1005 nodes for seriesuid: 1.3.6.1.4.1.14519.5.2.1.6279.6001.631047517458234322522264161877\n"
     ]
    },
    {
     "name": "stderr",
     "output_type": "stream",
     "text": [
      "\r",
      " 43%|█████████████████▊                       | 385/888 [01:58<03:13,  2.60it/s]"
     ]
    },
    {
     "name": "stdout",
     "output_type": "stream",
     "text": [
      "Image array shape: (275, 512, 512)\n",
      "Output path for .npy file: LUNA16/Luna Output/subset4/1.3.6.1.4.1.14519.5.2.1.6279.6001.631047517458234322522264161877.npy\n",
      "Saved: LUNA16/Luna Output/subset4/1.3.6.1.4.1.14519.5.2.1.6279.6001.631047517458234322522264161877.npy\n",
      "\n",
      "Processing file: LUNA16/Dataset/subset4/1.3.6.1.4.1.14519.5.2.1.6279.6001.885168397833922082085837240429.mhd\n",
      "SeriesUID for current file: 1.3.6.1.4.1.14519.5.2.1.6279.6001.885168397833922082085837240429\n",
      "Found 234 nodes for seriesuid: 1.3.6.1.4.1.14519.5.2.1.6279.6001.885168397833922082085837240429\n",
      "Image array shape: (259, 512, 512)\n",
      "Output path for .npy file: LUNA16/Luna Output/subset4/1.3.6.1.4.1.14519.5.2.1.6279.6001.885168397833922082085837240429.npy\n"
     ]
    },
    {
     "name": "stderr",
     "output_type": "stream",
     "text": [
      " 44%|█████████████████▊                       | 387/888 [01:59<02:37,  3.18it/s]"
     ]
    },
    {
     "name": "stdout",
     "output_type": "stream",
     "text": [
      "Saved: LUNA16/Luna Output/subset4/1.3.6.1.4.1.14519.5.2.1.6279.6001.885168397833922082085837240429.npy\n",
      "\n",
      "Processing file: LUNA16/Dataset/subset4/1.3.6.1.4.1.14519.5.2.1.6279.6001.268992195564407418480563388746.mhd\n",
      "SeriesUID for current file: 1.3.6.1.4.1.14519.5.2.1.6279.6001.268992195564407418480563388746\n",
      "Found 1158 nodes for seriesuid: 1.3.6.1.4.1.14519.5.2.1.6279.6001.268992195564407418480563388746\n",
      "Image array shape: (133, 512, 512)\n",
      "Output path for .npy file: LUNA16/Luna Output/subset4/1.3.6.1.4.1.14519.5.2.1.6279.6001.268992195564407418480563388746.npy\n",
      "Saved: LUNA16/Luna Output/subset4/1.3.6.1.4.1.14519.5.2.1.6279.6001.268992195564407418480563388746.npy\n",
      "\n",
      "Processing file: LUNA16/Dataset/subset4/1.3.6.1.4.1.14519.5.2.1.6279.6001.148229375703208214308676934766.mhd\n",
      "SeriesUID for current file: 1.3.6.1.4.1.14519.5.2.1.6279.6001.148229375703208214308676934766\n",
      "Found 1301 nodes for seriesuid: 1.3.6.1.4.1.14519.5.2.1.6279.6001.148229375703208214308676934766\n",
      "Image array shape: (491, 512, 512)\n",
      "Output path for .npy file: LUNA16/Luna Output/subset4/1.3.6.1.4.1.14519.5.2.1.6279.6001.148229375703208214308676934766.npy\n"
     ]
    },
    {
     "name": "stderr",
     "output_type": "stream",
     "text": [
      "\r",
      " 44%|█████████████████▉                       | 388/888 [02:00<03:29,  2.39it/s]"
     ]
    },
    {
     "name": "stdout",
     "output_type": "stream",
     "text": [
      "Saved: LUNA16/Luna Output/subset4/1.3.6.1.4.1.14519.5.2.1.6279.6001.148229375703208214308676934766.npy\n",
      "\n",
      "Processing file: LUNA16/Dataset/subset4/1.3.6.1.4.1.14519.5.2.1.6279.6001.244590453955380448651329424024.mhd\n",
      "SeriesUID for current file: 1.3.6.1.4.1.14519.5.2.1.6279.6001.244590453955380448651329424024\n",
      "Found 790 nodes for seriesuid: 1.3.6.1.4.1.14519.5.2.1.6279.6001.244590453955380448651329424024\n",
      "Image array shape: (421, 512, 512)\n",
      "Output path for .npy file: LUNA16/Luna Output/subset4/1.3.6.1.4.1.14519.5.2.1.6279.6001.244590453955380448651329424024.npy\n"
     ]
    },
    {
     "name": "stderr",
     "output_type": "stream",
     "text": [
      "\r",
      " 44%|█████████████████▉                       | 389/888 [02:00<03:56,  2.11it/s]"
     ]
    },
    {
     "name": "stdout",
     "output_type": "stream",
     "text": [
      "Saved: LUNA16/Luna Output/subset4/1.3.6.1.4.1.14519.5.2.1.6279.6001.244590453955380448651329424024.npy\n",
      "\n",
      "Processing file: LUNA16/Dataset/subset4/1.3.6.1.4.1.14519.5.2.1.6279.6001.119806527488108718706404165837.mhd\n",
      "SeriesUID for current file: 1.3.6.1.4.1.14519.5.2.1.6279.6001.119806527488108718706404165837\n",
      "Found 753 nodes for seriesuid: 1.3.6.1.4.1.14519.5.2.1.6279.6001.119806527488108718706404165837\n",
      "Image array shape: (561, 512, 512)\n",
      "Output path for .npy file: LUNA16/Luna Output/subset4/1.3.6.1.4.1.14519.5.2.1.6279.6001.119806527488108718706404165837.npy\n"
     ]
    },
    {
     "name": "stderr",
     "output_type": "stream",
     "text": [
      "\r",
      " 44%|██████████████████                       | 390/888 [02:01<04:46,  1.74it/s]"
     ]
    },
    {
     "name": "stdout",
     "output_type": "stream",
     "text": [
      "Saved: LUNA16/Luna Output/subset4/1.3.6.1.4.1.14519.5.2.1.6279.6001.119806527488108718706404165837.npy\n",
      "\n",
      "Processing file: LUNA16/Dataset/subset4/1.3.6.1.4.1.14519.5.2.1.6279.6001.449254134266555649028108149727.mhd\n",
      "SeriesUID for current file: 1.3.6.1.4.1.14519.5.2.1.6279.6001.449254134266555649028108149727\n",
      "Found 928 nodes for seriesuid: 1.3.6.1.4.1.14519.5.2.1.6279.6001.449254134266555649028108149727\n",
      "Image array shape: (138, 512, 512)\n",
      "Output path for .npy file: LUNA16/Luna Output/subset4/1.3.6.1.4.1.14519.5.2.1.6279.6001.449254134266555649028108149727.npy\n"
     ]
    },
    {
     "name": "stderr",
     "output_type": "stream",
     "text": [
      "\r",
      " 44%|██████████████████                       | 391/888 [02:01<03:53,  2.13it/s]"
     ]
    },
    {
     "name": "stdout",
     "output_type": "stream",
     "text": [
      "Saved: LUNA16/Luna Output/subset4/1.3.6.1.4.1.14519.5.2.1.6279.6001.449254134266555649028108149727.npy\n",
      "\n",
      "Processing file: LUNA16/Dataset/subset4/1.3.6.1.4.1.14519.5.2.1.6279.6001.214800939017429618305208626314.mhd\n",
      "SeriesUID for current file: 1.3.6.1.4.1.14519.5.2.1.6279.6001.214800939017429618305208626314\n",
      "Found 673 nodes for seriesuid: 1.3.6.1.4.1.14519.5.2.1.6279.6001.214800939017429618305208626314\n",
      "Image array shape: (189, 512, 512)\n",
      "Output path for .npy file: LUNA16/Luna Output/subset4/1.3.6.1.4.1.14519.5.2.1.6279.6001.214800939017429618305208626314.npy\n"
     ]
    },
    {
     "name": "stderr",
     "output_type": "stream",
     "text": [
      "\r",
      " 44%|██████████████████                       | 392/888 [02:01<03:18,  2.50it/s]"
     ]
    },
    {
     "name": "stdout",
     "output_type": "stream",
     "text": [
      "Saved: LUNA16/Luna Output/subset4/1.3.6.1.4.1.14519.5.2.1.6279.6001.214800939017429618305208626314.npy\n",
      "\n",
      "Processing file: LUNA16/Dataset/subset4/1.3.6.1.4.1.14519.5.2.1.6279.6001.218476624578721885561483687176.mhd\n",
      "SeriesUID for current file: 1.3.6.1.4.1.14519.5.2.1.6279.6001.218476624578721885561483687176\n",
      "Found 1135 nodes for seriesuid: 1.3.6.1.4.1.14519.5.2.1.6279.6001.218476624578721885561483687176\n",
      "Image array shape: (247, 512, 512)\n",
      "Output path for .npy file: LUNA16/Luna Output/subset4/1.3.6.1.4.1.14519.5.2.1.6279.6001.218476624578721885561483687176.npy\n"
     ]
    },
    {
     "name": "stderr",
     "output_type": "stream",
     "text": [
      "\r",
      " 44%|██████████████████▏                      | 393/888 [02:02<03:09,  2.62it/s]"
     ]
    },
    {
     "name": "stdout",
     "output_type": "stream",
     "text": [
      "Saved: LUNA16/Luna Output/subset4/1.3.6.1.4.1.14519.5.2.1.6279.6001.218476624578721885561483687176.npy\n",
      "\n",
      "Processing file: LUNA16/Dataset/subset4/1.3.6.1.4.1.14519.5.2.1.6279.6001.177252583002664900748714851615.mhd\n",
      "SeriesUID for current file: 1.3.6.1.4.1.14519.5.2.1.6279.6001.177252583002664900748714851615\n",
      "Found 306 nodes for seriesuid: 1.3.6.1.4.1.14519.5.2.1.6279.6001.177252583002664900748714851615\n",
      "Image array shape: (225, 512, 512)\n",
      "Output path for .npy file: LUNA16/Luna Output/subset4/1.3.6.1.4.1.14519.5.2.1.6279.6001.177252583002664900748714851615.npy\n"
     ]
    },
    {
     "name": "stderr",
     "output_type": "stream",
     "text": [
      " 44%|██████████████████▏                      | 395/888 [02:02<02:31,  3.25it/s]"
     ]
    },
    {
     "name": "stdout",
     "output_type": "stream",
     "text": [
      "Saved: LUNA16/Luna Output/subset4/1.3.6.1.4.1.14519.5.2.1.6279.6001.177252583002664900748714851615.npy\n",
      "\n",
      "Processing file: LUNA16/Dataset/subset4/1.3.6.1.4.1.14519.5.2.1.6279.6001.811825890493256320617655474043.mhd\n",
      "SeriesUID for current file: 1.3.6.1.4.1.14519.5.2.1.6279.6001.811825890493256320617655474043\n",
      "Found 489 nodes for seriesuid: 1.3.6.1.4.1.14519.5.2.1.6279.6001.811825890493256320617655474043\n",
      "Image array shape: (122, 512, 512)\n",
      "Output path for .npy file: LUNA16/Luna Output/subset4/1.3.6.1.4.1.14519.5.2.1.6279.6001.811825890493256320617655474043.npy\n",
      "Saved: LUNA16/Luna Output/subset4/1.3.6.1.4.1.14519.5.2.1.6279.6001.811825890493256320617655474043.npy\n",
      "\n",
      "Processing file: LUNA16/Dataset/subset4/1.3.6.1.4.1.14519.5.2.1.6279.6001.330425234131526435132846006585.mhd\n",
      "SeriesUID for current file: 1.3.6.1.4.1.14519.5.2.1.6279.6001.330425234131526435132846006585\n",
      "Found 482 nodes for seriesuid: 1.3.6.1.4.1.14519.5.2.1.6279.6001.330425234131526435132846006585\n",
      "Image array shape: (305, 512, 512)\n",
      "Output path for .npy file: LUNA16/Luna Output/subset4/1.3.6.1.4.1.14519.5.2.1.6279.6001.330425234131526435132846006585.npy\n"
     ]
    },
    {
     "name": "stderr",
     "output_type": "stream",
     "text": [
      "\r",
      " 45%|██████████████████▎                      | 396/888 [02:03<02:58,  2.76it/s]"
     ]
    },
    {
     "name": "stdout",
     "output_type": "stream",
     "text": [
      "Saved: LUNA16/Luna Output/subset4/1.3.6.1.4.1.14519.5.2.1.6279.6001.330425234131526435132846006585.npy\n",
      "\n",
      "Processing file: LUNA16/Dataset/subset4/1.3.6.1.4.1.14519.5.2.1.6279.6001.216252660192313507027754194207.mhd\n",
      "SeriesUID for current file: 1.3.6.1.4.1.14519.5.2.1.6279.6001.216252660192313507027754194207\n",
      "Found 1169 nodes for seriesuid: 1.3.6.1.4.1.14519.5.2.1.6279.6001.216252660192313507027754194207\n",
      "Image array shape: (268, 512, 512)\n",
      "Output path for .npy file: LUNA16/Luna Output/subset4/1.3.6.1.4.1.14519.5.2.1.6279.6001.216252660192313507027754194207.npy\n"
     ]
    },
    {
     "name": "stderr",
     "output_type": "stream",
     "text": [
      "\r",
      " 45%|██████████████████▎                      | 397/888 [02:03<03:03,  2.68it/s]"
     ]
    },
    {
     "name": "stdout",
     "output_type": "stream",
     "text": [
      "Saved: LUNA16/Luna Output/subset4/1.3.6.1.4.1.14519.5.2.1.6279.6001.216252660192313507027754194207.npy\n",
      "\n",
      "Processing file: LUNA16/Dataset/subset4/1.3.6.1.4.1.14519.5.2.1.6279.6001.797637294244261543517154417124.mhd\n",
      "SeriesUID for current file: 1.3.6.1.4.1.14519.5.2.1.6279.6001.797637294244261543517154417124\n",
      "Found 889 nodes for seriesuid: 1.3.6.1.4.1.14519.5.2.1.6279.6001.797637294244261543517154417124\n",
      "Image array shape: (244, 512, 512)\n",
      "Output path for .npy file: LUNA16/Luna Output/subset4/1.3.6.1.4.1.14519.5.2.1.6279.6001.797637294244261543517154417124.npy\n"
     ]
    },
    {
     "name": "stderr",
     "output_type": "stream",
     "text": [
      "\r",
      " 45%|██████████████████▍                      | 398/888 [02:04<02:56,  2.78it/s]"
     ]
    },
    {
     "name": "stdout",
     "output_type": "stream",
     "text": [
      "Saved: LUNA16/Luna Output/subset4/1.3.6.1.4.1.14519.5.2.1.6279.6001.797637294244261543517154417124.npy\n",
      "\n",
      "Processing file: LUNA16/Dataset/subset4/1.3.6.1.4.1.14519.5.2.1.6279.6001.202643836890896697853521610450.mhd\n",
      "SeriesUID for current file: 1.3.6.1.4.1.14519.5.2.1.6279.6001.202643836890896697853521610450\n",
      "Found 681 nodes for seriesuid: 1.3.6.1.4.1.14519.5.2.1.6279.6001.202643836890896697853521610450\n",
      "Image array shape: (164, 512, 512)\n",
      "Output path for .npy file: LUNA16/Luna Output/subset4/1.3.6.1.4.1.14519.5.2.1.6279.6001.202643836890896697853521610450.npy\n"
     ]
    },
    {
     "name": "stderr",
     "output_type": "stream",
     "text": [
      "\r",
      " 45%|██████████████████▍                      | 399/888 [02:04<02:38,  3.09it/s]"
     ]
    },
    {
     "name": "stdout",
     "output_type": "stream",
     "text": [
      "Saved: LUNA16/Luna Output/subset4/1.3.6.1.4.1.14519.5.2.1.6279.6001.202643836890896697853521610450.npy\n",
      "\n",
      "Processing file: LUNA16/Dataset/subset4/1.3.6.1.4.1.14519.5.2.1.6279.6001.799582546798528864710752164515.mhd\n",
      "SeriesUID for current file: 1.3.6.1.4.1.14519.5.2.1.6279.6001.799582546798528864710752164515\n",
      "Found 1054 nodes for seriesuid: 1.3.6.1.4.1.14519.5.2.1.6279.6001.799582546798528864710752164515\n",
      "Image array shape: (529, 512, 512)\n",
      "Output path for .npy file: LUNA16/Luna Output/subset4/1.3.6.1.4.1.14519.5.2.1.6279.6001.799582546798528864710752164515.npy\n"
     ]
    },
    {
     "name": "stderr",
     "output_type": "stream",
     "text": [
      "\r",
      " 45%|██████████████████▍                      | 400/888 [02:05<03:52,  2.10it/s]"
     ]
    },
    {
     "name": "stdout",
     "output_type": "stream",
     "text": [
      "Saved: LUNA16/Luna Output/subset4/1.3.6.1.4.1.14519.5.2.1.6279.6001.799582546798528864710752164515.npy\n",
      "\n",
      "Processing file: LUNA16/Dataset/subset4/1.3.6.1.4.1.14519.5.2.1.6279.6001.401389720232123950202941034290.mhd\n",
      "SeriesUID for current file: 1.3.6.1.4.1.14519.5.2.1.6279.6001.401389720232123950202941034290\n",
      "Found 1045 nodes for seriesuid: 1.3.6.1.4.1.14519.5.2.1.6279.6001.401389720232123950202941034290\n",
      "Image array shape: (381, 512, 512)\n",
      "Output path for .npy file: LUNA16/Luna Output/subset4/1.3.6.1.4.1.14519.5.2.1.6279.6001.401389720232123950202941034290.npy\n"
     ]
    },
    {
     "name": "stderr",
     "output_type": "stream",
     "text": [
      "\r",
      " 45%|██████████████████▌                      | 401/888 [02:05<04:05,  1.99it/s]"
     ]
    },
    {
     "name": "stdout",
     "output_type": "stream",
     "text": [
      "Saved: LUNA16/Luna Output/subset4/1.3.6.1.4.1.14519.5.2.1.6279.6001.401389720232123950202941034290.npy\n",
      "\n",
      "Processing file: LUNA16/Dataset/subset4/1.3.6.1.4.1.14519.5.2.1.6279.6001.114195693932194925962391697338.mhd\n",
      "SeriesUID for current file: 1.3.6.1.4.1.14519.5.2.1.6279.6001.114195693932194925962391697338\n",
      "Found 677 nodes for seriesuid: 1.3.6.1.4.1.14519.5.2.1.6279.6001.114195693932194925962391697338\n",
      "Image array shape: (255, 512, 512)\n",
      "Output path for .npy file: LUNA16/Luna Output/subset4/1.3.6.1.4.1.14519.5.2.1.6279.6001.114195693932194925962391697338.npy\n"
     ]
    },
    {
     "name": "stderr",
     "output_type": "stream",
     "text": [
      "\r",
      " 45%|██████████████████▌                      | 402/888 [02:06<03:52,  2.09it/s]"
     ]
    },
    {
     "name": "stdout",
     "output_type": "stream",
     "text": [
      "Saved: LUNA16/Luna Output/subset4/1.3.6.1.4.1.14519.5.2.1.6279.6001.114195693932194925962391697338.npy\n",
      "\n",
      "Processing file: LUNA16/Dataset/subset4/1.3.6.1.4.1.14519.5.2.1.6279.6001.270215889102603268207599305185.mhd\n",
      "SeriesUID for current file: 1.3.6.1.4.1.14519.5.2.1.6279.6001.270215889102603268207599305185\n",
      "Found 1017 nodes for seriesuid: 1.3.6.1.4.1.14519.5.2.1.6279.6001.270215889102603268207599305185\n",
      "Image array shape: (564, 512, 512)\n",
      "Output path for .npy file: LUNA16/Luna Output/subset4/1.3.6.1.4.1.14519.5.2.1.6279.6001.270215889102603268207599305185.npy\n"
     ]
    },
    {
     "name": "stderr",
     "output_type": "stream",
     "text": [
      "\r",
      " 45%|██████████████████▌                      | 403/888 [02:06<04:50,  1.67it/s]"
     ]
    },
    {
     "name": "stdout",
     "output_type": "stream",
     "text": [
      "Saved: LUNA16/Luna Output/subset4/1.3.6.1.4.1.14519.5.2.1.6279.6001.270215889102603268207599305185.npy\n",
      "\n",
      "Processing file: LUNA16/Dataset/subset4/1.3.6.1.4.1.14519.5.2.1.6279.6001.910435939545691201820711078950.mhd\n",
      "SeriesUID for current file: 1.3.6.1.4.1.14519.5.2.1.6279.6001.910435939545691201820711078950\n",
      "Found 1038 nodes for seriesuid: 1.3.6.1.4.1.14519.5.2.1.6279.6001.910435939545691201820711078950\n",
      "Image array shape: (133, 512, 512)\n",
      "Output path for .npy file: LUNA16/Luna Output/subset4/1.3.6.1.4.1.14519.5.2.1.6279.6001.910435939545691201820711078950.npy\n"
     ]
    },
    {
     "name": "stderr",
     "output_type": "stream",
     "text": [
      " 46%|██████████████████▋                      | 405/888 [02:07<03:13,  2.50it/s]"
     ]
    },
    {
     "name": "stdout",
     "output_type": "stream",
     "text": [
      "Saved: LUNA16/Luna Output/subset4/1.3.6.1.4.1.14519.5.2.1.6279.6001.910435939545691201820711078950.npy\n",
      "\n",
      "Processing file: LUNA16/Dataset/subset4/1.3.6.1.4.1.14519.5.2.1.6279.6001.463214953282361219537913355115.mhd\n",
      "SeriesUID for current file: 1.3.6.1.4.1.14519.5.2.1.6279.6001.463214953282361219537913355115\n",
      "Found 1478 nodes for seriesuid: 1.3.6.1.4.1.14519.5.2.1.6279.6001.463214953282361219537913355115\n",
      "Image array shape: (115, 512, 512)\n",
      "Output path for .npy file: LUNA16/Luna Output/subset4/1.3.6.1.4.1.14519.5.2.1.6279.6001.463214953282361219537913355115.npy\n",
      "Saved: LUNA16/Luna Output/subset4/1.3.6.1.4.1.14519.5.2.1.6279.6001.463214953282361219537913355115.npy\n",
      "\n",
      "Processing file: LUNA16/Dataset/subset4/1.3.6.1.4.1.14519.5.2.1.6279.6001.303865116731361029078599241306.mhd\n",
      "SeriesUID for current file: 1.3.6.1.4.1.14519.5.2.1.6279.6001.303865116731361029078599241306\n"
     ]
    },
    {
     "name": "stderr",
     "output_type": "stream",
     "text": [
      "\r",
      " 46%|██████████████████▋                      | 406/888 [02:07<02:38,  3.05it/s]"
     ]
    },
    {
     "name": "stdout",
     "output_type": "stream",
     "text": [
      "Found 805 nodes for seriesuid: 1.3.6.1.4.1.14519.5.2.1.6279.6001.303865116731361029078599241306\n",
      "Image array shape: (122, 512, 512)\n",
      "Output path for .npy file: LUNA16/Luna Output/subset4/1.3.6.1.4.1.14519.5.2.1.6279.6001.303865116731361029078599241306.npy\n",
      "Saved: LUNA16/Luna Output/subset4/1.3.6.1.4.1.14519.5.2.1.6279.6001.303865116731361029078599241306.npy\n",
      "\n",
      "Processing file: LUNA16/Dataset/subset4/1.3.6.1.4.1.14519.5.2.1.6279.6001.228511122591230092662900221600.mhd\n",
      "SeriesUID for current file: 1.3.6.1.4.1.14519.5.2.1.6279.6001.228511122591230092662900221600\n",
      "Found 962 nodes for seriesuid: 1.3.6.1.4.1.14519.5.2.1.6279.6001.228511122591230092662900221600\n",
      "Image array shape: (244, 512, 512)\n",
      "Output path for .npy file: LUNA16/Luna Output/subset4/1.3.6.1.4.1.14519.5.2.1.6279.6001.228511122591230092662900221600.npy\n"
     ]
    },
    {
     "name": "stderr",
     "output_type": "stream",
     "text": [
      " 46%|██████████████████▊                      | 408/888 [02:08<02:18,  3.47it/s]"
     ]
    },
    {
     "name": "stdout",
     "output_type": "stream",
     "text": [
      "Saved: LUNA16/Luna Output/subset4/1.3.6.1.4.1.14519.5.2.1.6279.6001.228511122591230092662900221600.npy\n",
      "\n",
      "Processing file: LUNA16/Dataset/subset4/1.3.6.1.4.1.14519.5.2.1.6279.6001.125067060506283419853742462394.mhd\n",
      "SeriesUID for current file: 1.3.6.1.4.1.14519.5.2.1.6279.6001.125067060506283419853742462394\n",
      "Found 592 nodes for seriesuid: 1.3.6.1.4.1.14519.5.2.1.6279.6001.125067060506283419853742462394\n",
      "Image array shape: (130, 512, 512)\n",
      "Output path for .npy file: LUNA16/Luna Output/subset4/1.3.6.1.4.1.14519.5.2.1.6279.6001.125067060506283419853742462394.npy\n",
      "Saved: LUNA16/Luna Output/subset4/1.3.6.1.4.1.14519.5.2.1.6279.6001.125067060506283419853742462394.npy\n",
      "\n",
      "Processing file: LUNA16/Dataset/subset4/1.3.6.1.4.1.14519.5.2.1.6279.6001.390513733720659266816639651938.mhd\n",
      "SeriesUID for current file: 1.3.6.1.4.1.14519.5.2.1.6279.6001.390513733720659266816639651938\n",
      "Found 633 nodes for seriesuid: 1.3.6.1.4.1.14519.5.2.1.6279.6001.390513733720659266816639651938\n",
      "Image array shape: (236, 512, 512)\n",
      "Output path for .npy file: LUNA16/Luna Output/subset4/1.3.6.1.4.1.14519.5.2.1.6279.6001.390513733720659266816639651938.npy\n"
     ]
    },
    {
     "name": "stderr",
     "output_type": "stream",
     "text": [
      "\r",
      " 46%|██████████████████▉                      | 409/888 [02:08<02:16,  3.50it/s]"
     ]
    },
    {
     "name": "stdout",
     "output_type": "stream",
     "text": [
      "Saved: LUNA16/Luna Output/subset4/1.3.6.1.4.1.14519.5.2.1.6279.6001.390513733720659266816639651938.npy\n",
      "\n",
      "Processing file: LUNA16/Dataset/subset4/1.3.6.1.4.1.14519.5.2.1.6279.6001.826829446346820089862659555750.mhd\n",
      "SeriesUID for current file: 1.3.6.1.4.1.14519.5.2.1.6279.6001.826829446346820089862659555750\n",
      "Found 915 nodes for seriesuid: 1.3.6.1.4.1.14519.5.2.1.6279.6001.826829446346820089862659555750\n",
      "Image array shape: (133, 512, 512)\n",
      "Output path for .npy file: LUNA16/Luna Output/subset4/1.3.6.1.4.1.14519.5.2.1.6279.6001.826829446346820089862659555750.npy\n"
     ]
    },
    {
     "name": "stderr",
     "output_type": "stream",
     "text": [
      "\r",
      " 46%|██████████████████▉                      | 410/888 [02:08<02:05,  3.80it/s]"
     ]
    },
    {
     "name": "stdout",
     "output_type": "stream",
     "text": [
      "Saved: LUNA16/Luna Output/subset4/1.3.6.1.4.1.14519.5.2.1.6279.6001.826829446346820089862659555750.npy\n",
      "\n",
      "Processing file: LUNA16/Dataset/subset4/1.3.6.1.4.1.14519.5.2.1.6279.6001.428038562098395445838061018440.mhd\n",
      "SeriesUID for current file: 1.3.6.1.4.1.14519.5.2.1.6279.6001.428038562098395445838061018440\n",
      "Found 772 nodes for seriesuid: 1.3.6.1.4.1.14519.5.2.1.6279.6001.428038562098395445838061018440\n",
      "Image array shape: (539, 512, 512)\n",
      "Output path for .npy file: LUNA16/Luna Output/subset4/1.3.6.1.4.1.14519.5.2.1.6279.6001.428038562098395445838061018440.npy\n"
     ]
    },
    {
     "name": "stderr",
     "output_type": "stream",
     "text": [
      "\r",
      " 46%|██████████████████▉                      | 411/888 [02:09<03:44,  2.12it/s]"
     ]
    },
    {
     "name": "stdout",
     "output_type": "stream",
     "text": [
      "Saved: LUNA16/Luna Output/subset4/1.3.6.1.4.1.14519.5.2.1.6279.6001.428038562098395445838061018440.npy\n",
      "\n",
      "Processing file: LUNA16/Dataset/subset4/1.3.6.1.4.1.14519.5.2.1.6279.6001.205993750485568250373835565680.mhd\n",
      "SeriesUID for current file: 1.3.6.1.4.1.14519.5.2.1.6279.6001.205993750485568250373835565680\n",
      "Found 720 nodes for seriesuid: 1.3.6.1.4.1.14519.5.2.1.6279.6001.205993750485568250373835565680\n",
      "Image array shape: (268, 512, 512)\n",
      "Output path for .npy file: LUNA16/Luna Output/subset4/1.3.6.1.4.1.14519.5.2.1.6279.6001.205993750485568250373835565680.npy\n"
     ]
    },
    {
     "name": "stderr",
     "output_type": "stream",
     "text": [
      "\r",
      " 46%|███████████████████                      | 412/888 [02:09<03:40,  2.16it/s]"
     ]
    },
    {
     "name": "stdout",
     "output_type": "stream",
     "text": [
      "Saved: LUNA16/Luna Output/subset4/1.3.6.1.4.1.14519.5.2.1.6279.6001.205993750485568250373835565680.npy\n",
      "\n",
      "Processing file: LUNA16/Dataset/subset4/1.3.6.1.4.1.14519.5.2.1.6279.6001.211051626197585058967163339846.mhd\n",
      "SeriesUID for current file: 1.3.6.1.4.1.14519.5.2.1.6279.6001.211051626197585058967163339846\n",
      "Found 879 nodes for seriesuid: 1.3.6.1.4.1.14519.5.2.1.6279.6001.211051626197585058967163339846\n",
      "Image array shape: (175, 512, 512)\n",
      "Output path for .npy file: LUNA16/Luna Output/subset4/1.3.6.1.4.1.14519.5.2.1.6279.6001.211051626197585058967163339846.npy\n"
     ]
    },
    {
     "name": "stderr",
     "output_type": "stream",
     "text": [
      "\r",
      " 47%|███████████████████                      | 413/888 [02:10<03:12,  2.46it/s]"
     ]
    },
    {
     "name": "stdout",
     "output_type": "stream",
     "text": [
      "Saved: LUNA16/Luna Output/subset4/1.3.6.1.4.1.14519.5.2.1.6279.6001.211051626197585058967163339846.npy\n",
      "\n",
      "Processing file: LUNA16/Dataset/subset4/1.3.6.1.4.1.14519.5.2.1.6279.6001.145283812746259413053188838096.mhd\n",
      "SeriesUID for current file: 1.3.6.1.4.1.14519.5.2.1.6279.6001.145283812746259413053188838096\n",
      "Found 550 nodes for seriesuid: 1.3.6.1.4.1.14519.5.2.1.6279.6001.145283812746259413053188838096\n",
      "Image array shape: (144, 512, 512)\n",
      "Output path for .npy file: LUNA16/Luna Output/subset4/1.3.6.1.4.1.14519.5.2.1.6279.6001.145283812746259413053188838096.npy\n"
     ]
    },
    {
     "name": "stderr",
     "output_type": "stream",
     "text": [
      " 47%|███████████████████▏                     | 415/888 [02:10<02:21,  3.35it/s]"
     ]
    },
    {
     "name": "stdout",
     "output_type": "stream",
     "text": [
      "Saved: LUNA16/Luna Output/subset4/1.3.6.1.4.1.14519.5.2.1.6279.6001.145283812746259413053188838096.npy\n",
      "\n",
      "Processing file: LUNA16/Dataset/subset4/1.3.6.1.4.1.14519.5.2.1.6279.6001.146987333806092287055399155268.mhd\n",
      "SeriesUID for current file: 1.3.6.1.4.1.14519.5.2.1.6279.6001.146987333806092287055399155268\n",
      "Found 865 nodes for seriesuid: 1.3.6.1.4.1.14519.5.2.1.6279.6001.146987333806092287055399155268\n",
      "Image array shape: (147, 512, 512)\n",
      "Output path for .npy file: LUNA16/Luna Output/subset4/1.3.6.1.4.1.14519.5.2.1.6279.6001.146987333806092287055399155268.npy\n",
      "Saved: LUNA16/Luna Output/subset4/1.3.6.1.4.1.14519.5.2.1.6279.6001.146987333806092287055399155268.npy\n",
      "\n",
      "Processing file: LUNA16/Dataset/subset4/1.3.6.1.4.1.14519.5.2.1.6279.6001.230416590143922549745658357505.mhd\n",
      "SeriesUID for current file: 1.3.6.1.4.1.14519.5.2.1.6279.6001.230416590143922549745658357505\n",
      "Found 1432 nodes for seriesuid: 1.3.6.1.4.1.14519.5.2.1.6279.6001.230416590143922549745658357505\n",
      "Image array shape: (338, 512, 512)\n",
      "Output path for .npy file: LUNA16/Luna Output/subset4/1.3.6.1.4.1.14519.5.2.1.6279.6001.230416590143922549745658357505.npy\n"
     ]
    },
    {
     "name": "stderr",
     "output_type": "stream",
     "text": [
      "\r",
      " 47%|███████████████████▏                     | 416/888 [02:11<02:36,  3.02it/s]"
     ]
    },
    {
     "name": "stdout",
     "output_type": "stream",
     "text": [
      "Saved: LUNA16/Luna Output/subset4/1.3.6.1.4.1.14519.5.2.1.6279.6001.230416590143922549745658357505.npy\n",
      "\n",
      "Processing file: LUNA16/Dataset/subset4/1.3.6.1.4.1.14519.5.2.1.6279.6001.141511313712034597336182402384.mhd\n",
      "SeriesUID for current file: 1.3.6.1.4.1.14519.5.2.1.6279.6001.141511313712034597336182402384\n",
      "Found 762 nodes for seriesuid: 1.3.6.1.4.1.14519.5.2.1.6279.6001.141511313712034597336182402384\n",
      "Image array shape: (529, 512, 512)\n",
      "Output path for .npy file: LUNA16/Luna Output/subset4/1.3.6.1.4.1.14519.5.2.1.6279.6001.141511313712034597336182402384.npy\n"
     ]
    },
    {
     "name": "stderr",
     "output_type": "stream",
     "text": [
      "\r",
      " 47%|███████████████████▎                     | 417/888 [02:12<04:07,  1.90it/s]"
     ]
    },
    {
     "name": "stdout",
     "output_type": "stream",
     "text": [
      "Saved: LUNA16/Luna Output/subset4/1.3.6.1.4.1.14519.5.2.1.6279.6001.141511313712034597336182402384.npy\n",
      "\n",
      "Processing file: LUNA16/Dataset/subset4/1.3.6.1.4.1.14519.5.2.1.6279.6001.107351566259572521472765997306.mhd\n",
      "SeriesUID for current file: 1.3.6.1.4.1.14519.5.2.1.6279.6001.107351566259572521472765997306\n",
      "Found 725 nodes for seriesuid: 1.3.6.1.4.1.14519.5.2.1.6279.6001.107351566259572521472765997306\n",
      "Image array shape: (259, 512, 512)\n",
      "Output path for .npy file: LUNA16/Luna Output/subset4/1.3.6.1.4.1.14519.5.2.1.6279.6001.107351566259572521472765997306.npy\n"
     ]
    },
    {
     "name": "stderr",
     "output_type": "stream",
     "text": [
      "\r",
      " 47%|███████████████████▎                     | 418/888 [02:12<04:28,  1.75it/s]"
     ]
    },
    {
     "name": "stdout",
     "output_type": "stream",
     "text": [
      "Saved: LUNA16/Luna Output/subset4/1.3.6.1.4.1.14519.5.2.1.6279.6001.107351566259572521472765997306.npy\n",
      "\n",
      "Processing file: LUNA16/Dataset/subset4/1.3.6.1.4.1.14519.5.2.1.6279.6001.419601611032172899567156073142.mhd\n",
      "SeriesUID for current file: 1.3.6.1.4.1.14519.5.2.1.6279.6001.419601611032172899567156073142\n",
      "Found 859 nodes for seriesuid: 1.3.6.1.4.1.14519.5.2.1.6279.6001.419601611032172899567156073142\n",
      "Image array shape: (254, 512, 512)\n",
      "Output path for .npy file: LUNA16/Luna Output/subset4/1.3.6.1.4.1.14519.5.2.1.6279.6001.419601611032172899567156073142.npy\n"
     ]
    },
    {
     "name": "stderr",
     "output_type": "stream",
     "text": [
      "\r",
      " 47%|███████████████████▎                     | 419/888 [02:13<05:10,  1.51it/s]"
     ]
    },
    {
     "name": "stdout",
     "output_type": "stream",
     "text": [
      "Saved: LUNA16/Luna Output/subset4/1.3.6.1.4.1.14519.5.2.1.6279.6001.419601611032172899567156073142.npy\n",
      "\n",
      "Processing file: LUNA16/Dataset/subset4/1.3.6.1.4.1.14519.5.2.1.6279.6001.337845202462615014431060697507.mhd\n",
      "SeriesUID for current file: 1.3.6.1.4.1.14519.5.2.1.6279.6001.337845202462615014431060697507\n",
      "Found 1029 nodes for seriesuid: 1.3.6.1.4.1.14519.5.2.1.6279.6001.337845202462615014431060697507\n",
      "Image array shape: (127, 512, 512)\n",
      "Output path for .npy file: LUNA16/Luna Output/subset4/1.3.6.1.4.1.14519.5.2.1.6279.6001.337845202462615014431060697507.npy\n"
     ]
    },
    {
     "name": "stderr",
     "output_type": "stream",
     "text": [
      "\r",
      " 47%|███████████████████▍                     | 420/888 [02:14<04:53,  1.59it/s]"
     ]
    },
    {
     "name": "stdout",
     "output_type": "stream",
     "text": [
      "Saved: LUNA16/Luna Output/subset4/1.3.6.1.4.1.14519.5.2.1.6279.6001.337845202462615014431060697507.npy\n",
      "\n",
      "Processing file: LUNA16/Dataset/subset4/1.3.6.1.4.1.14519.5.2.1.6279.6001.780558315515979171413904604168.mhd\n",
      "SeriesUID for current file: 1.3.6.1.4.1.14519.5.2.1.6279.6001.780558315515979171413904604168\n",
      "Found 1109 nodes for seriesuid: 1.3.6.1.4.1.14519.5.2.1.6279.6001.780558315515979171413904604168\n",
      "Image array shape: (360, 512, 512)\n",
      "Output path for .npy file: LUNA16/Luna Output/subset4/1.3.6.1.4.1.14519.5.2.1.6279.6001.780558315515979171413904604168.npy\n"
     ]
    },
    {
     "name": "stderr",
     "output_type": "stream",
     "text": [
      " 48%|███████████████████▍                     | 422/888 [02:15<03:58,  1.95it/s]"
     ]
    },
    {
     "name": "stdout",
     "output_type": "stream",
     "text": [
      "Saved: LUNA16/Luna Output/subset4/1.3.6.1.4.1.14519.5.2.1.6279.6001.780558315515979171413904604168.npy\n",
      "\n",
      "Processing file: LUNA16/Dataset/subset4/1.3.6.1.4.1.14519.5.2.1.6279.6001.779493719385047675154892222907.mhd\n",
      "SeriesUID for current file: 1.3.6.1.4.1.14519.5.2.1.6279.6001.779493719385047675154892222907\n",
      "Found 1377 nodes for seriesuid: 1.3.6.1.4.1.14519.5.2.1.6279.6001.779493719385047675154892222907\n",
      "Image array shape: (133, 512, 512)\n",
      "Output path for .npy file: LUNA16/Luna Output/subset4/1.3.6.1.4.1.14519.5.2.1.6279.6001.779493719385047675154892222907.npy\n",
      "Saved: LUNA16/Luna Output/subset4/1.3.6.1.4.1.14519.5.2.1.6279.6001.779493719385047675154892222907.npy\n",
      "\n",
      "Processing file: LUNA16/Dataset/subset4/1.3.6.1.4.1.14519.5.2.1.6279.6001.276710697414087561012670296643.mhd\n",
      "SeriesUID for current file: 1.3.6.1.4.1.14519.5.2.1.6279.6001.276710697414087561012670296643\n",
      "Found 807 nodes for seriesuid: 1.3.6.1.4.1.14519.5.2.1.6279.6001.276710697414087561012670296643\n",
      "Image array shape: (223, 512, 512)\n",
      "Output path for .npy file: LUNA16/Luna Output/subset4/1.3.6.1.4.1.14519.5.2.1.6279.6001.276710697414087561012670296643.npy\n"
     ]
    },
    {
     "name": "stderr",
     "output_type": "stream",
     "text": [
      "\r",
      " 48%|███████████████████▌                     | 423/888 [02:15<03:32,  2.19it/s]"
     ]
    },
    {
     "name": "stdout",
     "output_type": "stream",
     "text": [
      "Saved: LUNA16/Luna Output/subset4/1.3.6.1.4.1.14519.5.2.1.6279.6001.276710697414087561012670296643.npy\n",
      "\n",
      "Processing file: LUNA16/Dataset/subset4/1.3.6.1.4.1.14519.5.2.1.6279.6001.189483585244687808087477024767.mhd\n",
      "SeriesUID for current file: 1.3.6.1.4.1.14519.5.2.1.6279.6001.189483585244687808087477024767\n",
      "Found 757 nodes for seriesuid: 1.3.6.1.4.1.14519.5.2.1.6279.6001.189483585244687808087477024767\n",
      "Image array shape: (251, 512, 512)\n",
      "Output path for .npy file: LUNA16/Luna Output/subset4/1.3.6.1.4.1.14519.5.2.1.6279.6001.189483585244687808087477024767.npy\n"
     ]
    },
    {
     "name": "stderr",
     "output_type": "stream",
     "text": [
      " 48%|███████████████████▌                     | 425/888 [02:15<02:33,  3.01it/s]"
     ]
    },
    {
     "name": "stdout",
     "output_type": "stream",
     "text": [
      "Saved: LUNA16/Luna Output/subset4/1.3.6.1.4.1.14519.5.2.1.6279.6001.189483585244687808087477024767.npy\n",
      "\n",
      "Processing file: LUNA16/Dataset/subset4/1.3.6.1.4.1.14519.5.2.1.6279.6001.203179378754043776171267611064.mhd\n",
      "SeriesUID for current file: 1.3.6.1.4.1.14519.5.2.1.6279.6001.203179378754043776171267611064\n",
      "Found 570 nodes for seriesuid: 1.3.6.1.4.1.14519.5.2.1.6279.6001.203179378754043776171267611064\n",
      "Image array shape: (123, 512, 512)\n",
      "Output path for .npy file: LUNA16/Luna Output/subset4/1.3.6.1.4.1.14519.5.2.1.6279.6001.203179378754043776171267611064.npy\n",
      "Saved: LUNA16/Luna Output/subset4/1.3.6.1.4.1.14519.5.2.1.6279.6001.203179378754043776171267611064.npy\n",
      "\n",
      "Processing file: LUNA16/Dataset/subset4/1.3.6.1.4.1.14519.5.2.1.6279.6001.200837896655745926888305239398.mhd\n",
      "SeriesUID for current file: 1.3.6.1.4.1.14519.5.2.1.6279.6001.200837896655745926888305239398\n",
      "Found 884 nodes for seriesuid: 1.3.6.1.4.1.14519.5.2.1.6279.6001.200837896655745926888305239398\n"
     ]
    },
    {
     "name": "stderr",
     "output_type": "stream",
     "text": [
      "\r",
      " 48%|███████████████████▋                     | 426/888 [02:16<02:23,  3.21it/s]"
     ]
    },
    {
     "name": "stdout",
     "output_type": "stream",
     "text": [
      "Image array shape: (238, 512, 512)\n",
      "Output path for .npy file: LUNA16/Luna Output/subset4/1.3.6.1.4.1.14519.5.2.1.6279.6001.200837896655745926888305239398.npy\n",
      "Saved: LUNA16/Luna Output/subset4/1.3.6.1.4.1.14519.5.2.1.6279.6001.200837896655745926888305239398.npy\n",
      "\n",
      "Processing file: LUNA16/Dataset/subset4/1.3.6.1.4.1.14519.5.2.1.6279.6001.320111824803959660037459294083.mhd\n",
      "SeriesUID for current file: 1.3.6.1.4.1.14519.5.2.1.6279.6001.320111824803959660037459294083\n",
      "Found 966 nodes for seriesuid: 1.3.6.1.4.1.14519.5.2.1.6279.6001.320111824803959660037459294083\n"
     ]
    },
    {
     "name": "stderr",
     "output_type": "stream",
     "text": [
      "\r",
      " 48%|███████████████████▋                     | 427/888 [02:16<02:00,  3.81it/s]"
     ]
    },
    {
     "name": "stdout",
     "output_type": "stream",
     "text": [
      "Image array shape: (116, 512, 512)\n",
      "Output path for .npy file: LUNA16/Luna Output/subset4/1.3.6.1.4.1.14519.5.2.1.6279.6001.320111824803959660037459294083.npy\n",
      "Saved: LUNA16/Luna Output/subset4/1.3.6.1.4.1.14519.5.2.1.6279.6001.320111824803959660037459294083.npy\n",
      "\n",
      "Processing file: LUNA16/Dataset/subset4/1.3.6.1.4.1.14519.5.2.1.6279.6001.142154819868944114554521645782.mhd\n",
      "SeriesUID for current file: 1.3.6.1.4.1.14519.5.2.1.6279.6001.142154819868944114554521645782\n",
      "Found 1005 nodes for seriesuid: 1.3.6.1.4.1.14519.5.2.1.6279.6001.142154819868944114554521645782\n",
      "Image array shape: (446, 512, 512)\n",
      "Output path for .npy file: LUNA16/Luna Output/subset4/1.3.6.1.4.1.14519.5.2.1.6279.6001.142154819868944114554521645782.npy\n"
     ]
    },
    {
     "name": "stderr",
     "output_type": "stream",
     "text": [
      "\r",
      " 48%|███████████████████▊                     | 428/888 [02:17<03:17,  2.33it/s]"
     ]
    },
    {
     "name": "stdout",
     "output_type": "stream",
     "text": [
      "Saved: LUNA16/Luna Output/subset4/1.3.6.1.4.1.14519.5.2.1.6279.6001.142154819868944114554521645782.npy\n",
      "\n",
      "Processing file: LUNA16/Dataset/subset4/1.3.6.1.4.1.14519.5.2.1.6279.6001.156821379677057223126714881626.mhd\n",
      "SeriesUID for current file: 1.3.6.1.4.1.14519.5.2.1.6279.6001.156821379677057223126714881626\n",
      "Found 811 nodes for seriesuid: 1.3.6.1.4.1.14519.5.2.1.6279.6001.156821379677057223126714881626\n",
      "Image array shape: (138, 512, 512)\n",
      "Output path for .npy file: LUNA16/Luna Output/subset4/1.3.6.1.4.1.14519.5.2.1.6279.6001.156821379677057223126714881626.npy\n"
     ]
    },
    {
     "name": "stderr",
     "output_type": "stream",
     "text": [
      "\r",
      " 48%|███████████████████▊                     | 429/888 [02:17<03:00,  2.54it/s]"
     ]
    },
    {
     "name": "stdout",
     "output_type": "stream",
     "text": [
      "Saved: LUNA16/Luna Output/subset4/1.3.6.1.4.1.14519.5.2.1.6279.6001.156821379677057223126714881626.npy\n",
      "\n",
      "Processing file: LUNA16/Dataset/subset4/1.3.6.1.4.1.14519.5.2.1.6279.6001.242761658169703141430370511586.mhd\n",
      "SeriesUID for current file: 1.3.6.1.4.1.14519.5.2.1.6279.6001.242761658169703141430370511586\n",
      "Found 1440 nodes for seriesuid: 1.3.6.1.4.1.14519.5.2.1.6279.6001.242761658169703141430370511586\n",
      "Image array shape: (149, 512, 512)\n",
      "Output path for .npy file: LUNA16/Luna Output/subset4/1.3.6.1.4.1.14519.5.2.1.6279.6001.242761658169703141430370511586.npy\n"
     ]
    },
    {
     "name": "stderr",
     "output_type": "stream",
     "text": [
      "\r",
      " 48%|███████████████████▊                     | 430/888 [02:17<02:44,  2.78it/s]"
     ]
    },
    {
     "name": "stdout",
     "output_type": "stream",
     "text": [
      "Saved: LUNA16/Luna Output/subset4/1.3.6.1.4.1.14519.5.2.1.6279.6001.242761658169703141430370511586.npy\n",
      "\n",
      "Processing file: LUNA16/Dataset/subset4/1.3.6.1.4.1.14519.5.2.1.6279.6001.232058316950007760548968840196.mhd\n",
      "SeriesUID for current file: 1.3.6.1.4.1.14519.5.2.1.6279.6001.232058316950007760548968840196\n",
      "Found 307 nodes for seriesuid: 1.3.6.1.4.1.14519.5.2.1.6279.6001.232058316950007760548968840196\n"
     ]
    },
    {
     "name": "stderr",
     "output_type": "stream",
     "text": [
      "\r",
      " 49%|███████████████████▉                     | 431/888 [02:17<02:34,  2.96it/s]"
     ]
    },
    {
     "name": "stdout",
     "output_type": "stream",
     "text": [
      "Image array shape: (271, 512, 512)\n",
      "Output path for .npy file: LUNA16/Luna Output/subset4/1.3.6.1.4.1.14519.5.2.1.6279.6001.232058316950007760548968840196.npy\n",
      "Saved: LUNA16/Luna Output/subset4/1.3.6.1.4.1.14519.5.2.1.6279.6001.232058316950007760548968840196.npy\n",
      "\n",
      "Processing file: LUNA16/Dataset/subset4/1.3.6.1.4.1.14519.5.2.1.6279.6001.232011770495640253949434620907.mhd\n",
      "SeriesUID for current file: 1.3.6.1.4.1.14519.5.2.1.6279.6001.232011770495640253949434620907\n",
      "Found 1074 nodes for seriesuid: 1.3.6.1.4.1.14519.5.2.1.6279.6001.232011770495640253949434620907\n",
      "Image array shape: (166, 512, 512)\n",
      "Output path for .npy file: LUNA16/Luna Output/subset4/1.3.6.1.4.1.14519.5.2.1.6279.6001.232011770495640253949434620907.npy\n"
     ]
    },
    {
     "name": "stderr",
     "output_type": "stream",
     "text": [
      " 49%|███████████████████▉                     | 433/888 [02:18<01:56,  3.91it/s]"
     ]
    },
    {
     "name": "stdout",
     "output_type": "stream",
     "text": [
      "Saved: LUNA16/Luna Output/subset4/1.3.6.1.4.1.14519.5.2.1.6279.6001.232011770495640253949434620907.npy\n",
      "\n",
      "Processing file: LUNA16/Dataset/subset4/1.3.6.1.4.1.14519.5.2.1.6279.6001.287560874054243719452635194040.mhd\n",
      "SeriesUID for current file: 1.3.6.1.4.1.14519.5.2.1.6279.6001.287560874054243719452635194040\n",
      "Found 959 nodes for seriesuid: 1.3.6.1.4.1.14519.5.2.1.6279.6001.287560874054243719452635194040\n",
      "Image array shape: (127, 512, 512)\n",
      "Output path for .npy file: LUNA16/Luna Output/subset4/1.3.6.1.4.1.14519.5.2.1.6279.6001.287560874054243719452635194040.npy\n",
      "Saved: LUNA16/Luna Output/subset4/1.3.6.1.4.1.14519.5.2.1.6279.6001.287560874054243719452635194040.npy\n",
      "\n",
      "Processing file: LUNA16/Dataset/subset4/1.3.6.1.4.1.14519.5.2.1.6279.6001.141430002307216644912805017227.mhd\n",
      "SeriesUID for current file: 1.3.6.1.4.1.14519.5.2.1.6279.6001.141430002307216644912805017227\n"
     ]
    },
    {
     "name": "stderr",
     "output_type": "stream",
     "text": [
      "\r",
      " 49%|████████████████████                     | 434/888 [02:18<01:44,  4.33it/s]"
     ]
    },
    {
     "name": "stdout",
     "output_type": "stream",
     "text": [
      "Found 1032 nodes for seriesuid: 1.3.6.1.4.1.14519.5.2.1.6279.6001.141430002307216644912805017227\n",
      "Image array shape: (215, 512, 512)\n",
      "Output path for .npy file: LUNA16/Luna Output/subset4/1.3.6.1.4.1.14519.5.2.1.6279.6001.141430002307216644912805017227.npy\n",
      "Saved: LUNA16/Luna Output/subset4/1.3.6.1.4.1.14519.5.2.1.6279.6001.141430002307216644912805017227.npy\n",
      "\n",
      "Processing file: LUNA16/Dataset/subset4/1.3.6.1.4.1.14519.5.2.1.6279.6001.122914038048856168343065566972.mhd\n",
      "SeriesUID for current file: 1.3.6.1.4.1.14519.5.2.1.6279.6001.122914038048856168343065566972\n",
      "Found 982 nodes for seriesuid: 1.3.6.1.4.1.14519.5.2.1.6279.6001.122914038048856168343065566972\n"
     ]
    },
    {
     "name": "stderr",
     "output_type": "stream",
     "text": [
      "\r",
      " 49%|████████████████████                     | 435/888 [02:18<01:36,  4.68it/s]"
     ]
    },
    {
     "name": "stdout",
     "output_type": "stream",
     "text": [
      "Image array shape: (128, 512, 512)\n",
      "Output path for .npy file: LUNA16/Luna Output/subset4/1.3.6.1.4.1.14519.5.2.1.6279.6001.122914038048856168343065566972.npy\n",
      "Saved: LUNA16/Luna Output/subset4/1.3.6.1.4.1.14519.5.2.1.6279.6001.122914038048856168343065566972.npy\n",
      "\n",
      "Processing file: LUNA16/Dataset/subset4/1.3.6.1.4.1.14519.5.2.1.6279.6001.178680586845223339579041794709.mhd\n",
      "SeriesUID for current file: 1.3.6.1.4.1.14519.5.2.1.6279.6001.178680586845223339579041794709\n",
      "Found 868 nodes for seriesuid: 1.3.6.1.4.1.14519.5.2.1.6279.6001.178680586845223339579041794709\n",
      "Image array shape: (133, 512, 512)\n",
      "Output path for .npy file: LUNA16/Luna Output/subset4/1.3.6.1.4.1.14519.5.2.1.6279.6001.178680586845223339579041794709.npy\n"
     ]
    },
    {
     "name": "stderr",
     "output_type": "stream",
     "text": [
      "\r",
      " 49%|████████████████████▏                    | 436/888 [02:18<01:28,  5.12it/s]"
     ]
    },
    {
     "name": "stdout",
     "output_type": "stream",
     "text": [
      "Saved: LUNA16/Luna Output/subset4/1.3.6.1.4.1.14519.5.2.1.6279.6001.178680586845223339579041794709.npy\n",
      "\n",
      "Processing file: LUNA16/Dataset/subset4/1.3.6.1.4.1.14519.5.2.1.6279.6001.163931625580639955914619627409.mhd\n",
      "SeriesUID for current file: 1.3.6.1.4.1.14519.5.2.1.6279.6001.163931625580639955914619627409\n",
      "Found 282 nodes for seriesuid: 1.3.6.1.4.1.14519.5.2.1.6279.6001.163931625580639955914619627409\n",
      "Image array shape: (477, 512, 512)\n",
      "Output path for .npy file: LUNA16/Luna Output/subset4/1.3.6.1.4.1.14519.5.2.1.6279.6001.163931625580639955914619627409.npy\n"
     ]
    },
    {
     "name": "stderr",
     "output_type": "stream",
     "text": [
      "\r",
      " 49%|████████████████████▏                    | 437/888 [02:19<03:05,  2.43it/s]"
     ]
    },
    {
     "name": "stdout",
     "output_type": "stream",
     "text": [
      "Saved: LUNA16/Luna Output/subset4/1.3.6.1.4.1.14519.5.2.1.6279.6001.163931625580639955914619627409.npy\n",
      "\n",
      "Processing file: LUNA16/Dataset/subset4/1.3.6.1.4.1.14519.5.2.1.6279.6001.261678072503577216586082745513.mhd\n",
      "SeriesUID for current file: 1.3.6.1.4.1.14519.5.2.1.6279.6001.261678072503577216586082745513\n",
      "Found 475 nodes for seriesuid: 1.3.6.1.4.1.14519.5.2.1.6279.6001.261678072503577216586082745513\n",
      "Image array shape: (179, 512, 512)\n",
      "Output path for .npy file: LUNA16/Luna Output/subset4/1.3.6.1.4.1.14519.5.2.1.6279.6001.261678072503577216586082745513.npy\n"
     ]
    },
    {
     "name": "stderr",
     "output_type": "stream",
     "text": [
      "\r",
      " 49%|████████████████████▏                    | 438/888 [02:20<02:57,  2.53it/s]"
     ]
    },
    {
     "name": "stdout",
     "output_type": "stream",
     "text": [
      "Saved: LUNA16/Luna Output/subset4/1.3.6.1.4.1.14519.5.2.1.6279.6001.261678072503577216586082745513.npy\n",
      "\n",
      "Processing file: LUNA16/Dataset/subset4/1.3.6.1.4.1.14519.5.2.1.6279.6001.211071908915618528829547301883.mhd\n",
      "SeriesUID for current file: 1.3.6.1.4.1.14519.5.2.1.6279.6001.211071908915618528829547301883\n",
      "Found 602 nodes for seriesuid: 1.3.6.1.4.1.14519.5.2.1.6279.6001.211071908915618528829547301883\n",
      "Image array shape: (559, 512, 512)\n",
      "Output path for .npy file: LUNA16/Luna Output/subset4/1.3.6.1.4.1.14519.5.2.1.6279.6001.211071908915618528829547301883.npy\n"
     ]
    },
    {
     "name": "stderr",
     "output_type": "stream",
     "text": [
      "\r",
      " 49%|████████████████████▎                    | 439/888 [02:21<04:20,  1.72it/s]"
     ]
    },
    {
     "name": "stdout",
     "output_type": "stream",
     "text": [
      "Saved: LUNA16/Luna Output/subset4/1.3.6.1.4.1.14519.5.2.1.6279.6001.211071908915618528829547301883.npy\n",
      "\n",
      "Processing file: LUNA16/Dataset/subset4/1.3.6.1.4.1.14519.5.2.1.6279.6001.115386642382564804180764325545.mhd\n",
      "SeriesUID for current file: 1.3.6.1.4.1.14519.5.2.1.6279.6001.115386642382564804180764325545\n",
      "Found 928 nodes for seriesuid: 1.3.6.1.4.1.14519.5.2.1.6279.6001.115386642382564804180764325545\n",
      "Image array shape: (548, 512, 512)\n",
      "Output path for .npy file: LUNA16/Luna Output/subset4/1.3.6.1.4.1.14519.5.2.1.6279.6001.115386642382564804180764325545.npy\n"
     ]
    },
    {
     "name": "stderr",
     "output_type": "stream",
     "text": [
      "\r",
      " 50%|████████████████████▎                    | 440/888 [02:21<04:26,  1.68it/s]"
     ]
    },
    {
     "name": "stdout",
     "output_type": "stream",
     "text": [
      "Saved: LUNA16/Luna Output/subset4/1.3.6.1.4.1.14519.5.2.1.6279.6001.115386642382564804180764325545.npy\n",
      "\n",
      "Processing file: LUNA16/Dataset/subset4/1.3.6.1.4.1.14519.5.2.1.6279.6001.259123825760999546551970425757.mhd\n",
      "SeriesUID for current file: 1.3.6.1.4.1.14519.5.2.1.6279.6001.259123825760999546551970425757\n",
      "Found 582 nodes for seriesuid: 1.3.6.1.4.1.14519.5.2.1.6279.6001.259123825760999546551970425757\n"
     ]
    },
    {
     "name": "stderr",
     "output_type": "stream",
     "text": [
      "\r",
      " 50%|████████████████████▎                    | 441/888 [02:22<03:55,  1.90it/s]"
     ]
    },
    {
     "name": "stdout",
     "output_type": "stream",
     "text": [
      "Image array shape: (275, 512, 512)\n",
      "Output path for .npy file: LUNA16/Luna Output/subset4/1.3.6.1.4.1.14519.5.2.1.6279.6001.259123825760999546551970425757.npy\n",
      "Saved: LUNA16/Luna Output/subset4/1.3.6.1.4.1.14519.5.2.1.6279.6001.259123825760999546551970425757.npy\n",
      "\n",
      "Processing file: LUNA16/Dataset/subset4/1.3.6.1.4.1.14519.5.2.1.6279.6001.104780906131535625872840889059.mhd\n",
      "SeriesUID for current file: 1.3.6.1.4.1.14519.5.2.1.6279.6001.104780906131535625872840889059\n",
      "Found 589 nodes for seriesuid: 1.3.6.1.4.1.14519.5.2.1.6279.6001.104780906131535625872840889059\n"
     ]
    },
    {
     "name": "stderr",
     "output_type": "stream",
     "text": [
      "\r",
      " 50%|████████████████████▍                    | 442/888 [02:22<03:31,  2.11it/s]"
     ]
    },
    {
     "name": "stdout",
     "output_type": "stream",
     "text": [
      "Image array shape: (273, 512, 512)\n",
      "Output path for .npy file: LUNA16/Luna Output/subset4/1.3.6.1.4.1.14519.5.2.1.6279.6001.104780906131535625872840889059.npy\n",
      "Saved: LUNA16/Luna Output/subset4/1.3.6.1.4.1.14519.5.2.1.6279.6001.104780906131535625872840889059.npy\n",
      "\n",
      "Processing file: LUNA16/Dataset/subset4/1.3.6.1.4.1.14519.5.2.1.6279.6001.584871944187559733312703328980.mhd\n",
      "SeriesUID for current file: 1.3.6.1.4.1.14519.5.2.1.6279.6001.584871944187559733312703328980\n",
      "Found 822 nodes for seriesuid: 1.3.6.1.4.1.14519.5.2.1.6279.6001.584871944187559733312703328980\n"
     ]
    },
    {
     "name": "stderr",
     "output_type": "stream",
     "text": [
      "\r",
      " 50%|████████████████████▍                    | 443/888 [02:22<03:10,  2.34it/s]"
     ]
    },
    {
     "name": "stdout",
     "output_type": "stream",
     "text": [
      "Image array shape: (237, 512, 512)\n",
      "Output path for .npy file: LUNA16/Luna Output/subset4/1.3.6.1.4.1.14519.5.2.1.6279.6001.584871944187559733312703328980.npy\n",
      "Saved: LUNA16/Luna Output/subset4/1.3.6.1.4.1.14519.5.2.1.6279.6001.584871944187559733312703328980.npy\n",
      "\n",
      "Processing file: LUNA16/Dataset/subset4/1.3.6.1.4.1.14519.5.2.1.6279.6001.741709061958490690246385302477.mhd\n",
      "SeriesUID for current file: 1.3.6.1.4.1.14519.5.2.1.6279.6001.741709061958490690246385302477\n",
      "Found 1078 nodes for seriesuid: 1.3.6.1.4.1.14519.5.2.1.6279.6001.741709061958490690246385302477\n"
     ]
    },
    {
     "name": "stderr",
     "output_type": "stream",
     "text": [
      "\r",
      " 50%|████████████████████▌                    | 444/888 [02:22<02:40,  2.77it/s]"
     ]
    },
    {
     "name": "stdout",
     "output_type": "stream",
     "text": [
      "Image array shape: (133, 512, 512)\n",
      "Output path for .npy file: LUNA16/Luna Output/subset4/1.3.6.1.4.1.14519.5.2.1.6279.6001.741709061958490690246385302477.npy\n",
      "Saved: LUNA16/Luna Output/subset4/1.3.6.1.4.1.14519.5.2.1.6279.6001.741709061958490690246385302477.npy\n",
      "\n",
      "Processing file: LUNA16/Dataset/subset4/1.3.6.1.4.1.14519.5.2.1.6279.6001.300146276266881736689307479986.mhd\n",
      "SeriesUID for current file: 1.3.6.1.4.1.14519.5.2.1.6279.6001.300146276266881736689307479986\n",
      "Found 893 nodes for seriesuid: 1.3.6.1.4.1.14519.5.2.1.6279.6001.300146276266881736689307479986\n",
      "Image array shape: (171, 512, 512)\n",
      "Output path for .npy file: LUNA16/Luna Output/subset4/1.3.6.1.4.1.14519.5.2.1.6279.6001.300146276266881736689307479986.npy\n"
     ]
    },
    {
     "name": "stderr",
     "output_type": "stream",
     "text": [
      " 50%|████████████████████▌                    | 446/888 [02:23<02:02,  3.62it/s]"
     ]
    },
    {
     "name": "stdout",
     "output_type": "stream",
     "text": [
      "Saved: LUNA16/Luna Output/subset4/1.3.6.1.4.1.14519.5.2.1.6279.6001.300146276266881736689307479986.npy\n",
      "\n",
      "Processing file: LUNA16/Dataset/subset5/1.3.6.1.4.1.14519.5.2.1.6279.6001.323408652979949774528873200770.mhd\n",
      "SeriesUID for current file: 1.3.6.1.4.1.14519.5.2.1.6279.6001.323408652979949774528873200770\n",
      "Found 936 nodes for seriesuid: 1.3.6.1.4.1.14519.5.2.1.6279.6001.323408652979949774528873200770\n",
      "Image array shape: (133, 512, 512)\n",
      "Output path for .npy file: LUNA16/Luna Output/subset5/1.3.6.1.4.1.14519.5.2.1.6279.6001.323408652979949774528873200770.npy\n",
      "Saved: LUNA16/Luna Output/subset5/1.3.6.1.4.1.14519.5.2.1.6279.6001.323408652979949774528873200770.npy\n",
      "\n",
      "Processing file: LUNA16/Dataset/subset5/1.3.6.1.4.1.14519.5.2.1.6279.6001.190144948425835566841437565646.mhd\n",
      "SeriesUID for current file: 1.3.6.1.4.1.14519.5.2.1.6279.6001.190144948425835566841437565646\n",
      "Found 327 nodes for seriesuid: 1.3.6.1.4.1.14519.5.2.1.6279.6001.190144948425835566841437565646\n",
      "Image array shape: (240, 512, 512)\n",
      "Output path for .npy file: LUNA16/Luna Output/subset5/1.3.6.1.4.1.14519.5.2.1.6279.6001.190144948425835566841437565646.npy\n"
     ]
    },
    {
     "name": "stderr",
     "output_type": "stream",
     "text": [
      " 50%|████████████████████▋                    | 448/888 [02:23<01:46,  4.12it/s]"
     ]
    },
    {
     "name": "stdout",
     "output_type": "stream",
     "text": [
      "Saved: LUNA16/Luna Output/subset5/1.3.6.1.4.1.14519.5.2.1.6279.6001.190144948425835566841437565646.npy\n",
      "\n",
      "Processing file: LUNA16/Dataset/subset5/1.3.6.1.4.1.14519.5.2.1.6279.6001.200841000324240313648595016964.mhd\n",
      "SeriesUID for current file: 1.3.6.1.4.1.14519.5.2.1.6279.6001.200841000324240313648595016964\n",
      "Found 955 nodes for seriesuid: 1.3.6.1.4.1.14519.5.2.1.6279.6001.200841000324240313648595016964\n",
      "Image array shape: (127, 512, 512)\n",
      "Output path for .npy file: LUNA16/Luna Output/subset5/1.3.6.1.4.1.14519.5.2.1.6279.6001.200841000324240313648595016964.npy\n",
      "Saved: LUNA16/Luna Output/subset5/1.3.6.1.4.1.14519.5.2.1.6279.6001.200841000324240313648595016964.npy\n",
      "\n",
      "Processing file: LUNA16/Dataset/subset5/1.3.6.1.4.1.14519.5.2.1.6279.6001.129567032250534530765928856531.mhd\n",
      "SeriesUID for current file: 1.3.6.1.4.1.14519.5.2.1.6279.6001.129567032250534530765928856531\n",
      "Found 1176 nodes for seriesuid: 1.3.6.1.4.1.14519.5.2.1.6279.6001.129567032250534530765928856531\n",
      "Image array shape: (401, 512, 512)\n",
      "Output path for .npy file: LUNA16/Luna Output/subset5/1.3.6.1.4.1.14519.5.2.1.6279.6001.129567032250534530765928856531.npy\n"
     ]
    },
    {
     "name": "stderr",
     "output_type": "stream",
     "text": [
      "\r",
      " 51%|████████████████████▋                    | 449/888 [02:24<02:36,  2.80it/s]"
     ]
    },
    {
     "name": "stdout",
     "output_type": "stream",
     "text": [
      "Saved: LUNA16/Luna Output/subset5/1.3.6.1.4.1.14519.5.2.1.6279.6001.129567032250534530765928856531.npy\n",
      "\n",
      "Processing file: LUNA16/Dataset/subset5/1.3.6.1.4.1.14519.5.2.1.6279.6001.504845428620607044098514803031.mhd\n",
      "SeriesUID for current file: 1.3.6.1.4.1.14519.5.2.1.6279.6001.504845428620607044098514803031\n",
      "Found 690 nodes for seriesuid: 1.3.6.1.4.1.14519.5.2.1.6279.6001.504845428620607044098514803031\n",
      "Image array shape: (262, 512, 512)\n",
      "Output path for .npy file: LUNA16/Luna Output/subset5/1.3.6.1.4.1.14519.5.2.1.6279.6001.504845428620607044098514803031.npy\n"
     ]
    },
    {
     "name": "stderr",
     "output_type": "stream",
     "text": [
      " 51%|████████████████████▊                    | 451/888 [02:24<02:12,  3.29it/s]"
     ]
    },
    {
     "name": "stdout",
     "output_type": "stream",
     "text": [
      "Saved: LUNA16/Luna Output/subset5/1.3.6.1.4.1.14519.5.2.1.6279.6001.504845428620607044098514803031.npy\n",
      "\n",
      "Processing file: LUNA16/Dataset/subset5/1.3.6.1.4.1.14519.5.2.1.6279.6001.285926554490515269336267972830.mhd\n",
      "SeriesUID for current file: 1.3.6.1.4.1.14519.5.2.1.6279.6001.285926554490515269336267972830\n",
      "Found 546 nodes for seriesuid: 1.3.6.1.4.1.14519.5.2.1.6279.6001.285926554490515269336267972830\n",
      "Image array shape: (131, 512, 512)\n",
      "Output path for .npy file: LUNA16/Luna Output/subset5/1.3.6.1.4.1.14519.5.2.1.6279.6001.285926554490515269336267972830.npy\n",
      "Saved: LUNA16/Luna Output/subset5/1.3.6.1.4.1.14519.5.2.1.6279.6001.285926554490515269336267972830.npy\n",
      "\n",
      "Processing file: LUNA16/Dataset/subset5/1.3.6.1.4.1.14519.5.2.1.6279.6001.596908385953413160131451426904.mhd\n",
      "SeriesUID for current file: 1.3.6.1.4.1.14519.5.2.1.6279.6001.596908385953413160131451426904\n"
     ]
    },
    {
     "name": "stderr",
     "output_type": "stream",
     "text": [
      "\r",
      " 51%|████████████████████▊                    | 452/888 [02:25<01:54,  3.81it/s]"
     ]
    },
    {
     "name": "stdout",
     "output_type": "stream",
     "text": [
      "Found 743 nodes for seriesuid: 1.3.6.1.4.1.14519.5.2.1.6279.6001.596908385953413160131451426904\n",
      "Image array shape: (146, 512, 512)\n",
      "Output path for .npy file: LUNA16/Luna Output/subset5/1.3.6.1.4.1.14519.5.2.1.6279.6001.596908385953413160131451426904.npy\n",
      "Saved: LUNA16/Luna Output/subset5/1.3.6.1.4.1.14519.5.2.1.6279.6001.596908385953413160131451426904.npy\n",
      "\n",
      "Processing file: LUNA16/Dataset/subset5/1.3.6.1.4.1.14519.5.2.1.6279.6001.308655308958459380153492314021.mhd\n",
      "SeriesUID for current file: 1.3.6.1.4.1.14519.5.2.1.6279.6001.308655308958459380153492314021\n",
      "Found 1041 nodes for seriesuid: 1.3.6.1.4.1.14519.5.2.1.6279.6001.308655308958459380153492314021\n",
      "Image array shape: (375, 512, 512)\n",
      "Output path for .npy file: LUNA16/Luna Output/subset5/1.3.6.1.4.1.14519.5.2.1.6279.6001.308655308958459380153492314021.npy\n"
     ]
    },
    {
     "name": "stderr",
     "output_type": "stream",
     "text": [
      " 51%|████████████████████▉                    | 454/888 [02:25<02:04,  3.50it/s]"
     ]
    },
    {
     "name": "stdout",
     "output_type": "stream",
     "text": [
      "Saved: LUNA16/Luna Output/subset5/1.3.6.1.4.1.14519.5.2.1.6279.6001.308655308958459380153492314021.npy\n",
      "\n",
      "Processing file: LUNA16/Dataset/subset5/1.3.6.1.4.1.14519.5.2.1.6279.6001.106419850406056634877579573537.mhd\n",
      "SeriesUID for current file: 1.3.6.1.4.1.14519.5.2.1.6279.6001.106419850406056634877579573537\n",
      "Found 690 nodes for seriesuid: 1.3.6.1.4.1.14519.5.2.1.6279.6001.106419850406056634877579573537\n",
      "Image array shape: (132, 512, 512)\n",
      "Output path for .npy file: LUNA16/Luna Output/subset5/1.3.6.1.4.1.14519.5.2.1.6279.6001.106419850406056634877579573537.npy\n",
      "Saved: LUNA16/Luna Output/subset5/1.3.6.1.4.1.14519.5.2.1.6279.6001.106419850406056634877579573537.npy\n",
      "\n",
      "Processing file: LUNA16/Dataset/subset5/1.3.6.1.4.1.14519.5.2.1.6279.6001.339882192295517122002429068974.mhd\n",
      "SeriesUID for current file: 1.3.6.1.4.1.14519.5.2.1.6279.6001.339882192295517122002429068974\n",
      "Found 1300 nodes for seriesuid: 1.3.6.1.4.1.14519.5.2.1.6279.6001.339882192295517122002429068974\n",
      "Image array shape: (300, 512, 512)\n",
      "Output path for .npy file: LUNA16/Luna Output/subset5/1.3.6.1.4.1.14519.5.2.1.6279.6001.339882192295517122002429068974.npy\n"
     ]
    },
    {
     "name": "stderr",
     "output_type": "stream",
     "text": [
      "\r",
      " 51%|█████████████████████                    | 455/888 [02:26<02:10,  3.32it/s]"
     ]
    },
    {
     "name": "stdout",
     "output_type": "stream",
     "text": [
      "Saved: LUNA16/Luna Output/subset5/1.3.6.1.4.1.14519.5.2.1.6279.6001.339882192295517122002429068974.npy\n",
      "\n",
      "Processing file: LUNA16/Dataset/subset5/1.3.6.1.4.1.14519.5.2.1.6279.6001.143782059748737055784173697516.mhd\n",
      "SeriesUID for current file: 1.3.6.1.4.1.14519.5.2.1.6279.6001.143782059748737055784173697516\n",
      "Found 847 nodes for seriesuid: 1.3.6.1.4.1.14519.5.2.1.6279.6001.143782059748737055784173697516\n"
     ]
    },
    {
     "name": "stderr",
     "output_type": "stream",
     "text": [
      "\r",
      " 51%|█████████████████████                    | 456/888 [02:26<02:32,  2.84it/s]"
     ]
    },
    {
     "name": "stdout",
     "output_type": "stream",
     "text": [
      "Image array shape: (320, 512, 512)\n",
      "Output path for .npy file: LUNA16/Luna Output/subset5/1.3.6.1.4.1.14519.5.2.1.6279.6001.143782059748737055784173697516.npy\n",
      "Saved: LUNA16/Luna Output/subset5/1.3.6.1.4.1.14519.5.2.1.6279.6001.143782059748737055784173697516.npy\n",
      "\n",
      "Processing file: LUNA16/Dataset/subset5/1.3.6.1.4.1.14519.5.2.1.6279.6001.188484197846284733942365679565.mhd\n",
      "SeriesUID for current file: 1.3.6.1.4.1.14519.5.2.1.6279.6001.188484197846284733942365679565\n"
     ]
    },
    {
     "name": "stderr",
     "output_type": "stream",
     "text": [
      "\r",
      " 51%|█████████████████████                    | 457/888 [02:26<02:10,  3.31it/s]"
     ]
    },
    {
     "name": "stdout",
     "output_type": "stream",
     "text": [
      "Found 886 nodes for seriesuid: 1.3.6.1.4.1.14519.5.2.1.6279.6001.188484197846284733942365679565\n",
      "Image array shape: (133, 512, 512)\n",
      "Output path for .npy file: LUNA16/Luna Output/subset5/1.3.6.1.4.1.14519.5.2.1.6279.6001.188484197846284733942365679565.npy\n",
      "Saved: LUNA16/Luna Output/subset5/1.3.6.1.4.1.14519.5.2.1.6279.6001.188484197846284733942365679565.npy\n",
      "\n",
      "Processing file: LUNA16/Dataset/subset5/1.3.6.1.4.1.14519.5.2.1.6279.6001.338114620394879648539943280992.mhd\n",
      "SeriesUID for current file: 1.3.6.1.4.1.14519.5.2.1.6279.6001.338114620394879648539943280992\n",
      "Found 1017 nodes for seriesuid: 1.3.6.1.4.1.14519.5.2.1.6279.6001.338114620394879648539943280992\n"
     ]
    },
    {
     "name": "stderr",
     "output_type": "stream",
     "text": [
      "\r",
      " 52%|█████████████████████▏                   | 458/888 [02:26<01:51,  3.86it/s]"
     ]
    },
    {
     "name": "stdout",
     "output_type": "stream",
     "text": [
      "Image array shape: (133, 512, 512)\n",
      "Output path for .npy file: LUNA16/Luna Output/subset5/1.3.6.1.4.1.14519.5.2.1.6279.6001.338114620394879648539943280992.npy\n",
      "Saved: LUNA16/Luna Output/subset5/1.3.6.1.4.1.14519.5.2.1.6279.6001.338114620394879648539943280992.npy\n",
      "\n",
      "Processing file: LUNA16/Dataset/subset5/1.3.6.1.4.1.14519.5.2.1.6279.6001.980362852713685276785310240144.mhd\n",
      "SeriesUID for current file: 1.3.6.1.4.1.14519.5.2.1.6279.6001.980362852713685276785310240144\n",
      "Found 357 nodes for seriesuid: 1.3.6.1.4.1.14519.5.2.1.6279.6001.980362852713685276785310240144\n",
      "Image array shape: (452, 512, 512)\n",
      "Output path for .npy file: LUNA16/Luna Output/subset5/1.3.6.1.4.1.14519.5.2.1.6279.6001.980362852713685276785310240144.npy\n"
     ]
    },
    {
     "name": "stderr",
     "output_type": "stream",
     "text": [
      "\r",
      " 52%|█████████████████████▏                   | 459/888 [02:27<02:42,  2.64it/s]"
     ]
    },
    {
     "name": "stdout",
     "output_type": "stream",
     "text": [
      "Saved: LUNA16/Luna Output/subset5/1.3.6.1.4.1.14519.5.2.1.6279.6001.980362852713685276785310240144.npy\n",
      "\n",
      "Processing file: LUNA16/Dataset/subset5/1.3.6.1.4.1.14519.5.2.1.6279.6001.238042459915048190592571019348.mhd\n",
      "SeriesUID for current file: 1.3.6.1.4.1.14519.5.2.1.6279.6001.238042459915048190592571019348\n",
      "Found 766 nodes for seriesuid: 1.3.6.1.4.1.14519.5.2.1.6279.6001.238042459915048190592571019348\n"
     ]
    },
    {
     "name": "stderr",
     "output_type": "stream",
     "text": [
      "\r",
      " 52%|█████████████████████▏                   | 460/888 [02:27<02:39,  2.68it/s]"
     ]
    },
    {
     "name": "stdout",
     "output_type": "stream",
     "text": [
      "Image array shape: (238, 512, 512)\n",
      "Output path for .npy file: LUNA16/Luna Output/subset5/1.3.6.1.4.1.14519.5.2.1.6279.6001.238042459915048190592571019348.npy\n",
      "Saved: LUNA16/Luna Output/subset5/1.3.6.1.4.1.14519.5.2.1.6279.6001.238042459915048190592571019348.npy\n",
      "\n",
      "Processing file: LUNA16/Dataset/subset5/1.3.6.1.4.1.14519.5.2.1.6279.6001.328695385904874796172316226975.mhd\n",
      "SeriesUID for current file: 1.3.6.1.4.1.14519.5.2.1.6279.6001.328695385904874796172316226975\n",
      "Found 698 nodes for seriesuid: 1.3.6.1.4.1.14519.5.2.1.6279.6001.328695385904874796172316226975\n",
      "Image array shape: (487, 512, 512)\n",
      "Output path for .npy file: LUNA16/Luna Output/subset5/1.3.6.1.4.1.14519.5.2.1.6279.6001.328695385904874796172316226975.npy\n"
     ]
    },
    {
     "name": "stderr",
     "output_type": "stream",
     "text": [
      "\r",
      " 52%|█████████████████████▎                   | 461/888 [02:28<03:21,  2.12it/s]"
     ]
    },
    {
     "name": "stdout",
     "output_type": "stream",
     "text": [
      "Saved: LUNA16/Luna Output/subset5/1.3.6.1.4.1.14519.5.2.1.6279.6001.328695385904874796172316226975.npy\n",
      "\n",
      "Processing file: LUNA16/Dataset/subset5/1.3.6.1.4.1.14519.5.2.1.6279.6001.323899724653546164058849558431.mhd\n",
      "SeriesUID for current file: 1.3.6.1.4.1.14519.5.2.1.6279.6001.323899724653546164058849558431\n",
      "Found 1330 nodes for seriesuid: 1.3.6.1.4.1.14519.5.2.1.6279.6001.323899724653546164058849558431\n",
      "Image array shape: (429, 512, 512)\n",
      "Output path for .npy file: LUNA16/Luna Output/subset5/1.3.6.1.4.1.14519.5.2.1.6279.6001.323899724653546164058849558431.npy\n"
     ]
    },
    {
     "name": "stderr",
     "output_type": "stream",
     "text": [
      "\r",
      " 52%|█████████████████████▎                   | 462/888 [02:29<03:38,  1.95it/s]"
     ]
    },
    {
     "name": "stdout",
     "output_type": "stream",
     "text": [
      "Saved: LUNA16/Luna Output/subset5/1.3.6.1.4.1.14519.5.2.1.6279.6001.323899724653546164058849558431.npy\n",
      "\n",
      "Processing file: LUNA16/Dataset/subset5/1.3.6.1.4.1.14519.5.2.1.6279.6001.338875090785618956575597613546.mhd\n",
      "SeriesUID for current file: 1.3.6.1.4.1.14519.5.2.1.6279.6001.338875090785618956575597613546\n",
      "Found 1045 nodes for seriesuid: 1.3.6.1.4.1.14519.5.2.1.6279.6001.338875090785618956575597613546\n",
      "Image array shape: (127, 512, 512)\n",
      "Output path for .npy file: LUNA16/Luna Output/subset5/1.3.6.1.4.1.14519.5.2.1.6279.6001.338875090785618956575597613546.npy\n"
     ]
    },
    {
     "name": "stderr",
     "output_type": "stream",
     "text": [
      "\r",
      " 52%|█████████████████████▍                   | 463/888 [02:29<03:08,  2.26it/s]"
     ]
    },
    {
     "name": "stdout",
     "output_type": "stream",
     "text": [
      "Saved: LUNA16/Luna Output/subset5/1.3.6.1.4.1.14519.5.2.1.6279.6001.338875090785618956575597613546.npy\n",
      "\n",
      "Processing file: LUNA16/Dataset/subset5/1.3.6.1.4.1.14519.5.2.1.6279.6001.246225645401227472829175288633.mhd\n",
      "SeriesUID for current file: 1.3.6.1.4.1.14519.5.2.1.6279.6001.246225645401227472829175288633\n",
      "Found 863 nodes for seriesuid: 1.3.6.1.4.1.14519.5.2.1.6279.6001.246225645401227472829175288633\n",
      "Image array shape: (335, 512, 512)\n",
      "Output path for .npy file: LUNA16/Luna Output/subset5/1.3.6.1.4.1.14519.5.2.1.6279.6001.246225645401227472829175288633.npy\n"
     ]
    },
    {
     "name": "stderr",
     "output_type": "stream",
     "text": [
      "\r",
      " 52%|█████████████████████▍                   | 464/888 [02:30<03:20,  2.12it/s]"
     ]
    },
    {
     "name": "stdout",
     "output_type": "stream",
     "text": [
      "Saved: LUNA16/Luna Output/subset5/1.3.6.1.4.1.14519.5.2.1.6279.6001.246225645401227472829175288633.npy\n",
      "\n",
      "Processing file: LUNA16/Dataset/subset5/1.3.6.1.4.1.14519.5.2.1.6279.6001.246589849815292078281051154201.mhd\n",
      "SeriesUID for current file: 1.3.6.1.4.1.14519.5.2.1.6279.6001.246589849815292078281051154201\n",
      "Found 1026 nodes for seriesuid: 1.3.6.1.4.1.14519.5.2.1.6279.6001.246589849815292078281051154201\n",
      "Image array shape: (147, 512, 512)\n",
      "Output path for .npy file: LUNA16/Luna Output/subset5/1.3.6.1.4.1.14519.5.2.1.6279.6001.246589849815292078281051154201.npy\n"
     ]
    },
    {
     "name": "stderr",
     "output_type": "stream",
     "text": [
      "\r",
      " 52%|█████████████████████▍                   | 465/888 [02:30<02:48,  2.52it/s]"
     ]
    },
    {
     "name": "stdout",
     "output_type": "stream",
     "text": [
      "Saved: LUNA16/Luna Output/subset5/1.3.6.1.4.1.14519.5.2.1.6279.6001.246589849815292078281051154201.npy\n",
      "\n",
      "Processing file: LUNA16/Dataset/subset5/1.3.6.1.4.1.14519.5.2.1.6279.6001.120196332569034738680965284519.mhd\n",
      "SeriesUID for current file: 1.3.6.1.4.1.14519.5.2.1.6279.6001.120196332569034738680965284519\n",
      "Found 580 nodes for seriesuid: 1.3.6.1.4.1.14519.5.2.1.6279.6001.120196332569034738680965284519\n",
      "Image array shape: (133, 512, 512)\n",
      "Output path for .npy file: LUNA16/Luna Output/subset5/1.3.6.1.4.1.14519.5.2.1.6279.6001.120196332569034738680965284519.npy\n"
     ]
    },
    {
     "name": "stderr",
     "output_type": "stream",
     "text": [
      " 53%|█████████████████████▌                   | 467/888 [02:30<01:59,  3.51it/s]"
     ]
    },
    {
     "name": "stdout",
     "output_type": "stream",
     "text": [
      "Saved: LUNA16/Luna Output/subset5/1.3.6.1.4.1.14519.5.2.1.6279.6001.120196332569034738680965284519.npy\n",
      "\n",
      "Processing file: LUNA16/Dataset/subset5/1.3.6.1.4.1.14519.5.2.1.6279.6001.986011151772797848993829243183.mhd\n",
      "SeriesUID for current file: 1.3.6.1.4.1.14519.5.2.1.6279.6001.986011151772797848993829243183\n",
      "Found 1109 nodes for seriesuid: 1.3.6.1.4.1.14519.5.2.1.6279.6001.986011151772797848993829243183\n",
      "Image array shape: (119, 512, 512)\n",
      "Output path for .npy file: LUNA16/Luna Output/subset5/1.3.6.1.4.1.14519.5.2.1.6279.6001.986011151772797848993829243183.npy\n",
      "Saved: LUNA16/Luna Output/subset5/1.3.6.1.4.1.14519.5.2.1.6279.6001.986011151772797848993829243183.npy\n",
      "\n",
      "Processing file: LUNA16/Dataset/subset5/1.3.6.1.4.1.14519.5.2.1.6279.6001.750792629100457382099842515038.mhd\n",
      "SeriesUID for current file: 1.3.6.1.4.1.14519.5.2.1.6279.6001.750792629100457382099842515038\n",
      "Found 1266 nodes for seriesuid: 1.3.6.1.4.1.14519.5.2.1.6279.6001.750792629100457382099842515038\n",
      "Image array shape: (400, 512, 512)\n",
      "Output path for .npy file: LUNA16/Luna Output/subset5/1.3.6.1.4.1.14519.5.2.1.6279.6001.750792629100457382099842515038.npy\n"
     ]
    },
    {
     "name": "stderr",
     "output_type": "stream",
     "text": [
      "\r",
      " 53%|█████████████████████▌                   | 468/888 [02:31<02:50,  2.47it/s]"
     ]
    },
    {
     "name": "stdout",
     "output_type": "stream",
     "text": [
      "Saved: LUNA16/Luna Output/subset5/1.3.6.1.4.1.14519.5.2.1.6279.6001.750792629100457382099842515038.npy\n",
      "\n",
      "Processing file: LUNA16/Dataset/subset5/1.3.6.1.4.1.14519.5.2.1.6279.6001.140239815496047437552471323962.mhd\n",
      "SeriesUID for current file: 1.3.6.1.4.1.14519.5.2.1.6279.6001.140239815496047437552471323962\n",
      "Found 918 nodes for seriesuid: 1.3.6.1.4.1.14519.5.2.1.6279.6001.140239815496047437552471323962\n",
      "Image array shape: (308, 512, 512)\n",
      "Output path for .npy file: LUNA16/Luna Output/subset5/1.3.6.1.4.1.14519.5.2.1.6279.6001.140239815496047437552471323962.npy\n"
     ]
    },
    {
     "name": "stderr",
     "output_type": "stream",
     "text": [
      "\r",
      " 53%|█████████████████████▋                   | 469/888 [02:31<02:55,  2.39it/s]"
     ]
    },
    {
     "name": "stdout",
     "output_type": "stream",
     "text": [
      "Saved: LUNA16/Luna Output/subset5/1.3.6.1.4.1.14519.5.2.1.6279.6001.140239815496047437552471323962.npy\n",
      "\n",
      "Processing file: LUNA16/Dataset/subset5/1.3.6.1.4.1.14519.5.2.1.6279.6001.301582691063019848479942618641.mhd\n",
      "SeriesUID for current file: 1.3.6.1.4.1.14519.5.2.1.6279.6001.301582691063019848479942618641\n",
      "Found 1157 nodes for seriesuid: 1.3.6.1.4.1.14519.5.2.1.6279.6001.301582691063019848479942618641\n",
      "Image array shape: (583, 512, 512)\n",
      "Output path for .npy file: LUNA16/Luna Output/subset5/1.3.6.1.4.1.14519.5.2.1.6279.6001.301582691063019848479942618641.npy\n"
     ]
    },
    {
     "name": "stderr",
     "output_type": "stream",
     "text": [
      "\r",
      " 53%|█████████████████████▋                   | 470/888 [02:32<03:54,  1.78it/s]"
     ]
    },
    {
     "name": "stdout",
     "output_type": "stream",
     "text": [
      "Saved: LUNA16/Luna Output/subset5/1.3.6.1.4.1.14519.5.2.1.6279.6001.301582691063019848479942618641.npy\n",
      "\n",
      "Processing file: LUNA16/Dataset/subset5/1.3.6.1.4.1.14519.5.2.1.6279.6001.296738183013079390785739615169.mhd\n",
      "SeriesUID for current file: 1.3.6.1.4.1.14519.5.2.1.6279.6001.296738183013079390785739615169\n",
      "Found 711 nodes for seriesuid: 1.3.6.1.4.1.14519.5.2.1.6279.6001.296738183013079390785739615169\n",
      "Image array shape: (227, 512, 512)\n",
      "Output path for .npy file: LUNA16/Luna Output/subset5/1.3.6.1.4.1.14519.5.2.1.6279.6001.296738183013079390785739615169.npy\n"
     ]
    },
    {
     "name": "stderr",
     "output_type": "stream",
     "text": [
      "\r",
      " 53%|█████████████████████▋                   | 471/888 [02:33<04:59,  1.39it/s]"
     ]
    },
    {
     "name": "stdout",
     "output_type": "stream",
     "text": [
      "Saved: LUNA16/Luna Output/subset5/1.3.6.1.4.1.14519.5.2.1.6279.6001.296738183013079390785739615169.npy\n",
      "\n",
      "Processing file: LUNA16/Dataset/subset5/1.3.6.1.4.1.14519.5.2.1.6279.6001.101228986346984399347858840086.mhd\n",
      "SeriesUID for current file: 1.3.6.1.4.1.14519.5.2.1.6279.6001.101228986346984399347858840086\n",
      "Found 399 nodes for seriesuid: 1.3.6.1.4.1.14519.5.2.1.6279.6001.101228986346984399347858840086\n",
      "Image array shape: (257, 512, 512)\n",
      "Output path for .npy file: LUNA16/Luna Output/subset5/1.3.6.1.4.1.14519.5.2.1.6279.6001.101228986346984399347858840086.npy\n"
     ]
    },
    {
     "name": "stderr",
     "output_type": "stream",
     "text": [
      "\r",
      " 53%|█████████████████████▊                   | 472/888 [02:35<06:15,  1.11it/s]"
     ]
    },
    {
     "name": "stdout",
     "output_type": "stream",
     "text": [
      "Saved: LUNA16/Luna Output/subset5/1.3.6.1.4.1.14519.5.2.1.6279.6001.101228986346984399347858840086.npy\n",
      "\n",
      "Processing file: LUNA16/Dataset/subset5/1.3.6.1.4.1.14519.5.2.1.6279.6001.154837327827713479309898027966.mhd\n",
      "SeriesUID for current file: 1.3.6.1.4.1.14519.5.2.1.6279.6001.154837327827713479309898027966\n",
      "Found 911 nodes for seriesuid: 1.3.6.1.4.1.14519.5.2.1.6279.6001.154837327827713479309898027966\n",
      "Image array shape: (244, 512, 512)\n",
      "Output path for .npy file: LUNA16/Luna Output/subset5/1.3.6.1.4.1.14519.5.2.1.6279.6001.154837327827713479309898027966.npy\n"
     ]
    },
    {
     "name": "stderr",
     "output_type": "stream",
     "text": [
      "\r",
      " 53%|█████████████████████▊                   | 473/888 [02:36<06:26,  1.07it/s]"
     ]
    },
    {
     "name": "stdout",
     "output_type": "stream",
     "text": [
      "Saved: LUNA16/Luna Output/subset5/1.3.6.1.4.1.14519.5.2.1.6279.6001.154837327827713479309898027966.npy\n",
      "\n",
      "Processing file: LUNA16/Dataset/subset5/1.3.6.1.4.1.14519.5.2.1.6279.6001.255999614855292116767517149228.mhd\n",
      "SeriesUID for current file: 1.3.6.1.4.1.14519.5.2.1.6279.6001.255999614855292116767517149228\n",
      "Found 1335 nodes for seriesuid: 1.3.6.1.4.1.14519.5.2.1.6279.6001.255999614855292116767517149228\n",
      "Image array shape: (137, 512, 512)\n",
      "Output path for .npy file: LUNA16/Luna Output/subset5/1.3.6.1.4.1.14519.5.2.1.6279.6001.255999614855292116767517149228.npy\n"
     ]
    },
    {
     "name": "stderr",
     "output_type": "stream",
     "text": [
      "\r",
      " 53%|█████████████████████▉                   | 474/888 [02:36<05:43,  1.20it/s]"
     ]
    },
    {
     "name": "stdout",
     "output_type": "stream",
     "text": [
      "Saved: LUNA16/Luna Output/subset5/1.3.6.1.4.1.14519.5.2.1.6279.6001.255999614855292116767517149228.npy\n",
      "\n",
      "Processing file: LUNA16/Dataset/subset5/1.3.6.1.4.1.14519.5.2.1.6279.6001.134638281277099121660656324702.mhd\n",
      "SeriesUID for current file: 1.3.6.1.4.1.14519.5.2.1.6279.6001.134638281277099121660656324702\n",
      "Found 720 nodes for seriesuid: 1.3.6.1.4.1.14519.5.2.1.6279.6001.134638281277099121660656324702\n",
      "Image array shape: (124, 512, 512)\n",
      "Output path for .npy file: LUNA16/Luna Output/subset5/1.3.6.1.4.1.14519.5.2.1.6279.6001.134638281277099121660656324702.npy\n"
     ]
    },
    {
     "name": "stderr",
     "output_type": "stream",
     "text": [
      "\r",
      " 53%|█████████████████████▉                   | 475/888 [02:37<06:06,  1.13it/s]"
     ]
    },
    {
     "name": "stdout",
     "output_type": "stream",
     "text": [
      "Saved: LUNA16/Luna Output/subset5/1.3.6.1.4.1.14519.5.2.1.6279.6001.134638281277099121660656324702.npy\n",
      "\n",
      "Processing file: LUNA16/Dataset/subset5/1.3.6.1.4.1.14519.5.2.1.6279.6001.219428004988664846407984058588.mhd\n",
      "SeriesUID for current file: 1.3.6.1.4.1.14519.5.2.1.6279.6001.219428004988664846407984058588\n",
      "Found 950 nodes for seriesuid: 1.3.6.1.4.1.14519.5.2.1.6279.6001.219428004988664846407984058588\n",
      "Image array shape: (258, 512, 512)\n",
      "Output path for .npy file: LUNA16/Luna Output/subset5/1.3.6.1.4.1.14519.5.2.1.6279.6001.219428004988664846407984058588.npy\n"
     ]
    },
    {
     "name": "stderr",
     "output_type": "stream",
     "text": [
      "\r",
      " 54%|█████████████████████▉                   | 476/888 [02:39<07:39,  1.11s/it]"
     ]
    },
    {
     "name": "stdout",
     "output_type": "stream",
     "text": [
      "Saved: LUNA16/Luna Output/subset5/1.3.6.1.4.1.14519.5.2.1.6279.6001.219428004988664846407984058588.npy\n",
      "\n",
      "Processing file: LUNA16/Dataset/subset5/1.3.6.1.4.1.14519.5.2.1.6279.6001.174935793360491516757154875981.mhd\n",
      "SeriesUID for current file: 1.3.6.1.4.1.14519.5.2.1.6279.6001.174935793360491516757154875981\n",
      "Found 488 nodes for seriesuid: 1.3.6.1.4.1.14519.5.2.1.6279.6001.174935793360491516757154875981\n",
      "Image array shape: (219, 512, 512)\n",
      "Output path for .npy file: LUNA16/Luna Output/subset5/1.3.6.1.4.1.14519.5.2.1.6279.6001.174935793360491516757154875981.npy\n"
     ]
    },
    {
     "name": "stderr",
     "output_type": "stream",
     "text": [
      "\r",
      " 54%|██████████████████████                   | 477/888 [02:39<06:00,  1.14it/s]"
     ]
    },
    {
     "name": "stdout",
     "output_type": "stream",
     "text": [
      "Saved: LUNA16/Luna Output/subset5/1.3.6.1.4.1.14519.5.2.1.6279.6001.174935793360491516757154875981.npy\n",
      "\n",
      "Processing file: LUNA16/Dataset/subset5/1.3.6.1.4.1.14519.5.2.1.6279.6001.309955814083231537823157605135.mhd\n",
      "SeriesUID for current file: 1.3.6.1.4.1.14519.5.2.1.6279.6001.309955814083231537823157605135\n",
      "Found 507 nodes for seriesuid: 1.3.6.1.4.1.14519.5.2.1.6279.6001.309955814083231537823157605135\n",
      "Image array shape: (201, 512, 512)\n",
      "Output path for .npy file: LUNA16/Luna Output/subset5/1.3.6.1.4.1.14519.5.2.1.6279.6001.309955814083231537823157605135.npy\n"
     ]
    },
    {
     "name": "stderr",
     "output_type": "stream",
     "text": [
      "\r",
      " 54%|██████████████████████                   | 478/888 [02:39<04:50,  1.41it/s]"
     ]
    },
    {
     "name": "stdout",
     "output_type": "stream",
     "text": [
      "Saved: LUNA16/Luna Output/subset5/1.3.6.1.4.1.14519.5.2.1.6279.6001.309955814083231537823157605135.npy\n",
      "\n",
      "Processing file: LUNA16/Dataset/subset5/1.3.6.1.4.1.14519.5.2.1.6279.6001.275986221854423197884953496664.mhd\n",
      "SeriesUID for current file: 1.3.6.1.4.1.14519.5.2.1.6279.6001.275986221854423197884953496664\n",
      "Found 678 nodes for seriesuid: 1.3.6.1.4.1.14519.5.2.1.6279.6001.275986221854423197884953496664\n",
      "Image array shape: (265, 512, 512)\n",
      "Output path for .npy file: LUNA16/Luna Output/subset5/1.3.6.1.4.1.14519.5.2.1.6279.6001.275986221854423197884953496664.npy\n"
     ]
    },
    {
     "name": "stderr",
     "output_type": "stream",
     "text": [
      "\r",
      " 54%|██████████████████████                   | 479/888 [02:40<04:22,  1.56it/s]"
     ]
    },
    {
     "name": "stdout",
     "output_type": "stream",
     "text": [
      "Saved: LUNA16/Luna Output/subset5/1.3.6.1.4.1.14519.5.2.1.6279.6001.275986221854423197884953496664.npy\n",
      "\n",
      "Processing file: LUNA16/Dataset/subset5/1.3.6.1.4.1.14519.5.2.1.6279.6001.118140393257625250121502185026.mhd\n",
      "SeriesUID for current file: 1.3.6.1.4.1.14519.5.2.1.6279.6001.118140393257625250121502185026\n",
      "Found 799 nodes for seriesuid: 1.3.6.1.4.1.14519.5.2.1.6279.6001.118140393257625250121502185026\n",
      "Image array shape: (193, 512, 512)\n",
      "Output path for .npy file: LUNA16/Luna Output/subset5/1.3.6.1.4.1.14519.5.2.1.6279.6001.118140393257625250121502185026.npy\n"
     ]
    },
    {
     "name": "stderr",
     "output_type": "stream",
     "text": [
      "\r",
      " 54%|██████████████████████▏                  | 480/888 [02:40<03:50,  1.77it/s]"
     ]
    },
    {
     "name": "stdout",
     "output_type": "stream",
     "text": [
      "Saved: LUNA16/Luna Output/subset5/1.3.6.1.4.1.14519.5.2.1.6279.6001.118140393257625250121502185026.npy\n",
      "\n",
      "Processing file: LUNA16/Dataset/subset5/1.3.6.1.4.1.14519.5.2.1.6279.6001.693480911433291675609148051914.mhd\n",
      "SeriesUID for current file: 1.3.6.1.4.1.14519.5.2.1.6279.6001.693480911433291675609148051914\n",
      "Found 1070 nodes for seriesuid: 1.3.6.1.4.1.14519.5.2.1.6279.6001.693480911433291675609148051914\n",
      "Image array shape: (260, 512, 512)\n",
      "Output path for .npy file: LUNA16/Luna Output/subset5/1.3.6.1.4.1.14519.5.2.1.6279.6001.693480911433291675609148051914.npy\n"
     ]
    },
    {
     "name": "stderr",
     "output_type": "stream",
     "text": [
      "\r",
      " 54%|██████████████████████▏                  | 481/888 [02:41<03:17,  2.06it/s]"
     ]
    },
    {
     "name": "stdout",
     "output_type": "stream",
     "text": [
      "Saved: LUNA16/Luna Output/subset5/1.3.6.1.4.1.14519.5.2.1.6279.6001.693480911433291675609148051914.npy\n",
      "\n",
      "Processing file: LUNA16/Dataset/subset5/1.3.6.1.4.1.14519.5.2.1.6279.6001.439153572396640163898529626096.mhd\n",
      "SeriesUID for current file: 1.3.6.1.4.1.14519.5.2.1.6279.6001.439153572396640163898529626096\n",
      "Found 939 nodes for seriesuid: 1.3.6.1.4.1.14519.5.2.1.6279.6001.439153572396640163898529626096\n",
      "Image array shape: (441, 512, 512)\n",
      "Output path for .npy file: LUNA16/Luna Output/subset5/1.3.6.1.4.1.14519.5.2.1.6279.6001.439153572396640163898529626096.npy\n"
     ]
    },
    {
     "name": "stderr",
     "output_type": "stream",
     "text": [
      "\r",
      " 54%|██████████████████████▎                  | 482/888 [02:42<04:12,  1.61it/s]"
     ]
    },
    {
     "name": "stdout",
     "output_type": "stream",
     "text": [
      "Saved: LUNA16/Luna Output/subset5/1.3.6.1.4.1.14519.5.2.1.6279.6001.439153572396640163898529626096.npy\n",
      "\n",
      "Processing file: LUNA16/Dataset/subset5/1.3.6.1.4.1.14519.5.2.1.6279.6001.110678335949765929063942738609.mhd\n",
      "SeriesUID for current file: 1.3.6.1.4.1.14519.5.2.1.6279.6001.110678335949765929063942738609\n",
      "Found 1230 nodes for seriesuid: 1.3.6.1.4.1.14519.5.2.1.6279.6001.110678335949765929063942738609\n",
      "Image array shape: (633, 512, 512)\n",
      "Output path for .npy file: LUNA16/Luna Output/subset5/1.3.6.1.4.1.14519.5.2.1.6279.6001.110678335949765929063942738609.npy\n"
     ]
    },
    {
     "name": "stderr",
     "output_type": "stream",
     "text": [
      "\r",
      " 54%|██████████████████████▎                  | 483/888 [02:43<05:23,  1.25it/s]"
     ]
    },
    {
     "name": "stdout",
     "output_type": "stream",
     "text": [
      "Saved: LUNA16/Luna Output/subset5/1.3.6.1.4.1.14519.5.2.1.6279.6001.110678335949765929063942738609.npy\n",
      "\n",
      "Processing file: LUNA16/Dataset/subset5/1.3.6.1.4.1.14519.5.2.1.6279.6001.152706273988004688708784163325.mhd\n",
      "SeriesUID for current file: 1.3.6.1.4.1.14519.5.2.1.6279.6001.152706273988004688708784163325\n",
      "Found 521 nodes for seriesuid: 1.3.6.1.4.1.14519.5.2.1.6279.6001.152706273988004688708784163325\n",
      "Image array shape: (133, 512, 512)\n",
      "Output path for .npy file: LUNA16/Luna Output/subset5/1.3.6.1.4.1.14519.5.2.1.6279.6001.152706273988004688708784163325.npy\n"
     ]
    },
    {
     "name": "stderr",
     "output_type": "stream",
     "text": [
      "\r",
      " 55%|██████████████████████▎                  | 484/888 [02:43<04:16,  1.57it/s]"
     ]
    },
    {
     "name": "stdout",
     "output_type": "stream",
     "text": [
      "Saved: LUNA16/Luna Output/subset5/1.3.6.1.4.1.14519.5.2.1.6279.6001.152706273988004688708784163325.npy\n",
      "\n",
      "Processing file: LUNA16/Dataset/subset5/1.3.6.1.4.1.14519.5.2.1.6279.6001.229171189693734694696158152904.mhd\n",
      "SeriesUID for current file: 1.3.6.1.4.1.14519.5.2.1.6279.6001.229171189693734694696158152904\n",
      "Found 411 nodes for seriesuid: 1.3.6.1.4.1.14519.5.2.1.6279.6001.229171189693734694696158152904\n",
      "Image array shape: (128, 512, 512)\n",
      "Output path for .npy file: LUNA16/Luna Output/subset5/1.3.6.1.4.1.14519.5.2.1.6279.6001.229171189693734694696158152904.npy\n"
     ]
    },
    {
     "name": "stderr",
     "output_type": "stream",
     "text": [
      " 55%|██████████████████████▍                  | 486/888 [02:43<02:46,  2.42it/s]"
     ]
    },
    {
     "name": "stdout",
     "output_type": "stream",
     "text": [
      "Saved: LUNA16/Luna Output/subset5/1.3.6.1.4.1.14519.5.2.1.6279.6001.229171189693734694696158152904.npy\n",
      "\n",
      "Processing file: LUNA16/Dataset/subset5/1.3.6.1.4.1.14519.5.2.1.6279.6001.143410010885830403003179808334.mhd\n",
      "SeriesUID for current file: 1.3.6.1.4.1.14519.5.2.1.6279.6001.143410010885830403003179808334\n",
      "Found 858 nodes for seriesuid: 1.3.6.1.4.1.14519.5.2.1.6279.6001.143410010885830403003179808334\n",
      "Image array shape: (133, 512, 512)\n",
      "Output path for .npy file: LUNA16/Luna Output/subset5/1.3.6.1.4.1.14519.5.2.1.6279.6001.143410010885830403003179808334.npy\n",
      "Saved: LUNA16/Luna Output/subset5/1.3.6.1.4.1.14519.5.2.1.6279.6001.143410010885830403003179808334.npy\n",
      "\n",
      "Processing file: LUNA16/Dataset/subset5/1.3.6.1.4.1.14519.5.2.1.6279.6001.178391668569567816549737454720.mhd\n",
      "SeriesUID for current file: 1.3.6.1.4.1.14519.5.2.1.6279.6001.178391668569567816549737454720\n"
     ]
    },
    {
     "name": "stderr",
     "output_type": "stream",
     "text": [
      "\r",
      " 55%|██████████████████████▍                  | 487/888 [02:44<02:22,  2.81it/s]"
     ]
    },
    {
     "name": "stdout",
     "output_type": "stream",
     "text": [
      "Found 600 nodes for seriesuid: 1.3.6.1.4.1.14519.5.2.1.6279.6001.178391668569567816549737454720\n",
      "Image array shape: (133, 512, 512)\n",
      "Output path for .npy file: LUNA16/Luna Output/subset5/1.3.6.1.4.1.14519.5.2.1.6279.6001.178391668569567816549737454720.npy\n",
      "Saved: LUNA16/Luna Output/subset5/1.3.6.1.4.1.14519.5.2.1.6279.6001.178391668569567816549737454720.npy\n",
      "\n",
      "Processing file: LUNA16/Dataset/subset5/1.3.6.1.4.1.14519.5.2.1.6279.6001.138904664700896606480369521124.mhd\n",
      "SeriesUID for current file: 1.3.6.1.4.1.14519.5.2.1.6279.6001.138904664700896606480369521124\n",
      "Found 874 nodes for seriesuid: 1.3.6.1.4.1.14519.5.2.1.6279.6001.138904664700896606480369521124\n",
      "Image array shape: (179, 512, 512)\n",
      "Output path for .npy file: LUNA16/Luna Output/subset5/1.3.6.1.4.1.14519.5.2.1.6279.6001.138904664700896606480369521124.npy\n"
     ]
    },
    {
     "name": "stderr",
     "output_type": "stream",
     "text": [
      "\r",
      " 55%|██████████████████████▌                  | 488/888 [02:44<02:27,  2.71it/s]"
     ]
    },
    {
     "name": "stdout",
     "output_type": "stream",
     "text": [
      "Saved: LUNA16/Luna Output/subset5/1.3.6.1.4.1.14519.5.2.1.6279.6001.138904664700896606480369521124.npy\n",
      "\n",
      "Processing file: LUNA16/Dataset/subset5/1.3.6.1.4.1.14519.5.2.1.6279.6001.866845763956586959109892274084.mhd\n",
      "SeriesUID for current file: 1.3.6.1.4.1.14519.5.2.1.6279.6001.866845763956586959109892274084\n",
      "Found 1026 nodes for seriesuid: 1.3.6.1.4.1.14519.5.2.1.6279.6001.866845763956586959109892274084\n",
      "Image array shape: (109, 512, 512)\n",
      "Output path for .npy file: LUNA16/Luna Output/subset5/1.3.6.1.4.1.14519.5.2.1.6279.6001.866845763956586959109892274084.npy\n"
     ]
    },
    {
     "name": "stderr",
     "output_type": "stream",
     "text": [
      "\r",
      " 55%|██████████████████████▌                  | 489/888 [02:44<02:14,  2.98it/s]"
     ]
    },
    {
     "name": "stdout",
     "output_type": "stream",
     "text": [
      "Saved: LUNA16/Luna Output/subset5/1.3.6.1.4.1.14519.5.2.1.6279.6001.866845763956586959109892274084.npy\n",
      "\n",
      "Processing file: LUNA16/Dataset/subset5/1.3.6.1.4.1.14519.5.2.1.6279.6001.725023183844147505748475581290.mhd\n",
      "SeriesUID for current file: 1.3.6.1.4.1.14519.5.2.1.6279.6001.725023183844147505748475581290\n",
      "Found 1489 nodes for seriesuid: 1.3.6.1.4.1.14519.5.2.1.6279.6001.725023183844147505748475581290\n",
      "Image array shape: (278, 512, 512)\n",
      "Output path for .npy file: LUNA16/Luna Output/subset5/1.3.6.1.4.1.14519.5.2.1.6279.6001.725023183844147505748475581290.npy\n"
     ]
    },
    {
     "name": "stderr",
     "output_type": "stream",
     "text": [
      "\r",
      " 55%|██████████████████████▌                  | 490/888 [02:45<02:37,  2.53it/s]"
     ]
    },
    {
     "name": "stdout",
     "output_type": "stream",
     "text": [
      "Saved: LUNA16/Luna Output/subset5/1.3.6.1.4.1.14519.5.2.1.6279.6001.725023183844147505748475581290.npy\n",
      "\n",
      "Processing file: LUNA16/Dataset/subset5/1.3.6.1.4.1.14519.5.2.1.6279.6001.194246472548954252250399902051.mhd\n",
      "SeriesUID for current file: 1.3.6.1.4.1.14519.5.2.1.6279.6001.194246472548954252250399902051\n",
      "Found 836 nodes for seriesuid: 1.3.6.1.4.1.14519.5.2.1.6279.6001.194246472548954252250399902051\n",
      "Image array shape: (137, 512, 512)\n",
      "Output path for .npy file: LUNA16/Luna Output/subset5/1.3.6.1.4.1.14519.5.2.1.6279.6001.194246472548954252250399902051.npy\n"
     ]
    },
    {
     "name": "stderr",
     "output_type": "stream",
     "text": [
      "\r",
      " 55%|██████████████████████▋                  | 491/888 [02:45<02:18,  2.86it/s]"
     ]
    },
    {
     "name": "stdout",
     "output_type": "stream",
     "text": [
      "Saved: LUNA16/Luna Output/subset5/1.3.6.1.4.1.14519.5.2.1.6279.6001.194246472548954252250399902051.npy\n",
      "\n",
      "Processing file: LUNA16/Dataset/subset5/1.3.6.1.4.1.14519.5.2.1.6279.6001.133132722052053001903031735878.mhd\n",
      "SeriesUID for current file: 1.3.6.1.4.1.14519.5.2.1.6279.6001.133132722052053001903031735878\n",
      "Found 971 nodes for seriesuid: 1.3.6.1.4.1.14519.5.2.1.6279.6001.133132722052053001903031735878\n",
      "Image array shape: (140, 512, 512)\n",
      "Output path for .npy file: LUNA16/Luna Output/subset5/1.3.6.1.4.1.14519.5.2.1.6279.6001.133132722052053001903031735878.npy\n"
     ]
    },
    {
     "name": "stderr",
     "output_type": "stream",
     "text": [
      "\r",
      " 55%|██████████████████████▋                  | 492/888 [02:45<02:09,  3.05it/s]"
     ]
    },
    {
     "name": "stdout",
     "output_type": "stream",
     "text": [
      "Saved: LUNA16/Luna Output/subset5/1.3.6.1.4.1.14519.5.2.1.6279.6001.133132722052053001903031735878.npy\n",
      "\n",
      "Processing file: LUNA16/Dataset/subset5/1.3.6.1.4.1.14519.5.2.1.6279.6001.224465398054769500989828256685.mhd\n",
      "SeriesUID for current file: 1.3.6.1.4.1.14519.5.2.1.6279.6001.224465398054769500989828256685\n",
      "Found 987 nodes for seriesuid: 1.3.6.1.4.1.14519.5.2.1.6279.6001.224465398054769500989828256685\n",
      "Image array shape: (286, 512, 512)\n",
      "Output path for .npy file: LUNA16/Luna Output/subset5/1.3.6.1.4.1.14519.5.2.1.6279.6001.224465398054769500989828256685.npy\n"
     ]
    },
    {
     "name": "stderr",
     "output_type": "stream",
     "text": [
      "\r",
      " 56%|██████████████████████▊                  | 493/888 [02:46<02:45,  2.38it/s]"
     ]
    },
    {
     "name": "stdout",
     "output_type": "stream",
     "text": [
      "Saved: LUNA16/Luna Output/subset5/1.3.6.1.4.1.14519.5.2.1.6279.6001.224465398054769500989828256685.npy\n",
      "\n",
      "Processing file: LUNA16/Dataset/subset5/1.3.6.1.4.1.14519.5.2.1.6279.6001.162351539386551708034407968929.mhd\n",
      "SeriesUID for current file: 1.3.6.1.4.1.14519.5.2.1.6279.6001.162351539386551708034407968929\n",
      "Found 786 nodes for seriesuid: 1.3.6.1.4.1.14519.5.2.1.6279.6001.162351539386551708034407968929\n",
      "Image array shape: (265, 512, 512)\n",
      "Output path for .npy file: LUNA16/Luna Output/subset5/1.3.6.1.4.1.14519.5.2.1.6279.6001.162351539386551708034407968929.npy\n"
     ]
    },
    {
     "name": "stderr",
     "output_type": "stream",
     "text": [
      "\r",
      " 56%|██████████████████████▊                  | 494/888 [02:47<03:03,  2.15it/s]"
     ]
    },
    {
     "name": "stdout",
     "output_type": "stream",
     "text": [
      "Saved: LUNA16/Luna Output/subset5/1.3.6.1.4.1.14519.5.2.1.6279.6001.162351539386551708034407968929.npy\n",
      "\n",
      "Processing file: LUNA16/Dataset/subset5/1.3.6.1.4.1.14519.5.2.1.6279.6001.238855414831158993232534884296.mhd\n",
      "SeriesUID for current file: 1.3.6.1.4.1.14519.5.2.1.6279.6001.238855414831158993232534884296\n",
      "Found 1077 nodes for seriesuid: 1.3.6.1.4.1.14519.5.2.1.6279.6001.238855414831158993232534884296\n",
      "Image array shape: (372, 512, 512)\n",
      "Output path for .npy file: LUNA16/Luna Output/subset5/1.3.6.1.4.1.14519.5.2.1.6279.6001.238855414831158993232534884296.npy\n"
     ]
    },
    {
     "name": "stderr",
     "output_type": "stream",
     "text": [
      "\r",
      " 56%|██████████████████████▊                  | 495/888 [02:47<03:46,  1.73it/s]"
     ]
    },
    {
     "name": "stdout",
     "output_type": "stream",
     "text": [
      "Saved: LUNA16/Luna Output/subset5/1.3.6.1.4.1.14519.5.2.1.6279.6001.238855414831158993232534884296.npy\n",
      "\n",
      "Processing file: LUNA16/Dataset/subset5/1.3.6.1.4.1.14519.5.2.1.6279.6001.299476369290630280560355838785.mhd\n",
      "SeriesUID for current file: 1.3.6.1.4.1.14519.5.2.1.6279.6001.299476369290630280560355838785\n",
      "Found 714 nodes for seriesuid: 1.3.6.1.4.1.14519.5.2.1.6279.6001.299476369290630280560355838785\n",
      "Image array shape: (285, 512, 512)\n",
      "Output path for .npy file: LUNA16/Luna Output/subset5/1.3.6.1.4.1.14519.5.2.1.6279.6001.299476369290630280560355838785.npy\n"
     ]
    },
    {
     "name": "stderr",
     "output_type": "stream",
     "text": [
      "\r",
      " 56%|██████████████████████▉                  | 496/888 [02:48<04:10,  1.56it/s]"
     ]
    },
    {
     "name": "stdout",
     "output_type": "stream",
     "text": [
      "Saved: LUNA16/Luna Output/subset5/1.3.6.1.4.1.14519.5.2.1.6279.6001.299476369290630280560355838785.npy\n",
      "\n",
      "Processing file: LUNA16/Dataset/subset5/1.3.6.1.4.1.14519.5.2.1.6279.6001.334184846571549530235084187602.mhd\n",
      "SeriesUID for current file: 1.3.6.1.4.1.14519.5.2.1.6279.6001.334184846571549530235084187602\n",
      "Found 547 nodes for seriesuid: 1.3.6.1.4.1.14519.5.2.1.6279.6001.334184846571549530235084187602\n",
      "Image array shape: (139, 512, 512)\n",
      "Output path for .npy file: LUNA16/Luna Output/subset5/1.3.6.1.4.1.14519.5.2.1.6279.6001.334184846571549530235084187602.npy\n"
     ]
    },
    {
     "name": "stderr",
     "output_type": "stream",
     "text": [
      "\r",
      " 56%|██████████████████████▉                  | 497/888 [02:49<03:42,  1.75it/s]"
     ]
    },
    {
     "name": "stdout",
     "output_type": "stream",
     "text": [
      "Saved: LUNA16/Luna Output/subset5/1.3.6.1.4.1.14519.5.2.1.6279.6001.334184846571549530235084187602.npy\n",
      "\n",
      "Processing file: LUNA16/Dataset/subset5/1.3.6.1.4.1.14519.5.2.1.6279.6001.111258527162678142285870245028.mhd\n",
      "SeriesUID for current file: 1.3.6.1.4.1.14519.5.2.1.6279.6001.111258527162678142285870245028\n",
      "Found 691 nodes for seriesuid: 1.3.6.1.4.1.14519.5.2.1.6279.6001.111258527162678142285870245028\n",
      "Image array shape: (253, 512, 512)\n",
      "Output path for .npy file: LUNA16/Luna Output/subset5/1.3.6.1.4.1.14519.5.2.1.6279.6001.111258527162678142285870245028.npy\n"
     ]
    },
    {
     "name": "stderr",
     "output_type": "stream",
     "text": [
      "\r",
      " 56%|██████████████████████▉                  | 498/888 [02:49<04:12,  1.54it/s]"
     ]
    },
    {
     "name": "stdout",
     "output_type": "stream",
     "text": [
      "Saved: LUNA16/Luna Output/subset5/1.3.6.1.4.1.14519.5.2.1.6279.6001.111258527162678142285870245028.npy\n",
      "\n",
      "Processing file: LUNA16/Dataset/subset5/1.3.6.1.4.1.14519.5.2.1.6279.6001.100332161840553388986847034053.mhd\n",
      "SeriesUID for current file: 1.3.6.1.4.1.14519.5.2.1.6279.6001.100332161840553388986847034053\n",
      "Found 496 nodes for seriesuid: 1.3.6.1.4.1.14519.5.2.1.6279.6001.100332161840553388986847034053\n",
      "Image array shape: (481, 512, 512)\n",
      "Output path for .npy file: LUNA16/Luna Output/subset5/1.3.6.1.4.1.14519.5.2.1.6279.6001.100332161840553388986847034053.npy\n"
     ]
    },
    {
     "name": "stderr",
     "output_type": "stream",
     "text": [
      "\r",
      " 56%|███████████████████████                  | 499/888 [02:51<05:50,  1.11it/s]"
     ]
    },
    {
     "name": "stdout",
     "output_type": "stream",
     "text": [
      "Saved: LUNA16/Luna Output/subset5/1.3.6.1.4.1.14519.5.2.1.6279.6001.100332161840553388986847034053.npy\n",
      "\n",
      "Processing file: LUNA16/Dataset/subset5/1.3.6.1.4.1.14519.5.2.1.6279.6001.201890795870532056891161597218.mhd\n",
      "SeriesUID for current file: 1.3.6.1.4.1.14519.5.2.1.6279.6001.201890795870532056891161597218\n",
      "Found 774 nodes for seriesuid: 1.3.6.1.4.1.14519.5.2.1.6279.6001.201890795870532056891161597218\n",
      "Image array shape: (487, 512, 512)\n",
      "Output path for .npy file: LUNA16/Luna Output/subset5/1.3.6.1.4.1.14519.5.2.1.6279.6001.201890795870532056891161597218.npy\n"
     ]
    },
    {
     "name": "stderr",
     "output_type": "stream",
     "text": [
      "\r",
      " 56%|███████████████████████                  | 500/888 [02:53<07:27,  1.15s/it]"
     ]
    },
    {
     "name": "stdout",
     "output_type": "stream",
     "text": [
      "Saved: LUNA16/Luna Output/subset5/1.3.6.1.4.1.14519.5.2.1.6279.6001.201890795870532056891161597218.npy\n",
      "\n",
      "Processing file: LUNA16/Dataset/subset5/1.3.6.1.4.1.14519.5.2.1.6279.6001.205615524269596458818376243313.mhd\n",
      "SeriesUID for current file: 1.3.6.1.4.1.14519.5.2.1.6279.6001.205615524269596458818376243313\n",
      "Found 404 nodes for seriesuid: 1.3.6.1.4.1.14519.5.2.1.6279.6001.205615524269596458818376243313\n",
      "Image array shape: (474, 512, 512)\n",
      "Output path for .npy file: LUNA16/Luna Output/subset5/1.3.6.1.4.1.14519.5.2.1.6279.6001.205615524269596458818376243313.npy\n"
     ]
    },
    {
     "name": "stderr",
     "output_type": "stream",
     "text": [
      "\r",
      " 56%|███████████████████████▏                 | 501/888 [02:55<09:44,  1.51s/it]"
     ]
    },
    {
     "name": "stdout",
     "output_type": "stream",
     "text": [
      "Saved: LUNA16/Luna Output/subset5/1.3.6.1.4.1.14519.5.2.1.6279.6001.205615524269596458818376243313.npy\n",
      "\n",
      "Processing file: LUNA16/Dataset/subset5/1.3.6.1.4.1.14519.5.2.1.6279.6001.160124400349792614505500125883.mhd\n",
      "SeriesUID for current file: 1.3.6.1.4.1.14519.5.2.1.6279.6001.160124400349792614505500125883\n",
      "Found 720 nodes for seriesuid: 1.3.6.1.4.1.14519.5.2.1.6279.6001.160124400349792614505500125883\n",
      "Image array shape: (130, 512, 512)\n",
      "Output path for .npy file: LUNA16/Luna Output/subset5/1.3.6.1.4.1.14519.5.2.1.6279.6001.160124400349792614505500125883.npy\n"
     ]
    },
    {
     "name": "stderr",
     "output_type": "stream",
     "text": [
      "\r",
      " 57%|███████████████████████▏                 | 502/888 [02:55<07:37,  1.19s/it]"
     ]
    },
    {
     "name": "stdout",
     "output_type": "stream",
     "text": [
      "Saved: LUNA16/Luna Output/subset5/1.3.6.1.4.1.14519.5.2.1.6279.6001.160124400349792614505500125883.npy\n",
      "\n",
      "Processing file: LUNA16/Dataset/subset5/1.3.6.1.4.1.14519.5.2.1.6279.6001.553241901808946577644850294647.mhd\n",
      "SeriesUID for current file: 1.3.6.1.4.1.14519.5.2.1.6279.6001.553241901808946577644850294647\n",
      "Found 665 nodes for seriesuid: 1.3.6.1.4.1.14519.5.2.1.6279.6001.553241901808946577644850294647\n",
      "Image array shape: (127, 512, 512)\n",
      "Output path for .npy file: LUNA16/Luna Output/subset5/1.3.6.1.4.1.14519.5.2.1.6279.6001.553241901808946577644850294647.npy\n"
     ]
    },
    {
     "name": "stderr",
     "output_type": "stream",
     "text": [
      "\r",
      " 57%|███████████████████████▏                 | 503/888 [02:56<06:10,  1.04it/s]"
     ]
    },
    {
     "name": "stdout",
     "output_type": "stream",
     "text": [
      "Saved: LUNA16/Luna Output/subset5/1.3.6.1.4.1.14519.5.2.1.6279.6001.553241901808946577644850294647.npy\n",
      "\n",
      "Processing file: LUNA16/Dataset/subset5/1.3.6.1.4.1.14519.5.2.1.6279.6001.245391706475696258069508046497.mhd\n",
      "SeriesUID for current file: 1.3.6.1.4.1.14519.5.2.1.6279.6001.245391706475696258069508046497\n",
      "Found 1044 nodes for seriesuid: 1.3.6.1.4.1.14519.5.2.1.6279.6001.245391706475696258069508046497\n",
      "Image array shape: (128, 512, 512)\n",
      "Output path for .npy file: LUNA16/Luna Output/subset5/1.3.6.1.4.1.14519.5.2.1.6279.6001.245391706475696258069508046497.npy\n"
     ]
    },
    {
     "name": "stderr",
     "output_type": "stream",
     "text": [
      "\r",
      " 57%|███████████████████████▎                 | 504/888 [02:56<05:25,  1.18it/s]"
     ]
    },
    {
     "name": "stdout",
     "output_type": "stream",
     "text": [
      "Saved: LUNA16/Luna Output/subset5/1.3.6.1.4.1.14519.5.2.1.6279.6001.245391706475696258069508046497.npy\n",
      "\n",
      "Processing file: LUNA16/Dataset/subset5/1.3.6.1.4.1.14519.5.2.1.6279.6001.111780708132595903430640048766.mhd\n",
      "SeriesUID for current file: 1.3.6.1.4.1.14519.5.2.1.6279.6001.111780708132595903430640048766\n",
      "Found 253 nodes for seriesuid: 1.3.6.1.4.1.14519.5.2.1.6279.6001.111780708132595903430640048766\n",
      "Image array shape: (348, 512, 512)\n",
      "Output path for .npy file: LUNA16/Luna Output/subset5/1.3.6.1.4.1.14519.5.2.1.6279.6001.111780708132595903430640048766.npy\n"
     ]
    },
    {
     "name": "stderr",
     "output_type": "stream",
     "text": [
      "\r",
      " 57%|███████████████████████▎                 | 505/888 [02:58<05:53,  1.08it/s]"
     ]
    },
    {
     "name": "stdout",
     "output_type": "stream",
     "text": [
      "Saved: LUNA16/Luna Output/subset5/1.3.6.1.4.1.14519.5.2.1.6279.6001.111780708132595903430640048766.npy\n",
      "\n",
      "Processing file: LUNA16/Dataset/subset5/1.3.6.1.4.1.14519.5.2.1.6279.6001.112740418331256326754121315800.mhd\n",
      "SeriesUID for current file: 1.3.6.1.4.1.14519.5.2.1.6279.6001.112740418331256326754121315800\n",
      "Found 1105 nodes for seriesuid: 1.3.6.1.4.1.14519.5.2.1.6279.6001.112740418331256326754121315800\n",
      "Image array shape: (149, 512, 512)\n",
      "Output path for .npy file: LUNA16/Luna Output/subset5/1.3.6.1.4.1.14519.5.2.1.6279.6001.112740418331256326754121315800.npy\n"
     ]
    },
    {
     "name": "stderr",
     "output_type": "stream",
     "text": [
      "\r",
      " 57%|███████████████████████▎                 | 506/888 [02:59<06:00,  1.06it/s]"
     ]
    },
    {
     "name": "stdout",
     "output_type": "stream",
     "text": [
      "Saved: LUNA16/Luna Output/subset5/1.3.6.1.4.1.14519.5.2.1.6279.6001.112740418331256326754121315800.npy\n",
      "\n",
      "Processing file: LUNA16/Dataset/subset5/1.3.6.1.4.1.14519.5.2.1.6279.6001.258220324170977900491673635112.mhd\n",
      "SeriesUID for current file: 1.3.6.1.4.1.14519.5.2.1.6279.6001.258220324170977900491673635112\n",
      "Found 1664 nodes for seriesuid: 1.3.6.1.4.1.14519.5.2.1.6279.6001.258220324170977900491673635112\n",
      "Image array shape: (465, 512, 512)\n",
      "Output path for .npy file: LUNA16/Luna Output/subset5/1.3.6.1.4.1.14519.5.2.1.6279.6001.258220324170977900491673635112.npy\n"
     ]
    },
    {
     "name": "stderr",
     "output_type": "stream",
     "text": [
      "\r",
      " 57%|███████████████████████▍                 | 507/888 [03:00<07:50,  1.24s/it]"
     ]
    },
    {
     "name": "stdout",
     "output_type": "stream",
     "text": [
      "Saved: LUNA16/Luna Output/subset5/1.3.6.1.4.1.14519.5.2.1.6279.6001.258220324170977900491673635112.npy\n",
      "\n",
      "Processing file: LUNA16/Dataset/subset5/1.3.6.1.4.1.14519.5.2.1.6279.6001.290135156874098366424871975734.mhd\n",
      "SeriesUID for current file: 1.3.6.1.4.1.14519.5.2.1.6279.6001.290135156874098366424871975734\n",
      "Found 945 nodes for seriesuid: 1.3.6.1.4.1.14519.5.2.1.6279.6001.290135156874098366424871975734\n",
      "Image array shape: (141, 512, 512)\n",
      "Output path for .npy file: LUNA16/Luna Output/subset5/1.3.6.1.4.1.14519.5.2.1.6279.6001.290135156874098366424871975734.npy\n"
     ]
    },
    {
     "name": "stderr",
     "output_type": "stream",
     "text": [
      "\r",
      " 57%|███████████████████████▍                 | 508/888 [03:01<06:25,  1.01s/it]"
     ]
    },
    {
     "name": "stdout",
     "output_type": "stream",
     "text": [
      "Saved: LUNA16/Luna Output/subset5/1.3.6.1.4.1.14519.5.2.1.6279.6001.290135156874098366424871975734.npy\n",
      "\n",
      "Processing file: LUNA16/Dataset/subset5/1.3.6.1.4.1.14519.5.2.1.6279.6001.245349763807614756148761326488.mhd\n",
      "SeriesUID for current file: 1.3.6.1.4.1.14519.5.2.1.6279.6001.245349763807614756148761326488\n",
      "Found 428 nodes for seriesuid: 1.3.6.1.4.1.14519.5.2.1.6279.6001.245349763807614756148761326488\n",
      "Image array shape: (138, 512, 512)\n",
      "Output path for .npy file: LUNA16/Luna Output/subset5/1.3.6.1.4.1.14519.5.2.1.6279.6001.245349763807614756148761326488.npy\n"
     ]
    },
    {
     "name": "stderr",
     "output_type": "stream",
     "text": [
      "\r",
      " 57%|███████████████████████▌                 | 509/888 [03:02<05:36,  1.13it/s]"
     ]
    },
    {
     "name": "stdout",
     "output_type": "stream",
     "text": [
      "Saved: LUNA16/Luna Output/subset5/1.3.6.1.4.1.14519.5.2.1.6279.6001.245349763807614756148761326488.npy\n",
      "\n",
      "Processing file: LUNA16/Dataset/subset5/1.3.6.1.4.1.14519.5.2.1.6279.6001.273525289046256012743471155680.mhd\n",
      "SeriesUID for current file: 1.3.6.1.4.1.14519.5.2.1.6279.6001.273525289046256012743471155680\n",
      "Found 1011 nodes for seriesuid: 1.3.6.1.4.1.14519.5.2.1.6279.6001.273525289046256012743471155680\n",
      "Image array shape: (280, 512, 512)\n",
      "Output path for .npy file: LUNA16/Luna Output/subset5/1.3.6.1.4.1.14519.5.2.1.6279.6001.273525289046256012743471155680.npy\n"
     ]
    },
    {
     "name": "stderr",
     "output_type": "stream",
     "text": [
      "\r",
      " 57%|███████████████████████▌                 | 510/888 [03:03<06:36,  1.05s/it]"
     ]
    },
    {
     "name": "stdout",
     "output_type": "stream",
     "text": [
      "Saved: LUNA16/Luna Output/subset5/1.3.6.1.4.1.14519.5.2.1.6279.6001.273525289046256012743471155680.npy\n",
      "\n",
      "Processing file: LUNA16/Dataset/subset5/1.3.6.1.4.1.14519.5.2.1.6279.6001.100398138793540579077826395208.mhd\n",
      "SeriesUID for current file: 1.3.6.1.4.1.14519.5.2.1.6279.6001.100398138793540579077826395208\n",
      "Found 1135 nodes for seriesuid: 1.3.6.1.4.1.14519.5.2.1.6279.6001.100398138793540579077826395208\n",
      "Image array shape: (157, 512, 512)\n",
      "Output path for .npy file: LUNA16/Luna Output/subset5/1.3.6.1.4.1.14519.5.2.1.6279.6001.100398138793540579077826395208.npy\n"
     ]
    },
    {
     "name": "stderr",
     "output_type": "stream",
     "text": [
      "\r",
      " 58%|███████████████████████▌                 | 511/888 [03:04<06:03,  1.04it/s]"
     ]
    },
    {
     "name": "stdout",
     "output_type": "stream",
     "text": [
      "Saved: LUNA16/Luna Output/subset5/1.3.6.1.4.1.14519.5.2.1.6279.6001.100398138793540579077826395208.npy\n",
      "\n",
      "Processing file: LUNA16/Dataset/subset5/1.3.6.1.4.1.14519.5.2.1.6279.6001.627998298349675613581885874395.mhd\n",
      "SeriesUID for current file: 1.3.6.1.4.1.14519.5.2.1.6279.6001.627998298349675613581885874395\n",
      "Found 1233 nodes for seriesuid: 1.3.6.1.4.1.14519.5.2.1.6279.6001.627998298349675613581885874395\n",
      "Image array shape: (525, 512, 512)\n",
      "Output path for .npy file: LUNA16/Luna Output/subset5/1.3.6.1.4.1.14519.5.2.1.6279.6001.627998298349675613581885874395.npy\n"
     ]
    },
    {
     "name": "stderr",
     "output_type": "stream",
     "text": [
      "\r",
      " 58%|███████████████████████▋                 | 512/888 [03:07<09:34,  1.53s/it]"
     ]
    },
    {
     "name": "stdout",
     "output_type": "stream",
     "text": [
      "Saved: LUNA16/Luna Output/subset5/1.3.6.1.4.1.14519.5.2.1.6279.6001.627998298349675613581885874395.npy\n",
      "\n",
      "Processing file: LUNA16/Dataset/subset5/1.3.6.1.4.1.14519.5.2.1.6279.6001.138894439026794145866157853158.mhd\n",
      "SeriesUID for current file: 1.3.6.1.4.1.14519.5.2.1.6279.6001.138894439026794145866157853158\n",
      "Found 710 nodes for seriesuid: 1.3.6.1.4.1.14519.5.2.1.6279.6001.138894439026794145866157853158\n",
      "Image array shape: (235, 512, 512)\n",
      "Output path for .npy file: LUNA16/Luna Output/subset5/1.3.6.1.4.1.14519.5.2.1.6279.6001.138894439026794145866157853158.npy\n"
     ]
    },
    {
     "name": "stderr",
     "output_type": "stream",
     "text": [
      "\r",
      " 58%|███████████████████████▋                 | 513/888 [03:08<08:52,  1.42s/it]"
     ]
    },
    {
     "name": "stdout",
     "output_type": "stream",
     "text": [
      "Saved: LUNA16/Luna Output/subset5/1.3.6.1.4.1.14519.5.2.1.6279.6001.138894439026794145866157853158.npy\n",
      "\n",
      "Processing file: LUNA16/Dataset/subset5/1.3.6.1.4.1.14519.5.2.1.6279.6001.394470743585708729682444806008.mhd\n",
      "SeriesUID for current file: 1.3.6.1.4.1.14519.5.2.1.6279.6001.394470743585708729682444806008\n",
      "Found 742 nodes for seriesuid: 1.3.6.1.4.1.14519.5.2.1.6279.6001.394470743585708729682444806008\n",
      "Image array shape: (327, 512, 512)\n",
      "Output path for .npy file: LUNA16/Luna Output/subset5/1.3.6.1.4.1.14519.5.2.1.6279.6001.394470743585708729682444806008.npy\n"
     ]
    },
    {
     "name": "stderr",
     "output_type": "stream",
     "text": [
      "\r",
      " 58%|███████████████████████▋                 | 514/888 [03:10<10:34,  1.70s/it]"
     ]
    },
    {
     "name": "stdout",
     "output_type": "stream",
     "text": [
      "Saved: LUNA16/Luna Output/subset5/1.3.6.1.4.1.14519.5.2.1.6279.6001.394470743585708729682444806008.npy\n",
      "\n",
      "Processing file: LUNA16/Dataset/subset5/1.3.6.1.4.1.14519.5.2.1.6279.6001.219281726101239572270900838145.mhd\n",
      "SeriesUID for current file: 1.3.6.1.4.1.14519.5.2.1.6279.6001.219281726101239572270900838145\n",
      "Found 801 nodes for seriesuid: 1.3.6.1.4.1.14519.5.2.1.6279.6001.219281726101239572270900838145\n",
      "Image array shape: (155, 512, 512)\n",
      "Output path for .npy file: LUNA16/Luna Output/subset5/1.3.6.1.4.1.14519.5.2.1.6279.6001.219281726101239572270900838145.npy\n"
     ]
    },
    {
     "name": "stderr",
     "output_type": "stream",
     "text": [
      "\r",
      " 58%|███████████████████████▊                 | 515/888 [03:11<09:14,  1.49s/it]"
     ]
    },
    {
     "name": "stdout",
     "output_type": "stream",
     "text": [
      "Saved: LUNA16/Luna Output/subset5/1.3.6.1.4.1.14519.5.2.1.6279.6001.219281726101239572270900838145.npy\n",
      "\n",
      "Processing file: LUNA16/Dataset/subset5/1.3.6.1.4.1.14519.5.2.1.6279.6001.183056151780567460322586876100.mhd\n",
      "SeriesUID for current file: 1.3.6.1.4.1.14519.5.2.1.6279.6001.183056151780567460322586876100\n",
      "Found 945 nodes for seriesuid: 1.3.6.1.4.1.14519.5.2.1.6279.6001.183056151780567460322586876100\n",
      "Image array shape: (442, 512, 512)\n",
      "Output path for .npy file: LUNA16/Luna Output/subset5/1.3.6.1.4.1.14519.5.2.1.6279.6001.183056151780567460322586876100.npy\n"
     ]
    },
    {
     "name": "stderr",
     "output_type": "stream",
     "text": [
      "\r",
      " 58%|███████████████████████▊                 | 516/888 [03:16<14:59,  2.42s/it]"
     ]
    },
    {
     "name": "stdout",
     "output_type": "stream",
     "text": [
      "Saved: LUNA16/Luna Output/subset5/1.3.6.1.4.1.14519.5.2.1.6279.6001.183056151780567460322586876100.npy\n",
      "\n",
      "Processing file: LUNA16/Dataset/subset5/1.3.6.1.4.1.14519.5.2.1.6279.6001.842980983137518332429408284002.mhd\n",
      "SeriesUID for current file: 1.3.6.1.4.1.14519.5.2.1.6279.6001.842980983137518332429408284002\n",
      "Found 449 nodes for seriesuid: 1.3.6.1.4.1.14519.5.2.1.6279.6001.842980983137518332429408284002\n",
      "Image array shape: (231, 512, 512)\n",
      "Output path for .npy file: LUNA16/Luna Output/subset5/1.3.6.1.4.1.14519.5.2.1.6279.6001.842980983137518332429408284002.npy\n"
     ]
    },
    {
     "name": "stderr",
     "output_type": "stream",
     "text": [
      "\r",
      " 58%|███████████████████████▊                 | 517/888 [03:17<13:10,  2.13s/it]"
     ]
    },
    {
     "name": "stdout",
     "output_type": "stream",
     "text": [
      "Saved: LUNA16/Luna Output/subset5/1.3.6.1.4.1.14519.5.2.1.6279.6001.842980983137518332429408284002.npy\n",
      "\n",
      "Processing file: LUNA16/Dataset/subset5/1.3.6.1.4.1.14519.5.2.1.6279.6001.234400932423244218697302970157.mhd\n",
      "SeriesUID for current file: 1.3.6.1.4.1.14519.5.2.1.6279.6001.234400932423244218697302970157\n",
      "Found 596 nodes for seriesuid: 1.3.6.1.4.1.14519.5.2.1.6279.6001.234400932423244218697302970157\n",
      "Image array shape: (143, 512, 512)\n",
      "Output path for .npy file: LUNA16/Luna Output/subset5/1.3.6.1.4.1.14519.5.2.1.6279.6001.234400932423244218697302970157.npy\n"
     ]
    },
    {
     "name": "stderr",
     "output_type": "stream",
     "text": [
      "\r",
      " 58%|███████████████████████▉                 | 518/888 [03:18<10:55,  1.77s/it]"
     ]
    },
    {
     "name": "stdout",
     "output_type": "stream",
     "text": [
      "Saved: LUNA16/Luna Output/subset5/1.3.6.1.4.1.14519.5.2.1.6279.6001.234400932423244218697302970157.npy\n",
      "\n",
      "Processing file: LUNA16/Dataset/subset5/1.3.6.1.4.1.14519.5.2.1.6279.6001.160586340600816116143631200450.mhd\n",
      "SeriesUID for current file: 1.3.6.1.4.1.14519.5.2.1.6279.6001.160586340600816116143631200450\n",
      "Found 1059 nodes for seriesuid: 1.3.6.1.4.1.14519.5.2.1.6279.6001.160586340600816116143631200450\n",
      "Image array shape: (133, 512, 512)\n",
      "Output path for .npy file: LUNA16/Luna Output/subset5/1.3.6.1.4.1.14519.5.2.1.6279.6001.160586340600816116143631200450.npy\n"
     ]
    },
    {
     "name": "stderr",
     "output_type": "stream",
     "text": [
      "\r",
      " 58%|███████████████████████▉                 | 519/888 [03:20<10:45,  1.75s/it]"
     ]
    },
    {
     "name": "stdout",
     "output_type": "stream",
     "text": [
      "Saved: LUNA16/Luna Output/subset5/1.3.6.1.4.1.14519.5.2.1.6279.6001.160586340600816116143631200450.npy\n",
      "\n",
      "Processing file: LUNA16/Dataset/subset5/1.3.6.1.4.1.14519.5.2.1.6279.6001.205523326998654833765855998037.mhd\n",
      "SeriesUID for current file: 1.3.6.1.4.1.14519.5.2.1.6279.6001.205523326998654833765855998037\n",
      "Found 760 nodes for seriesuid: 1.3.6.1.4.1.14519.5.2.1.6279.6001.205523326998654833765855998037\n",
      "Image array shape: (268, 512, 512)\n",
      "Output path for .npy file: LUNA16/Luna Output/subset5/1.3.6.1.4.1.14519.5.2.1.6279.6001.205523326998654833765855998037.npy\n"
     ]
    },
    {
     "name": "stderr",
     "output_type": "stream",
     "text": [
      " 59%|████████████████████████                 | 521/888 [03:20<05:45,  1.06it/s]"
     ]
    },
    {
     "name": "stdout",
     "output_type": "stream",
     "text": [
      "Error saving .npy file for LUNA16/Dataset/subset5/1.3.6.1.4.1.14519.5.2.1.6279.6001.205523326998654833765855998037.mhd: 70254592 requested and 0 written\n",
      "\n",
      "Processing file: LUNA16/Dataset/subset5/1.3.6.1.4.1.14519.5.2.1.6279.6001.413896555982844732694353377538.mhd\n",
      "SeriesUID for current file: 1.3.6.1.4.1.14519.5.2.1.6279.6001.413896555982844732694353377538\n",
      "Found 809 nodes for seriesuid: 1.3.6.1.4.1.14519.5.2.1.6279.6001.413896555982844732694353377538\n",
      "Image array shape: (154, 512, 512)\n",
      "Output path for .npy file: LUNA16/Luna Output/subset5/1.3.6.1.4.1.14519.5.2.1.6279.6001.413896555982844732694353377538.npy\n",
      "Error saving .npy file for LUNA16/Dataset/subset5/1.3.6.1.4.1.14519.5.2.1.6279.6001.413896555982844732694353377538.mhd: 40370176 requested and 0 written\n",
      "\n",
      "Processing file: LUNA16/Dataset/subset5/1.3.6.1.4.1.14519.5.2.1.6279.6001.174907798609768549012640380786.mhd\n",
      "SeriesUID for current file: 1.3.6.1.4.1.14519.5.2.1.6279.6001.174907798609768549012640380786\n",
      "Found 1056 nodes for seriesuid: 1.3.6.1.4.1.14519.5.2.1.6279.6001.174907798609768549012640380786\n",
      "Image array shape: (125, 512, 512)\n",
      "Output path for .npy file: LUNA16/Luna Output/subset5/1.3.6.1.4.1.14519.5.2.1.6279.6001.174907798609768549012640380786.npy\n"
     ]
    },
    {
     "name": "stderr",
     "output_type": "stream",
     "text": [
      "\r",
      " 59%|████████████████████████                 | 522/888 [03:20<04:12,  1.45it/s]"
     ]
    },
    {
     "name": "stdout",
     "output_type": "stream",
     "text": [
      "Error saving .npy file for LUNA16/Dataset/subset5/1.3.6.1.4.1.14519.5.2.1.6279.6001.174907798609768549012640380786.mhd: 32768000 requested and 0 written\n",
      "\n",
      "Processing file: LUNA16/Dataset/subset5/1.3.6.1.4.1.14519.5.2.1.6279.6001.910757789941076242457816491305.mhd\n",
      "SeriesUID for current file: 1.3.6.1.4.1.14519.5.2.1.6279.6001.910757789941076242457816491305\n",
      "Found 915 nodes for seriesuid: 1.3.6.1.4.1.14519.5.2.1.6279.6001.910757789941076242457816491305\n",
      "Image array shape: (130, 512, 512)\n",
      "Output path for .npy file: LUNA16/Luna Output/subset5/1.3.6.1.4.1.14519.5.2.1.6279.6001.910757789941076242457816491305.npy\n",
      "Error saving .npy file for LUNA16/Dataset/subset5/1.3.6.1.4.1.14519.5.2.1.6279.6001.910757789941076242457816491305.mhd: 34078720 requested and 0 written\n",
      "\n",
      "Processing file: LUNA16/Dataset/subset5/1.3.6.1.4.1.14519.5.2.1.6279.6001.338104567770715523699587505022.mhd\n",
      "SeriesUID for current file: 1.3.6.1.4.1.14519.5.2.1.6279.6001.338104567770715523699587505022\n",
      "Found 797 nodes for seriesuid: 1.3.6.1.4.1.14519.5.2.1.6279.6001.338104567770715523699587505022\n"
     ]
    },
    {
     "name": "stderr",
     "output_type": "stream",
     "text": [
      "\r",
      " 59%|████████████████████████▏                | 524/888 [03:21<02:55,  2.08it/s]"
     ]
    },
    {
     "name": "stdout",
     "output_type": "stream",
     "text": [
      "Image array shape: (513, 512, 512)\n",
      "Output path for .npy file: LUNA16/Luna Output/subset5/1.3.6.1.4.1.14519.5.2.1.6279.6001.338104567770715523699587505022.npy\n",
      "Error saving .npy file for LUNA16/Dataset/subset5/1.3.6.1.4.1.14519.5.2.1.6279.6001.338104567770715523699587505022.mhd: 134479872 requested and 0 written\n",
      "\n",
      "Processing file: LUNA16/Dataset/subset5/1.3.6.1.4.1.14519.5.2.1.6279.6001.275755514659958628040305922764.mhd\n",
      "SeriesUID for current file: 1.3.6.1.4.1.14519.5.2.1.6279.6001.275755514659958628040305922764\n",
      "Found 1131 nodes for seriesuid: 1.3.6.1.4.1.14519.5.2.1.6279.6001.275755514659958628040305922764\n"
     ]
    },
    {
     "name": "stderr",
     "output_type": "stream",
     "text": [
      " 59%|████████████████████████▎                | 526/888 [03:21<02:15,  2.67it/s]"
     ]
    },
    {
     "name": "stdout",
     "output_type": "stream",
     "text": [
      "Image array shape: (493, 512, 512)\n",
      "Output path for .npy file: LUNA16/Luna Output/subset5/1.3.6.1.4.1.14519.5.2.1.6279.6001.275755514659958628040305922764.npy\n",
      "Error saving .npy file for LUNA16/Dataset/subset5/1.3.6.1.4.1.14519.5.2.1.6279.6001.275755514659958628040305922764.mhd: 129236992 requested and 0 written\n",
      "\n",
      "Processing file: LUNA16/Dataset/subset5/1.3.6.1.4.1.14519.5.2.1.6279.6001.188265424231150847356515802868.mhd\n",
      "SeriesUID for current file: 1.3.6.1.4.1.14519.5.2.1.6279.6001.188265424231150847356515802868\n",
      "Found 1363 nodes for seriesuid: 1.3.6.1.4.1.14519.5.2.1.6279.6001.188265424231150847356515802868\n",
      "Image array shape: (149, 512, 512)\n",
      "Output path for .npy file: LUNA16/Luna Output/subset5/1.3.6.1.4.1.14519.5.2.1.6279.6001.188265424231150847356515802868.npy\n",
      "Error saving .npy file for LUNA16/Dataset/subset5/1.3.6.1.4.1.14519.5.2.1.6279.6001.188265424231150847356515802868.mhd: 39059456 requested and 0 written\n",
      "\n",
      "Processing file: LUNA16/Dataset/subset5/1.3.6.1.4.1.14519.5.2.1.6279.6001.397202838387416555106806022938.mhd\n",
      "SeriesUID for current file: 1.3.6.1.4.1.14519.5.2.1.6279.6001.397202838387416555106806022938\n",
      "Found 66 nodes for seriesuid: 1.3.6.1.4.1.14519.5.2.1.6279.6001.397202838387416555106806022938\n"
     ]
    },
    {
     "name": "stderr",
     "output_type": "stream",
     "text": [
      " 59%|████████████████████████▍                | 528/888 [03:21<01:30,  4.00it/s]"
     ]
    },
    {
     "name": "stdout",
     "output_type": "stream",
     "text": [
      "Image array shape: (214, 512, 512)\n",
      "Output path for .npy file: LUNA16/Luna Output/subset5/1.3.6.1.4.1.14519.5.2.1.6279.6001.397202838387416555106806022938.npy\n",
      "Error saving .npy file for LUNA16/Dataset/subset5/1.3.6.1.4.1.14519.5.2.1.6279.6001.397202838387416555106806022938.mhd: 56098816 requested and 0 written\n",
      "\n",
      "Processing file: LUNA16/Dataset/subset5/1.3.6.1.4.1.14519.5.2.1.6279.6001.262736997975960398949912434623.mhd\n",
      "SeriesUID for current file: 1.3.6.1.4.1.14519.5.2.1.6279.6001.262736997975960398949912434623\n",
      "Found 940 nodes for seriesuid: 1.3.6.1.4.1.14519.5.2.1.6279.6001.262736997975960398949912434623\n",
      "Image array shape: (182, 512, 512)\n",
      "Output path for .npy file: LUNA16/Luna Output/subset5/1.3.6.1.4.1.14519.5.2.1.6279.6001.262736997975960398949912434623.npy\n",
      "Error saving .npy file for LUNA16/Dataset/subset5/1.3.6.1.4.1.14519.5.2.1.6279.6001.262736997975960398949912434623.mhd: 47710208 requested and 0 written\n",
      "\n",
      "Processing file: LUNA16/Dataset/subset5/1.3.6.1.4.1.14519.5.2.1.6279.6001.257840703452266097926250569223.mhd\n",
      "SeriesUID for current file: 1.3.6.1.4.1.14519.5.2.1.6279.6001.257840703452266097926250569223\n",
      "Found 1009 nodes for seriesuid: 1.3.6.1.4.1.14519.5.2.1.6279.6001.257840703452266097926250569223\n"
     ]
    },
    {
     "name": "stderr",
     "output_type": "stream",
     "text": [
      "\r",
      " 60%|████████████████████████▍                | 530/888 [03:22<01:04,  5.57it/s]"
     ]
    },
    {
     "name": "stdout",
     "output_type": "stream",
     "text": [
      "Image array shape: (119, 512, 512)\n",
      "Output path for .npy file: LUNA16/Luna Output/subset5/1.3.6.1.4.1.14519.5.2.1.6279.6001.257840703452266097926250569223.npy\n",
      "Error saving .npy file for LUNA16/Dataset/subset5/1.3.6.1.4.1.14519.5.2.1.6279.6001.257840703452266097926250569223.mhd: 31195136 requested and 0 written\n",
      "\n",
      "Processing file: LUNA16/Dataset/subset5/1.3.6.1.4.1.14519.5.2.1.6279.6001.132817748896065918417924920957.mhd\n",
      "SeriesUID for current file: 1.3.6.1.4.1.14519.5.2.1.6279.6001.132817748896065918417924920957\n",
      "Found 902 nodes for seriesuid: 1.3.6.1.4.1.14519.5.2.1.6279.6001.132817748896065918417924920957\n",
      "Image array shape: (133, 512, 512)\n",
      "Output path for .npy file: LUNA16/Luna Output/subset5/1.3.6.1.4.1.14519.5.2.1.6279.6001.132817748896065918417924920957.npy\n",
      "Error saving .npy file for LUNA16/Dataset/subset5/1.3.6.1.4.1.14519.5.2.1.6279.6001.132817748896065918417924920957.mhd: 34865152 requested and 0 written\n",
      "\n",
      "Processing file: LUNA16/Dataset/subset5/1.3.6.1.4.1.14519.5.2.1.6279.6001.244442540088515471945035689377.mhd\n",
      "SeriesUID for current file: 1.3.6.1.4.1.14519.5.2.1.6279.6001.244442540088515471945035689377\n",
      "Found 916 nodes for seriesuid: 1.3.6.1.4.1.14519.5.2.1.6279.6001.244442540088515471945035689377\n"
     ]
    },
    {
     "name": "stderr",
     "output_type": "stream",
     "text": [
      "\r",
      " 60%|████████████████████████▌                | 531/888 [03:22<01:14,  4.81it/s]"
     ]
    },
    {
     "name": "stdout",
     "output_type": "stream",
     "text": [
      "Image array shape: (425, 512, 512)\n",
      "Output path for .npy file: LUNA16/Luna Output/subset5/1.3.6.1.4.1.14519.5.2.1.6279.6001.244442540088515471945035689377.npy\n",
      "Error saving .npy file for LUNA16/Dataset/subset5/1.3.6.1.4.1.14519.5.2.1.6279.6001.244442540088515471945035689377.mhd: 111411200 requested and 0 written\n",
      "\n",
      "Processing file: LUNA16/Dataset/subset5/1.3.6.1.4.1.14519.5.2.1.6279.6001.291539125579672469833850180824.mhd\n",
      "SeriesUID for current file: 1.3.6.1.4.1.14519.5.2.1.6279.6001.291539125579672469833850180824\n",
      "Found 915 nodes for seriesuid: 1.3.6.1.4.1.14519.5.2.1.6279.6001.291539125579672469833850180824\n"
     ]
    },
    {
     "name": "stderr",
     "output_type": "stream",
     "text": [
      "\r",
      " 60%|████████████████████████▌                | 532/888 [03:22<01:33,  3.82it/s]"
     ]
    },
    {
     "name": "stdout",
     "output_type": "stream",
     "text": [
      "Image array shape: (567, 512, 512)\n",
      "Output path for .npy file: LUNA16/Luna Output/subset5/1.3.6.1.4.1.14519.5.2.1.6279.6001.291539125579672469833850180824.npy\n",
      "Error saving .npy file for LUNA16/Dataset/subset5/1.3.6.1.4.1.14519.5.2.1.6279.6001.291539125579672469833850180824.mhd: 148635648 requested and 0 written\n",
      "\n",
      "Processing file: LUNA16/Dataset/subset5/1.3.6.1.4.1.14519.5.2.1.6279.6001.176638348958425792989125209419.mhd\n",
      "SeriesUID for current file: 1.3.6.1.4.1.14519.5.2.1.6279.6001.176638348958425792989125209419\n",
      "Found 940 nodes for seriesuid: 1.3.6.1.4.1.14519.5.2.1.6279.6001.176638348958425792989125209419\n",
      "Image array shape: (245, 512, 512)\n",
      "Output path for .npy file: LUNA16/Luna Output/subset5/1.3.6.1.4.1.14519.5.2.1.6279.6001.176638348958425792989125209419.npy\n"
     ]
    },
    {
     "name": "stderr",
     "output_type": "stream",
     "text": [
      " 60%|████████████████████████▋                | 534/888 [03:23<01:13,  4.81it/s]"
     ]
    },
    {
     "name": "stdout",
     "output_type": "stream",
     "text": [
      "Error saving .npy file for LUNA16/Dataset/subset5/1.3.6.1.4.1.14519.5.2.1.6279.6001.176638348958425792989125209419.mhd: 64225280 requested and 0 written\n",
      "\n",
      "Processing file: LUNA16/Dataset/subset5/1.3.6.1.4.1.14519.5.2.1.6279.6001.745109871503276594185453478952.mhd\n",
      "SeriesUID for current file: 1.3.6.1.4.1.14519.5.2.1.6279.6001.745109871503276594185453478952\n",
      "Found 599 nodes for seriesuid: 1.3.6.1.4.1.14519.5.2.1.6279.6001.745109871503276594185453478952\n",
      "Image array shape: (154, 512, 512)\n",
      "Output path for .npy file: LUNA16/Luna Output/subset5/1.3.6.1.4.1.14519.5.2.1.6279.6001.745109871503276594185453478952.npy\n",
      "Error saving .npy file for LUNA16/Dataset/subset5/1.3.6.1.4.1.14519.5.2.1.6279.6001.745109871503276594185453478952.mhd: 40370176 requested and 0 written\n",
      "\n",
      "Processing file: LUNA16/Dataset/subset6/1.3.6.1.4.1.14519.5.2.1.6279.6001.170921541362033046216100409521.mhd\n",
      "SeriesUID for current file: 1.3.6.1.4.1.14519.5.2.1.6279.6001.170921541362033046216100409521\n",
      "Found 783 nodes for seriesuid: 1.3.6.1.4.1.14519.5.2.1.6279.6001.170921541362033046216100409521\n"
     ]
    },
    {
     "name": "stderr",
     "output_type": "stream",
     "text": [
      "\r",
      " 60%|████████████████████████▋                | 535/888 [03:23<01:31,  3.85it/s]"
     ]
    },
    {
     "name": "stdout",
     "output_type": "stream",
     "text": [
      "Image array shape: (541, 512, 512)\n",
      "Output path for .npy file: LUNA16/Luna Output/subset6/1.3.6.1.4.1.14519.5.2.1.6279.6001.170921541362033046216100409521.npy\n",
      "Error saving .npy file for LUNA16/Dataset/subset6/1.3.6.1.4.1.14519.5.2.1.6279.6001.170921541362033046216100409521.mhd: 141819904 requested and 0 written\n",
      "\n",
      "Processing file: LUNA16/Dataset/subset6/1.3.6.1.4.1.14519.5.2.1.6279.6001.251215764736737018371915284679.mhd\n",
      "SeriesUID for current file: 1.3.6.1.4.1.14519.5.2.1.6279.6001.251215764736737018371915284679\n",
      "Found 736 nodes for seriesuid: 1.3.6.1.4.1.14519.5.2.1.6279.6001.251215764736737018371915284679\n",
      "Image array shape: (143, 512, 512)\n",
      "Output path for .npy file: LUNA16/Luna Output/subset6/1.3.6.1.4.1.14519.5.2.1.6279.6001.251215764736737018371915284679.npy\n"
     ]
    },
    {
     "name": "stderr",
     "output_type": "stream",
     "text": [
      " 60%|████████████████████████▊                | 537/888 [03:24<01:51,  3.13it/s]"
     ]
    },
    {
     "name": "stdout",
     "output_type": "stream",
     "text": [
      "Saved: LUNA16/Luna Output/subset6/1.3.6.1.4.1.14519.5.2.1.6279.6001.251215764736737018371915284679.npy\n",
      "\n",
      "Processing file: LUNA16/Dataset/subset6/1.3.6.1.4.1.14519.5.2.1.6279.6001.618434772073433276874225174904.mhd\n",
      "SeriesUID for current file: 1.3.6.1.4.1.14519.5.2.1.6279.6001.618434772073433276874225174904\n",
      "Found 1093 nodes for seriesuid: 1.3.6.1.4.1.14519.5.2.1.6279.6001.618434772073433276874225174904\n",
      "Image array shape: (246, 512, 512)\n",
      "Output path for .npy file: LUNA16/Luna Output/subset6/1.3.6.1.4.1.14519.5.2.1.6279.6001.618434772073433276874225174904.npy\n",
      "Error saving .npy file for LUNA16/Dataset/subset6/1.3.6.1.4.1.14519.5.2.1.6279.6001.618434772073433276874225174904.mhd: 64487424 requested and 0 written\n",
      "\n",
      "Processing file: LUNA16/Dataset/subset6/1.3.6.1.4.1.14519.5.2.1.6279.6001.245248446973732759194067808002.mhd\n",
      "SeriesUID for current file: 1.3.6.1.4.1.14519.5.2.1.6279.6001.245248446973732759194067808002\n",
      "Found 516 nodes for seriesuid: 1.3.6.1.4.1.14519.5.2.1.6279.6001.245248446973732759194067808002\n"
     ]
    },
    {
     "name": "stderr",
     "output_type": "stream",
     "text": [
      "\r",
      " 61%|████████████████████████▊                | 538/888 [03:24<01:59,  2.94it/s]"
     ]
    },
    {
     "name": "stdout",
     "output_type": "stream",
     "text": [
      "Image array shape: (500, 512, 512)\n",
      "Output path for .npy file: LUNA16/Luna Output/subset6/1.3.6.1.4.1.14519.5.2.1.6279.6001.245248446973732759194067808002.npy\n",
      "Error saving .npy file for LUNA16/Dataset/subset6/1.3.6.1.4.1.14519.5.2.1.6279.6001.245248446973732759194067808002.mhd: 131072000 requested and 0 written\n",
      "\n",
      "Processing file: LUNA16/Dataset/subset6/1.3.6.1.4.1.14519.5.2.1.6279.6001.176030616406569931557298712518.mhd\n",
      "SeriesUID for current file: 1.3.6.1.4.1.14519.5.2.1.6279.6001.176030616406569931557298712518\n",
      "Found 1214 nodes for seriesuid: 1.3.6.1.4.1.14519.5.2.1.6279.6001.176030616406569931557298712518\n"
     ]
    },
    {
     "name": "stderr",
     "output_type": "stream",
     "text": [
      "\r",
      " 61%|████████████████████████▉                | 539/888 [03:25<01:48,  3.21it/s]"
     ]
    },
    {
     "name": "stdout",
     "output_type": "stream",
     "text": [
      "Image array shape: (253, 512, 512)\n",
      "Output path for .npy file: LUNA16/Luna Output/subset6/1.3.6.1.4.1.14519.5.2.1.6279.6001.176030616406569931557298712518.npy\n",
      "Error saving .npy file for LUNA16/Dataset/subset6/1.3.6.1.4.1.14519.5.2.1.6279.6001.176030616406569931557298712518.mhd: 66322432 requested and 0 written\n",
      "\n",
      "Processing file: LUNA16/Dataset/subset6/1.3.6.1.4.1.14519.5.2.1.6279.6001.270951128717816232360812849541.mhd\n",
      "SeriesUID for current file: 1.3.6.1.4.1.14519.5.2.1.6279.6001.270951128717816232360812849541\n",
      "Found 753 nodes for seriesuid: 1.3.6.1.4.1.14519.5.2.1.6279.6001.270951128717816232360812849541\n",
      "Image array shape: (298, 512, 512)\n",
      "Output path for .npy file: LUNA16/Luna Output/subset6/1.3.6.1.4.1.14519.5.2.1.6279.6001.270951128717816232360812849541.npy\n"
     ]
    },
    {
     "name": "stderr",
     "output_type": "stream",
     "text": [
      " 61%|████████████████████████▉                | 541/888 [03:25<01:27,  3.98it/s]"
     ]
    },
    {
     "name": "stdout",
     "output_type": "stream",
     "text": [
      "Error saving .npy file for LUNA16/Dataset/subset6/1.3.6.1.4.1.14519.5.2.1.6279.6001.270951128717816232360812849541.mhd: 78118912 requested and 0 written\n",
      "\n",
      "Processing file: LUNA16/Dataset/subset6/1.3.6.1.4.1.14519.5.2.1.6279.6001.569096986145782511000054443951.mhd\n",
      "SeriesUID for current file: 1.3.6.1.4.1.14519.5.2.1.6279.6001.569096986145782511000054443951\n",
      "Found 739 nodes for seriesuid: 1.3.6.1.4.1.14519.5.2.1.6279.6001.569096986145782511000054443951\n",
      "Image array shape: (192, 512, 512)\n",
      "Output path for .npy file: LUNA16/Luna Output/subset6/1.3.6.1.4.1.14519.5.2.1.6279.6001.569096986145782511000054443951.npy\n",
      "Error saving .npy file for LUNA16/Dataset/subset6/1.3.6.1.4.1.14519.5.2.1.6279.6001.569096986145782511000054443951.mhd: 50331648 requested and 0 written\n",
      "\n",
      "Processing file: LUNA16/Dataset/subset6/1.3.6.1.4.1.14519.5.2.1.6279.6001.404457313935200882843898832756.mhd\n",
      "SeriesUID for current file: 1.3.6.1.4.1.14519.5.2.1.6279.6001.404457313935200882843898832756\n"
     ]
    },
    {
     "name": "stderr",
     "output_type": "stream",
     "text": [
      "\r",
      " 61%|█████████████████████████                | 542/888 [03:25<01:12,  4.80it/s]"
     ]
    },
    {
     "name": "stdout",
     "output_type": "stream",
     "text": [
      "Found 1368 nodes for seriesuid: 1.3.6.1.4.1.14519.5.2.1.6279.6001.404457313935200882843898832756\n",
      "Image array shape: (176, 512, 512)\n",
      "Output path for .npy file: LUNA16/Luna Output/subset6/1.3.6.1.4.1.14519.5.2.1.6279.6001.404457313935200882843898832756.npy\n",
      "Error saving .npy file for LUNA16/Dataset/subset6/1.3.6.1.4.1.14519.5.2.1.6279.6001.404457313935200882843898832756.mhd: 46137344 requested and 0 written\n",
      "\n",
      "Processing file: LUNA16/Dataset/subset6/1.3.6.1.4.1.14519.5.2.1.6279.6001.241717018262666382493757419144.mhd\n",
      "SeriesUID for current file: 1.3.6.1.4.1.14519.5.2.1.6279.6001.241717018262666382493757419144\n",
      "Found 528 nodes for seriesuid: 1.3.6.1.4.1.14519.5.2.1.6279.6001.241717018262666382493757419144\n"
     ]
    },
    {
     "name": "stderr",
     "output_type": "stream",
     "text": [
      " 61%|█████████████████████████                | 544/888 [03:25<01:03,  5.39it/s]"
     ]
    },
    {
     "name": "stdout",
     "output_type": "stream",
     "text": [
      "Image array shape: (257, 512, 512)\n",
      "Output path for .npy file: LUNA16/Luna Output/subset6/1.3.6.1.4.1.14519.5.2.1.6279.6001.241717018262666382493757419144.npy\n",
      "Error saving .npy file for LUNA16/Dataset/subset6/1.3.6.1.4.1.14519.5.2.1.6279.6001.241717018262666382493757419144.mhd: 67371008 requested and 0 written\n",
      "\n",
      "Processing file: LUNA16/Dataset/subset6/1.3.6.1.4.1.14519.5.2.1.6279.6001.341557859428950960906150406596.mhd\n",
      "SeriesUID for current file: 1.3.6.1.4.1.14519.5.2.1.6279.6001.341557859428950960906150406596\n",
      "Found 761 nodes for seriesuid: 1.3.6.1.4.1.14519.5.2.1.6279.6001.341557859428950960906150406596\n",
      "Image array shape: (238, 512, 512)\n",
      "Output path for .npy file: LUNA16/Luna Output/subset6/1.3.6.1.4.1.14519.5.2.1.6279.6001.341557859428950960906150406596.npy\n",
      "Error saving .npy file for LUNA16/Dataset/subset6/1.3.6.1.4.1.14519.5.2.1.6279.6001.341557859428950960906150406596.mhd: 62390272 requested and 0 written\n",
      "\n",
      "Processing file: LUNA16/Dataset/subset6/1.3.6.1.4.1.14519.5.2.1.6279.6001.130765375502800983459674173881.mhd\n",
      "SeriesUID for current file: 1.3.6.1.4.1.14519.5.2.1.6279.6001.130765375502800983459674173881\n",
      "Found 651 nodes for seriesuid: 1.3.6.1.4.1.14519.5.2.1.6279.6001.130765375502800983459674173881\n",
      "Image array shape: (120, 512, 512)\n",
      "Output path for .npy file: LUNA16/Luna Output/subset6/1.3.6.1.4.1.14519.5.2.1.6279.6001.130765375502800983459674173881.npy\n"
     ]
    },
    {
     "name": "stderr",
     "output_type": "stream",
     "text": [
      "\r",
      " 61%|█████████████████████████▏               | 545/888 [03:26<01:27,  3.94it/s]"
     ]
    },
    {
     "name": "stdout",
     "output_type": "stream",
     "text": [
      "Error saving .npy file for LUNA16/Dataset/subset6/1.3.6.1.4.1.14519.5.2.1.6279.6001.130765375502800983459674173881.mhd: 31457280 requested and 16545728 written\n",
      "\n",
      "Processing file: LUNA16/Dataset/subset6/1.3.6.1.4.1.14519.5.2.1.6279.6001.658611160253017715059194304729.mhd\n",
      "SeriesUID for current file: 1.3.6.1.4.1.14519.5.2.1.6279.6001.658611160253017715059194304729\n",
      "Found 933 nodes for seriesuid: 1.3.6.1.4.1.14519.5.2.1.6279.6001.658611160253017715059194304729\n"
     ]
    },
    {
     "name": "stderr",
     "output_type": "stream",
     "text": [
      " 62%|█████████████████████████▎               | 547/888 [03:26<01:30,  3.75it/s]"
     ]
    },
    {
     "name": "stdout",
     "output_type": "stream",
     "text": [
      "Image array shape: (493, 512, 512)\n",
      "Output path for .npy file: LUNA16/Luna Output/subset6/1.3.6.1.4.1.14519.5.2.1.6279.6001.658611160253017715059194304729.npy\n",
      "Error saving .npy file for LUNA16/Dataset/subset6/1.3.6.1.4.1.14519.5.2.1.6279.6001.658611160253017715059194304729.mhd: 129236992 requested and 11274176 written\n",
      "\n",
      "Processing file: LUNA16/Dataset/subset6/1.3.6.1.4.1.14519.5.2.1.6279.6001.277452631455527999380186898011.mhd\n",
      "SeriesUID for current file: 1.3.6.1.4.1.14519.5.2.1.6279.6001.277452631455527999380186898011\n",
      "Found 801 nodes for seriesuid: 1.3.6.1.4.1.14519.5.2.1.6279.6001.277452631455527999380186898011\n",
      "Image array shape: (143, 512, 512)\n",
      "Output path for .npy file: LUNA16/Luna Output/subset6/1.3.6.1.4.1.14519.5.2.1.6279.6001.277452631455527999380186898011.npy\n",
      "Error saving .npy file for LUNA16/Dataset/subset6/1.3.6.1.4.1.14519.5.2.1.6279.6001.277452631455527999380186898011.mhd: 37486592 requested and 0 written\n",
      "\n",
      "Processing file: LUNA16/Dataset/subset6/1.3.6.1.4.1.14519.5.2.1.6279.6001.123654356399290048011621921476.mhd\n",
      "SeriesUID for current file: 1.3.6.1.4.1.14519.5.2.1.6279.6001.123654356399290048011621921476\n"
     ]
    },
    {
     "name": "stderr",
     "output_type": "stream",
     "text": [
      "\r",
      " 62%|█████████████████████████▎               | 549/888 [03:27<01:00,  5.56it/s]"
     ]
    },
    {
     "name": "stdout",
     "output_type": "stream",
     "text": [
      "Found 948 nodes for seriesuid: 1.3.6.1.4.1.14519.5.2.1.6279.6001.123654356399290048011621921476\n",
      "Image array shape: (123, 512, 512)\n",
      "Output path for .npy file: LUNA16/Luna Output/subset6/1.3.6.1.4.1.14519.5.2.1.6279.6001.123654356399290048011621921476.npy\n",
      "Error saving .npy file for LUNA16/Dataset/subset6/1.3.6.1.4.1.14519.5.2.1.6279.6001.123654356399290048011621921476.mhd: 32243712 requested and 0 written\n",
      "\n",
      "Processing file: LUNA16/Dataset/subset6/1.3.6.1.4.1.14519.5.2.1.6279.6001.221017801605543296514746423389.mhd\n",
      "SeriesUID for current file: 1.3.6.1.4.1.14519.5.2.1.6279.6001.221017801605543296514746423389\n",
      "Found 661 nodes for seriesuid: 1.3.6.1.4.1.14519.5.2.1.6279.6001.221017801605543296514746423389\n",
      "Image array shape: (133, 512, 512)\n",
      "Output path for .npy file: LUNA16/Luna Output/subset6/1.3.6.1.4.1.14519.5.2.1.6279.6001.221017801605543296514746423389.npy\n",
      "Error saving .npy file for LUNA16/Dataset/subset6/1.3.6.1.4.1.14519.5.2.1.6279.6001.221017801605543296514746423389.mhd: 34865152 requested and 0 written\n",
      "\n",
      "Processing file: LUNA16/Dataset/subset6/1.3.6.1.4.1.14519.5.2.1.6279.6001.416701701108520592702405866796.mhd\n",
      "SeriesUID for current file: 1.3.6.1.4.1.14519.5.2.1.6279.6001.416701701108520592702405866796\n",
      "Found 1275 nodes for seriesuid: 1.3.6.1.4.1.14519.5.2.1.6279.6001.416701701108520592702405866796\n"
     ]
    },
    {
     "name": "stderr",
     "output_type": "stream",
     "text": [
      "\r",
      " 62%|█████████████████████████▍               | 550/888 [03:27<01:01,  5.50it/s]"
     ]
    },
    {
     "name": "stdout",
     "output_type": "stream",
     "text": [
      "Image array shape: (277, 512, 512)\n",
      "Output path for .npy file: LUNA16/Luna Output/subset6/1.3.6.1.4.1.14519.5.2.1.6279.6001.416701701108520592702405866796.npy\n",
      "Error saving .npy file for LUNA16/Dataset/subset6/1.3.6.1.4.1.14519.5.2.1.6279.6001.416701701108520592702405866796.mhd: 72613888 requested and 0 written\n",
      "\n",
      "Processing file: LUNA16/Dataset/subset6/1.3.6.1.4.1.14519.5.2.1.6279.6001.297251044869095073091780740645.mhd\n",
      "SeriesUID for current file: 1.3.6.1.4.1.14519.5.2.1.6279.6001.297251044869095073091780740645\n",
      "Found 996 nodes for seriesuid: 1.3.6.1.4.1.14519.5.2.1.6279.6001.297251044869095073091780740645\n"
     ]
    },
    {
     "name": "stderr",
     "output_type": "stream",
     "text": [
      "\r",
      " 62%|█████████████████████████▍               | 551/888 [03:27<01:33,  3.60it/s]"
     ]
    },
    {
     "name": "stdout",
     "output_type": "stream",
     "text": [
      "Image array shape: (449, 512, 512)\n",
      "Output path for .npy file: LUNA16/Luna Output/subset6/1.3.6.1.4.1.14519.5.2.1.6279.6001.297251044869095073091780740645.npy\n",
      "Error saving .npy file for LUNA16/Dataset/subset6/1.3.6.1.4.1.14519.5.2.1.6279.6001.297251044869095073091780740645.mhd: 117702656 requested and 37861312 written\n",
      "\n",
      "Processing file: LUNA16/Dataset/subset6/1.3.6.1.4.1.14519.5.2.1.6279.6001.315770913282450940389971401304.mhd\n",
      "SeriesUID for current file: 1.3.6.1.4.1.14519.5.2.1.6279.6001.315770913282450940389971401304\n"
     ]
    },
    {
     "name": "stderr",
     "output_type": "stream",
     "text": [
      "\r",
      " 62%|█████████████████████████▍               | 552/888 [03:28<01:27,  3.83it/s]"
     ]
    },
    {
     "name": "stdout",
     "output_type": "stream",
     "text": [
      "Found 870 nodes for seriesuid: 1.3.6.1.4.1.14519.5.2.1.6279.6001.315770913282450940389971401304\n",
      "Image array shape: (230, 512, 512)\n",
      "Output path for .npy file: LUNA16/Luna Output/subset6/1.3.6.1.4.1.14519.5.2.1.6279.6001.315770913282450940389971401304.npy\n",
      "Error saving .npy file for LUNA16/Dataset/subset6/1.3.6.1.4.1.14519.5.2.1.6279.6001.315770913282450940389971401304.mhd: 60293120 requested and 0 written\n",
      "\n",
      "Processing file: LUNA16/Dataset/subset6/1.3.6.1.4.1.14519.5.2.1.6279.6001.120842785645314664964010792308.mhd\n",
      "SeriesUID for current file: 1.3.6.1.4.1.14519.5.2.1.6279.6001.120842785645314664964010792308\n",
      "Found 869 nodes for seriesuid: 1.3.6.1.4.1.14519.5.2.1.6279.6001.120842785645314664964010792308\n",
      "Image array shape: (133, 512, 512)\n",
      "Output path for .npy file: LUNA16/Luna Output/subset6/1.3.6.1.4.1.14519.5.2.1.6279.6001.120842785645314664964010792308.npy\n",
      "Error saving .npy file for LUNA16/Dataset/subset6/1.3.6.1.4.1.14519.5.2.1.6279.6001.120842785645314664964010792308.mhd: 34865152 requested and 0 written\n",
      "\n",
      "Processing file: LUNA16/Dataset/subset6/1.3.6.1.4.1.14519.5.2.1.6279.6001.164790817284381538042494285101.mhd\n",
      "SeriesUID for current file: 1.3.6.1.4.1.14519.5.2.1.6279.6001.164790817284381538042494285101\n",
      "Found 527 nodes for seriesuid: 1.3.6.1.4.1.14519.5.2.1.6279.6001.164790817284381538042494285101\n",
      "Image array shape: (162, 512, 512)\n",
      "Output path for .npy file: LUNA16/Luna Output/subset6/1.3.6.1.4.1.14519.5.2.1.6279.6001.164790817284381538042494285101.npy\n"
     ]
    },
    {
     "name": "stderr",
     "output_type": "stream",
     "text": [
      "\r",
      " 62%|█████████████████████████▌               | 554/888 [03:28<01:17,  4.31it/s]"
     ]
    },
    {
     "name": "stdout",
     "output_type": "stream",
     "text": [
      "Error saving .npy file for LUNA16/Dataset/subset6/1.3.6.1.4.1.14519.5.2.1.6279.6001.164790817284381538042494285101.mhd: 42467328 requested and 21323712 written\n",
      "\n",
      "Processing file: LUNA16/Dataset/subset6/1.3.6.1.4.1.14519.5.2.1.6279.6001.233652865358649579816568545171.mhd\n",
      "SeriesUID for current file: 1.3.6.1.4.1.14519.5.2.1.6279.6001.233652865358649579816568545171\n",
      "Found 1014 nodes for seriesuid: 1.3.6.1.4.1.14519.5.2.1.6279.6001.233652865358649579816568545171\n",
      "Image array shape: (129, 512, 512)\n",
      "Output path for .npy file: LUNA16/Luna Output/subset6/1.3.6.1.4.1.14519.5.2.1.6279.6001.233652865358649579816568545171.npy\n",
      "Error saving .npy file for LUNA16/Dataset/subset6/1.3.6.1.4.1.14519.5.2.1.6279.6001.233652865358649579816568545171.mhd: 33816576 requested and 0 written\n",
      "\n",
      "Processing file: LUNA16/Dataset/subset6/1.3.6.1.4.1.14519.5.2.1.6279.6001.463588161905537526756964393219.mhd\n",
      "SeriesUID for current file: 1.3.6.1.4.1.14519.5.2.1.6279.6001.463588161905537526756964393219\n",
      "Found 590 nodes for seriesuid: 1.3.6.1.4.1.14519.5.2.1.6279.6001.463588161905537526756964393219\n"
     ]
    },
    {
     "name": "stderr",
     "output_type": "stream",
     "text": [
      " 63%|█████████████████████████▋               | 557/888 [03:28<01:05,  5.07it/s]"
     ]
    },
    {
     "name": "stdout",
     "output_type": "stream",
     "text": [
      "Image array shape: (468, 512, 512)\n",
      "Output path for .npy file: LUNA16/Luna Output/subset6/1.3.6.1.4.1.14519.5.2.1.6279.6001.463588161905537526756964393219.npy\n",
      "Error saving .npy file for LUNA16/Dataset/subset6/1.3.6.1.4.1.14519.5.2.1.6279.6001.463588161905537526756964393219.mhd: 122683392 requested and 0 written\n",
      "\n",
      "Processing file: LUNA16/Dataset/subset6/1.3.6.1.4.1.14519.5.2.1.6279.6001.173556680294801532247454313511.mhd\n",
      "SeriesUID for current file: 1.3.6.1.4.1.14519.5.2.1.6279.6001.173556680294801532247454313511\n",
      "Found 828 nodes for seriesuid: 1.3.6.1.4.1.14519.5.2.1.6279.6001.173556680294801532247454313511\n",
      "Image array shape: (225, 512, 512)\n",
      "Output path for .npy file: LUNA16/Luna Output/subset6/1.3.6.1.4.1.14519.5.2.1.6279.6001.173556680294801532247454313511.npy\n",
      "Error saving .npy file for LUNA16/Dataset/subset6/1.3.6.1.4.1.14519.5.2.1.6279.6001.173556680294801532247454313511.mhd: 58982400 requested and 0 written\n",
      "\n",
      "Processing file: LUNA16/Dataset/subset6/1.3.6.1.4.1.14519.5.2.1.6279.6001.669435869708883155232318480131.mhd\n",
      "SeriesUID for current file: 1.3.6.1.4.1.14519.5.2.1.6279.6001.669435869708883155232318480131\n",
      "Found 897 nodes for seriesuid: 1.3.6.1.4.1.14519.5.2.1.6279.6001.669435869708883155232318480131\n"
     ]
    },
    {
     "name": "stderr",
     "output_type": "stream",
     "text": [
      "\r",
      " 63%|█████████████████████████▊               | 559/888 [03:29<00:50,  6.57it/s]"
     ]
    },
    {
     "name": "stdout",
     "output_type": "stream",
     "text": [
      "Image array shape: (130, 512, 512)\n",
      "Output path for .npy file: LUNA16/Luna Output/subset6/1.3.6.1.4.1.14519.5.2.1.6279.6001.669435869708883155232318480131.npy\n",
      "Error saving .npy file for LUNA16/Dataset/subset6/1.3.6.1.4.1.14519.5.2.1.6279.6001.669435869708883155232318480131.mhd: 34078720 requested and 0 written\n",
      "\n",
      "Processing file: LUNA16/Dataset/subset6/1.3.6.1.4.1.14519.5.2.1.6279.6001.174168737938619557573021395302.mhd\n",
      "SeriesUID for current file: 1.3.6.1.4.1.14519.5.2.1.6279.6001.174168737938619557573021395302\n",
      "Found 1171 nodes for seriesuid: 1.3.6.1.4.1.14519.5.2.1.6279.6001.174168737938619557573021395302\n",
      "Image array shape: (117, 512, 512)\n",
      "Output path for .npy file: LUNA16/Luna Output/subset6/1.3.6.1.4.1.14519.5.2.1.6279.6001.174168737938619557573021395302.npy\n",
      "Error saving .npy file for LUNA16/Dataset/subset6/1.3.6.1.4.1.14519.5.2.1.6279.6001.174168737938619557573021395302.mhd: 30670848 requested and 0 written\n",
      "\n",
      "Processing file: LUNA16/Dataset/subset6/1.3.6.1.4.1.14519.5.2.1.6279.6001.330544495001617450666819906758.mhd\n",
      "SeriesUID for current file: 1.3.6.1.4.1.14519.5.2.1.6279.6001.330544495001617450666819906758\n",
      "Found 1039 nodes for seriesuid: 1.3.6.1.4.1.14519.5.2.1.6279.6001.330544495001617450666819906758\n",
      "Image array shape: (148, 512, 512)\n",
      "Output path for .npy file: LUNA16/Luna Output/subset6/1.3.6.1.4.1.14519.5.2.1.6279.6001.330544495001617450666819906758.npy\n"
     ]
    },
    {
     "name": "stderr",
     "output_type": "stream",
     "text": [
      " 63%|█████████████████████████▉               | 561/888 [03:29<00:57,  5.70it/s]"
     ]
    },
    {
     "name": "stdout",
     "output_type": "stream",
     "text": [
      "Error saving .npy file for LUNA16/Dataset/subset6/1.3.6.1.4.1.14519.5.2.1.6279.6001.330544495001617450666819906758.mhd: 38797312 requested and 27178944 written\n",
      "\n",
      "Processing file: LUNA16/Dataset/subset6/1.3.6.1.4.1.14519.5.2.1.6279.6001.266009527139315622265711325223.mhd\n",
      "SeriesUID for current file: 1.3.6.1.4.1.14519.5.2.1.6279.6001.266009527139315622265711325223\n",
      "Found 396 nodes for seriesuid: 1.3.6.1.4.1.14519.5.2.1.6279.6001.266009527139315622265711325223\n",
      "Image array shape: (239, 512, 512)\n",
      "Output path for .npy file: LUNA16/Luna Output/subset6/1.3.6.1.4.1.14519.5.2.1.6279.6001.266009527139315622265711325223.npy\n",
      "Error saving .npy file for LUNA16/Dataset/subset6/1.3.6.1.4.1.14519.5.2.1.6279.6001.266009527139315622265711325223.mhd: 62652416 requested and 0 written\n",
      "\n",
      "Processing file: LUNA16/Dataset/subset6/1.3.6.1.4.1.14519.5.2.1.6279.6001.254138388912084634057282064266.mhd\n",
      "SeriesUID for current file: 1.3.6.1.4.1.14519.5.2.1.6279.6001.254138388912084634057282064266\n",
      "Found 409 nodes for seriesuid: 1.3.6.1.4.1.14519.5.2.1.6279.6001.254138388912084634057282064266\n",
      "Image array shape: (127, 512, 512)\n",
      "Output path for .npy file: LUNA16/Luna Output/subset6/1.3.6.1.4.1.14519.5.2.1.6279.6001.254138388912084634057282064266.npy\n"
     ]
    },
    {
     "name": "stderr",
     "output_type": "stream",
     "text": [
      "\r",
      " 63%|█████████████████████████▉               | 562/888 [03:29<00:51,  6.38it/s]"
     ]
    },
    {
     "name": "stdout",
     "output_type": "stream",
     "text": [
      "Error saving .npy file for LUNA16/Dataset/subset6/1.3.6.1.4.1.14519.5.2.1.6279.6001.254138388912084634057282064266.mhd: 33292288 requested and 0 written\n",
      "\n",
      "Processing file: LUNA16/Dataset/subset6/1.3.6.1.4.1.14519.5.2.1.6279.6001.170052181746004939527661217512.mhd\n",
      "SeriesUID for current file: 1.3.6.1.4.1.14519.5.2.1.6279.6001.170052181746004939527661217512\n",
      "Found 1080 nodes for seriesuid: 1.3.6.1.4.1.14519.5.2.1.6279.6001.170052181746004939527661217512\n"
     ]
    },
    {
     "name": "stderr",
     "output_type": "stream",
     "text": [
      "\r",
      " 63%|█████████████████████████▉               | 563/888 [03:29<01:02,  5.21it/s]"
     ]
    },
    {
     "name": "stdout",
     "output_type": "stream",
     "text": [
      "Image array shape: (278, 512, 512)\n",
      "Output path for .npy file: LUNA16/Luna Output/subset6/1.3.6.1.4.1.14519.5.2.1.6279.6001.170052181746004939527661217512.npy\n",
      "Error saving .npy file for LUNA16/Dataset/subset6/1.3.6.1.4.1.14519.5.2.1.6279.6001.170052181746004939527661217512.mhd: 72876032 requested and 0 written\n",
      "\n",
      "Processing file: LUNA16/Dataset/subset6/1.3.6.1.4.1.14519.5.2.1.6279.6001.117040183261056772902616195387.mhd\n",
      "SeriesUID for current file: 1.3.6.1.4.1.14519.5.2.1.6279.6001.117040183261056772902616195387\n",
      "Found 1134 nodes for seriesuid: 1.3.6.1.4.1.14519.5.2.1.6279.6001.117040183261056772902616195387\n",
      "Image array shape: (315, 512, 512)\n",
      "Output path for .npy file: LUNA16/Luna Output/subset6/1.3.6.1.4.1.14519.5.2.1.6279.6001.117040183261056772902616195387.npy\n"
     ]
    },
    {
     "name": "stderr",
     "output_type": "stream",
     "text": [
      " 64%|██████████████████████████               | 565/888 [03:30<01:27,  3.71it/s]"
     ]
    },
    {
     "name": "stdout",
     "output_type": "stream",
     "text": [
      "Error saving .npy file for LUNA16/Dataset/subset6/1.3.6.1.4.1.14519.5.2.1.6279.6001.117040183261056772902616195387.mhd: 82575360 requested and 20873152 written\n",
      "\n",
      "Processing file: LUNA16/Dataset/subset6/1.3.6.1.4.1.14519.5.2.1.6279.6001.153646219551578201092527860224.mhd\n",
      "SeriesUID for current file: 1.3.6.1.4.1.14519.5.2.1.6279.6001.153646219551578201092527860224\n",
      "Found 1055 nodes for seriesuid: 1.3.6.1.4.1.14519.5.2.1.6279.6001.153646219551578201092527860224\n",
      "Image array shape: (166, 512, 512)\n",
      "Output path for .npy file: LUNA16/Luna Output/subset6/1.3.6.1.4.1.14519.5.2.1.6279.6001.153646219551578201092527860224.npy\n",
      "Error saving .npy file for LUNA16/Dataset/subset6/1.3.6.1.4.1.14519.5.2.1.6279.6001.153646219551578201092527860224.mhd: 43515904 requested and 0 written\n",
      "\n",
      "Processing file: LUNA16/Dataset/subset6/1.3.6.1.4.1.14519.5.2.1.6279.6001.414288023902112119945238126594.mhd\n",
      "SeriesUID for current file: 1.3.6.1.4.1.14519.5.2.1.6279.6001.414288023902112119945238126594\n",
      "Found 378 nodes for seriesuid: 1.3.6.1.4.1.14519.5.2.1.6279.6001.414288023902112119945238126594\n"
     ]
    },
    {
     "name": "stderr",
     "output_type": "stream",
     "text": [
      "\r",
      " 64%|██████████████████████████▏              | 566/888 [03:30<01:17,  4.13it/s]"
     ]
    },
    {
     "name": "stdout",
     "output_type": "stream",
     "text": [
      "Image array shape: (258, 512, 512)\n",
      "Output path for .npy file: LUNA16/Luna Output/subset6/1.3.6.1.4.1.14519.5.2.1.6279.6001.414288023902112119945238126594.npy\n",
      "Error saving .npy file for LUNA16/Dataset/subset6/1.3.6.1.4.1.14519.5.2.1.6279.6001.414288023902112119945238126594.mhd: 67633152 requested and 0 written\n",
      "\n",
      "Processing file: LUNA16/Dataset/subset6/1.3.6.1.4.1.14519.5.2.1.6279.6001.308153138776443962077214577161.mhd\n",
      "SeriesUID for current file: 1.3.6.1.4.1.14519.5.2.1.6279.6001.308153138776443962077214577161\n",
      "Found 765 nodes for seriesuid: 1.3.6.1.4.1.14519.5.2.1.6279.6001.308153138776443962077214577161\n",
      "Image array shape: (127, 512, 512)\n",
      "Output path for .npy file: LUNA16/Luna Output/subset6/1.3.6.1.4.1.14519.5.2.1.6279.6001.308153138776443962077214577161.npy\n"
     ]
    },
    {
     "name": "stderr",
     "output_type": "stream",
     "text": [
      "\r",
      " 64%|██████████████████████████▏              | 567/888 [03:31<01:12,  4.44it/s]"
     ]
    },
    {
     "name": "stdout",
     "output_type": "stream",
     "text": [
      "Error saving .npy file for LUNA16/Dataset/subset6/1.3.6.1.4.1.14519.5.2.1.6279.6001.308153138776443962077214577161.mhd: 33292288 requested and 0 written\n",
      "\n",
      "Processing file: LUNA16/Dataset/subset6/1.3.6.1.4.1.14519.5.2.1.6279.6001.156016499715048493339281864474.mhd\n",
      "SeriesUID for current file: 1.3.6.1.4.1.14519.5.2.1.6279.6001.156016499715048493339281864474\n",
      "Found 983 nodes for seriesuid: 1.3.6.1.4.1.14519.5.2.1.6279.6001.156016499715048493339281864474\n"
     ]
    },
    {
     "name": "stderr",
     "output_type": "stream",
     "text": [
      "\r",
      " 64%|██████████████████████████▏              | 568/888 [03:31<01:21,  3.93it/s]"
     ]
    },
    {
     "name": "stdout",
     "output_type": "stream",
     "text": [
      "Image array shape: (295, 512, 512)\n",
      "Output path for .npy file: LUNA16/Luna Output/subset6/1.3.6.1.4.1.14519.5.2.1.6279.6001.156016499715048493339281864474.npy\n",
      "Error saving .npy file for LUNA16/Dataset/subset6/1.3.6.1.4.1.14519.5.2.1.6279.6001.156016499715048493339281864474.mhd: 77332480 requested and 0 written\n",
      "\n",
      "Processing file: LUNA16/Dataset/subset6/1.3.6.1.4.1.14519.5.2.1.6279.6001.307921770358136677021532761235.mhd\n",
      "SeriesUID for current file: 1.3.6.1.4.1.14519.5.2.1.6279.6001.307921770358136677021532761235\n",
      "Found 622 nodes for seriesuid: 1.3.6.1.4.1.14519.5.2.1.6279.6001.307921770358136677021532761235\n",
      "Image array shape: (224, 512, 512)\n",
      "Output path for .npy file: LUNA16/Luna Output/subset6/1.3.6.1.4.1.14519.5.2.1.6279.6001.307921770358136677021532761235.npy\n"
     ]
    },
    {
     "name": "stderr",
     "output_type": "stream",
     "text": [
      "\r",
      " 64%|██████████████████████████▎              | 569/888 [03:31<01:17,  4.13it/s]"
     ]
    },
    {
     "name": "stdout",
     "output_type": "stream",
     "text": [
      "Error saving .npy file for LUNA16/Dataset/subset6/1.3.6.1.4.1.14519.5.2.1.6279.6001.307921770358136677021532761235.mhd: 58720256 requested and 0 written\n",
      "\n",
      "Processing file: LUNA16/Dataset/subset6/1.3.6.1.4.1.14519.5.2.1.6279.6001.119209873306155771318545953948.mhd\n",
      "SeriesUID for current file: 1.3.6.1.4.1.14519.5.2.1.6279.6001.119209873306155771318545953948\n",
      "Found 704 nodes for seriesuid: 1.3.6.1.4.1.14519.5.2.1.6279.6001.119209873306155771318545953948\n"
     ]
    },
    {
     "name": "stderr",
     "output_type": "stream",
     "text": [
      "\r",
      " 64%|██████████████████████████▎              | 570/888 [03:32<01:52,  2.83it/s]"
     ]
    },
    {
     "name": "stdout",
     "output_type": "stream",
     "text": [
      "Image array shape: (519, 512, 512)\n",
      "Output path for .npy file: LUNA16/Luna Output/subset6/1.3.6.1.4.1.14519.5.2.1.6279.6001.119209873306155771318545953948.npy\n",
      "Error saving .npy file for LUNA16/Dataset/subset6/1.3.6.1.4.1.14519.5.2.1.6279.6001.119209873306155771318545953948.mhd: 136052736 requested and 0 written\n",
      "\n",
      "Processing file: LUNA16/Dataset/subset6/1.3.6.1.4.1.14519.5.2.1.6279.6001.177888806135892723698313903329.mhd\n",
      "SeriesUID for current file: 1.3.6.1.4.1.14519.5.2.1.6279.6001.177888806135892723698313903329\n",
      "Found 900 nodes for seriesuid: 1.3.6.1.4.1.14519.5.2.1.6279.6001.177888806135892723698313903329\n"
     ]
    },
    {
     "name": "stderr",
     "output_type": "stream",
     "text": [
      "\r",
      " 64%|██████████████████████████▎              | 571/888 [03:32<01:45,  3.01it/s]"
     ]
    },
    {
     "name": "stdout",
     "output_type": "stream",
     "text": [
      "Image array shape: (240, 512, 512)\n",
      "Output path for .npy file: LUNA16/Luna Output/subset6/1.3.6.1.4.1.14519.5.2.1.6279.6001.177888806135892723698313903329.npy\n",
      "Error saving .npy file for LUNA16/Dataset/subset6/1.3.6.1.4.1.14519.5.2.1.6279.6001.177888806135892723698313903329.mhd: 62914560 requested and 0 written\n",
      "\n",
      "Processing file: LUNA16/Dataset/subset6/1.3.6.1.4.1.14519.5.2.1.6279.6001.306558074682524259000586270818.mhd\n",
      "SeriesUID for current file: 1.3.6.1.4.1.14519.5.2.1.6279.6001.306558074682524259000586270818\n",
      "Found 665 nodes for seriesuid: 1.3.6.1.4.1.14519.5.2.1.6279.6001.306558074682524259000586270818\n"
     ]
    },
    {
     "name": "stderr",
     "output_type": "stream",
     "text": [
      "\r",
      " 64%|██████████████████████████▍              | 572/888 [03:32<01:55,  2.74it/s]"
     ]
    },
    {
     "name": "stdout",
     "output_type": "stream",
     "text": [
      "Image array shape: (465, 512, 512)\n",
      "Output path for .npy file: LUNA16/Luna Output/subset6/1.3.6.1.4.1.14519.5.2.1.6279.6001.306558074682524259000586270818.npy\n",
      "Error saving .npy file for LUNA16/Dataset/subset6/1.3.6.1.4.1.14519.5.2.1.6279.6001.306558074682524259000586270818.mhd: 121896960 requested and 0 written\n",
      "\n",
      "Processing file: LUNA16/Dataset/subset6/1.3.6.1.4.1.14519.5.2.1.6279.6001.171682845383273105440297561095.mhd\n",
      "SeriesUID for current file: 1.3.6.1.4.1.14519.5.2.1.6279.6001.171682845383273105440297561095\n",
      "Found 760 nodes for seriesuid: 1.3.6.1.4.1.14519.5.2.1.6279.6001.171682845383273105440297561095\n"
     ]
    },
    {
     "name": "stderr",
     "output_type": "stream",
     "text": [
      "\r",
      " 65%|██████████████████████████▍              | 573/888 [03:33<01:43,  3.04it/s]"
     ]
    },
    {
     "name": "stdout",
     "output_type": "stream",
     "text": [
      "Image array shape: (151, 512, 512)\n",
      "Output path for .npy file: LUNA16/Luna Output/subset6/1.3.6.1.4.1.14519.5.2.1.6279.6001.171682845383273105440297561095.npy\n",
      "Error saving .npy file for LUNA16/Dataset/subset6/1.3.6.1.4.1.14519.5.2.1.6279.6001.171682845383273105440297561095.mhd: 39583744 requested and 0 written\n",
      "\n",
      "Processing file: LUNA16/Dataset/subset6/1.3.6.1.4.1.14519.5.2.1.6279.6001.200725988589959521302320481687.mhd\n",
      "SeriesUID for current file: 1.3.6.1.4.1.14519.5.2.1.6279.6001.200725988589959521302320481687\n",
      "Found 1713 nodes for seriesuid: 1.3.6.1.4.1.14519.5.2.1.6279.6001.200725988589959521302320481687\n",
      "Image array shape: (187, 512, 512)\n",
      "Output path for .npy file: LUNA16/Luna Output/subset6/1.3.6.1.4.1.14519.5.2.1.6279.6001.200725988589959521302320481687.npy\n"
     ]
    },
    {
     "name": "stderr",
     "output_type": "stream",
     "text": [
      "\r",
      " 65%|██████████████████████████▌              | 574/888 [03:33<01:30,  3.48it/s]"
     ]
    },
    {
     "name": "stdout",
     "output_type": "stream",
     "text": [
      "Error saving .npy file for LUNA16/Dataset/subset6/1.3.6.1.4.1.14519.5.2.1.6279.6001.200725988589959521302320481687.mhd: 49020928 requested and 0 written\n",
      "\n",
      "Processing file: LUNA16/Dataset/subset6/1.3.6.1.4.1.14519.5.2.1.6279.6001.235217371152464582553341729176.mhd\n",
      "SeriesUID for current file: 1.3.6.1.4.1.14519.5.2.1.6279.6001.235217371152464582553341729176\n",
      "Found 594 nodes for seriesuid: 1.3.6.1.4.1.14519.5.2.1.6279.6001.235217371152464582553341729176\n",
      "Image array shape: (126, 512, 512)\n",
      "Output path for .npy file: LUNA16/Luna Output/subset6/1.3.6.1.4.1.14519.5.2.1.6279.6001.235217371152464582553341729176.npy\n",
      "Error saving .npy file for LUNA16/Dataset/subset6/1.3.6.1.4.1.14519.5.2.1.6279.6001.235217371152464582553341729176.mhd: 33030144 requested and 0 written\n",
      "\n",
      "Processing file: LUNA16/Dataset/subset6/1.3.6.1.4.1.14519.5.2.1.6279.6001.136830368929967292376608088362.mhd\n",
      "SeriesUID for current file: 1.3.6.1.4.1.14519.5.2.1.6279.6001.136830368929967292376608088362\n",
      "Found 596 nodes for seriesuid: 1.3.6.1.4.1.14519.5.2.1.6279.6001.136830368929967292376608088362\n"
     ]
    },
    {
     "name": "stderr",
     "output_type": "stream",
     "text": [
      "\r",
      " 65%|██████████████████████████▌              | 576/888 [03:33<01:23,  3.75it/s]"
     ]
    },
    {
     "name": "stdout",
     "output_type": "stream",
     "text": [
      "Image array shape: (509, 512, 512)\n",
      "Output path for .npy file: LUNA16/Luna Output/subset6/1.3.6.1.4.1.14519.5.2.1.6279.6001.136830368929967292376608088362.npy\n",
      "Error saving .npy file for LUNA16/Dataset/subset6/1.3.6.1.4.1.14519.5.2.1.6279.6001.136830368929967292376608088362.mhd: 133431296 requested and 0 written\n",
      "\n",
      "Processing file: LUNA16/Dataset/subset6/1.3.6.1.4.1.14519.5.2.1.6279.6001.149893110752986700464921264055.mhd\n",
      "SeriesUID for current file: 1.3.6.1.4.1.14519.5.2.1.6279.6001.149893110752986700464921264055\n",
      "Found 720 nodes for seriesuid: 1.3.6.1.4.1.14519.5.2.1.6279.6001.149893110752986700464921264055\n"
     ]
    },
    {
     "name": "stderr",
     "output_type": "stream",
     "text": [
      " 65%|██████████████████████████▋              | 578/888 [03:34<01:16,  4.07it/s]"
     ]
    },
    {
     "name": "stdout",
     "output_type": "stream",
     "text": [
      "Image array shape: (375, 512, 512)\n",
      "Output path for .npy file: LUNA16/Luna Output/subset6/1.3.6.1.4.1.14519.5.2.1.6279.6001.149893110752986700464921264055.npy\n",
      "Error saving .npy file for LUNA16/Dataset/subset6/1.3.6.1.4.1.14519.5.2.1.6279.6001.149893110752986700464921264055.mhd: 98304000 requested and 0 written\n",
      "\n",
      "Processing file: LUNA16/Dataset/subset6/1.3.6.1.4.1.14519.5.2.1.6279.6001.240630002689062442926543993263.mhd\n",
      "SeriesUID for current file: 1.3.6.1.4.1.14519.5.2.1.6279.6001.240630002689062442926543993263\n",
      "Found 643 nodes for seriesuid: 1.3.6.1.4.1.14519.5.2.1.6279.6001.240630002689062442926543993263\n",
      "Image array shape: (131, 512, 512)\n",
      "Output path for .npy file: LUNA16/Luna Output/subset6/1.3.6.1.4.1.14519.5.2.1.6279.6001.240630002689062442926543993263.npy\n",
      "Error saving .npy file for LUNA16/Dataset/subset6/1.3.6.1.4.1.14519.5.2.1.6279.6001.240630002689062442926543993263.mhd: 34340864 requested and 0 written\n",
      "\n",
      "Processing file: LUNA16/Dataset/subset6/1.3.6.1.4.1.14519.5.2.1.6279.6001.313756547848086902190878548835.mhd\n",
      "SeriesUID for current file: 1.3.6.1.4.1.14519.5.2.1.6279.6001.313756547848086902190878548835\n",
      "Found 317 nodes for seriesuid: 1.3.6.1.4.1.14519.5.2.1.6279.6001.313756547848086902190878548835\n"
     ]
    },
    {
     "name": "stderr",
     "output_type": "stream",
     "text": [
      " 65%|██████████████████████████▊              | 580/888 [03:34<01:06,  4.66it/s]"
     ]
    },
    {
     "name": "stdout",
     "output_type": "stream",
     "text": [
      "Image array shape: (481, 512, 512)\n",
      "Output path for .npy file: LUNA16/Luna Output/subset6/1.3.6.1.4.1.14519.5.2.1.6279.6001.313756547848086902190878548835.npy\n",
      "Error saving .npy file for LUNA16/Dataset/subset6/1.3.6.1.4.1.14519.5.2.1.6279.6001.313756547848086902190878548835.mhd: 126091264 requested and 0 written\n",
      "\n",
      "Processing file: LUNA16/Dataset/subset6/1.3.6.1.4.1.14519.5.2.1.6279.6001.329404588567903628160652715124.mhd\n",
      "SeriesUID for current file: 1.3.6.1.4.1.14519.5.2.1.6279.6001.329404588567903628160652715124\n",
      "Found 761 nodes for seriesuid: 1.3.6.1.4.1.14519.5.2.1.6279.6001.329404588567903628160652715124\n",
      "Image array shape: (147, 512, 512)\n",
      "Output path for .npy file: LUNA16/Luna Output/subset6/1.3.6.1.4.1.14519.5.2.1.6279.6001.329404588567903628160652715124.npy\n",
      "Error saving .npy file for LUNA16/Dataset/subset6/1.3.6.1.4.1.14519.5.2.1.6279.6001.329404588567903628160652715124.mhd: 38535168 requested and 0 written\n",
      "\n",
      "Processing file: LUNA16/Dataset/subset6/1.3.6.1.4.1.14519.5.2.1.6279.6001.513023675145166449943177283490.mhd\n",
      "SeriesUID for current file: 1.3.6.1.4.1.14519.5.2.1.6279.6001.513023675145166449943177283490\n",
      "Found 1076 nodes for seriesuid: 1.3.6.1.4.1.14519.5.2.1.6279.6001.513023675145166449943177283490\n",
      "Image array shape: (137, 512, 512)\n",
      "Output path for .npy file: LUNA16/Luna Output/subset6/1.3.6.1.4.1.14519.5.2.1.6279.6001.513023675145166449943177283490.npy\n"
     ]
    },
    {
     "name": "stderr",
     "output_type": "stream",
     "text": [
      " 66%|██████████████████████████▊              | 582/888 [03:35<01:28,  3.46it/s]"
     ]
    },
    {
     "name": "stdout",
     "output_type": "stream",
     "text": [
      "Saved: LUNA16/Luna Output/subset6/1.3.6.1.4.1.14519.5.2.1.6279.6001.513023675145166449943177283490.npy\n",
      "\n",
      "Processing file: LUNA16/Dataset/subset6/1.3.6.1.4.1.14519.5.2.1.6279.6001.255409701134762680010928250229.mhd\n",
      "SeriesUID for current file: 1.3.6.1.4.1.14519.5.2.1.6279.6001.255409701134762680010928250229\n",
      "Found 505 nodes for seriesuid: 1.3.6.1.4.1.14519.5.2.1.6279.6001.255409701134762680010928250229\n",
      "Image array shape: (149, 512, 512)\n",
      "Output path for .npy file: LUNA16/Luna Output/subset6/1.3.6.1.4.1.14519.5.2.1.6279.6001.255409701134762680010928250229.npy\n",
      "Error saving .npy file for LUNA16/Dataset/subset6/1.3.6.1.4.1.14519.5.2.1.6279.6001.255409701134762680010928250229.mhd: 39059456 requested and 0 written\n",
      "\n",
      "Processing file: LUNA16/Dataset/subset6/1.3.6.1.4.1.14519.5.2.1.6279.6001.247816269490470394602288565775.mhd\n",
      "SeriesUID for current file: 1.3.6.1.4.1.14519.5.2.1.6279.6001.247816269490470394602288565775\n",
      "Found 825 nodes for seriesuid: 1.3.6.1.4.1.14519.5.2.1.6279.6001.247816269490470394602288565775\n",
      "Image array shape: (590, 512, 512)\n",
      "Output path for .npy file: LUNA16/Luna Output/subset6/1.3.6.1.4.1.14519.5.2.1.6279.6001.247816269490470394602288565775.npy\n"
     ]
    },
    {
     "name": "stderr",
     "output_type": "stream",
     "text": [
      "\r",
      " 66%|██████████████████████████▉              | 583/888 [03:36<02:18,  2.21it/s]"
     ]
    },
    {
     "name": "stdout",
     "output_type": "stream",
     "text": [
      "Error saving .npy file for LUNA16/Dataset/subset6/1.3.6.1.4.1.14519.5.2.1.6279.6001.247816269490470394602288565775.mhd: 154664960 requested and 14276544 written\n",
      "\n",
      "Processing file: LUNA16/Dataset/subset6/1.3.6.1.4.1.14519.5.2.1.6279.6001.168737928729363683423228050295.mhd\n",
      "SeriesUID for current file: 1.3.6.1.4.1.14519.5.2.1.6279.6001.168737928729363683423228050295\n",
      "Found 1828 nodes for seriesuid: 1.3.6.1.4.1.14519.5.2.1.6279.6001.168737928729363683423228050295\n"
     ]
    },
    {
     "name": "stderr",
     "output_type": "stream",
     "text": [
      "\r",
      " 66%|██████████████████████████▉              | 584/888 [03:36<02:04,  2.43it/s]"
     ]
    },
    {
     "name": "stdout",
     "output_type": "stream",
     "text": [
      "Image array shape: (289, 512, 512)\n",
      "Output path for .npy file: LUNA16/Luna Output/subset6/1.3.6.1.4.1.14519.5.2.1.6279.6001.168737928729363683423228050295.npy\n",
      "Error saving .npy file for LUNA16/Dataset/subset6/1.3.6.1.4.1.14519.5.2.1.6279.6001.168737928729363683423228050295.mhd: 75759616 requested and 0 written\n",
      "\n",
      "Processing file: LUNA16/Dataset/subset6/1.3.6.1.4.1.14519.5.2.1.6279.6001.877026508860018521147620598474.mhd\n",
      "SeriesUID for current file: 1.3.6.1.4.1.14519.5.2.1.6279.6001.877026508860018521147620598474\n",
      "Found 1191 nodes for seriesuid: 1.3.6.1.4.1.14519.5.2.1.6279.6001.877026508860018521147620598474\n"
     ]
    },
    {
     "name": "stderr",
     "output_type": "stream",
     "text": [
      "\r",
      " 66%|███████████████████████████              | 585/888 [03:36<01:44,  2.90it/s]"
     ]
    },
    {
     "name": "stdout",
     "output_type": "stream",
     "text": [
      "Image array shape: (280, 512, 512)\n",
      "Output path for .npy file: LUNA16/Luna Output/subset6/1.3.6.1.4.1.14519.5.2.1.6279.6001.877026508860018521147620598474.npy\n",
      "Error saving .npy file for LUNA16/Dataset/subset6/1.3.6.1.4.1.14519.5.2.1.6279.6001.877026508860018521147620598474.mhd: 73400320 requested and 0 written\n",
      "\n",
      "Processing file: LUNA16/Dataset/subset6/1.3.6.1.4.1.14519.5.2.1.6279.6001.161067514225109999586362698069.mhd\n",
      "SeriesUID for current file: 1.3.6.1.4.1.14519.5.2.1.6279.6001.161067514225109999586362698069\n",
      "Found 884 nodes for seriesuid: 1.3.6.1.4.1.14519.5.2.1.6279.6001.161067514225109999586362698069\n"
     ]
    },
    {
     "name": "stderr",
     "output_type": "stream",
     "text": [
      "\r",
      " 66%|███████████████████████████              | 586/888 [03:37<01:32,  3.27it/s]"
     ]
    },
    {
     "name": "stdout",
     "output_type": "stream",
     "text": [
      "Image array shape: (245, 512, 512)\n",
      "Output path for .npy file: LUNA16/Luna Output/subset6/1.3.6.1.4.1.14519.5.2.1.6279.6001.161067514225109999586362698069.npy\n",
      "Error saving .npy file for LUNA16/Dataset/subset6/1.3.6.1.4.1.14519.5.2.1.6279.6001.161067514225109999586362698069.mhd: 64225280 requested and 0 written\n",
      "\n",
      "Processing file: LUNA16/Dataset/subset6/1.3.6.1.4.1.14519.5.2.1.6279.6001.338447145504282422142824032832.mhd\n",
      "SeriesUID for current file: 1.3.6.1.4.1.14519.5.2.1.6279.6001.338447145504282422142824032832\n",
      "Found 815 nodes for seriesuid: 1.3.6.1.4.1.14519.5.2.1.6279.6001.338447145504282422142824032832\n",
      "Image array shape: (265, 512, 512)\n",
      "Output path for .npy file: LUNA16/Luna Output/subset6/1.3.6.1.4.1.14519.5.2.1.6279.6001.338447145504282422142824032832.npy\n"
     ]
    },
    {
     "name": "stderr",
     "output_type": "stream",
     "text": [
      "\r",
      " 66%|███████████████████████████              | 587/888 [03:37<01:20,  3.72it/s]"
     ]
    },
    {
     "name": "stdout",
     "output_type": "stream",
     "text": [
      "Error saving .npy file for LUNA16/Dataset/subset6/1.3.6.1.4.1.14519.5.2.1.6279.6001.338447145504282422142824032832.mhd: 69468160 requested and 0 written\n",
      "\n",
      "Processing file: LUNA16/Dataset/subset6/1.3.6.1.4.1.14519.5.2.1.6279.6001.107109359065300889765026303943.mhd\n",
      "SeriesUID for current file: 1.3.6.1.4.1.14519.5.2.1.6279.6001.107109359065300889765026303943\n",
      "Found 1114 nodes for seriesuid: 1.3.6.1.4.1.14519.5.2.1.6279.6001.107109359065300889765026303943\n",
      "Image array shape: (230, 512, 512)\n",
      "Output path for .npy file: LUNA16/Luna Output/subset6/1.3.6.1.4.1.14519.5.2.1.6279.6001.107109359065300889765026303943.npy\n"
     ]
    },
    {
     "name": "stderr",
     "output_type": "stream",
     "text": [
      " 66%|███████████████████████████▏             | 589/888 [03:37<01:21,  3.67it/s]"
     ]
    },
    {
     "name": "stdout",
     "output_type": "stream",
     "text": [
      "Error saving .npy file for LUNA16/Dataset/subset6/1.3.6.1.4.1.14519.5.2.1.6279.6001.107109359065300889765026303943.mhd: 60293120 requested and 14591936 written\n",
      "\n",
      "Processing file: LUNA16/Dataset/subset6/1.3.6.1.4.1.14519.5.2.1.6279.6001.948414623428298219623354433437.mhd\n",
      "SeriesUID for current file: 1.3.6.1.4.1.14519.5.2.1.6279.6001.948414623428298219623354433437\n",
      "Found 679 nodes for seriesuid: 1.3.6.1.4.1.14519.5.2.1.6279.6001.948414623428298219623354433437\n",
      "Image array shape: (206, 512, 512)\n",
      "Output path for .npy file: LUNA16/Luna Output/subset6/1.3.6.1.4.1.14519.5.2.1.6279.6001.948414623428298219623354433437.npy\n",
      "Error saving .npy file for LUNA16/Dataset/subset6/1.3.6.1.4.1.14519.5.2.1.6279.6001.948414623428298219623354433437.mhd: 54001664 requested and 0 written\n",
      "\n",
      "Processing file: LUNA16/Dataset/subset6/1.3.6.1.4.1.14519.5.2.1.6279.6001.465032801496479029639448332481.mhd\n",
      "SeriesUID for current file: 1.3.6.1.4.1.14519.5.2.1.6279.6001.465032801496479029639448332481\n",
      "Found 1105 nodes for seriesuid: 1.3.6.1.4.1.14519.5.2.1.6279.6001.465032801496479029639448332481\n"
     ]
    },
    {
     "name": "stderr",
     "output_type": "stream",
     "text": [
      "\r",
      " 66%|███████████████████████████▏             | 590/888 [03:38<01:08,  4.34it/s]"
     ]
    },
    {
     "name": "stdout",
     "output_type": "stream",
     "text": [
      "Image array shape: (133, 512, 512)\n",
      "Output path for .npy file: LUNA16/Luna Output/subset6/1.3.6.1.4.1.14519.5.2.1.6279.6001.465032801496479029639448332481.npy\n",
      "Error saving .npy file for LUNA16/Dataset/subset6/1.3.6.1.4.1.14519.5.2.1.6279.6001.465032801496479029639448332481.mhd: 34865152 requested and 8347584 written\n",
      "\n",
      "Processing file: LUNA16/Dataset/subset6/1.3.6.1.4.1.14519.5.2.1.6279.6001.315187221221054114974341475212.mhd\n",
      "SeriesUID for current file: 1.3.6.1.4.1.14519.5.2.1.6279.6001.315187221221054114974341475212\n",
      "Found 508 nodes for seriesuid: 1.3.6.1.4.1.14519.5.2.1.6279.6001.315187221221054114974341475212\n"
     ]
    },
    {
     "name": "stderr",
     "output_type": "stream",
     "text": [
      "\r",
      " 67%|███████████████████████████▎             | 591/888 [03:38<01:22,  3.59it/s]"
     ]
    },
    {
     "name": "stdout",
     "output_type": "stream",
     "text": [
      "Image array shape: (300, 512, 512)\n",
      "Output path for .npy file: LUNA16/Luna Output/subset6/1.3.6.1.4.1.14519.5.2.1.6279.6001.315187221221054114974341475212.npy\n",
      "Error saving .npy file for LUNA16/Dataset/subset6/1.3.6.1.4.1.14519.5.2.1.6279.6001.315187221221054114974341475212.mhd: 78643200 requested and 0 written\n",
      "\n",
      "Processing file: LUNA16/Dataset/subset6/1.3.6.1.4.1.14519.5.2.1.6279.6001.290410217650314119074833254861.mhd\n",
      "SeriesUID for current file: 1.3.6.1.4.1.14519.5.2.1.6279.6001.290410217650314119074833254861\n",
      "Found 370 nodes for seriesuid: 1.3.6.1.4.1.14519.5.2.1.6279.6001.290410217650314119074833254861\n"
     ]
    },
    {
     "name": "stderr",
     "output_type": "stream",
     "text": [
      "\r",
      " 67%|███████████████████████████▎             | 592/888 [03:38<01:21,  3.61it/s]"
     ]
    },
    {
     "name": "stdout",
     "output_type": "stream",
     "text": [
      "Image array shape: (261, 512, 512)\n",
      "Output path for .npy file: LUNA16/Luna Output/subset6/1.3.6.1.4.1.14519.5.2.1.6279.6001.290410217650314119074833254861.npy\n",
      "Saved: LUNA16/Luna Output/subset6/1.3.6.1.4.1.14519.5.2.1.6279.6001.290410217650314119074833254861.npy\n",
      "\n",
      "Processing file: LUNA16/Dataset/subset6/1.3.6.1.4.1.14519.5.2.1.6279.6001.150684298696437181894923266019.mhd\n",
      "SeriesUID for current file: 1.3.6.1.4.1.14519.5.2.1.6279.6001.150684298696437181894923266019\n",
      "Found 1420 nodes for seriesuid: 1.3.6.1.4.1.14519.5.2.1.6279.6001.150684298696437181894923266019\n",
      "Image array shape: (181, 512, 512)\n",
      "Output path for .npy file: LUNA16/Luna Output/subset6/1.3.6.1.4.1.14519.5.2.1.6279.6001.150684298696437181894923266019.npy\n"
     ]
    },
    {
     "name": "stderr",
     "output_type": "stream",
     "text": [
      "\r",
      " 67%|███████████████████████████▍             | 593/888 [03:38<01:17,  3.79it/s]"
     ]
    },
    {
     "name": "stdout",
     "output_type": "stream",
     "text": [
      "Saved: LUNA16/Luna Output/subset6/1.3.6.1.4.1.14519.5.2.1.6279.6001.150684298696437181894923266019.npy\n",
      "\n",
      "Processing file: LUNA16/Dataset/subset6/1.3.6.1.4.1.14519.5.2.1.6279.6001.286217539434358186648717203667.mhd\n",
      "SeriesUID for current file: 1.3.6.1.4.1.14519.5.2.1.6279.6001.286217539434358186648717203667\n",
      "Found 357 nodes for seriesuid: 1.3.6.1.4.1.14519.5.2.1.6279.6001.286217539434358186648717203667\n",
      "Image array shape: (241, 512, 512)\n",
      "Output path for .npy file: LUNA16/Luna Output/subset6/1.3.6.1.4.1.14519.5.2.1.6279.6001.286217539434358186648717203667.npy\n",
      "Error saving .npy file for LUNA16/Dataset/subset6/1.3.6.1.4.1.14519.5.2.1.6279.6001.286217539434358186648717203667.mhd: 63176704 requested and 0 written\n",
      "\n",
      "Processing file: LUNA16/Dataset/subset6/1.3.6.1.4.1.14519.5.2.1.6279.6001.147325126373007278009743173696.mhd\n",
      "SeriesUID for current file: 1.3.6.1.4.1.14519.5.2.1.6279.6001.147325126373007278009743173696\n",
      "Found 770 nodes for seriesuid: 1.3.6.1.4.1.14519.5.2.1.6279.6001.147325126373007278009743173696\n"
     ]
    },
    {
     "name": "stderr",
     "output_type": "stream",
     "text": [
      "\r",
      " 67%|███████████████████████████▍             | 595/888 [03:39<00:55,  5.25it/s]"
     ]
    },
    {
     "name": "stdout",
     "output_type": "stream",
     "text": [
      "Image array shape: (239, 512, 512)\n",
      "Output path for .npy file: LUNA16/Luna Output/subset6/1.3.6.1.4.1.14519.5.2.1.6279.6001.147325126373007278009743173696.npy\n",
      "Error saving .npy file for LUNA16/Dataset/subset6/1.3.6.1.4.1.14519.5.2.1.6279.6001.147325126373007278009743173696.mhd: 62652416 requested and 0 written\n",
      "\n",
      "Processing file: LUNA16/Dataset/subset6/1.3.6.1.4.1.14519.5.2.1.6279.6001.151764021165118974848436095034.mhd\n",
      "SeriesUID for current file: 1.3.6.1.4.1.14519.5.2.1.6279.6001.151764021165118974848436095034\n",
      "Found 999 nodes for seriesuid: 1.3.6.1.4.1.14519.5.2.1.6279.6001.151764021165118974848436095034\n"
     ]
    },
    {
     "name": "stderr",
     "output_type": "stream",
     "text": [
      " 67%|███████████████████████████▌             | 597/888 [03:39<00:54,  5.31it/s]"
     ]
    },
    {
     "name": "stdout",
     "output_type": "stream",
     "text": [
      "Image array shape: (300, 512, 512)\n",
      "Output path for .npy file: LUNA16/Luna Output/subset6/1.3.6.1.4.1.14519.5.2.1.6279.6001.151764021165118974848436095034.npy\n",
      "Error saving .npy file for LUNA16/Dataset/subset6/1.3.6.1.4.1.14519.5.2.1.6279.6001.151764021165118974848436095034.mhd: 78643200 requested and 0 written\n",
      "\n",
      "Processing file: LUNA16/Dataset/subset6/1.3.6.1.4.1.14519.5.2.1.6279.6001.561423049201987049884663740668.mhd\n",
      "SeriesUID for current file: 1.3.6.1.4.1.14519.5.2.1.6279.6001.561423049201987049884663740668\n",
      "Found 381 nodes for seriesuid: 1.3.6.1.4.1.14519.5.2.1.6279.6001.561423049201987049884663740668\n",
      "Image array shape: (240, 512, 512)\n",
      "Output path for .npy file: LUNA16/Luna Output/subset6/1.3.6.1.4.1.14519.5.2.1.6279.6001.561423049201987049884663740668.npy\n",
      "Error saving .npy file for LUNA16/Dataset/subset6/1.3.6.1.4.1.14519.5.2.1.6279.6001.561423049201987049884663740668.mhd: 62914560 requested and 0 written\n",
      "\n",
      "Processing file: LUNA16/Dataset/subset6/1.3.6.1.4.1.14519.5.2.1.6279.6001.282779922503707013097174625409.mhd\n",
      "SeriesUID for current file: 1.3.6.1.4.1.14519.5.2.1.6279.6001.282779922503707013097174625409\n",
      "Found 932 nodes for seriesuid: 1.3.6.1.4.1.14519.5.2.1.6279.6001.282779922503707013097174625409\n"
     ]
    },
    {
     "name": "stderr",
     "output_type": "stream",
     "text": [
      " 67%|███████████████████████████▋             | 599/888 [03:40<01:04,  4.48it/s]"
     ]
    },
    {
     "name": "stdout",
     "output_type": "stream",
     "text": [
      "Image array shape: (477, 512, 512)\n",
      "Output path for .npy file: LUNA16/Luna Output/subset6/1.3.6.1.4.1.14519.5.2.1.6279.6001.282779922503707013097174625409.npy\n",
      "Error saving .npy file for LUNA16/Dataset/subset6/1.3.6.1.4.1.14519.5.2.1.6279.6001.282779922503707013097174625409.mhd: 125042688 requested and 0 written\n",
      "\n",
      "Processing file: LUNA16/Dataset/subset6/1.3.6.1.4.1.14519.5.2.1.6279.6001.292194861362266467652267941663.mhd\n",
      "SeriesUID for current file: 1.3.6.1.4.1.14519.5.2.1.6279.6001.292194861362266467652267941663\n",
      "Found 574 nodes for seriesuid: 1.3.6.1.4.1.14519.5.2.1.6279.6001.292194861362266467652267941663\n",
      "Image array shape: (241, 512, 512)\n",
      "Output path for .npy file: LUNA16/Luna Output/subset6/1.3.6.1.4.1.14519.5.2.1.6279.6001.292194861362266467652267941663.npy\n",
      "Error saving .npy file for LUNA16/Dataset/subset6/1.3.6.1.4.1.14519.5.2.1.6279.6001.292194861362266467652267941663.mhd: 63176704 requested and 0 written\n",
      "\n",
      "Processing file: LUNA16/Dataset/subset6/1.3.6.1.4.1.14519.5.2.1.6279.6001.167237290696350215427953159586.mhd\n",
      "SeriesUID for current file: 1.3.6.1.4.1.14519.5.2.1.6279.6001.167237290696350215427953159586\n"
     ]
    },
    {
     "name": "stderr",
     "output_type": "stream",
     "text": [
      " 68%|███████████████████████████▋             | 601/888 [03:40<00:48,  5.87it/s]"
     ]
    },
    {
     "name": "stdout",
     "output_type": "stream",
     "text": [
      "Found 1973 nodes for seriesuid: 1.3.6.1.4.1.14519.5.2.1.6279.6001.167237290696350215427953159586\n",
      "Image array shape: (208, 512, 512)\n",
      "Output path for .npy file: LUNA16/Luna Output/subset6/1.3.6.1.4.1.14519.5.2.1.6279.6001.167237290696350215427953159586.npy\n",
      "Error saving .npy file for LUNA16/Dataset/subset6/1.3.6.1.4.1.14519.5.2.1.6279.6001.167237290696350215427953159586.mhd: 54525952 requested and 0 written\n",
      "\n",
      "Processing file: LUNA16/Dataset/subset6/1.3.6.1.4.1.14519.5.2.1.6279.6001.129007566048223160327836686225.mhd\n",
      "SeriesUID for current file: 1.3.6.1.4.1.14519.5.2.1.6279.6001.129007566048223160327836686225\n",
      "Found 1052 nodes for seriesuid: 1.3.6.1.4.1.14519.5.2.1.6279.6001.129007566048223160327836686225\n",
      "Image array shape: (133, 512, 512)\n",
      "Output path for .npy file: LUNA16/Luna Output/subset6/1.3.6.1.4.1.14519.5.2.1.6279.6001.129007566048223160327836686225.npy\n",
      "Error saving .npy file for LUNA16/Dataset/subset6/1.3.6.1.4.1.14519.5.2.1.6279.6001.129007566048223160327836686225.mhd: 34865152 requested and 0 written\n",
      "\n",
      "Processing file: LUNA16/Dataset/subset6/1.3.6.1.4.1.14519.5.2.1.6279.6001.252814707117018427472206147014.mhd\n",
      "SeriesUID for current file: 1.3.6.1.4.1.14519.5.2.1.6279.6001.252814707117018427472206147014\n"
     ]
    },
    {
     "name": "stderr",
     "output_type": "stream",
     "text": [
      "\r",
      " 68%|███████████████████████████▊             | 602/888 [03:40<00:53,  5.37it/s]"
     ]
    },
    {
     "name": "stdout",
     "output_type": "stream",
     "text": [
      "Found 720 nodes for seriesuid: 1.3.6.1.4.1.14519.5.2.1.6279.6001.252814707117018427472206147014\n",
      "Image array shape: (280, 512, 512)\n",
      "Output path for .npy file: LUNA16/Luna Output/subset6/1.3.6.1.4.1.14519.5.2.1.6279.6001.252814707117018427472206147014.npy\n",
      "Error saving .npy file for LUNA16/Dataset/subset6/1.3.6.1.4.1.14519.5.2.1.6279.6001.252814707117018427472206147014.mhd: 73400320 requested and 0 written\n",
      "\n",
      "Processing file: LUNA16/Dataset/subset6/1.3.6.1.4.1.14519.5.2.1.6279.6001.168985655485163461062675655739.mhd\n",
      "SeriesUID for current file: 1.3.6.1.4.1.14519.5.2.1.6279.6001.168985655485163461062675655739\n",
      "Found 732 nodes for seriesuid: 1.3.6.1.4.1.14519.5.2.1.6279.6001.168985655485163461062675655739\n"
     ]
    },
    {
     "name": "stderr",
     "output_type": "stream",
     "text": [
      " 68%|███████████████████████████▉             | 605/888 [03:41<00:43,  6.54it/s]"
     ]
    },
    {
     "name": "stdout",
     "output_type": "stream",
     "text": [
      "Image array shape: (305, 512, 512)\n",
      "Output path for .npy file: LUNA16/Luna Output/subset6/1.3.6.1.4.1.14519.5.2.1.6279.6001.168985655485163461062675655739.npy\n",
      "Error saving .npy file for LUNA16/Dataset/subset6/1.3.6.1.4.1.14519.5.2.1.6279.6001.168985655485163461062675655739.mhd: 79953920 requested and 0 written\n",
      "\n",
      "Processing file: LUNA16/Dataset/subset6/1.3.6.1.4.1.14519.5.2.1.6279.6001.190937805243443708408459490152.mhd\n",
      "SeriesUID for current file: 1.3.6.1.4.1.14519.5.2.1.6279.6001.190937805243443708408459490152\n",
      "Found 589 nodes for seriesuid: 1.3.6.1.4.1.14519.5.2.1.6279.6001.190937805243443708408459490152\n",
      "Image array shape: (132, 512, 512)\n",
      "Output path for .npy file: LUNA16/Luna Output/subset6/1.3.6.1.4.1.14519.5.2.1.6279.6001.190937805243443708408459490152.npy\n",
      "Error saving .npy file for LUNA16/Dataset/subset6/1.3.6.1.4.1.14519.5.2.1.6279.6001.190937805243443708408459490152.mhd: 34603008 requested and 0 written\n",
      "\n",
      "Processing file: LUNA16/Dataset/subset6/1.3.6.1.4.1.14519.5.2.1.6279.6001.106630482085576298661469304872.mhd\n",
      "SeriesUID for current file: 1.3.6.1.4.1.14519.5.2.1.6279.6001.106630482085576298661469304872\n",
      "Found 1048 nodes for seriesuid: 1.3.6.1.4.1.14519.5.2.1.6279.6001.106630482085576298661469304872\n",
      "Image array shape: (140, 512, 512)\n",
      "Output path for .npy file: LUNA16/Luna Output/subset6/1.3.6.1.4.1.14519.5.2.1.6279.6001.106630482085576298661469304872.npy\n",
      "Error saving .npy file for LUNA16/Dataset/subset6/1.3.6.1.4.1.14519.5.2.1.6279.6001.106630482085576298661469304872.mhd: 36700160 requested and 0 written\n",
      "\n",
      "Processing file: LUNA16/Dataset/subset6/1.3.6.1.4.1.14519.5.2.1.6279.6001.249450003033735700817635168066.mhd\n",
      "SeriesUID for current file: 1.3.6.1.4.1.14519.5.2.1.6279.6001.249450003033735700817635168066\n"
     ]
    },
    {
     "name": "stderr",
     "output_type": "stream",
     "text": [
      "\r",
      " 68%|███████████████████████████▉             | 606/888 [03:41<00:43,  6.56it/s]"
     ]
    },
    {
     "name": "stdout",
     "output_type": "stream",
     "text": [
      "Found 788 nodes for seriesuid: 1.3.6.1.4.1.14519.5.2.1.6279.6001.249450003033735700817635168066\n",
      "Image array shape: (193, 512, 512)\n",
      "Output path for .npy file: LUNA16/Luna Output/subset6/1.3.6.1.4.1.14519.5.2.1.6279.6001.249450003033735700817635168066.npy\n",
      "Error saving .npy file for LUNA16/Dataset/subset6/1.3.6.1.4.1.14519.5.2.1.6279.6001.249450003033735700817635168066.mhd: 50593792 requested and 0 written\n",
      "\n",
      "Processing file: LUNA16/Dataset/subset6/1.3.6.1.4.1.14519.5.2.1.6279.6001.316911475886263032009840828684.mhd\n",
      "SeriesUID for current file: 1.3.6.1.4.1.14519.5.2.1.6279.6001.316911475886263032009840828684\n",
      "Found 809 nodes for seriesuid: 1.3.6.1.4.1.14519.5.2.1.6279.6001.316911475886263032009840828684\n"
     ]
    },
    {
     "name": "stderr",
     "output_type": "stream",
     "text": [
      " 68%|████████████████████████████             | 608/888 [03:41<00:36,  7.62it/s]"
     ]
    },
    {
     "name": "stdout",
     "output_type": "stream",
     "text": [
      "Image array shape: (206, 512, 512)\n",
      "Output path for .npy file: LUNA16/Luna Output/subset6/1.3.6.1.4.1.14519.5.2.1.6279.6001.316911475886263032009840828684.npy\n",
      "Error saving .npy file for LUNA16/Dataset/subset6/1.3.6.1.4.1.14519.5.2.1.6279.6001.316911475886263032009840828684.mhd: 54001664 requested and 0 written\n",
      "\n",
      "Processing file: LUNA16/Dataset/subset6/1.3.6.1.4.1.14519.5.2.1.6279.6001.119515474430718803379832249911.mhd\n",
      "SeriesUID for current file: 1.3.6.1.4.1.14519.5.2.1.6279.6001.119515474430718803379832249911\n",
      "Found 924 nodes for seriesuid: 1.3.6.1.4.1.14519.5.2.1.6279.6001.119515474430718803379832249911\n",
      "Image array shape: (209, 512, 512)\n",
      "Output path for .npy file: LUNA16/Luna Output/subset6/1.3.6.1.4.1.14519.5.2.1.6279.6001.119515474430718803379832249911.npy\n",
      "Error saving .npy file for LUNA16/Dataset/subset6/1.3.6.1.4.1.14519.5.2.1.6279.6001.119515474430718803379832249911.mhd: 54788096 requested and 0 written\n",
      "\n",
      "Processing file: LUNA16/Dataset/subset6/1.3.6.1.4.1.14519.5.2.1.6279.6001.803987517543436570820681016103.mhd\n",
      "SeriesUID for current file: 1.3.6.1.4.1.14519.5.2.1.6279.6001.803987517543436570820681016103\n",
      "Found 1169 nodes for seriesuid: 1.3.6.1.4.1.14519.5.2.1.6279.6001.803987517543436570820681016103\n"
     ]
    },
    {
     "name": "stderr",
     "output_type": "stream",
     "text": [
      " 69%|████████████████████████████▏            | 610/888 [03:42<01:00,  4.59it/s]"
     ]
    },
    {
     "name": "stdout",
     "output_type": "stream",
     "text": [
      "Image array shape: (538, 512, 512)\n",
      "Output path for .npy file: LUNA16/Luna Output/subset6/1.3.6.1.4.1.14519.5.2.1.6279.6001.803987517543436570820681016103.npy\n",
      "Error saving .npy file for LUNA16/Dataset/subset6/1.3.6.1.4.1.14519.5.2.1.6279.6001.803987517543436570820681016103.mhd: 141033472 requested and 0 written\n",
      "\n",
      "Processing file: LUNA16/Dataset/subset6/1.3.6.1.4.1.14519.5.2.1.6279.6001.182798854785392200340436516930.mhd\n",
      "SeriesUID for current file: 1.3.6.1.4.1.14519.5.2.1.6279.6001.182798854785392200340436516930\n",
      "Found 410 nodes for seriesuid: 1.3.6.1.4.1.14519.5.2.1.6279.6001.182798854785392200340436516930\n",
      "Image array shape: (210, 512, 512)\n",
      "Output path for .npy file: LUNA16/Luna Output/subset6/1.3.6.1.4.1.14519.5.2.1.6279.6001.182798854785392200340436516930.npy\n",
      "Error saving .npy file for LUNA16/Dataset/subset6/1.3.6.1.4.1.14519.5.2.1.6279.6001.182798854785392200340436516930.mhd: 55050240 requested and 0 written\n",
      "\n",
      "Processing file: LUNA16/Dataset/subset6/1.3.6.1.4.1.14519.5.2.1.6279.6001.233433352108264931671753343044.mhd\n",
      "SeriesUID for current file: 1.3.6.1.4.1.14519.5.2.1.6279.6001.233433352108264931671753343044\n"
     ]
    },
    {
     "name": "stderr",
     "output_type": "stream",
     "text": [
      "\r",
      " 69%|████████████████████████████▏            | 611/888 [03:42<00:56,  4.86it/s]"
     ]
    },
    {
     "name": "stdout",
     "output_type": "stream",
     "text": [
      "Found 1120 nodes for seriesuid: 1.3.6.1.4.1.14519.5.2.1.6279.6001.233433352108264931671753343044\n",
      "Image array shape: (333, 512, 512)\n",
      "Output path for .npy file: LUNA16/Luna Output/subset6/1.3.6.1.4.1.14519.5.2.1.6279.6001.233433352108264931671753343044.npy\n",
      "Error saving .npy file for LUNA16/Dataset/subset6/1.3.6.1.4.1.14519.5.2.1.6279.6001.233433352108264931671753343044.mhd: 87293952 requested and 0 written\n",
      "\n",
      "Processing file: LUNA16/Dataset/subset6/1.3.6.1.4.1.14519.5.2.1.6279.6001.955688628308192728558382581802.mhd\n",
      "SeriesUID for current file: 1.3.6.1.4.1.14519.5.2.1.6279.6001.955688628308192728558382581802\n",
      "Found 920 nodes for seriesuid: 1.3.6.1.4.1.14519.5.2.1.6279.6001.955688628308192728558382581802\n"
     ]
    },
    {
     "name": "stderr",
     "output_type": "stream",
     "text": [
      "\r",
      " 69%|████████████████████████████▎            | 612/888 [03:42<00:58,  4.71it/s]"
     ]
    },
    {
     "name": "stdout",
     "output_type": "stream",
     "text": [
      "Image array shape: (290, 512, 512)\n",
      "Output path for .npy file: LUNA16/Luna Output/subset6/1.3.6.1.4.1.14519.5.2.1.6279.6001.955688628308192728558382581802.npy\n",
      "Error saving .npy file for LUNA16/Dataset/subset6/1.3.6.1.4.1.14519.5.2.1.6279.6001.955688628308192728558382581802.mhd: 76021760 requested and 0 written\n",
      "\n",
      "Processing file: LUNA16/Dataset/subset6/1.3.6.1.4.1.14519.5.2.1.6279.6001.275849601663847251574860892603.mhd\n",
      "SeriesUID for current file: 1.3.6.1.4.1.14519.5.2.1.6279.6001.275849601663847251574860892603\n",
      "Found 860 nodes for seriesuid: 1.3.6.1.4.1.14519.5.2.1.6279.6001.275849601663847251574860892603\n"
     ]
    },
    {
     "name": "stderr",
     "output_type": "stream",
     "text": [
      " 69%|████████████████████████████▎            | 614/888 [03:42<00:57,  4.74it/s]"
     ]
    },
    {
     "name": "stdout",
     "output_type": "stream",
     "text": [
      "Image array shape: (350, 512, 512)\n",
      "Output path for .npy file: LUNA16/Luna Output/subset6/1.3.6.1.4.1.14519.5.2.1.6279.6001.275849601663847251574860892603.npy\n",
      "Error saving .npy file for LUNA16/Dataset/subset6/1.3.6.1.4.1.14519.5.2.1.6279.6001.275849601663847251574860892603.mhd: 91750400 requested and 0 written\n",
      "\n",
      "Processing file: LUNA16/Dataset/subset6/1.3.6.1.4.1.14519.5.2.1.6279.6001.226564372605239604660221582288.mhd\n",
      "SeriesUID for current file: 1.3.6.1.4.1.14519.5.2.1.6279.6001.226564372605239604660221582288\n",
      "Found 344 nodes for seriesuid: 1.3.6.1.4.1.14519.5.2.1.6279.6001.226564372605239604660221582288\n",
      "Image array shape: (240, 512, 512)\n",
      "Output path for .npy file: LUNA16/Luna Output/subset6/1.3.6.1.4.1.14519.5.2.1.6279.6001.226564372605239604660221582288.npy\n",
      "Error saving .npy file for LUNA16/Dataset/subset6/1.3.6.1.4.1.14519.5.2.1.6279.6001.226564372605239604660221582288.mhd: 62914560 requested and 0 written\n",
      "\n",
      "Processing file: LUNA16/Dataset/subset6/1.3.6.1.4.1.14519.5.2.1.6279.6001.475325201787910087416720919680.mhd\n",
      "SeriesUID for current file: 1.3.6.1.4.1.14519.5.2.1.6279.6001.475325201787910087416720919680\n",
      "Found 279 nodes for seriesuid: 1.3.6.1.4.1.14519.5.2.1.6279.6001.475325201787910087416720919680\n"
     ]
    },
    {
     "name": "stderr",
     "output_type": "stream",
     "text": [
      " 69%|████████████████████████████▍            | 616/888 [03:43<00:51,  5.29it/s]"
     ]
    },
    {
     "name": "stdout",
     "output_type": "stream",
     "text": [
      "Image array shape: (224, 512, 512)\n",
      "Output path for .npy file: LUNA16/Luna Output/subset6/1.3.6.1.4.1.14519.5.2.1.6279.6001.475325201787910087416720919680.npy\n",
      "Error saving .npy file for LUNA16/Dataset/subset6/1.3.6.1.4.1.14519.5.2.1.6279.6001.475325201787910087416720919680.mhd: 58720256 requested and 0 written\n",
      "\n",
      "Processing file: LUNA16/Dataset/subset6/1.3.6.1.4.1.14519.5.2.1.6279.6001.254473943359963613733707320244.mhd\n",
      "SeriesUID for current file: 1.3.6.1.4.1.14519.5.2.1.6279.6001.254473943359963613733707320244\n",
      "Found 1042 nodes for seriesuid: 1.3.6.1.4.1.14519.5.2.1.6279.6001.254473943359963613733707320244\n",
      "Image array shape: (252, 512, 512)\n",
      "Output path for .npy file: LUNA16/Luna Output/subset6/1.3.6.1.4.1.14519.5.2.1.6279.6001.254473943359963613733707320244.npy\n",
      "Error saving .npy file for LUNA16/Dataset/subset6/1.3.6.1.4.1.14519.5.2.1.6279.6001.254473943359963613733707320244.mhd: 66060288 requested and 0 written\n",
      "\n",
      "Processing file: LUNA16/Dataset/subset6/1.3.6.1.4.1.14519.5.2.1.6279.6001.329624439086643515259182406526.mhd\n",
      "SeriesUID for current file: 1.3.6.1.4.1.14519.5.2.1.6279.6001.329624439086643515259182406526\n"
     ]
    },
    {
     "name": "stderr",
     "output_type": "stream",
     "text": [
      "\r",
      " 69%|████████████████████████████▍            | 617/888 [03:43<00:53,  5.09it/s]"
     ]
    },
    {
     "name": "stdout",
     "output_type": "stream",
     "text": [
      "Found 1327 nodes for seriesuid: 1.3.6.1.4.1.14519.5.2.1.6279.6001.329624439086643515259182406526\n",
      "Image array shape: (267, 512, 512)\n",
      "Output path for .npy file: LUNA16/Luna Output/subset6/1.3.6.1.4.1.14519.5.2.1.6279.6001.329624439086643515259182406526.npy\n",
      "Error saving .npy file for LUNA16/Dataset/subset6/1.3.6.1.4.1.14519.5.2.1.6279.6001.329624439086643515259182406526.mhd: 69992448 requested and 0 written\n",
      "\n",
      "Processing file: LUNA16/Dataset/subset6/1.3.6.1.4.1.14519.5.2.1.6279.6001.316900421002460665752357657094.mhd\n",
      "SeriesUID for current file: 1.3.6.1.4.1.14519.5.2.1.6279.6001.316900421002460665752357657094\n"
     ]
    },
    {
     "name": "stderr",
     "output_type": "stream",
     "text": [
      "\r",
      " 70%|████████████████████████████▌            | 618/888 [03:43<00:54,  4.95it/s]"
     ]
    },
    {
     "name": "stdout",
     "output_type": "stream",
     "text": [
      "Found 840 nodes for seriesuid: 1.3.6.1.4.1.14519.5.2.1.6279.6001.316900421002460665752357657094\n",
      "Image array shape: (181, 512, 512)\n",
      "Output path for .npy file: LUNA16/Luna Output/subset6/1.3.6.1.4.1.14519.5.2.1.6279.6001.316900421002460665752357657094.npy\n",
      "Error saving .npy file for LUNA16/Dataset/subset6/1.3.6.1.4.1.14519.5.2.1.6279.6001.316900421002460665752357657094.mhd: 47448064 requested and 0 written\n",
      "\n",
      "Processing file: LUNA16/Dataset/subset6/1.3.6.1.4.1.14519.5.2.1.6279.6001.119304665257760307862874140576.mhd\n",
      "SeriesUID for current file: 1.3.6.1.4.1.14519.5.2.1.6279.6001.119304665257760307862874140576\n"
     ]
    },
    {
     "name": "stderr",
     "output_type": "stream",
     "text": [
      "\r",
      " 70%|████████████████████████████▌            | 619/888 [03:43<00:52,  5.14it/s]"
     ]
    },
    {
     "name": "stdout",
     "output_type": "stream",
     "text": [
      "Found 722 nodes for seriesuid: 1.3.6.1.4.1.14519.5.2.1.6279.6001.119304665257760307862874140576\n",
      "Image array shape: (300, 512, 512)\n",
      "Output path for .npy file: LUNA16/Luna Output/subset6/1.3.6.1.4.1.14519.5.2.1.6279.6001.119304665257760307862874140576.npy\n",
      "Error saving .npy file for LUNA16/Dataset/subset6/1.3.6.1.4.1.14519.5.2.1.6279.6001.119304665257760307862874140576.mhd: 78643200 requested and 0 written\n",
      "\n",
      "Processing file: LUNA16/Dataset/subset6/1.3.6.1.4.1.14519.5.2.1.6279.6001.309955999522338651429118207446.mhd\n",
      "SeriesUID for current file: 1.3.6.1.4.1.14519.5.2.1.6279.6001.309955999522338651429118207446\n",
      "Found 1345 nodes for seriesuid: 1.3.6.1.4.1.14519.5.2.1.6279.6001.309955999522338651429118207446\n"
     ]
    },
    {
     "name": "stderr",
     "output_type": "stream",
     "text": [
      " 70%|████████████████████████████▋            | 621/888 [03:44<00:57,  4.64it/s]"
     ]
    },
    {
     "name": "stdout",
     "output_type": "stream",
     "text": [
      "Image array shape: (417, 512, 512)\n",
      "Output path for .npy file: LUNA16/Luna Output/subset6/1.3.6.1.4.1.14519.5.2.1.6279.6001.309955999522338651429118207446.npy\n",
      "Error saving .npy file for LUNA16/Dataset/subset6/1.3.6.1.4.1.14519.5.2.1.6279.6001.309955999522338651429118207446.mhd: 109314048 requested and 0 written\n",
      "\n",
      "Processing file: LUNA16/Dataset/subset6/1.3.6.1.4.1.14519.5.2.1.6279.6001.652347820272212119124022644822.mhd\n",
      "SeriesUID for current file: 1.3.6.1.4.1.14519.5.2.1.6279.6001.652347820272212119124022644822\n",
      "Found 2066 nodes for seriesuid: 1.3.6.1.4.1.14519.5.2.1.6279.6001.652347820272212119124022644822\n",
      "Image array shape: (242, 512, 512)\n",
      "Output path for .npy file: LUNA16/Luna Output/subset6/1.3.6.1.4.1.14519.5.2.1.6279.6001.652347820272212119124022644822.npy\n",
      "Error saving .npy file for LUNA16/Dataset/subset6/1.3.6.1.4.1.14519.5.2.1.6279.6001.652347820272212119124022644822.mhd: 63438848 requested and 0 written\n",
      "\n",
      "Processing file: LUNA16/Dataset/subset6/1.3.6.1.4.1.14519.5.2.1.6279.6001.321935195060268166151738328001.mhd\n",
      "SeriesUID for current file: 1.3.6.1.4.1.14519.5.2.1.6279.6001.321935195060268166151738328001\n"
     ]
    },
    {
     "name": "stderr",
     "output_type": "stream",
     "text": [
      "\r",
      " 70%|████████████████████████████▋            | 622/888 [03:44<00:48,  5.53it/s]"
     ]
    },
    {
     "name": "stdout",
     "output_type": "stream",
     "text": [
      "Found 835 nodes for seriesuid: 1.3.6.1.4.1.14519.5.2.1.6279.6001.321935195060268166151738328001\n",
      "Image array shape: (214, 512, 512)\n",
      "Output path for .npy file: LUNA16/Luna Output/subset6/1.3.6.1.4.1.14519.5.2.1.6279.6001.321935195060268166151738328001.npy\n",
      "Error saving .npy file for LUNA16/Dataset/subset6/1.3.6.1.4.1.14519.5.2.1.6279.6001.321935195060268166151738328001.mhd: 56098816 requested and 0 written\n",
      "\n",
      "Processing file: LUNA16/Dataset/subset6/1.3.6.1.4.1.14519.5.2.1.6279.6001.725236073737175770730904408416.mhd\n",
      "SeriesUID for current file: 1.3.6.1.4.1.14519.5.2.1.6279.6001.725236073737175770730904408416\n",
      "Found 668 nodes for seriesuid: 1.3.6.1.4.1.14519.5.2.1.6279.6001.725236073737175770730904408416\n",
      "Image array shape: (216, 512, 512)\n",
      "Output path for .npy file: LUNA16/Luna Output/subset6/1.3.6.1.4.1.14519.5.2.1.6279.6001.725236073737175770730904408416.npy\n",
      "Error saving .npy file for LUNA16/Dataset/subset6/1.3.6.1.4.1.14519.5.2.1.6279.6001.725236073737175770730904408416.mhd: 56623104 requested and 0 written\n",
      "\n",
      "Processing file: LUNA16/Dataset/subset7/1.3.6.1.4.1.14519.5.2.1.6279.6001.228934821089041845791238006047.mhd\n",
      "SeriesUID for current file: 1.3.6.1.4.1.14519.5.2.1.6279.6001.228934821089041845791238006047\n",
      "Found 803 nodes for seriesuid: 1.3.6.1.4.1.14519.5.2.1.6279.6001.228934821089041845791238006047\n"
     ]
    },
    {
     "name": "stderr",
     "output_type": "stream",
     "text": [
      " 70%|████████████████████████████▊            | 625/888 [03:44<00:40,  6.46it/s]"
     ]
    },
    {
     "name": "stdout",
     "output_type": "stream",
     "text": [
      "Image array shape: (258, 512, 512)\n",
      "Output path for .npy file: LUNA16/Luna Output/subset7/1.3.6.1.4.1.14519.5.2.1.6279.6001.228934821089041845791238006047.npy\n",
      "Error saving .npy file for LUNA16/Dataset/subset7/1.3.6.1.4.1.14519.5.2.1.6279.6001.228934821089041845791238006047.mhd: 67633152 requested and 0 written\n",
      "\n",
      "Processing file: LUNA16/Dataset/subset7/1.3.6.1.4.1.14519.5.2.1.6279.6001.187803155574314810830688534991.mhd\n",
      "SeriesUID for current file: 1.3.6.1.4.1.14519.5.2.1.6279.6001.187803155574314810830688534991\n",
      "Found 720 nodes for seriesuid: 1.3.6.1.4.1.14519.5.2.1.6279.6001.187803155574314810830688534991\n",
      "Image array shape: (133, 512, 512)\n",
      "Output path for .npy file: LUNA16/Luna Output/subset7/1.3.6.1.4.1.14519.5.2.1.6279.6001.187803155574314810830688534991.npy\n",
      "Error saving .npy file for LUNA16/Dataset/subset7/1.3.6.1.4.1.14519.5.2.1.6279.6001.187803155574314810830688534991.mhd: 34865152 requested and 0 written\n",
      "\n",
      "Processing file: LUNA16/Dataset/subset7/1.3.6.1.4.1.14519.5.2.1.6279.6001.105495028985881418176186711228.mhd\n",
      "SeriesUID for current file: 1.3.6.1.4.1.14519.5.2.1.6279.6001.105495028985881418176186711228\n",
      "Found 1187 nodes for seriesuid: 1.3.6.1.4.1.14519.5.2.1.6279.6001.105495028985881418176186711228\n"
     ]
    },
    {
     "name": "stderr",
     "output_type": "stream",
     "text": [
      "\r",
      " 71%|████████████████████████████▉            | 627/888 [03:45<00:36,  7.13it/s]"
     ]
    },
    {
     "name": "stdout",
     "output_type": "stream",
     "text": [
      "Image array shape: (214, 512, 512)\n",
      "Output path for .npy file: LUNA16/Luna Output/subset7/1.3.6.1.4.1.14519.5.2.1.6279.6001.105495028985881418176186711228.npy\n",
      "Error saving .npy file for LUNA16/Dataset/subset7/1.3.6.1.4.1.14519.5.2.1.6279.6001.105495028985881418176186711228.mhd: 56098816 requested and 0 written\n",
      "\n",
      "Processing file: LUNA16/Dataset/subset7/1.3.6.1.4.1.14519.5.2.1.6279.6001.230675342744370103160629638194.mhd\n",
      "SeriesUID for current file: 1.3.6.1.4.1.14519.5.2.1.6279.6001.230675342744370103160629638194\n",
      "Found 1043 nodes for seriesuid: 1.3.6.1.4.1.14519.5.2.1.6279.6001.230675342744370103160629638194\n",
      "Image array shape: (255, 512, 512)\n",
      "Output path for .npy file: LUNA16/Luna Output/subset7/1.3.6.1.4.1.14519.5.2.1.6279.6001.230675342744370103160629638194.npy\n",
      "Error saving .npy file for LUNA16/Dataset/subset7/1.3.6.1.4.1.14519.5.2.1.6279.6001.230675342744370103160629638194.mhd: 66846720 requested and 0 written\n",
      "\n",
      "Processing file: LUNA16/Dataset/subset7/1.3.6.1.4.1.14519.5.2.1.6279.6001.957384617596077920906744920611.mhd\n",
      "SeriesUID for current file: 1.3.6.1.4.1.14519.5.2.1.6279.6001.957384617596077920906744920611\n",
      "Found 666 nodes for seriesuid: 1.3.6.1.4.1.14519.5.2.1.6279.6001.957384617596077920906744920611\n"
     ]
    },
    {
     "name": "stderr",
     "output_type": "stream",
     "text": [
      "\r",
      " 71%|████████████████████████████▉            | 628/888 [03:45<00:37,  6.93it/s]"
     ]
    },
    {
     "name": "stdout",
     "output_type": "stream",
     "text": [
      "Image array shape: (190, 512, 512)\n",
      "Output path for .npy file: LUNA16/Luna Output/subset7/1.3.6.1.4.1.14519.5.2.1.6279.6001.957384617596077920906744920611.npy\n",
      "Error saving .npy file for LUNA16/Dataset/subset7/1.3.6.1.4.1.14519.5.2.1.6279.6001.957384617596077920906744920611.mhd: 49807360 requested and 0 written\n",
      "\n",
      "Processing file: LUNA16/Dataset/subset7/1.3.6.1.4.1.14519.5.2.1.6279.6001.242624386080831911167122628616.mhd\n",
      "SeriesUID for current file: 1.3.6.1.4.1.14519.5.2.1.6279.6001.242624386080831911167122628616\n",
      "Found 861 nodes for seriesuid: 1.3.6.1.4.1.14519.5.2.1.6279.6001.242624386080831911167122628616\n"
     ]
    },
    {
     "name": "stderr",
     "output_type": "stream",
     "text": [
      " 71%|█████████████████████████████            | 630/888 [03:45<00:51,  4.97it/s]"
     ]
    },
    {
     "name": "stdout",
     "output_type": "stream",
     "text": [
      "Image array shape: (429, 512, 512)\n",
      "Output path for .npy file: LUNA16/Luna Output/subset7/1.3.6.1.4.1.14519.5.2.1.6279.6001.242624386080831911167122628616.npy\n",
      "Error saving .npy file for LUNA16/Dataset/subset7/1.3.6.1.4.1.14519.5.2.1.6279.6001.242624386080831911167122628616.mhd: 112459776 requested and 0 written\n",
      "\n",
      "Processing file: LUNA16/Dataset/subset7/1.3.6.1.4.1.14519.5.2.1.6279.6001.174692377730646477496286081479.mhd\n",
      "SeriesUID for current file: 1.3.6.1.4.1.14519.5.2.1.6279.6001.174692377730646477496286081479\n",
      "Found 1633 nodes for seriesuid: 1.3.6.1.4.1.14519.5.2.1.6279.6001.174692377730646477496286081479\n",
      "Image array shape: (163, 512, 512)\n",
      "Output path for .npy file: LUNA16/Luna Output/subset7/1.3.6.1.4.1.14519.5.2.1.6279.6001.174692377730646477496286081479.npy\n",
      "Error saving .npy file for LUNA16/Dataset/subset7/1.3.6.1.4.1.14519.5.2.1.6279.6001.174692377730646477496286081479.mhd: 42729472 requested and 0 written\n",
      "\n",
      "Processing file: LUNA16/Dataset/subset7/1.3.6.1.4.1.14519.5.2.1.6279.6001.664409965623578819357819577077.mhd\n",
      "SeriesUID for current file: 1.3.6.1.4.1.14519.5.2.1.6279.6001.664409965623578819357819577077\n",
      "Found 564 nodes for seriesuid: 1.3.6.1.4.1.14519.5.2.1.6279.6001.664409965623578819357819577077\n",
      "Image array shape: (163, 512, 512)\n",
      "Output path for .npy file: LUNA16/Luna Output/subset7/1.3.6.1.4.1.14519.5.2.1.6279.6001.664409965623578819357819577077.npy\n",
      "Error saving .npy file for LUNA16/Dataset/subset7/1.3.6.1.4.1.14519.5.2.1.6279.6001.664409965623578819357819577077.mhd: 42729472 requested and 0 written\n",
      "\n",
      "Processing file: LUNA16/Dataset/subset7/1.3.6.1.4.1.14519.5.2.1.6279.6001.362762275895885013176610377950.mhd\n",
      "SeriesUID for current file: 1.3.6.1.4.1.14519.5.2.1.6279.6001.362762275895885013176610377950\n",
      "Found 709 nodes for seriesuid: 1.3.6.1.4.1.14519.5.2.1.6279.6001.362762275895885013176610377950\n"
     ]
    },
    {
     "name": "stderr",
     "output_type": "stream",
     "text": [
      "\r",
      " 71%|█████████████████████████████▏           | 632/888 [03:46<00:53,  4.79it/s]"
     ]
    },
    {
     "name": "stdout",
     "output_type": "stream",
     "text": [
      "Image array shape: (477, 512, 512)\n",
      "Output path for .npy file: LUNA16/Luna Output/subset7/1.3.6.1.4.1.14519.5.2.1.6279.6001.362762275895885013176610377950.npy\n",
      "Error saving .npy file for LUNA16/Dataset/subset7/1.3.6.1.4.1.14519.5.2.1.6279.6001.362762275895885013176610377950.mhd: 125042688 requested and 0 written\n",
      "\n",
      "Processing file: LUNA16/Dataset/subset7/1.3.6.1.4.1.14519.5.2.1.6279.6001.143813757344903170810482790787.mhd\n",
      "SeriesUID for current file: 1.3.6.1.4.1.14519.5.2.1.6279.6001.143813757344903170810482790787\n",
      "Found 501 nodes for seriesuid: 1.3.6.1.4.1.14519.5.2.1.6279.6001.143813757344903170810482790787\n"
     ]
    },
    {
     "name": "stderr",
     "output_type": "stream",
     "text": [
      " 72%|█████████████████████████████▎           | 635/888 [03:46<00:41,  6.14it/s]"
     ]
    },
    {
     "name": "stdout",
     "output_type": "stream",
     "text": [
      "Image array shape: (237, 512, 512)\n",
      "Output path for .npy file: LUNA16/Luna Output/subset7/1.3.6.1.4.1.14519.5.2.1.6279.6001.143813757344903170810482790787.npy\n",
      "Error saving .npy file for LUNA16/Dataset/subset7/1.3.6.1.4.1.14519.5.2.1.6279.6001.143813757344903170810482790787.mhd: 62128128 requested and 0 written\n",
      "\n",
      "Processing file: LUNA16/Dataset/subset7/1.3.6.1.4.1.14519.5.2.1.6279.6001.315918264676377418120578391325.mhd\n",
      "SeriesUID for current file: 1.3.6.1.4.1.14519.5.2.1.6279.6001.315918264676377418120578391325\n",
      "Found 810 nodes for seriesuid: 1.3.6.1.4.1.14519.5.2.1.6279.6001.315918264676377418120578391325\n",
      "Image array shape: (144, 512, 512)\n",
      "Output path for .npy file: LUNA16/Luna Output/subset7/1.3.6.1.4.1.14519.5.2.1.6279.6001.315918264676377418120578391325.npy\n",
      "Error saving .npy file for LUNA16/Dataset/subset7/1.3.6.1.4.1.14519.5.2.1.6279.6001.315918264676377418120578391325.mhd: 37748736 requested and 0 written\n",
      "\n",
      "Processing file: LUNA16/Dataset/subset7/1.3.6.1.4.1.14519.5.2.1.6279.6001.249404938669582150398726875826.mhd\n",
      "SeriesUID for current file: 1.3.6.1.4.1.14519.5.2.1.6279.6001.249404938669582150398726875826\n",
      "Found 1265 nodes for seriesuid: 1.3.6.1.4.1.14519.5.2.1.6279.6001.249404938669582150398726875826\n",
      "Image array shape: (133, 512, 512)\n",
      "Output path for .npy file: LUNA16/Luna Output/subset7/1.3.6.1.4.1.14519.5.2.1.6279.6001.249404938669582150398726875826.npy\n",
      "Error saving .npy file for LUNA16/Dataset/subset7/1.3.6.1.4.1.14519.5.2.1.6279.6001.249404938669582150398726875826.mhd: 34865152 requested and 0 written\n",
      "\n",
      "Processing file: LUNA16/Dataset/subset7/1.3.6.1.4.1.14519.5.2.1.6279.6001.226889213794065160713547677129.mhd\n",
      "SeriesUID for current file: 1.3.6.1.4.1.14519.5.2.1.6279.6001.226889213794065160713547677129\n"
     ]
    },
    {
     "name": "stderr",
     "output_type": "stream",
     "text": [
      "\r",
      " 72%|█████████████████████████████▍           | 637/888 [03:46<00:32,  7.66it/s]"
     ]
    },
    {
     "name": "stdout",
     "output_type": "stream",
     "text": [
      "Found 1382 nodes for seriesuid: 1.3.6.1.4.1.14519.5.2.1.6279.6001.226889213794065160713547677129\n",
      "Image array shape: (139, 512, 512)\n",
      "Output path for .npy file: LUNA16/Luna Output/subset7/1.3.6.1.4.1.14519.5.2.1.6279.6001.226889213794065160713547677129.npy\n",
      "Error saving .npy file for LUNA16/Dataset/subset7/1.3.6.1.4.1.14519.5.2.1.6279.6001.226889213794065160713547677129.mhd: 36438016 requested and 0 written\n",
      "\n",
      "Processing file: LUNA16/Dataset/subset7/1.3.6.1.4.1.14519.5.2.1.6279.6001.256542095129414948017808425649.mhd\n",
      "SeriesUID for current file: 1.3.6.1.4.1.14519.5.2.1.6279.6001.256542095129414948017808425649\n",
      "Found 778 nodes for seriesuid: 1.3.6.1.4.1.14519.5.2.1.6279.6001.256542095129414948017808425649\n",
      "Image array shape: (139, 512, 512)\n",
      "Output path for .npy file: LUNA16/Luna Output/subset7/1.3.6.1.4.1.14519.5.2.1.6279.6001.256542095129414948017808425649.npy\n",
      "Error saving .npy file for LUNA16/Dataset/subset7/1.3.6.1.4.1.14519.5.2.1.6279.6001.256542095129414948017808425649.mhd: 36438016 requested and 0 written\n",
      "\n",
      "Processing file: LUNA16/Dataset/subset7/1.3.6.1.4.1.14519.5.2.1.6279.6001.245546033414728092794968890929.mhd\n",
      "SeriesUID for current file: 1.3.6.1.4.1.14519.5.2.1.6279.6001.245546033414728092794968890929\n",
      "Found 433 nodes for seriesuid: 1.3.6.1.4.1.14519.5.2.1.6279.6001.245546033414728092794968890929\n",
      "Image array shape: (133, 512, 512)\n",
      "Output path for .npy file: LUNA16/Luna Output/subset7/1.3.6.1.4.1.14519.5.2.1.6279.6001.245546033414728092794968890929.npy\n",
      "Error saving .npy file for LUNA16/Dataset/subset7/1.3.6.1.4.1.14519.5.2.1.6279.6001.245546033414728092794968890929.mhd: 34865152 requested and 0 written\n",
      "\n",
      "Processing file: LUNA16/Dataset/subset7/1.3.6.1.4.1.14519.5.2.1.6279.6001.131150737314367975651717513386.mhd\n",
      "SeriesUID for current file: 1.3.6.1.4.1.14519.5.2.1.6279.6001.131150737314367975651717513386\n"
     ]
    },
    {
     "name": "stderr",
     "output_type": "stream",
     "text": [
      "\r",
      " 72%|█████████████████████████████▌           | 639/888 [03:46<00:27,  8.94it/s]"
     ]
    },
    {
     "name": "stdout",
     "output_type": "stream",
     "text": [
      "Found 578 nodes for seriesuid: 1.3.6.1.4.1.14519.5.2.1.6279.6001.131150737314367975651717513386\n",
      "Image array shape: (123, 512, 512)\n",
      "Output path for .npy file: LUNA16/Luna Output/subset7/1.3.6.1.4.1.14519.5.2.1.6279.6001.131150737314367975651717513386.npy\n",
      "Error saving .npy file for LUNA16/Dataset/subset7/1.3.6.1.4.1.14519.5.2.1.6279.6001.131150737314367975651717513386.mhd: 32243712 requested and 0 written\n",
      "\n",
      "Processing file: LUNA16/Dataset/subset7/1.3.6.1.4.1.14519.5.2.1.6279.6001.897279226481700053115245043064.mhd\n",
      "SeriesUID for current file: 1.3.6.1.4.1.14519.5.2.1.6279.6001.897279226481700053115245043064\n",
      "Found 449 nodes for seriesuid: 1.3.6.1.4.1.14519.5.2.1.6279.6001.897279226481700053115245043064\n",
      "Image array shape: (246, 512, 512)\n",
      "Output path for .npy file: LUNA16/Luna Output/subset7/1.3.6.1.4.1.14519.5.2.1.6279.6001.897279226481700053115245043064.npy\n",
      "Error saving .npy file for LUNA16/Dataset/subset7/1.3.6.1.4.1.14519.5.2.1.6279.6001.897279226481700053115245043064.mhd: 64487424 requested and 0 written\n",
      "\n",
      "Processing file: LUNA16/Dataset/subset7/1.3.6.1.4.1.14519.5.2.1.6279.6001.227707494413800460340110762069.mhd\n",
      "SeriesUID for current file: 1.3.6.1.4.1.14519.5.2.1.6279.6001.227707494413800460340110762069\n",
      "Found 889 nodes for seriesuid: 1.3.6.1.4.1.14519.5.2.1.6279.6001.227707494413800460340110762069\n"
     ]
    },
    {
     "name": "stderr",
     "output_type": "stream",
     "text": [
      "\r",
      " 72%|█████████████████████████████▌           | 641/888 [03:47<00:27,  9.09it/s]"
     ]
    },
    {
     "name": "stdout",
     "output_type": "stream",
     "text": [
      "Image array shape: (125, 512, 512)\n",
      "Output path for .npy file: LUNA16/Luna Output/subset7/1.3.6.1.4.1.14519.5.2.1.6279.6001.227707494413800460340110762069.npy\n",
      "Error saving .npy file for LUNA16/Dataset/subset7/1.3.6.1.4.1.14519.5.2.1.6279.6001.227707494413800460340110762069.mhd: 32768000 requested and 0 written\n",
      "\n",
      "Processing file: LUNA16/Dataset/subset7/1.3.6.1.4.1.14519.5.2.1.6279.6001.140253591510022414496468423138.mhd\n",
      "SeriesUID for current file: 1.3.6.1.4.1.14519.5.2.1.6279.6001.140253591510022414496468423138\n",
      "Found 1058 nodes for seriesuid: 1.3.6.1.4.1.14519.5.2.1.6279.6001.140253591510022414496468423138\n",
      "Image array shape: (128, 512, 512)\n",
      "Output path for .npy file: LUNA16/Luna Output/subset7/1.3.6.1.4.1.14519.5.2.1.6279.6001.140253591510022414496468423138.npy\n",
      "Error saving .npy file for LUNA16/Dataset/subset7/1.3.6.1.4.1.14519.5.2.1.6279.6001.140253591510022414496468423138.mhd: 33554432 requested and 0 written\n",
      "\n",
      "Processing file: LUNA16/Dataset/subset7/1.3.6.1.4.1.14519.5.2.1.6279.6001.303066851236267189733420290986.mhd\n",
      "SeriesUID for current file: 1.3.6.1.4.1.14519.5.2.1.6279.6001.303066851236267189733420290986\n",
      "Found 1186 nodes for seriesuid: 1.3.6.1.4.1.14519.5.2.1.6279.6001.303066851236267189733420290986\n"
     ]
    },
    {
     "name": "stderr",
     "output_type": "stream",
     "text": [
      " 73%|█████████████████████████████▋           | 644/888 [03:47<00:34,  7.13it/s]"
     ]
    },
    {
     "name": "stdout",
     "output_type": "stream",
     "text": [
      "Image array shape: (368, 512, 512)\n",
      "Output path for .npy file: LUNA16/Luna Output/subset7/1.3.6.1.4.1.14519.5.2.1.6279.6001.303066851236267189733420290986.npy\n",
      "Error saving .npy file for LUNA16/Dataset/subset7/1.3.6.1.4.1.14519.5.2.1.6279.6001.303066851236267189733420290986.mhd: 96468992 requested and 0 written\n",
      "\n",
      "Processing file: LUNA16/Dataset/subset7/1.3.6.1.4.1.14519.5.2.1.6279.6001.592821488053137951302246128864.mhd\n",
      "SeriesUID for current file: 1.3.6.1.4.1.14519.5.2.1.6279.6001.592821488053137951302246128864\n",
      "Found 1167 nodes for seriesuid: 1.3.6.1.4.1.14519.5.2.1.6279.6001.592821488053137951302246128864\n",
      "Image array shape: (166, 512, 512)\n",
      "Output path for .npy file: LUNA16/Luna Output/subset7/1.3.6.1.4.1.14519.5.2.1.6279.6001.592821488053137951302246128864.npy\n",
      "Error saving .npy file for LUNA16/Dataset/subset7/1.3.6.1.4.1.14519.5.2.1.6279.6001.592821488053137951302246128864.mhd: 43515904 requested and 0 written\n",
      "\n",
      "Processing file: LUNA16/Dataset/subset7/1.3.6.1.4.1.14519.5.2.1.6279.6001.125124219978170516876304987559.mhd\n",
      "SeriesUID for current file: 1.3.6.1.4.1.14519.5.2.1.6279.6001.125124219978170516876304987559\n",
      "Found 1365 nodes for seriesuid: 1.3.6.1.4.1.14519.5.2.1.6279.6001.125124219978170516876304987559\n"
     ]
    },
    {
     "name": "stderr",
     "output_type": "stream",
     "text": [
      " 73%|█████████████████████████████▊           | 646/888 [03:48<00:34,  7.11it/s]"
     ]
    },
    {
     "name": "stdout",
     "output_type": "stream",
     "text": [
      "Image array shape: (330, 512, 512)\n",
      "Output path for .npy file: LUNA16/Luna Output/subset7/1.3.6.1.4.1.14519.5.2.1.6279.6001.125124219978170516876304987559.npy\n",
      "Error saving .npy file for LUNA16/Dataset/subset7/1.3.6.1.4.1.14519.5.2.1.6279.6001.125124219978170516876304987559.mhd: 86507520 requested and 0 written\n",
      "\n",
      "Processing file: LUNA16/Dataset/subset7/1.3.6.1.4.1.14519.5.2.1.6279.6001.307946352302138765071461362398.mhd\n",
      "SeriesUID for current file: 1.3.6.1.4.1.14519.5.2.1.6279.6001.307946352302138765071461362398\n",
      "Found 376 nodes for seriesuid: 1.3.6.1.4.1.14519.5.2.1.6279.6001.307946352302138765071461362398\n",
      "Image array shape: (153, 512, 512)\n",
      "Output path for .npy file: LUNA16/Luna Output/subset7/1.3.6.1.4.1.14519.5.2.1.6279.6001.307946352302138765071461362398.npy\n",
      "Error saving .npy file for LUNA16/Dataset/subset7/1.3.6.1.4.1.14519.5.2.1.6279.6001.307946352302138765071461362398.mhd: 40108032 requested and 0 written\n",
      "\n",
      "Processing file: LUNA16/Dataset/subset7/1.3.6.1.4.1.14519.5.2.1.6279.6001.270788655216695628640355888562.mhd\n",
      "SeriesUID for current file: 1.3.6.1.4.1.14519.5.2.1.6279.6001.270788655216695628640355888562\n",
      "Found 765 nodes for seriesuid: 1.3.6.1.4.1.14519.5.2.1.6279.6001.270788655216695628640355888562\n"
     ]
    },
    {
     "name": "stderr",
     "output_type": "stream",
     "text": [
      " 73%|█████████████████████████████▉           | 648/888 [03:48<00:49,  4.89it/s]"
     ]
    },
    {
     "name": "stdout",
     "output_type": "stream",
     "text": [
      "Image array shape: (522, 512, 512)\n",
      "Output path for .npy file: LUNA16/Luna Output/subset7/1.3.6.1.4.1.14519.5.2.1.6279.6001.270788655216695628640355888562.npy\n",
      "Error saving .npy file for LUNA16/Dataset/subset7/1.3.6.1.4.1.14519.5.2.1.6279.6001.270788655216695628640355888562.mhd: 136839168 requested and 0 written\n",
      "\n",
      "Processing file: LUNA16/Dataset/subset7/1.3.6.1.4.1.14519.5.2.1.6279.6001.163217526257871051722166468085.mhd\n",
      "SeriesUID for current file: 1.3.6.1.4.1.14519.5.2.1.6279.6001.163217526257871051722166468085\n",
      "Found 549 nodes for seriesuid: 1.3.6.1.4.1.14519.5.2.1.6279.6001.163217526257871051722166468085\n",
      "Image array shape: (237, 512, 512)\n",
      "Output path for .npy file: LUNA16/Luna Output/subset7/1.3.6.1.4.1.14519.5.2.1.6279.6001.163217526257871051722166468085.npy\n",
      "Error saving .npy file for LUNA16/Dataset/subset7/1.3.6.1.4.1.14519.5.2.1.6279.6001.163217526257871051722166468085.mhd: 62128128 requested and 0 written\n",
      "\n",
      "Processing file: LUNA16/Dataset/subset7/1.3.6.1.4.1.14519.5.2.1.6279.6001.272348349298439120568330857680.mhd\n",
      "SeriesUID for current file: 1.3.6.1.4.1.14519.5.2.1.6279.6001.272348349298439120568330857680\n",
      "Found 1469 nodes for seriesuid: 1.3.6.1.4.1.14519.5.2.1.6279.6001.272348349298439120568330857680\n",
      "Image array shape: (145, 512, 512)\n",
      "Output path for .npy file: LUNA16/Luna Output/subset7/1.3.6.1.4.1.14519.5.2.1.6279.6001.272348349298439120568330857680.npy\n",
      "Error saving .npy file for LUNA16/Dataset/subset7/1.3.6.1.4.1.14519.5.2.1.6279.6001.272348349298439120568330857680.mhd: 38010880 requested and 0 written\n",
      "\n",
      "Processing file: LUNA16/Dataset/subset7/1.3.6.1.4.1.14519.5.2.1.6279.6001.266581250778073944645044950856.mhd\n",
      "SeriesUID for current file: 1.3.6.1.4.1.14519.5.2.1.6279.6001.266581250778073944645044950856\n",
      "Found 708 nodes for seriesuid: 1.3.6.1.4.1.14519.5.2.1.6279.6001.266581250778073944645044950856\n"
     ]
    },
    {
     "name": "stderr",
     "output_type": "stream",
     "text": [
      " 73%|██████████████████████████████           | 651/888 [03:49<00:38,  6.11it/s]"
     ]
    },
    {
     "name": "stdout",
     "output_type": "stream",
     "text": [
      "Image array shape: (290, 512, 512)\n",
      "Output path for .npy file: LUNA16/Luna Output/subset7/1.3.6.1.4.1.14519.5.2.1.6279.6001.266581250778073944645044950856.npy\n",
      "Error saving .npy file for LUNA16/Dataset/subset7/1.3.6.1.4.1.14519.5.2.1.6279.6001.266581250778073944645044950856.mhd: 76021760 requested and 0 written\n",
      "\n",
      "Processing file: LUNA16/Dataset/subset7/1.3.6.1.4.1.14519.5.2.1.6279.6001.279300249795483097365868125932.mhd\n",
      "SeriesUID for current file: 1.3.6.1.4.1.14519.5.2.1.6279.6001.279300249795483097365868125932\n",
      "Found 1294 nodes for seriesuid: 1.3.6.1.4.1.14519.5.2.1.6279.6001.279300249795483097365868125932\n",
      "Image array shape: (131, 512, 512)\n",
      "Output path for .npy file: LUNA16/Luna Output/subset7/1.3.6.1.4.1.14519.5.2.1.6279.6001.279300249795483097365868125932.npy\n",
      "Error saving .npy file for LUNA16/Dataset/subset7/1.3.6.1.4.1.14519.5.2.1.6279.6001.279300249795483097365868125932.mhd: 34340864 requested and 0 written\n",
      "\n",
      "Processing file: LUNA16/Dataset/subset7/1.3.6.1.4.1.14519.5.2.1.6279.6001.223650122819238796121876338881.mhd\n",
      "SeriesUID for current file: 1.3.6.1.4.1.14519.5.2.1.6279.6001.223650122819238796121876338881\n",
      "Found 561 nodes for seriesuid: 1.3.6.1.4.1.14519.5.2.1.6279.6001.223650122819238796121876338881\n",
      "Image array shape: (118, 512, 512)\n",
      "Output path for .npy file: LUNA16/Luna Output/subset7/1.3.6.1.4.1.14519.5.2.1.6279.6001.223650122819238796121876338881.npy\n",
      "Error saving .npy file for LUNA16/Dataset/subset7/1.3.6.1.4.1.14519.5.2.1.6279.6001.223650122819238796121876338881.mhd: 30932992 requested and 0 written\n",
      "\n",
      "Processing file: LUNA16/Dataset/subset7/1.3.6.1.4.1.14519.5.2.1.6279.6001.238019241099704094018548301753.mhd\n",
      "SeriesUID for current file: 1.3.6.1.4.1.14519.5.2.1.6279.6001.238019241099704094018548301753\n",
      "Found 713 nodes for seriesuid: 1.3.6.1.4.1.14519.5.2.1.6279.6001.238019241099704094018548301753\n"
     ]
    },
    {
     "name": "stderr",
     "output_type": "stream",
     "text": [
      " 74%|██████████████████████████████▏          | 654/888 [03:49<00:41,  5.69it/s]"
     ]
    },
    {
     "name": "stdout",
     "output_type": "stream",
     "text": [
      "Image array shape: (513, 512, 512)\n",
      "Output path for .npy file: LUNA16/Luna Output/subset7/1.3.6.1.4.1.14519.5.2.1.6279.6001.238019241099704094018548301753.npy\n",
      "Error saving .npy file for LUNA16/Dataset/subset7/1.3.6.1.4.1.14519.5.2.1.6279.6001.238019241099704094018548301753.mhd: 134479872 requested and 0 written\n",
      "\n",
      "Processing file: LUNA16/Dataset/subset7/1.3.6.1.4.1.14519.5.2.1.6279.6001.248360766706804179966476685510.mhd\n",
      "SeriesUID for current file: 1.3.6.1.4.1.14519.5.2.1.6279.6001.248360766706804179966476685510\n",
      "Found 712 nodes for seriesuid: 1.3.6.1.4.1.14519.5.2.1.6279.6001.248360766706804179966476685510\n",
      "Image array shape: (129, 512, 512)\n",
      "Output path for .npy file: LUNA16/Luna Output/subset7/1.3.6.1.4.1.14519.5.2.1.6279.6001.248360766706804179966476685510.npy\n",
      "Error saving .npy file for LUNA16/Dataset/subset7/1.3.6.1.4.1.14519.5.2.1.6279.6001.248360766706804179966476685510.mhd: 33816576 requested and 0 written\n",
      "\n",
      "Processing file: LUNA16/Dataset/subset7/1.3.6.1.4.1.14519.5.2.1.6279.6001.252709517998555732486024866345.mhd\n",
      "SeriesUID for current file: 1.3.6.1.4.1.14519.5.2.1.6279.6001.252709517998555732486024866345\n",
      "Found 763 nodes for seriesuid: 1.3.6.1.4.1.14519.5.2.1.6279.6001.252709517998555732486024866345\n",
      "Image array shape: (124, 512, 512)\n",
      "Output path for .npy file: LUNA16/Luna Output/subset7/1.3.6.1.4.1.14519.5.2.1.6279.6001.252709517998555732486024866345.npy\n",
      "Error saving .npy file for LUNA16/Dataset/subset7/1.3.6.1.4.1.14519.5.2.1.6279.6001.252709517998555732486024866345.mhd: 32505856 requested and 0 written\n",
      "\n",
      "Processing file: LUNA16/Dataset/subset7/1.3.6.1.4.1.14519.5.2.1.6279.6001.908250781706513856628130123235.mhd\n",
      "SeriesUID for current file: 1.3.6.1.4.1.14519.5.2.1.6279.6001.908250781706513856628130123235\n"
     ]
    },
    {
     "name": "stderr",
     "output_type": "stream",
     "text": [
      "\r",
      " 74%|██████████████████████████████▎          | 656/888 [03:49<00:34,  6.63it/s]"
     ]
    },
    {
     "name": "stdout",
     "output_type": "stream",
     "text": [
      "Found 1355 nodes for seriesuid: 1.3.6.1.4.1.14519.5.2.1.6279.6001.908250781706513856628130123235\n",
      "Image array shape: (260, 512, 512)\n",
      "Output path for .npy file: LUNA16/Luna Output/subset7/1.3.6.1.4.1.14519.5.2.1.6279.6001.908250781706513856628130123235.npy\n",
      "Error saving .npy file for LUNA16/Dataset/subset7/1.3.6.1.4.1.14519.5.2.1.6279.6001.908250781706513856628130123235.mhd: 68157440 requested and 0 written\n",
      "\n",
      "Processing file: LUNA16/Dataset/subset7/1.3.6.1.4.1.14519.5.2.1.6279.6001.141149610914910880857802344415.mhd\n",
      "SeriesUID for current file: 1.3.6.1.4.1.14519.5.2.1.6279.6001.141149610914910880857802344415\n",
      "Found 752 nodes for seriesuid: 1.3.6.1.4.1.14519.5.2.1.6279.6001.141149610914910880857802344415\n",
      "Image array shape: (117, 512, 512)\n",
      "Output path for .npy file: LUNA16/Luna Output/subset7/1.3.6.1.4.1.14519.5.2.1.6279.6001.141149610914910880857802344415.npy\n"
     ]
    },
    {
     "name": "stderr",
     "output_type": "stream",
     "text": [
      "\r",
      " 74%|██████████████████████████████▍          | 658/888 [03:50<00:29,  7.86it/s]"
     ]
    },
    {
     "name": "stdout",
     "output_type": "stream",
     "text": [
      "Error saving .npy file for LUNA16/Dataset/subset7/1.3.6.1.4.1.14519.5.2.1.6279.6001.141149610914910880857802344415.mhd: 30670848 requested and 0 written\n",
      "\n",
      "Processing file: LUNA16/Dataset/subset7/1.3.6.1.4.1.14519.5.2.1.6279.6001.314836406260772370397541392345.mhd\n",
      "SeriesUID for current file: 1.3.6.1.4.1.14519.5.2.1.6279.6001.314836406260772370397541392345\n",
      "Found 751 nodes for seriesuid: 1.3.6.1.4.1.14519.5.2.1.6279.6001.314836406260772370397541392345\n",
      "Image array shape: (133, 512, 512)\n",
      "Output path for .npy file: LUNA16/Luna Output/subset7/1.3.6.1.4.1.14519.5.2.1.6279.6001.314836406260772370397541392345.npy\n",
      "Error saving .npy file for LUNA16/Dataset/subset7/1.3.6.1.4.1.14519.5.2.1.6279.6001.314836406260772370397541392345.mhd: 34865152 requested and 0 written\n",
      "\n",
      "Processing file: LUNA16/Dataset/subset7/1.3.6.1.4.1.14519.5.2.1.6279.6001.170825539570536865106681134236.mhd\n",
      "SeriesUID for current file: 1.3.6.1.4.1.14519.5.2.1.6279.6001.170825539570536865106681134236\n",
      "Found 404 nodes for seriesuid: 1.3.6.1.4.1.14519.5.2.1.6279.6001.170825539570536865106681134236\n"
     ]
    },
    {
     "name": "stderr",
     "output_type": "stream",
     "text": [
      "\r",
      " 74%|██████████████████████████████▍          | 659/888 [03:50<00:32,  7.10it/s]"
     ]
    },
    {
     "name": "stdout",
     "output_type": "stream",
     "text": [
      "Image array shape: (270, 512, 512)\n",
      "Output path for .npy file: LUNA16/Luna Output/subset7/1.3.6.1.4.1.14519.5.2.1.6279.6001.170825539570536865106681134236.npy\n",
      "Error saving .npy file for LUNA16/Dataset/subset7/1.3.6.1.4.1.14519.5.2.1.6279.6001.170825539570536865106681134236.mhd: 70778880 requested and 0 written\n",
      "\n",
      "Processing file: LUNA16/Dataset/subset7/1.3.6.1.4.1.14519.5.2.1.6279.6001.116097642684124305074876564522.mhd\n",
      "SeriesUID for current file: 1.3.6.1.4.1.14519.5.2.1.6279.6001.116097642684124305074876564522\n",
      "Found 510 nodes for seriesuid: 1.3.6.1.4.1.14519.5.2.1.6279.6001.116097642684124305074876564522\n"
     ]
    },
    {
     "name": "stderr",
     "output_type": "stream",
     "text": [
      " 74%|██████████████████████████████▌          | 661/888 [03:50<00:42,  5.40it/s]"
     ]
    },
    {
     "name": "stdout",
     "output_type": "stream",
     "text": [
      "Image array shape: (458, 512, 512)\n",
      "Output path for .npy file: LUNA16/Luna Output/subset7/1.3.6.1.4.1.14519.5.2.1.6279.6001.116097642684124305074876564522.npy\n",
      "Error saving .npy file for LUNA16/Dataset/subset7/1.3.6.1.4.1.14519.5.2.1.6279.6001.116097642684124305074876564522.mhd: 120061952 requested and 0 written\n",
      "\n",
      "Processing file: LUNA16/Dataset/subset7/1.3.6.1.4.1.14519.5.2.1.6279.6001.111496024928645603833332252962.mhd\n",
      "SeriesUID for current file: 1.3.6.1.4.1.14519.5.2.1.6279.6001.111496024928645603833332252962\n",
      "Found 648 nodes for seriesuid: 1.3.6.1.4.1.14519.5.2.1.6279.6001.111496024928645603833332252962\n",
      "Image array shape: (246, 512, 512)\n",
      "Output path for .npy file: LUNA16/Luna Output/subset7/1.3.6.1.4.1.14519.5.2.1.6279.6001.111496024928645603833332252962.npy\n",
      "Error saving .npy file for LUNA16/Dataset/subset7/1.3.6.1.4.1.14519.5.2.1.6279.6001.111496024928645603833332252962.mhd: 64487424 requested and 0 written\n",
      "\n",
      "Processing file: LUNA16/Dataset/subset7/1.3.6.1.4.1.14519.5.2.1.6279.6001.139889514693390832525232698200.mhd\n",
      "SeriesUID for current file: 1.3.6.1.4.1.14519.5.2.1.6279.6001.139889514693390832525232698200\n",
      "Found 414 nodes for seriesuid: 1.3.6.1.4.1.14519.5.2.1.6279.6001.139889514693390832525232698200\n"
     ]
    },
    {
     "name": "stderr",
     "output_type": "stream",
     "text": [
      "\r",
      " 75%|██████████████████████████████▌          | 662/888 [03:51<00:49,  4.60it/s]"
     ]
    },
    {
     "name": "stdout",
     "output_type": "stream",
     "text": [
      "Image array shape: (484, 512, 512)\n",
      "Output path for .npy file: LUNA16/Luna Output/subset7/1.3.6.1.4.1.14519.5.2.1.6279.6001.139889514693390832525232698200.npy\n",
      "Error saving .npy file for LUNA16/Dataset/subset7/1.3.6.1.4.1.14519.5.2.1.6279.6001.139889514693390832525232698200.mhd: 126877696 requested and 0 written\n",
      "\n",
      "Processing file: LUNA16/Dataset/subset7/1.3.6.1.4.1.14519.5.2.1.6279.6001.900182736599353600185270496549.mhd\n",
      "SeriesUID for current file: 1.3.6.1.4.1.14519.5.2.1.6279.6001.900182736599353600185270496549\n",
      "Found 893 nodes for seriesuid: 1.3.6.1.4.1.14519.5.2.1.6279.6001.900182736599353600185270496549\n"
     ]
    },
    {
     "name": "stderr",
     "output_type": "stream",
     "text": [
      "\r",
      " 75%|██████████████████████████████▌          | 663/888 [03:51<00:48,  4.66it/s]"
     ]
    },
    {
     "name": "stdout",
     "output_type": "stream",
     "text": [
      "Image array shape: (247, 512, 512)\n",
      "Output path for .npy file: LUNA16/Luna Output/subset7/1.3.6.1.4.1.14519.5.2.1.6279.6001.900182736599353600185270496549.npy\n",
      "Error saving .npy file for LUNA16/Dataset/subset7/1.3.6.1.4.1.14519.5.2.1.6279.6001.900182736599353600185270496549.mhd: 64749568 requested and 0 written\n",
      "\n",
      "Processing file: LUNA16/Dataset/subset7/1.3.6.1.4.1.14519.5.2.1.6279.6001.306112617218006614029386065035.mhd\n",
      "SeriesUID for current file: 1.3.6.1.4.1.14519.5.2.1.6279.6001.306112617218006614029386065035\n",
      "Found 642 nodes for seriesuid: 1.3.6.1.4.1.14519.5.2.1.6279.6001.306112617218006614029386065035\n",
      "Image array shape: (140, 512, 512)\n",
      "Output path for .npy file: LUNA16/Luna Output/subset7/1.3.6.1.4.1.14519.5.2.1.6279.6001.306112617218006614029386065035.npy\n",
      "Error saving .npy file for LUNA16/Dataset/subset7/1.3.6.1.4.1.14519.5.2.1.6279.6001.306112617218006614029386065035.mhd: 36700160 requested and 0 written\n",
      "\n",
      "Processing file: LUNA16/Dataset/subset7/1.3.6.1.4.1.14519.5.2.1.6279.6001.264251211689085893915477907261.mhd\n",
      "SeriesUID for current file: 1.3.6.1.4.1.14519.5.2.1.6279.6001.264251211689085893915477907261\n",
      "Found 597 nodes for seriesuid: 1.3.6.1.4.1.14519.5.2.1.6279.6001.264251211689085893915477907261\n"
     ]
    },
    {
     "name": "stderr",
     "output_type": "stream",
     "text": [
      " 75%|██████████████████████████████▊          | 666/888 [03:51<00:47,  4.66it/s]"
     ]
    },
    {
     "name": "stdout",
     "output_type": "stream",
     "text": [
      "Image array shape: (503, 512, 512)\n",
      "Output path for .npy file: LUNA16/Luna Output/subset7/1.3.6.1.4.1.14519.5.2.1.6279.6001.264251211689085893915477907261.npy\n",
      "Error saving .npy file for LUNA16/Dataset/subset7/1.3.6.1.4.1.14519.5.2.1.6279.6001.264251211689085893915477907261.mhd: 131858432 requested and 0 written\n",
      "\n",
      "Processing file: LUNA16/Dataset/subset7/1.3.6.1.4.1.14519.5.2.1.6279.6001.151669338315069779994664893123.mhd\n",
      "SeriesUID for current file: 1.3.6.1.4.1.14519.5.2.1.6279.6001.151669338315069779994664893123\n",
      "Found 686 nodes for seriesuid: 1.3.6.1.4.1.14519.5.2.1.6279.6001.151669338315069779994664893123\n",
      "Image array shape: (124, 512, 512)\n",
      "Output path for .npy file: LUNA16/Luna Output/subset7/1.3.6.1.4.1.14519.5.2.1.6279.6001.151669338315069779994664893123.npy\n",
      "Error saving .npy file for LUNA16/Dataset/subset7/1.3.6.1.4.1.14519.5.2.1.6279.6001.151669338315069779994664893123.mhd: 32505856 requested and 0 written\n",
      "\n",
      "Processing file: LUNA16/Dataset/subset7/1.3.6.1.4.1.14519.5.2.1.6279.6001.159665703190517688573100822213.mhd\n",
      "SeriesUID for current file: 1.3.6.1.4.1.14519.5.2.1.6279.6001.159665703190517688573100822213\n",
      "Found 1001 nodes for seriesuid: 1.3.6.1.4.1.14519.5.2.1.6279.6001.159665703190517688573100822213\n"
     ]
    },
    {
     "name": "stderr",
     "output_type": "stream",
     "text": [
      "\r",
      " 75%|██████████████████████████████▊          | 667/888 [03:52<00:41,  5.28it/s]"
     ]
    },
    {
     "name": "stdout",
     "output_type": "stream",
     "text": [
      "Image array shape: (123, 512, 512)\n",
      "Output path for .npy file: LUNA16/Luna Output/subset7/1.3.6.1.4.1.14519.5.2.1.6279.6001.159665703190517688573100822213.npy\n",
      "Error saving .npy file for LUNA16/Dataset/subset7/1.3.6.1.4.1.14519.5.2.1.6279.6001.159665703190517688573100822213.mhd: 32243712 requested and 0 written\n",
      "\n",
      "Processing file: LUNA16/Dataset/subset7/1.3.6.1.4.1.14519.5.2.1.6279.6001.248425363469507808613979846863.mhd\n",
      "SeriesUID for current file: 1.3.6.1.4.1.14519.5.2.1.6279.6001.248425363469507808613979846863\n",
      "Found 335 nodes for seriesuid: 1.3.6.1.4.1.14519.5.2.1.6279.6001.248425363469507808613979846863\n"
     ]
    },
    {
     "name": "stderr",
     "output_type": "stream",
     "text": [
      "\r",
      " 75%|██████████████████████████████▊          | 668/888 [03:52<00:56,  3.92it/s]"
     ]
    },
    {
     "name": "stdout",
     "output_type": "stream",
     "text": [
      "Image array shape: (461, 512, 512)\n",
      "Output path for .npy file: LUNA16/Luna Output/subset7/1.3.6.1.4.1.14519.5.2.1.6279.6001.248425363469507808613979846863.npy\n",
      "Error saving .npy file for LUNA16/Dataset/subset7/1.3.6.1.4.1.14519.5.2.1.6279.6001.248425363469507808613979846863.mhd: 120848384 requested and 0 written\n",
      "\n",
      "Processing file: LUNA16/Dataset/subset7/1.3.6.1.4.1.14519.5.2.1.6279.6001.994459772950022352718462251777.mhd\n",
      "SeriesUID for current file: 1.3.6.1.4.1.14519.5.2.1.6279.6001.994459772950022352718462251777\n",
      "Found 613 nodes for seriesuid: 1.3.6.1.4.1.14519.5.2.1.6279.6001.994459772950022352718462251777\n"
     ]
    },
    {
     "name": "stderr",
     "output_type": "stream",
     "text": [
      "\r",
      " 75%|██████████████████████████████▉          | 669/888 [03:52<00:58,  3.76it/s]"
     ]
    },
    {
     "name": "stdout",
     "output_type": "stream",
     "text": [
      "Image array shape: (291, 512, 512)\n",
      "Output path for .npy file: LUNA16/Luna Output/subset7/1.3.6.1.4.1.14519.5.2.1.6279.6001.994459772950022352718462251777.npy\n",
      "Error saving .npy file for LUNA16/Dataset/subset7/1.3.6.1.4.1.14519.5.2.1.6279.6001.994459772950022352718462251777.mhd: 76283904 requested and 0 written\n",
      "\n",
      "Processing file: LUNA16/Dataset/subset7/1.3.6.1.4.1.14519.5.2.1.6279.6001.215640837032688688030770057224.mhd\n",
      "SeriesUID for current file: 1.3.6.1.4.1.14519.5.2.1.6279.6001.215640837032688688030770057224\n",
      "Found 938 nodes for seriesuid: 1.3.6.1.4.1.14519.5.2.1.6279.6001.215640837032688688030770057224\n"
     ]
    },
    {
     "name": "stderr",
     "output_type": "stream",
     "text": [
      " 76%|██████████████████████████████▉          | 671/888 [03:53<00:49,  4.37it/s]"
     ]
    },
    {
     "name": "stdout",
     "output_type": "stream",
     "text": [
      "Image array shape: (235, 512, 512)\n",
      "Output path for .npy file: LUNA16/Luna Output/subset7/1.3.6.1.4.1.14519.5.2.1.6279.6001.215640837032688688030770057224.npy\n",
      "Error saving .npy file for LUNA16/Dataset/subset7/1.3.6.1.4.1.14519.5.2.1.6279.6001.215640837032688688030770057224.mhd: 61603840 requested and 0 written\n",
      "\n",
      "Processing file: LUNA16/Dataset/subset7/1.3.6.1.4.1.14519.5.2.1.6279.6001.233001470265230594739708503198.mhd\n",
      "SeriesUID for current file: 1.3.6.1.4.1.14519.5.2.1.6279.6001.233001470265230594739708503198\n",
      "Found 713 nodes for seriesuid: 1.3.6.1.4.1.14519.5.2.1.6279.6001.233001470265230594739708503198\n",
      "Image array shape: (199, 512, 512)\n",
      "Output path for .npy file: LUNA16/Luna Output/subset7/1.3.6.1.4.1.14519.5.2.1.6279.6001.233001470265230594739708503198.npy\n",
      "Error saving .npy file for LUNA16/Dataset/subset7/1.3.6.1.4.1.14519.5.2.1.6279.6001.233001470265230594739708503198.mhd: 52166656 requested and 0 written\n",
      "\n",
      "Processing file: LUNA16/Dataset/subset7/1.3.6.1.4.1.14519.5.2.1.6279.6001.837810280808122125183730411210.mhd\n",
      "SeriesUID for current file: 1.3.6.1.4.1.14519.5.2.1.6279.6001.837810280808122125183730411210\n",
      "Found 1109 nodes for seriesuid: 1.3.6.1.4.1.14519.5.2.1.6279.6001.837810280808122125183730411210\n"
     ]
    },
    {
     "name": "stderr",
     "output_type": "stream",
     "text": [
      " 76%|███████████████████████████████          | 673/888 [03:53<00:37,  5.72it/s]"
     ]
    },
    {
     "name": "stdout",
     "output_type": "stream",
     "text": [
      "Image array shape: (133, 512, 512)\n",
      "Output path for .npy file: LUNA16/Luna Output/subset7/1.3.6.1.4.1.14519.5.2.1.6279.6001.837810280808122125183730411210.npy\n",
      "Error saving .npy file for LUNA16/Dataset/subset7/1.3.6.1.4.1.14519.5.2.1.6279.6001.837810280808122125183730411210.mhd: 34865152 requested and 0 written\n",
      "\n",
      "Processing file: LUNA16/Dataset/subset7/1.3.6.1.4.1.14519.5.2.1.6279.6001.261700367741314729940340271960.mhd\n",
      "SeriesUID for current file: 1.3.6.1.4.1.14519.5.2.1.6279.6001.261700367741314729940340271960\n",
      "Found 786 nodes for seriesuid: 1.3.6.1.4.1.14519.5.2.1.6279.6001.261700367741314729940340271960\n",
      "Image array shape: (133, 512, 512)\n",
      "Output path for .npy file: LUNA16/Luna Output/subset7/1.3.6.1.4.1.14519.5.2.1.6279.6001.261700367741314729940340271960.npy\n",
      "Error saving .npy file for LUNA16/Dataset/subset7/1.3.6.1.4.1.14519.5.2.1.6279.6001.261700367741314729940340271960.mhd: 34865152 requested and 0 written\n",
      "\n",
      "Processing file: LUNA16/Dataset/subset7/1.3.6.1.4.1.14519.5.2.1.6279.6001.129982010889624423230394257528.mhd\n",
      "SeriesUID for current file: 1.3.6.1.4.1.14519.5.2.1.6279.6001.129982010889624423230394257528\n",
      "Found 1307 nodes for seriesuid: 1.3.6.1.4.1.14519.5.2.1.6279.6001.129982010889624423230394257528\n"
     ]
    },
    {
     "name": "stderr",
     "output_type": "stream",
     "text": [
      " 76%|███████████████████████████████▏         | 675/888 [03:53<00:41,  5.10it/s]"
     ]
    },
    {
     "name": "stdout",
     "output_type": "stream",
     "text": [
      "Image array shape: (265, 512, 512)\n",
      "Output path for .npy file: LUNA16/Luna Output/subset7/1.3.6.1.4.1.14519.5.2.1.6279.6001.129982010889624423230394257528.npy\n",
      "Error saving .npy file for LUNA16/Dataset/subset7/1.3.6.1.4.1.14519.5.2.1.6279.6001.129982010889624423230394257528.mhd: 69468160 requested and 0 written\n",
      "\n",
      "Processing file: LUNA16/Dataset/subset7/1.3.6.1.4.1.14519.5.2.1.6279.6001.944888107209008719031293531091.mhd\n",
      "SeriesUID for current file: 1.3.6.1.4.1.14519.5.2.1.6279.6001.944888107209008719031293531091\n",
      "Found 1196 nodes for seriesuid: 1.3.6.1.4.1.14519.5.2.1.6279.6001.944888107209008719031293531091\n",
      "Image array shape: (143, 512, 512)\n",
      "Output path for .npy file: LUNA16/Luna Output/subset7/1.3.6.1.4.1.14519.5.2.1.6279.6001.944888107209008719031293531091.npy\n",
      "Error saving .npy file for LUNA16/Dataset/subset7/1.3.6.1.4.1.14519.5.2.1.6279.6001.944888107209008719031293531091.mhd: 37486592 requested and 0 written\n",
      "\n",
      "Processing file: LUNA16/Dataset/subset7/1.3.6.1.4.1.14519.5.2.1.6279.6001.122621219961396951727742490470.mhd\n",
      "SeriesUID for current file: 1.3.6.1.4.1.14519.5.2.1.6279.6001.122621219961396951727742490470\n"
     ]
    },
    {
     "name": "stderr",
     "output_type": "stream",
     "text": [
      "\r",
      " 76%|███████████████████████████████▏         | 676/888 [03:54<00:38,  5.46it/s]"
     ]
    },
    {
     "name": "stdout",
     "output_type": "stream",
     "text": [
      "Found 949 nodes for seriesuid: 1.3.6.1.4.1.14519.5.2.1.6279.6001.122621219961396951727742490470\n",
      "Image array shape: (238, 512, 512)\n",
      "Output path for .npy file: LUNA16/Luna Output/subset7/1.3.6.1.4.1.14519.5.2.1.6279.6001.122621219961396951727742490470.npy\n",
      "Error saving .npy file for LUNA16/Dataset/subset7/1.3.6.1.4.1.14519.5.2.1.6279.6001.122621219961396951727742490470.mhd: 62390272 requested and 0 written\n",
      "\n",
      "Processing file: LUNA16/Dataset/subset7/1.3.6.1.4.1.14519.5.2.1.6279.6001.771831598853841017505646275338.mhd\n",
      "SeriesUID for current file: 1.3.6.1.4.1.14519.5.2.1.6279.6001.771831598853841017505646275338\n",
      "Found 990 nodes for seriesuid: 1.3.6.1.4.1.14519.5.2.1.6279.6001.771831598853841017505646275338\n"
     ]
    },
    {
     "name": "stderr",
     "output_type": "stream",
     "text": [
      " 76%|███████████████████████████████▎         | 678/888 [03:54<00:47,  4.38it/s]"
     ]
    },
    {
     "name": "stdout",
     "output_type": "stream",
     "text": [
      "Image array shape: (501, 512, 512)\n",
      "Output path for .npy file: LUNA16/Luna Output/subset7/1.3.6.1.4.1.14519.5.2.1.6279.6001.771831598853841017505646275338.npy\n",
      "Error saving .npy file for LUNA16/Dataset/subset7/1.3.6.1.4.1.14519.5.2.1.6279.6001.771831598853841017505646275338.mhd: 131334144 requested and 0 written\n",
      "\n",
      "Processing file: LUNA16/Dataset/subset7/1.3.6.1.4.1.14519.5.2.1.6279.6001.294120933998772507043263238704.mhd\n",
      "SeriesUID for current file: 1.3.6.1.4.1.14519.5.2.1.6279.6001.294120933998772507043263238704\n",
      "Found 729 nodes for seriesuid: 1.3.6.1.4.1.14519.5.2.1.6279.6001.294120933998772507043263238704\n",
      "Image array shape: (127, 512, 512)\n",
      "Output path for .npy file: LUNA16/Luna Output/subset7/1.3.6.1.4.1.14519.5.2.1.6279.6001.294120933998772507043263238704.npy\n",
      "Error saving .npy file for LUNA16/Dataset/subset7/1.3.6.1.4.1.14519.5.2.1.6279.6001.294120933998772507043263238704.mhd: 33292288 requested and 0 written\n",
      "\n",
      "Processing file: LUNA16/Dataset/subset7/1.3.6.1.4.1.14519.5.2.1.6279.6001.167500254299688235071950909530.mhd\n",
      "SeriesUID for current file: 1.3.6.1.4.1.14519.5.2.1.6279.6001.167500254299688235071950909530\n",
      "Found 638 nodes for seriesuid: 1.3.6.1.4.1.14519.5.2.1.6279.6001.167500254299688235071950909530\n",
      "Image array shape: (142, 512, 512)\n",
      "Output path for .npy file: LUNA16/Luna Output/subset7/1.3.6.1.4.1.14519.5.2.1.6279.6001.167500254299688235071950909530.npy\n",
      "Error saving .npy file for LUNA16/Dataset/subset7/1.3.6.1.4.1.14519.5.2.1.6279.6001.167500254299688235071950909530.mhd: 37224448 requested and 0 written\n",
      "\n",
      "Processing file: LUNA16/Dataset/subset7/1.3.6.1.4.1.14519.5.2.1.6279.6001.297433269262659217151107535012.mhd\n",
      "SeriesUID for current file: 1.3.6.1.4.1.14519.5.2.1.6279.6001.297433269262659217151107535012\n",
      "Found 1593 nodes for seriesuid: 1.3.6.1.4.1.14519.5.2.1.6279.6001.297433269262659217151107535012\n"
     ]
    },
    {
     "name": "stderr",
     "output_type": "stream",
     "text": [
      "\r",
      " 77%|███████████████████████████████▍         | 680/888 [03:55<00:45,  4.53it/s]"
     ]
    },
    {
     "name": "stdout",
     "output_type": "stream",
     "text": [
      "Image array shape: (497, 512, 512)\n",
      "Output path for .npy file: LUNA16/Luna Output/subset7/1.3.6.1.4.1.14519.5.2.1.6279.6001.297433269262659217151107535012.npy\n",
      "Error saving .npy file for LUNA16/Dataset/subset7/1.3.6.1.4.1.14519.5.2.1.6279.6001.297433269262659217151107535012.mhd: 130285568 requested and 0 written\n",
      "\n",
      "Processing file: LUNA16/Dataset/subset7/1.3.6.1.4.1.14519.5.2.1.6279.6001.271307051432838466826189754230.mhd\n",
      "SeriesUID for current file: 1.3.6.1.4.1.14519.5.2.1.6279.6001.271307051432838466826189754230\n",
      "Found 702 nodes for seriesuid: 1.3.6.1.4.1.14519.5.2.1.6279.6001.271307051432838466826189754230\n",
      "Image array shape: (133, 512, 512)\n",
      "Output path for .npy file: LUNA16/Luna Output/subset7/1.3.6.1.4.1.14519.5.2.1.6279.6001.271307051432838466826189754230.npy\n",
      "Error saving .npy file for LUNA16/Dataset/subset7/1.3.6.1.4.1.14519.5.2.1.6279.6001.271307051432838466826189754230.mhd: 34865152 requested and 0 written\n",
      "\n",
      "Processing file: LUNA16/Dataset/subset7/1.3.6.1.4.1.14519.5.2.1.6279.6001.332829333783605240302521201463.mhd\n",
      "SeriesUID for current file: 1.3.6.1.4.1.14519.5.2.1.6279.6001.332829333783605240302521201463\n",
      "Found 827 nodes for seriesuid: 1.3.6.1.4.1.14519.5.2.1.6279.6001.332829333783605240302521201463\n"
     ]
    },
    {
     "name": "stderr",
     "output_type": "stream",
     "text": [
      " 77%|███████████████████████████████▌         | 683/888 [03:55<00:35,  5.71it/s]"
     ]
    },
    {
     "name": "stdout",
     "output_type": "stream",
     "text": [
      "Image array shape: (281, 512, 512)\n",
      "Output path for .npy file: LUNA16/Luna Output/subset7/1.3.6.1.4.1.14519.5.2.1.6279.6001.332829333783605240302521201463.npy\n",
      "Error saving .npy file for LUNA16/Dataset/subset7/1.3.6.1.4.1.14519.5.2.1.6279.6001.332829333783605240302521201463.mhd: 73662464 requested and 0 written\n",
      "\n",
      "Processing file: LUNA16/Dataset/subset7/1.3.6.1.4.1.14519.5.2.1.6279.6001.106379658920626694402549886949.mhd\n",
      "SeriesUID for current file: 1.3.6.1.4.1.14519.5.2.1.6279.6001.106379658920626694402549886949\n",
      "Found 820 nodes for seriesuid: 1.3.6.1.4.1.14519.5.2.1.6279.6001.106379658920626694402549886949\n",
      "Image array shape: (214, 512, 512)\n",
      "Output path for .npy file: LUNA16/Luna Output/subset7/1.3.6.1.4.1.14519.5.2.1.6279.6001.106379658920626694402549886949.npy\n",
      "Error saving .npy file for LUNA16/Dataset/subset7/1.3.6.1.4.1.14519.5.2.1.6279.6001.106379658920626694402549886949.mhd: 56098816 requested and 0 written\n",
      "\n",
      "Processing file: LUNA16/Dataset/subset7/1.3.6.1.4.1.14519.5.2.1.6279.6001.328789598898469177563438457842.mhd\n",
      "SeriesUID for current file: 1.3.6.1.4.1.14519.5.2.1.6279.6001.328789598898469177563438457842\n",
      "Found 1068 nodes for seriesuid: 1.3.6.1.4.1.14519.5.2.1.6279.6001.328789598898469177563438457842\n"
     ]
    },
    {
     "name": "stderr",
     "output_type": "stream",
     "text": [
      "\r",
      " 77%|███████████████████████████████▋         | 685/888 [03:55<00:30,  6.65it/s]"
     ]
    },
    {
     "name": "stdout",
     "output_type": "stream",
     "text": [
      "Image array shape: (128, 512, 512)\n",
      "Output path for .npy file: LUNA16/Luna Output/subset7/1.3.6.1.4.1.14519.5.2.1.6279.6001.328789598898469177563438457842.npy\n",
      "Error saving .npy file for LUNA16/Dataset/subset7/1.3.6.1.4.1.14519.5.2.1.6279.6001.328789598898469177563438457842.mhd: 33554432 requested and 0 written\n",
      "\n",
      "Processing file: LUNA16/Dataset/subset7/1.3.6.1.4.1.14519.5.2.1.6279.6001.130036599816889919308975074972.mhd\n",
      "SeriesUID for current file: 1.3.6.1.4.1.14519.5.2.1.6279.6001.130036599816889919308975074972\n",
      "Found 1001 nodes for seriesuid: 1.3.6.1.4.1.14519.5.2.1.6279.6001.130036599816889919308975074972\n",
      "Image array shape: (192, 512, 512)\n",
      "Output path for .npy file: LUNA16/Luna Output/subset7/1.3.6.1.4.1.14519.5.2.1.6279.6001.130036599816889919308975074972.npy\n",
      "Error saving .npy file for LUNA16/Dataset/subset7/1.3.6.1.4.1.14519.5.2.1.6279.6001.130036599816889919308975074972.mhd: 50331648 requested and 0 written\n",
      "\n",
      "Processing file: LUNA16/Dataset/subset7/1.3.6.1.4.1.14519.5.2.1.6279.6001.246758220302211646532176593724.mhd\n",
      "SeriesUID for current file: 1.3.6.1.4.1.14519.5.2.1.6279.6001.246758220302211646532176593724\n",
      "Found 751 nodes for seriesuid: 1.3.6.1.4.1.14519.5.2.1.6279.6001.246758220302211646532176593724\n"
     ]
    },
    {
     "name": "stderr",
     "output_type": "stream",
     "text": [
      " 77%|███████████████████████████████▋         | 687/888 [03:56<00:34,  5.81it/s]"
     ]
    },
    {
     "name": "stdout",
     "output_type": "stream",
     "text": [
      "Image array shape: (300, 512, 512)\n",
      "Output path for .npy file: LUNA16/Luna Output/subset7/1.3.6.1.4.1.14519.5.2.1.6279.6001.246758220302211646532176593724.npy\n",
      "Error saving .npy file for LUNA16/Dataset/subset7/1.3.6.1.4.1.14519.5.2.1.6279.6001.246758220302211646532176593724.mhd: 78643200 requested and 0 written\n",
      "\n",
      "Processing file: LUNA16/Dataset/subset7/1.3.6.1.4.1.14519.5.2.1.6279.6001.323535944958374186208096541480.mhd\n",
      "SeriesUID for current file: 1.3.6.1.4.1.14519.5.2.1.6279.6001.323535944958374186208096541480\n",
      "Found 682 nodes for seriesuid: 1.3.6.1.4.1.14519.5.2.1.6279.6001.323535944958374186208096541480\n",
      "Image array shape: (246, 512, 512)\n",
      "Output path for .npy file: LUNA16/Luna Output/subset7/1.3.6.1.4.1.14519.5.2.1.6279.6001.323535944958374186208096541480.npy\n",
      "Error saving .npy file for LUNA16/Dataset/subset7/1.3.6.1.4.1.14519.5.2.1.6279.6001.323535944958374186208096541480.mhd: 64487424 requested and 0 written\n",
      "\n",
      "Processing file: LUNA16/Dataset/subset7/1.3.6.1.4.1.14519.5.2.1.6279.6001.323426705628838942177546503237.mhd\n",
      "SeriesUID for current file: 1.3.6.1.4.1.14519.5.2.1.6279.6001.323426705628838942177546503237\n",
      "Found 762 nodes for seriesuid: 1.3.6.1.4.1.14519.5.2.1.6279.6001.323426705628838942177546503237\n"
     ]
    },
    {
     "name": "stderr",
     "output_type": "stream",
     "text": [
      "\r",
      " 77%|███████████████████████████████▊         | 688/888 [03:56<00:38,  5.13it/s]"
     ]
    },
    {
     "name": "stdout",
     "output_type": "stream",
     "text": [
      "Image array shape: (341, 512, 512)\n",
      "Output path for .npy file: LUNA16/Luna Output/subset7/1.3.6.1.4.1.14519.5.2.1.6279.6001.323426705628838942177546503237.npy\n",
      "Error saving .npy file for LUNA16/Dataset/subset7/1.3.6.1.4.1.14519.5.2.1.6279.6001.323426705628838942177546503237.mhd: 89391104 requested and 0 written\n",
      "\n",
      "Processing file: LUNA16/Dataset/subset7/1.3.6.1.4.1.14519.5.2.1.6279.6001.171177995014336749670107905732.mhd\n",
      "SeriesUID for current file: 1.3.6.1.4.1.14519.5.2.1.6279.6001.171177995014336749670107905732\n",
      "Found 687 nodes for seriesuid: 1.3.6.1.4.1.14519.5.2.1.6279.6001.171177995014336749670107905732\n"
     ]
    },
    {
     "name": "stderr",
     "output_type": "stream",
     "text": [
      "\r",
      " 78%|███████████████████████████████▊         | 689/888 [03:56<00:47,  4.21it/s]"
     ]
    },
    {
     "name": "stdout",
     "output_type": "stream",
     "text": [
      "Image array shape: (500, 512, 512)\n",
      "Output path for .npy file: LUNA16/Luna Output/subset7/1.3.6.1.4.1.14519.5.2.1.6279.6001.171177995014336749670107905732.npy\n",
      "Error saving .npy file for LUNA16/Dataset/subset7/1.3.6.1.4.1.14519.5.2.1.6279.6001.171177995014336749670107905732.mhd: 131072000 requested and 0 written\n",
      "\n",
      "Processing file: LUNA16/Dataset/subset7/1.3.6.1.4.1.14519.5.2.1.6279.6001.116703382344406837243058680403.mhd\n",
      "SeriesUID for current file: 1.3.6.1.4.1.14519.5.2.1.6279.6001.116703382344406837243058680403\n",
      "Found 620 nodes for seriesuid: 1.3.6.1.4.1.14519.5.2.1.6279.6001.116703382344406837243058680403\n"
     ]
    },
    {
     "name": "stderr",
     "output_type": "stream",
     "text": [
      " 78%|███████████████████████████████▉         | 691/888 [03:57<00:48,  4.04it/s]"
     ]
    },
    {
     "name": "stdout",
     "output_type": "stream",
     "text": [
      "Image array shape: (506, 512, 512)\n",
      "Output path for .npy file: LUNA16/Luna Output/subset7/1.3.6.1.4.1.14519.5.2.1.6279.6001.116703382344406837243058680403.npy\n",
      "Error saving .npy file for LUNA16/Dataset/subset7/1.3.6.1.4.1.14519.5.2.1.6279.6001.116703382344406837243058680403.mhd: 132644864 requested and 0 written\n",
      "\n",
      "Processing file: LUNA16/Dataset/subset7/1.3.6.1.4.1.14519.5.2.1.6279.6001.613212850444255764524630781782.mhd\n",
      "SeriesUID for current file: 1.3.6.1.4.1.14519.5.2.1.6279.6001.613212850444255764524630781782\n",
      "Found 509 nodes for seriesuid: 1.3.6.1.4.1.14519.5.2.1.6279.6001.613212850444255764524630781782\n",
      "Image array shape: (257, 512, 512)\n",
      "Output path for .npy file: LUNA16/Luna Output/subset7/1.3.6.1.4.1.14519.5.2.1.6279.6001.613212850444255764524630781782.npy\n",
      "Error saving .npy file for LUNA16/Dataset/subset7/1.3.6.1.4.1.14519.5.2.1.6279.6001.613212850444255764524630781782.mhd: 67371008 requested and 0 written\n",
      "\n",
      "Processing file: LUNA16/Dataset/subset7/1.3.6.1.4.1.14519.5.2.1.6279.6001.279953669991076107785464313394.mhd\n",
      "SeriesUID for current file: 1.3.6.1.4.1.14519.5.2.1.6279.6001.279953669991076107785464313394\n"
     ]
    },
    {
     "name": "stderr",
     "output_type": "stream",
     "text": [
      "\r",
      " 78%|███████████████████████████████▉         | 692/888 [03:57<00:41,  4.71it/s]"
     ]
    },
    {
     "name": "stdout",
     "output_type": "stream",
     "text": [
      "Found 1429 nodes for seriesuid: 1.3.6.1.4.1.14519.5.2.1.6279.6001.279953669991076107785464313394\n",
      "Image array shape: (145, 512, 512)\n",
      "Output path for .npy file: LUNA16/Luna Output/subset7/1.3.6.1.4.1.14519.5.2.1.6279.6001.279953669991076107785464313394.npy\n",
      "Error saving .npy file for LUNA16/Dataset/subset7/1.3.6.1.4.1.14519.5.2.1.6279.6001.279953669991076107785464313394.mhd: 38010880 requested and 0 written\n",
      "\n",
      "Processing file: LUNA16/Dataset/subset7/1.3.6.1.4.1.14519.5.2.1.6279.6001.664989286137882319237192185951.mhd\n",
      "SeriesUID for current file: 1.3.6.1.4.1.14519.5.2.1.6279.6001.664989286137882319237192185951\n",
      "Found 634 nodes for seriesuid: 1.3.6.1.4.1.14519.5.2.1.6279.6001.664989286137882319237192185951\n",
      "Image array shape: (178, 512, 512)\n",
      "Output path for .npy file: LUNA16/Luna Output/subset7/1.3.6.1.4.1.14519.5.2.1.6279.6001.664989286137882319237192185951.npy\n",
      "Error saving .npy file for LUNA16/Dataset/subset7/1.3.6.1.4.1.14519.5.2.1.6279.6001.664989286137882319237192185951.mhd: 46661632 requested and 0 written\n",
      "\n",
      "Processing file: LUNA16/Dataset/subset7/1.3.6.1.4.1.14519.5.2.1.6279.6001.249032660919473722154870746474.mhd\n",
      "SeriesUID for current file: 1.3.6.1.4.1.14519.5.2.1.6279.6001.249032660919473722154870746474\n"
     ]
    },
    {
     "name": "stderr",
     "output_type": "stream",
     "text": [
      "\r",
      " 78%|████████████████████████████████         | 694/888 [03:57<00:34,  5.64it/s]"
     ]
    },
    {
     "name": "stdout",
     "output_type": "stream",
     "text": [
      "Found 687 nodes for seriesuid: 1.3.6.1.4.1.14519.5.2.1.6279.6001.249032660919473722154870746474\n",
      "Image array shape: (293, 512, 512)\n",
      "Output path for .npy file: LUNA16/Luna Output/subset7/1.3.6.1.4.1.14519.5.2.1.6279.6001.249032660919473722154870746474.npy\n",
      "Error saving .npy file for LUNA16/Dataset/subset7/1.3.6.1.4.1.14519.5.2.1.6279.6001.249032660919473722154870746474.mhd: 76808192 requested and 0 written\n",
      "\n",
      "Processing file: LUNA16/Dataset/subset7/1.3.6.1.4.1.14519.5.2.1.6279.6001.686193079844756926365065559979.mhd\n",
      "SeriesUID for current file: 1.3.6.1.4.1.14519.5.2.1.6279.6001.686193079844756926365065559979\n",
      "Found 589 nodes for seriesuid: 1.3.6.1.4.1.14519.5.2.1.6279.6001.686193079844756926365065559979\n"
     ]
    },
    {
     "name": "stderr",
     "output_type": "stream",
     "text": [
      "\r",
      " 78%|████████████████████████████████         | 695/888 [03:58<00:42,  4.58it/s]"
     ]
    },
    {
     "name": "stdout",
     "output_type": "stream",
     "text": [
      "Image array shape: (484, 512, 512)\n",
      "Output path for .npy file: LUNA16/Luna Output/subset7/1.3.6.1.4.1.14519.5.2.1.6279.6001.686193079844756926365065559979.npy\n",
      "Error saving .npy file for LUNA16/Dataset/subset7/1.3.6.1.4.1.14519.5.2.1.6279.6001.686193079844756926365065559979.mhd: 126877696 requested and 0 written\n",
      "\n",
      "Processing file: LUNA16/Dataset/subset7/1.3.6.1.4.1.14519.5.2.1.6279.6001.339039410276356623209709113755.mhd\n",
      "SeriesUID for current file: 1.3.6.1.4.1.14519.5.2.1.6279.6001.339039410276356623209709113755\n",
      "Found 874 nodes for seriesuid: 1.3.6.1.4.1.14519.5.2.1.6279.6001.339039410276356623209709113755\n"
     ]
    },
    {
     "name": "stderr",
     "output_type": "stream",
     "text": [
      " 78%|████████████████████████████████▏        | 697/888 [03:58<00:42,  4.47it/s]"
     ]
    },
    {
     "name": "stdout",
     "output_type": "stream",
     "text": [
      "Image array shape: (489, 512, 512)\n",
      "Output path for .npy file: LUNA16/Luna Output/subset7/1.3.6.1.4.1.14519.5.2.1.6279.6001.339039410276356623209709113755.npy\n",
      "Error saving .npy file for LUNA16/Dataset/subset7/1.3.6.1.4.1.14519.5.2.1.6279.6001.339039410276356623209709113755.mhd: 128188416 requested and 0 written\n",
      "\n",
      "Processing file: LUNA16/Dataset/subset7/1.3.6.1.4.1.14519.5.2.1.6279.6001.113679818447732724990336702075.mhd\n",
      "SeriesUID for current file: 1.3.6.1.4.1.14519.5.2.1.6279.6001.113679818447732724990336702075\n",
      "Found 583 nodes for seriesuid: 1.3.6.1.4.1.14519.5.2.1.6279.6001.113679818447732724990336702075\n",
      "Image array shape: (241, 512, 512)\n",
      "Output path for .npy file: LUNA16/Luna Output/subset7/1.3.6.1.4.1.14519.5.2.1.6279.6001.113679818447732724990336702075.npy\n",
      "Error saving .npy file for LUNA16/Dataset/subset7/1.3.6.1.4.1.14519.5.2.1.6279.6001.113679818447732724990336702075.mhd: 63176704 requested and 0 written\n",
      "\n",
      "Processing file: LUNA16/Dataset/subset7/1.3.6.1.4.1.14519.5.2.1.6279.6001.195913706607582347421429908613.mhd\n",
      "SeriesUID for current file: 1.3.6.1.4.1.14519.5.2.1.6279.6001.195913706607582347421429908613\n"
     ]
    },
    {
     "name": "stderr",
     "output_type": "stream",
     "text": [
      "\r",
      " 79%|████████████████████████████████▏        | 698/888 [03:58<00:36,  5.24it/s]"
     ]
    },
    {
     "name": "stdout",
     "output_type": "stream",
     "text": [
      "Found 1404 nodes for seriesuid: 1.3.6.1.4.1.14519.5.2.1.6279.6001.195913706607582347421429908613\n",
      "Image array shape: (117, 512, 512)\n",
      "Output path for .npy file: LUNA16/Luna Output/subset7/1.3.6.1.4.1.14519.5.2.1.6279.6001.195913706607582347421429908613.npy\n",
      "Error saving .npy file for LUNA16/Dataset/subset7/1.3.6.1.4.1.14519.5.2.1.6279.6001.195913706607582347421429908613.mhd: 30670848 requested and 0 written\n",
      "\n",
      "Processing file: LUNA16/Dataset/subset7/1.3.6.1.4.1.14519.5.2.1.6279.6001.483655032093002252444764787700.mhd\n",
      "SeriesUID for current file: 1.3.6.1.4.1.14519.5.2.1.6279.6001.483655032093002252444764787700\n",
      "Found 655 nodes for seriesuid: 1.3.6.1.4.1.14519.5.2.1.6279.6001.483655032093002252444764787700\n"
     ]
    },
    {
     "name": "stderr",
     "output_type": "stream",
     "text": [
      "\r",
      " 79%|████████████████████████████████▎        | 699/888 [03:58<00:42,  4.43it/s]"
     ]
    },
    {
     "name": "stdout",
     "output_type": "stream",
     "text": [
      "Image array shape: (474, 512, 512)\n",
      "Output path for .npy file: LUNA16/Luna Output/subset7/1.3.6.1.4.1.14519.5.2.1.6279.6001.483655032093002252444764787700.npy\n",
      "Error saving .npy file for LUNA16/Dataset/subset7/1.3.6.1.4.1.14519.5.2.1.6279.6001.483655032093002252444764787700.mhd: 124256256 requested and 0 written\n",
      "\n",
      "Processing file: LUNA16/Dataset/subset7/1.3.6.1.4.1.14519.5.2.1.6279.6001.295462530340364058116953738925.mhd\n",
      "SeriesUID for current file: 1.3.6.1.4.1.14519.5.2.1.6279.6001.295462530340364058116953738925\n",
      "Found 1106 nodes for seriesuid: 1.3.6.1.4.1.14519.5.2.1.6279.6001.295462530340364058116953738925\n"
     ]
    },
    {
     "name": "stderr",
     "output_type": "stream",
     "text": [
      "\r",
      " 79%|████████████████████████████████▎        | 700/888 [03:59<00:49,  3.82it/s]"
     ]
    },
    {
     "name": "stdout",
     "output_type": "stream",
     "text": [
      "Image array shape: (258, 512, 512)\n",
      "Output path for .npy file: LUNA16/Luna Output/subset7/1.3.6.1.4.1.14519.5.2.1.6279.6001.295462530340364058116953738925.npy\n",
      "Saved: LUNA16/Luna Output/subset7/1.3.6.1.4.1.14519.5.2.1.6279.6001.295462530340364058116953738925.npy\n",
      "\n",
      "Processing file: LUNA16/Dataset/subset7/1.3.6.1.4.1.14519.5.2.1.6279.6001.749871569713868632259874663577.mhd\n",
      "SeriesUID for current file: 1.3.6.1.4.1.14519.5.2.1.6279.6001.749871569713868632259874663577\n",
      "Found 868 nodes for seriesuid: 1.3.6.1.4.1.14519.5.2.1.6279.6001.749871569713868632259874663577\n"
     ]
    },
    {
     "name": "stderr",
     "output_type": "stream",
     "text": [
      "\r",
      " 79%|████████████████████████████████▎        | 701/888 [03:59<00:47,  3.95it/s]"
     ]
    },
    {
     "name": "stdout",
     "output_type": "stream",
     "text": [
      "Image array shape: (372, 512, 512)\n",
      "Output path for .npy file: LUNA16/Luna Output/subset7/1.3.6.1.4.1.14519.5.2.1.6279.6001.749871569713868632259874663577.npy\n",
      "Error saving .npy file for LUNA16/Dataset/subset7/1.3.6.1.4.1.14519.5.2.1.6279.6001.749871569713868632259874663577.mhd: 97517568 requested and 0 written\n",
      "\n",
      "Processing file: LUNA16/Dataset/subset7/1.3.6.1.4.1.14519.5.2.1.6279.6001.214252223927572015414741039150.mhd\n",
      "SeriesUID for current file: 1.3.6.1.4.1.14519.5.2.1.6279.6001.214252223927572015414741039150\n",
      "Found 1174 nodes for seriesuid: 1.3.6.1.4.1.14519.5.2.1.6279.6001.214252223927572015414741039150\n",
      "Image array shape: (139, 512, 512)\n",
      "Output path for .npy file: LUNA16/Luna Output/subset7/1.3.6.1.4.1.14519.5.2.1.6279.6001.214252223927572015414741039150.npy\n",
      "Error saving .npy file for LUNA16/Dataset/subset7/1.3.6.1.4.1.14519.5.2.1.6279.6001.214252223927572015414741039150.mhd: 36438016 requested and 0 written\n",
      "\n",
      "Processing file: LUNA16/Dataset/subset7/1.3.6.1.4.1.14519.5.2.1.6279.6001.199282854229880908602362094937.mhd\n",
      "SeriesUID for current file: 1.3.6.1.4.1.14519.5.2.1.6279.6001.199282854229880908602362094937\n",
      "Found 714 nodes for seriesuid: 1.3.6.1.4.1.14519.5.2.1.6279.6001.199282854229880908602362094937\n"
     ]
    },
    {
     "name": "stderr",
     "output_type": "stream",
     "text": [
      "\r",
      " 79%|████████████████████████████████▍        | 703/888 [03:59<00:41,  4.43it/s]"
     ]
    },
    {
     "name": "stdout",
     "output_type": "stream",
     "text": [
      "Image array shape: (481, 512, 512)\n",
      "Output path for .npy file: LUNA16/Luna Output/subset7/1.3.6.1.4.1.14519.5.2.1.6279.6001.199282854229880908602362094937.npy\n",
      "Error saving .npy file for LUNA16/Dataset/subset7/1.3.6.1.4.1.14519.5.2.1.6279.6001.199282854229880908602362094937.mhd: 126091264 requested and 0 written\n",
      "\n",
      "Processing file: LUNA16/Dataset/subset7/1.3.6.1.4.1.14519.5.2.1.6279.6001.179209990684978588019929720099.mhd\n",
      "SeriesUID for current file: 1.3.6.1.4.1.14519.5.2.1.6279.6001.179209990684978588019929720099\n",
      "Found 1161 nodes for seriesuid: 1.3.6.1.4.1.14519.5.2.1.6279.6001.179209990684978588019929720099\n"
     ]
    },
    {
     "name": "stderr",
     "output_type": "stream",
     "text": [
      " 80%|████████████████████████████████▌        | 706/888 [04:00<00:31,  5.78it/s]"
     ]
    },
    {
     "name": "stdout",
     "output_type": "stream",
     "text": [
      "Image array shape: (351, 512, 512)\n",
      "Output path for .npy file: LUNA16/Luna Output/subset7/1.3.6.1.4.1.14519.5.2.1.6279.6001.179209990684978588019929720099.npy\n",
      "Error saving .npy file for LUNA16/Dataset/subset7/1.3.6.1.4.1.14519.5.2.1.6279.6001.179209990684978588019929720099.mhd: 92012544 requested and 0 written\n",
      "\n",
      "Processing file: LUNA16/Dataset/subset7/1.3.6.1.4.1.14519.5.2.1.6279.6001.219618492426142913407827034169.mhd\n",
      "SeriesUID for current file: 1.3.6.1.4.1.14519.5.2.1.6279.6001.219618492426142913407827034169\n",
      "Found 849 nodes for seriesuid: 1.3.6.1.4.1.14519.5.2.1.6279.6001.219618492426142913407827034169\n",
      "Image array shape: (117, 512, 512)\n",
      "Output path for .npy file: LUNA16/Luna Output/subset7/1.3.6.1.4.1.14519.5.2.1.6279.6001.219618492426142913407827034169.npy\n",
      "Error saving .npy file for LUNA16/Dataset/subset7/1.3.6.1.4.1.14519.5.2.1.6279.6001.219618492426142913407827034169.mhd: 30670848 requested and 0 written\n",
      "\n",
      "Processing file: LUNA16/Dataset/subset7/1.3.6.1.4.1.14519.5.2.1.6279.6001.280125803152924778388346920341.mhd\n",
      "SeriesUID for current file: 1.3.6.1.4.1.14519.5.2.1.6279.6001.280125803152924778388346920341\n",
      "Found 745 nodes for seriesuid: 1.3.6.1.4.1.14519.5.2.1.6279.6001.280125803152924778388346920341\n",
      "Image array shape: (123, 512, 512)\n",
      "Output path for .npy file: LUNA16/Luna Output/subset7/1.3.6.1.4.1.14519.5.2.1.6279.6001.280125803152924778388346920341.npy\n",
      "Error saving .npy file for LUNA16/Dataset/subset7/1.3.6.1.4.1.14519.5.2.1.6279.6001.280125803152924778388346920341.mhd: 32243712 requested and 0 written\n",
      "\n",
      "Processing file: LUNA16/Dataset/subset7/1.3.6.1.4.1.14519.5.2.1.6279.6001.185154482385982570363528682299.mhd\n",
      "SeriesUID for current file: 1.3.6.1.4.1.14519.5.2.1.6279.6001.185154482385982570363528682299\n"
     ]
    },
    {
     "name": "stderr",
     "output_type": "stream",
     "text": [
      "\r",
      " 80%|████████████████████████████████▋        | 707/888 [04:00<00:32,  5.54it/s]"
     ]
    },
    {
     "name": "stdout",
     "output_type": "stream",
     "text": [
      "Found 905 nodes for seriesuid: 1.3.6.1.4.1.14519.5.2.1.6279.6001.185154482385982570363528682299\n",
      "Image array shape: (345, 512, 512)\n",
      "Output path for .npy file: LUNA16/Luna Output/subset7/1.3.6.1.4.1.14519.5.2.1.6279.6001.185154482385982570363528682299.npy\n",
      "Error saving .npy file for LUNA16/Dataset/subset7/1.3.6.1.4.1.14519.5.2.1.6279.6001.185154482385982570363528682299.mhd: 90439680 requested and 0 written\n",
      "\n",
      "Processing file: LUNA16/Dataset/subset7/1.3.6.1.4.1.14519.5.2.1.6279.6001.114249388265341701207347458535.mhd\n",
      "SeriesUID for current file: 1.3.6.1.4.1.14519.5.2.1.6279.6001.114249388265341701207347458535\n"
     ]
    },
    {
     "name": "stderr",
     "output_type": "stream",
     "text": [
      "\r",
      " 80%|████████████████████████████████▋        | 708/888 [04:00<00:32,  5.58it/s]"
     ]
    },
    {
     "name": "stdout",
     "output_type": "stream",
     "text": [
      "Found 979 nodes for seriesuid: 1.3.6.1.4.1.14519.5.2.1.6279.6001.114249388265341701207347458535\n",
      "Image array shape: (232, 512, 512)\n",
      "Output path for .npy file: LUNA16/Luna Output/subset7/1.3.6.1.4.1.14519.5.2.1.6279.6001.114249388265341701207347458535.npy\n",
      "Error saving .npy file for LUNA16/Dataset/subset7/1.3.6.1.4.1.14519.5.2.1.6279.6001.114249388265341701207347458535.mhd: 60817408 requested and 0 written\n",
      "\n",
      "Processing file: LUNA16/Dataset/subset7/1.3.6.1.4.1.14519.5.2.1.6279.6001.336198008634390022174744544656.mhd\n",
      "SeriesUID for current file: 1.3.6.1.4.1.14519.5.2.1.6279.6001.336198008634390022174744544656\n",
      "Found 799 nodes for seriesuid: 1.3.6.1.4.1.14519.5.2.1.6279.6001.336198008634390022174744544656\n"
     ]
    },
    {
     "name": "stderr",
     "output_type": "stream",
     "text": [
      "\r",
      " 80%|████████████████████████████████▊        | 710/888 [04:00<00:25,  7.00it/s]"
     ]
    },
    {
     "name": "stdout",
     "output_type": "stream",
     "text": [
      "Image array shape: (133, 512, 512)\n",
      "Output path for .npy file: LUNA16/Luna Output/subset7/1.3.6.1.4.1.14519.5.2.1.6279.6001.336198008634390022174744544656.npy\n",
      "Error saving .npy file for LUNA16/Dataset/subset7/1.3.6.1.4.1.14519.5.2.1.6279.6001.336198008634390022174744544656.mhd: 34865152 requested and 0 written\n",
      "\n",
      "Processing file: LUNA16/Dataset/subset7/1.3.6.1.4.1.14519.5.2.1.6279.6001.276351267409869539593937734609.mhd\n",
      "SeriesUID for current file: 1.3.6.1.4.1.14519.5.2.1.6279.6001.276351267409869539593937734609\n",
      "Found 351 nodes for seriesuid: 1.3.6.1.4.1.14519.5.2.1.6279.6001.276351267409869539593937734609\n",
      "Image array shape: (241, 512, 512)\n",
      "Output path for .npy file: LUNA16/Luna Output/subset7/1.3.6.1.4.1.14519.5.2.1.6279.6001.276351267409869539593937734609.npy\n",
      "Error saving .npy file for LUNA16/Dataset/subset7/1.3.6.1.4.1.14519.5.2.1.6279.6001.276351267409869539593937734609.mhd: 63176704 requested and 0 written\n",
      "\n",
      "Processing file: LUNA16/Dataset/subset7/1.3.6.1.4.1.14519.5.2.1.6279.6001.550599855064600241623943717588.mhd\n",
      "SeriesUID for current file: 1.3.6.1.4.1.14519.5.2.1.6279.6001.550599855064600241623943717588\n",
      "Found 1170 nodes for seriesuid: 1.3.6.1.4.1.14519.5.2.1.6279.6001.550599855064600241623943717588\n"
     ]
    },
    {
     "name": "stderr",
     "output_type": "stream",
     "text": [
      "\r",
      " 80%|████████████████████████████████▊        | 711/888 [04:01<00:27,  6.51it/s]"
     ]
    },
    {
     "name": "stdout",
     "output_type": "stream",
     "text": [
      "Image array shape: (252, 512, 512)\n",
      "Output path for .npy file: LUNA16/Luna Output/subset7/1.3.6.1.4.1.14519.5.2.1.6279.6001.550599855064600241623943717588.npy\n",
      "Error saving .npy file for LUNA16/Dataset/subset7/1.3.6.1.4.1.14519.5.2.1.6279.6001.550599855064600241623943717588.mhd: 66060288 requested and 0 written\n",
      "\n",
      "Processing file: LUNA16/Dataset/subset7/1.3.6.1.4.1.14519.5.2.1.6279.6001.447468612991222399440694673357.mhd\n",
      "SeriesUID for current file: 1.3.6.1.4.1.14519.5.2.1.6279.6001.447468612991222399440694673357\n",
      "Found 452 nodes for seriesuid: 1.3.6.1.4.1.14519.5.2.1.6279.6001.447468612991222399440694673357\n",
      "Image array shape: (124, 512, 512)\n",
      "Output path for .npy file: LUNA16/Luna Output/subset7/1.3.6.1.4.1.14519.5.2.1.6279.6001.447468612991222399440694673357.npy\n",
      "Error saving .npy file for LUNA16/Dataset/subset7/1.3.6.1.4.1.14519.5.2.1.6279.6001.447468612991222399440694673357.mhd: 32505856 requested and 0 written\n",
      "\n",
      "Processing file: LUNA16/Dataset/subset8/1.3.6.1.4.1.14519.5.2.1.6279.6001.622243923620914676263059698181.mhd\n",
      "SeriesUID for current file: 1.3.6.1.4.1.14519.5.2.1.6279.6001.622243923620914676263059698181\n",
      "Found 719 nodes for seriesuid: 1.3.6.1.4.1.14519.5.2.1.6279.6001.622243923620914676263059698181\n"
     ]
    },
    {
     "name": "stderr",
     "output_type": "stream",
     "text": [
      "\r",
      " 80%|████████████████████████████████▉        | 713/888 [04:01<00:28,  6.18it/s]"
     ]
    },
    {
     "name": "stdout",
     "output_type": "stream",
     "text": [
      "Image array shape: (269, 512, 512)\n",
      "Output path for .npy file: LUNA16/Luna Output/subset8/1.3.6.1.4.1.14519.5.2.1.6279.6001.622243923620914676263059698181.npy\n",
      "Error saving .npy file for LUNA16/Dataset/subset8/1.3.6.1.4.1.14519.5.2.1.6279.6001.622243923620914676263059698181.mhd: 70516736 requested and 0 written\n",
      "\n",
      "Processing file: LUNA16/Dataset/subset8/1.3.6.1.4.1.14519.5.2.1.6279.6001.271220641987745483198036913951.mhd\n",
      "SeriesUID for current file: 1.3.6.1.4.1.14519.5.2.1.6279.6001.271220641987745483198036913951\n",
      "Found 1143 nodes for seriesuid: 1.3.6.1.4.1.14519.5.2.1.6279.6001.271220641987745483198036913951\n"
     ]
    },
    {
     "name": "stderr",
     "output_type": "stream",
     "text": [
      "\r",
      " 80%|████████████████████████████████▉        | 714/888 [04:01<00:37,  4.68it/s]"
     ]
    },
    {
     "name": "stdout",
     "output_type": "stream",
     "text": [
      "Image array shape: (503, 512, 512)\n",
      "Output path for .npy file: LUNA16/Luna Output/subset8/1.3.6.1.4.1.14519.5.2.1.6279.6001.271220641987745483198036913951.npy\n",
      "Error saving .npy file for LUNA16/Dataset/subset8/1.3.6.1.4.1.14519.5.2.1.6279.6001.271220641987745483198036913951.mhd: 131858432 requested and 0 written\n",
      "\n",
      "Processing file: LUNA16/Dataset/subset8/1.3.6.1.4.1.14519.5.2.1.6279.6001.297964221542942838344351735414.mhd\n",
      "SeriesUID for current file: 1.3.6.1.4.1.14519.5.2.1.6279.6001.297964221542942838344351735414\n",
      "Found 1250 nodes for seriesuid: 1.3.6.1.4.1.14519.5.2.1.6279.6001.297964221542942838344351735414\n",
      "Image array shape: (281, 512, 512)\n",
      "Output path for .npy file: LUNA16/Luna Output/subset8/1.3.6.1.4.1.14519.5.2.1.6279.6001.297964221542942838344351735414.npy\n"
     ]
    },
    {
     "name": "stderr",
     "output_type": "stream",
     "text": [
      " 81%|█████████████████████████████████        | 717/888 [04:02<00:27,  6.25it/s]"
     ]
    },
    {
     "name": "stdout",
     "output_type": "stream",
     "text": [
      "Error saving .npy file for LUNA16/Dataset/subset8/1.3.6.1.4.1.14519.5.2.1.6279.6001.297964221542942838344351735414.mhd: 73662464 requested and 0 written\n",
      "\n",
      "Processing file: LUNA16/Dataset/subset8/1.3.6.1.4.1.14519.5.2.1.6279.6001.153181766344026020914478182395.mhd\n",
      "SeriesUID for current file: 1.3.6.1.4.1.14519.5.2.1.6279.6001.153181766344026020914478182395\n",
      "Found 370 nodes for seriesuid: 1.3.6.1.4.1.14519.5.2.1.6279.6001.153181766344026020914478182395\n",
      "Image array shape: (129, 512, 512)\n",
      "Output path for .npy file: LUNA16/Luna Output/subset8/1.3.6.1.4.1.14519.5.2.1.6279.6001.153181766344026020914478182395.npy\n",
      "Error saving .npy file for LUNA16/Dataset/subset8/1.3.6.1.4.1.14519.5.2.1.6279.6001.153181766344026020914478182395.mhd: 33816576 requested and 0 written\n",
      "\n",
      "Processing file: LUNA16/Dataset/subset8/1.3.6.1.4.1.14519.5.2.1.6279.6001.814122498113547115932318256859.mhd\n",
      "SeriesUID for current file: 1.3.6.1.4.1.14519.5.2.1.6279.6001.814122498113547115932318256859\n",
      "Found 686 nodes for seriesuid: 1.3.6.1.4.1.14519.5.2.1.6279.6001.814122498113547115932318256859\n",
      "Image array shape: (132, 512, 512)\n",
      "Output path for .npy file: LUNA16/Luna Output/subset8/1.3.6.1.4.1.14519.5.2.1.6279.6001.814122498113547115932318256859.npy\n",
      "Error saving .npy file for LUNA16/Dataset/subset8/1.3.6.1.4.1.14519.5.2.1.6279.6001.814122498113547115932318256859.mhd: 34603008 requested and 0 written\n",
      "\n",
      "Processing file: LUNA16/Dataset/subset8/1.3.6.1.4.1.14519.5.2.1.6279.6001.239358021703233250639913775427.mhd\n",
      "SeriesUID for current file: 1.3.6.1.4.1.14519.5.2.1.6279.6001.239358021703233250639913775427\n",
      "Found 931 nodes for seriesuid: 1.3.6.1.4.1.14519.5.2.1.6279.6001.239358021703233250639913775427\n",
      "Image array shape: (133, 512, 512)\n",
      "Output path for .npy file: LUNA16/Luna Output/subset8/1.3.6.1.4.1.14519.5.2.1.6279.6001.239358021703233250639913775427.npy\n",
      "Error saving .npy file for LUNA16/Dataset/subset8/1.3.6.1.4.1.14519.5.2.1.6279.6001.239358021703233250639913775427.mhd: 34865152 requested and 0 written\n",
      "\n",
      "Processing file: LUNA16/Dataset/subset8/1.3.6.1.4.1.14519.5.2.1.6279.6001.297988578825170426663869669862.mhd\n",
      "SeriesUID for current file: 1.3.6.1.4.1.14519.5.2.1.6279.6001.297988578825170426663869669862\n",
      "Found 687 nodes for seriesuid: 1.3.6.1.4.1.14519.5.2.1.6279.6001.297988578825170426663869669862\n",
      "Image array shape: (247, 512, 512)\n",
      "Output path for .npy file: LUNA16/Luna Output/subset8/1.3.6.1.4.1.14519.5.2.1.6279.6001.297988578825170426663869669862.npy\n"
     ]
    },
    {
     "name": "stderr",
     "output_type": "stream",
     "text": [
      " 81%|█████████████████████████████████▏       | 720/888 [04:02<00:23,  7.14it/s]"
     ]
    },
    {
     "name": "stdout",
     "output_type": "stream",
     "text": [
      "Error saving .npy file for LUNA16/Dataset/subset8/1.3.6.1.4.1.14519.5.2.1.6279.6001.297988578825170426663869669862.mhd: 64749568 requested and 0 written\n",
      "\n",
      "Processing file: LUNA16/Dataset/subset8/1.3.6.1.4.1.14519.5.2.1.6279.6001.939216568327879462530496768794.mhd\n",
      "SeriesUID for current file: 1.3.6.1.4.1.14519.5.2.1.6279.6001.939216568327879462530496768794\n",
      "Found 717 nodes for seriesuid: 1.3.6.1.4.1.14519.5.2.1.6279.6001.939216568327879462530496768794\n",
      "Image array shape: (143, 512, 512)\n",
      "Output path for .npy file: LUNA16/Luna Output/subset8/1.3.6.1.4.1.14519.5.2.1.6279.6001.939216568327879462530496768794.npy\n",
      "Error saving .npy file for LUNA16/Dataset/subset8/1.3.6.1.4.1.14519.5.2.1.6279.6001.939216568327879462530496768794.mhd: 37486592 requested and 0 written\n",
      "\n",
      "Processing file: LUNA16/Dataset/subset8/1.3.6.1.4.1.14519.5.2.1.6279.6001.204287915902811325371247860532.mhd\n",
      "SeriesUID for current file: 1.3.6.1.4.1.14519.5.2.1.6279.6001.204287915902811325371247860532\n",
      "Found 1037 nodes for seriesuid: 1.3.6.1.4.1.14519.5.2.1.6279.6001.204287915902811325371247860532\n"
     ]
    },
    {
     "name": "stderr",
     "output_type": "stream",
     "text": [
      " 81%|█████████████████████████████████▎       | 722/888 [04:02<00:23,  7.06it/s]"
     ]
    },
    {
     "name": "stdout",
     "output_type": "stream",
     "text": [
      "Image array shape: (218, 512, 512)\n",
      "Output path for .npy file: LUNA16/Luna Output/subset8/1.3.6.1.4.1.14519.5.2.1.6279.6001.204287915902811325371247860532.npy\n",
      "Error saving .npy file for LUNA16/Dataset/subset8/1.3.6.1.4.1.14519.5.2.1.6279.6001.204287915902811325371247860532.mhd: 57147392 requested and 0 written\n",
      "\n",
      "Processing file: LUNA16/Dataset/subset8/1.3.6.1.4.1.14519.5.2.1.6279.6001.897161587681142256575045076919.mhd\n",
      "SeriesUID for current file: 1.3.6.1.4.1.14519.5.2.1.6279.6001.897161587681142256575045076919\n",
      "Found 493 nodes for seriesuid: 1.3.6.1.4.1.14519.5.2.1.6279.6001.897161587681142256575045076919\n",
      "Image array shape: (126, 512, 512)\n",
      "Output path for .npy file: LUNA16/Luna Output/subset8/1.3.6.1.4.1.14519.5.2.1.6279.6001.897161587681142256575045076919.npy\n",
      "Error saving .npy file for LUNA16/Dataset/subset8/1.3.6.1.4.1.14519.5.2.1.6279.6001.897161587681142256575045076919.mhd: 33030144 requested and 0 written\n",
      "\n",
      "Processing file: LUNA16/Dataset/subset8/1.3.6.1.4.1.14519.5.2.1.6279.6001.161633200801003804714818844696.mhd\n",
      "SeriesUID for current file: 1.3.6.1.4.1.14519.5.2.1.6279.6001.161633200801003804714818844696\n",
      "Found 313 nodes for seriesuid: 1.3.6.1.4.1.14519.5.2.1.6279.6001.161633200801003804714818844696\n"
     ]
    },
    {
     "name": "stderr",
     "output_type": "stream",
     "text": [
      " 82%|█████████████████████████████████▍       | 725/888 [04:03<00:17,  9.10it/s]"
     ]
    },
    {
     "name": "stdout",
     "output_type": "stream",
     "text": [
      "Image array shape: (223, 512, 512)\n",
      "Output path for .npy file: LUNA16/Luna Output/subset8/1.3.6.1.4.1.14519.5.2.1.6279.6001.161633200801003804714818844696.npy\n",
      "Error saving .npy file for LUNA16/Dataset/subset8/1.3.6.1.4.1.14519.5.2.1.6279.6001.161633200801003804714818844696.mhd: 58458112 requested and 0 written\n",
      "\n",
      "Processing file: LUNA16/Dataset/subset8/1.3.6.1.4.1.14519.5.2.1.6279.6001.701514276942509393419164159551.mhd\n",
      "SeriesUID for current file: 1.3.6.1.4.1.14519.5.2.1.6279.6001.701514276942509393419164159551\n",
      "Found 996 nodes for seriesuid: 1.3.6.1.4.1.14519.5.2.1.6279.6001.701514276942509393419164159551\n",
      "Image array shape: (126, 512, 512)\n",
      "Output path for .npy file: LUNA16/Luna Output/subset8/1.3.6.1.4.1.14519.5.2.1.6279.6001.701514276942509393419164159551.npy\n",
      "Error saving .npy file for LUNA16/Dataset/subset8/1.3.6.1.4.1.14519.5.2.1.6279.6001.701514276942509393419164159551.mhd: 33030144 requested and 0 written\n",
      "\n",
      "Processing file: LUNA16/Dataset/subset8/1.3.6.1.4.1.14519.5.2.1.6279.6001.882070241245008756731854510592.mhd\n",
      "SeriesUID for current file: 1.3.6.1.4.1.14519.5.2.1.6279.6001.882070241245008756731854510592\n",
      "Found 742 nodes for seriesuid: 1.3.6.1.4.1.14519.5.2.1.6279.6001.882070241245008756731854510592\n",
      "Image array shape: (127, 512, 512)\n",
      "Output path for .npy file: LUNA16/Luna Output/subset8/1.3.6.1.4.1.14519.5.2.1.6279.6001.882070241245008756731854510592.npy\n",
      "Error saving .npy file for LUNA16/Dataset/subset8/1.3.6.1.4.1.14519.5.2.1.6279.6001.882070241245008756731854510592.mhd: 33292288 requested and 0 written\n",
      "\n",
      "Processing file: LUNA16/Dataset/subset8/1.3.6.1.4.1.14519.5.2.1.6279.6001.177086402277715068525592995222.mhd\n",
      "SeriesUID for current file: 1.3.6.1.4.1.14519.5.2.1.6279.6001.177086402277715068525592995222\n",
      "Found 680 nodes for seriesuid: 1.3.6.1.4.1.14519.5.2.1.6279.6001.177086402277715068525592995222\n"
     ]
    },
    {
     "name": "stderr",
     "output_type": "stream",
     "text": [
      "\r",
      " 82%|█████████████████████████████████▌       | 726/888 [04:03<00:23,  6.99it/s]"
     ]
    },
    {
     "name": "stdout",
     "output_type": "stream",
     "text": [
      "Image array shape: (257, 512, 512)\n",
      "Output path for .npy file: LUNA16/Luna Output/subset8/1.3.6.1.4.1.14519.5.2.1.6279.6001.177086402277715068525592995222.npy\n",
      "Error saving .npy file for LUNA16/Dataset/subset8/1.3.6.1.4.1.14519.5.2.1.6279.6001.177086402277715068525592995222.mhd: 67371008 requested and 0 written\n",
      "\n",
      "Processing file: LUNA16/Dataset/subset8/1.3.6.1.4.1.14519.5.2.1.6279.6001.608029415915051219877530734559.mhd\n",
      "SeriesUID for current file: 1.3.6.1.4.1.14519.5.2.1.6279.6001.608029415915051219877530734559\n",
      "Found 185 nodes for seriesuid: 1.3.6.1.4.1.14519.5.2.1.6279.6001.608029415915051219877530734559\n",
      "Image array shape: (278, 512, 512)\n",
      "Output path for .npy file: LUNA16/Luna Output/subset8/1.3.6.1.4.1.14519.5.2.1.6279.6001.608029415915051219877530734559.npy\n"
     ]
    },
    {
     "name": "stderr",
     "output_type": "stream",
     "text": [
      " 82%|█████████████████████████████████▌       | 728/888 [04:03<00:25,  6.35it/s]"
     ]
    },
    {
     "name": "stdout",
     "output_type": "stream",
     "text": [
      "Error saving .npy file for LUNA16/Dataset/subset8/1.3.6.1.4.1.14519.5.2.1.6279.6001.608029415915051219877530734559.mhd: 72876032 requested and 0 written\n",
      "\n",
      "Processing file: LUNA16/Dataset/subset8/1.3.6.1.4.1.14519.5.2.1.6279.6001.931383239747372227838946053237.mhd\n",
      "SeriesUID for current file: 1.3.6.1.4.1.14519.5.2.1.6279.6001.931383239747372227838946053237\n",
      "Found 1209 nodes for seriesuid: 1.3.6.1.4.1.14519.5.2.1.6279.6001.931383239747372227838946053237\n",
      "Image array shape: (194, 512, 512)\n",
      "Output path for .npy file: LUNA16/Luna Output/subset8/1.3.6.1.4.1.14519.5.2.1.6279.6001.931383239747372227838946053237.npy\n",
      "Error saving .npy file for LUNA16/Dataset/subset8/1.3.6.1.4.1.14519.5.2.1.6279.6001.931383239747372227838946053237.mhd: 50855936 requested and 0 written\n",
      "\n",
      "Processing file: LUNA16/Dataset/subset8/1.3.6.1.4.1.14519.5.2.1.6279.6001.213854687290736562463866711534.mhd\n",
      "SeriesUID for current file: 1.3.6.1.4.1.14519.5.2.1.6279.6001.213854687290736562463866711534\n",
      "Found 1356 nodes for seriesuid: 1.3.6.1.4.1.14519.5.2.1.6279.6001.213854687290736562463866711534\n"
     ]
    },
    {
     "name": "stderr",
     "output_type": "stream",
     "text": [
      "\r",
      " 82%|█████████████████████████████████▋       | 729/888 [04:04<00:36,  4.30it/s]"
     ]
    },
    {
     "name": "stdout",
     "output_type": "stream",
     "text": [
      "Image array shape: (535, 512, 512)\n",
      "Output path for .npy file: LUNA16/Luna Output/subset8/1.3.6.1.4.1.14519.5.2.1.6279.6001.213854687290736562463866711534.npy\n",
      "Error saving .npy file for LUNA16/Dataset/subset8/1.3.6.1.4.1.14519.5.2.1.6279.6001.213854687290736562463866711534.mhd: 140247040 requested and 0 written\n",
      "\n",
      "Processing file: LUNA16/Dataset/subset8/1.3.6.1.4.1.14519.5.2.1.6279.6001.175318131822744218104175746898.mhd\n",
      "SeriesUID for current file: 1.3.6.1.4.1.14519.5.2.1.6279.6001.175318131822744218104175746898\n",
      "Found 959 nodes for seriesuid: 1.3.6.1.4.1.14519.5.2.1.6279.6001.175318131822744218104175746898\n"
     ]
    },
    {
     "name": "stderr",
     "output_type": "stream",
     "text": [
      " 82%|█████████████████████████████████▊       | 731/888 [04:04<00:32,  4.80it/s]"
     ]
    },
    {
     "name": "stdout",
     "output_type": "stream",
     "text": [
      "Image array shape: (348, 512, 512)\n",
      "Output path for .npy file: LUNA16/Luna Output/subset8/1.3.6.1.4.1.14519.5.2.1.6279.6001.175318131822744218104175746898.npy\n",
      "Error saving .npy file for LUNA16/Dataset/subset8/1.3.6.1.4.1.14519.5.2.1.6279.6001.175318131822744218104175746898.mhd: 91226112 requested and 0 written\n",
      "\n",
      "Processing file: LUNA16/Dataset/subset8/1.3.6.1.4.1.14519.5.2.1.6279.6001.373433682859788429397781158572.mhd\n",
      "SeriesUID for current file: 1.3.6.1.4.1.14519.5.2.1.6279.6001.373433682859788429397781158572\n",
      "Found 637 nodes for seriesuid: 1.3.6.1.4.1.14519.5.2.1.6279.6001.373433682859788429397781158572\n",
      "Image array shape: (132, 512, 512)\n",
      "Output path for .npy file: LUNA16/Luna Output/subset8/1.3.6.1.4.1.14519.5.2.1.6279.6001.373433682859788429397781158572.npy\n",
      "Error saving .npy file for LUNA16/Dataset/subset8/1.3.6.1.4.1.14519.5.2.1.6279.6001.373433682859788429397781158572.mhd: 34603008 requested and 0 written\n",
      "\n",
      "Processing file: LUNA16/Dataset/subset8/1.3.6.1.4.1.14519.5.2.1.6279.6001.161821150841552408667852639317.mhd\n",
      "SeriesUID for current file: 1.3.6.1.4.1.14519.5.2.1.6279.6001.161821150841552408667852639317\n",
      "Found 575 nodes for seriesuid: 1.3.6.1.4.1.14519.5.2.1.6279.6001.161821150841552408667852639317\n"
     ]
    },
    {
     "name": "stderr",
     "output_type": "stream",
     "text": [
      "\r",
      " 83%|█████████████████████████████████▊       | 733/888 [04:04<00:27,  5.60it/s]"
     ]
    },
    {
     "name": "stdout",
     "output_type": "stream",
     "text": [
      "Image array shape: (132, 512, 512)\n",
      "Output path for .npy file: LUNA16/Luna Output/subset8/1.3.6.1.4.1.14519.5.2.1.6279.6001.161821150841552408667852639317.npy\n",
      "Error saving .npy file for LUNA16/Dataset/subset8/1.3.6.1.4.1.14519.5.2.1.6279.6001.161821150841552408667852639317.mhd: 34603008 requested and 0 written\n",
      "\n",
      "Processing file: LUNA16/Dataset/subset8/1.3.6.1.4.1.14519.5.2.1.6279.6001.206097113343059612247503064658.mhd\n",
      "SeriesUID for current file: 1.3.6.1.4.1.14519.5.2.1.6279.6001.206097113343059612247503064658\n",
      "Found 1100 nodes for seriesuid: 1.3.6.1.4.1.14519.5.2.1.6279.6001.206097113343059612247503064658\n",
      "Image array shape: (337, 512, 512)\n",
      "Output path for .npy file: LUNA16/Luna Output/subset8/1.3.6.1.4.1.14519.5.2.1.6279.6001.206097113343059612247503064658.npy\n",
      "Error saving .npy file for LUNA16/Dataset/subset8/1.3.6.1.4.1.14519.5.2.1.6279.6001.206097113343059612247503064658.mhd: 88342528 requested and 0 written\n",
      "\n",
      "Processing file: LUNA16/Dataset/subset8/1.3.6.1.4.1.14519.5.2.1.6279.6001.246178337114401749164850220976.mhd\n",
      "SeriesUID for current file: 1.3.6.1.4.1.14519.5.2.1.6279.6001.246178337114401749164850220976\n"
     ]
    },
    {
     "name": "stderr",
     "output_type": "stream",
     "text": [
      "\r",
      " 83%|█████████████████████████████████▉       | 734/888 [04:05<00:25,  5.93it/s]"
     ]
    },
    {
     "name": "stdout",
     "output_type": "stream",
     "text": [
      "Found 454 nodes for seriesuid: 1.3.6.1.4.1.14519.5.2.1.6279.6001.246178337114401749164850220976\n",
      "Image array shape: (139, 512, 512)\n",
      "Output path for .npy file: LUNA16/Luna Output/subset8/1.3.6.1.4.1.14519.5.2.1.6279.6001.246178337114401749164850220976.npy\n",
      "Error saving .npy file for LUNA16/Dataset/subset8/1.3.6.1.4.1.14519.5.2.1.6279.6001.246178337114401749164850220976.mhd: 36438016 requested and 0 written\n",
      "\n",
      "Processing file: LUNA16/Dataset/subset8/1.3.6.1.4.1.14519.5.2.1.6279.6001.272123398257168239653655006815.mhd\n",
      "SeriesUID for current file: 1.3.6.1.4.1.14519.5.2.1.6279.6001.272123398257168239653655006815\n",
      "Found 835 nodes for seriesuid: 1.3.6.1.4.1.14519.5.2.1.6279.6001.272123398257168239653655006815\n",
      "Image array shape: (133, 512, 512)\n",
      "Output path for .npy file: LUNA16/Luna Output/subset8/1.3.6.1.4.1.14519.5.2.1.6279.6001.272123398257168239653655006815.npy\n",
      "Error saving .npy file for LUNA16/Dataset/subset8/1.3.6.1.4.1.14519.5.2.1.6279.6001.272123398257168239653655006815.mhd: 34865152 requested and 0 written\n",
      "\n",
      "Processing file: LUNA16/Dataset/subset8/1.3.6.1.4.1.14519.5.2.1.6279.6001.888615810685807330497715730842.mhd\n",
      "SeriesUID for current file: 1.3.6.1.4.1.14519.5.2.1.6279.6001.888615810685807330497715730842\n"
     ]
    },
    {
     "name": "stderr",
     "output_type": "stream",
     "text": [
      "\r",
      " 83%|█████████████████████████████████▉       | 736/888 [04:05<00:23,  6.54it/s]"
     ]
    },
    {
     "name": "stdout",
     "output_type": "stream",
     "text": [
      "Found 355 nodes for seriesuid: 1.3.6.1.4.1.14519.5.2.1.6279.6001.888615810685807330497715730842\n",
      "Image array shape: (272, 512, 512)\n",
      "Output path for .npy file: LUNA16/Luna Output/subset8/1.3.6.1.4.1.14519.5.2.1.6279.6001.888615810685807330497715730842.npy\n",
      "Error saving .npy file for LUNA16/Dataset/subset8/1.3.6.1.4.1.14519.5.2.1.6279.6001.888615810685807330497715730842.mhd: 71303168 requested and 0 written\n",
      "\n",
      "Processing file: LUNA16/Dataset/subset8/1.3.6.1.4.1.14519.5.2.1.6279.6001.292049618819567427252971059233.mhd\n",
      "SeriesUID for current file: 1.3.6.1.4.1.14519.5.2.1.6279.6001.292049618819567427252971059233\n",
      "Found 745 nodes for seriesuid: 1.3.6.1.4.1.14519.5.2.1.6279.6001.292049618819567427252971059233\n"
     ]
    },
    {
     "name": "stderr",
     "output_type": "stream",
     "text": [
      "\r",
      " 83%|██████████████████████████████████       | 738/888 [04:05<00:19,  7.89it/s]"
     ]
    },
    {
     "name": "stdout",
     "output_type": "stream",
     "text": [
      "Image array shape: (152, 512, 512)\n",
      "Output path for .npy file: LUNA16/Luna Output/subset8/1.3.6.1.4.1.14519.5.2.1.6279.6001.292049618819567427252971059233.npy\n",
      "Error saving .npy file for LUNA16/Dataset/subset8/1.3.6.1.4.1.14519.5.2.1.6279.6001.292049618819567427252971059233.mhd: 39845888 requested and 0 written\n",
      "\n",
      "Processing file: LUNA16/Dataset/subset8/1.3.6.1.4.1.14519.5.2.1.6279.6001.306520140119968755187868602181.mhd\n",
      "SeriesUID for current file: 1.3.6.1.4.1.14519.5.2.1.6279.6001.306520140119968755187868602181\n",
      "Found 710 nodes for seriesuid: 1.3.6.1.4.1.14519.5.2.1.6279.6001.306520140119968755187868602181\n",
      "Image array shape: (112, 512, 512)\n",
      "Output path for .npy file: LUNA16/Luna Output/subset8/1.3.6.1.4.1.14519.5.2.1.6279.6001.306520140119968755187868602181.npy\n",
      "Error saving .npy file for LUNA16/Dataset/subset8/1.3.6.1.4.1.14519.5.2.1.6279.6001.306520140119968755187868602181.mhd: 29360128 requested and 0 written\n",
      "\n",
      "Processing file: LUNA16/Dataset/subset8/1.3.6.1.4.1.14519.5.2.1.6279.6001.219254430927834326484477690403.mhd\n",
      "SeriesUID for current file: 1.3.6.1.4.1.14519.5.2.1.6279.6001.219254430927834326484477690403\n",
      "Found 789 nodes for seriesuid: 1.3.6.1.4.1.14519.5.2.1.6279.6001.219254430927834326484477690403\n",
      "Image array shape: (187, 512, 512)\n",
      "Output path for .npy file: LUNA16/Luna Output/subset8/1.3.6.1.4.1.14519.5.2.1.6279.6001.219254430927834326484477690403.npy\n",
      "Error saving .npy file for LUNA16/Dataset/subset8/1.3.6.1.4.1.14519.5.2.1.6279.6001.219254430927834326484477690403.mhd: 49020928 requested and 0 written\n",
      "\n",
      "Processing file: LUNA16/Dataset/subset8/1.3.6.1.4.1.14519.5.2.1.6279.6001.188059920088313909273628445208.mhd\n",
      "SeriesUID for current file: 1.3.6.1.4.1.14519.5.2.1.6279.6001.188059920088313909273628445208\n",
      "Found 995 nodes for seriesuid: 1.3.6.1.4.1.14519.5.2.1.6279.6001.188059920088313909273628445208\n"
     ]
    },
    {
     "name": "stderr",
     "output_type": "stream",
     "text": [
      "\r",
      " 83%|██████████████████████████████████▏      | 740/888 [04:05<00:16,  9.10it/s]"
     ]
    },
    {
     "name": "stdout",
     "output_type": "stream",
     "text": [
      "Image array shape: (136, 512, 512)\n",
      "Output path for .npy file: LUNA16/Luna Output/subset8/1.3.6.1.4.1.14519.5.2.1.6279.6001.188059920088313909273628445208.npy\n",
      "Error saving .npy file for LUNA16/Dataset/subset8/1.3.6.1.4.1.14519.5.2.1.6279.6001.188059920088313909273628445208.mhd: 35651584 requested and 0 written\n",
      "\n",
      "Processing file: LUNA16/Dataset/subset8/1.3.6.1.4.1.14519.5.2.1.6279.6001.200513183558872708878454294671.mhd\n",
      "SeriesUID for current file: 1.3.6.1.4.1.14519.5.2.1.6279.6001.200513183558872708878454294671\n",
      "Found 1079 nodes for seriesuid: 1.3.6.1.4.1.14519.5.2.1.6279.6001.200513183558872708878454294671\n",
      "Image array shape: (137, 512, 512)\n",
      "Output path for .npy file: LUNA16/Luna Output/subset8/1.3.6.1.4.1.14519.5.2.1.6279.6001.200513183558872708878454294671.npy\n",
      "Error saving .npy file for LUNA16/Dataset/subset8/1.3.6.1.4.1.14519.5.2.1.6279.6001.200513183558872708878454294671.mhd: 35913728 requested and 0 written\n",
      "\n",
      "Processing file: LUNA16/Dataset/subset8/1.3.6.1.4.1.14519.5.2.1.6279.6001.997611074084993415992563148335.mhd\n",
      "SeriesUID for current file: 1.3.6.1.4.1.14519.5.2.1.6279.6001.997611074084993415992563148335\n",
      "Found 978 nodes for seriesuid: 1.3.6.1.4.1.14519.5.2.1.6279.6001.997611074084993415992563148335\n"
     ]
    },
    {
     "name": "stderr",
     "output_type": "stream",
     "text": [
      "\r",
      " 84%|██████████████████████████████████▎      | 742/888 [04:05<00:19,  7.64it/s]"
     ]
    },
    {
     "name": "stdout",
     "output_type": "stream",
     "text": [
      "Image array shape: (285, 512, 512)\n",
      "Output path for .npy file: LUNA16/Luna Output/subset8/1.3.6.1.4.1.14519.5.2.1.6279.6001.997611074084993415992563148335.npy\n",
      "Error saving .npy file for LUNA16/Dataset/subset8/1.3.6.1.4.1.14519.5.2.1.6279.6001.997611074084993415992563148335.mhd: 74711040 requested and 0 written\n",
      "\n",
      "Processing file: LUNA16/Dataset/subset8/1.3.6.1.4.1.14519.5.2.1.6279.6001.131939324905446238286154504249.mhd\n",
      "SeriesUID for current file: 1.3.6.1.4.1.14519.5.2.1.6279.6001.131939324905446238286154504249\n",
      "Found 968 nodes for seriesuid: 1.3.6.1.4.1.14519.5.2.1.6279.6001.131939324905446238286154504249\n",
      "Image array shape: (136, 512, 512)\n",
      "Output path for .npy file: LUNA16/Luna Output/subset8/1.3.6.1.4.1.14519.5.2.1.6279.6001.131939324905446238286154504249.npy\n",
      "Error saving .npy file for LUNA16/Dataset/subset8/1.3.6.1.4.1.14519.5.2.1.6279.6001.131939324905446238286154504249.mhd: 35651584 requested and 0 written\n",
      "\n",
      "Processing file: LUNA16/Dataset/subset8/1.3.6.1.4.1.14519.5.2.1.6279.6001.336102335330125765000317290445.mhd\n",
      "SeriesUID for current file: 1.3.6.1.4.1.14519.5.2.1.6279.6001.336102335330125765000317290445\n",
      "Found 533 nodes for seriesuid: 1.3.6.1.4.1.14519.5.2.1.6279.6001.336102335330125765000317290445\n"
     ]
    },
    {
     "name": "stderr",
     "output_type": "stream",
     "text": [
      "\r",
      " 84%|██████████████████████████████████▎      | 744/888 [04:06<00:19,  7.55it/s]"
     ]
    },
    {
     "name": "stdout",
     "output_type": "stream",
     "text": [
      "Image array shape: (255, 512, 512)\n",
      "Output path for .npy file: LUNA16/Luna Output/subset8/1.3.6.1.4.1.14519.5.2.1.6279.6001.336102335330125765000317290445.npy\n",
      "Error saving .npy file for LUNA16/Dataset/subset8/1.3.6.1.4.1.14519.5.2.1.6279.6001.336102335330125765000317290445.mhd: 66846720 requested and 0 written\n",
      "\n",
      "Processing file: LUNA16/Dataset/subset8/1.3.6.1.4.1.14519.5.2.1.6279.6001.259124675432205040899951626253.mhd\n",
      "SeriesUID for current file: 1.3.6.1.4.1.14519.5.2.1.6279.6001.259124675432205040899951626253\n",
      "Found 799 nodes for seriesuid: 1.3.6.1.4.1.14519.5.2.1.6279.6001.259124675432205040899951626253\n"
     ]
    },
    {
     "name": "stderr",
     "output_type": "stream",
     "text": [
      " 84%|██████████████████████████████████▍      | 746/888 [04:06<00:24,  5.75it/s]"
     ]
    },
    {
     "name": "stdout",
     "output_type": "stream",
     "text": [
      "Image array shape: (477, 512, 512)\n",
      "Output path for .npy file: LUNA16/Luna Output/subset8/1.3.6.1.4.1.14519.5.2.1.6279.6001.259124675432205040899951626253.npy\n",
      "Error saving .npy file for LUNA16/Dataset/subset8/1.3.6.1.4.1.14519.5.2.1.6279.6001.259124675432205040899951626253.mhd: 125042688 requested and 0 written\n",
      "\n",
      "Processing file: LUNA16/Dataset/subset8/1.3.6.1.4.1.14519.5.2.1.6279.6001.253317247142837717905329340520.mhd\n",
      "SeriesUID for current file: 1.3.6.1.4.1.14519.5.2.1.6279.6001.253317247142837717905329340520\n",
      "Found 607 nodes for seriesuid: 1.3.6.1.4.1.14519.5.2.1.6279.6001.253317247142837717905329340520\n",
      "Image array shape: (121, 512, 512)\n",
      "Output path for .npy file: LUNA16/Luna Output/subset8/1.3.6.1.4.1.14519.5.2.1.6279.6001.253317247142837717905329340520.npy\n",
      "Error saving .npy file for LUNA16/Dataset/subset8/1.3.6.1.4.1.14519.5.2.1.6279.6001.253317247142837717905329340520.mhd: 31719424 requested and 0 written\n",
      "\n",
      "Processing file: LUNA16/Dataset/subset8/1.3.6.1.4.1.14519.5.2.1.6279.6001.108193664222196923321844991231.mhd\n",
      "SeriesUID for current file: 1.3.6.1.4.1.14519.5.2.1.6279.6001.108193664222196923321844991231\n",
      "Found 703 nodes for seriesuid: 1.3.6.1.4.1.14519.5.2.1.6279.6001.108193664222196923321844991231\n",
      "Image array shape: (121, 512, 512)\n",
      "Output path for .npy file: LUNA16/Luna Output/subset8/1.3.6.1.4.1.14519.5.2.1.6279.6001.108193664222196923321844991231.npy\n",
      "Error saving .npy file for LUNA16/Dataset/subset8/1.3.6.1.4.1.14519.5.2.1.6279.6001.108193664222196923321844991231.mhd: 31719424 requested and 0 written\n",
      "\n",
      "Processing file: LUNA16/Dataset/subset8/1.3.6.1.4.1.14519.5.2.1.6279.6001.198016798894102791158686961192.mhd\n",
      "SeriesUID for current file: 1.3.6.1.4.1.14519.5.2.1.6279.6001.198016798894102791158686961192\n",
      "Found 925 nodes for seriesuid: 1.3.6.1.4.1.14519.5.2.1.6279.6001.198016798894102791158686961192\n"
     ]
    },
    {
     "name": "stderr",
     "output_type": "stream",
     "text": [
      " 84%|██████████████████████████████████▌      | 749/888 [04:07<00:21,  6.40it/s]"
     ]
    },
    {
     "name": "stdout",
     "output_type": "stream",
     "text": [
      "Image array shape: (419, 512, 512)\n",
      "Output path for .npy file: LUNA16/Luna Output/subset8/1.3.6.1.4.1.14519.5.2.1.6279.6001.198016798894102791158686961192.npy\n",
      "Error saving .npy file for LUNA16/Dataset/subset8/1.3.6.1.4.1.14519.5.2.1.6279.6001.198016798894102791158686961192.mhd: 109838336 requested and 0 written\n",
      "\n",
      "Processing file: LUNA16/Dataset/subset8/1.3.6.1.4.1.14519.5.2.1.6279.6001.172243743899615313644757844726.mhd\n",
      "SeriesUID for current file: 1.3.6.1.4.1.14519.5.2.1.6279.6001.172243743899615313644757844726\n",
      "Found 1034 nodes for seriesuid: 1.3.6.1.4.1.14519.5.2.1.6279.6001.172243743899615313644757844726\n",
      "Image array shape: (126, 512, 512)\n",
      "Output path for .npy file: LUNA16/Luna Output/subset8/1.3.6.1.4.1.14519.5.2.1.6279.6001.172243743899615313644757844726.npy\n",
      "Error saving .npy file for LUNA16/Dataset/subset8/1.3.6.1.4.1.14519.5.2.1.6279.6001.172243743899615313644757844726.mhd: 33030144 requested and 0 written\n",
      "\n",
      "Processing file: LUNA16/Dataset/subset8/1.3.6.1.4.1.14519.5.2.1.6279.6001.288701997968615460794642979503.mhd\n",
      "SeriesUID for current file: 1.3.6.1.4.1.14519.5.2.1.6279.6001.288701997968615460794642979503\n",
      "Found 1610 nodes for seriesuid: 1.3.6.1.4.1.14519.5.2.1.6279.6001.288701997968615460794642979503\n"
     ]
    },
    {
     "name": "stderr",
     "output_type": "stream",
     "text": [
      "\r",
      " 84%|██████████████████████████████████▋      | 750/888 [04:07<00:19,  6.90it/s]"
     ]
    },
    {
     "name": "stdout",
     "output_type": "stream",
     "text": [
      "Image array shape: (166, 512, 512)\n",
      "Output path for .npy file: LUNA16/Luna Output/subset8/1.3.6.1.4.1.14519.5.2.1.6279.6001.288701997968615460794642979503.npy\n",
      "Error saving .npy file for LUNA16/Dataset/subset8/1.3.6.1.4.1.14519.5.2.1.6279.6001.288701997968615460794642979503.mhd: 43515904 requested and 0 written\n",
      "\n",
      "Processing file: LUNA16/Dataset/subset8/1.3.6.1.4.1.14519.5.2.1.6279.6001.257515388956260258681136624817.mhd\n",
      "SeriesUID for current file: 1.3.6.1.4.1.14519.5.2.1.6279.6001.257515388956260258681136624817\n",
      "Found 828 nodes for seriesuid: 1.3.6.1.4.1.14519.5.2.1.6279.6001.257515388956260258681136624817\n"
     ]
    },
    {
     "name": "stderr",
     "output_type": "stream",
     "text": [
      "\r",
      " 85%|██████████████████████████████████▋      | 751/888 [04:07<00:22,  6.15it/s]"
     ]
    },
    {
     "name": "stdout",
     "output_type": "stream",
     "text": [
      "Image array shape: (324, 512, 512)\n",
      "Output path for .npy file: LUNA16/Luna Output/subset8/1.3.6.1.4.1.14519.5.2.1.6279.6001.257515388956260258681136624817.npy\n",
      "Error saving .npy file for LUNA16/Dataset/subset8/1.3.6.1.4.1.14519.5.2.1.6279.6001.257515388956260258681136624817.mhd: 84934656 requested and 0 written\n",
      "\n",
      "Processing file: LUNA16/Dataset/subset8/1.3.6.1.4.1.14519.5.2.1.6279.6001.286627485198831346082954437212.mhd\n",
      "SeriesUID for current file: 1.3.6.1.4.1.14519.5.2.1.6279.6001.286627485198831346082954437212\n",
      "Found 775 nodes for seriesuid: 1.3.6.1.4.1.14519.5.2.1.6279.6001.286627485198831346082954437212\n"
     ]
    },
    {
     "name": "stderr",
     "output_type": "stream",
     "text": [
      "\r",
      " 85%|██████████████████████████████████▋      | 752/888 [04:07<00:30,  4.47it/s]"
     ]
    },
    {
     "name": "stdout",
     "output_type": "stream",
     "text": [
      "Image array shape: (468, 512, 512)\n",
      "Output path for .npy file: LUNA16/Luna Output/subset8/1.3.6.1.4.1.14519.5.2.1.6279.6001.286627485198831346082954437212.npy\n",
      "Error saving .npy file for LUNA16/Dataset/subset8/1.3.6.1.4.1.14519.5.2.1.6279.6001.286627485198831346082954437212.mhd: 122683392 requested and 0 written\n",
      "\n",
      "Processing file: LUNA16/Dataset/subset8/1.3.6.1.4.1.14519.5.2.1.6279.6001.301462380687644451483231621986.mhd\n",
      "SeriesUID for current file: 1.3.6.1.4.1.14519.5.2.1.6279.6001.301462380687644451483231621986\n",
      "Found 753 nodes for seriesuid: 1.3.6.1.4.1.14519.5.2.1.6279.6001.301462380687644451483231621986\n"
     ]
    },
    {
     "name": "stderr",
     "output_type": "stream",
     "text": [
      " 85%|██████████████████████████████████▊      | 754/888 [04:08<00:27,  4.84it/s]"
     ]
    },
    {
     "name": "stdout",
     "output_type": "stream",
     "text": [
      "Image array shape: (318, 512, 512)\n",
      "Output path for .npy file: LUNA16/Luna Output/subset8/1.3.6.1.4.1.14519.5.2.1.6279.6001.301462380687644451483231621986.npy\n",
      "Error saving .npy file for LUNA16/Dataset/subset8/1.3.6.1.4.1.14519.5.2.1.6279.6001.301462380687644451483231621986.mhd: 83361792 requested and 0 written\n",
      "\n",
      "Processing file: LUNA16/Dataset/subset8/1.3.6.1.4.1.14519.5.2.1.6279.6001.299806338046301317870803017534.mhd\n",
      "SeriesUID for current file: 1.3.6.1.4.1.14519.5.2.1.6279.6001.299806338046301317870803017534\n",
      "Found 919 nodes for seriesuid: 1.3.6.1.4.1.14519.5.2.1.6279.6001.299806338046301317870803017534\n",
      "Image array shape: (232, 512, 512)\n",
      "Output path for .npy file: LUNA16/Luna Output/subset8/1.3.6.1.4.1.14519.5.2.1.6279.6001.299806338046301317870803017534.npy\n",
      "Error saving .npy file for LUNA16/Dataset/subset8/1.3.6.1.4.1.14519.5.2.1.6279.6001.299806338046301317870803017534.mhd: 60817408 requested and 0 written\n",
      "\n",
      "Processing file: LUNA16/Dataset/subset8/1.3.6.1.4.1.14519.5.2.1.6279.6001.487268565754493433372433148666.mhd\n",
      "SeriesUID for current file: 1.3.6.1.4.1.14519.5.2.1.6279.6001.487268565754493433372433148666\n"
     ]
    },
    {
     "name": "stderr",
     "output_type": "stream",
     "text": [
      "\r",
      " 85%|██████████████████████████████████▉      | 756/888 [04:08<00:19,  6.83it/s]"
     ]
    },
    {
     "name": "stdout",
     "output_type": "stream",
     "text": [
      "Found 953 nodes for seriesuid: 1.3.6.1.4.1.14519.5.2.1.6279.6001.487268565754493433372433148666\n",
      "Image array shape: (133, 512, 512)\n",
      "Output path for .npy file: LUNA16/Luna Output/subset8/1.3.6.1.4.1.14519.5.2.1.6279.6001.487268565754493433372433148666.npy\n",
      "Error saving .npy file for LUNA16/Dataset/subset8/1.3.6.1.4.1.14519.5.2.1.6279.6001.487268565754493433372433148666.mhd: 34865152 requested and 0 written\n",
      "\n",
      "Processing file: LUNA16/Dataset/subset8/1.3.6.1.4.1.14519.5.2.1.6279.6001.300136985030081433029390459071.mhd\n",
      "SeriesUID for current file: 1.3.6.1.4.1.14519.5.2.1.6279.6001.300136985030081433029390459071\n",
      "Found 978 nodes for seriesuid: 1.3.6.1.4.1.14519.5.2.1.6279.6001.300136985030081433029390459071\n",
      "Image array shape: (111, 512, 512)\n",
      "Output path for .npy file: LUNA16/Luna Output/subset8/1.3.6.1.4.1.14519.5.2.1.6279.6001.300136985030081433029390459071.npy\n",
      "Error saving .npy file for LUNA16/Dataset/subset8/1.3.6.1.4.1.14519.5.2.1.6279.6001.300136985030081433029390459071.mhd: 29097984 requested and 0 written\n",
      "\n",
      "Processing file: LUNA16/Dataset/subset8/1.3.6.1.4.1.14519.5.2.1.6279.6001.324649110927013926557500550446.mhd\n",
      "SeriesUID for current file: 1.3.6.1.4.1.14519.5.2.1.6279.6001.324649110927013926557500550446\n",
      "Found 459 nodes for seriesuid: 1.3.6.1.4.1.14519.5.2.1.6279.6001.324649110927013926557500550446\n"
     ]
    },
    {
     "name": "stderr",
     "output_type": "stream",
     "text": [
      " 85%|███████████████████████████████████      | 759/888 [04:08<00:16,  7.79it/s]"
     ]
    },
    {
     "name": "stdout",
     "output_type": "stream",
     "text": [
      "Image array shape: (276, 512, 512)\n",
      "Output path for .npy file: LUNA16/Luna Output/subset8/1.3.6.1.4.1.14519.5.2.1.6279.6001.324649110927013926557500550446.npy\n",
      "Error saving .npy file for LUNA16/Dataset/subset8/1.3.6.1.4.1.14519.5.2.1.6279.6001.324649110927013926557500550446.mhd: 72351744 requested and 0 written\n",
      "\n",
      "Processing file: LUNA16/Dataset/subset8/1.3.6.1.4.1.14519.5.2.1.6279.6001.257383535269991165447822992959.mhd\n",
      "SeriesUID for current file: 1.3.6.1.4.1.14519.5.2.1.6279.6001.257383535269991165447822992959\n",
      "Found 1048 nodes for seriesuid: 1.3.6.1.4.1.14519.5.2.1.6279.6001.257383535269991165447822992959\n",
      "Image array shape: (133, 512, 512)\n",
      "Output path for .npy file: LUNA16/Luna Output/subset8/1.3.6.1.4.1.14519.5.2.1.6279.6001.257383535269991165447822992959.npy\n",
      "Error saving .npy file for LUNA16/Dataset/subset8/1.3.6.1.4.1.14519.5.2.1.6279.6001.257383535269991165447822992959.mhd: 34865152 requested and 0 written\n",
      "\n",
      "Processing file: LUNA16/Dataset/subset8/1.3.6.1.4.1.14519.5.2.1.6279.6001.776800177074349870648765614630.mhd\n",
      "SeriesUID for current file: 1.3.6.1.4.1.14519.5.2.1.6279.6001.776800177074349870648765614630\n",
      "Found 781 nodes for seriesuid: 1.3.6.1.4.1.14519.5.2.1.6279.6001.776800177074349870648765614630\n",
      "Image array shape: (130, 512, 512)\n",
      "Output path for .npy file: LUNA16/Luna Output/subset8/1.3.6.1.4.1.14519.5.2.1.6279.6001.776800177074349870648765614630.npy\n",
      "Error saving .npy file for LUNA16/Dataset/subset8/1.3.6.1.4.1.14519.5.2.1.6279.6001.776800177074349870648765614630.mhd: 34078720 requested and 0 written\n",
      "\n",
      "Processing file: LUNA16/Dataset/subset8/1.3.6.1.4.1.14519.5.2.1.6279.6001.302403227435841351528721627052.mhd\n",
      "SeriesUID for current file: 1.3.6.1.4.1.14519.5.2.1.6279.6001.302403227435841351528721627052\n"
     ]
    },
    {
     "name": "stderr",
     "output_type": "stream",
     "text": [
      "\r",
      " 86%|███████████████████████████████████      | 760/888 [04:08<00:18,  6.90it/s]"
     ]
    },
    {
     "name": "stdout",
     "output_type": "stream",
     "text": [
      "Found 797 nodes for seriesuid: 1.3.6.1.4.1.14519.5.2.1.6279.6001.302403227435841351528721627052\n",
      "Image array shape: (261, 512, 512)\n",
      "Output path for .npy file: LUNA16/Luna Output/subset8/1.3.6.1.4.1.14519.5.2.1.6279.6001.302403227435841351528721627052.npy\n",
      "Error saving .npy file for LUNA16/Dataset/subset8/1.3.6.1.4.1.14519.5.2.1.6279.6001.302403227435841351528721627052.mhd: 68419584 requested and 0 written\n",
      "\n",
      "Processing file: LUNA16/Dataset/subset8/1.3.6.1.4.1.14519.5.2.1.6279.6001.254957696184671649675053562027.mhd\n",
      "SeriesUID for current file: 1.3.6.1.4.1.14519.5.2.1.6279.6001.254957696184671649675053562027\n"
     ]
    },
    {
     "name": "stderr",
     "output_type": "stream",
     "text": [
      " 86%|███████████████████████████████████▏     | 762/888 [04:09<00:16,  7.50it/s]"
     ]
    },
    {
     "name": "stdout",
     "output_type": "stream",
     "text": [
      "Found 843 nodes for seriesuid: 1.3.6.1.4.1.14519.5.2.1.6279.6001.254957696184671649675053562027\n",
      "Image array shape: (201, 512, 512)\n",
      "Output path for .npy file: LUNA16/Luna Output/subset8/1.3.6.1.4.1.14519.5.2.1.6279.6001.254957696184671649675053562027.npy\n",
      "Error saving .npy file for LUNA16/Dataset/subset8/1.3.6.1.4.1.14519.5.2.1.6279.6001.254957696184671649675053562027.mhd: 52690944 requested and 0 written\n",
      "\n",
      "Processing file: LUNA16/Dataset/subset8/1.3.6.1.4.1.14519.5.2.1.6279.6001.262873069163227096134627700599.mhd\n",
      "SeriesUID for current file: 1.3.6.1.4.1.14519.5.2.1.6279.6001.262873069163227096134627700599\n",
      "Found 809 nodes for seriesuid: 1.3.6.1.4.1.14519.5.2.1.6279.6001.262873069163227096134627700599\n",
      "Image array shape: (238, 512, 512)\n",
      "Output path for .npy file: LUNA16/Luna Output/subset8/1.3.6.1.4.1.14519.5.2.1.6279.6001.262873069163227096134627700599.npy\n",
      "Error saving .npy file for LUNA16/Dataset/subset8/1.3.6.1.4.1.14519.5.2.1.6279.6001.262873069163227096134627700599.mhd: 62390272 requested and 0 written\n",
      "\n",
      "Processing file: LUNA16/Dataset/subset8/1.3.6.1.4.1.14519.5.2.1.6279.6001.478062284228419671253422844986.mhd\n",
      "SeriesUID for current file: 1.3.6.1.4.1.14519.5.2.1.6279.6001.478062284228419671253422844986\n"
     ]
    },
    {
     "name": "stderr",
     "output_type": "stream",
     "text": [
      "\r",
      " 86%|███████████████████████████████████▏     | 763/888 [04:09<00:15,  7.91it/s]"
     ]
    },
    {
     "name": "stdout",
     "output_type": "stream",
     "text": [
      "Found 868 nodes for seriesuid: 1.3.6.1.4.1.14519.5.2.1.6279.6001.478062284228419671253422844986\n",
      "Image array shape: (241, 512, 512)\n",
      "Output path for .npy file: LUNA16/Luna Output/subset8/1.3.6.1.4.1.14519.5.2.1.6279.6001.478062284228419671253422844986.npy\n",
      "Error saving .npy file for LUNA16/Dataset/subset8/1.3.6.1.4.1.14519.5.2.1.6279.6001.478062284228419671253422844986.mhd: 63176704 requested and 0 written\n",
      "\n",
      "Processing file: LUNA16/Dataset/subset8/1.3.6.1.4.1.14519.5.2.1.6279.6001.397522780537301776672854630421.mhd\n",
      "SeriesUID for current file: 1.3.6.1.4.1.14519.5.2.1.6279.6001.397522780537301776672854630421\n",
      "Found 875 nodes for seriesuid: 1.3.6.1.4.1.14519.5.2.1.6279.6001.397522780537301776672854630421\n"
     ]
    },
    {
     "name": "stderr",
     "output_type": "stream",
     "text": [
      "\r",
      " 86%|███████████████████████████████████▎     | 764/888 [04:09<00:27,  4.52it/s]"
     ]
    },
    {
     "name": "stdout",
     "output_type": "stream",
     "text": [
      "Image array shape: (580, 512, 512)\n",
      "Output path for .npy file: LUNA16/Luna Output/subset8/1.3.6.1.4.1.14519.5.2.1.6279.6001.397522780537301776672854630421.npy\n",
      "Error saving .npy file for LUNA16/Dataset/subset8/1.3.6.1.4.1.14519.5.2.1.6279.6001.397522780537301776672854630421.mhd: 152043520 requested and 0 written\n",
      "\n",
      "Processing file: LUNA16/Dataset/subset8/1.3.6.1.4.1.14519.5.2.1.6279.6001.283878926524838648426928238498.mhd\n",
      "SeriesUID for current file: 1.3.6.1.4.1.14519.5.2.1.6279.6001.283878926524838648426928238498\n",
      "Found 484 nodes for seriesuid: 1.3.6.1.4.1.14519.5.2.1.6279.6001.283878926524838648426928238498\n"
     ]
    },
    {
     "name": "stderr",
     "output_type": "stream",
     "text": [
      " 86%|███████████████████████████████████▎     | 766/888 [04:10<00:24,  5.03it/s]"
     ]
    },
    {
     "name": "stdout",
     "output_type": "stream",
     "text": [
      "Image array shape: (264, 512, 512)\n",
      "Output path for .npy file: LUNA16/Luna Output/subset8/1.3.6.1.4.1.14519.5.2.1.6279.6001.283878926524838648426928238498.npy\n",
      "Error saving .npy file for LUNA16/Dataset/subset8/1.3.6.1.4.1.14519.5.2.1.6279.6001.283878926524838648426928238498.mhd: 69206016 requested and 0 written\n",
      "\n",
      "Processing file: LUNA16/Dataset/subset8/1.3.6.1.4.1.14519.5.2.1.6279.6001.671278273674156798801285503514.mhd\n",
      "SeriesUID for current file: 1.3.6.1.4.1.14519.5.2.1.6279.6001.671278273674156798801285503514\n",
      "Found 239 nodes for seriesuid: 1.3.6.1.4.1.14519.5.2.1.6279.6001.671278273674156798801285503514\n",
      "Image array shape: (179, 512, 512)\n",
      "Output path for .npy file: LUNA16/Luna Output/subset8/1.3.6.1.4.1.14519.5.2.1.6279.6001.671278273674156798801285503514.npy\n",
      "Error saving .npy file for LUNA16/Dataset/subset8/1.3.6.1.4.1.14519.5.2.1.6279.6001.671278273674156798801285503514.mhd: 46923776 requested and 0 written\n",
      "\n",
      "Processing file: LUNA16/Dataset/subset8/1.3.6.1.4.1.14519.5.2.1.6279.6001.204566802718283633558802774757.mhd\n",
      "SeriesUID for current file: 1.3.6.1.4.1.14519.5.2.1.6279.6001.204566802718283633558802774757\n",
      "Found 1416 nodes for seriesuid: 1.3.6.1.4.1.14519.5.2.1.6279.6001.204566802718283633558802774757\n"
     ]
    },
    {
     "name": "stderr",
     "output_type": "stream",
     "text": [
      "\r",
      " 86%|███████████████████████████████████▍     | 768/888 [04:10<00:20,  5.97it/s]"
     ]
    },
    {
     "name": "stdout",
     "output_type": "stream",
     "text": [
      "Image array shape: (137, 512, 512)\n",
      "Output path for .npy file: LUNA16/Luna Output/subset8/1.3.6.1.4.1.14519.5.2.1.6279.6001.204566802718283633558802774757.npy\n",
      "Error saving .npy file for LUNA16/Dataset/subset8/1.3.6.1.4.1.14519.5.2.1.6279.6001.204566802718283633558802774757.mhd: 35913728 requested and 0 written\n",
      "\n",
      "Processing file: LUNA16/Dataset/subset8/1.3.6.1.4.1.14519.5.2.1.6279.6001.346115813056769250958550383763.mhd\n",
      "SeriesUID for current file: 1.3.6.1.4.1.14519.5.2.1.6279.6001.346115813056769250958550383763\n",
      "Found 687 nodes for seriesuid: 1.3.6.1.4.1.14519.5.2.1.6279.6001.346115813056769250958550383763\n",
      "Image array shape: (308, 512, 512)\n",
      "Output path for .npy file: LUNA16/Luna Output/subset8/1.3.6.1.4.1.14519.5.2.1.6279.6001.346115813056769250958550383763.npy\n",
      "Error saving .npy file for LUNA16/Dataset/subset8/1.3.6.1.4.1.14519.5.2.1.6279.6001.346115813056769250958550383763.mhd: 80740352 requested and 0 written\n",
      "\n",
      "Processing file: LUNA16/Dataset/subset8/1.3.6.1.4.1.14519.5.2.1.6279.6001.486999111981013268988489262668.mhd\n",
      "SeriesUID for current file: 1.3.6.1.4.1.14519.5.2.1.6279.6001.486999111981013268988489262668\n"
     ]
    },
    {
     "name": "stderr",
     "output_type": "stream",
     "text": [
      "\r",
      " 87%|███████████████████████████████████▌     | 770/888 [04:10<00:16,  7.27it/s]"
     ]
    },
    {
     "name": "stdout",
     "output_type": "stream",
     "text": [
      "Found 1314 nodes for seriesuid: 1.3.6.1.4.1.14519.5.2.1.6279.6001.486999111981013268988489262668\n",
      "Image array shape: (151, 512, 512)\n",
      "Output path for .npy file: LUNA16/Luna Output/subset8/1.3.6.1.4.1.14519.5.2.1.6279.6001.486999111981013268988489262668.npy\n",
      "Error saving .npy file for LUNA16/Dataset/subset8/1.3.6.1.4.1.14519.5.2.1.6279.6001.486999111981013268988489262668.mhd: 39583744 requested and 0 written\n",
      "\n",
      "Processing file: LUNA16/Dataset/subset8/1.3.6.1.4.1.14519.5.2.1.6279.6001.296066944953051278419805374238.mhd\n",
      "SeriesUID for current file: 1.3.6.1.4.1.14519.5.2.1.6279.6001.296066944953051278419805374238\n",
      "Found 566 nodes for seriesuid: 1.3.6.1.4.1.14519.5.2.1.6279.6001.296066944953051278419805374238\n",
      "Image array shape: (179, 512, 512)\n",
      "Output path for .npy file: LUNA16/Luna Output/subset8/1.3.6.1.4.1.14519.5.2.1.6279.6001.296066944953051278419805374238.npy\n",
      "Error saving .npy file for LUNA16/Dataset/subset8/1.3.6.1.4.1.14519.5.2.1.6279.6001.296066944953051278419805374238.mhd: 46923776 requested and 0 written\n",
      "\n",
      "Processing file: LUNA16/Dataset/subset8/1.3.6.1.4.1.14519.5.2.1.6279.6001.168833925301530155818375859047.mhd\n",
      "SeriesUID for current file: 1.3.6.1.4.1.14519.5.2.1.6279.6001.168833925301530155818375859047\n",
      "Found 1123 nodes for seriesuid: 1.3.6.1.4.1.14519.5.2.1.6279.6001.168833925301530155818375859047\n"
     ]
    },
    {
     "name": "stderr",
     "output_type": "stream",
     "text": [
      "\r",
      " 87%|███████████████████████████████████▋     | 772/888 [04:10<00:14,  7.80it/s]"
     ]
    },
    {
     "name": "stdout",
     "output_type": "stream",
     "text": [
      "Image array shape: (164, 512, 512)\n",
      "Output path for .npy file: LUNA16/Luna Output/subset8/1.3.6.1.4.1.14519.5.2.1.6279.6001.168833925301530155818375859047.npy\n",
      "Error saving .npy file for LUNA16/Dataset/subset8/1.3.6.1.4.1.14519.5.2.1.6279.6001.168833925301530155818375859047.mhd: 42991616 requested and 0 written\n",
      "\n",
      "Processing file: LUNA16/Dataset/subset8/1.3.6.1.4.1.14519.5.2.1.6279.6001.675543413149938600000570588203.mhd\n",
      "SeriesUID for current file: 1.3.6.1.4.1.14519.5.2.1.6279.6001.675543413149938600000570588203\n",
      "Found 967 nodes for seriesuid: 1.3.6.1.4.1.14519.5.2.1.6279.6001.675543413149938600000570588203\n",
      "Image array shape: (186, 512, 512)\n",
      "Output path for .npy file: LUNA16/Luna Output/subset8/1.3.6.1.4.1.14519.5.2.1.6279.6001.675543413149938600000570588203.npy\n",
      "Error saving .npy file for LUNA16/Dataset/subset8/1.3.6.1.4.1.14519.5.2.1.6279.6001.675543413149938600000570588203.mhd: 48758784 requested and 0 written\n",
      "\n",
      "Processing file: LUNA16/Dataset/subset8/1.3.6.1.4.1.14519.5.2.1.6279.6001.143622857676008763729469324839.mhd\n",
      "SeriesUID for current file: 1.3.6.1.4.1.14519.5.2.1.6279.6001.143622857676008763729469324839\n",
      "Found 819 nodes for seriesuid: 1.3.6.1.4.1.14519.5.2.1.6279.6001.143622857676008763729469324839\n"
     ]
    },
    {
     "name": "stderr",
     "output_type": "stream",
     "text": [
      " 87%|███████████████████████████████████▋     | 774/888 [04:11<00:18,  6.24it/s]"
     ]
    },
    {
     "name": "stdout",
     "output_type": "stream",
     "text": [
      "Image array shape: (385, 512, 512)\n",
      "Output path for .npy file: LUNA16/Luna Output/subset8/1.3.6.1.4.1.14519.5.2.1.6279.6001.143622857676008763729469324839.npy\n",
      "Error saving .npy file for LUNA16/Dataset/subset8/1.3.6.1.4.1.14519.5.2.1.6279.6001.143622857676008763729469324839.mhd: 100925440 requested and 0 written\n",
      "\n",
      "Processing file: LUNA16/Dataset/subset8/1.3.6.1.4.1.14519.5.2.1.6279.6001.774060103415303828812229821954.mhd\n",
      "SeriesUID for current file: 1.3.6.1.4.1.14519.5.2.1.6279.6001.774060103415303828812229821954\n",
      "Found 974 nodes for seriesuid: 1.3.6.1.4.1.14519.5.2.1.6279.6001.774060103415303828812229821954\n",
      "Image array shape: (133, 512, 512)\n",
      "Output path for .npy file: LUNA16/Luna Output/subset8/1.3.6.1.4.1.14519.5.2.1.6279.6001.774060103415303828812229821954.npy\n",
      "Error saving .npy file for LUNA16/Dataset/subset8/1.3.6.1.4.1.14519.5.2.1.6279.6001.774060103415303828812229821954.mhd: 34865152 requested and 0 written\n",
      "\n",
      "Processing file: LUNA16/Dataset/subset8/1.3.6.1.4.1.14519.5.2.1.6279.6001.202283133206014258077705539227.mhd\n",
      "SeriesUID for current file: 1.3.6.1.4.1.14519.5.2.1.6279.6001.202283133206014258077705539227\n",
      "Found 717 nodes for seriesuid: 1.3.6.1.4.1.14519.5.2.1.6279.6001.202283133206014258077705539227\n"
     ]
    },
    {
     "name": "stderr",
     "output_type": "stream",
     "text": [
      "\r",
      " 87%|███████████████████████████████████▊     | 776/888 [04:11<00:15,  7.19it/s]"
     ]
    },
    {
     "name": "stdout",
     "output_type": "stream",
     "text": [
      "Image array shape: (123, 512, 512)\n",
      "Output path for .npy file: LUNA16/Luna Output/subset8/1.3.6.1.4.1.14519.5.2.1.6279.6001.202283133206014258077705539227.npy\n",
      "Error saving .npy file for LUNA16/Dataset/subset8/1.3.6.1.4.1.14519.5.2.1.6279.6001.202283133206014258077705539227.mhd: 32243712 requested and 0 written\n",
      "\n",
      "Processing file: LUNA16/Dataset/subset8/1.3.6.1.4.1.14519.5.2.1.6279.6001.766881513533845439335142582269.mhd\n",
      "SeriesUID for current file: 1.3.6.1.4.1.14519.5.2.1.6279.6001.766881513533845439335142582269\n",
      "Found 563 nodes for seriesuid: 1.3.6.1.4.1.14519.5.2.1.6279.6001.766881513533845439335142582269\n",
      "Image array shape: (240, 512, 512)\n",
      "Output path for .npy file: LUNA16/Luna Output/subset8/1.3.6.1.4.1.14519.5.2.1.6279.6001.766881513533845439335142582269.npy\n",
      "Error saving .npy file for LUNA16/Dataset/subset8/1.3.6.1.4.1.14519.5.2.1.6279.6001.766881513533845439335142582269.mhd: 62914560 requested and 0 written\n",
      "\n",
      "Processing file: LUNA16/Dataset/subset8/1.3.6.1.4.1.14519.5.2.1.6279.6001.241083615484551649610616348856.mhd\n",
      "SeriesUID for current file: 1.3.6.1.4.1.14519.5.2.1.6279.6001.241083615484551649610616348856\n",
      "Found 1723 nodes for seriesuid: 1.3.6.1.4.1.14519.5.2.1.6279.6001.241083615484551649610616348856\n",
      "Image array shape: (159, 512, 512)\n",
      "Output path for .npy file: LUNA16/Luna Output/subset8/1.3.6.1.4.1.14519.5.2.1.6279.6001.241083615484551649610616348856.npy\n",
      "Error saving .npy file for LUNA16/Dataset/subset8/1.3.6.1.4.1.14519.5.2.1.6279.6001.241083615484551649610616348856.mhd: 41680896 requested and 0 written\n",
      "\n",
      "Processing file: LUNA16/Dataset/subset8/1.3.6.1.4.1.14519.5.2.1.6279.6001.207341668080525761926965850679.mhd\n",
      "SeriesUID for current file: 1.3.6.1.4.1.14519.5.2.1.6279.6001.207341668080525761926965850679\n",
      "Found 771 nodes for seriesuid: 1.3.6.1.4.1.14519.5.2.1.6279.6001.207341668080525761926965850679\n"
     ]
    },
    {
     "name": "stderr",
     "output_type": "stream",
     "text": [
      "\r",
      " 88%|███████████████████████████████████▉     | 778/888 [04:11<00:17,  6.15it/s]"
     ]
    },
    {
     "name": "stdout",
     "output_type": "stream",
     "text": [
      "Image array shape: (359, 512, 512)\n",
      "Output path for .npy file: LUNA16/Luna Output/subset8/1.3.6.1.4.1.14519.5.2.1.6279.6001.207341668080525761926965850679.npy\n",
      "Error saving .npy file for LUNA16/Dataset/subset8/1.3.6.1.4.1.14519.5.2.1.6279.6001.207341668080525761926965850679.mhd: 94109696 requested and 0 written\n",
      "\n",
      "Processing file: LUNA16/Dataset/subset8/1.3.6.1.4.1.14519.5.2.1.6279.6001.225515255547637437801620523312.mhd\n",
      "SeriesUID for current file: 1.3.6.1.4.1.14519.5.2.1.6279.6001.225515255547637437801620523312\n",
      "Found 352 nodes for seriesuid: 1.3.6.1.4.1.14519.5.2.1.6279.6001.225515255547637437801620523312\n"
     ]
    },
    {
     "name": "stderr",
     "output_type": "stream",
     "text": [
      " 88%|████████████████████████████████████     | 780/888 [04:12<00:17,  6.29it/s]"
     ]
    },
    {
     "name": "stdout",
     "output_type": "stream",
     "text": [
      "Image array shape: (277, 512, 512)\n",
      "Output path for .npy file: LUNA16/Luna Output/subset8/1.3.6.1.4.1.14519.5.2.1.6279.6001.225515255547637437801620523312.npy\n",
      "Error saving .npy file for LUNA16/Dataset/subset8/1.3.6.1.4.1.14519.5.2.1.6279.6001.225515255547637437801620523312.mhd: 72613888 requested and 0 written\n",
      "\n",
      "Processing file: LUNA16/Dataset/subset8/1.3.6.1.4.1.14519.5.2.1.6279.6001.249314567767437206995861966896.mhd\n",
      "SeriesUID for current file: 1.3.6.1.4.1.14519.5.2.1.6279.6001.249314567767437206995861966896\n",
      "Found 886 nodes for seriesuid: 1.3.6.1.4.1.14519.5.2.1.6279.6001.249314567767437206995861966896\n",
      "Image array shape: (238, 512, 512)\n",
      "Output path for .npy file: LUNA16/Luna Output/subset8/1.3.6.1.4.1.14519.5.2.1.6279.6001.249314567767437206995861966896.npy\n",
      "Error saving .npy file for LUNA16/Dataset/subset8/1.3.6.1.4.1.14519.5.2.1.6279.6001.249314567767437206995861966896.mhd: 62390272 requested and 0 written\n",
      "\n",
      "Processing file: LUNA16/Dataset/subset8/1.3.6.1.4.1.14519.5.2.1.6279.6001.236698827306171960683086245994.mhd\n",
      "SeriesUID for current file: 1.3.6.1.4.1.14519.5.2.1.6279.6001.236698827306171960683086245994\n",
      "Found 591 nodes for seriesuid: 1.3.6.1.4.1.14519.5.2.1.6279.6001.236698827306171960683086245994\n",
      "Image array shape: (133, 512, 512)\n",
      "Output path for .npy file: LUNA16/Luna Output/subset8/1.3.6.1.4.1.14519.5.2.1.6279.6001.236698827306171960683086245994.npy\n",
      "Error saving .npy file for LUNA16/Dataset/subset8/1.3.6.1.4.1.14519.5.2.1.6279.6001.236698827306171960683086245994.mhd: 34865152 requested and 0 written\n",
      "\n",
      "Processing file: LUNA16/Dataset/subset8/1.3.6.1.4.1.14519.5.2.1.6279.6001.305887072264491016857673607285.mhd\n",
      "SeriesUID for current file: 1.3.6.1.4.1.14519.5.2.1.6279.6001.305887072264491016857673607285\n"
     ]
    },
    {
     "name": "stderr",
     "output_type": "stream",
     "text": [
      "\r",
      " 88%|████████████████████████████████████     | 782/888 [04:12<00:15,  6.98it/s]"
     ]
    },
    {
     "name": "stdout",
     "output_type": "stream",
     "text": [
      "Found 967 nodes for seriesuid: 1.3.6.1.4.1.14519.5.2.1.6279.6001.305887072264491016857673607285\n",
      "Image array shape: (267, 512, 512)\n",
      "Output path for .npy file: LUNA16/Luna Output/subset8/1.3.6.1.4.1.14519.5.2.1.6279.6001.305887072264491016857673607285.npy\n",
      "Error saving .npy file for LUNA16/Dataset/subset8/1.3.6.1.4.1.14519.5.2.1.6279.6001.305887072264491016857673607285.mhd: 69992448 requested and 0 written\n",
      "\n",
      "Processing file: LUNA16/Dataset/subset8/1.3.6.1.4.1.14519.5.2.1.6279.6001.179943248049071805421192715219.mhd\n",
      "SeriesUID for current file: 1.3.6.1.4.1.14519.5.2.1.6279.6001.179943248049071805421192715219\n",
      "Found 772 nodes for seriesuid: 1.3.6.1.4.1.14519.5.2.1.6279.6001.179943248049071805421192715219\n"
     ]
    },
    {
     "name": "stderr",
     "output_type": "stream",
     "text": [
      "\r",
      " 88%|████████████████████████████████████▏    | 783/888 [04:12<00:20,  5.06it/s]"
     ]
    },
    {
     "name": "stdout",
     "output_type": "stream",
     "text": [
      "Image array shape: (490, 512, 512)\n",
      "Output path for .npy file: LUNA16/Luna Output/subset8/1.3.6.1.4.1.14519.5.2.1.6279.6001.179943248049071805421192715219.npy\n",
      "Error saving .npy file for LUNA16/Dataset/subset8/1.3.6.1.4.1.14519.5.2.1.6279.6001.179943248049071805421192715219.mhd: 128450560 requested and 0 written\n",
      "\n",
      "Processing file: LUNA16/Dataset/subset8/1.3.6.1.4.1.14519.5.2.1.6279.6001.792381786708289670758399079830.mhd\n",
      "SeriesUID for current file: 1.3.6.1.4.1.14519.5.2.1.6279.6001.792381786708289670758399079830\n",
      "Found 912 nodes for seriesuid: 1.3.6.1.4.1.14519.5.2.1.6279.6001.792381786708289670758399079830\n"
     ]
    },
    {
     "name": "stderr",
     "output_type": "stream",
     "text": [
      " 88%|████████████████████████████████████▏    | 785/888 [04:13<00:22,  4.54it/s]"
     ]
    },
    {
     "name": "stdout",
     "output_type": "stream",
     "text": [
      "Image array shape: (525, 512, 512)\n",
      "Output path for .npy file: LUNA16/Luna Output/subset8/1.3.6.1.4.1.14519.5.2.1.6279.6001.792381786708289670758399079830.npy\n",
      "Error saving .npy file for LUNA16/Dataset/subset8/1.3.6.1.4.1.14519.5.2.1.6279.6001.792381786708289670758399079830.mhd: 137625600 requested and 0 written\n",
      "\n",
      "Processing file: LUNA16/Dataset/subset8/1.3.6.1.4.1.14519.5.2.1.6279.6001.518487185634324801733841260431.mhd\n",
      "SeriesUID for current file: 1.3.6.1.4.1.14519.5.2.1.6279.6001.518487185634324801733841260431\n",
      "Found 907 nodes for seriesuid: 1.3.6.1.4.1.14519.5.2.1.6279.6001.518487185634324801733841260431\n",
      "Image array shape: (137, 512, 512)\n",
      "Output path for .npy file: LUNA16/Luna Output/subset8/1.3.6.1.4.1.14519.5.2.1.6279.6001.518487185634324801733841260431.npy\n",
      "Error saving .npy file for LUNA16/Dataset/subset8/1.3.6.1.4.1.14519.5.2.1.6279.6001.518487185634324801733841260431.mhd: 35913728 requested and 0 written\n",
      "\n",
      "Processing file: LUNA16/Dataset/subset8/1.3.6.1.4.1.14519.5.2.1.6279.6001.153732973534937692357111055819.mhd\n",
      "SeriesUID for current file: 1.3.6.1.4.1.14519.5.2.1.6279.6001.153732973534937692357111055819\n"
     ]
    },
    {
     "name": "stderr",
     "output_type": "stream",
     "text": [
      "\r",
      " 89%|████████████████████████████████████▎    | 786/888 [04:13<00:20,  4.92it/s]"
     ]
    },
    {
     "name": "stdout",
     "output_type": "stream",
     "text": [
      "Found 1218 nodes for seriesuid: 1.3.6.1.4.1.14519.5.2.1.6279.6001.153732973534937692357111055819\n",
      "Image array shape: (139, 512, 512)\n",
      "Output path for .npy file: LUNA16/Luna Output/subset8/1.3.6.1.4.1.14519.5.2.1.6279.6001.153732973534937692357111055819.npy\n",
      "Error saving .npy file for LUNA16/Dataset/subset8/1.3.6.1.4.1.14519.5.2.1.6279.6001.153732973534937692357111055819.mhd: 36438016 requested and 0 written\n",
      "\n",
      "Processing file: LUNA16/Dataset/subset8/1.3.6.1.4.1.14519.5.2.1.6279.6001.724562063158320418413995627171.mhd\n",
      "SeriesUID for current file: 1.3.6.1.4.1.14519.5.2.1.6279.6001.724562063158320418413995627171\n",
      "Found 933 nodes for seriesuid: 1.3.6.1.4.1.14519.5.2.1.6279.6001.724562063158320418413995627171\n"
     ]
    },
    {
     "name": "stderr",
     "output_type": "stream",
     "text": [
      " 89%|████████████████████████████████████▍    | 788/888 [04:13<00:16,  6.12it/s]"
     ]
    },
    {
     "name": "stdout",
     "output_type": "stream",
     "text": [
      "Image array shape: (135, 512, 512)\n",
      "Output path for .npy file: LUNA16/Luna Output/subset8/1.3.6.1.4.1.14519.5.2.1.6279.6001.724562063158320418413995627171.npy\n",
      "Error saving .npy file for LUNA16/Dataset/subset8/1.3.6.1.4.1.14519.5.2.1.6279.6001.724562063158320418413995627171.mhd: 35389440 requested and 0 written\n",
      "\n",
      "Processing file: LUNA16/Dataset/subset8/1.3.6.1.4.1.14519.5.2.1.6279.6001.454273545863197752384437758130.mhd\n",
      "SeriesUID for current file: 1.3.6.1.4.1.14519.5.2.1.6279.6001.454273545863197752384437758130\n",
      "Found 1022 nodes for seriesuid: 1.3.6.1.4.1.14519.5.2.1.6279.6001.454273545863197752384437758130\n",
      "Image array shape: (137, 512, 512)\n",
      "Output path for .npy file: LUNA16/Luna Output/subset8/1.3.6.1.4.1.14519.5.2.1.6279.6001.454273545863197752384437758130.npy\n",
      "Error saving .npy file for LUNA16/Dataset/subset8/1.3.6.1.4.1.14519.5.2.1.6279.6001.454273545863197752384437758130.mhd: 35913728 requested and 0 written\n",
      "\n",
      "Processing file: LUNA16/Dataset/subset8/1.3.6.1.4.1.14519.5.2.1.6279.6001.137773550852881583165286615668.mhd\n",
      "SeriesUID for current file: 1.3.6.1.4.1.14519.5.2.1.6279.6001.137773550852881583165286615668\n",
      "Found 883 nodes for seriesuid: 1.3.6.1.4.1.14519.5.2.1.6279.6001.137773550852881583165286615668\n"
     ]
    },
    {
     "name": "stderr",
     "output_type": "stream",
     "text": [
      "\r",
      " 89%|████████████████████████████████████▍    | 789/888 [04:14<00:20,  4.89it/s]"
     ]
    },
    {
     "name": "stdout",
     "output_type": "stream",
     "text": [
      "Image array shape: (343, 512, 512)\n",
      "Output path for .npy file: LUNA16/Luna Output/subset8/1.3.6.1.4.1.14519.5.2.1.6279.6001.137773550852881583165286615668.npy\n",
      "Error saving .npy file for LUNA16/Dataset/subset8/1.3.6.1.4.1.14519.5.2.1.6279.6001.137773550852881583165286615668.mhd: 89915392 requested and 0 written\n",
      "\n",
      "Processing file: LUNA16/Dataset/subset8/1.3.6.1.4.1.14519.5.2.1.6279.6001.203425588524695836343069893813.mhd\n",
      "SeriesUID for current file: 1.3.6.1.4.1.14519.5.2.1.6279.6001.203425588524695836343069893813\n",
      "Found 952 nodes for seriesuid: 1.3.6.1.4.1.14519.5.2.1.6279.6001.203425588524695836343069893813\n",
      "Image array shape: (117, 512, 512)\n",
      "Output path for .npy file: LUNA16/Luna Output/subset8/1.3.6.1.4.1.14519.5.2.1.6279.6001.203425588524695836343069893813.npy\n"
     ]
    },
    {
     "name": "stderr",
     "output_type": "stream",
     "text": [
      "\r",
      " 89%|████████████████████████████████████▍    | 790/888 [04:14<00:20,  4.73it/s]"
     ]
    },
    {
     "name": "stdout",
     "output_type": "stream",
     "text": [
      "Error saving .npy file for LUNA16/Dataset/subset8/1.3.6.1.4.1.14519.5.2.1.6279.6001.203425588524695836343069893813.mhd: 30670848 requested and 0 written\n",
      "\n",
      "Processing file: LUNA16/Dataset/subset8/1.3.6.1.4.1.14519.5.2.1.6279.6001.317613170669207528926259976488.mhd\n",
      "SeriesUID for current file: 1.3.6.1.4.1.14519.5.2.1.6279.6001.317613170669207528926259976488\n",
      "Found 749 nodes for seriesuid: 1.3.6.1.4.1.14519.5.2.1.6279.6001.317613170669207528926259976488\n",
      "Image array shape: (519, 512, 512)\n",
      "Output path for .npy file: LUNA16/Luna Output/subset8/1.3.6.1.4.1.14519.5.2.1.6279.6001.317613170669207528926259976488.npy\n"
     ]
    },
    {
     "name": "stderr",
     "output_type": "stream",
     "text": [
      "\r",
      " 89%|████████████████████████████████████▌    | 791/888 [04:15<00:37,  2.56it/s]"
     ]
    },
    {
     "name": "stdout",
     "output_type": "stream",
     "text": [
      "Error saving .npy file for LUNA16/Dataset/subset8/1.3.6.1.4.1.14519.5.2.1.6279.6001.317613170669207528926259976488.mhd: 136052736 requested and 35237824 written\n",
      "\n",
      "Processing file: LUNA16/Dataset/subset8/1.3.6.1.4.1.14519.5.2.1.6279.6001.247060297988514823071467295949.mhd\n",
      "SeriesUID for current file: 1.3.6.1.4.1.14519.5.2.1.6279.6001.247060297988514823071467295949\n",
      "Found 934 nodes for seriesuid: 1.3.6.1.4.1.14519.5.2.1.6279.6001.247060297988514823071467295949\n"
     ]
    },
    {
     "name": "stderr",
     "output_type": "stream",
     "text": [
      " 89%|████████████████████████████████████▌    | 793/888 [04:15<00:27,  3.43it/s]"
     ]
    },
    {
     "name": "stdout",
     "output_type": "stream",
     "text": [
      "Image array shape: (261, 512, 512)\n",
      "Output path for .npy file: LUNA16/Luna Output/subset8/1.3.6.1.4.1.14519.5.2.1.6279.6001.247060297988514823071467295949.npy\n",
      "Error saving .npy file for LUNA16/Dataset/subset8/1.3.6.1.4.1.14519.5.2.1.6279.6001.247060297988514823071467295949.mhd: 68419584 requested and 0 written\n",
      "\n",
      "Processing file: LUNA16/Dataset/subset8/1.3.6.1.4.1.14519.5.2.1.6279.6001.226152078193253087875725735761.mhd\n",
      "SeriesUID for current file: 1.3.6.1.4.1.14519.5.2.1.6279.6001.226152078193253087875725735761\n",
      "Found 838 nodes for seriesuid: 1.3.6.1.4.1.14519.5.2.1.6279.6001.226152078193253087875725735761\n",
      "Image array shape: (270, 512, 512)\n",
      "Output path for .npy file: LUNA16/Luna Output/subset8/1.3.6.1.4.1.14519.5.2.1.6279.6001.226152078193253087875725735761.npy\n",
      "Error saving .npy file for LUNA16/Dataset/subset8/1.3.6.1.4.1.14519.5.2.1.6279.6001.226152078193253087875725735761.mhd: 70778880 requested and 0 written\n",
      "\n",
      "Processing file: LUNA16/Dataset/subset8/1.3.6.1.4.1.14519.5.2.1.6279.6001.149041668385192796520281592139.mhd\n",
      "SeriesUID for current file: 1.3.6.1.4.1.14519.5.2.1.6279.6001.149041668385192796520281592139\n",
      "Found 936 nodes for seriesuid: 1.3.6.1.4.1.14519.5.2.1.6279.6001.149041668385192796520281592139\n"
     ]
    },
    {
     "name": "stderr",
     "output_type": "stream",
     "text": [
      "\r",
      " 89%|████████████████████████████████████▋    | 794/888 [04:15<00:25,  3.73it/s]"
     ]
    },
    {
     "name": "stdout",
     "output_type": "stream",
     "text": [
      "Image array shape: (133, 512, 512)\n",
      "Output path for .npy file: LUNA16/Luna Output/subset8/1.3.6.1.4.1.14519.5.2.1.6279.6001.149041668385192796520281592139.npy\n",
      "Saved: LUNA16/Luna Output/subset8/1.3.6.1.4.1.14519.5.2.1.6279.6001.149041668385192796520281592139.npy\n",
      "\n",
      "Processing file: LUNA16/Dataset/subset8/1.3.6.1.4.1.14519.5.2.1.6279.6001.194766721609772924944646251928.mhd\n",
      "SeriesUID for current file: 1.3.6.1.4.1.14519.5.2.1.6279.6001.194766721609772924944646251928\n",
      "Found 1427 nodes for seriesuid: 1.3.6.1.4.1.14519.5.2.1.6279.6001.194766721609772924944646251928\n",
      "Image array shape: (133, 512, 512)\n",
      "Output path for .npy file: LUNA16/Luna Output/subset8/1.3.6.1.4.1.14519.5.2.1.6279.6001.194766721609772924944646251928.npy\n",
      "Error saving .npy file for LUNA16/Dataset/subset8/1.3.6.1.4.1.14519.5.2.1.6279.6001.194766721609772924944646251928.mhd: 34865152 requested and 0 written\n",
      "\n",
      "Processing file: LUNA16/Dataset/subset8/1.3.6.1.4.1.14519.5.2.1.6279.6001.286422846896797433168187085942.mhd\n",
      "SeriesUID for current file: 1.3.6.1.4.1.14519.5.2.1.6279.6001.286422846896797433168187085942\n",
      "Found 701 nodes for seriesuid: 1.3.6.1.4.1.14519.5.2.1.6279.6001.286422846896797433168187085942\n"
     ]
    },
    {
     "name": "stderr",
     "output_type": "stream",
     "text": [
      " 90%|████████████████████████████████████▊    | 797/888 [04:16<00:16,  5.37it/s]"
     ]
    },
    {
     "name": "stdout",
     "output_type": "stream",
     "text": [
      "Image array shape: (445, 512, 512)\n",
      "Output path for .npy file: LUNA16/Luna Output/subset8/1.3.6.1.4.1.14519.5.2.1.6279.6001.286422846896797433168187085942.npy\n",
      "Error saving .npy file for LUNA16/Dataset/subset8/1.3.6.1.4.1.14519.5.2.1.6279.6001.286422846896797433168187085942.mhd: 116654080 requested and 0 written\n",
      "\n",
      "Processing file: LUNA16/Dataset/subset8/1.3.6.1.4.1.14519.5.2.1.6279.6001.183982839679953938397312236359.mhd\n",
      "SeriesUID for current file: 1.3.6.1.4.1.14519.5.2.1.6279.6001.183982839679953938397312236359\n",
      "Found 875 nodes for seriesuid: 1.3.6.1.4.1.14519.5.2.1.6279.6001.183982839679953938397312236359\n",
      "Image array shape: (139, 512, 512)\n",
      "Output path for .npy file: LUNA16/Luna Output/subset8/1.3.6.1.4.1.14519.5.2.1.6279.6001.183982839679953938397312236359.npy\n",
      "Error saving .npy file for LUNA16/Dataset/subset8/1.3.6.1.4.1.14519.5.2.1.6279.6001.183982839679953938397312236359.mhd: 36438016 requested and 0 written\n",
      "\n",
      "Processing file: LUNA16/Dataset/subset8/1.3.6.1.4.1.14519.5.2.1.6279.6001.339484970190920330170416228517.mhd\n",
      "SeriesUID for current file: 1.3.6.1.4.1.14519.5.2.1.6279.6001.339484970190920330170416228517\n",
      "Found 536 nodes for seriesuid: 1.3.6.1.4.1.14519.5.2.1.6279.6001.339484970190920330170416228517\n",
      "Image array shape: (130, 512, 512)\n",
      "Output path for .npy file: LUNA16/Luna Output/subset8/1.3.6.1.4.1.14519.5.2.1.6279.6001.339484970190920330170416228517.npy\n",
      "Error saving .npy file for LUNA16/Dataset/subset8/1.3.6.1.4.1.14519.5.2.1.6279.6001.339484970190920330170416228517.mhd: 34078720 requested and 0 written\n",
      "\n",
      "Processing file: LUNA16/Dataset/subset8/1.3.6.1.4.1.14519.5.2.1.6279.6001.100225287222365663678666836860.mhd\n",
      "SeriesUID for current file: 1.3.6.1.4.1.14519.5.2.1.6279.6001.100225287222365663678666836860\n"
     ]
    },
    {
     "name": "stderr",
     "output_type": "stream",
     "text": [
      "\r",
      " 90%|████████████████████████████████████▉    | 799/888 [04:16<00:13,  6.73it/s]"
     ]
    },
    {
     "name": "stdout",
     "output_type": "stream",
     "text": [
      "Found 1068 nodes for seriesuid: 1.3.6.1.4.1.14519.5.2.1.6279.6001.100225287222365663678666836860\n",
      "Image array shape: (194, 512, 512)\n",
      "Output path for .npy file: LUNA16/Luna Output/subset8/1.3.6.1.4.1.14519.5.2.1.6279.6001.100225287222365663678666836860.npy\n",
      "Error saving .npy file for LUNA16/Dataset/subset8/1.3.6.1.4.1.14519.5.2.1.6279.6001.100225287222365663678666836860.mhd: 50855936 requested and 0 written\n",
      "\n",
      "Processing file: LUNA16/Dataset/subset8/1.3.6.1.4.1.14519.5.2.1.6279.6001.206028343897359374907954580114.mhd\n",
      "SeriesUID for current file: 1.3.6.1.4.1.14519.5.2.1.6279.6001.206028343897359374907954580114\n",
      "Found 1076 nodes for seriesuid: 1.3.6.1.4.1.14519.5.2.1.6279.6001.206028343897359374907954580114\n",
      "Image array shape: (133, 512, 512)\n",
      "Output path for .npy file: LUNA16/Luna Output/subset8/1.3.6.1.4.1.14519.5.2.1.6279.6001.206028343897359374907954580114.npy\n",
      "Error saving .npy file for LUNA16/Dataset/subset8/1.3.6.1.4.1.14519.5.2.1.6279.6001.206028343897359374907954580114.mhd: 34865152 requested and 0 written\n",
      "\n",
      "Processing file: LUNA16/Dataset/subset9/1.3.6.1.4.1.14519.5.2.1.6279.6001.265780642925621389994857727416.mhd\n",
      "SeriesUID for current file: 1.3.6.1.4.1.14519.5.2.1.6279.6001.265780642925621389994857727416\n",
      "Found 515 nodes for seriesuid: 1.3.6.1.4.1.14519.5.2.1.6279.6001.265780642925621389994857727416\n"
     ]
    },
    {
     "name": "stderr",
     "output_type": "stream",
     "text": [
      " 90%|█████████████████████████████████████    | 803/888 [04:16<00:09,  8.56it/s]"
     ]
    },
    {
     "name": "stdout",
     "output_type": "stream",
     "text": [
      "Image array shape: (236, 512, 512)\n",
      "Output path for .npy file: LUNA16/Luna Output/subset9/1.3.6.1.4.1.14519.5.2.1.6279.6001.265780642925621389994857727416.npy\n",
      "Error saving .npy file for LUNA16/Dataset/subset9/1.3.6.1.4.1.14519.5.2.1.6279.6001.265780642925621389994857727416.mhd: 61865984 requested and 0 written\n",
      "\n",
      "Processing file: LUNA16/Dataset/subset9/1.3.6.1.4.1.14519.5.2.1.6279.6001.259453428008507791234730686014.mhd\n",
      "SeriesUID for current file: 1.3.6.1.4.1.14519.5.2.1.6279.6001.259453428008507791234730686014\n",
      "Found 547 nodes for seriesuid: 1.3.6.1.4.1.14519.5.2.1.6279.6001.259453428008507791234730686014\n",
      "Image array shape: (144, 512, 512)\n",
      "Output path for .npy file: LUNA16/Luna Output/subset9/1.3.6.1.4.1.14519.5.2.1.6279.6001.259453428008507791234730686014.npy\n",
      "Error saving .npy file for LUNA16/Dataset/subset9/1.3.6.1.4.1.14519.5.2.1.6279.6001.259453428008507791234730686014.mhd: 37748736 requested and 0 written\n",
      "\n",
      "Processing file: LUNA16/Dataset/subset9/1.3.6.1.4.1.14519.5.2.1.6279.6001.230491296081537726468075344411.mhd\n",
      "SeriesUID for current file: 1.3.6.1.4.1.14519.5.2.1.6279.6001.230491296081537726468075344411\n",
      "Found 790 nodes for seriesuid: 1.3.6.1.4.1.14519.5.2.1.6279.6001.230491296081537726468075344411\n",
      "Image array shape: (133, 512, 512)\n",
      "Output path for .npy file: LUNA16/Luna Output/subset9/1.3.6.1.4.1.14519.5.2.1.6279.6001.230491296081537726468075344411.npy\n",
      "Error saving .npy file for LUNA16/Dataset/subset9/1.3.6.1.4.1.14519.5.2.1.6279.6001.230491296081537726468075344411.mhd: 34865152 requested and 0 written\n",
      "\n",
      "Processing file: LUNA16/Dataset/subset9/1.3.6.1.4.1.14519.5.2.1.6279.6001.188385286346390202873004762827.mhd\n",
      "SeriesUID for current file: 1.3.6.1.4.1.14519.5.2.1.6279.6001.188385286346390202873004762827\n",
      "Found 1067 nodes for seriesuid: 1.3.6.1.4.1.14519.5.2.1.6279.6001.188385286346390202873004762827\n"
     ]
    },
    {
     "name": "stderr",
     "output_type": "stream",
     "text": [
      "\r",
      " 91%|█████████████████████████████████████    | 804/888 [04:17<00:15,  5.56it/s]"
     ]
    },
    {
     "name": "stdout",
     "output_type": "stream",
     "text": [
      "Image array shape: (381, 512, 512)\n",
      "Output path for .npy file: LUNA16/Luna Output/subset9/1.3.6.1.4.1.14519.5.2.1.6279.6001.188385286346390202873004762827.npy\n",
      "Error saving .npy file for LUNA16/Dataset/subset9/1.3.6.1.4.1.14519.5.2.1.6279.6001.188385286346390202873004762827.mhd: 99876864 requested and 0 written\n",
      "\n",
      "Processing file: LUNA16/Dataset/subset9/1.3.6.1.4.1.14519.5.2.1.6279.6001.330643702676971528301859647742.mhd\n",
      "SeriesUID for current file: 1.3.6.1.4.1.14519.5.2.1.6279.6001.330643702676971528301859647742\n",
      "Found 314 nodes for seriesuid: 1.3.6.1.4.1.14519.5.2.1.6279.6001.330643702676971528301859647742\n"
     ]
    },
    {
     "name": "stderr",
     "output_type": "stream",
     "text": [
      " 91%|█████████████████████████████████████▏   | 806/888 [04:17<00:15,  5.33it/s]"
     ]
    },
    {
     "name": "stdout",
     "output_type": "stream",
     "text": [
      "Image array shape: (256, 512, 512)\n",
      "Output path for .npy file: LUNA16/Luna Output/subset9/1.3.6.1.4.1.14519.5.2.1.6279.6001.330643702676971528301859647742.npy\n",
      "Error saving .npy file for LUNA16/Dataset/subset9/1.3.6.1.4.1.14519.5.2.1.6279.6001.330643702676971528301859647742.mhd: 67108864 requested and 0 written\n",
      "\n",
      "Processing file: LUNA16/Dataset/subset9/1.3.6.1.4.1.14519.5.2.1.6279.6001.187694838527128312070807533473.mhd\n",
      "SeriesUID for current file: 1.3.6.1.4.1.14519.5.2.1.6279.6001.187694838527128312070807533473\n",
      "Found 898 nodes for seriesuid: 1.3.6.1.4.1.14519.5.2.1.6279.6001.187694838527128312070807533473\n",
      "Image array shape: (308, 512, 512)\n",
      "Output path for .npy file: LUNA16/Luna Output/subset9/1.3.6.1.4.1.14519.5.2.1.6279.6001.187694838527128312070807533473.npy\n",
      "Error saving .npy file for LUNA16/Dataset/subset9/1.3.6.1.4.1.14519.5.2.1.6279.6001.187694838527128312070807533473.mhd: 80740352 requested and 0 written\n",
      "\n",
      "Processing file: LUNA16/Dataset/subset9/1.3.6.1.4.1.14519.5.2.1.6279.6001.217754016294471278921686508169.mhd\n",
      "SeriesUID for current file: 1.3.6.1.4.1.14519.5.2.1.6279.6001.217754016294471278921686508169\n"
     ]
    },
    {
     "name": "stderr",
     "output_type": "stream",
     "text": [
      "\r",
      " 91%|█████████████████████████████████████▎   | 807/888 [04:17<00:15,  5.19it/s]"
     ]
    },
    {
     "name": "stdout",
     "output_type": "stream",
     "text": [
      "Found 1349 nodes for seriesuid: 1.3.6.1.4.1.14519.5.2.1.6279.6001.217754016294471278921686508169\n",
      "Image array shape: (276, 512, 512)\n",
      "Output path for .npy file: LUNA16/Luna Output/subset9/1.3.6.1.4.1.14519.5.2.1.6279.6001.217754016294471278921686508169.npy\n",
      "Error saving .npy file for LUNA16/Dataset/subset9/1.3.6.1.4.1.14519.5.2.1.6279.6001.217754016294471278921686508169.mhd: 72351744 requested and 0 written\n",
      "\n",
      "Processing file: LUNA16/Dataset/subset9/1.3.6.1.4.1.14519.5.2.1.6279.6001.946129570505893110165820050204.mhd\n",
      "SeriesUID for current file: 1.3.6.1.4.1.14519.5.2.1.6279.6001.946129570505893110165820050204\n",
      "Found 951 nodes for seriesuid: 1.3.6.1.4.1.14519.5.2.1.6279.6001.946129570505893110165820050204\n"
     ]
    },
    {
     "name": "stderr",
     "output_type": "stream",
     "text": [
      " 91%|█████████████████████████████████████▎   | 809/888 [04:18<00:15,  5.18it/s]"
     ]
    },
    {
     "name": "stdout",
     "output_type": "stream",
     "text": [
      "Image array shape: (481, 512, 512)\n",
      "Output path for .npy file: LUNA16/Luna Output/subset9/1.3.6.1.4.1.14519.5.2.1.6279.6001.946129570505893110165820050204.npy\n",
      "Error saving .npy file for LUNA16/Dataset/subset9/1.3.6.1.4.1.14519.5.2.1.6279.6001.946129570505893110165820050204.mhd: 126091264 requested and 0 written\n",
      "\n",
      "Processing file: LUNA16/Dataset/subset9/1.3.6.1.4.1.14519.5.2.1.6279.6001.272344603176687884771013620823.mhd\n",
      "SeriesUID for current file: 1.3.6.1.4.1.14519.5.2.1.6279.6001.272344603176687884771013620823\n",
      "Found 1271 nodes for seriesuid: 1.3.6.1.4.1.14519.5.2.1.6279.6001.272344603176687884771013620823\n",
      "Image array shape: (138, 512, 512)\n",
      "Output path for .npy file: LUNA16/Luna Output/subset9/1.3.6.1.4.1.14519.5.2.1.6279.6001.272344603176687884771013620823.npy\n",
      "Error saving .npy file for LUNA16/Dataset/subset9/1.3.6.1.4.1.14519.5.2.1.6279.6001.272344603176687884771013620823.mhd: 36175872 requested and 0 written\n",
      "\n",
      "Processing file: LUNA16/Dataset/subset9/1.3.6.1.4.1.14519.5.2.1.6279.6001.765459236550358748053283544075.mhd\n",
      "SeriesUID for current file: 1.3.6.1.4.1.14519.5.2.1.6279.6001.765459236550358748053283544075\n",
      "Found 854 nodes for seriesuid: 1.3.6.1.4.1.14519.5.2.1.6279.6001.765459236550358748053283544075\n"
     ]
    },
    {
     "name": "stderr",
     "output_type": "stream",
     "text": [
      " 91%|█████████████████████████████████████▍   | 811/888 [04:18<00:13,  5.83it/s]"
     ]
    },
    {
     "name": "stdout",
     "output_type": "stream",
     "text": [
      "Image array shape: (350, 512, 512)\n",
      "Output path for .npy file: LUNA16/Luna Output/subset9/1.3.6.1.4.1.14519.5.2.1.6279.6001.765459236550358748053283544075.npy\n",
      "Error saving .npy file for LUNA16/Dataset/subset9/1.3.6.1.4.1.14519.5.2.1.6279.6001.765459236550358748053283544075.mhd: 91750400 requested and 0 written\n",
      "\n",
      "Processing file: LUNA16/Dataset/subset9/1.3.6.1.4.1.14519.5.2.1.6279.6001.292576688635952269497781991202.mhd\n",
      "SeriesUID for current file: 1.3.6.1.4.1.14519.5.2.1.6279.6001.292576688635952269497781991202\n",
      "Found 560 nodes for seriesuid: 1.3.6.1.4.1.14519.5.2.1.6279.6001.292576688635952269497781991202\n",
      "Image array shape: (127, 512, 512)\n",
      "Output path for .npy file: LUNA16/Luna Output/subset9/1.3.6.1.4.1.14519.5.2.1.6279.6001.292576688635952269497781991202.npy\n",
      "Error saving .npy file for LUNA16/Dataset/subset9/1.3.6.1.4.1.14519.5.2.1.6279.6001.292576688635952269497781991202.mhd: 33292288 requested and 0 written\n",
      "\n",
      "Processing file: LUNA16/Dataset/subset9/1.3.6.1.4.1.14519.5.2.1.6279.6001.311476128731958142981941696518.mhd\n",
      "SeriesUID for current file: 1.3.6.1.4.1.14519.5.2.1.6279.6001.311476128731958142981941696518\n",
      "Found 856 nodes for seriesuid: 1.3.6.1.4.1.14519.5.2.1.6279.6001.311476128731958142981941696518\n"
     ]
    },
    {
     "name": "stderr",
     "output_type": "stream",
     "text": [
      "\r",
      " 91%|█████████████████████████████████████▍   | 812/888 [04:18<00:12,  5.96it/s]"
     ]
    },
    {
     "name": "stdout",
     "output_type": "stream",
     "text": [
      "Image array shape: (280, 512, 512)\n",
      "Output path for .npy file: LUNA16/Luna Output/subset9/1.3.6.1.4.1.14519.5.2.1.6279.6001.311476128731958142981941696518.npy\n",
      "Error saving .npy file for LUNA16/Dataset/subset9/1.3.6.1.4.1.14519.5.2.1.6279.6001.311476128731958142981941696518.mhd: 73400320 requested and 0 written\n",
      "\n",
      "Processing file: LUNA16/Dataset/subset9/1.3.6.1.4.1.14519.5.2.1.6279.6001.250481236093201801255751845296.mhd\n",
      "SeriesUID for current file: 1.3.6.1.4.1.14519.5.2.1.6279.6001.250481236093201801255751845296\n",
      "Found 633 nodes for seriesuid: 1.3.6.1.4.1.14519.5.2.1.6279.6001.250481236093201801255751845296\n"
     ]
    },
    {
     "name": "stderr",
     "output_type": "stream",
     "text": [
      "\r",
      " 92%|█████████████████████████████████████▌   | 813/888 [04:19<00:18,  3.97it/s]"
     ]
    },
    {
     "name": "stdout",
     "output_type": "stream",
     "text": [
      "Image array shape: (548, 512, 512)\n",
      "Output path for .npy file: LUNA16/Luna Output/subset9/1.3.6.1.4.1.14519.5.2.1.6279.6001.250481236093201801255751845296.npy\n",
      "Error saving .npy file for LUNA16/Dataset/subset9/1.3.6.1.4.1.14519.5.2.1.6279.6001.250481236093201801255751845296.mhd: 143654912 requested and 0 written\n",
      "\n",
      "Processing file: LUNA16/Dataset/subset9/1.3.6.1.4.1.14519.5.2.1.6279.6001.153985109349433321657655488650.mhd\n",
      "SeriesUID for current file: 1.3.6.1.4.1.14519.5.2.1.6279.6001.153985109349433321657655488650\n",
      "Found 913 nodes for seriesuid: 1.3.6.1.4.1.14519.5.2.1.6279.6001.153985109349433321657655488650\n"
     ]
    },
    {
     "name": "stderr",
     "output_type": "stream",
     "text": [
      "\r",
      " 92%|█████████████████████████████████████▌   | 814/888 [04:19<00:18,  4.05it/s]"
     ]
    },
    {
     "name": "stdout",
     "output_type": "stream",
     "text": [
      "Image array shape: (305, 512, 512)\n",
      "Output path for .npy file: LUNA16/Luna Output/subset9/1.3.6.1.4.1.14519.5.2.1.6279.6001.153985109349433321657655488650.npy\n",
      "Error saving .npy file for LUNA16/Dataset/subset9/1.3.6.1.4.1.14519.5.2.1.6279.6001.153985109349433321657655488650.mhd: 79953920 requested and 0 written\n",
      "\n",
      "Processing file: LUNA16/Dataset/subset9/1.3.6.1.4.1.14519.5.2.1.6279.6001.194632613233275988184244485809.mhd\n",
      "SeriesUID for current file: 1.3.6.1.4.1.14519.5.2.1.6279.6001.194632613233275988184244485809\n",
      "Found 1028 nodes for seriesuid: 1.3.6.1.4.1.14519.5.2.1.6279.6001.194632613233275988184244485809\n",
      "Image array shape: (130, 512, 512)\n",
      "Output path for .npy file: LUNA16/Luna Output/subset9/1.3.6.1.4.1.14519.5.2.1.6279.6001.194632613233275988184244485809.npy\n",
      "Error saving .npy file for LUNA16/Dataset/subset9/1.3.6.1.4.1.14519.5.2.1.6279.6001.194632613233275988184244485809.mhd: 34078720 requested and 0 written\n",
      "\n",
      "Processing file: LUNA16/Dataset/subset9/1.3.6.1.4.1.14519.5.2.1.6279.6001.129650136453746261130135157590.mhd\n",
      "SeriesUID for current file: 1.3.6.1.4.1.14519.5.2.1.6279.6001.129650136453746261130135157590\n",
      "Found 365 nodes for seriesuid: 1.3.6.1.4.1.14519.5.2.1.6279.6001.129650136453746261130135157590\n"
     ]
    },
    {
     "name": "stderr",
     "output_type": "stream",
     "text": [
      "\r",
      " 92%|█████████████████████████████████████▋   | 816/888 [04:19<00:13,  5.43it/s]"
     ]
    },
    {
     "name": "stdout",
     "output_type": "stream",
     "text": [
      "Image array shape: (203, 512, 512)\n",
      "Output path for .npy file: LUNA16/Luna Output/subset9/1.3.6.1.4.1.14519.5.2.1.6279.6001.129650136453746261130135157590.npy\n",
      "Error saving .npy file for LUNA16/Dataset/subset9/1.3.6.1.4.1.14519.5.2.1.6279.6001.129650136453746261130135157590.mhd: 53215232 requested and 0 written\n",
      "\n",
      "Processing file: LUNA16/Dataset/subset9/1.3.6.1.4.1.14519.5.2.1.6279.6001.112767175295249119452142211437.mhd\n",
      "SeriesUID for current file: 1.3.6.1.4.1.14519.5.2.1.6279.6001.112767175295249119452142211437\n",
      "Found 1049 nodes for seriesuid: 1.3.6.1.4.1.14519.5.2.1.6279.6001.112767175295249119452142211437\n",
      "Image array shape: (117, 512, 512)\n",
      "Output path for .npy file: LUNA16/Luna Output/subset9/1.3.6.1.4.1.14519.5.2.1.6279.6001.112767175295249119452142211437.npy\n",
      "Error saving .npy file for LUNA16/Dataset/subset9/1.3.6.1.4.1.14519.5.2.1.6279.6001.112767175295249119452142211437.mhd: 30670848 requested and 0 written\n",
      "\n",
      "Processing file: LUNA16/Dataset/subset9/1.3.6.1.4.1.14519.5.2.1.6279.6001.215785045378334625097907422785.mhd\n",
      "SeriesUID for current file: 1.3.6.1.4.1.14519.5.2.1.6279.6001.215785045378334625097907422785\n",
      "Found 1090 nodes for seriesuid: 1.3.6.1.4.1.14519.5.2.1.6279.6001.215785045378334625097907422785\n"
     ]
    },
    {
     "name": "stderr",
     "output_type": "stream",
     "text": [
      "\r",
      " 92%|█████████████████████████████████████▊   | 818/888 [04:19<00:10,  6.37it/s]"
     ]
    },
    {
     "name": "stdout",
     "output_type": "stream",
     "text": [
      "Image array shape: (290, 512, 512)\n",
      "Output path for .npy file: LUNA16/Luna Output/subset9/1.3.6.1.4.1.14519.5.2.1.6279.6001.215785045378334625097907422785.npy\n",
      "Error saving .npy file for LUNA16/Dataset/subset9/1.3.6.1.4.1.14519.5.2.1.6279.6001.215785045378334625097907422785.mhd: 76021760 requested and 0 written\n",
      "\n",
      "Processing file: LUNA16/Dataset/subset9/1.3.6.1.4.1.14519.5.2.1.6279.6001.109882169963817627559804568094.mhd\n",
      "SeriesUID for current file: 1.3.6.1.4.1.14519.5.2.1.6279.6001.109882169963817627559804568094\n",
      "Found 912 nodes for seriesuid: 1.3.6.1.4.1.14519.5.2.1.6279.6001.109882169963817627559804568094\n"
     ]
    },
    {
     "name": "stderr",
     "output_type": "stream",
     "text": [
      "\r",
      " 92%|█████████████████████████████████████▊   | 819/888 [04:20<00:13,  5.24it/s]"
     ]
    },
    {
     "name": "stdout",
     "output_type": "stream",
     "text": [
      "Image array shape: (468, 512, 512)\n",
      "Output path for .npy file: LUNA16/Luna Output/subset9/1.3.6.1.4.1.14519.5.2.1.6279.6001.109882169963817627559804568094.npy\n",
      "Error saving .npy file for LUNA16/Dataset/subset9/1.3.6.1.4.1.14519.5.2.1.6279.6001.109882169963817627559804568094.mhd: 122683392 requested and 0 written\n",
      "\n",
      "Processing file: LUNA16/Dataset/subset9/1.3.6.1.4.1.14519.5.2.1.6279.6001.392861216720727557882279374324.mhd\n",
      "SeriesUID for current file: 1.3.6.1.4.1.14519.5.2.1.6279.6001.392861216720727557882279374324\n",
      "Found 853 nodes for seriesuid: 1.3.6.1.4.1.14519.5.2.1.6279.6001.392861216720727557882279374324\n"
     ]
    },
    {
     "name": "stderr",
     "output_type": "stream",
     "text": [
      " 92%|█████████████████████████████████████▉   | 821/888 [04:20<00:13,  4.87it/s]"
     ]
    },
    {
     "name": "stdout",
     "output_type": "stream",
     "text": [
      "Image array shape: (436, 512, 512)\n",
      "Output path for .npy file: LUNA16/Luna Output/subset9/1.3.6.1.4.1.14519.5.2.1.6279.6001.392861216720727557882279374324.npy\n",
      "Error saving .npy file for LUNA16/Dataset/subset9/1.3.6.1.4.1.14519.5.2.1.6279.6001.392861216720727557882279374324.mhd: 114294784 requested and 0 written\n",
      "\n",
      "Processing file: LUNA16/Dataset/subset9/1.3.6.1.4.1.14519.5.2.1.6279.6001.237215747217294006286437405216.mhd\n",
      "SeriesUID for current file: 1.3.6.1.4.1.14519.5.2.1.6279.6001.237215747217294006286437405216\n",
      "Found 1029 nodes for seriesuid: 1.3.6.1.4.1.14519.5.2.1.6279.6001.237215747217294006286437405216\n",
      "Image array shape: (250, 512, 512)\n",
      "Output path for .npy file: LUNA16/Luna Output/subset9/1.3.6.1.4.1.14519.5.2.1.6279.6001.237215747217294006286437405216.npy\n",
      "Error saving .npy file for LUNA16/Dataset/subset9/1.3.6.1.4.1.14519.5.2.1.6279.6001.237215747217294006286437405216.mhd: 65536000 requested and 0 written\n",
      "\n",
      "Processing file: LUNA16/Dataset/subset9/1.3.6.1.4.1.14519.5.2.1.6279.6001.603126300703296693942875967838.mhd\n",
      "SeriesUID for current file: 1.3.6.1.4.1.14519.5.2.1.6279.6001.603126300703296693942875967838\n"
     ]
    },
    {
     "name": "stderr",
     "output_type": "stream",
     "text": [
      " 93%|█████████████████████████████████████▉   | 823/888 [04:20<00:10,  6.34it/s]"
     ]
    },
    {
     "name": "stdout",
     "output_type": "stream",
     "text": [
      "Found 1015 nodes for seriesuid: 1.3.6.1.4.1.14519.5.2.1.6279.6001.603126300703296693942875967838\n",
      "Image array shape: (140, 512, 512)\n",
      "Output path for .npy file: LUNA16/Luna Output/subset9/1.3.6.1.4.1.14519.5.2.1.6279.6001.603126300703296693942875967838.npy\n",
      "Error saving .npy file for LUNA16/Dataset/subset9/1.3.6.1.4.1.14519.5.2.1.6279.6001.603126300703296693942875967838.mhd: 36700160 requested and 0 written\n",
      "\n",
      "Processing file: LUNA16/Dataset/subset9/1.3.6.1.4.1.14519.5.2.1.6279.6001.195557219224169985110295082004.mhd\n",
      "SeriesUID for current file: 1.3.6.1.4.1.14519.5.2.1.6279.6001.195557219224169985110295082004\n",
      "Found 513 nodes for seriesuid: 1.3.6.1.4.1.14519.5.2.1.6279.6001.195557219224169985110295082004\n",
      "Image array shape: (238, 512, 512)\n",
      "Output path for .npy file: LUNA16/Luna Output/subset9/1.3.6.1.4.1.14519.5.2.1.6279.6001.195557219224169985110295082004.npy\n",
      "Error saving .npy file for LUNA16/Dataset/subset9/1.3.6.1.4.1.14519.5.2.1.6279.6001.195557219224169985110295082004.mhd: 62390272 requested and 0 written\n",
      "\n",
      "Processing file: LUNA16/Dataset/subset9/1.3.6.1.4.1.14519.5.2.1.6279.6001.167661207884826429102690781600.mhd\n",
      "SeriesUID for current file: 1.3.6.1.4.1.14519.5.2.1.6279.6001.167661207884826429102690781600\n",
      "Found 625 nodes for seriesuid: 1.3.6.1.4.1.14519.5.2.1.6279.6001.167661207884826429102690781600\n"
     ]
    },
    {
     "name": "stderr",
     "output_type": "stream",
     "text": [
      "\r",
      " 93%|██████████████████████████████████████   | 824/888 [04:21<00:10,  5.84it/s]"
     ]
    },
    {
     "name": "stdout",
     "output_type": "stream",
     "text": [
      "Image array shape: (327, 512, 512)\n",
      "Output path for .npy file: LUNA16/Luna Output/subset9/1.3.6.1.4.1.14519.5.2.1.6279.6001.167661207884826429102690781600.npy\n",
      "Error saving .npy file for LUNA16/Dataset/subset9/1.3.6.1.4.1.14519.5.2.1.6279.6001.167661207884826429102690781600.mhd: 85721088 requested and 0 written\n",
      "\n",
      "Processing file: LUNA16/Dataset/subset9/1.3.6.1.4.1.14519.5.2.1.6279.6001.472487466001405705666001578363.mhd\n",
      "SeriesUID for current file: 1.3.6.1.4.1.14519.5.2.1.6279.6001.472487466001405705666001578363\n",
      "Found 518 nodes for seriesuid: 1.3.6.1.4.1.14519.5.2.1.6279.6001.472487466001405705666001578363\n",
      "Image array shape: (135, 512, 512)\n",
      "Output path for .npy file: LUNA16/Luna Output/subset9/1.3.6.1.4.1.14519.5.2.1.6279.6001.472487466001405705666001578363.npy\n",
      "Error saving .npy file for LUNA16/Dataset/subset9/1.3.6.1.4.1.14519.5.2.1.6279.6001.472487466001405705666001578363.mhd: 35389440 requested and 0 written\n",
      "\n",
      "Processing file: LUNA16/Dataset/subset9/1.3.6.1.4.1.14519.5.2.1.6279.6001.145510611155363050427743946446.mhd\n",
      "SeriesUID for current file: 1.3.6.1.4.1.14519.5.2.1.6279.6001.145510611155363050427743946446\n",
      "Found 833 nodes for seriesuid: 1.3.6.1.4.1.14519.5.2.1.6279.6001.145510611155363050427743946446\n"
     ]
    },
    {
     "name": "stderr",
     "output_type": "stream",
     "text": [
      " 93%|██████████████████████████████████████▏  | 827/888 [04:21<00:11,  5.18it/s]"
     ]
    },
    {
     "name": "stdout",
     "output_type": "stream",
     "text": [
      "Image array shape: (567, 512, 512)\n",
      "Output path for .npy file: LUNA16/Luna Output/subset9/1.3.6.1.4.1.14519.5.2.1.6279.6001.145510611155363050427743946446.npy\n",
      "Error saving .npy file for LUNA16/Dataset/subset9/1.3.6.1.4.1.14519.5.2.1.6279.6001.145510611155363050427743946446.mhd: 148635648 requested and 0 written\n",
      "\n",
      "Processing file: LUNA16/Dataset/subset9/1.3.6.1.4.1.14519.5.2.1.6279.6001.170706757615202213033480003264.mhd\n",
      "SeriesUID for current file: 1.3.6.1.4.1.14519.5.2.1.6279.6001.170706757615202213033480003264\n",
      "Found 1040 nodes for seriesuid: 1.3.6.1.4.1.14519.5.2.1.6279.6001.170706757615202213033480003264\n",
      "Image array shape: (140, 512, 512)\n",
      "Output path for .npy file: LUNA16/Luna Output/subset9/1.3.6.1.4.1.14519.5.2.1.6279.6001.170706757615202213033480003264.npy\n",
      "Error saving .npy file for LUNA16/Dataset/subset9/1.3.6.1.4.1.14519.5.2.1.6279.6001.170706757615202213033480003264.mhd: 36700160 requested and 0 written\n",
      "\n",
      "Processing file: LUNA16/Dataset/subset9/1.3.6.1.4.1.14519.5.2.1.6279.6001.712472578497712558367294720243.mhd\n",
      "SeriesUID for current file: 1.3.6.1.4.1.14519.5.2.1.6279.6001.712472578497712558367294720243\n",
      "Found 1666 nodes for seriesuid: 1.3.6.1.4.1.14519.5.2.1.6279.6001.712472578497712558367294720243\n"
     ]
    },
    {
     "name": "stderr",
     "output_type": "stream",
     "text": [
      " 93%|██████████████████████████████████████▎  | 829/888 [04:21<00:10,  5.87it/s]"
     ]
    },
    {
     "name": "stdout",
     "output_type": "stream",
     "text": [
      "Image array shape: (158, 512, 512)\n",
      "Output path for .npy file: LUNA16/Luna Output/subset9/1.3.6.1.4.1.14519.5.2.1.6279.6001.712472578497712558367294720243.npy\n",
      "Error saving .npy file for LUNA16/Dataset/subset9/1.3.6.1.4.1.14519.5.2.1.6279.6001.712472578497712558367294720243.mhd: 41418752 requested and 0 written\n",
      "\n",
      "Processing file: LUNA16/Dataset/subset9/1.3.6.1.4.1.14519.5.2.1.6279.6001.139577698050713461261415990027.mhd\n",
      "SeriesUID for current file: 1.3.6.1.4.1.14519.5.2.1.6279.6001.139577698050713461261415990027\n",
      "Found 925 nodes for seriesuid: 1.3.6.1.4.1.14519.5.2.1.6279.6001.139577698050713461261415990027\n",
      "Image array shape: (330, 512, 512)\n",
      "Output path for .npy file: LUNA16/Luna Output/subset9/1.3.6.1.4.1.14519.5.2.1.6279.6001.139577698050713461261415990027.npy\n",
      "Error saving .npy file for LUNA16/Dataset/subset9/1.3.6.1.4.1.14519.5.2.1.6279.6001.139577698050713461261415990027.mhd: 86507520 requested and 0 written\n",
      "\n",
      "Processing file: LUNA16/Dataset/subset9/1.3.6.1.4.1.14519.5.2.1.6279.6001.174449669706458092793093760291.mhd\n",
      "SeriesUID for current file: 1.3.6.1.4.1.14519.5.2.1.6279.6001.174449669706458092793093760291\n"
     ]
    },
    {
     "name": "stderr",
     "output_type": "stream",
     "text": [
      "\r",
      " 93%|██████████████████████████████████████▎  | 830/888 [04:22<00:09,  6.22it/s]"
     ]
    },
    {
     "name": "stdout",
     "output_type": "stream",
     "text": [
      "Found 1211 nodes for seriesuid: 1.3.6.1.4.1.14519.5.2.1.6279.6001.174449669706458092793093760291\n",
      "Image array shape: (133, 512, 512)\n",
      "Output path for .npy file: LUNA16/Luna Output/subset9/1.3.6.1.4.1.14519.5.2.1.6279.6001.174449669706458092793093760291.npy\n",
      "Error saving .npy file for LUNA16/Dataset/subset9/1.3.6.1.4.1.14519.5.2.1.6279.6001.174449669706458092793093760291.mhd: 34865152 requested and 0 written\n",
      "\n",
      "Processing file: LUNA16/Dataset/subset9/1.3.6.1.4.1.14519.5.2.1.6279.6001.102681962408431413578140925249.mhd\n",
      "SeriesUID for current file: 1.3.6.1.4.1.14519.5.2.1.6279.6001.102681962408431413578140925249\n",
      "Found 620 nodes for seriesuid: 1.3.6.1.4.1.14519.5.2.1.6279.6001.102681962408431413578140925249\n",
      "Image array shape: (143, 512, 512)\n",
      "Output path for .npy file: LUNA16/Luna Output/subset9/1.3.6.1.4.1.14519.5.2.1.6279.6001.102681962408431413578140925249.npy\n",
      "Error saving .npy file for LUNA16/Dataset/subset9/1.3.6.1.4.1.14519.5.2.1.6279.6001.102681962408431413578140925249.mhd: 37486592 requested and 0 written\n",
      "\n",
      "Processing file: LUNA16/Dataset/subset9/1.3.6.1.4.1.14519.5.2.1.6279.6001.306140003699110313373771452136.mhd\n",
      "SeriesUID for current file: 1.3.6.1.4.1.14519.5.2.1.6279.6001.306140003699110313373771452136\n"
     ]
    },
    {
     "name": "stderr",
     "output_type": "stream",
     "text": [
      "\r",
      " 94%|██████████████████████████████████████▍  | 832/888 [04:22<00:06,  8.23it/s]"
     ]
    },
    {
     "name": "stdout",
     "output_type": "stream",
     "text": [
      "Found 809 nodes for seriesuid: 1.3.6.1.4.1.14519.5.2.1.6279.6001.306140003699110313373771452136\n",
      "Image array shape: (121, 512, 512)\n",
      "Output path for .npy file: LUNA16/Luna Output/subset9/1.3.6.1.4.1.14519.5.2.1.6279.6001.306140003699110313373771452136.npy\n",
      "Error saving .npy file for LUNA16/Dataset/subset9/1.3.6.1.4.1.14519.5.2.1.6279.6001.306140003699110313373771452136.mhd: 31719424 requested and 0 written\n",
      "\n",
      "Processing file: LUNA16/Dataset/subset9/1.3.6.1.4.1.14519.5.2.1.6279.6001.328944769569002417592093467626.mhd\n",
      "SeriesUID for current file: 1.3.6.1.4.1.14519.5.2.1.6279.6001.328944769569002417592093467626\n",
      "Found 1081 nodes for seriesuid: 1.3.6.1.4.1.14519.5.2.1.6279.6001.328944769569002417592093467626\n",
      "Image array shape: (113, 512, 512)\n",
      "Output path for .npy file: LUNA16/Luna Output/subset9/1.3.6.1.4.1.14519.5.2.1.6279.6001.328944769569002417592093467626.npy\n",
      "Error saving .npy file for LUNA16/Dataset/subset9/1.3.6.1.4.1.14519.5.2.1.6279.6001.328944769569002417592093467626.mhd: 29622272 requested and 0 written\n",
      "\n",
      "Processing file: LUNA16/Dataset/subset9/1.3.6.1.4.1.14519.5.2.1.6279.6001.765930210026773090100532964804.mhd\n",
      "SeriesUID for current file: 1.3.6.1.4.1.14519.5.2.1.6279.6001.765930210026773090100532964804\n",
      "Found 1178 nodes for seriesuid: 1.3.6.1.4.1.14519.5.2.1.6279.6001.765930210026773090100532964804\n"
     ]
    },
    {
     "name": "stderr",
     "output_type": "stream",
     "text": [
      " 94%|██████████████████████████████████████▌  | 835/888 [04:22<00:07,  7.57it/s]"
     ]
    },
    {
     "name": "stdout",
     "output_type": "stream",
     "text": [
      "Image array shape: (290, 512, 512)\n",
      "Output path for .npy file: LUNA16/Luna Output/subset9/1.3.6.1.4.1.14519.5.2.1.6279.6001.765930210026773090100532964804.npy\n",
      "Error saving .npy file for LUNA16/Dataset/subset9/1.3.6.1.4.1.14519.5.2.1.6279.6001.765930210026773090100532964804.mhd: 76021760 requested and 0 written\n",
      "\n",
      "Processing file: LUNA16/Dataset/subset9/1.3.6.1.4.1.14519.5.2.1.6279.6001.212608679077007918190529579976.mhd\n",
      "SeriesUID for current file: 1.3.6.1.4.1.14519.5.2.1.6279.6001.212608679077007918190529579976\n",
      "Found 1005 nodes for seriesuid: 1.3.6.1.4.1.14519.5.2.1.6279.6001.212608679077007918190529579976\n",
      "Image array shape: (162, 512, 512)\n",
      "Output path for .npy file: LUNA16/Luna Output/subset9/1.3.6.1.4.1.14519.5.2.1.6279.6001.212608679077007918190529579976.npy\n",
      "Error saving .npy file for LUNA16/Dataset/subset9/1.3.6.1.4.1.14519.5.2.1.6279.6001.212608679077007918190529579976.mhd: 42467328 requested and 0 written\n",
      "\n",
      "Processing file: LUNA16/Dataset/subset9/1.3.6.1.4.1.14519.5.2.1.6279.6001.747803439040091794717626507402.mhd\n",
      "SeriesUID for current file: 1.3.6.1.4.1.14519.5.2.1.6279.6001.747803439040091794717626507402\n",
      "Found 1163 nodes for seriesuid: 1.3.6.1.4.1.14519.5.2.1.6279.6001.747803439040091794717626507402\n",
      "Image array shape: (114, 512, 512)\n",
      "Output path for .npy file: LUNA16/Luna Output/subset9/1.3.6.1.4.1.14519.5.2.1.6279.6001.747803439040091794717626507402.npy\n",
      "Error saving .npy file for LUNA16/Dataset/subset9/1.3.6.1.4.1.14519.5.2.1.6279.6001.747803439040091794717626507402.mhd: 29884416 requested and 0 written\n",
      "\n",
      "Processing file: LUNA16/Dataset/subset9/1.3.6.1.4.1.14519.5.2.1.6279.6001.300392272203629213913702120739.mhd\n",
      "SeriesUID for current file: 1.3.6.1.4.1.14519.5.2.1.6279.6001.300392272203629213913702120739\n",
      "Found 550 nodes for seriesuid: 1.3.6.1.4.1.14519.5.2.1.6279.6001.300392272203629213913702120739\n"
     ]
    },
    {
     "name": "stderr",
     "output_type": "stream",
     "text": [
      " 94%|██████████████████████████████████████▋  | 838/888 [04:23<00:08,  6.01it/s]"
     ]
    },
    {
     "name": "stdout",
     "output_type": "stream",
     "text": [
      "Image array shape: (411, 512, 512)\n",
      "Output path for .npy file: LUNA16/Luna Output/subset9/1.3.6.1.4.1.14519.5.2.1.6279.6001.300392272203629213913702120739.npy\n",
      "Error saving .npy file for LUNA16/Dataset/subset9/1.3.6.1.4.1.14519.5.2.1.6279.6001.300392272203629213913702120739.mhd: 107741184 requested and 0 written\n",
      "\n",
      "Processing file: LUNA16/Dataset/subset9/1.3.6.1.4.1.14519.5.2.1.6279.6001.199261544234308780356714831537.mhd\n",
      "SeriesUID for current file: 1.3.6.1.4.1.14519.5.2.1.6279.6001.199261544234308780356714831537\n",
      "Found 807 nodes for seriesuid: 1.3.6.1.4.1.14519.5.2.1.6279.6001.199261544234308780356714831537\n",
      "Image array shape: (225, 512, 512)\n",
      "Output path for .npy file: LUNA16/Luna Output/subset9/1.3.6.1.4.1.14519.5.2.1.6279.6001.199261544234308780356714831537.npy\n",
      "Error saving .npy file for LUNA16/Dataset/subset9/1.3.6.1.4.1.14519.5.2.1.6279.6001.199261544234308780356714831537.mhd: 58982400 requested and 0 written\n",
      "\n",
      "Processing file: LUNA16/Dataset/subset9/1.3.6.1.4.1.14519.5.2.1.6279.6001.771741891125176943862272696845.mhd\n",
      "SeriesUID for current file: 1.3.6.1.4.1.14519.5.2.1.6279.6001.771741891125176943862272696845\n"
     ]
    },
    {
     "name": "stderr",
     "output_type": "stream",
     "text": [
      "\r",
      " 94%|██████████████████████████████████████▋  | 839/888 [04:23<00:07,  6.62it/s]"
     ]
    },
    {
     "name": "stdout",
     "output_type": "stream",
     "text": [
      "Found 883 nodes for seriesuid: 1.3.6.1.4.1.14519.5.2.1.6279.6001.771741891125176943862272696845\n",
      "Image array shape: (172, 512, 512)\n",
      "Output path for .npy file: LUNA16/Luna Output/subset9/1.3.6.1.4.1.14519.5.2.1.6279.6001.771741891125176943862272696845.npy\n",
      "Error saving .npy file for LUNA16/Dataset/subset9/1.3.6.1.4.1.14519.5.2.1.6279.6001.771741891125176943862272696845.mhd: 45088768 requested and 0 written\n",
      "\n",
      "Processing file: LUNA16/Dataset/subset9/1.3.6.1.4.1.14519.5.2.1.6279.6001.148935306123327835217659769212.mhd\n",
      "SeriesUID for current file: 1.3.6.1.4.1.14519.5.2.1.6279.6001.148935306123327835217659769212\n",
      "Found 631 nodes for seriesuid: 1.3.6.1.4.1.14519.5.2.1.6279.6001.148935306123327835217659769212\n"
     ]
    },
    {
     "name": "stderr",
     "output_type": "stream",
     "text": [
      " 95%|██████████████████████████████████████▊  | 841/888 [04:23<00:08,  5.43it/s]"
     ]
    },
    {
     "name": "stdout",
     "output_type": "stream",
     "text": [
      "Image array shape: (477, 512, 512)\n",
      "Output path for .npy file: LUNA16/Luna Output/subset9/1.3.6.1.4.1.14519.5.2.1.6279.6001.148935306123327835217659769212.npy\n",
      "Error saving .npy file for LUNA16/Dataset/subset9/1.3.6.1.4.1.14519.5.2.1.6279.6001.148935306123327835217659769212.mhd: 125042688 requested and 0 written\n",
      "\n",
      "Processing file: LUNA16/Dataset/subset9/1.3.6.1.4.1.14519.5.2.1.6279.6001.733642690503782454656013446707.mhd\n",
      "SeriesUID for current file: 1.3.6.1.4.1.14519.5.2.1.6279.6001.733642690503782454656013446707\n",
      "Found 952 nodes for seriesuid: 1.3.6.1.4.1.14519.5.2.1.6279.6001.733642690503782454656013446707\n",
      "Image array shape: (133, 512, 512)\n",
      "Output path for .npy file: LUNA16/Luna Output/subset9/1.3.6.1.4.1.14519.5.2.1.6279.6001.733642690503782454656013446707.npy\n",
      "Error saving .npy file for LUNA16/Dataset/subset9/1.3.6.1.4.1.14519.5.2.1.6279.6001.733642690503782454656013446707.mhd: 34865152 requested and 0 written\n",
      "\n",
      "Processing file: LUNA16/Dataset/subset9/1.3.6.1.4.1.14519.5.2.1.6279.6001.309901913847714156367981722205.mhd\n",
      "SeriesUID for current file: 1.3.6.1.4.1.14519.5.2.1.6279.6001.309901913847714156367981722205\n",
      "Found 745 nodes for seriesuid: 1.3.6.1.4.1.14519.5.2.1.6279.6001.309901913847714156367981722205\n",
      "Image array shape: (133, 512, 512)\n",
      "Output path for .npy file: LUNA16/Luna Output/subset9/1.3.6.1.4.1.14519.5.2.1.6279.6001.309901913847714156367981722205.npy\n",
      "Error saving .npy file for LUNA16/Dataset/subset9/1.3.6.1.4.1.14519.5.2.1.6279.6001.309901913847714156367981722205.mhd: 34865152 requested and 0 written\n",
      "\n",
      "Processing file: LUNA16/Dataset/subset9/1.3.6.1.4.1.14519.5.2.1.6279.6001.436403998650924660479049012235.mhd\n",
      "SeriesUID for current file: 1.3.6.1.4.1.14519.5.2.1.6279.6001.436403998650924660479049012235\n"
     ]
    },
    {
     "name": "stderr",
     "output_type": "stream",
     "text": [
      " 95%|██████████████████████████████████████▉  | 844/888 [04:24<00:05,  7.73it/s]"
     ]
    },
    {
     "name": "stdout",
     "output_type": "stream",
     "text": [
      "Found 557 nodes for seriesuid: 1.3.6.1.4.1.14519.5.2.1.6279.6001.436403998650924660479049012235\n",
      "Image array shape: (133, 512, 512)\n",
      "Output path for .npy file: LUNA16/Luna Output/subset9/1.3.6.1.4.1.14519.5.2.1.6279.6001.436403998650924660479049012235.npy\n",
      "Error saving .npy file for LUNA16/Dataset/subset9/1.3.6.1.4.1.14519.5.2.1.6279.6001.436403998650924660479049012235.mhd: 34865152 requested and 0 written\n",
      "\n",
      "Processing file: LUNA16/Dataset/subset9/1.3.6.1.4.1.14519.5.2.1.6279.6001.340158437895922179455019686521.mhd\n",
      "SeriesUID for current file: 1.3.6.1.4.1.14519.5.2.1.6279.6001.340158437895922179455019686521\n",
      "Found 724 nodes for seriesuid: 1.3.6.1.4.1.14519.5.2.1.6279.6001.340158437895922179455019686521\n",
      "Image array shape: (171, 512, 512)\n",
      "Output path for .npy file: LUNA16/Luna Output/subset9/1.3.6.1.4.1.14519.5.2.1.6279.6001.340158437895922179455019686521.npy\n",
      "Error saving .npy file for LUNA16/Dataset/subset9/1.3.6.1.4.1.14519.5.2.1.6279.6001.340158437895922179455019686521.mhd: 44826624 requested and 0 written\n",
      "\n",
      "Processing file: LUNA16/Dataset/subset9/1.3.6.1.4.1.14519.5.2.1.6279.6001.227968442353440630355230778531.mhd\n",
      "SeriesUID for current file: 1.3.6.1.4.1.14519.5.2.1.6279.6001.227968442353440630355230778531\n",
      "Found 730 nodes for seriesuid: 1.3.6.1.4.1.14519.5.2.1.6279.6001.227968442353440630355230778531\n"
     ]
    },
    {
     "name": "stderr",
     "output_type": "stream",
     "text": [
      "\r",
      " 95%|███████████████████████████████████████  | 845/888 [04:24<00:06,  6.41it/s]"
     ]
    },
    {
     "name": "stdout",
     "output_type": "stream",
     "text": [
      "Image array shape: (266, 512, 512)\n",
      "Output path for .npy file: LUNA16/Luna Output/subset9/1.3.6.1.4.1.14519.5.2.1.6279.6001.227968442353440630355230778531.npy\n",
      "Error saving .npy file for LUNA16/Dataset/subset9/1.3.6.1.4.1.14519.5.2.1.6279.6001.227968442353440630355230778531.mhd: 69730304 requested and 0 written\n",
      "\n",
      "Processing file: LUNA16/Dataset/subset9/1.3.6.1.4.1.14519.5.2.1.6279.6001.124822907934319930841506266464.mhd\n",
      "SeriesUID for current file: 1.3.6.1.4.1.14519.5.2.1.6279.6001.124822907934319930841506266464\n",
      "Found 1129 nodes for seriesuid: 1.3.6.1.4.1.14519.5.2.1.6279.6001.124822907934319930841506266464\n"
     ]
    },
    {
     "name": "stderr",
     "output_type": "stream",
     "text": [
      "\r",
      " 95%|███████████████████████████████████████  | 846/888 [04:24<00:10,  4.18it/s]"
     ]
    },
    {
     "name": "stdout",
     "output_type": "stream",
     "text": [
      "Image array shape: (536, 512, 512)\n",
      "Output path for .npy file: LUNA16/Luna Output/subset9/1.3.6.1.4.1.14519.5.2.1.6279.6001.124822907934319930841506266464.npy\n",
      "Error saving .npy file for LUNA16/Dataset/subset9/1.3.6.1.4.1.14519.5.2.1.6279.6001.124822907934319930841506266464.mhd: 140509184 requested and 0 written\n",
      "\n",
      "Processing file: LUNA16/Dataset/subset9/1.3.6.1.4.1.14519.5.2.1.6279.6001.265570697208310960298668720669.mhd\n",
      "SeriesUID for current file: 1.3.6.1.4.1.14519.5.2.1.6279.6001.265570697208310960298668720669\n",
      "Found 765 nodes for seriesuid: 1.3.6.1.4.1.14519.5.2.1.6279.6001.265570697208310960298668720669\n"
     ]
    },
    {
     "name": "stderr",
     "output_type": "stream",
     "text": [
      " 95%|███████████████████████████████████████▏ | 848/888 [04:25<00:09,  4.36it/s]"
     ]
    },
    {
     "name": "stdout",
     "output_type": "stream",
     "text": [
      "Image array shape: (420, 512, 512)\n",
      "Output path for .npy file: LUNA16/Luna Output/subset9/1.3.6.1.4.1.14519.5.2.1.6279.6001.265570697208310960298668720669.npy\n",
      "Error saving .npy file for LUNA16/Dataset/subset9/1.3.6.1.4.1.14519.5.2.1.6279.6001.265570697208310960298668720669.mhd: 110100480 requested and 0 written\n",
      "\n",
      "Processing file: LUNA16/Dataset/subset9/1.3.6.1.4.1.14519.5.2.1.6279.6001.300693623747082239407271583452.mhd\n",
      "SeriesUID for current file: 1.3.6.1.4.1.14519.5.2.1.6279.6001.300693623747082239407271583452\n",
      "Found 422 nodes for seriesuid: 1.3.6.1.4.1.14519.5.2.1.6279.6001.300693623747082239407271583452\n",
      "Image array shape: (284, 512, 512)\n",
      "Output path for .npy file: LUNA16/Luna Output/subset9/1.3.6.1.4.1.14519.5.2.1.6279.6001.300693623747082239407271583452.npy\n",
      "Error saving .npy file for LUNA16/Dataset/subset9/1.3.6.1.4.1.14519.5.2.1.6279.6001.300693623747082239407271583452.mhd: 74448896 requested and 0 written\n",
      "\n",
      "Processing file: LUNA16/Dataset/subset9/1.3.6.1.4.1.14519.5.2.1.6279.6001.114914167428485563471327801935.mhd\n",
      "SeriesUID for current file: 1.3.6.1.4.1.14519.5.2.1.6279.6001.114914167428485563471327801935\n",
      "Found 766 nodes for seriesuid: 1.3.6.1.4.1.14519.5.2.1.6279.6001.114914167428485563471327801935\n"
     ]
    },
    {
     "name": "stderr",
     "output_type": "stream",
     "text": [
      "\r",
      " 96%|███████████████████████████████████████▏ | 849/888 [04:25<00:10,  3.68it/s]"
     ]
    },
    {
     "name": "stdout",
     "output_type": "stream",
     "text": [
      "Image array shape: (458, 512, 512)\n",
      "Output path for .npy file: LUNA16/Luna Output/subset9/1.3.6.1.4.1.14519.5.2.1.6279.6001.114914167428485563471327801935.npy\n",
      "Error saving .npy file for LUNA16/Dataset/subset9/1.3.6.1.4.1.14519.5.2.1.6279.6001.114914167428485563471327801935.mhd: 120061952 requested and 0 written\n",
      "\n",
      "Processing file: LUNA16/Dataset/subset9/1.3.6.1.4.1.14519.5.2.1.6279.6001.300270516469599170290456821227.mhd\n",
      "SeriesUID for current file: 1.3.6.1.4.1.14519.5.2.1.6279.6001.300270516469599170290456821227\n",
      "Found 1262 nodes for seriesuid: 1.3.6.1.4.1.14519.5.2.1.6279.6001.300270516469599170290456821227\n"
     ]
    },
    {
     "name": "stderr",
     "output_type": "stream",
     "text": [
      "\r",
      " 96%|███████████████████████████████████████▏ | 850/888 [04:25<00:10,  3.76it/s]"
     ]
    },
    {
     "name": "stdout",
     "output_type": "stream",
     "text": [
      "Image array shape: (376, 512, 512)\n",
      "Output path for .npy file: LUNA16/Luna Output/subset9/1.3.6.1.4.1.14519.5.2.1.6279.6001.300270516469599170290456821227.npy\n",
      "Error saving .npy file for LUNA16/Dataset/subset9/1.3.6.1.4.1.14519.5.2.1.6279.6001.300270516469599170290456821227.mhd: 98566144 requested and 0 written\n",
      "\n",
      "Processing file: LUNA16/Dataset/subset9/1.3.6.1.4.1.14519.5.2.1.6279.6001.340012777775661021262977442176.mhd\n",
      "SeriesUID for current file: 1.3.6.1.4.1.14519.5.2.1.6279.6001.340012777775661021262977442176\n",
      "Found 948 nodes for seriesuid: 1.3.6.1.4.1.14519.5.2.1.6279.6001.340012777775661021262977442176\n",
      "Image array shape: (133, 512, 512)\n",
      "Output path for .npy file: LUNA16/Luna Output/subset9/1.3.6.1.4.1.14519.5.2.1.6279.6001.340012777775661021262977442176.npy\n",
      "Error saving .npy file for LUNA16/Dataset/subset9/1.3.6.1.4.1.14519.5.2.1.6279.6001.340012777775661021262977442176.mhd: 34865152 requested and 0 written\n",
      "\n",
      "Processing file: LUNA16/Dataset/subset9/1.3.6.1.4.1.14519.5.2.1.6279.6001.291156498203266896953765649282.mhd\n",
      "SeriesUID for current file: 1.3.6.1.4.1.14519.5.2.1.6279.6001.291156498203266896953765649282\n",
      "Found 642 nodes for seriesuid: 1.3.6.1.4.1.14519.5.2.1.6279.6001.291156498203266896953765649282\n"
     ]
    },
    {
     "name": "stderr",
     "output_type": "stream",
     "text": [
      " 96%|███████████████████████████████████████▍ | 853/888 [04:26<00:06,  5.43it/s]"
     ]
    },
    {
     "name": "stdout",
     "output_type": "stream",
     "text": [
      "Image array shape: (153, 512, 512)\n",
      "Output path for .npy file: LUNA16/Luna Output/subset9/1.3.6.1.4.1.14519.5.2.1.6279.6001.291156498203266896953765649282.npy\n",
      "Error saving .npy file for LUNA16/Dataset/subset9/1.3.6.1.4.1.14519.5.2.1.6279.6001.291156498203266896953765649282.mhd: 40108032 requested and 0 written\n",
      "\n",
      "Processing file: LUNA16/Dataset/subset9/1.3.6.1.4.1.14519.5.2.1.6279.6001.440226700369921575481834344455.mhd\n",
      "SeriesUID for current file: 1.3.6.1.4.1.14519.5.2.1.6279.6001.440226700369921575481834344455\n",
      "Found 1584 nodes for seriesuid: 1.3.6.1.4.1.14519.5.2.1.6279.6001.440226700369921575481834344455\n",
      "Image array shape: (187, 512, 512)\n",
      "Output path for .npy file: LUNA16/Luna Output/subset9/1.3.6.1.4.1.14519.5.2.1.6279.6001.440226700369921575481834344455.npy\n",
      "Error saving .npy file for LUNA16/Dataset/subset9/1.3.6.1.4.1.14519.5.2.1.6279.6001.440226700369921575481834344455.mhd: 49020928 requested and 0 written\n",
      "\n",
      "Processing file: LUNA16/Dataset/subset9/1.3.6.1.4.1.14519.5.2.1.6279.6001.150097650621090951325113116280.mhd\n",
      "SeriesUID for current file: 1.3.6.1.4.1.14519.5.2.1.6279.6001.150097650621090951325113116280\n",
      "Found 908 nodes for seriesuid: 1.3.6.1.4.1.14519.5.2.1.6279.6001.150097650621090951325113116280\n",
      "Image array shape: (115, 512, 512)\n",
      "Output path for .npy file: LUNA16/Luna Output/subset9/1.3.6.1.4.1.14519.5.2.1.6279.6001.150097650621090951325113116280.npy\n",
      "Error saving .npy file for LUNA16/Dataset/subset9/1.3.6.1.4.1.14519.5.2.1.6279.6001.150097650621090951325113116280.mhd: 30146560 requested and 0 written\n",
      "\n",
      "Processing file: LUNA16/Dataset/subset9/1.3.6.1.4.1.14519.5.2.1.6279.6001.292994770358625142596171316474.mhd\n",
      "SeriesUID for current file: 1.3.6.1.4.1.14519.5.2.1.6279.6001.292994770358625142596171316474\n",
      "Found 604 nodes for seriesuid: 1.3.6.1.4.1.14519.5.2.1.6279.6001.292994770358625142596171316474\n",
      "Image array shape: (270, 512, 512)\n",
      "Output path for .npy file: LUNA16/Luna Output/subset9/1.3.6.1.4.1.14519.5.2.1.6279.6001.292994770358625142596171316474.npy\n"
     ]
    },
    {
     "name": "stderr",
     "output_type": "stream",
     "text": [
      " 96%|███████████████████████████████████████▌ | 856/888 [04:26<00:04,  6.52it/s]"
     ]
    },
    {
     "name": "stdout",
     "output_type": "stream",
     "text": [
      "Error saving .npy file for LUNA16/Dataset/subset9/1.3.6.1.4.1.14519.5.2.1.6279.6001.292994770358625142596171316474.mhd: 70778880 requested and 0 written\n",
      "\n",
      "Processing file: LUNA16/Dataset/subset9/1.3.6.1.4.1.14519.5.2.1.6279.6001.215104063467523905369326175410.mhd\n",
      "SeriesUID for current file: 1.3.6.1.4.1.14519.5.2.1.6279.6001.215104063467523905369326175410\n",
      "Found 791 nodes for seriesuid: 1.3.6.1.4.1.14519.5.2.1.6279.6001.215104063467523905369326175410\n",
      "Image array shape: (127, 512, 512)\n",
      "Output path for .npy file: LUNA16/Luna Output/subset9/1.3.6.1.4.1.14519.5.2.1.6279.6001.215104063467523905369326175410.npy\n",
      "Saved: LUNA16/Luna Output/subset9/1.3.6.1.4.1.14519.5.2.1.6279.6001.215104063467523905369326175410.npy\n",
      "\n",
      "Processing file: LUNA16/Dataset/subset9/1.3.6.1.4.1.14519.5.2.1.6279.6001.193964947698259739624715468431.mhd\n",
      "SeriesUID for current file: 1.3.6.1.4.1.14519.5.2.1.6279.6001.193964947698259739624715468431\n",
      "Found 850 nodes for seriesuid: 1.3.6.1.4.1.14519.5.2.1.6279.6001.193964947698259739624715468431\n"
     ]
    },
    {
     "name": "stderr",
     "output_type": "stream",
     "text": [
      "\r",
      " 97%|███████████████████████████████████████▌ | 857/888 [04:27<00:06,  4.89it/s]"
     ]
    },
    {
     "name": "stdout",
     "output_type": "stream",
     "text": [
      "Image array shape: (461, 512, 512)\n",
      "Output path for .npy file: LUNA16/Luna Output/subset9/1.3.6.1.4.1.14519.5.2.1.6279.6001.193964947698259739624715468431.npy\n",
      "Error saving .npy file for LUNA16/Dataset/subset9/1.3.6.1.4.1.14519.5.2.1.6279.6001.193964947698259739624715468431.mhd: 120848384 requested and 0 written\n",
      "\n",
      "Processing file: LUNA16/Dataset/subset9/1.3.6.1.4.1.14519.5.2.1.6279.6001.268030488196493755113553009785.mhd\n",
      "SeriesUID for current file: 1.3.6.1.4.1.14519.5.2.1.6279.6001.268030488196493755113553009785\n",
      "Found 547 nodes for seriesuid: 1.3.6.1.4.1.14519.5.2.1.6279.6001.268030488196493755113553009785\n"
     ]
    },
    {
     "name": "stderr",
     "output_type": "stream",
     "text": [
      "\r",
      " 97%|███████████████████████████████████████▌ | 858/888 [04:27<00:07,  4.04it/s]"
     ]
    },
    {
     "name": "stdout",
     "output_type": "stream",
     "text": [
      "Image array shape: (445, 512, 512)\n",
      "Output path for .npy file: LUNA16/Luna Output/subset9/1.3.6.1.4.1.14519.5.2.1.6279.6001.268030488196493755113553009785.npy\n",
      "Error saving .npy file for LUNA16/Dataset/subset9/1.3.6.1.4.1.14519.5.2.1.6279.6001.268030488196493755113553009785.mhd: 116654080 requested and 0 written\n",
      "\n",
      "Processing file: LUNA16/Dataset/subset9/1.3.6.1.4.1.14519.5.2.1.6279.6001.337005960787660957389988207064.mhd\n",
      "SeriesUID for current file: 1.3.6.1.4.1.14519.5.2.1.6279.6001.337005960787660957389988207064\n",
      "Found 796 nodes for seriesuid: 1.3.6.1.4.1.14519.5.2.1.6279.6001.337005960787660957389988207064\n",
      "Image array shape: (261, 512, 512)\n"
     ]
    },
    {
     "name": "stderr",
     "output_type": "stream",
     "text": [
      " 97%|███████████████████████████████████████▋ | 860/888 [04:27<00:06,  4.61it/s]"
     ]
    },
    {
     "name": "stdout",
     "output_type": "stream",
     "text": [
      "Output path for .npy file: LUNA16/Luna Output/subset9/1.3.6.1.4.1.14519.5.2.1.6279.6001.337005960787660957389988207064.npy\n",
      "Error saving .npy file for LUNA16/Dataset/subset9/1.3.6.1.4.1.14519.5.2.1.6279.6001.337005960787660957389988207064.mhd: 68419584 requested and 0 written\n",
      "\n",
      "Processing file: LUNA16/Dataset/subset9/1.3.6.1.4.1.14519.5.2.1.6279.6001.558286136379689377915919180358.mhd\n",
      "SeriesUID for current file: 1.3.6.1.4.1.14519.5.2.1.6279.6001.558286136379689377915919180358\n",
      "Found 792 nodes for seriesuid: 1.3.6.1.4.1.14519.5.2.1.6279.6001.558286136379689377915919180358\n",
      "Image array shape: (241, 512, 512)\n",
      "Output path for .npy file: LUNA16/Luna Output/subset9/1.3.6.1.4.1.14519.5.2.1.6279.6001.558286136379689377915919180358.npy\n",
      "Error saving .npy file for LUNA16/Dataset/subset9/1.3.6.1.4.1.14519.5.2.1.6279.6001.558286136379689377915919180358.mhd: 63176704 requested and 0 written\n",
      "\n",
      "Processing file: LUNA16/Dataset/subset9/1.3.6.1.4.1.14519.5.2.1.6279.6001.254929810944557499537650429296.mhd\n",
      "SeriesUID for current file: 1.3.6.1.4.1.14519.5.2.1.6279.6001.254929810944557499537650429296\n",
      "Found 924 nodes for seriesuid: 1.3.6.1.4.1.14519.5.2.1.6279.6001.254929810944557499537650429296\n"
     ]
    },
    {
     "name": "stderr",
     "output_type": "stream",
     "text": [
      " 97%|███████████████████████████████████████▊ | 862/888 [04:28<00:05,  4.70it/s]"
     ]
    },
    {
     "name": "stdout",
     "output_type": "stream",
     "text": [
      "Image array shape: (471, 512, 512)\n",
      "Output path for .npy file: LUNA16/Luna Output/subset9/1.3.6.1.4.1.14519.5.2.1.6279.6001.254929810944557499537650429296.npy\n",
      "Error saving .npy file for LUNA16/Dataset/subset9/1.3.6.1.4.1.14519.5.2.1.6279.6001.254929810944557499537650429296.mhd: 123469824 requested and 0 written\n",
      "\n",
      "Processing file: LUNA16/Dataset/subset9/1.3.6.1.4.1.14519.5.2.1.6279.6001.173931884906244951746140865701.mhd\n",
      "SeriesUID for current file: 1.3.6.1.4.1.14519.5.2.1.6279.6001.173931884906244951746140865701\n",
      "Found 887 nodes for seriesuid: 1.3.6.1.4.1.14519.5.2.1.6279.6001.173931884906244951746140865701\n",
      "Image array shape: (230, 512, 512)\n",
      "Output path for .npy file: LUNA16/Luna Output/subset9/1.3.6.1.4.1.14519.5.2.1.6279.6001.173931884906244951746140865701.npy\n",
      "Error saving .npy file for LUNA16/Dataset/subset9/1.3.6.1.4.1.14519.5.2.1.6279.6001.173931884906244951746140865701.mhd: 60293120 requested and 0 written\n",
      "\n",
      "Processing file: LUNA16/Dataset/subset9/1.3.6.1.4.1.14519.5.2.1.6279.6001.121108220866971173712229588402.mhd\n",
      "SeriesUID for current file: 1.3.6.1.4.1.14519.5.2.1.6279.6001.121108220866971173712229588402\n",
      "Found 1348 nodes for seriesuid: 1.3.6.1.4.1.14519.5.2.1.6279.6001.121108220866971173712229588402\n"
     ]
    },
    {
     "name": "stderr",
     "output_type": "stream",
     "text": [
      "\r",
      " 97%|███████████████████████████████████████▊ | 863/888 [04:28<00:04,  5.14it/s]"
     ]
    },
    {
     "name": "stdout",
     "output_type": "stream",
     "text": [
      "Image array shape: (270, 512, 512)\n",
      "Output path for .npy file: LUNA16/Luna Output/subset9/1.3.6.1.4.1.14519.5.2.1.6279.6001.121108220866971173712229588402.npy\n",
      "Error saving .npy file for LUNA16/Dataset/subset9/1.3.6.1.4.1.14519.5.2.1.6279.6001.121108220866971173712229588402.mhd: 70778880 requested and 0 written\n",
      "\n",
      "Processing file: LUNA16/Dataset/subset9/1.3.6.1.4.1.14519.5.2.1.6279.6001.188619674701053082195613114069.mhd\n",
      "SeriesUID for current file: 1.3.6.1.4.1.14519.5.2.1.6279.6001.188619674701053082195613114069\n",
      "Found 779 nodes for seriesuid: 1.3.6.1.4.1.14519.5.2.1.6279.6001.188619674701053082195613114069\n"
     ]
    },
    {
     "name": "stderr",
     "output_type": "stream",
     "text": [
      " 97%|███████████████████████████████████████▉ | 865/888 [04:28<00:04,  4.86it/s]"
     ]
    },
    {
     "name": "stdout",
     "output_type": "stream",
     "text": [
      "Image array shape: (320, 512, 512)\n",
      "Output path for .npy file: LUNA16/Luna Output/subset9/1.3.6.1.4.1.14519.5.2.1.6279.6001.188619674701053082195613114069.npy\n",
      "Error saving .npy file for LUNA16/Dataset/subset9/1.3.6.1.4.1.14519.5.2.1.6279.6001.188619674701053082195613114069.mhd: 83886080 requested and 0 written\n",
      "\n",
      "Processing file: LUNA16/Dataset/subset9/1.3.6.1.4.1.14519.5.2.1.6279.6001.927394449308471452920270961822.mhd\n",
      "SeriesUID for current file: 1.3.6.1.4.1.14519.5.2.1.6279.6001.927394449308471452920270961822\n",
      "Found 648 nodes for seriesuid: 1.3.6.1.4.1.14519.5.2.1.6279.6001.927394449308471452920270961822\n",
      "Image array shape: (248, 512, 512)\n",
      "Output path for .npy file: LUNA16/Luna Output/subset9/1.3.6.1.4.1.14519.5.2.1.6279.6001.927394449308471452920270961822.npy\n",
      "Error saving .npy file for LUNA16/Dataset/subset9/1.3.6.1.4.1.14519.5.2.1.6279.6001.927394449308471452920270961822.mhd: 65011712 requested and 0 written\n",
      "\n",
      "Processing file: LUNA16/Dataset/subset9/1.3.6.1.4.1.14519.5.2.1.6279.6001.222052723822248889877676736332.mhd\n",
      "SeriesUID for current file: 1.3.6.1.4.1.14519.5.2.1.6279.6001.222052723822248889877676736332\n",
      "Found 677 nodes for seriesuid: 1.3.6.1.4.1.14519.5.2.1.6279.6001.222052723822248889877676736332\n"
     ]
    },
    {
     "name": "stderr",
     "output_type": "stream",
     "text": [
      " 98%|████████████████████████████████████████ | 867/888 [04:29<00:04,  4.35it/s]"
     ]
    },
    {
     "name": "stdout",
     "output_type": "stream",
     "text": [
      "Image array shape: (481, 512, 512)\n",
      "Output path for .npy file: LUNA16/Luna Output/subset9/1.3.6.1.4.1.14519.5.2.1.6279.6001.222052723822248889877676736332.npy\n",
      "Error saving .npy file for LUNA16/Dataset/subset9/1.3.6.1.4.1.14519.5.2.1.6279.6001.222052723822248889877676736332.mhd: 126091264 requested and 0 written\n",
      "\n",
      "Processing file: LUNA16/Dataset/subset9/1.3.6.1.4.1.14519.5.2.1.6279.6001.229096941293122177107846044795.mhd\n",
      "SeriesUID for current file: 1.3.6.1.4.1.14519.5.2.1.6279.6001.229096941293122177107846044795\n",
      "Found 999 nodes for seriesuid: 1.3.6.1.4.1.14519.5.2.1.6279.6001.229096941293122177107846044795\n",
      "Image array shape: (186, 512, 512)\n",
      "Output path for .npy file: LUNA16/Luna Output/subset9/1.3.6.1.4.1.14519.5.2.1.6279.6001.229096941293122177107846044795.npy\n",
      "Error saving .npy file for LUNA16/Dataset/subset9/1.3.6.1.4.1.14519.5.2.1.6279.6001.229096941293122177107846044795.mhd: 48758784 requested and 0 written\n",
      "\n",
      "Processing file: LUNA16/Dataset/subset9/1.3.6.1.4.1.14519.5.2.1.6279.6001.237915456403882324748189195892.mhd\n",
      "SeriesUID for current file: 1.3.6.1.4.1.14519.5.2.1.6279.6001.237915456403882324748189195892\n"
     ]
    },
    {
     "name": "stderr",
     "output_type": "stream",
     "text": [
      "\r",
      " 98%|████████████████████████████████████████ | 868/888 [04:29<00:03,  5.14it/s]"
     ]
    },
    {
     "name": "stdout",
     "output_type": "stream",
     "text": [
      "Found 633 nodes for seriesuid: 1.3.6.1.4.1.14519.5.2.1.6279.6001.237915456403882324748189195892\n",
      "Image array shape: (122, 512, 512)\n",
      "Output path for .npy file: LUNA16/Luna Output/subset9/1.3.6.1.4.1.14519.5.2.1.6279.6001.237915456403882324748189195892.npy\n",
      "Error saving .npy file for LUNA16/Dataset/subset9/1.3.6.1.4.1.14519.5.2.1.6279.6001.237915456403882324748189195892.mhd: 31981568 requested and 0 written\n",
      "\n",
      "Processing file: LUNA16/Dataset/subset9/1.3.6.1.4.1.14519.5.2.1.6279.6001.138674679709964033277400089532.mhd\n",
      "SeriesUID for current file: 1.3.6.1.4.1.14519.5.2.1.6279.6001.138674679709964033277400089532\n",
      "Found 1378 nodes for seriesuid: 1.3.6.1.4.1.14519.5.2.1.6279.6001.138674679709964033277400089532\n",
      "Image array shape: (132, 512, 512)\n",
      "Output path for .npy file: LUNA16/Luna Output/subset9/1.3.6.1.4.1.14519.5.2.1.6279.6001.138674679709964033277400089532.npy\n",
      "Error saving .npy file for LUNA16/Dataset/subset9/1.3.6.1.4.1.14519.5.2.1.6279.6001.138674679709964033277400089532.mhd: 34603008 requested and 0 written\n",
      "\n",
      "Processing file: LUNA16/Dataset/subset9/1.3.6.1.4.1.14519.5.2.1.6279.6001.121805476976020513950614465787.mhd\n",
      "SeriesUID for current file: 1.3.6.1.4.1.14519.5.2.1.6279.6001.121805476976020513950614465787\n",
      "Found 833 nodes for seriesuid: 1.3.6.1.4.1.14519.5.2.1.6279.6001.121805476976020513950614465787\n"
     ]
    },
    {
     "name": "stderr",
     "output_type": "stream",
     "text": [
      "\r",
      " 98%|████████████████████████████████████████▏| 870/888 [04:29<00:02,  7.05it/s]"
     ]
    },
    {
     "name": "stdout",
     "output_type": "stream",
     "text": [
      "Image array shape: (120, 512, 512)\n",
      "Output path for .npy file: LUNA16/Luna Output/subset9/1.3.6.1.4.1.14519.5.2.1.6279.6001.121805476976020513950614465787.npy\n",
      "Error saving .npy file for LUNA16/Dataset/subset9/1.3.6.1.4.1.14519.5.2.1.6279.6001.121805476976020513950614465787.mhd: 31457280 requested and 0 written\n",
      "\n",
      "Processing file: LUNA16/Dataset/subset9/1.3.6.1.4.1.14519.5.2.1.6279.6001.330043769832606379655473292782.mhd\n",
      "SeriesUID for current file: 1.3.6.1.4.1.14519.5.2.1.6279.6001.330043769832606379655473292782\n",
      "Found 508 nodes for seriesuid: 1.3.6.1.4.1.14519.5.2.1.6279.6001.330043769832606379655473292782\n",
      "Image array shape: (326, 512, 512)\n",
      "Output path for .npy file: LUNA16/Luna Output/subset9/1.3.6.1.4.1.14519.5.2.1.6279.6001.330043769832606379655473292782.npy\n"
     ]
    },
    {
     "name": "stderr",
     "output_type": "stream",
     "text": [
      "\r",
      " 98%|████████████████████████████████████████▏| 871/888 [04:29<00:02,  6.38it/s]"
     ]
    },
    {
     "name": "stdout",
     "output_type": "stream",
     "text": [
      "Error saving .npy file for LUNA16/Dataset/subset9/1.3.6.1.4.1.14519.5.2.1.6279.6001.330043769832606379655473292782.mhd: 85458944 requested and 0 written\n",
      "\n",
      "Processing file: LUNA16/Dataset/subset9/1.3.6.1.4.1.14519.5.2.1.6279.6001.196251645377731223510086726530.mhd\n",
      "SeriesUID for current file: 1.3.6.1.4.1.14519.5.2.1.6279.6001.196251645377731223510086726530\n",
      "Found 920 nodes for seriesuid: 1.3.6.1.4.1.14519.5.2.1.6279.6001.196251645377731223510086726530\n"
     ]
    },
    {
     "name": "stderr",
     "output_type": "stream",
     "text": [
      " 98%|████████████████████████████████████████▎| 873/888 [04:30<00:03,  4.82it/s]"
     ]
    },
    {
     "name": "stdout",
     "output_type": "stream",
     "text": [
      "Image array shape: (541, 512, 512)\n",
      "Output path for .npy file: LUNA16/Luna Output/subset9/1.3.6.1.4.1.14519.5.2.1.6279.6001.196251645377731223510086726530.npy\n",
      "Error saving .npy file for LUNA16/Dataset/subset9/1.3.6.1.4.1.14519.5.2.1.6279.6001.196251645377731223510086726530.mhd: 141819904 requested and 0 written\n",
      "\n",
      "Processing file: LUNA16/Dataset/subset9/1.3.6.1.4.1.14519.5.2.1.6279.6001.286061375572911414226912429210.mhd\n",
      "SeriesUID for current file: 1.3.6.1.4.1.14519.5.2.1.6279.6001.286061375572911414226912429210\n",
      "Found 389 nodes for seriesuid: 1.3.6.1.4.1.14519.5.2.1.6279.6001.286061375572911414226912429210\n",
      "Image array shape: (256, 512, 512)\n",
      "Output path for .npy file: LUNA16/Luna Output/subset9/1.3.6.1.4.1.14519.5.2.1.6279.6001.286061375572911414226912429210.npy\n",
      "Error saving .npy file for LUNA16/Dataset/subset9/1.3.6.1.4.1.14519.5.2.1.6279.6001.286061375572911414226912429210.mhd: 67108864 requested and 0 written\n",
      "\n",
      "Processing file: LUNA16/Dataset/subset9/1.3.6.1.4.1.14519.5.2.1.6279.6001.334166493392278943610545989413.mhd\n",
      "SeriesUID for current file: 1.3.6.1.4.1.14519.5.2.1.6279.6001.334166493392278943610545989413\n"
     ]
    },
    {
     "name": "stderr",
     "output_type": "stream",
     "text": [
      "\r",
      " 98%|████████████████████████████████████████▎| 874/888 [04:30<00:02,  5.19it/s]"
     ]
    },
    {
     "name": "stdout",
     "output_type": "stream",
     "text": [
      "Found 439 nodes for seriesuid: 1.3.6.1.4.1.14519.5.2.1.6279.6001.334166493392278943610545989413\n",
      "Image array shape: (229, 512, 512)\n",
      "Output path for .npy file: LUNA16/Luna Output/subset9/1.3.6.1.4.1.14519.5.2.1.6279.6001.334166493392278943610545989413.npy\n",
      "Error saving .npy file for LUNA16/Dataset/subset9/1.3.6.1.4.1.14519.5.2.1.6279.6001.334166493392278943610545989413.mhd: 60030976 requested and 0 written\n",
      "\n",
      "Processing file: LUNA16/Dataset/subset9/1.3.6.1.4.1.14519.5.2.1.6279.6001.312127933722985204808706697221.mhd\n",
      "SeriesUID for current file: 1.3.6.1.4.1.14519.5.2.1.6279.6001.312127933722985204808706697221\n",
      "Found 434 nodes for seriesuid: 1.3.6.1.4.1.14519.5.2.1.6279.6001.312127933722985204808706697221\n"
     ]
    },
    {
     "name": "stderr",
     "output_type": "stream",
     "text": [
      "\r",
      " 99%|████████████████████████████████████████▍| 876/888 [04:30<00:01,  6.99it/s]"
     ]
    },
    {
     "name": "stdout",
     "output_type": "stream",
     "text": [
      "Image array shape: (205, 512, 512)\n",
      "Output path for .npy file: LUNA16/Luna Output/subset9/1.3.6.1.4.1.14519.5.2.1.6279.6001.312127933722985204808706697221.npy\n",
      "Error saving .npy file for LUNA16/Dataset/subset9/1.3.6.1.4.1.14519.5.2.1.6279.6001.312127933722985204808706697221.mhd: 53739520 requested and 0 written\n",
      "\n",
      "Processing file: LUNA16/Dataset/subset9/1.3.6.1.4.1.14519.5.2.1.6279.6001.176869045992276345870480098568.mhd\n",
      "SeriesUID for current file: 1.3.6.1.4.1.14519.5.2.1.6279.6001.176869045992276345870480098568\n",
      "Found 1105 nodes for seriesuid: 1.3.6.1.4.1.14519.5.2.1.6279.6001.176869045992276345870480098568\n",
      "Image array shape: (119, 512, 512)\n",
      "Output path for .npy file: LUNA16/Luna Output/subset9/1.3.6.1.4.1.14519.5.2.1.6279.6001.176869045992276345870480098568.npy\n",
      "Error saving .npy file for LUNA16/Dataset/subset9/1.3.6.1.4.1.14519.5.2.1.6279.6001.176869045992276345870480098568.mhd: 31195136 requested and 0 written\n",
      "\n",
      "Processing file: LUNA16/Dataset/subset9/1.3.6.1.4.1.14519.5.2.1.6279.6001.855232435861303786204450738044.mhd\n",
      "SeriesUID for current file: 1.3.6.1.4.1.14519.5.2.1.6279.6001.855232435861303786204450738044\n",
      "Found 552 nodes for seriesuid: 1.3.6.1.4.1.14519.5.2.1.6279.6001.855232435861303786204450738044\n",
      "Image array shape: (125, 512, 512)\n",
      "Output path for .npy file: LUNA16/Luna Output/subset9/1.3.6.1.4.1.14519.5.2.1.6279.6001.855232435861303786204450738044.npy\n",
      "Error saving .npy file for LUNA16/Dataset/subset9/1.3.6.1.4.1.14519.5.2.1.6279.6001.855232435861303786204450738044.mhd: 32768000 requested and 0 written\n",
      "\n",
      "Processing file: LUNA16/Dataset/subset9/1.3.6.1.4.1.14519.5.2.1.6279.6001.179683407589764683292800449011.mhd\n",
      "SeriesUID for current file: 1.3.6.1.4.1.14519.5.2.1.6279.6001.179683407589764683292800449011\n",
      "Found 464 nodes for seriesuid: 1.3.6.1.4.1.14519.5.2.1.6279.6001.179683407589764683292800449011\n"
     ]
    },
    {
     "name": "stderr",
     "output_type": "stream",
     "text": [
      "\r",
      " 99%|████████████████████████████████████████▌| 878/888 [04:31<00:01,  6.96it/s]"
     ]
    },
    {
     "name": "stdout",
     "output_type": "stream",
     "text": [
      "Image array shape: (275, 512, 512)\n",
      "Output path for .npy file: LUNA16/Luna Output/subset9/1.3.6.1.4.1.14519.5.2.1.6279.6001.179683407589764683292800449011.npy\n",
      "Error saving .npy file for LUNA16/Dataset/subset9/1.3.6.1.4.1.14519.5.2.1.6279.6001.179683407589764683292800449011.mhd: 72089600 requested and 0 written\n",
      "\n",
      "Processing file: LUNA16/Dataset/subset9/1.3.6.1.4.1.14519.5.2.1.6279.6001.229960820686439513664996214638.mhd\n",
      "SeriesUID for current file: 1.3.6.1.4.1.14519.5.2.1.6279.6001.229960820686439513664996214638\n",
      "Found 694 nodes for seriesuid: 1.3.6.1.4.1.14519.5.2.1.6279.6001.229960820686439513664996214638\n"
     ]
    },
    {
     "name": "stderr",
     "output_type": "stream",
     "text": [
      "\r",
      " 99%|████████████████████████████████████████▌| 879/888 [04:31<00:01,  5.00it/s]"
     ]
    },
    {
     "name": "stdout",
     "output_type": "stream",
     "text": [
      "Image array shape: (490, 512, 512)\n",
      "Output path for .npy file: LUNA16/Luna Output/subset9/1.3.6.1.4.1.14519.5.2.1.6279.6001.229960820686439513664996214638.npy\n",
      "Error saving .npy file for LUNA16/Dataset/subset9/1.3.6.1.4.1.14519.5.2.1.6279.6001.229960820686439513664996214638.mhd: 128450560 requested and 0 written\n",
      "\n",
      "Processing file: LUNA16/Dataset/subset9/1.3.6.1.4.1.14519.5.2.1.6279.6001.182192086929819295877506541021.mhd\n",
      "SeriesUID for current file: 1.3.6.1.4.1.14519.5.2.1.6279.6001.182192086929819295877506541021\n",
      "Found 1463 nodes for seriesuid: 1.3.6.1.4.1.14519.5.2.1.6279.6001.182192086929819295877506541021\n"
     ]
    },
    {
     "name": "stderr",
     "output_type": "stream",
     "text": [
      " 99%|████████████████████████████████████████▋| 881/888 [04:31<00:01,  4.58it/s]"
     ]
    },
    {
     "name": "stdout",
     "output_type": "stream",
     "text": [
      "Image array shape: (481, 512, 512)\n",
      "Output path for .npy file: LUNA16/Luna Output/subset9/1.3.6.1.4.1.14519.5.2.1.6279.6001.182192086929819295877506541021.npy\n",
      "Error saving .npy file for LUNA16/Dataset/subset9/1.3.6.1.4.1.14519.5.2.1.6279.6001.182192086929819295877506541021.mhd: 126091264 requested and 0 written\n",
      "\n",
      "Processing file: LUNA16/Dataset/subset9/1.3.6.1.4.1.14519.5.2.1.6279.6001.141345499716190654505508410197.mhd\n",
      "SeriesUID for current file: 1.3.6.1.4.1.14519.5.2.1.6279.6001.141345499716190654505508410197\n",
      "Found 810 nodes for seriesuid: 1.3.6.1.4.1.14519.5.2.1.6279.6001.141345499716190654505508410197\n",
      "Image array shape: (257, 512, 512)\n",
      "Output path for .npy file: LUNA16/Luna Output/subset9/1.3.6.1.4.1.14519.5.2.1.6279.6001.141345499716190654505508410197.npy\n",
      "Error saving .npy file for LUNA16/Dataset/subset9/1.3.6.1.4.1.14519.5.2.1.6279.6001.141345499716190654505508410197.mhd: 67371008 requested and 0 written\n",
      "\n",
      "Processing file: LUNA16/Dataset/subset9/1.3.6.1.4.1.14519.5.2.1.6279.6001.124656777236468248920498636247.mhd\n",
      "SeriesUID for current file: 1.3.6.1.4.1.14519.5.2.1.6279.6001.124656777236468248920498636247\n"
     ]
    },
    {
     "name": "stderr",
     "output_type": "stream",
     "text": [
      " 99%|████████████████████████████████████████▊| 883/888 [04:32<00:00,  5.86it/s]"
     ]
    },
    {
     "name": "stdout",
     "output_type": "stream",
     "text": [
      "Found 1070 nodes for seriesuid: 1.3.6.1.4.1.14519.5.2.1.6279.6001.124656777236468248920498636247\n",
      "Image array shape: (123, 512, 512)\n",
      "Output path for .npy file: LUNA16/Luna Output/subset9/1.3.6.1.4.1.14519.5.2.1.6279.6001.124656777236468248920498636247.npy\n",
      "Error saving .npy file for LUNA16/Dataset/subset9/1.3.6.1.4.1.14519.5.2.1.6279.6001.124656777236468248920498636247.mhd: 32243712 requested and 0 written\n",
      "\n",
      "Processing file: LUNA16/Dataset/subset9/1.3.6.1.4.1.14519.5.2.1.6279.6001.229860476925100292554329427970.mhd\n",
      "SeriesUID for current file: 1.3.6.1.4.1.14519.5.2.1.6279.6001.229860476925100292554329427970\n",
      "Found 983 nodes for seriesuid: 1.3.6.1.4.1.14519.5.2.1.6279.6001.229860476925100292554329427970\n",
      "Image array shape: (148, 512, 512)\n",
      "Output path for .npy file: LUNA16/Luna Output/subset9/1.3.6.1.4.1.14519.5.2.1.6279.6001.229860476925100292554329427970.npy\n",
      "Error saving .npy file for LUNA16/Dataset/subset9/1.3.6.1.4.1.14519.5.2.1.6279.6001.229860476925100292554329427970.mhd: 38797312 requested and 0 written\n",
      "\n",
      "Processing file: LUNA16/Dataset/subset9/1.3.6.1.4.1.14519.5.2.1.6279.6001.387954549120924524005910602207.mhd\n",
      "SeriesUID for current file: 1.3.6.1.4.1.14519.5.2.1.6279.6001.387954549120924524005910602207\n"
     ]
    },
    {
     "name": "stderr",
     "output_type": "stream",
     "text": [
      "\r",
      "100%|████████████████████████████████████████▊| 884/888 [04:32<00:00,  5.82it/s]"
     ]
    },
    {
     "name": "stdout",
     "output_type": "stream",
     "text": [
      "Found 1117 nodes for seriesuid: 1.3.6.1.4.1.14519.5.2.1.6279.6001.387954549120924524005910602207\n",
      "Image array shape: (298, 512, 512)\n",
      "Output path for .npy file: LUNA16/Luna Output/subset9/1.3.6.1.4.1.14519.5.2.1.6279.6001.387954549120924524005910602207.npy\n",
      "Error saving .npy file for LUNA16/Dataset/subset9/1.3.6.1.4.1.14519.5.2.1.6279.6001.387954549120924524005910602207.mhd: 78118912 requested and 0 written\n",
      "\n",
      "Processing file: LUNA16/Dataset/subset9/1.3.6.1.4.1.14519.5.2.1.6279.6001.220596530836092324070084384692.mhd\n",
      "SeriesUID for current file: 1.3.6.1.4.1.14519.5.2.1.6279.6001.220596530836092324070084384692\n",
      "Found 1562 nodes for seriesuid: 1.3.6.1.4.1.14519.5.2.1.6279.6001.220596530836092324070084384692\n"
     ]
    },
    {
     "name": "stderr",
     "output_type": "stream",
     "text": [
      "\r",
      "100%|████████████████████████████████████████▊| 885/888 [04:32<00:00,  5.14it/s]"
     ]
    },
    {
     "name": "stdout",
     "output_type": "stream",
     "text": [
      "Image array shape: (371, 512, 512)\n",
      "Output path for .npy file: LUNA16/Luna Output/subset9/1.3.6.1.4.1.14519.5.2.1.6279.6001.220596530836092324070084384692.npy\n",
      "Error saving .npy file for LUNA16/Dataset/subset9/1.3.6.1.4.1.14519.5.2.1.6279.6001.220596530836092324070084384692.mhd: 97255424 requested and 0 written\n",
      "\n",
      "Processing file: LUNA16/Dataset/subset9/1.3.6.1.4.1.14519.5.2.1.6279.6001.193721075067404532739943086458.mhd\n",
      "SeriesUID for current file: 1.3.6.1.4.1.14519.5.2.1.6279.6001.193721075067404532739943086458\n",
      "Found 577 nodes for seriesuid: 1.3.6.1.4.1.14519.5.2.1.6279.6001.193721075067404532739943086458\n",
      "Image array shape: (125, 512, 512)\n",
      "Output path for .npy file: LUNA16/Luna Output/subset9/1.3.6.1.4.1.14519.5.2.1.6279.6001.193721075067404532739943086458.npy\n",
      "Error saving .npy file for LUNA16/Dataset/subset9/1.3.6.1.4.1.14519.5.2.1.6279.6001.193721075067404532739943086458.mhd: 32768000 requested and 0 written\n",
      "\n",
      "Processing file: LUNA16/Dataset/subset9/1.3.6.1.4.1.14519.5.2.1.6279.6001.134519406153127654901640638633.mhd\n",
      "SeriesUID for current file: 1.3.6.1.4.1.14519.5.2.1.6279.6001.134519406153127654901640638633\n",
      "Found 1280 nodes for seriesuid: 1.3.6.1.4.1.14519.5.2.1.6279.6001.134519406153127654901640638633\n"
     ]
    },
    {
     "name": "stderr",
     "output_type": "stream",
     "text": [
      "100%|█████████████████████████████████████████| 888/888 [04:32<00:00,  3.25it/s]"
     ]
    },
    {
     "name": "stdout",
     "output_type": "stream",
     "text": [
      "Image array shape: (261, 512, 512)\n",
      "Output path for .npy file: LUNA16/Luna Output/subset9/1.3.6.1.4.1.14519.5.2.1.6279.6001.134519406153127654901640638633.npy\n",
      "Error saving .npy file for LUNA16/Dataset/subset9/1.3.6.1.4.1.14519.5.2.1.6279.6001.134519406153127654901640638633.mhd: 68419584 requested and 0 written\n",
      "\n",
      "Processing file: LUNA16/Dataset/subset9/1.3.6.1.4.1.14519.5.2.1.6279.6001.138813197521718693188313387015.mhd\n",
      "SeriesUID for current file: 1.3.6.1.4.1.14519.5.2.1.6279.6001.138813197521718693188313387015\n",
      "Found 1020 nodes for seriesuid: 1.3.6.1.4.1.14519.5.2.1.6279.6001.138813197521718693188313387015\n",
      "Image array shape: (149, 512, 512)\n",
      "Output path for .npy file: LUNA16/Luna Output/subset9/1.3.6.1.4.1.14519.5.2.1.6279.6001.138813197521718693188313387015.npy\n",
      "Error saving .npy file for LUNA16/Dataset/subset9/1.3.6.1.4.1.14519.5.2.1.6279.6001.138813197521718693188313387015.mhd: 39059456 requested and 0 written\n"
     ]
    },
    {
     "name": "stderr",
     "output_type": "stream",
     "text": [
      "\n"
     ]
    }
   ],
   "source": [
    "num_subsets = 10\n",
    "image_size = 32\n",
    "\n",
    "# Paths\n",
    "base_path = \"LUNA16\"\n",
    "subset_path = os.path.join(base_path, \"Dataset\")\n",
    "output_path = os.path.join(base_path, \"Luna Output\")\n",
    "csv_file_path = os.path.join(base_path, \"Candidates/candidates_V2.csv\")\n",
    "\n",
    "# Load the CSV data\n",
    "df_node = pd.read_csv(csv_file_path)\n",
    "print(\"Loaded CSV with {} entries.\".format(len(df_node)))\n",
    "\n",
    "# Extract the seriesuid column and print some sample entries\n",
    "print(\"Sample seriesuid from CSV:\", df_node['seriesuid'].head())\n",
    "\n",
    "# Get all file paths from the subsets directory\n",
    "file_list = [os.path.join(subset_path, f\"subset{i}\", file) \n",
    "             for i in range(10) \n",
    "             for file in os.listdir(os.path.join(subset_path, f\"subset{i}\"))\n",
    "             if file.endswith('.mhd')]\n",
    "print(f\"Total .mhd files found: {len(file_list)}\")\n",
    "print(\"Sample file paths:\", file_list[:5])\n",
    "\n",
    "# Process each file\n",
    "for img_file in tqdm(file_list):\n",
    "    print(f\"\\nProcessing file: {img_file}\")\n",
    "    \n",
    "    # Extract the seriesuid from the filename\n",
    "    seriesuid = os.path.splitext(os.path.basename(img_file))[0]\n",
    "    print(f\"SeriesUID for current file: {seriesuid}\")\n",
    "    \n",
    "    # Filter nodes belonging to this seriesuid\n",
    "    temp_df = df_node[df_node['seriesuid'] == seriesuid]\n",
    "    print(f\"Found {len(temp_df)} nodes for seriesuid: {seriesuid}\")\n",
    "\n",
    "    if temp_df.empty:\n",
    "        print(f\"No nodes found in {img_file}, skipping...\")\n",
    "        continue\n",
    "    \n",
    "    # Read the image using SimpleITK\n",
    "    try:\n",
    "        itk_img = sitk.ReadImage(img_file)\n",
    "        img_array = sitk.GetArrayFromImage(itk_img)\n",
    "        print(f\"Image array shape: {img_array.shape}\")\n",
    "    except Exception as e:\n",
    "        print(f\"Error reading image file {img_file}: {e}\")\n",
    "        continue\n",
    "    \n",
    "    # Create an output folder for the current subset if it doesn't exist\n",
    "    subset_num = img_file.split(\"/\")[-2]  # Get subset number from the path\n",
    "    subset_output_path = os.path.join(output_path, subset_num)\n",
    "    os.makedirs(subset_output_path, exist_ok=True)\n",
    "    \n",
    "    # Define the output file path\n",
    "    output_file_path = os.path.join(subset_output_path, f\"{seriesuid}.npy\")\n",
    "    print(f\"Output path for .npy file: {output_file_path}\")\n",
    "    \n",
    "    # Save the numpy array as .npy\n",
    "    try:\n",
    "        np.save(output_file_path, img_array)\n",
    "        print(f\"Saved: {output_file_path}\")\n",
    "    except Exception as e:\n",
    "        print(f\"Error saving .npy file for {img_file}: {e}\")"
   ]
  },
  {
   "cell_type": "code",
   "execution_count": null,
   "id": "3dec3712",
   "metadata": {},
   "outputs": [],
   "source": []
  }
 ],
 "metadata": {
  "kernelspec": {
   "display_name": "Python 3 (ipykernel)",
   "language": "python",
   "name": "python3"
  },
  "language_info": {
   "codemirror_mode": {
    "name": "ipython",
    "version": 3
   },
   "file_extension": ".py",
   "mimetype": "text/x-python",
   "name": "python",
   "nbconvert_exporter": "python",
   "pygments_lexer": "ipython3",
   "version": "3.10.9"
  }
 },
 "nbformat": 4,
 "nbformat_minor": 5
}
