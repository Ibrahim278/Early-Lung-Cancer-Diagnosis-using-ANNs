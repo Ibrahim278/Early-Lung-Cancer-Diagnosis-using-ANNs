{
 "cells": [
  {
   "cell_type": "markdown",
   "id": "f2588c51",
   "metadata": {},
   "source": [
    "# IQ-OTH/NCCD Dataset - Data Preprocessing"
   ]
  },
  {
   "cell_type": "code",
   "execution_count": 1,
   "id": "08030e4c",
   "metadata": {},
   "outputs": [],
   "source": [
    "import os\n",
    "import cv2\n",
    "import numpy as np\n",
    "from sklearn.model_selection import train_test_split\n",
    "from collections import Counter"
   ]
  },
  {
   "cell_type": "code",
   "execution_count": 2,
   "id": "c6a28321",
   "metadata": {},
   "outputs": [],
   "source": [
    "# Defining the Dataset Directory\n",
    "root = \"The IQ-OTHNCCD lung cancer dataset/\""
   ]
  },
  {
   "cell_type": "code",
   "execution_count": 6,
   "id": "aec72adc",
   "metadata": {},
   "outputs": [],
   "source": [
    "# Class Labels\n",
    "classes = {'Bengin cases', 'Malignant cases', 'Normal cases'}"
   ]
  },
  {
   "cell_type": "code",
   "execution_count": 7,
   "id": "d51da454",
   "metadata": {},
   "outputs": [],
   "source": [
    "# Empty lists for images and labels\n",
    "images = []\n",
    "labels = []"
   ]
  },
  {
   "cell_type": "code",
   "execution_count": 8,
   "id": "5a06e77c",
   "metadata": {},
   "outputs": [
    {
     "name": "stdout",
     "output_type": "stream",
     "text": [
      "Loaded 1097 images.\n"
     ]
    }
   ],
   "source": [
    "image_size = 224\n",
    "\n",
    "# Looping through each class folder\n",
    "for class_name in classes:\n",
    "    class_directory = os.path.join(root, class_name)\n",
    "    \n",
    "    # Ensure the directory exists\n",
    "    if not os.path.exists(class_directory):\n",
    "        print(f\"Directory not found: {class_directory}\")\n",
    "        continue\n",
    "    \n",
    "    # Looping through each image in the class folder\n",
    "    for filename in os.listdir(class_directory):\n",
    "        image_path = os.path.join(class_directory, filename)\n",
    "        \n",
    "        # Load images using OpenCV and check if image_file is read correctly\n",
    "        image_file = cv2.imread(image_path)\n",
    "        if image_file is None:\n",
    "            print(f\"Could not read image: {image_path}\")\n",
    "            continue\n",
    "        \n",
    "        # Process image\n",
    "        image_file = cv2.cvtColor(image_file, cv2.COLOR_BGR2RGB)\n",
    "        image_file = cv2.resize(image_file, (image_size, image_size))\n",
    "        \n",
    "        # Append processed images and their labels to the lists\n",
    "        images.append(image_file)\n",
    "        labels.append(class_name)\n",
    "\n",
    "print(f\"Loaded {len(images)} images.\")"
   ]
  },
  {
   "cell_type": "code",
   "execution_count": 10,
   "id": "efa34160",
   "metadata": {},
   "outputs": [],
   "source": [
    "# Encoding labels to numeric variables\n",
    "labels_dictionary = {\"Bengin cases\": 0, \"Malignant cases\": 1, \"Normal cases\": 2}\n",
    "encoded_labels = [labels_dictionary[label] for label in labels]"
   ]
  },
  {
   "cell_type": "code",
   "execution_count": 11,
   "id": "1840ffae",
   "metadata": {},
   "outputs": [],
   "source": [
    "# Perform Random Shuffling\n",
    "permutations = np.random.permutation(len(encoded_labels))"
   ]
  },
  {
   "cell_type": "code",
   "execution_count": 12,
   "id": "940f1252",
   "metadata": {},
   "outputs": [],
   "source": [
    "X = np.array(images)\n",
    "X = X/255.\n",
    "Y = np.array(encoded_labels)\n",
    "\n",
    "# Shuffle the images and labels\n",
    "X = X[permutations]\n",
    "Y = Y[permutations]"
   ]
  },
  {
   "cell_type": "code",
   "execution_count": null,
   "id": "be39b9f6",
   "metadata": {},
   "outputs": [],
   "source": []
  }
 ],
 "metadata": {
  "kernelspec": {
   "display_name": "Python 3 (ipykernel)",
   "language": "python",
   "name": "python3"
  },
  "language_info": {
   "codemirror_mode": {
    "name": "ipython",
    "version": 3
   },
   "file_extension": ".py",
   "mimetype": "text/x-python",
   "name": "python",
   "nbconvert_exporter": "python",
   "pygments_lexer": "ipython3",
   "version": "3.10.9"
  }
 },
 "nbformat": 4,
 "nbformat_minor": 5
}
