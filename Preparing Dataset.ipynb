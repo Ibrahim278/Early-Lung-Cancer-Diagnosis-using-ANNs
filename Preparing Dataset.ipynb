{
 "cells": [
  {
   "cell_type": "code",
   "execution_count": 1,
   "id": "5419595d",
   "metadata": {},
   "outputs": [],
   "source": [
    "import numpy as np\n",
    "import os\n",
    "import random\n",
    "from tqdm import tqdm\n",
    "from IPython.display import clear_output"
   ]
  },
  {
   "cell_type": "code",
   "execution_count": 11,
   "id": "54edb110",
   "metadata": {},
   "outputs": [],
   "source": [
    "lung_names = os.listdir(\"Luna16/Processed/lungs_roi/\")\n",
    "random.shuffle(lung_names)"
   ]
  },
  {
   "cell_type": "code",
   "execution_count": 12,
   "id": "e3bf070d",
   "metadata": {},
   "outputs": [
    {
     "name": "stdout",
     "output_type": "stream",
     "text": [
      "92\n",
      "23\n"
     ]
    }
   ],
   "source": [
    "n = len(lung_names)\n",
    "s = int(n*.8)\n",
    "train_lung_names = lung_names[:s]\n",
    "test_lung_names = lung_names[s:]\n",
    "print(len(train_lung_names))\n",
    "print(len(test_lung_names))"
   ]
  },
  {
   "cell_type": "code",
   "execution_count": 14,
   "id": "69b95f55",
   "metadata": {},
   "outputs": [
    {
     "name": "stderr",
     "output_type": "stream",
     "text": [
      "100%|██████████████████████████████████████████| 92/92 [00:00<00:00, 963.69it/s]\n"
     ]
    }
   ],
   "source": [
    "trainX = []\n",
    "trainY = []\n",
    "\n",
    "for lname in tqdm(train_lung_names):\n",
    "    mname = lname.replace(\"lungs\", \"masks\")\n",
    "    lung = np.load(\"Luna16/Processed/lungs_roi/\" + lname)\n",
    "    mask = np.load(\"Luna16/Processed/nodule_mask/\" + mname)\n",
    "    trainX.append(lung)\n",
    "    trainY.append(mask)\n",
    "    \n",
    "trainX = np.array(trainX, dtype=np.uint8)\n",
    "trainY = np.array(trainY, dtype=np.uint8)\n",
    "\n",
    "np.save(\"Luna16/Processed/trainX.npy\", trainX)\n",
    "np.save(\"Luna16/Processed/trainY.npy\", trainY)"
   ]
  },
  {
   "cell_type": "code",
   "execution_count": 17,
   "id": "1998219f",
   "metadata": {},
   "outputs": [
    {
     "name": "stderr",
     "output_type": "stream",
     "text": [
      "100%|██████████████████████████████████████████| 23/23 [00:00<00:00, 657.37it/s]\n"
     ]
    }
   ],
   "source": [
    "testX = []\n",
    "testY = []\n",
    "\n",
    "for lname in tqdm(test_lung_names):\n",
    "    mname = lname.replace(\"lungs\", \"masks\")\n",
    "    lung = np.load(\"Luna16/Processed/lungs_roi/\" + lname)\n",
    "    mask = np.load(\"Luna16/Processed/nodule_mask/\" + mname)\n",
    "    testX.append(lung)\n",
    "    testY.append(mask)\n",
    "\n",
    "testX = np.array(testX, dtype=np.uint8)\n",
    "testY = np.array(testY, dtype=np.uint8)\n",
    "\n",
    "np.save(\"Luna16/Processed/testX.npy\", testX)\n",
    "np.save(\"Luna16/Processed/testY.npy\", testY)"
   ]
  },
  {
   "cell_type": "code",
   "execution_count": 19,
   "id": "f668d843",
   "metadata": {},
   "outputs": [
    {
     "name": "stdout",
     "output_type": "stream",
     "text": [
      "usage: cp [-R [-H | -L | -P]] [-fi | -n] [-aclpSsvXx] source_file target_file\n",
      "       cp [-R [-H | -L | -P]] [-fi | -n] [-aclpSsvXx] source_file ... target_directory\n",
      "usage: cp [-R [-H | -L | -P]] [-fi | -n] [-aclpSsvXx] source_file target_file\n",
      "       cp [-R [-H | -L | -P]] [-fi | -n] [-aclpSsvXx] source_file ... target_directory\n",
      "usage: cp [-R [-H | -L | -P]] [-fi | -n] [-aclpSsvXx] source_file target_file\n",
      "       cp [-R [-H | -L | -P]] [-fi | -n] [-aclpSsvXx] source_file ... target_directory\n",
      "usage: cp [-R [-H | -L | -P]] [-fi | -n] [-aclpSsvXx] source_file target_file\n",
      "       cp [-R [-H | -L | -P]] [-fi | -n] [-aclpSsvXx] source_file ... target_directory\n"
     ]
    }
   ],
   "source": [
    "!cp Luna16/Processed/trainX.npy\n",
    "!cp Luna16/Processed/trainY.npy\n",
    "\n",
    "!cp Luna16/Processed/testX.npy\n",
    "!cp Luna16/Processed/testY.npy"
   ]
  },
  {
   "cell_type": "code",
   "execution_count": null,
   "id": "1d6f0e70",
   "metadata": {},
   "outputs": [],
   "source": []
  }
 ],
 "metadata": {
  "kernelspec": {
   "display_name": "Python 3 (ipykernel)",
   "language": "python",
   "name": "python3"
  },
  "language_info": {
   "codemirror_mode": {
    "name": "ipython",
    "version": 3
   },
   "file_extension": ".py",
   "mimetype": "text/x-python",
   "name": "python",
   "nbconvert_exporter": "python",
   "pygments_lexer": "ipython3",
   "version": "3.10.9"
  }
 },
 "nbformat": 4,
 "nbformat_minor": 5
}
