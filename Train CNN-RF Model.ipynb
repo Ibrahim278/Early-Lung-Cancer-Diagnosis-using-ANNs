{
 "cells": [
  {
   "cell_type": "markdown",
   "id": "3dbf8c8d",
   "metadata": {},
   "source": [
    "# Training CNN-RF Model on Augmented Data"
   ]
  },
  {
   "cell_type": "code",
   "execution_count": 1,
   "id": "e94cc0f3",
   "metadata": {},
   "outputs": [
    {
     "name": "stderr",
     "output_type": "stream",
     "text": [
      "2024-12-11 00:51:55.424423: I tensorflow/core/platform/cpu_feature_guard.cc:193] This TensorFlow binary is optimized with oneAPI Deep Neural Network Library (oneDNN) to use the following CPU instructions in performance-critical operations:  SSE4.1 SSE4.2\n",
      "To enable them in other operations, rebuild TensorFlow with the appropriate compiler flags.\n"
     ]
    }
   ],
   "source": [
    "import os\n",
    "import cv2\n",
    "import tensorflow as tf\n",
    "import numpy as np\n",
    "import matplotlib.pyplot as plt\n",
    "from tensorflow import keras\n",
    "from tensorflow.keras import layers\n",
    "import tensorflow as tf\n",
    "from collections import Counter\n",
    "from tensorflow.keras.models import Model\n",
    "from sklearn.model_selection import train_test_split\n",
    "from sklearn.ensemble import RandomForestClassifier\n",
    "from sklearn import metrics\n",
    "from sklearn.metrics import classification_report\n",
    "import joblib"
   ]
  },
  {
   "cell_type": "markdown",
   "id": "d37c0891",
   "metadata": {},
   "source": [
    "## Import the Dataset"
   ]
  },
  {
   "cell_type": "code",
   "execution_count": 2,
   "id": "e466068f",
   "metadata": {},
   "outputs": [],
   "source": [
    "# Import Processed Dataset\n",
    "data = \"The IQ-OTHNCCD lung cancer dataset\""
   ]
  },
  {
   "cell_type": "code",
   "execution_count": 3,
   "id": "0eb757be",
   "metadata": {},
   "outputs": [],
   "source": [
    "# Define class labels and dictionary for encoding\n",
    "classes = {'Bengin cases', 'Malignant cases', 'Normal cases'}\n",
    "label_dict = {\"Bengin cases\": 0, \"Malignant cases\": 1, \"Normal cases\": 2}\n",
    "\n",
    "# Initialize lists for images and labels\n",
    "images = []\n",
    "labels = []\n",
    "image_size = 224"
   ]
  },
  {
   "cell_type": "code",
   "execution_count": 4,
   "id": "a3cf1dd6",
   "metadata": {},
   "outputs": [],
   "source": [
    "# Loop through each class and load images\n",
    "for class_name in classes:\n",
    "    class_dir = os.path.join(data, class_name)\n",
    "    for filename in os.listdir(class_dir):\n",
    "        image_path = os.path.join(class_dir, filename)\n",
    "        image = cv2.imread(image_path)\n",
    "        image = cv2.cvtColor(image, cv2.COLOR_BGR2RGB)\n",
    "        image = cv2.resize(image, (image_size, image_size))\n",
    "        images.append(image)\n",
    "        labels.append(label_dict[class_name])\n",
    "\n",
    "# Convert images and labels to NumPy arrays\n",
    "images = np.array(images)\n",
    "labels = np.array(labels)"
   ]
  },
  {
   "cell_type": "code",
   "execution_count": 5,
   "id": "cfde06f6",
   "metadata": {},
   "outputs": [
    {
     "name": "stdout",
     "output_type": "stream",
     "text": [
      "Training data size: 767\n",
      "Validation data size: 221\n",
      "Testing data size: 109\n"
     ]
    }
   ],
   "source": [
    "# Split dataset into training, validation, and test sets\n",
    "X_train, X_temp, y_train, y_temp = train_test_split(images, labels, test_size=0.30, random_state=123, stratify=labels)\n",
    "X_val, X_test, y_val, y_test = train_test_split(X_temp, y_temp, test_size=0.33, random_state=123, stratify=y_temp)\n",
    "\n",
    "print(f\"Training data size: {len(X_train)}\")\n",
    "print(f\"Validation data size: {len(X_val)}\")\n",
    "print(f\"Testing data size: {len(X_test)}\")"
   ]
  },
  {
   "cell_type": "code",
   "execution_count": 6,
   "id": "69c300c4",
   "metadata": {},
   "outputs": [
    {
     "data": {
      "text/plain": [
       "((767, 224, 224, 3), (109, 224, 224, 3), (221, 224, 224, 3))"
      ]
     },
     "execution_count": 6,
     "metadata": {},
     "output_type": "execute_result"
    }
   ],
   "source": [
    "# Shape of Dataset\n",
    "X_train.shape, X_test.shape, X_val.shape"
   ]
  },
  {
   "cell_type": "code",
   "execution_count": 7,
   "id": "4983aa7f",
   "metadata": {},
   "outputs": [],
   "source": [
    "# Normalize the pixel values to range [0, 1]\n",
    "X_train, X_val, X_test = X_train / 255.0, X_val / 255.0, X_test / 255.0"
   ]
  },
  {
   "cell_type": "code",
   "execution_count": 8,
   "id": "b2215bcb",
   "metadata": {},
   "outputs": [
    {
     "name": "stdout",
     "output_type": "stream",
     "text": [
      "Training class distribution: Counter({1: 392, 2: 291, 0: 84})\n",
      "Validation class distribution: Counter({1: 113, 2: 84, 0: 24})\n",
      "Testing class distribution: Counter({1: 56, 2: 41, 0: 12})\n"
     ]
    }
   ],
   "source": [
    "# Check class distribution\n",
    "train_class_counts = Counter(y_train)\n",
    "val_class_counts = Counter(y_val)\n",
    "test_class_counts = Counter(y_test)\n",
    "\n",
    "print(\"Training class distribution:\", train_class_counts)\n",
    "print(\"Validation class distribution:\", val_class_counts)\n",
    "print(\"Testing class distribution:\", test_class_counts)"
   ]
  },
  {
   "cell_type": "markdown",
   "id": "64c75652",
   "metadata": {},
   "source": [
    "## Training the CNN-RF Model"
   ]
  },
  {
   "cell_type": "code",
   "execution_count": 9,
   "id": "f5649d3c",
   "metadata": {},
   "outputs": [
    {
     "name": "stderr",
     "output_type": "stream",
     "text": [
      "2024-12-11 00:54:18.347769: I tensorflow/core/platform/cpu_feature_guard.cc:193] This TensorFlow binary is optimized with oneAPI Deep Neural Network Library (oneDNN) to use the following CPU instructions in performance-critical operations:  SSE4.1 SSE4.2\n",
      "To enable them in other operations, rebuild TensorFlow with the appropriate compiler flags.\n"
     ]
    },
    {
     "name": "stdout",
     "output_type": "stream",
     "text": [
      "Model: \"sequential\"\n",
      "_________________________________________________________________\n",
      " Layer (type)                Output Shape              Param #   \n",
      "=================================================================\n",
      " conv2d (Conv2D)             (None, 110, 110, 128)     9728      \n",
      "                                                                 \n",
      " max_pooling2d (MaxPooling2D  (None, 54, 54, 128)      0         \n",
      " )                                                               \n",
      "                                                                 \n",
      " conv2d_1 (Conv2D)           (None, 54, 54, 64)        73792     \n",
      "                                                                 \n",
      " max_pooling2d_1 (MaxPooling  (None, 53, 53, 64)       0         \n",
      " 2D)                                                             \n",
      "                                                                 \n",
      " conv2d_2 (Conv2D)           (None, 53, 53, 32)        18464     \n",
      "                                                                 \n",
      " max_pooling2d_2 (MaxPooling  (None, 52, 52, 32)       0         \n",
      " 2D)                                                             \n",
      "                                                                 \n",
      " flatten (Flatten)           (None, 86528)             0         \n",
      "                                                                 \n",
      " dense (Dense)               (None, 256)               22151424  \n",
      "                                                                 \n",
      " dropout (Dropout)           (None, 256)               0         \n",
      "                                                                 \n",
      " dense_1 (Dense)             (None, 3)                 771       \n",
      "                                                                 \n",
      "=================================================================\n",
      "Total params: 22,254,179\n",
      "Trainable params: 22,254,179\n",
      "Non-trainable params: 0\n",
      "_________________________________________________________________\n"
     ]
    }
   ],
   "source": [
    "# Initialize HeNormal for weight initialization\n",
    "initialize = keras.initializers.HeNormal(seed=123)\n",
    "\n",
    "# Define the CNN model\n",
    "cnn_model = keras.models.Sequential([\n",
    "    # First Convolutional Block\n",
    "    layers.Conv2D(128, (5, 5), strides=(2, 2), activation='relu', input_shape=(image_size, image_size, 3)),\n",
    "    layers.MaxPool2D((3, 3), strides=(2, 2)),\n",
    "\n",
    "    # Second Convolutional Block\n",
    "    layers.Conv2D(64, (3, 3), strides=(1, 1), padding='same', activation='relu', kernel_initializer=initialize,\n",
    "                  kernel_regularizer=tf.keras.regularizers.l2(0.01)),\n",
    "    layers.MaxPool2D((2, 2), strides=(1, 1)),\n",
    "\n",
    "    # Third Convolutional Block\n",
    "    layers.Conv2D(32, (3, 3), strides=(1, 1), padding='same', activation='relu', kernel_initializer=initialize,\n",
    "                  kernel_regularizer=tf.keras.regularizers.l2(0.01)),\n",
    "    layers.MaxPool2D((2, 2), strides=(1, 1)),\n",
    "\n",
    "    # Flatten and Fully Connected Layers\n",
    "    layers.Flatten(),\n",
    "    layers.Dense(256, activation='relu'),\n",
    "    layers.Dropout(0.5, seed=123),\n",
    "\n",
    "    # Output Layer\n",
    "    layers.Dense(3, activation='softmax')  # 3 output classes\n",
    "])\n",
    "\n",
    "# Print the model summary\n",
    "cnn_model.summary()"
   ]
  },
  {
   "cell_type": "code",
   "execution_count": 10,
   "id": "cc39a5e7",
   "metadata": {},
   "outputs": [],
   "source": [
    "# Compile the model\n",
    "learning_rate = 0.001\n",
    "optimizer = tf.keras.optimizers.Adam(learning_rate=learning_rate)\n",
    "\n",
    "cnn_model.compile(loss='sparse_categorical_crossentropy', optimizer=optimizer, metrics=[\"accuracy\"])"
   ]
  },
  {
   "cell_type": "code",
   "execution_count": 11,
   "id": "9e977831",
   "metadata": {},
   "outputs": [
    {
     "name": "stdout",
     "output_type": "stream",
     "text": [
      "Epoch 1/50\n",
      "48/48 [==============================] - 20s 409ms/step - loss: 2.5251 - accuracy: 0.5645 - val_loss: 1.6284 - val_accuracy: 0.6878\n",
      "Epoch 2/50\n",
      "48/48 [==============================] - 19s 388ms/step - loss: 1.3945 - accuracy: 0.7588 - val_loss: 1.0037 - val_accuracy: 0.8643\n",
      "Epoch 3/50\n",
      "48/48 [==============================] - 18s 384ms/step - loss: 0.9288 - accuracy: 0.8722 - val_loss: 0.7590 - val_accuracy: 0.9231\n",
      "Epoch 4/50\n",
      "48/48 [==============================] - 19s 388ms/step - loss: 0.7401 - accuracy: 0.9087 - val_loss: 0.6209 - val_accuracy: 0.9276\n",
      "Epoch 5/50\n",
      "48/48 [==============================] - 19s 387ms/step - loss: 0.6184 - accuracy: 0.9283 - val_loss: 0.6062 - val_accuracy: 0.9095\n",
      "Epoch 6/50\n",
      "48/48 [==============================] - 18s 380ms/step - loss: 0.5129 - accuracy: 0.9544 - val_loss: 0.4373 - val_accuracy: 0.9638\n",
      "Epoch 7/50\n",
      "48/48 [==============================] - 18s 378ms/step - loss: 0.3977 - accuracy: 0.9752 - val_loss: 0.3656 - val_accuracy: 0.9864\n",
      "Epoch 8/50\n",
      "48/48 [==============================] - 18s 379ms/step - loss: 0.3349 - accuracy: 0.9817 - val_loss: 0.3121 - val_accuracy: 0.9864\n",
      "Epoch 9/50\n",
      "48/48 [==============================] - 18s 377ms/step - loss: 0.3032 - accuracy: 0.9857 - val_loss: 0.3056 - val_accuracy: 0.9774\n",
      "Epoch 10/50\n",
      "48/48 [==============================] - 18s 383ms/step - loss: 0.2782 - accuracy: 0.9909 - val_loss: 0.2502 - val_accuracy: 0.9910\n",
      "Epoch 11/50\n",
      "48/48 [==============================] - 18s 381ms/step - loss: 0.2364 - accuracy: 0.9974 - val_loss: 0.2696 - val_accuracy: 0.9864\n",
      "Epoch 12/50\n",
      "48/48 [==============================] - 19s 392ms/step - loss: 0.2287 - accuracy: 0.9870 - val_loss: 0.2245 - val_accuracy: 0.9864\n",
      "Epoch 13/50\n",
      "48/48 [==============================] - 21s 433ms/step - loss: 0.2477 - accuracy: 0.9791 - val_loss: 0.2049 - val_accuracy: 0.9910\n",
      "Epoch 14/50\n",
      "48/48 [==============================] - 18s 386ms/step - loss: 0.1894 - accuracy: 0.9961 - val_loss: 0.2386 - val_accuracy: 0.9683\n",
      "Epoch 15/50\n",
      "48/48 [==============================] - 18s 375ms/step - loss: 0.1826 - accuracy: 0.9896 - val_loss: 0.1845 - val_accuracy: 0.9864\n",
      "Epoch 16/50\n",
      "48/48 [==============================] - 18s 385ms/step - loss: 0.1816 - accuracy: 0.9844 - val_loss: 0.1837 - val_accuracy: 0.9683\n",
      "Epoch 17/50\n",
      "48/48 [==============================] - 18s 375ms/step - loss: 0.1712 - accuracy: 0.9883 - val_loss: 0.1730 - val_accuracy: 0.9864\n",
      "Epoch 18/50\n",
      "48/48 [==============================] - 19s 391ms/step - loss: 0.1461 - accuracy: 0.9896 - val_loss: 0.1393 - val_accuracy: 0.9864\n",
      "Epoch 19/50\n",
      "48/48 [==============================] - 21s 436ms/step - loss: 0.1566 - accuracy: 0.9804 - val_loss: 0.1764 - val_accuracy: 0.9774\n",
      "Epoch 20/50\n",
      "48/48 [==============================] - 20s 425ms/step - loss: 0.1273 - accuracy: 0.9922 - val_loss: 0.1578 - val_accuracy: 0.9819\n",
      "Epoch 21/50\n",
      "48/48 [==============================] - 24s 493ms/step - loss: 0.1472 - accuracy: 0.9804 - val_loss: 0.1612 - val_accuracy: 0.9864\n",
      "Epoch 22/50\n",
      "48/48 [==============================] - 20s 428ms/step - loss: 0.1277 - accuracy: 0.9909 - val_loss: 0.1334 - val_accuracy: 0.9864\n",
      "Epoch 23/50\n",
      "48/48 [==============================] - 19s 399ms/step - loss: 0.1030 - accuracy: 0.9961 - val_loss: 0.1137 - val_accuracy: 0.9910\n",
      "Epoch 24/50\n",
      "48/48 [==============================] - 20s 428ms/step - loss: 0.1017 - accuracy: 0.9948 - val_loss: 0.0994 - val_accuracy: 0.9910\n",
      "Epoch 25/50\n",
      "48/48 [==============================] - 19s 401ms/step - loss: 0.0957 - accuracy: 0.9909 - val_loss: 0.0980 - val_accuracy: 0.9864\n",
      "Epoch 26/50\n",
      "48/48 [==============================] - 19s 406ms/step - loss: 0.0756 - accuracy: 0.9987 - val_loss: 0.0986 - val_accuracy: 0.9864\n",
      "Epoch 27/50\n",
      "48/48 [==============================] - 20s 424ms/step - loss: 0.0645 - accuracy: 1.0000 - val_loss: 0.0853 - val_accuracy: 0.9864\n",
      "Epoch 28/50\n",
      "48/48 [==============================] - 18s 376ms/step - loss: 0.0740 - accuracy: 0.9948 - val_loss: 0.0838 - val_accuracy: 0.9910\n",
      "Epoch 29/50\n",
      "48/48 [==============================] - 18s 375ms/step - loss: 0.0716 - accuracy: 0.9948 - val_loss: 0.0899 - val_accuracy: 0.9819\n",
      "Epoch 30/50\n",
      "48/48 [==============================] - 18s 374ms/step - loss: 0.0653 - accuracy: 0.9974 - val_loss: 0.0936 - val_accuracy: 0.9864\n",
      "Epoch 31/50\n",
      "48/48 [==============================] - 19s 398ms/step - loss: 0.0605 - accuracy: 0.9961 - val_loss: 0.0725 - val_accuracy: 0.9910\n",
      "Epoch 32/50\n",
      "48/48 [==============================] - 19s 384ms/step - loss: 0.0637 - accuracy: 0.9948 - val_loss: 0.0844 - val_accuracy: 0.9864\n",
      "Epoch 33/50\n",
      "48/48 [==============================] - 18s 373ms/step - loss: 0.0542 - accuracy: 0.9961 - val_loss: 0.0671 - val_accuracy: 0.9819\n",
      "Epoch 34/50\n",
      "48/48 [==============================] - 17s 363ms/step - loss: 0.0527 - accuracy: 0.9961 - val_loss: 0.0754 - val_accuracy: 0.9819\n",
      "Epoch 35/50\n",
      "48/48 [==============================] - 18s 372ms/step - loss: 0.0441 - accuracy: 0.9974 - val_loss: 0.0982 - val_accuracy: 0.9819\n",
      "Epoch 36/50\n",
      "48/48 [==============================] - 18s 383ms/step - loss: 0.0495 - accuracy: 0.9974 - val_loss: 0.0655 - val_accuracy: 0.9864\n",
      "Epoch 37/50\n",
      "48/48 [==============================] - 18s 385ms/step - loss: 0.0396 - accuracy: 0.9987 - val_loss: 0.0800 - val_accuracy: 0.9864\n",
      "Epoch 38/50\n",
      "48/48 [==============================] - 21s 443ms/step - loss: 0.0360 - accuracy: 0.9974 - val_loss: 0.0902 - val_accuracy: 0.9819\n",
      "Epoch 39/50\n",
      "48/48 [==============================] - 19s 387ms/step - loss: 0.0409 - accuracy: 0.9974 - val_loss: 0.0867 - val_accuracy: 0.9774\n",
      "Epoch 40/50\n",
      "48/48 [==============================] - 19s 388ms/step - loss: 0.0532 - accuracy: 0.9896 - val_loss: 0.0729 - val_accuracy: 0.9819\n",
      "Epoch 41/50\n",
      "48/48 [==============================] - 19s 400ms/step - loss: 0.1192 - accuracy: 0.9713 - val_loss: 0.2220 - val_accuracy: 0.9729\n",
      "Epoch 42/50\n",
      "48/48 [==============================] - 18s 377ms/step - loss: 0.1053 - accuracy: 0.9791 - val_loss: 0.0778 - val_accuracy: 0.9910\n",
      "Epoch 43/50\n",
      "48/48 [==============================] - 18s 373ms/step - loss: 0.0663 - accuracy: 0.9896 - val_loss: 0.0723 - val_accuracy: 0.9864\n",
      "Epoch 44/50\n",
      "48/48 [==============================] - 18s 371ms/step - loss: 0.0611 - accuracy: 0.9935 - val_loss: 0.0712 - val_accuracy: 0.9819\n",
      "Epoch 45/50\n",
      "48/48 [==============================] - 18s 372ms/step - loss: 0.0358 - accuracy: 1.0000 - val_loss: 0.0807 - val_accuracy: 0.9819\n",
      "Epoch 46/50\n",
      "48/48 [==============================] - 18s 366ms/step - loss: 0.0433 - accuracy: 0.9974 - val_loss: 0.0617 - val_accuracy: 0.9864\n",
      "Epoch 47/50\n",
      "48/48 [==============================] - 18s 383ms/step - loss: 0.0350 - accuracy: 0.9974 - val_loss: 0.0871 - val_accuracy: 0.9864\n",
      "Epoch 48/50\n",
      "48/48 [==============================] - 18s 376ms/step - loss: 0.0470 - accuracy: 0.9961 - val_loss: 0.0589 - val_accuracy: 0.9864\n",
      "Epoch 49/50\n",
      "48/48 [==============================] - 18s 385ms/step - loss: 0.0383 - accuracy: 0.9961 - val_loss: 0.0453 - val_accuracy: 0.9910\n",
      "Epoch 50/50\n",
      "48/48 [==============================] - 19s 391ms/step - loss: 0.0344 - accuracy: 0.9974 - val_loss: 0.0433 - val_accuracy: 0.9910\n"
     ]
    }
   ],
   "source": [
    "# Train the model\n",
    "history = cnn_model.fit(\n",
    "    X_train, y_train,\n",
    "    validation_data=(X_val, y_val),\n",
    "    epochs=50,\n",
    "    batch_size=16,\n",
    "    shuffle=True\n",
    ")"
   ]
  },
  {
   "cell_type": "code",
   "execution_count": 12,
   "id": "b1851b17",
   "metadata": {},
   "outputs": [
    {
     "name": "stdout",
     "output_type": "stream",
     "text": [
      "4/4 [==============================] - 1s 177ms/step - loss: 0.0938 - accuracy: 0.9725\n",
      "Test Loss: 0.0938\n",
      "Test Accuracy: 0.9725\n"
     ]
    }
   ],
   "source": [
    "# Evaluate on the test set\n",
    "test_loss, test_accuracy = cnn_model.evaluate(X_test, y_test)\n",
    "print(f\"Test Loss: {test_loss:.4f}\")\n",
    "print(f\"Test Accuracy: {test_accuracy:.4f}\")"
   ]
  },
  {
   "cell_type": "code",
   "execution_count": 13,
   "id": "527912b2",
   "metadata": {},
   "outputs": [
    {
     "data": {
      "image/png": "[encoded data removed]",
      "text/plain": [
       "<Figure size 640x480 with 1 Axes>"
      ]
     },
     "metadata": {},
     "output_type": "display_data"
    },
    {
     "data": {
      "image/png": "[encoded data removed]",
      "text/plain": [
       "<Figure size 640x480 with 1 Axes>"
      ]
     },
     "metadata": {},
     "output_type": "display_data"
    }
   ],
   "source": [
    "plt.plot(history.history['accuracy'])\n",
    "plt.plot(history.history['val_accuracy'])\n",
    "plt.title('Model Accuracy')\n",
    "plt.ylabel('Performance')\n",
    "plt.xlabel('Epoch')\n",
    "plt.legend(['Train', 'Validation'], loc='upper left')\n",
    "plt.show()\n",
    "\n",
    "plt.plot(history.history['loss'])\n",
    "plt.plot(history.history['val_loss'])\n",
    "plt.title('Model Loss')\n",
    "plt.ylabel('Loss')\n",
    "plt.xlabel('Epoch')\n",
    "plt.legend(['Train', 'Validation'], loc='upper left')\n",
    "plt.show()"
   ]
  },
  {
   "cell_type": "code",
   "execution_count": 14,
   "id": "5a68f5cd",
   "metadata": {},
   "outputs": [
    {
     "name": "stdout",
     "output_type": "stream",
     "text": [
      "4/4 [==============================] - 1s 169ms/step\n",
      "              precision    recall  f1-score   support\n",
      "\n",
      "           0       1.00      0.92      0.96        12\n",
      "           1       0.97      1.00      0.98        56\n",
      "           2       0.97      0.95      0.96        41\n",
      "\n",
      "    accuracy                           0.97       109\n",
      "   macro avg       0.98      0.96      0.97       109\n",
      "weighted avg       0.97      0.97      0.97       109\n",
      "\n"
     ]
    }
   ],
   "source": [
    "y_pred = cnn_model.predict(X_test)\n",
    "y_pred = np.argmax(y_pred, axis=-1)\n",
    "print(classification_report(y_test, y_pred))"
   ]
  },
  {
   "cell_type": "code",
   "execution_count": 15,
   "id": "cb19df50",
   "metadata": {},
   "outputs": [
    {
     "data": {
      "image/png": "[encoded data removed]",
      "text/plain": [
       "<Figure size 640x480 with 2 Axes>"
      ]
     },
     "metadata": {},
     "output_type": "display_data"
    }
   ],
   "source": [
    "confusion_matrix = metrics.confusion_matrix(y_test, y_pred)\n",
    "confusion_matrix_display = metrics.ConfusionMatrixDisplay(confusion_matrix=confusion_matrix, display_labels={'Bengin case':0, 'Malignant case':1, 'Normal case':2})\n",
    "confusion_matrix_display.plot()\n",
    "plt.title(\"CNN Model\")\n",
    "plt.show()"
   ]
  },
  {
   "cell_type": "code",
   "execution_count": 16,
   "id": "d61eda9e",
   "metadata": {},
   "outputs": [],
   "source": [
    "tensor = cnn_model.get_layer(\"conv2d\").input\n",
    "model_feat = Model(inputs=cnn_model.input, outputs=cnn_model.get_layer('flatten').output)"
   ]
  },
  {
   "cell_type": "code",
   "execution_count": 17,
   "id": "cc68d86b",
   "metadata": {},
   "outputs": [
    {
     "name": "stdout",
     "output_type": "stream",
     "text": [
      "Model: \"model\"\n",
      "_________________________________________________________________\n",
      " Layer (type)                Output Shape              Param #   \n",
      "=================================================================\n",
      " conv2d_input (InputLayer)   [(None, 224, 224, 3)]     0         \n",
      "                                                                 \n",
      " conv2d (Conv2D)             (None, 110, 110, 128)     9728      \n",
      "                                                                 \n",
      " max_pooling2d (MaxPooling2D  (None, 54, 54, 128)      0         \n",
      " )                                                               \n",
      "                                                                 \n",
      " conv2d_1 (Conv2D)           (None, 54, 54, 64)        73792     \n",
      "                                                                 \n",
      " max_pooling2d_1 (MaxPooling  (None, 53, 53, 64)       0         \n",
      " 2D)                                                             \n",
      "                                                                 \n",
      " conv2d_2 (Conv2D)           (None, 53, 53, 32)        18464     \n",
      "                                                                 \n",
      " max_pooling2d_2 (MaxPooling  (None, 52, 52, 32)       0         \n",
      " 2D)                                                             \n",
      "                                                                 \n",
      " flatten (Flatten)           (None, 86528)             0         \n",
      "                                                                 \n",
      "=================================================================\n",
      "Total params: 101,984\n",
      "Trainable params: 101,984\n",
      "Non-trainable params: 0\n",
      "_________________________________________________________________\n"
     ]
    }
   ],
   "source": [
    "model_feat.summary()"
   ]
  },
  {
   "cell_type": "code",
   "execution_count": 18,
   "id": "aaaa50e4",
   "metadata": {},
   "outputs": [
    {
     "name": "stdout",
     "output_type": "stream",
     "text": [
      "24/24 [==============================] - 5s 217ms/step\n"
     ]
    }
   ],
   "source": [
    "feature_extraction = model_feat.predict(X_train)"
   ]
  },
  {
   "cell_type": "code",
   "execution_count": 19,
   "id": "4b740eae",
   "metadata": {},
   "outputs": [
    {
     "data": {
      "text/html": [
       "<style>#sk-container-id-1 {\n",
       "  /* Definition of color scheme common for light and dark mode */\n",
       "  --sklearn-color-text: black;\n",
       "  --sklearn-color-line: gray;\n",
       "  /* Definition of color scheme for unfitted estimators */\n",
       "  --sklearn-color-unfitted-level-0: #fff5e6;\n",
       "  --sklearn-color-unfitted-level-1: #f6e4d2;\n",
       "  --sklearn-color-unfitted-level-2: #ffe0b3;\n",
       "  --sklearn-color-unfitted-level-3: chocolate;\n",
       "  /* Definition of color scheme for fitted estimators */\n",
       "  --sklearn-color-fitted-level-0: #f0f8ff;\n",
       "  --sklearn-color-fitted-level-1: #d4ebff;\n",
       "  --sklearn-color-fitted-level-2: #b3dbfd;\n",
       "  --sklearn-color-fitted-level-3: cornflowerblue;\n",
       "\n",
       "  /* Specific color for light theme */\n",
       "  --sklearn-color-text-on-default-background: var(--sg-text-color, var(--theme-code-foreground, var(--jp-content-font-color1, black)));\n",
       "  --sklearn-color-background: var(--sg-background-color, var(--theme-background, var(--jp-layout-color0, white)));\n",
       "  --sklearn-color-border-box: var(--sg-text-color, var(--theme-code-foreground, var(--jp-content-font-color1, black)));\n",
       "  --sklearn-color-icon: #696969;\n",
       "\n",
       "  @media (prefers-color-scheme: dark) {\n",
       "    /* Redefinition of color scheme for dark theme */\n",
       "    --sklearn-color-text-on-default-background: var(--sg-text-color, var(--theme-code-foreground, var(--jp-content-font-color1, white)));\n",
       "    --sklearn-color-background: var(--sg-background-color, var(--theme-background, var(--jp-layout-color0, #111)));\n",
       "    --sklearn-color-border-box: var(--sg-text-color, var(--theme-code-foreground, var(--jp-content-font-color1, white)));\n",
       "    --sklearn-color-icon: #878787;\n",
       "  }\n",
       "}\n",
       "\n",
       "#sk-container-id-1 {\n",
       "  color: var(--sklearn-color-text);\n",
       "}\n",
       "\n",
       "#sk-container-id-1 pre {\n",
       "  padding: 0;\n",
       "}\n",
       "\n",
       "#sk-container-id-1 input.sk-hidden--visually {\n",
       "  border: 0;\n",
       "  clip: rect(1px 1px 1px 1px);\n",
       "  clip: rect(1px, 1px, 1px, 1px);\n",
       "  height: 1px;\n",
       "  margin: -1px;\n",
       "  overflow: hidden;\n",
       "  padding: 0;\n",
       "  position: absolute;\n",
       "  width: 1px;\n",
       "}\n",
       "\n",
       "#sk-container-id-1 div.sk-dashed-wrapped {\n",
       "  border: 1px dashed var(--sklearn-color-line);\n",
       "  margin: 0 0.4em 0.5em 0.4em;\n",
       "  box-sizing: border-box;\n",
       "  padding-bottom: 0.4em;\n",
       "  background-color: var(--sklearn-color-background);\n",
       "}\n",
       "\n",
       "#sk-container-id-1 div.sk-container {\n",
       "  /* jupyter's `normalize.less` sets `[hidden] { display: none; }`\n",
       "     but bootstrap.min.css set `[hidden] { display: none !important; }`\n",
       "     so we also need the `!important` here to be able to override the\n",
       "     default hidden behavior on the sphinx rendered scikit-learn.org.\n",
       "     See: https://github.com/scikit-learn/scikit-learn/issues/21755 */\n",
       "  display: inline-block !important;\n",
       "  position: relative;\n",
       "}\n",
       "\n",
       "#sk-container-id-1 div.sk-text-repr-fallback {\n",
       "  display: none;\n",
       "}\n",
       "\n",
       "div.sk-parallel-item,\n",
       "div.sk-serial,\n",
       "div.sk-item {\n",
       "  /* draw centered vertical line to link estimators */\n",
       "  background-image: linear-gradient(var(--sklearn-color-text-on-default-background), var(--sklearn-color-text-on-default-background));\n",
       "  background-size: 2px 100%;\n",
       "  background-repeat: no-repeat;\n",
       "  background-position: center center;\n",
       "}\n",
       "\n",
       "/* Parallel-specific style estimator block */\n",
       "\n",
       "#sk-container-id-1 div.sk-parallel-item::after {\n",
       "  content: \"\";\n",
       "  width: 100%;\n",
       "  border-bottom: 2px solid var(--sklearn-color-text-on-default-background);\n",
       "  flex-grow: 1;\n",
       "}\n",
       "\n",
       "#sk-container-id-1 div.sk-parallel {\n",
       "  display: flex;\n",
       "  align-items: stretch;\n",
       "  justify-content: center;\n",
       "  background-color: var(--sklearn-color-background);\n",
       "  position: relative;\n",
       "}\n",
       "\n",
       "#sk-container-id-1 div.sk-parallel-item {\n",
       "  display: flex;\n",
       "  flex-direction: column;\n",
       "}\n",
       "\n",
       "#sk-container-id-1 div.sk-parallel-item:first-child::after {\n",
       "  align-self: flex-end;\n",
       "  width: 50%;\n",
       "}\n",
       "\n",
       "#sk-container-id-1 div.sk-parallel-item:last-child::after {\n",
       "  align-self: flex-start;\n",
       "  width: 50%;\n",
       "}\n",
       "\n",
       "#sk-container-id-1 div.sk-parallel-item:only-child::after {\n",
       "  width: 0;\n",
       "}\n",
       "\n",
       "/* Serial-specific style estimator block */\n",
       "\n",
       "#sk-container-id-1 div.sk-serial {\n",
       "  display: flex;\n",
       "  flex-direction: column;\n",
       "  align-items: center;\n",
       "  background-color: var(--sklearn-color-background);\n",
       "  padding-right: 1em;\n",
       "  padding-left: 1em;\n",
       "}\n",
       "\n",
       "\n",
       "/* Toggleable style: style used for estimator/Pipeline/ColumnTransformer box that is\n",
       "clickable and can be expanded/collapsed.\n",
       "- Pipeline and ColumnTransformer use this feature and define the default style\n",
       "- Estimators will overwrite some part of the style using the `sk-estimator` class\n",
       "*/\n",
       "\n",
       "/* Pipeline and ColumnTransformer style (default) */\n",
       "\n",
       "#sk-container-id-1 div.sk-toggleable {\n",
       "  /* Default theme specific background. It is overwritten whether we have a\n",
       "  specific estimator or a Pipeline/ColumnTransformer */\n",
       "  background-color: var(--sklearn-color-background);\n",
       "}\n",
       "\n",
       "/* Toggleable label */\n",
       "#sk-container-id-1 label.sk-toggleable__label {\n",
       "  cursor: pointer;\n",
       "  display: block;\n",
       "  width: 100%;\n",
       "  margin-bottom: 0;\n",
       "  padding: 0.5em;\n",
       "  box-sizing: border-box;\n",
       "  text-align: center;\n",
       "}\n",
       "\n",
       "#sk-container-id-1 label.sk-toggleable__label-arrow:before {\n",
       "  /* Arrow on the left of the label */\n",
       "  content: \"▸\";\n",
       "  float: left;\n",
       "  margin-right: 0.25em;\n",
       "  color: var(--sklearn-color-icon);\n",
       "}\n",
       "\n",
       "#sk-container-id-1 label.sk-toggleable__label-arrow:hover:before {\n",
       "  color: var(--sklearn-color-text);\n",
       "}\n",
       "\n",
       "/* Toggleable content - dropdown */\n",
       "\n",
       "#sk-container-id-1 div.sk-toggleable__content {\n",
       "  max-height: 0;\n",
       "  max-width: 0;\n",
       "  overflow: hidden;\n",
       "  text-align: left;\n",
       "  /* unfitted */\n",
       "  background-color: var(--sklearn-color-unfitted-level-0);\n",
       "}\n",
       "\n",
       "#sk-container-id-1 div.sk-toggleable__content.fitted {\n",
       "  /* fitted */\n",
       "  background-color: var(--sklearn-color-fitted-level-0);\n",
       "}\n",
       "\n",
       "#sk-container-id-1 div.sk-toggleable__content pre {\n",
       "  margin: 0.2em;\n",
       "  border-radius: 0.25em;\n",
       "  color: var(--sklearn-color-text);\n",
       "  /* unfitted */\n",
       "  background-color: var(--sklearn-color-unfitted-level-0);\n",
       "}\n",
       "\n",
       "#sk-container-id-1 div.sk-toggleable__content.fitted pre {\n",
       "  /* unfitted */\n",
       "  background-color: var(--sklearn-color-fitted-level-0);\n",
       "}\n",
       "\n",
       "#sk-container-id-1 input.sk-toggleable__control:checked~div.sk-toggleable__content {\n",
       "  /* Expand drop-down */\n",
       "  max-height: 200px;\n",
       "  max-width: 100%;\n",
       "  overflow: auto;\n",
       "}\n",
       "\n",
       "#sk-container-id-1 input.sk-toggleable__control:checked~label.sk-toggleable__label-arrow:before {\n",
       "  content: \"▾\";\n",
       "}\n",
       "\n",
       "/* Pipeline/ColumnTransformer-specific style */\n",
       "\n",
       "#sk-container-id-1 div.sk-label input.sk-toggleable__control:checked~label.sk-toggleable__label {\n",
       "  color: var(--sklearn-color-text);\n",
       "  background-color: var(--sklearn-color-unfitted-level-2);\n",
       "}\n",
       "\n",
       "#sk-container-id-1 div.sk-label.fitted input.sk-toggleable__control:checked~label.sk-toggleable__label {\n",
       "  background-color: var(--sklearn-color-fitted-level-2);\n",
       "}\n",
       "\n",
       "/* Estimator-specific style */\n",
       "\n",
       "/* Colorize estimator box */\n",
       "#sk-container-id-1 div.sk-estimator input.sk-toggleable__control:checked~label.sk-toggleable__label {\n",
       "  /* unfitted */\n",
       "  background-color: var(--sklearn-color-unfitted-level-2);\n",
       "}\n",
       "\n",
       "#sk-container-id-1 div.sk-estimator.fitted input.sk-toggleable__control:checked~label.sk-toggleable__label {\n",
       "  /* fitted */\n",
       "  background-color: var(--sklearn-color-fitted-level-2);\n",
       "}\n",
       "\n",
       "#sk-container-id-1 div.sk-label label.sk-toggleable__label,\n",
       "#sk-container-id-1 div.sk-label label {\n",
       "  /* The background is the default theme color */\n",
       "  color: var(--sklearn-color-text-on-default-background);\n",
       "}\n",
       "\n",
       "/* On hover, darken the color of the background */\n",
       "#sk-container-id-1 div.sk-label:hover label.sk-toggleable__label {\n",
       "  color: var(--sklearn-color-text);\n",
       "  background-color: var(--sklearn-color-unfitted-level-2);\n",
       "}\n",
       "\n",
       "/* Label box, darken color on hover, fitted */\n",
       "#sk-container-id-1 div.sk-label.fitted:hover label.sk-toggleable__label.fitted {\n",
       "  color: var(--sklearn-color-text);\n",
       "  background-color: var(--sklearn-color-fitted-level-2);\n",
       "}\n",
       "\n",
       "/* Estimator label */\n",
       "\n",
       "#sk-container-id-1 div.sk-label label {\n",
       "  font-family: monospace;\n",
       "  font-weight: bold;\n",
       "  display: inline-block;\n",
       "  line-height: 1.2em;\n",
       "}\n",
       "\n",
       "#sk-container-id-1 div.sk-label-container {\n",
       "  text-align: center;\n",
       "}\n",
       "\n",
       "/* Estimator-specific */\n",
       "#sk-container-id-1 div.sk-estimator {\n",
       "  font-family: monospace;\n",
       "  border: 1px dotted var(--sklearn-color-border-box);\n",
       "  border-radius: 0.25em;\n",
       "  box-sizing: border-box;\n",
       "  margin-bottom: 0.5em;\n",
       "  /* unfitted */\n",
       "  background-color: var(--sklearn-color-unfitted-level-0);\n",
       "}\n",
       "\n",
       "#sk-container-id-1 div.sk-estimator.fitted {\n",
       "  /* fitted */\n",
       "  background-color: var(--sklearn-color-fitted-level-0);\n",
       "}\n",
       "\n",
       "/* on hover */\n",
       "#sk-container-id-1 div.sk-estimator:hover {\n",
       "  /* unfitted */\n",
       "  background-color: var(--sklearn-color-unfitted-level-2);\n",
       "}\n",
       "\n",
       "#sk-container-id-1 div.sk-estimator.fitted:hover {\n",
       "  /* fitted */\n",
       "  background-color: var(--sklearn-color-fitted-level-2);\n",
       "}\n",
       "\n",
       "/* Specification for estimator info (e.g. \"i\" and \"?\") */\n",
       "\n",
       "/* Common style for \"i\" and \"?\" */\n",
       "\n",
       ".sk-estimator-doc-link,\n",
       "a:link.sk-estimator-doc-link,\n",
       "a:visited.sk-estimator-doc-link {\n",
       "  float: right;\n",
       "  font-size: smaller;\n",
       "  line-height: 1em;\n",
       "  font-family: monospace;\n",
       "  background-color: var(--sklearn-color-background);\n",
       "  border-radius: 1em;\n",
       "  height: 1em;\n",
       "  width: 1em;\n",
       "  text-decoration: none !important;\n",
       "  margin-left: 1ex;\n",
       "  /* unfitted */\n",
       "  border: var(--sklearn-color-unfitted-level-1) 1pt solid;\n",
       "  color: var(--sklearn-color-unfitted-level-1);\n",
       "}\n",
       "\n",
       ".sk-estimator-doc-link.fitted,\n",
       "a:link.sk-estimator-doc-link.fitted,\n",
       "a:visited.sk-estimator-doc-link.fitted {\n",
       "  /* fitted */\n",
       "  border: var(--sklearn-color-fitted-level-1) 1pt solid;\n",
       "  color: var(--sklearn-color-fitted-level-1);\n",
       "}\n",
       "\n",
       "/* On hover */\n",
       "div.sk-estimator:hover .sk-estimator-doc-link:hover,\n",
       ".sk-estimator-doc-link:hover,\n",
       "div.sk-label-container:hover .sk-estimator-doc-link:hover,\n",
       ".sk-estimator-doc-link:hover {\n",
       "  /* unfitted */\n",
       "  background-color: var(--sklearn-color-unfitted-level-3);\n",
       "  color: var(--sklearn-color-background);\n",
       "  text-decoration: none;\n",
       "}\n",
       "\n",
       "div.sk-estimator.fitted:hover .sk-estimator-doc-link.fitted:hover,\n",
       ".sk-estimator-doc-link.fitted:hover,\n",
       "div.sk-label-container:hover .sk-estimator-doc-link.fitted:hover,\n",
       ".sk-estimator-doc-link.fitted:hover {\n",
       "  /* fitted */\n",
       "  background-color: var(--sklearn-color-fitted-level-3);\n",
       "  color: var(--sklearn-color-background);\n",
       "  text-decoration: none;\n",
       "}\n",
       "\n",
       "/* Span, style for the box shown on hovering the info icon */\n",
       ".sk-estimator-doc-link span {\n",
       "  display: none;\n",
       "  z-index: 9999;\n",
       "  position: relative;\n",
       "  font-weight: normal;\n",
       "  right: .2ex;\n",
       "  padding: .5ex;\n",
       "  margin: .5ex;\n",
       "  width: min-content;\n",
       "  min-width: 20ex;\n",
       "  max-width: 50ex;\n",
       "  color: var(--sklearn-color-text);\n",
       "  box-shadow: 2pt 2pt 4pt #999;\n",
       "  /* unfitted */\n",
       "  background: var(--sklearn-color-unfitted-level-0);\n",
       "  border: .5pt solid var(--sklearn-color-unfitted-level-3);\n",
       "}\n",
       "\n",
       ".sk-estimator-doc-link.fitted span {\n",
       "  /* fitted */\n",
       "  background: var(--sklearn-color-fitted-level-0);\n",
       "  border: var(--sklearn-color-fitted-level-3);\n",
       "}\n",
       "\n",
       ".sk-estimator-doc-link:hover span {\n",
       "  display: block;\n",
       "}\n",
       "\n",
       "/* \"?\"-specific style due to the `<a>` HTML tag */\n",
       "\n",
       "#sk-container-id-1 a.estimator_doc_link {\n",
       "  float: right;\n",
       "  font-size: 1rem;\n",
       "  line-height: 1em;\n",
       "  font-family: monospace;\n",
       "  background-color: var(--sklearn-color-background);\n",
       "  border-radius: 1rem;\n",
       "  height: 1rem;\n",
       "  width: 1rem;\n",
       "  text-decoration: none;\n",
       "  /* unfitted */\n",
       "  color: var(--sklearn-color-unfitted-level-1);\n",
       "  border: var(--sklearn-color-unfitted-level-1) 1pt solid;\n",
       "}\n",
       "\n",
       "#sk-container-id-1 a.estimator_doc_link.fitted {\n",
       "  /* fitted */\n",
       "  border: var(--sklearn-color-fitted-level-1) 1pt solid;\n",
       "  color: var(--sklearn-color-fitted-level-1);\n",
       "}\n",
       "\n",
       "/* On hover */\n",
       "#sk-container-id-1 a.estimator_doc_link:hover {\n",
       "  /* unfitted */\n",
       "  background-color: var(--sklearn-color-unfitted-level-3);\n",
       "  color: var(--sklearn-color-background);\n",
       "  text-decoration: none;\n",
       "}\n",
       "\n",
       "#sk-container-id-1 a.estimator_doc_link.fitted:hover {\n",
       "  /* fitted */\n",
       "  background-color: var(--sklearn-color-fitted-level-3);\n",
       "}\n",
       "</style><div id=\"sk-container-id-1\" class=\"sk-top-container\"><div class=\"sk-text-repr-fallback\"><pre>RandomForestClassifier(max_depth=100, random_state=7)</pre><b>In a Jupyter environment, please rerun this cell to show the HTML representation or trust the notebook. <br />On GitHub, the HTML representation is unable to render, please try loading this page with nbviewer.org.</b></div><div class=\"sk-container\" hidden><div class=\"sk-item\"><div class=\"sk-estimator fitted sk-toggleable\"><input class=\"sk-toggleable__control sk-hidden--visually\" id=\"sk-estimator-id-1\" type=\"checkbox\" checked><label for=\"sk-estimator-id-1\" class=\"sk-toggleable__label fitted sk-toggleable__label-arrow fitted\">&nbsp;&nbsp;RandomForestClassifier<a class=\"sk-estimator-doc-link fitted\" rel=\"noreferrer\" target=\"_blank\" href=\"https://scikit-learn.org/1.5/modules/generated/sklearn.ensemble.RandomForestClassifier.html\">?<span>Documentation for RandomForestClassifier</span></a><span class=\"sk-estimator-doc-link fitted\">i<span>Fitted</span></span></label><div class=\"sk-toggleable__content fitted\"><pre>RandomForestClassifier(max_depth=100, random_state=7)</pre></div> </div></div></div></div>"
      ],
      "text/plain": [
       "RandomForestClassifier(max_depth=100, random_state=7)"
      ]
     },
     "execution_count": 19,
     "metadata": {},
     "output_type": "execute_result"
    }
   ],
   "source": [
    "RF_X_Train = feature_extraction\n",
    "RF_Model = RandomForestClassifier(n_estimators=100, min_samples_leaf=1, min_samples_split=2, max_depth=100,\n",
    "                                 max_features='sqrt', random_state=7)\n",
    "RF_Model.fit(RF_X_Train, y_train)"
   ]
  },
  {
   "cell_type": "code",
   "execution_count": 20,
   "id": "2b2e593d",
   "metadata": {},
   "outputs": [
    {
     "name": "stdout",
     "output_type": "stream",
     "text": [
      "4/4 [==============================] - 1s 168ms/step\n",
      "              precision    recall  f1-score   support\n",
      "\n",
      "           0       1.00      0.83      0.91        12\n",
      "           1       1.00      1.00      1.00        56\n",
      "           2       0.95      1.00      0.98        41\n",
      "\n",
      "    accuracy                           0.98       109\n",
      "   macro avg       0.98      0.94      0.96       109\n",
      "weighted avg       0.98      0.98      0.98       109\n",
      "\n"
     ]
    }
   ],
   "source": [
    "# Extract features from test data\n",
    "RF_X_Test = model_feat.predict(X_test)\n",
    "# Make predictions on test data\n",
    "RF_Y_Pred = RF_Model.predict(RF_X_Test)\n",
    "# Evaluate Performace\n",
    "print(classification_report(y_test, RF_Y_Pred))"
   ]
  },
  {
   "cell_type": "code",
   "execution_count": 21,
   "id": "7b5355de",
   "metadata": {},
   "outputs": [
    {
     "data": {
      "image/png": "[encoded data removed]",
      "text/plain": [
       "<Figure size 640x480 with 2 Axes>"
      ]
     },
     "metadata": {},
     "output_type": "display_data"
    }
   ],
   "source": [
    "cm = metrics.confusion_matrix(y_test, RF_Y_Pred)\n",
    "cm_display = metrics.ConfusionMatrixDisplay(confusion_matrix = cm, display_labels = {'Benign case':0, 'Malignant case':1, 'Normal case':2})\n",
    "\n",
    "cm_display.plot()\n",
    "plt.title(\"Custom_CNN-RF Model\")\n",
    "plt.show()"
   ]
  },
  {
   "cell_type": "code",
   "execution_count": 22,
   "id": "03f76b9c",
   "metadata": {},
   "outputs": [
    {
     "name": "stdout",
     "output_type": "stream",
     "text": [
      "WARNING:tensorflow:Compiled the loaded model, but the compiled metrics have yet to be built. `model.compile_metrics` will be empty until you train or evaluate the model.\n"
     ]
    },
    {
     "data": {
      "text/plain": [
       "['Models/RF_Model.pkl']"
      ]
     },
     "execution_count": 22,
     "metadata": {},
     "output_type": "execute_result"
    }
   ],
   "source": [
    "# Save the Model \n",
    "model_feat.save(\"Models/CNN-RF-Model.h5\")\n",
    "joblib.dump(RF_Model, \"Models/RF_Model.pkl\")"
   ]
  },
  {
   "cell_type": "code",
   "execution_count": null,
   "id": "4525145e",
   "metadata": {},
   "outputs": [],
   "source": []
  }
 ],
 "metadata": {
  "kernelspec": {
   "display_name": "Python 3 (ipykernel)",
   "language": "python",
   "name": "python3"
  },
  "language_info": {
   "codemirror_mode": {
    "name": "ipython",
    "version": 3
   },
   "file_extension": ".py",
   "mimetype": "text/x-python",
   "name": "python",
   "nbconvert_exporter": "python",
   "pygments_lexer": "ipython3",
   "version": "3.10.9"
  }
 },
 "nbformat": 4,
 "nbformat_minor": 5
}
