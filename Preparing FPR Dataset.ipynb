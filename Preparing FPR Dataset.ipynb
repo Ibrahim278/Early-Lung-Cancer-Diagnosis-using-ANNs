{
 "cells": [
  {
   "cell_type": "code",
   "execution_count": 2,
   "id": "1d858741",
   "metadata": {},
   "outputs": [],
   "source": [
    "import random\n",
    "import os\n",
    "import shutil\n",
    "from tqdm import tqdm"
   ]
  },
  {
   "cell_type": "code",
   "execution_count": 4,
   "id": "a5740be1",
   "metadata": {},
   "outputs": [],
   "source": [
    "root = \"Luna16/FPR_Processed/non-nodule-initial/\"\n",
    "target = \"Luna16/FPR_Processed/non-nodule/\""
   ]
  },
  {
   "cell_type": "code",
   "execution_count": 6,
   "id": "9a0ca678",
   "metadata": {},
   "outputs": [],
   "source": [
    "file_list = os.listdir(root)\n",
    "non_nodule = os.listdir(target)"
   ]
  },
  {
   "cell_type": "code",
   "execution_count": 8,
   "id": "149aa973",
   "metadata": {},
   "outputs": [
    {
     "data": {
      "text/plain": [
       "52402"
      ]
     },
     "execution_count": 8,
     "metadata": {},
     "output_type": "execute_result"
    }
   ],
   "source": [
    "len(file_list)"
   ]
  },
  {
   "cell_type": "code",
   "execution_count": 9,
   "id": "a190c0cc",
   "metadata": {},
   "outputs": [
    {
     "data": {
      "text/plain": [
       "['candidate_6_0_133589.jpg',\n",
       " 'candidate_6_0_64474.jpg',\n",
       " 'candidate_6_0_13824.jpg',\n",
       " 'candidate_6_0_453920.jpg',\n",
       " 'candidate_6_0_90293.jpg',\n",
       " 'candidate_6_0_32632.jpg',\n",
       " 'candidate_6_0_434763.jpg',\n",
       " 'candidate_6_0_122484.jpg',\n",
       " 'candidate_6_0_144701.jpg',\n",
       " 'candidate_6_0_123942.jpg']"
      ]
     },
     "execution_count": 9,
     "metadata": {},
     "output_type": "execute_result"
    }
   ],
   "source": [
    "file_list[:10]"
   ]
  },
  {
   "cell_type": "code",
   "execution_count": 10,
   "id": "f076b98a",
   "metadata": {},
   "outputs": [],
   "source": [
    "random.shuffle(file_list)"
   ]
  },
  {
   "cell_type": "code",
   "execution_count": 11,
   "id": "1fb0a672",
   "metadata": {},
   "outputs": [
    {
     "data": {
      "text/plain": [
       "['candidate_6_0_133649.jpg',\n",
       " 'candidate_6_0_484759.jpg',\n",
       " 'candidate_6_0_480864.jpg',\n",
       " 'candidate_6_0_280804.jpg',\n",
       " 'candidate_6_0_12588.jpg',\n",
       " 'candidate_6_0_259338.jpg',\n",
       " 'candidate_6_0_34708.jpg',\n",
       " 'candidate_6_0_451335.jpg',\n",
       " 'candidate_6_0_145203.jpg',\n",
       " 'candidate_6_0_437575.jpg']"
      ]
     },
     "execution_count": 11,
     "metadata": {},
     "output_type": "execute_result"
    }
   ],
   "source": [
    "file_list[:10]"
   ]
  },
  {
   "cell_type": "code",
   "execution_count": 16,
   "id": "69e33ff8",
   "metadata": {},
   "outputs": [],
   "source": [
    "nodule_files = os.listdir(\"Luna16/FPR_Processed/nodule/\")\n",
    "non_nodule_files = os.listdir(\"Luna16/FPR_Processed/non-nodule-initial/\")"
   ]
  },
  {
   "cell_type": "code",
   "execution_count": 17,
   "id": "689a7ec4",
   "metadata": {},
   "outputs": [],
   "source": [
    "random.shuffle(nodule_files)\n",
    "random.shuffle(non_nodule_files)"
   ]
  },
  {
   "cell_type": "code",
   "execution_count": 21,
   "id": "695ebb53",
   "metadata": {},
   "outputs": [],
   "source": [
    "n = len(nodule_files)\n",
    "split = int(0.75*n)\n",
    "\n",
    "# Copy 75% of the files into the training folder\n",
    "for i in nodule_files[:split]:\n",
    "    shutil.copy(f\"Luna16/FPR_Processed/nodule/{i}\", f\"Luna16/FPR_Processed/FPRDataset/train/nodule/{i}\")\n",
    "\n",
    "# Copy the remaining 25% of the files into the testing folder\n",
    "for i in nodule_files[split:]:\n",
    "    shutil.copy(f\"Luna16/FPR_Processed/nodule/{i}\", f\"Luna16/FPR_Processed/FPRDataset/test/nodule/{i}\")"
   ]
  },
  {
   "cell_type": "code",
   "execution_count": 23,
   "id": "452cfa5e",
   "metadata": {},
   "outputs": [],
   "source": [
    "n = len(non_nodule_files)\n",
    "split = int(0.75*n)\n",
    "for i in non_nodule_files[:split]:\n",
    "    shutil.copy(f\"Luna16/FPR_Processed/non-nodule-initial/{i}\", f\"Luna16/FPR_Processed/FPRDataset/train/non-nodule/{i}\")\n",
    "for i in non_nodule_files[split:]:\n",
    "    shutil.copy(f\"Luna16/FPR_Processed/non-nodule-initial/{i}\", f\"Luna16/FPR_Processed/FPRDataset/test/non-nodule/{i}\")"
   ]
  },
  {
   "cell_type": "code",
   "execution_count": null,
   "id": "d20a781e",
   "metadata": {},
   "outputs": [],
   "source": []
  }
 ],
 "metadata": {
  "kernelspec": {
   "display_name": "Python 3 (ipykernel)",
   "language": "python",
   "name": "python3"
  },
  "language_info": {
   "codemirror_mode": {
    "name": "ipython",
    "version": 3
   },
   "file_extension": ".py",
   "mimetype": "text/x-python",
   "name": "python",
   "nbconvert_exporter": "python",
   "pygments_lexer": "ipython3",
   "version": "3.10.9"
  }
 },
 "nbformat": 4,
 "nbformat_minor": 5
}
